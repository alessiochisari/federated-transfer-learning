{
  "nbformat": 4,
  "nbformat_minor": 0,
  "metadata": {
    "accelerator": "GPU",
    "colab": {
      "name": "3 VALERIO PT3 SHARED CLASSIFIER MULTICLASS.ipynb",
      "provenance": [],
      "collapsed_sections": []
    },
    "kernelspec": {
      "display_name": "Python 3",
      "name": "python3"
    },
    "language_info": {
      "name": "python"
    }
  },
  "cells": [
    {
      "cell_type": "code",
      "metadata": {
        "id": "UCnEwKqXbEuF"
      },
      "source": [
        "from torch import nn\n",
        "from collections import OrderedDict\n",
        "import torch.nn.functional as F\n",
        "import torch\n",
        "from torch.utils.data import DataLoader\n",
        "import torchvision\n",
        "import random\n",
        "from torch.utils.data import Subset\n",
        "from matplotlib import pyplot as plt\n",
        "from torchsummary import summary\n",
        "from torchvision import transforms\n",
        "import progressbar as pb\n",
        "import numpy as np"
      ],
      "execution_count": null,
      "outputs": []
    },
    {
      "cell_type": "code",
      "metadata": {
        "id": "NsmTAzcudX01"
      },
      "source": [
        "SUM = lambda x,y : x+y"
      ],
      "execution_count": null,
      "outputs": []
    },
    {
      "cell_type": "code",
      "metadata": {
        "id": "__9hu3JkdUma"
      },
      "source": [
        "def check_equity(property,a,b):\n",
        "    pa = getattr(a,property)\n",
        "    pb = getattr(b,property)\n",
        "    assert  pa==pb, \"Different {}: {}!={}\".format(property,pa,pb)\n",
        "\n",
        "    return pa"
      ],
      "execution_count": null,
      "outputs": []
    },
    {
      "cell_type": "code",
      "metadata": {
        "id": "_dmaEbq1dO54"
      },
      "source": [
        "def module_unwrap(mod:nn.Module,recursive=False):\n",
        "    children = OrderedDict()\n",
        "    try:\n",
        "        for name, module in mod.named_children():\n",
        "            if (recursive):\n",
        "                recursive_call = module_unwrap(module,recursive=True)\n",
        "                if (len(recursive_call)>0):\n",
        "                    for k,v in recursive_call.items():\n",
        "                        children[name+\"_\"+k] = v\n",
        "                else:\n",
        "                    children[name] = module\n",
        "            else:\n",
        "                children[name] = module\n",
        "    except AttributeError:\n",
        "        pass\n",
        "\n",
        "    return children"
      ],
      "execution_count": null,
      "outputs": []
    },
    {
      "cell_type": "code",
      "metadata": {
        "id": "jvbILdHidK6b"
      },
      "source": [
        "class VGGBlock(nn.Module):\n",
        "    def __init__(self, in_channels, out_channels,batch_norm=False):\n",
        "\n",
        "        super().__init__()\n",
        "\n",
        "        conv2_params = {'kernel_size': (3, 3),\n",
        "                        'stride'     : (1, 1),\n",
        "                        'padding'   : 1\n",
        "                        }\n",
        "\n",
        "        noop = lambda x : x\n",
        "\n",
        "        self._batch_norm = batch_norm\n",
        "\n",
        "        self.conv1 = nn.Conv2d(in_channels=in_channels,out_channels=out_channels , **conv2_params)\n",
        "        #self.bn1 = nn.BatchNorm2d(out_channels) if batch_norm else noop\n",
        "        self.bn1 = nn.GroupNorm(32, out_channels) if batch_norm else noop\n",
        "\n",
        "        self.conv2 = nn.Conv2d(in_channels=out_channels,out_channels=out_channels, **conv2_params)\n",
        "        #self.bn2 = nn.BatchNorm2d(out_channels) if batch_norm else noop\n",
        "        self.bn2 = nn.GroupNorm(32, out_channels) if batch_norm else noop\n",
        "\n",
        "        self.max_pooling = nn.MaxPool2d(kernel_size=(2, 2), stride=(2, 2))\n",
        "\n",
        "    @property\n",
        "    def batch_norm(self):\n",
        "        return self._batch_norm\n",
        "\n",
        "    def forward(self,x):\n",
        "        x = self.conv1(x)\n",
        "        x = self.bn1(x)\n",
        "        x = F.relu(x)\n",
        "\n",
        "        x = self.conv2(x)\n",
        "        x = self.bn2(x)\n",
        "        x = F.relu(x)\n",
        "\n",
        "        x = self.max_pooling(x)\n",
        "\n",
        "        return x"
      ],
      "execution_count": null,
      "outputs": []
    },
    {
      "cell_type": "code",
      "metadata": {
        "id": "k4wZypnxbczs"
      },
      "source": [
        "class Classifier(nn.Module):\n",
        "\n",
        "    def __init__(self,num_classes=10):\n",
        "        super().__init__()\n",
        "\n",
        "        self.classifier = nn.Sequential(\n",
        "            nn.Linear(2048, 2048),\n",
        "            nn.ReLU(True),\n",
        "            nn.Dropout(p=0.5),\n",
        "            nn.Linear(2048, 512),\n",
        "            nn.ReLU(True),\n",
        "            nn.Dropout(p=0.5),\n",
        "            nn.Linear(512, num_classes)\n",
        "        )\n",
        "\n",
        "    def forward(self,x):\n",
        "\n",
        "        return self.classifier(x)"
      ],
      "execution_count": null,
      "outputs": []
    },
    {
      "cell_type": "code",
      "metadata": {
        "id": "6_XOTpHHbZOU"
      },
      "source": [
        "class VGG16(nn.Module):\n",
        "\n",
        "  def __init__(self, input_size, batch_norm=False):\n",
        "    super(VGG16, self).__init__()\n",
        "\n",
        "    self.in_channels,self.in_width,self.in_height = input_size\n",
        "\n",
        "    self.block_1 = VGGBlock(self.in_channels,64,batch_norm=batch_norm)\n",
        "    self.block_2 = VGGBlock(64, 128,batch_norm=batch_norm)\n",
        "    self.block_3 = VGGBlock(128, 256,batch_norm=batch_norm)\n",
        "    self.block_4 = VGGBlock(256,512,batch_norm=batch_norm)\n",
        "\n",
        "\n",
        "  @property\n",
        "  def input_size(self):\n",
        "      return self.in_channels,self.in_width,self.in_height\n",
        "\n",
        "  def forward(self, x):\n",
        "\n",
        "    x = self.block_1(x)\n",
        "    x = self.block_2(x)\n",
        "    x = self.block_3(x)\n",
        "    x = self.block_4(x)\n",
        "    # x = self.avgpool(x)\n",
        "    x = torch.flatten(x,1)\n",
        "\n",
        "    return x"
      ],
      "execution_count": null,
      "outputs": []
    },
    {
      "cell_type": "code",
      "metadata": {
        "id": "4h0BLCSfbUI1"
      },
      "source": [
        "class CombinedLoss(nn.Module):\n",
        "    def __init__(self, loss_a, loss_b, loss_combo, _lambda=1.0):\n",
        "        super().__init__()\n",
        "        self.loss_a = loss_a\n",
        "        self.loss_b = loss_b\n",
        "        self.loss_combo = loss_combo\n",
        "\n",
        "        self.register_buffer('_lambda',torch.tensor(float(_lambda),dtype=torch.float32))\n",
        "\n",
        "\n",
        "    def forward(self,y_hat,y):\n",
        "\n",
        "        return self.loss_a(y_hat[0],y[0]) + self.loss_b(y_hat[1],y[1]) + self._lambda * self.loss_combo(y_hat[2],torch.cat(y,0))"
      ],
      "execution_count": null,
      "outputs": []
    },
    {
      "cell_type": "markdown",
      "metadata": {
        "id": "ihl5WS4mftpp"
      },
      "source": [
        "----------------------------------------------------------------------"
      ]
    },
    {
      "cell_type": "code",
      "metadata": {
        "id": "wx0fr4tneCwh"
      },
      "source": [
        "DO='TRAIN'"
      ],
      "execution_count": null,
      "outputs": []
    },
    {
      "cell_type": "code",
      "metadata": {
        "id": "aoTgU1HIfqHc"
      },
      "source": [
        "random.seed(47)"
      ],
      "execution_count": null,
      "outputs": []
    },
    {
      "cell_type": "code",
      "metadata": {
        "id": "LIXMqkSMfpBZ"
      },
      "source": [
        "combo_fn = SUM"
      ],
      "execution_count": null,
      "outputs": []
    },
    {
      "cell_type": "code",
      "metadata": {
        "id": "k1gqpu8ifniL"
      },
      "source": [
        "lambda_reg = 1"
      ],
      "execution_count": null,
      "outputs": []
    },
    {
      "cell_type": "code",
      "metadata": {
        "id": "wWiTuCN1fN0g"
      },
      "source": [
        "def test(net,classifier, loader):\n",
        "\n",
        "      net.to(dev)\n",
        "      classifier.to(dev)\n",
        "\n",
        "      net.eval()\n",
        "\n",
        "      sum_accuracy = 0\n",
        "\n",
        "      # Process each batch\n",
        "      for j, (input, labels) in enumerate(loader):\n",
        "\n",
        "        input = input.to(dev)\n",
        "        labels = labels.float().to(dev)\n",
        "\n",
        "        features = net(input)\n",
        "\n",
        "        pred = torch.squeeze(classifier(features))\n",
        "\n",
        "        # https://discuss.pytorch.org/t/bcewithlogitsloss-and-model-accuracy-calculation/59293/ 2\n",
        "        #pred_labels = (pred >= 0.0).long()  # Binarize predictions to 0 and 1\n",
        "        _,pred_label = torch.max(pred, dim = 1)\n",
        "        pred_labels = (pred_label == labels).float()\n",
        "\n",
        "        batch_accuracy = pred_labels.sum().item() / len(labels)\n",
        "\n",
        "        # Update accuracy\n",
        "        sum_accuracy += batch_accuracy\n",
        "\n",
        "      epoch_accuracy = sum_accuracy / len(loader)\n",
        "      return epoch_accuracy\n",
        "      #print(f\"Accuracy test: {epoch_accuracy:0.5}\")"
      ],
      "execution_count": null,
      "outputs": []
    },
    {
      "cell_type": "code",
      "metadata": {
        "id": "Ofj6g7uffaaO"
      },
      "source": [
        "def train(nets, loaders, optimizer, criterion, epochs=20, dev=None, save_param=False, model_name=\"valerio\"):\n",
        "    # try:\n",
        "      nets = [n.to(dev) for n in nets]\n",
        "\n",
        "      model_a = module_unwrap(nets[0], True)\n",
        "      model_b = module_unwrap(nets[1], True)\n",
        "      model_c = module_unwrap(nets[2], True)\n",
        "\n",
        "      reg_loss = nn.MSELoss()\n",
        "\n",
        "      criterion.to(dev)\n",
        "      reg_loss.to(dev)\n",
        "\n",
        "      # Initialize history\n",
        "      history_loss = {\"train\": [], \"val\": [], \"test\": []}\n",
        "      history_accuracy = {\"train\": [], \"val\": [], \"test\": []}\n",
        "      history_test = []\n",
        "      # Store the best val accuracy\n",
        "      best_val_accuracy = 0\n",
        "\n",
        "      # Process each epoch\n",
        "      for epoch in range(epochs):\n",
        "        # Initialize epoch variables\n",
        "        sum_loss = {\"train\": 0, \"val\": 0, \"test\": 0}\n",
        "        sum_accuracy = {\"train\": [0,0,0], \"val\": [0,0,0], \"test\": [0,0,0]}\n",
        "\n",
        "        progbar = None\n",
        "        # Process each split\n",
        "        for split in [\"train\", \"val\", \"test\"]:\n",
        "          if split == \"train\":\n",
        "            for n in nets:\n",
        "              n.train()\n",
        "            widgets = [\n",
        "              ' [', pb.Timer(), '] ',\n",
        "              pb.Bar(),\n",
        "              ' [', pb.ETA(), '] ', pb.Variable('ta','[Train Acc: {formatted_value}]')\n",
        "            ]\n",
        "\n",
        "            progbar = pb.ProgressBar(max_value=len(loaders[split][0]),widgets=widgets,redirect_stdout=True)\n",
        "\n",
        "          else:\n",
        "            for n in nets:\n",
        "              n.eval()\n",
        "          # Process each batch\n",
        "          for j,((input_a, labels_a),(input_b, labels_b)) in enumerate(zip(loaders[split][0],loaders[split][1])):\n",
        "\n",
        "            input_a = input_a.to(dev)\n",
        "            input_b = input_b.to(dev)\n",
        "\n",
        "            labels_a = labels_a.long().to(dev)\n",
        "            labels_b = labels_b.long().to(dev)\n",
        "            #print(labels_a.shape)\n",
        "            #labels_a = labels_a.squeeze()\n",
        "            #labels_b = labels_b.squeeze()\n",
        "            \n",
        "            #labels_a = labels_a.unsqueeze(1)\n",
        "            #labels_b = labels_b.unsqueeze(1)\n",
        "            #print(labels_a.shape)\n",
        "            #labels_a = labels_a.argmax(-1)\n",
        "            #labels_b = labels_b.argmax(-1)\n",
        "\n",
        "            inputs = torch.cat([input_a,input_b],axis=0)\n",
        "            labels = torch.cat([labels_a, labels_b])\n",
        "\n",
        "            #labels  = labels.squeeze()\n",
        "            #print(labels.shape)\n",
        "            #labels = labels.argmax(-1)\n",
        "\n",
        "            # Reset gradients\n",
        "            optimizer.zero_grad()\n",
        "            # Compute output\n",
        "            features_a = nets[0](input_a)\n",
        "            features_b = nets[1](input_b)\n",
        "            features_c = nets[2](inputs)\n",
        "\n",
        "            pred_a = torch.squeeze(nets[3](features_a))\n",
        "            pred_b = torch.squeeze(nets[3](features_b))\n",
        "            pred_c = torch.squeeze(nets[3](features_c))\n",
        "\n",
        "            loss = criterion(pred_a, labels_a) + criterion(pred_b, labels_b) + criterion(pred_c, labels)\n",
        "\n",
        "            for n in model_a:\n",
        "              layer_a = model_a[n]\n",
        "              layer_b = model_b[n]\n",
        "              layer_c = model_c[n]\n",
        "              if (isinstance(layer_a,nn.Conv2d)):\n",
        "                loss += lambda_reg * reg_loss(combo_fn(layer_a.weight,layer_b.weight),layer_c.weight)\n",
        "                if (layer_a.bias is not None):\n",
        "                  loss += lambda_reg * reg_loss(combo_fn(layer_a.bias, layer_b.bias), layer_c.bias)\n",
        "\n",
        "            # Update loss\n",
        "            sum_loss[split] += loss.item()\n",
        "            # Check parameter update\n",
        "            if split == \"train\":\n",
        "              # Compute gradients\n",
        "              loss.backward()\n",
        "              # Optimize\n",
        "              optimizer.step()\n",
        "\n",
        "            # Compute accuracy\n",
        "\n",
        "            #https://discuss.pytorch.org/t/bcewithlogitsloss-and-model-accuracy-calculation/59293/ 2\n",
        "            #pred_labels_a = (pred_a >= 0.0).long()  # Binarize predictions to 0 and 1\n",
        "            #pred_labels_b = (pred_b >= 0.0).long()  # Binarize predictions to 0 and 1\n",
        "            #pred_labels_c = (pred_c >= 0.0).long()  # Binarize predictions to 0 and 1\n",
        "\n",
        "            #print(pred_a.shape)\n",
        "\n",
        "            _,pred_label_a = torch.max(pred_a, dim = 1)\n",
        "            pred_labels_a = (pred_label_a == labels_a).float()\n",
        "\n",
        "            _,pred_label_b = torch.max(pred_b, dim = 1)\n",
        "            pred_labels_b = (pred_label_b == labels_b).float()\n",
        "\n",
        "            _,pred_label_c = torch.max(pred_c, dim = 1)\n",
        "            pred_labels_c = (pred_label_c == labels).float()\n",
        "\n",
        "            batch_accuracy_a = pred_labels_a.sum().item() / len(labels_a)\n",
        "            batch_accuracy_b = pred_labels_b.sum().item() / len(labels_b)\n",
        "            batch_accuracy_c = pred_labels_c.sum().item() / len(labels)\n",
        "\n",
        "            # Update accuracy\n",
        "            sum_accuracy[split][0] += batch_accuracy_a\n",
        "            sum_accuracy[split][1] += batch_accuracy_b\n",
        "            sum_accuracy[split][2] += batch_accuracy_c\n",
        "\n",
        "\n",
        "            if (split=='train'):\n",
        "              progbar.update(j, ta=batch_accuracy_c)\n",
        "\n",
        "        if (progbar is not None):\n",
        "          progbar.finish()\n",
        "        # Compute epoch loss/accuracy\n",
        "        epoch_loss = {split: sum_loss[split] / len(loaders[split][0]) for split in [\"train\", \"val\", \"test\"]}\n",
        "        epoch_accuracy = {split: [sum_accuracy[split][i] / len(loaders[split][0]) for i in range(len(sum_accuracy[split])) ] for split in [\"train\", \"val\", \"test\"]}\n",
        "\n",
        "        # # Store params at the best validation accuracy\n",
        "        # if save_param and epoch_accuracy[\"val\"] > best_val_accuracy:\n",
        "        #   # torch.save(net.state_dict(), f\"{net.__class__.__name__}_best_val.pth\")\n",
        "        #   torch.save(net.state_dict(), f\"{model_name}_best_val.pth\")\n",
        "        #   best_val_accuracy = epoch_accuracy[\"val\"]\n",
        "\n",
        "        print(f\"Epoch {epoch + 1}:\")\n",
        "        # Update history\n",
        "        for split in [\"train\", \"val\", \"test\"]:\n",
        "          history_loss[split].append(epoch_loss[split])\n",
        "          history_accuracy[split].append(epoch_accuracy[split])\n",
        "          # Print info\n",
        "          print(f\"\\t{split}\\tLoss: {epoch_loss[split]:0.5}\\tVGG 1:{epoch_accuracy[split][0]:0.5}\"\n",
        "                f\"\\tVGG 2:{epoch_accuracy[split][1]:0.5}\\tVGG *:{epoch_accuracy[split][2]:0.5}\")\n",
        "\n",
        "        if save_param:\n",
        "          torch.save({'vgg_a':nets[0].state_dict(),'vgg_b':nets[1].state_dict(),'vgg_star':nets[2].state_dict(),'classifier':nets[3].state_dict()},f'{model_name}.pth')\n",
        "\n",
        "\n",
        "        \n",
        "        print(f\"Accuracy test VGGA: {test(nets[0], nets[3], test_loader_all):0.5}\")\n",
        "        print(f\"Accuracy test VGGB: {test(nets[1], nets[3], test_loader_all):0.5}\")\n",
        "        print(f\"Accuracy test VGG*: {test(nets[2], nets[3], test_loader_all):0.5}\")\n",
        " \n",
        "        summed_state_dict = OrderedDict()\n",
        " \n",
        "        for key in nets[2].state_dict():\n",
        "          if key.find('conv') >=0:\n",
        "            #print(key)\n",
        "            summed_state_dict[key] = combo_fn(nets[0].state_dict()[key],nets[1].state_dict()[key])\n",
        "          else:\n",
        "            summed_state_dict[key] = nets[2].state_dict()[key]\n",
        " \n",
        "        nets[2].load_state_dict(summed_state_dict)\n",
        "        accuracy_star = test(nets[2], nets[3], test_loader_all)\n",
        "        print(f\"Accuracy test VGGSTAR: {accuracy_star:0.5}\")\n",
        "        history_test.append(accuracy_star)\n",
        "\n",
        "\n",
        "      # Plot accuracy\n",
        "      plt.title(\"Accuracy VGGSTAR over epochs\")\n",
        "      plt.plot(history_test)\n",
        "      #plt.legend()\n",
        "      plt.show()\n"
      ],
      "execution_count": null,
      "outputs": []
    },
    {
      "cell_type": "code",
      "metadata": {
        "id": "7iwwrQD3e5sL"
      },
      "source": [
        "root_dir = './'"
      ],
      "execution_count": null,
      "outputs": []
    },
    {
      "cell_type": "code",
      "metadata": {
        "id": "Zx7dBzfre2X9"
      },
      "source": [
        "rescale_data = transforms.Lambda(lambda x : x/255)\n",
        "\n",
        "# Compose transformations\n",
        "data_transform = transforms.Compose([\n",
        "  transforms.Resize(32),\n",
        "  transforms.RandomHorizontalFlip(),\n",
        "  transforms.ToTensor(),\n",
        "  rescale_data,\n",
        "  #transforms.Normalize((-0.7376), (0.5795))\n",
        "])\n",
        "\n",
        "test_transform = transforms.Compose([\n",
        "  transforms.Resize(32),\n",
        "  transforms.ToTensor(),\n",
        "  rescale_data,\n",
        "  #transforms.Normalize((0.1327), (0.2919))\n",
        "])"
      ],
      "execution_count": null,
      "outputs": []
    },
    {
      "cell_type": "code",
      "metadata": {
        "colab": {
          "base_uri": "https://localhost:8080/"
        },
        "id": "qBYFu2DUe0xU",
        "outputId": "2f774d3f-827c-48ed-ead4-1e287955de1f"
      },
      "source": [
        "# Load MNIST dataset with transforms\n",
        "train_set = torchvision.datasets.MNIST(root=root_dir, train=True, download=True, transform=data_transform)\n",
        "test_set = torchvision.datasets.MNIST(root=root_dir, train=False, download=True, transform=test_transform)"
      ],
      "execution_count": null,
      "outputs": [
        {
          "output_type": "stream",
          "text": [
            "/usr/local/lib/python3.7/dist-packages/torchvision/datasets/mnist.py:498: UserWarning: The given NumPy array is not writeable, and PyTorch does not support non-writeable tensors. This means you can write to the underlying (supposedly non-writeable) NumPy array using the tensor. You may want to copy the array to protect its data or make it writeable before converting it to a tensor. This type of warning will be suppressed for the rest of this program. (Triggered internally at  /pytorch/torch/csrc/utils/tensor_numpy.cpp:180.)\n",
            "  return torch.from_numpy(parsed.astype(m[2], copy=False)).view(*s)\n"
          ],
          "name": "stderr"
        }
      ]
    },
    {
      "cell_type": "code",
      "metadata": {
        "id": "6OtJiXl2es--"
      },
      "source": [
        "train_idx = np.random.permutation(np.arange(len(train_set)))\n",
        "test_idx = np.arange(len(test_set))\n",
        "\n",
        "val_frac = 0.1\n",
        "\n",
        "n_val = int(len(train_idx) * val_frac)\n",
        "val_idx = train_idx[0:n_val]\n",
        "train_idx = train_idx[n_val:]\n",
        "\n",
        "h = len(train_idx)//2\n",
        "\n",
        "train_set_a = Subset(train_set,train_idx[0:h])\n",
        "train_set_b = Subset(train_set,train_idx[h:])\n",
        "\n",
        "h = len(val_idx)//2\n",
        "\n",
        "val_set_a = Subset(train_set,val_idx[0:h])\n",
        "val_set_b = Subset(train_set,val_idx[h:])\n",
        "\n",
        "h = len(test_idx)//2\n",
        "\n",
        "test_set_a = Subset(test_set,test_idx[0:h])\n",
        "test_set_b = Subset(test_set,test_idx[h:])"
      ],
      "execution_count": null,
      "outputs": []
    },
    {
      "cell_type": "code",
      "metadata": {
        "id": "s5WqGkR0enhP"
      },
      "source": [
        "# Define loaders\n",
        "\n",
        "train_loader_a = DataLoader(train_set_a, batch_size=64, num_workers=0, shuffle=True, drop_last=True)\n",
        "val_loader_a   = DataLoader(val_set_a,   batch_size=64, num_workers=0, shuffle=False, drop_last=False)\n",
        "test_loader_a  = DataLoader(test_set_a,  batch_size=64, num_workers=0, shuffle=False, drop_last=False)\n",
        "\n",
        "train_loader_b = DataLoader(train_set_b, batch_size=64, num_workers=0, shuffle=True, drop_last=True)\n",
        "val_loader_b   = DataLoader(val_set_b,   batch_size=64, num_workers=0, shuffle=False, drop_last=False)\n",
        "test_loader_b  = DataLoader(test_set_b,  batch_size=64, num_workers=0, shuffle=False, drop_last=False)\n",
        "\n",
        "test_loader_all = DataLoader(test_set,batch_size=64, num_workers=0,shuffle=False,drop_last=False)\n",
        "\n",
        "\n",
        "# Define dictionary of loaders\n",
        "loaders = {\"train\": [train_loader_a,train_loader_b],\n",
        "           \"val\":   [val_loader_a,val_loader_b],\n",
        "           \"test\":  [test_loader_a,test_loader_b]}"
      ],
      "execution_count": null,
      "outputs": []
    },
    {
      "cell_type": "code",
      "metadata": {
        "id": "m_BBWAsqjOGy"
      },
      "source": [
        "class VGG16INIT(nn.Module):\n",
        "\n",
        "  def __init__(self, input_size, model1, model2, batch_norm=False):\n",
        "    super(VGG16INIT, self).__init__()\n",
        "\n",
        "    self.in_channels,self.in_width,self.in_height = input_size\n",
        "\n",
        "    self.block_1 = VGGBlock(self.in_channels,64,batch_norm=batch_norm)\n",
        "    self.block_2 = VGGBlock(64, 128,batch_norm=batch_norm)\n",
        "    self.block_3 = VGGBlock(128, 256,batch_norm=batch_norm)\n",
        "    self.block_4 = VGGBlock(256,512,batch_norm=batch_norm)\n",
        "\n",
        "    for p_out, p_in1, p_in2 in zip(self.parameters(), model1.parameters(), model2.parameters()):\n",
        "            p_out.data = nn.Parameter(p_in1 +p_in2);\n",
        "\n",
        "  @property\n",
        "  def input_size(self):\n",
        "      return self.in_channels,self.in_width,self.in_height\n",
        "\n",
        "\n",
        "  def forward(self, x):\n",
        "\n",
        "    x = self.block_1(x)\n",
        "    x = self.block_2(x)\n",
        "    x = self.block_3(x)\n",
        "    x = self.block_4(x)\n",
        "    # x = self.avgpool(x)\n",
        "    x = torch.flatten(x,1)\n",
        "\n",
        "    return x"
      ],
      "execution_count": null,
      "outputs": []
    },
    {
      "cell_type": "code",
      "metadata": {
        "id": "xAmsywnHelhX"
      },
      "source": [
        "model1 = VGG16((1,32,32),batch_norm=True)\n",
        "model2 = VGG16((1,32,32),batch_norm=True)\n",
        "model3 = VGG16((1,32,32),batch_norm=True)\n",
        "#model3 = VGG16INIT((1,32,32),model1,model2,batch_norm=True)\n",
        "classifier = Classifier(num_classes=10)"
      ],
      "execution_count": null,
      "outputs": []
    },
    {
      "cell_type": "code",
      "metadata": {
        "id": "MKGtO8c_gmrR"
      },
      "source": [
        "#list(model1.parameters())"
      ],
      "execution_count": null,
      "outputs": []
    },
    {
      "cell_type": "code",
      "metadata": {
        "id": "GJdi4cx_gyrg"
      },
      "source": [
        "#list(model2.parameters())"
      ],
      "execution_count": null,
      "outputs": []
    },
    {
      "cell_type": "code",
      "metadata": {
        "id": "yX0JUsRPg08L"
      },
      "source": [
        "#list(model3.parameters())"
      ],
      "execution_count": null,
      "outputs": []
    },
    {
      "cell_type": "code",
      "metadata": {
        "id": "fy81iDz9eizI"
      },
      "source": [
        "nets = [model1,model2,model3,classifier]"
      ],
      "execution_count": null,
      "outputs": []
    },
    {
      "cell_type": "code",
      "metadata": {
        "id": "_QQW2uVLee6L"
      },
      "source": [
        "dev = torch.device('cuda')"
      ],
      "execution_count": null,
      "outputs": []
    },
    {
      "cell_type": "code",
      "metadata": {
        "id": "eXegV7s_efNq"
      },
      "source": [
        "parameters = set()"
      ],
      "execution_count": null,
      "outputs": []
    },
    {
      "cell_type": "code",
      "metadata": {
        "id": "Vdw15S30efV7"
      },
      "source": [
        "for n in nets:\n",
        "  parameters |= set(n.parameters())"
      ],
      "execution_count": null,
      "outputs": []
    },
    {
      "cell_type": "code",
      "metadata": {
        "id": "HNk7ro7ueder"
      },
      "source": [
        "optimizer = torch.optim.SGD(parameters, lr = 0.01)\n",
        "# Define a loss\n",
        "#criterion = nn.BCEWithLogitsLoss()#,nn.BCEWithLogitsLoss(),nn.BCEWithLogitsLoss(),_lambda = 1)\n",
        "criterion = nn.CrossEntropyLoss()\n",
        "n_params = 0"
      ],
      "execution_count": null,
      "outputs": []
    },
    {
      "cell_type": "code",
      "metadata": {
        "colab": {
          "base_uri": "https://localhost:8080/",
          "height": 1000
        },
        "id": "WRPmx_uUeYBk",
        "outputId": "f6317bdb-f3b6-40f4-cab8-4ecc27b56652"
      },
      "source": [
        "DO = 'TRAIN'\n",
        "if (DO=='TRAIN'):\n",
        "  train(nets, loaders, optimizer, criterion, epochs=100, dev=dev,save_param=True)\n",
        "else:\n",
        "  state_dicts = torch.load('model.pth')\n",
        "  model1.load_state_dict(state_dicts['vgg_a']) #questi state_dict vengono dalla funzione di training\n",
        "  model2.load_state_dict(state_dicts['vgg_b'])\n",
        "  model3.load_state_dict(state_dicts['vgg_star'])\n",
        "  classifier.load_state_dict(state_dicts['classifier'])\n",
        "\n",
        "  test(model1,classifier,test_loader_all)\n",
        "  test(model2, classifier, test_loader_all)\n",
        "  test(model3, classifier, test_loader_all)\n",
        "\n",
        "  summed_state_dict = OrderedDict()\n",
        "\n",
        "  for key in state_dicts['vgg_star']:\n",
        "    if key.find('conv') >=0:\n",
        "      print(key)\n",
        "      summed_state_dict[key] = combo_fn(state_dicts['vgg_a'][key],state_dicts['vgg_b'][key])\n",
        "    else:\n",
        "      summed_state_dict[key] = state_dicts['vgg_star'][key]\n",
        "\n",
        "  model3.load_state_dict(summed_state_dict)\n",
        "  test(model3, classifier, test_loader_all)"
      ],
      "execution_count": null,
      "outputs": [
        {
          "output_type": "stream",
          "text": [
            "/usr/local/lib/python3.7/dist-packages/torch/nn/functional.py:718: UserWarning: Named tensors and all their associated APIs are an experimental feature and subject to change. Please do not use them for anything important until they are released as stable. (Triggered internally at  /pytorch/c10/core/TensorImpl.h:1156.)\n",
            "  return torch.max_pool2d(input, kernel_size, stride, padding, dilation, ceil_mode)\n",
            " [Elapsed Time: 0:01:03] |###############| [Time:  0:01:03] [Train Acc:  0.195]\n"
          ],
          "name": "stderr"
        },
        {
          "output_type": "stream",
          "text": [
            "Epoch 1:\n",
            "\ttrain\tLoss: 7.0447\tVGG 1:0.12236\tVGG 2:0.1165\tVGG *:0.13964\n",
            "\tval\tLoss: 6.7495\tVGG 1:0.21011\tVGG 2:0.18413\tVGG *:0.11799\n",
            "\ttest\tLoss: 6.7386\tVGG 1:0.19106\tVGG 2:0.21479\tVGG *:0.12075\n",
            "Accuracy test VGGA: 0.20084\n",
            "Accuracy test VGGB: 0.18272\n",
            "Accuracy test VGG*: 0.12102\n",
            "Accuracy test VGGSTAR: 0.11355\n"
          ],
          "name": "stdout"
        },
        {
          "output_type": "stream",
          "text": [
            " [Elapsed Time: 0:01:03] |###############| [Time:  0:01:03] [Train Acc:  0.312]\n"
          ],
          "name": "stderr"
        },
        {
          "output_type": "stream",
          "text": [
            "Epoch 2:\n",
            "\ttrain\tLoss: 6.4306\tVGG 1:0.22361\tVGG 2:0.19366\tVGG *:0.18438\n",
            "\tval\tLoss: 5.1027\tVGG 1:0.43223\tVGG 2:0.44002\tVGG *:0.42966\n",
            "\ttest\tLoss: 5.1835\tVGG 1:0.40625\tVGG 2:0.41238\tVGG *:0.4289\n",
            "Accuracy test VGGA: 0.43501\n",
            "Accuracy test VGGB: 0.40406\n",
            "Accuracy test VGG*: 0.42755\n",
            "Accuracy test VGGSTAR: 0.19019\n"
          ],
          "name": "stdout"
        },
        {
          "output_type": "stream",
          "text": [
            " [Elapsed Time: 0:01:03] |###############| [Time:  0:01:03] [Train Acc:  0.656]\n"
          ],
          "name": "stderr"
        },
        {
          "output_type": "stream",
          "text": [
            "Epoch 3:\n",
            "\ttrain\tLoss: 4.0995\tVGG 1:0.53789\tVGG 2:0.44767\tVGG *:0.56257\n",
            "\tval\tLoss: 2.4699\tVGG 1:0.73362\tVGG 2:0.73271\tVGG *:0.67767\n",
            "\ttest\tLoss: 2.4333\tVGG 1:0.71143\tVGG 2:0.76266\tVGG *:0.67811\n",
            "Accuracy test VGGA: 0.74711\n",
            "Accuracy test VGGB: 0.72034\n",
            "Accuracy test VGG*: 0.67655\n",
            "Accuracy test VGGSTAR: 0.44437\n"
          ],
          "name": "stdout"
        },
        {
          "output_type": "stream",
          "text": [
            " [Elapsed Time: 0:01:03] |###############| [Time:  0:01:03] [Train Acc:  0.883]\n"
          ],
          "name": "stderr"
        },
        {
          "output_type": "stream",
          "text": [
            "Epoch 4:\n",
            "\ttrain\tLoss: 2.0192\tVGG 1:0.78674\tVGG 2:0.76462\tVGG *:0.77219\n",
            "\tval\tLoss: 1.2176\tVGG 1:0.86764\tVGG 2:0.86845\tVGG *:0.87716\n",
            "\ttest\tLoss: 1.1906\tVGG 1:0.83406\tVGG 2:0.90111\tVGG *:0.87807\n",
            "Accuracy test VGGA: 0.86783\n",
            "Accuracy test VGGB: 0.86724\n",
            "Accuracy test VGG*: 0.87838\n",
            "Accuracy test VGGSTAR: 0.64908\n"
          ],
          "name": "stdout"
        },
        {
          "output_type": "stream",
          "text": [
            " [Elapsed Time: 0:01:03] |###############| [Time:  0:01:03] [Train Acc:  0.938]\n"
          ],
          "name": "stderr"
        },
        {
          "output_type": "stream",
          "text": [
            "Epoch 5:\n",
            "\ttrain\tLoss: 1.3508\tVGG 1:0.89567\tVGG 2:0.88628\tVGG *:0.7808\n",
            "\tval\tLoss: 0.80817\tVGG 1:0.91394\tVGG 2:0.92691\tVGG *:0.9044\n",
            "\ttest\tLoss: 0.77697\tVGG 1:0.89082\tVGG 2:0.95115\tVGG *:0.9103\n",
            "Accuracy test VGGA: 0.91401\n",
            "Accuracy test VGGB: 0.93352\n",
            "Accuracy test VGG*: 0.91083\n",
            "Accuracy test VGGSTAR: 0.56419\n"
          ],
          "name": "stdout"
        },
        {
          "output_type": "stream",
          "text": [
            " [Elapsed Time: 0:01:03] |###############| [Time:  0:01:03] [Train Acc:  0.922]\n"
          ],
          "name": "stderr"
        },
        {
          "output_type": "stream",
          "text": [
            "Epoch 6:\n",
            "\ttrain\tLoss: 0.91696\tVGG 1:0.92136\tVGG 2:0.92139\tVGG *:0.86483\n",
            "\tval\tLoss: 0.57421\tVGG 1:0.93859\tVGG 2:0.94301\tVGG *:0.93363\n",
            "\ttest\tLoss: 0.53397\tVGG 1:0.93078\tVGG 2:0.95767\tVGG *:0.9379\n",
            "Accuracy test VGGA: 0.94427\n",
            "Accuracy test VGGB: 0.94367\n",
            "Accuracy test VGG*: 0.9379\n",
            "Accuracy test VGGSTAR: 0.59942\n"
          ],
          "name": "stdout"
        },
        {
          "output_type": "stream",
          "text": [
            " [Elapsed Time: 0:01:03] |###############| [Time:  0:01:03] [Train Acc:   0.93]\n"
          ],
          "name": "stderr"
        },
        {
          "output_type": "stream",
          "text": [
            "Epoch 7:\n",
            "\ttrain\tLoss: 1.4163\tVGG 1:0.93368\tVGG 2:0.91356\tVGG *:0.75859\n",
            "\tval\tLoss: 0.76552\tVGG 1:0.94524\tVGG 2:0.94059\tVGG *:0.93185\n",
            "\ttest\tLoss: 0.73853\tVGG 1:0.9282\tVGG 2:0.96104\tVGG *:0.93523\n",
            "Accuracy test VGGA: 0.94676\n",
            "Accuracy test VGGB: 0.94049\n",
            "Accuracy test VGG*: 0.93491\n",
            "Accuracy test VGGSTAR: 0.60918\n"
          ],
          "name": "stdout"
        },
        {
          "output_type": "stream",
          "text": [
            " [Elapsed Time: 0:01:03] |###############| [Time:  0:01:03] [Train Acc:  0.914]\n"
          ],
          "name": "stderr"
        },
        {
          "output_type": "stream",
          "text": [
            "Epoch 8:\n",
            "\ttrain\tLoss: 1.1688\tVGG 1:0.94897\tVGG 2:0.91274\tVGG *:0.76837\n",
            "\tval\tLoss: 0.59238\tVGG 1:0.93892\tVGG 2:0.95061\tVGG *:0.93211\n",
            "\ttest\tLoss: 0.54563\tVGG 1:0.93078\tVGG 2:0.97033\tVGG *:0.9373\n",
            "Accuracy test VGGA: 0.94516\n",
            "Accuracy test VGGB: 0.95233\n",
            "Accuracy test VGG*: 0.9373\n",
            "Accuracy test VGGSTAR: 0.71059\n"
          ],
          "name": "stdout"
        },
        {
          "output_type": "stream",
          "text": [
            " [Elapsed Time: 0:01:03] |###############| [Time:  0:01:03] [Train Acc:  0.922]\n"
          ],
          "name": "stderr"
        },
        {
          "output_type": "stream",
          "text": [
            "Epoch 9:\n",
            "\ttrain\tLoss: 0.6791\tVGG 1:0.95483\tVGG 2:0.9493\tVGG *:0.88359\n",
            "\tval\tLoss: 0.40577\tVGG 1:0.96229\tVGG 2:0.96129\tVGG *:0.95106\n",
            "\ttest\tLoss: 0.39266\tVGG 1:0.94521\tVGG 2:0.9729\tVGG *:0.95243\n",
            "Accuracy test VGGA: 0.96139\n",
            "Accuracy test VGGB: 0.96148\n",
            "Accuracy test VGG*: 0.95223\n",
            "Accuracy test VGGSTAR: 0.83061\n"
          ],
          "name": "stdout"
        },
        {
          "output_type": "stream",
          "text": [
            " [Elapsed Time: 0:01:03] |###############| [Time:  0:01:03] [Train Acc:  0.945]\n"
          ],
          "name": "stderr"
        },
        {
          "output_type": "stream",
          "text": [
            "Epoch 10:\n",
            "\ttrain\tLoss: 0.57869\tVGG 1:0.95973\tVGG 2:0.95821\tVGG *:0.89868\n",
            "\tval\tLoss: 0.39198\tVGG 1:0.96391\tVGG 2:0.95797\tVGG *:0.94876\n",
            "\ttest\tLoss: 0.3676\tVGG 1:0.95866\tVGG 2:0.97409\tVGG *:0.95105\n",
            "Accuracy test VGGA: 0.96805\n",
            "Accuracy test VGGB: 0.96338\n",
            "Accuracy test VGG*: 0.95044\n",
            "Accuracy test VGGSTAR: 0.80175\n"
          ],
          "name": "stdout"
        },
        {
          "output_type": "stream",
          "text": [
            " [Elapsed Time: 0:01:03] |###############| [Time:  0:01:03] [Train Acc:  0.977]\n"
          ],
          "name": "stderr"
        },
        {
          "output_type": "stream",
          "text": [
            "Epoch 11:\n",
            "\ttrain\tLoss: 0.48693\tVGG 1:0.96671\tVGG 2:0.96211\tVGG *:0.92097\n",
            "\tval\tLoss: 0.37344\tVGG 1:0.96462\tVGG 2:0.97003\tVGG *:0.95177\n",
            "\ttest\tLoss: 0.35771\tVGG 1:0.9551\tVGG 2:0.98141\tVGG *:0.95332\n",
            "Accuracy test VGGA: 0.96586\n",
            "Accuracy test VGGB: 0.97154\n",
            "Accuracy test VGG*: 0.95412\n",
            "Accuracy test VGGSTAR: 0.7084\n"
          ],
          "name": "stdout"
        },
        {
          "output_type": "stream",
          "text": [
            " [Elapsed Time: 0:01:03] |###############| [Time:  0:01:03] [Train Acc:  0.945]\n"
          ],
          "name": "stderr"
        },
        {
          "output_type": "stream",
          "text": [
            "Epoch 12:\n",
            "\ttrain\tLoss: 0.502\tVGG 1:0.97187\tVGG 2:0.96155\tVGG *:0.90913\n",
            "\tval\tLoss: 0.33974\tVGG 1:0.96391\tVGG 2:0.96932\tVGG *:0.95935\n",
            "\ttest\tLoss: 0.35073\tVGG 1:0.95134\tVGG 2:0.97785\tVGG *:0.96114\n",
            "Accuracy test VGGA: 0.96288\n",
            "Accuracy test VGGB: 0.96835\n",
            "Accuracy test VGG*: 0.96089\n",
            "Accuracy test VGGSTAR: 0.82434\n"
          ],
          "name": "stdout"
        },
        {
          "output_type": "stream",
          "text": [
            " [Elapsed Time: 0:01:03] |###############| [Time:  0:01:03] [Train Acc:   0.93]\n"
          ],
          "name": "stderr"
        },
        {
          "output_type": "stream",
          "text": [
            "Epoch 13:\n",
            "\ttrain\tLoss: 0.46224\tVGG 1:0.97402\tVGG 2:0.96871\tVGG *:0.91571\n",
            "\tval\tLoss: 0.33669\tVGG 1:0.96913\tVGG 2:0.9696\tVGG *:0.95956\n",
            "\ttest\tLoss: 0.3407\tVGG 1:0.96025\tVGG 2:0.97844\tVGG *:0.9553\n",
            "Accuracy test VGGA: 0.97064\n",
            "Accuracy test VGGB: 0.96656\n",
            "Accuracy test VGG*: 0.95541\n",
            "Accuracy test VGGSTAR: 0.87112\n"
          ],
          "name": "stdout"
        },
        {
          "output_type": "stream",
          "text": [
            " [Elapsed Time: 0:01:03] |###############| [Time:  0:01:03] [Train Acc:  0.961]\n"
          ],
          "name": "stderr"
        },
        {
          "output_type": "stream",
          "text": [
            "Epoch 14:\n",
            "\ttrain\tLoss: 0.56318\tVGG 1:0.97677\tVGG 2:0.97142\tVGG *:0.87491\n",
            "\tval\tLoss: 0.32404\tVGG 1:0.97364\tVGG 2:0.9697\tVGG *:0.95761\n",
            "\ttest\tLoss: 0.28903\tVGG 1:0.97172\tVGG 2:0.97844\tVGG *:0.95965\n",
            "Accuracy test VGGA: 0.97751\n",
            "Accuracy test VGGB: 0.96447\n",
            "Accuracy test VGG*: 0.95939\n",
            "Accuracy test VGGSTAR: 0.66212\n"
          ],
          "name": "stdout"
        },
        {
          "output_type": "stream",
          "text": [
            " [Elapsed Time: 0:01:03] |###############| [Time:  0:01:03] [Train Acc:  0.969]\n"
          ],
          "name": "stderr"
        },
        {
          "output_type": "stream",
          "text": [
            "Epoch 15:\n",
            "\ttrain\tLoss: 0.49844\tVGG 1:0.97873\tVGG 2:0.97447\tVGG *:0.8905\n",
            "\tval\tLoss: 0.3208\tVGG 1:0.9707\tVGG 2:0.965\tVGG *:0.95992\n",
            "\ttest\tLoss: 0.27938\tVGG 1:0.96499\tVGG 2:0.98062\tVGG *:0.96539\n",
            "Accuracy test VGGA: 0.97422\n",
            "Accuracy test VGGB: 0.96984\n",
            "Accuracy test VGG*: 0.96517\n",
            "Accuracy test VGGSTAR: 0.91411\n"
          ],
          "name": "stdout"
        },
        {
          "output_type": "stream",
          "text": [
            " [Elapsed Time: 0:01:03] |###############| [Time:  0:01:03] [Train Acc:  0.883]\n"
          ],
          "name": "stderr"
        },
        {
          "output_type": "stream",
          "text": [
            "Epoch 16:\n",
            "\ttrain\tLoss: 0.28451\tVGG 1:0.98159\tVGG 2:0.97554\tVGG *:0.95268\n",
            "\tval\tLoss: 0.47337\tVGG 1:0.97602\tVGG 2:0.97792\tVGG *:0.89941\n",
            "\ttest\tLoss: 0.44993\tVGG 1:0.9642\tVGG 2:0.98517\tVGG *:0.91307\n",
            "Accuracy test VGGA: 0.97492\n",
            "Accuracy test VGGB: 0.97512\n",
            "Accuracy test VGG*: 0.91262\n",
            "Accuracy test VGGSTAR: 0.86107\n"
          ],
          "name": "stdout"
        },
        {
          "output_type": "stream",
          "text": [
            " [Elapsed Time: 0:01:03] |###############| [Time:  0:01:03] [Train Acc:  0.977]\n"
          ],
          "name": "stderr"
        },
        {
          "output_type": "stream",
          "text": [
            "Epoch 17:\n",
            "\ttrain\tLoss: 0.33846\tVGG 1:0.98174\tVGG 2:0.97821\tVGG *:0.93145\n",
            "\tval\tLoss: 0.25096\tVGG 1:0.97502\tVGG 2:0.98005\tVGG *:0.96866\n",
            "\ttest\tLoss: 0.23291\tVGG 1:0.96796\tVGG 2:0.98734\tVGG *:0.97251\n",
            "Accuracy test VGGA: 0.97731\n",
            "Accuracy test VGGB: 0.9788\n",
            "Accuracy test VGG*: 0.97233\n",
            "Accuracy test VGGSTAR: 0.90078\n"
          ],
          "name": "stdout"
        },
        {
          "output_type": "stream",
          "text": [
            " [Elapsed Time: 0:01:03] |###############| [Time:  0:01:03] [Train Acc:  0.977]\n"
          ],
          "name": "stderr"
        },
        {
          "output_type": "stream",
          "text": [
            "Epoch 18:\n",
            "\ttrain\tLoss: 0.24609\tVGG 1:0.98263\tVGG 2:0.98126\tVGG *:0.95947\n",
            "\tval\tLoss: 0.2191\tVGG 1:0.97559\tVGG 2:0.98096\tVGG *:0.97378\n",
            "\ttest\tLoss: 0.21059\tVGG 1:0.97112\tVGG 2:0.98892\tVGG *:0.97389\n",
            "Accuracy test VGGA: 0.98\n",
            "Accuracy test VGGB: 0.98\n",
            "Accuracy test VGG*: 0.97373\n",
            "Accuracy test VGGSTAR: 0.9167\n"
          ],
          "name": "stdout"
        },
        {
          "output_type": "stream",
          "text": [
            " [Elapsed Time: 0:01:03] |###############| [Time:  0:01:03] [Train Acc:  0.992]\n"
          ],
          "name": "stderr"
        },
        {
          "output_type": "stream",
          "text": [
            "Epoch 19:\n",
            "\ttrain\tLoss: 0.24002\tVGG 1:0.98534\tVGG 2:0.98159\tVGG *:0.95736\n",
            "\tval\tLoss: 0.22792\tVGG 1:0.97502\tVGG 2:0.97929\tVGG *:0.97295\n",
            "\ttest\tLoss: 0.21295\tVGG 1:0.97093\tVGG 2:0.98774\tVGG *:0.97656\n",
            "Accuracy test VGGA: 0.9794\n",
            "Accuracy test VGGB: 0.9797\n",
            "Accuracy test VGG*: 0.97641\n",
            "Accuracy test VGGSTAR: 0.90466\n"
          ],
          "name": "stdout"
        },
        {
          "output_type": "stream",
          "text": [
            " [Elapsed Time: 0:01:03] |###############| [Time:  0:01:03] [Train Acc:  0.977]\n"
          ],
          "name": "stderr"
        },
        {
          "output_type": "stream",
          "text": [
            "Epoch 20:\n",
            "\ttrain\tLoss: 0.40692\tVGG 1:0.98605\tVGG 2:0.98404\tVGG *:0.89712\n",
            "\tval\tLoss: 0.27897\tVGG 1:0.97701\tVGG 2:0.97701\tVGG *:0.95514\n",
            "\ttest\tLoss: 0.25583\tVGG 1:0.96915\tVGG 2:0.98754\tVGG *:0.96084\n",
            "Accuracy test VGGA: 0.9789\n",
            "Accuracy test VGGB: 0.97661\n",
            "Accuracy test VGG*: 0.96129\n",
            "Accuracy test VGGSTAR: 0.88575\n"
          ],
          "name": "stdout"
        },
        {
          "output_type": "stream",
          "text": [
            " [Elapsed Time: 0:01:03] |###############| [Time:  0:01:03] [Train Acc:  0.984]\n"
          ],
          "name": "stderr"
        },
        {
          "output_type": "stream",
          "text": [
            "Epoch 21:\n",
            "\ttrain\tLoss: 0.21832\tVGG 1:0.98738\tVGG 2:0.98449\tVGG *:0.95884\n",
            "\tval\tLoss: 0.25944\tVGG 1:0.98001\tVGG 2:0.97701\tVGG *:0.96212\n",
            "\ttest\tLoss: 0.23366\tVGG 1:0.97369\tVGG 2:0.98873\tVGG *:0.96549\n",
            "Accuracy test VGGA: 0.98139\n",
            "Accuracy test VGGB: 0.9796\n",
            "Accuracy test VGG*: 0.96527\n",
            "Accuracy test VGGSTAR: 0.90257\n"
          ],
          "name": "stdout"
        },
        {
          "output_type": "stream",
          "text": [
            " [Elapsed Time: 0:01:03] |###############| [Time:  0:01:03] [Train Acc:  0.977]\n"
          ],
          "name": "stderr"
        },
        {
          "output_type": "stream",
          "text": [
            "Epoch 22:\n",
            "\ttrain\tLoss: 0.19447\tVGG 1:0.98927\tVGG 2:0.98605\tVGG *:0.96313\n",
            "\tval\tLoss: 0.32512\tVGG 1:0.96979\tVGG 2:0.98134\tVGG *:0.94669\n",
            "\ttest\tLoss: 0.30229\tVGG 1:0.96875\tVGG 2:0.98734\tVGG *:0.94956\n",
            "Accuracy test VGGA: 0.9786\n",
            "Accuracy test VGGB: 0.98139\n",
            "Accuracy test VGG*: 0.94964\n",
            "Accuracy test VGGSTAR: 0.89471\n"
          ],
          "name": "stdout"
        },
        {
          "output_type": "stream",
          "text": [
            " [Elapsed Time: 0:01:03] |###############| [Time:  0:01:03] [Train Acc:  0.992]\n"
          ],
          "name": "stderr"
        },
        {
          "output_type": "stream",
          "text": [
            "Epoch 23:\n",
            "\ttrain\tLoss: 0.18839\tVGG 1:0.98861\tVGG 2:0.9879\tVGG *:0.96428\n",
            "\tval\tLoss: 0.21082\tVGG 1:0.97934\tVGG 2:0.98267\tVGG *:0.9763\n",
            "\ttest\tLoss: 0.18384\tVGG 1:0.97745\tVGG 2:0.98952\tVGG *:0.97725\n",
            "Accuracy test VGGA: 0.98388\n",
            "Accuracy test VGGB: 0.9799\n",
            "Accuracy test VGG*: 0.97711\n",
            "Accuracy test VGGSTAR: 0.87122\n"
          ],
          "name": "stdout"
        },
        {
          "output_type": "stream",
          "text": [
            " [Elapsed Time: 0:01:03] |###############| [Time:  0:01:03] [Train Acc:  0.992]\n"
          ],
          "name": "stderr"
        },
        {
          "output_type": "stream",
          "text": [
            "Epoch 24:\n",
            "\ttrain\tLoss: 0.18524\tVGG 1:0.99009\tVGG 2:0.98727\tVGG *:0.96253\n",
            "\tval\tLoss: 0.20488\tVGG 1:0.98067\tVGG 2:0.981\tVGG *:0.97595\n",
            "\ttest\tLoss: 0.19461\tVGG 1:0.97369\tVGG 2:0.98794\tVGG *:0.97716\n",
            "Accuracy test VGGA: 0.98089\n",
            "Accuracy test VGGB: 0.98268\n",
            "Accuracy test VGG*: 0.97701\n",
            "Accuracy test VGGSTAR: 0.88286\n"
          ],
          "name": "stdout"
        },
        {
          "output_type": "stream",
          "text": [
            " [Elapsed Time: 0:01:03] |###############| [Time:  0:01:03] [Train Acc:  0.969]\n"
          ],
          "name": "stderr"
        },
        {
          "output_type": "stream",
          "text": [
            "Epoch 25:\n",
            "\ttrain\tLoss: 0.18794\tVGG 1:0.99076\tVGG 2:0.99016\tVGG *:0.96092\n",
            "\tval\tLoss: 0.2177\tVGG 1:0.98138\tVGG 2:0.98267\tVGG *:0.96927\n",
            "\ttest\tLoss: 0.2104\tVGG 1:0.97172\tVGG 2:0.98813\tVGG *:0.97122\n",
            "Accuracy test VGGA: 0.9796\n",
            "Accuracy test VGGB: 0.98179\n",
            "Accuracy test VGG*: 0.97104\n",
            "Accuracy test VGGSTAR: 0.88475\n"
          ],
          "name": "stdout"
        },
        {
          "output_type": "stream",
          "text": [
            " [Elapsed Time: 0:01:03] |###############| [Time:  0:01:03] [Train Acc:  0.977]\n"
          ],
          "name": "stderr"
        },
        {
          "output_type": "stream",
          "text": [
            "Epoch 26:\n",
            "\ttrain\tLoss: 0.17644\tVGG 1:0.99143\tVGG 2:0.99068\tVGG *:0.96187\n",
            "\tval\tLoss: 0.20174\tVGG 1:0.98034\tVGG 2:0.984\tVGG *:0.97528\n",
            "\ttest\tLoss: 0.17119\tVGG 1:0.97725\tVGG 2:0.99169\tVGG *:0.97824\n",
            "Accuracy test VGGA: 0.98298\n",
            "Accuracy test VGGB: 0.98328\n",
            "Accuracy test VGG*: 0.97811\n",
            "Accuracy test VGGSTAR: 0.91172\n"
          ],
          "name": "stdout"
        },
        {
          "output_type": "stream",
          "text": [
            " [Elapsed Time: 0:01:03] |###############| [Time:  0:01:03] [Train Acc:  0.969]\n"
          ],
          "name": "stderr"
        },
        {
          "output_type": "stream",
          "text": [
            "Epoch 27:\n",
            "\ttrain\tLoss: 0.1599\tVGG 1:0.9918\tVGG 2:0.99117\tVGG *:0.96654\n",
            "\tval\tLoss: 0.20436\tVGG 1:0.97763\tVGG 2:0.98371\tVGG *:0.97614\n",
            "\ttest\tLoss: 0.19418\tVGG 1:0.97271\tVGG 2:0.9907\tVGG *:0.97636\n",
            "Accuracy test VGGA: 0.98139\n",
            "Accuracy test VGGB: 0.98139\n",
            "Accuracy test VGG*: 0.97621\n",
            "Accuracy test VGGSTAR: 0.92406\n"
          ],
          "name": "stdout"
        },
        {
          "output_type": "stream",
          "text": [
            " [Elapsed Time: 0:01:04] |###############| [Time:  0:01:04] [Train Acc:  0.977]\n"
          ],
          "name": "stderr"
        },
        {
          "output_type": "stream",
          "text": [
            "Epoch 28:\n",
            "\ttrain\tLoss: 0.18034\tVGG 1:0.99158\tVGG 2:0.99224\tVGG *:0.96162\n",
            "\tval\tLoss: 0.2293\tVGG 1:0.98167\tVGG 2:0.98295\tVGG *:0.97231\n",
            "\ttest\tLoss: 0.20732\tVGG 1:0.97409\tVGG 2:0.98991\tVGG *:0.97429\n",
            "Accuracy test VGGA: 0.98139\n",
            "Accuracy test VGGB: 0.98229\n",
            "Accuracy test VGG*: 0.97412\n",
            "Accuracy test VGGSTAR: 0.90565\n"
          ],
          "name": "stdout"
        },
        {
          "output_type": "stream",
          "text": [
            " [Elapsed Time: 0:01:03] |###############| [Time:  0:01:03] [Train Acc:  0.953]\n"
          ],
          "name": "stderr"
        },
        {
          "output_type": "stream",
          "text": [
            "Epoch 29:\n",
            "\ttrain\tLoss: 0.14926\tVGG 1:0.99336\tVGG 2:0.99098\tVGG *:0.96797\n",
            "\tval\tLoss: 0.19529\tVGG 1:0.98001\tVGG 2:0.98461\tVGG *:0.97644\n",
            "\ttest\tLoss: 0.17948\tVGG 1:0.97627\tVGG 2:0.99169\tVGG *:0.98062\n",
            "Accuracy test VGGA: 0.98258\n",
            "Accuracy test VGGB: 0.98328\n",
            "Accuracy test VGG*: 0.98049\n",
            "Accuracy test VGGSTAR: 0.93123\n"
          ],
          "name": "stdout"
        },
        {
          "output_type": "stream",
          "text": [
            " [Elapsed Time: 0:01:03] |###############| [Time:  0:01:03] [Train Acc:  0.961]\n"
          ],
          "name": "stderr"
        },
        {
          "output_type": "stream",
          "text": [
            "Epoch 30:\n",
            "\ttrain\tLoss: 0.1351\tVGG 1:0.99287\tVGG 2:0.99388\tVGG *:0.96916\n",
            "\tval\tLoss: 0.21743\tVGG 1:0.98105\tVGG 2:0.98494\tVGG *:0.97029\n",
            "\ttest\tLoss: 0.19506\tVGG 1:0.97488\tVGG 2:0.99051\tVGG *:0.97528\n",
            "Accuracy test VGGA: 0.98079\n",
            "Accuracy test VGGB: 0.98238\n",
            "Accuracy test VGG*: 0.97512\n",
            "Accuracy test VGGSTAR: 0.93223\n"
          ],
          "name": "stdout"
        },
        {
          "output_type": "stream",
          "text": [
            " [Elapsed Time: 0:01:03] |###############| [Time:  0:01:03] [Train Acc:  0.992]\n"
          ],
          "name": "stderr"
        },
        {
          "output_type": "stream",
          "text": [
            "Epoch 31:\n",
            "\ttrain\tLoss: 0.14417\tVGG 1:0.99529\tVGG 2:0.99299\tVGG *:0.96663\n",
            "\tval\tLoss: 0.19951\tVGG 1:0.981\tVGG 2:0.98566\tVGG *:0.9758\n",
            "\ttest\tLoss: 0.19563\tVGG 1:0.97251\tVGG 2:0.99288\tVGG *:0.97844\n",
            "Accuracy test VGGA: 0.98189\n",
            "Accuracy test VGGB: 0.98676\n",
            "Accuracy test VGG*: 0.9783\n",
            "Accuracy test VGGSTAR: 0.89142\n"
          ],
          "name": "stdout"
        },
        {
          "output_type": "stream",
          "text": [
            " [Elapsed Time: 0:01:03] |###############| [Time:  0:01:03] [Train Acc:  0.969]\n"
          ],
          "name": "stderr"
        },
        {
          "output_type": "stream",
          "text": [
            "Epoch 32:\n",
            "\ttrain\tLoss: 0.1336\tVGG 1:0.99473\tVGG 2:0.9954\tVGG *:0.9678\n",
            "\tval\tLoss: 0.21061\tVGG 1:0.97597\tVGG 2:0.98732\tVGG *:0.97281\n",
            "\ttest\tLoss: 0.22615\tVGG 1:0.96697\tVGG 2:0.9911\tVGG *:0.97508\n",
            "Accuracy test VGGA: 0.97811\n",
            "Accuracy test VGGB: 0.98368\n",
            "Accuracy test VGG*: 0.97492\n",
            "Accuracy test VGGSTAR: 0.90167\n"
          ],
          "name": "stdout"
        },
        {
          "output_type": "stream",
          "text": [
            " [Elapsed Time: 0:01:04] |###############| [Time:  0:01:04] [Train Acc:  0.977]\n"
          ],
          "name": "stderr"
        },
        {
          "output_type": "stream",
          "text": [
            "Epoch 33:\n",
            "\ttrain\tLoss: 0.13171\tVGG 1:0.99447\tVGG 2:0.99499\tVGG *:0.96873\n",
            "\tval\tLoss: 0.21679\tVGG 1:0.97768\tVGG 2:0.98157\tVGG *:0.97635\n",
            "\ttest\tLoss: 0.21489\tVGG 1:0.97053\tVGG 2:0.98952\tVGG *:0.97765\n",
            "Accuracy test VGGA: 0.9785\n",
            "Accuracy test VGGB: 0.98149\n",
            "Accuracy test VGG*: 0.97751\n",
            "Accuracy test VGGSTAR: 0.86107\n"
          ],
          "name": "stdout"
        },
        {
          "output_type": "stream",
          "text": [
            " [Elapsed Time: 0:01:03] |###############| [Time:  0:01:03] [Train Acc:  0.984]\n"
          ],
          "name": "stderr"
        },
        {
          "output_type": "stream",
          "text": [
            "Epoch 34:\n",
            "\ttrain\tLoss: 0.13237\tVGG 1:0.99269\tVGG 2:0.99551\tVGG *:0.96819\n",
            "\tval\tLoss: 0.20404\tVGG 1:0.98005\tVGG 2:0.98599\tVGG *:0.97898\n",
            "\ttest\tLoss: 0.18008\tVGG 1:0.97844\tVGG 2:0.9907\tVGG *:0.98091\n",
            "Accuracy test VGGA: 0.98318\n",
            "Accuracy test VGGB: 0.98487\n",
            "Accuracy test VGG*: 0.98079\n",
            "Accuracy test VGGSTAR: 0.90675\n"
          ],
          "name": "stdout"
        },
        {
          "output_type": "stream",
          "text": [
            " [Elapsed Time: 0:01:03] |###############| [Time:  0:01:03] [Train Acc:  0.977]\n"
          ],
          "name": "stderr"
        },
        {
          "output_type": "stream",
          "text": [
            "Epoch 35:\n",
            "\ttrain\tLoss: 0.16664\tVGG 1:0.99469\tVGG 2:0.9954\tVGG *:0.95865\n",
            "\tval\tLoss: 0.21393\tVGG 1:0.98105\tVGG 2:0.98466\tVGG *:0.97628\n",
            "\ttest\tLoss: 0.17475\tVGG 1:0.97725\tVGG 2:0.9913\tVGG *:0.98032\n",
            "Accuracy test VGGA: 0.98358\n",
            "Accuracy test VGGB: 0.98099\n",
            "Accuracy test VGG*: 0.9802\n",
            "Accuracy test VGGSTAR: 0.90953\n"
          ],
          "name": "stdout"
        },
        {
          "output_type": "stream",
          "text": [
            " [Elapsed Time: 0:01:03] |###############| [Time:  0:01:03] [Train Acc:    1.0]\n"
          ],
          "name": "stderr"
        },
        {
          "output_type": "stream",
          "text": [
            "Epoch 36:\n",
            "\ttrain\tLoss: 0.12077\tVGG 1:0.99562\tVGG 2:0.99633\tVGG *:0.9696\n",
            "\tval\tLoss: 0.18364\tVGG 1:0.98029\tVGG 2:0.98737\tVGG *:0.97837\n",
            "\ttest\tLoss: 0.18068\tVGG 1:0.97429\tVGG 2:0.99209\tVGG *:0.97943\n",
            "Accuracy test VGGA: 0.98229\n",
            "Accuracy test VGGB: 0.98557\n",
            "Accuracy test VGG*: 0.9793\n",
            "Accuracy test VGGSTAR: 0.92924\n"
          ],
          "name": "stdout"
        },
        {
          "output_type": "stream",
          "text": [
            " [Elapsed Time: 0:01:03] |###############| [Time:  0:01:03] [Train Acc:  0.984]\n"
          ],
          "name": "stderr"
        },
        {
          "output_type": "stream",
          "text": [
            "Epoch 37:\n",
            "\ttrain\tLoss: 0.11173\tVGG 1:0.99644\tVGG 2:0.99666\tVGG *:0.97166\n",
            "\tval\tLoss: 0.24174\tVGG 1:0.97868\tVGG 2:0.98058\tVGG *:0.97124\n",
            "\ttest\tLoss: 0.23525\tVGG 1:0.97271\tVGG 2:0.98556\tVGG *:0.97399\n",
            "Accuracy test VGGA: 0.98059\n",
            "Accuracy test VGGB: 0.97691\n",
            "Accuracy test VGG*: 0.97383\n",
            "Accuracy test VGGSTAR: 0.88018\n"
          ],
          "name": "stdout"
        },
        {
          "output_type": "stream",
          "text": [
            " [Elapsed Time: 0:01:03] |###############| [Time:  0:01:03] [Train Acc:  0.984]\n"
          ],
          "name": "stderr"
        },
        {
          "output_type": "stream",
          "text": [
            "Epoch 38:\n",
            "\ttrain\tLoss: 0.11894\tVGG 1:0.99414\tVGG 2:0.99659\tVGG *:0.97153\n",
            "\tval\tLoss: 0.18095\tVGG 1:0.98205\tVGG 2:0.98903\tVGG *:0.97936\n",
            "\ttest\tLoss: 0.19348\tVGG 1:0.97488\tVGG 2:0.99248\tVGG *:0.97725\n",
            "Accuracy test VGGA: 0.98129\n",
            "Accuracy test VGGB: 0.98716\n",
            "Accuracy test VGG*: 0.97711\n",
            "Accuracy test VGGSTAR: 0.90963\n"
          ],
          "name": "stdout"
        },
        {
          "output_type": "stream",
          "text": [
            " [Elapsed Time: 0:01:03] |###############| [Time:  0:01:03] [Train Acc:  0.977]\n"
          ],
          "name": "stderr"
        },
        {
          "output_type": "stream",
          "text": [
            "Epoch 39:\n",
            "\ttrain\tLoss: 0.10899\tVGG 1:0.99562\tVGG 2:0.99714\tVGG *:0.97272\n",
            "\tval\tLoss: 0.18227\tVGG 1:0.98096\tVGG 2:0.98765\tVGG *:0.97879\n",
            "\ttest\tLoss: 0.16206\tVGG 1:0.97706\tVGG 2:0.99229\tVGG *:0.98091\n",
            "Accuracy test VGGA: 0.98388\n",
            "Accuracy test VGGB: 0.98607\n",
            "Accuracy test VGG*: 0.98079\n",
            "Accuracy test VGGSTAR: 0.90117\n"
          ],
          "name": "stdout"
        },
        {
          "output_type": "stream",
          "text": [
            " [Elapsed Time: 0:01:03] |###############| [Time:  0:01:03] [Train Acc:  0.992]\n"
          ],
          "name": "stderr"
        },
        {
          "output_type": "stream",
          "text": [
            "Epoch 40:\n",
            "\ttrain\tLoss: 0.11074\tVGG 1:0.99722\tVGG 2:0.99774\tVGG *:0.96981\n",
            "\tval\tLoss: 0.17862\tVGG 1:0.98233\tVGG 2:0.98727\tVGG *:0.97533\n",
            "\ttest\tLoss: 0.17905\tVGG 1:0.97884\tVGG 2:0.9915\tVGG *:0.97607\n",
            "Accuracy test VGGA: 0.98497\n",
            "Accuracy test VGGB: 0.98617\n",
            "Accuracy test VGG*: 0.97592\n",
            "Accuracy test VGGSTAR: 0.88207\n"
          ],
          "name": "stdout"
        },
        {
          "output_type": "stream",
          "text": [
            " [Elapsed Time: 0:01:03] |###############| [Time:  0:01:03] [Train Acc:  0.984]\n"
          ],
          "name": "stderr"
        },
        {
          "output_type": "stream",
          "text": [
            "Epoch 41:\n",
            "\ttrain\tLoss: 0.098282\tVGG 1:0.99781\tVGG 2:0.9984\tVGG *:0.97241\n",
            "\tval\tLoss: 0.18156\tVGG 1:0.982\tVGG 2:0.98632\tVGG *:0.97737\n",
            "\ttest\tLoss: 0.17483\tVGG 1:0.97824\tVGG 2:0.99209\tVGG *:0.98052\n",
            "Accuracy test VGGA: 0.98447\n",
            "Accuracy test VGGB: 0.98627\n",
            "Accuracy test VGG*: 0.98039\n",
            "Accuracy test VGGSTAR: 0.90277\n"
          ],
          "name": "stdout"
        },
        {
          "output_type": "stream",
          "text": [
            " [Elapsed Time: 0:01:03] |###############| [Time:  0:01:03] [Train Acc:  0.969]\n"
          ],
          "name": "stderr"
        },
        {
          "output_type": "stream",
          "text": [
            "Epoch 42:\n",
            "\ttrain\tLoss: 0.10026\tVGG 1:0.99711\tVGG 2:0.9977\tVGG *:0.97302\n",
            "\tval\tLoss: 0.20049\tVGG 1:0.97901\tVGG 2:0.98599\tVGG *:0.97879\n",
            "\ttest\tLoss: 0.21927\tVGG 1:0.97093\tVGG 2:0.99229\tVGG *:0.97795\n",
            "Accuracy test VGGA: 0.9802\n",
            "Accuracy test VGGB: 0.98736\n",
            "Accuracy test VGG*: 0.97781\n",
            "Accuracy test VGGSTAR: 0.9175\n"
          ],
          "name": "stdout"
        },
        {
          "output_type": "stream",
          "text": [
            " [Elapsed Time: 0:01:03] |###############| [Time:  0:01:03] [Train Acc:  0.992]\n"
          ],
          "name": "stderr"
        },
        {
          "output_type": "stream",
          "text": [
            "Epoch 43:\n",
            "\ttrain\tLoss: 0.094303\tVGG 1:0.9977\tVGG 2:0.99822\tVGG *:0.97408\n",
            "\tval\tLoss: 0.20797\tVGG 1:0.98096\tVGG 2:0.98699\tVGG *:0.97756\n",
            "\ttest\tLoss: 0.19815\tVGG 1:0.97686\tVGG 2:0.99209\tVGG *:0.97597\n",
            "Accuracy test VGGA: 0.98477\n",
            "Accuracy test VGGB: 0.98408\n",
            "Accuracy test VGG*: 0.97651\n",
            "Accuracy test VGGSTAR: 0.9177\n"
          ],
          "name": "stdout"
        },
        {
          "output_type": "stream",
          "text": [
            " [Elapsed Time: 0:01:03] |###############| [Time:  0:01:03] [Train Acc:  0.992]\n"
          ],
          "name": "stderr"
        },
        {
          "output_type": "stream",
          "text": [
            "Epoch 44:\n",
            "\ttrain\tLoss: 0.098877\tVGG 1:0.998\tVGG 2:0.99785\tVGG *:0.97285\n",
            "\tval\tLoss: 0.19846\tVGG 1:0.98233\tVGG 2:0.98532\tVGG *:0.97614\n",
            "\ttest\tLoss: 0.16385\tVGG 1:0.98161\tVGG 2:0.99229\tVGG *:0.97805\n",
            "Accuracy test VGGA: 0.98527\n",
            "Accuracy test VGGB: 0.98666\n",
            "Accuracy test VGG*: 0.97791\n",
            "Accuracy test VGGSTAR: 0.92018\n"
          ],
          "name": "stdout"
        },
        {
          "output_type": "stream",
          "text": [
            " [Elapsed Time: 0:01:03] |###############| [Time:  0:01:03] [Train Acc:  0.961]\n"
          ],
          "name": "stderr"
        },
        {
          "output_type": "stream",
          "text": [
            "Epoch 45:\n",
            "\ttrain\tLoss: 0.13554\tVGG 1:0.99878\tVGG 2:0.99878\tVGG *:0.97153\n",
            "\tval\tLoss: 0.20851\tVGG 1:0.981\tVGG 2:0.98931\tVGG *:0.9773\n",
            "\ttest\tLoss: 0.19973\tVGG 1:0.97844\tVGG 2:0.99347\tVGG *:0.97903\n",
            "Accuracy test VGGA: 0.98438\n",
            "Accuracy test VGGB: 0.98756\n",
            "Accuracy test VGG*: 0.9789\n",
            "Accuracy test VGGSTAR: 0.92078\n"
          ],
          "name": "stdout"
        },
        {
          "output_type": "stream",
          "text": [
            " [Elapsed Time: 0:01:04] |###############| [Time:  0:01:04] [Train Acc:  0.992]\n"
          ],
          "name": "stderr"
        },
        {
          "output_type": "stream",
          "text": [
            "Epoch 46:\n",
            "\ttrain\tLoss: 0.092786\tVGG 1:0.99885\tVGG 2:0.99848\tVGG *:0.97319\n",
            "\tval\tLoss: 0.18659\tVGG 1:0.98138\tVGG 2:0.98865\tVGG *:0.97782\n",
            "\ttest\tLoss: 0.16556\tVGG 1:0.98042\tVGG 2:0.99229\tVGG *:0.97923\n",
            "Accuracy test VGGA: 0.98617\n",
            "Accuracy test VGGB: 0.98816\n",
            "Accuracy test VGG*: 0.9791\n",
            "Accuracy test VGGSTAR: 0.91342\n"
          ],
          "name": "stdout"
        },
        {
          "output_type": "stream",
          "text": [
            " [Elapsed Time: 0:01:03] |###############| [Time:  0:01:03] [Train Acc:  0.984]\n"
          ],
          "name": "stderr"
        },
        {
          "output_type": "stream",
          "text": [
            "Epoch 47:\n",
            "\ttrain\tLoss: 0.14238\tVGG 1:0.99878\tVGG 2:0.99889\tVGG *:0.95903\n",
            "\tval\tLoss: 0.19504\tVGG 1:0.98167\tVGG 2:0.98803\tVGG *:0.97887\n",
            "\ttest\tLoss: 0.16887\tVGG 1:0.97844\tVGG 2:0.99268\tVGG *:0.98081\n",
            "Accuracy test VGGA: 0.98447\n",
            "Accuracy test VGGB: 0.98607\n",
            "Accuracy test VGG*: 0.98069\n",
            "Accuracy test VGGSTAR: 0.94148\n"
          ],
          "name": "stdout"
        },
        {
          "output_type": "stream",
          "text": [
            " [Elapsed Time: 0:01:03] |###############| [Time:  0:01:03] [Train Acc:  0.984]\n"
          ],
          "name": "stderr"
        },
        {
          "output_type": "stream",
          "text": [
            "Epoch 48:\n",
            "\ttrain\tLoss: 0.094815\tVGG 1:0.99904\tVGG 2:0.99944\tVGG *:0.97209\n",
            "\tval\tLoss: 0.19397\tVGG 1:0.98471\tVGG 2:0.98794\tVGG *:0.97932\n",
            "\ttest\tLoss: 0.15934\tVGG 1:0.98002\tVGG 2:0.99446\tVGG *:0.9821\n",
            "Accuracy test VGGA: 0.98627\n",
            "Accuracy test VGGB: 0.98875\n",
            "Accuracy test VGG*: 0.98199\n",
            "Accuracy test VGGSTAR: 0.92008\n"
          ],
          "name": "stdout"
        },
        {
          "output_type": "stream",
          "text": [
            " [Elapsed Time: 0:01:03] |###############| [Time:  0:01:03] [Train Acc:    1.0]\n"
          ],
          "name": "stderr"
        },
        {
          "output_type": "stream",
          "text": [
            "Epoch 49:\n",
            "\ttrain\tLoss: 0.090188\tVGG 1:0.99926\tVGG 2:0.99907\tVGG *:0.97491\n",
            "\tval\tLoss: 0.18538\tVGG 1:0.98295\tVGG 2:0.98461\tVGG *:0.98145\n",
            "\ttest\tLoss: 0.15784\tVGG 1:0.98121\tVGG 2:0.99248\tVGG *:0.98091\n",
            "Accuracy test VGGA: 0.98646\n",
            "Accuracy test VGGB: 0.98706\n",
            "Accuracy test VGG*: 0.98079\n",
            "Accuracy test VGGSTAR: 0.94467\n"
          ],
          "name": "stdout"
        },
        {
          "output_type": "stream",
          "text": [
            " [Elapsed Time: 0:01:03] |###############| [Time:  0:01:03] [Train Acc:  0.977]\n"
          ],
          "name": "stderr"
        },
        {
          "output_type": "stream",
          "text": [
            "Epoch 50:\n",
            "\ttrain\tLoss: 0.11184\tVGG 1:0.999\tVGG 2:0.99826\tVGG *:0.96901\n",
            "\tval\tLoss: 0.21073\tVGG 1:0.984\tVGG 2:0.98466\tVGG *:0.97283\n",
            "\ttest\tLoss: 0.19174\tVGG 1:0.97686\tVGG 2:0.99189\tVGG *:0.97814\n",
            "Accuracy test VGGA: 0.98398\n",
            "Accuracy test VGGB: 0.98716\n",
            "Accuracy test VGG*: 0.97801\n",
            "Accuracy test VGGSTAR: 0.93312\n"
          ],
          "name": "stdout"
        },
        {
          "output_type": "stream",
          "text": [
            " [Elapsed Time: 0:01:04] |###############| [Time:  0:01:04] [Train Acc:    1.0]\n"
          ],
          "name": "stderr"
        },
        {
          "output_type": "stream",
          "text": [
            "Epoch 51:\n",
            "\ttrain\tLoss: 0.11649\tVGG 1:0.99878\tVGG 2:0.99863\tVGG *:0.96777\n",
            "\tval\tLoss: 0.18807\tVGG 1:0.982\tVGG 2:0.98765\tVGG *:0.97963\n",
            "\ttest\tLoss: 0.17134\tVGG 1:0.97983\tVGG 2:0.9909\tVGG *:0.9822\n",
            "Accuracy test VGGA: 0.98597\n",
            "Accuracy test VGGB: 0.98447\n",
            "Accuracy test VGG*: 0.98209\n",
            "Accuracy test VGGSTAR: 0.92725\n"
          ],
          "name": "stdout"
        },
        {
          "output_type": "stream",
          "text": [
            " [Elapsed Time: 0:01:03] |###############| [Time:  0:01:03] [Train Acc:  0.992]\n"
          ],
          "name": "stderr"
        },
        {
          "output_type": "stream",
          "text": [
            "Epoch 52:\n",
            "\ttrain\tLoss: 0.08479\tVGG 1:0.99874\tVGG 2:0.99967\tVGG *:0.97467\n",
            "\tval\tLoss: 0.18828\tVGG 1:0.98566\tVGG 2:0.98931\tVGG *:0.97768\n",
            "\ttest\tLoss: 0.17097\tVGG 1:0.97943\tVGG 2:0.99268\tVGG *:0.97943\n",
            "Accuracy test VGGA: 0.98497\n",
            "Accuracy test VGGB: 0.98836\n",
            "Accuracy test VGG*: 0.9793\n",
            "Accuracy test VGGSTAR: 0.92416\n"
          ],
          "name": "stdout"
        },
        {
          "output_type": "stream",
          "text": [
            " [Elapsed Time: 0:01:03] |###############| [Time:  0:01:03] [Train Acc:  0.992]\n"
          ],
          "name": "stderr"
        },
        {
          "output_type": "stream",
          "text": [
            "Epoch 53:\n",
            "\ttrain\tLoss: 0.099661\tVGG 1:0.99937\tVGG 2:0.99863\tVGG *:0.97046\n",
            "\tval\tLoss: 0.18338\tVGG 1:0.98267\tVGG 2:0.98798\tVGG *:0.97953\n",
            "\ttest\tLoss: 0.16213\tVGG 1:0.97903\tVGG 2:0.99347\tVGG *:0.98131\n",
            "Accuracy test VGGA: 0.98567\n",
            "Accuracy test VGGB: 0.98746\n",
            "Accuracy test VGG*: 0.98119\n",
            "Accuracy test VGGSTAR: 0.91949\n"
          ],
          "name": "stdout"
        },
        {
          "output_type": "stream",
          "text": [
            " [Elapsed Time: 0:01:03] |###############| [Time:  0:01:03] [Train Acc:  0.992]\n"
          ],
          "name": "stderr"
        },
        {
          "output_type": "stream",
          "text": [
            "Epoch 54:\n",
            "\ttrain\tLoss: 0.25956\tVGG 1:0.99937\tVGG 2:0.99922\tVGG *:0.93357\n",
            "\tval\tLoss: 0.23694\tVGG 1:0.982\tVGG 2:0.98357\tVGG *:0.97614\n",
            "\ttest\tLoss: 0.21032\tVGG 1:0.97943\tVGG 2:0.9911\tVGG *:0.97884\n",
            "Accuracy test VGGA: 0.98597\n",
            "Accuracy test VGGB: 0.98706\n",
            "Accuracy test VGG*: 0.9787\n",
            "Accuracy test VGGSTAR: 0.92874\n"
          ],
          "name": "stdout"
        },
        {
          "output_type": "stream",
          "text": [
            " [Elapsed Time: 0:01:04] |###############| [Time:  0:01:04] [Train Acc:  0.992]\n"
          ],
          "name": "stderr"
        },
        {
          "output_type": "stream",
          "text": [
            "Epoch 55:\n",
            "\ttrain\tLoss: 0.10669\tVGG 1:0.9997\tVGG 2:0.99941\tVGG *:0.97133\n",
            "\tval\tLoss: 0.19258\tVGG 1:0.98494\tVGG 2:0.98637\tVGG *:0.97898\n",
            "\ttest\tLoss: 0.17309\tVGG 1:0.97903\tVGG 2:0.99229\tVGG *:0.98072\n",
            "Accuracy test VGGA: 0.98617\n",
            "Accuracy test VGGB: 0.98716\n",
            "Accuracy test VGG*: 0.98059\n",
            "Accuracy test VGGSTAR: 0.95113\n"
          ],
          "name": "stdout"
        },
        {
          "output_type": "stream",
          "text": [
            " [Elapsed Time: 0:01:03] |###############| [Time:  0:01:03] [Train Acc:  0.977]\n"
          ],
          "name": "stderr"
        },
        {
          "output_type": "stream",
          "text": [
            "Epoch 56:\n",
            "\ttrain\tLoss: 0.081281\tVGG 1:0.99978\tVGG 2:0.99963\tVGG *:0.97469\n",
            "\tval\tLoss: 0.16942\tVGG 1:0.9857\tVGG 2:0.98998\tVGG *:0.97934\n",
            "\ttest\tLoss: 0.16279\tVGG 1:0.97943\tVGG 2:0.99367\tVGG *:0.98131\n",
            "Accuracy test VGGA: 0.98607\n",
            "Accuracy test VGGB: 0.98865\n",
            "Accuracy test VGG*: 0.98119\n",
            "Accuracy test VGGSTAR: 0.94755\n"
          ],
          "name": "stdout"
        },
        {
          "output_type": "stream",
          "text": [
            " [Elapsed Time: 0:01:03] |###############| [Time:  0:01:03] [Train Acc:  0.992]\n"
          ],
          "name": "stderr"
        },
        {
          "output_type": "stream",
          "text": [
            "Epoch 57:\n",
            "\ttrain\tLoss: 0.084796\tVGG 1:0.99944\tVGG 2:0.99963\tVGG *:0.97452\n",
            "\tval\tLoss: 0.18449\tVGG 1:0.98333\tVGG 2:0.98836\tVGG *:0.97898\n",
            "\ttest\tLoss: 0.17429\tVGG 1:0.98022\tVGG 2:0.99347\tVGG *:0.97943\n",
            "Accuracy test VGGA: 0.98627\n",
            "Accuracy test VGGB: 0.98855\n",
            "Accuracy test VGG*: 0.9793\n",
            "Accuracy test VGGSTAR: 0.92327\n"
          ],
          "name": "stdout"
        },
        {
          "output_type": "stream",
          "text": [
            " [Elapsed Time: 0:01:03] |###############| [Time:  0:01:03] [Train Acc:  0.984]\n"
          ],
          "name": "stderr"
        },
        {
          "output_type": "stream",
          "text": [
            "Epoch 58:\n",
            "\ttrain\tLoss: 0.083604\tVGG 1:0.99985\tVGG 2:0.99985\tVGG *:0.97502\n",
            "\tval\tLoss: 0.18464\tVGG 1:0.98271\tVGG 2:0.99003\tVGG *:0.97844\n",
            "\ttest\tLoss: 0.17082\tVGG 1:0.98101\tVGG 2:0.99328\tVGG *:0.97973\n",
            "Accuracy test VGGA: 0.98676\n",
            "Accuracy test VGGB: 0.98895\n",
            "Accuracy test VGG*: 0.9796\n",
            "Accuracy test VGGSTAR: 0.91839\n"
          ],
          "name": "stdout"
        },
        {
          "output_type": "stream",
          "text": [
            " [Elapsed Time: 0:01:03] |###############| [Time:  0:01:03] [Train Acc:  0.977]\n"
          ],
          "name": "stderr"
        },
        {
          "output_type": "stream",
          "text": [
            "Epoch 59:\n",
            "\ttrain\tLoss: 0.10069\tVGG 1:0.99989\tVGG 2:0.99848\tVGG *:0.97038\n",
            "\tval\tLoss: 0.17906\tVGG 1:0.98362\tVGG 2:0.9887\tVGG *:0.98029\n",
            "\ttest\tLoss: 0.1613\tVGG 1:0.98062\tVGG 2:0.9909\tVGG *:0.9819\n",
            "Accuracy test VGGA: 0.98637\n",
            "Accuracy test VGGB: 0.98656\n",
            "Accuracy test VGG*: 0.98179\n",
            "Accuracy test VGGSTAR: 0.88246\n"
          ],
          "name": "stdout"
        },
        {
          "output_type": "stream",
          "text": [
            " [Elapsed Time: 0:01:04] |###############| [Time:  0:01:04] [Train Acc:  0.977]\n"
          ],
          "name": "stderr"
        },
        {
          "output_type": "stream",
          "text": [
            "Epoch 60:\n",
            "\ttrain\tLoss: 0.088064\tVGG 1:0.99989\tVGG 2:0.99762\tVGG *:0.97524\n",
            "\tval\tLoss: 0.18452\tVGG 1:0.98471\tVGG 2:0.98732\tVGG *:0.97894\n",
            "\ttest\tLoss: 0.16712\tVGG 1:0.98081\tVGG 2:0.9915\tVGG *:0.9817\n",
            "Accuracy test VGGA: 0.98716\n",
            "Accuracy test VGGB: 0.98617\n",
            "Accuracy test VGG*: 0.98159\n",
            "Accuracy test VGGSTAR: 0.93292\n"
          ],
          "name": "stdout"
        },
        {
          "output_type": "stream",
          "text": [
            " [Elapsed Time: 0:01:04] |###############| [Time:  0:01:04] [Train Acc:  0.984]\n"
          ],
          "name": "stderr"
        },
        {
          "output_type": "stream",
          "text": [
            "Epoch 61:\n",
            "\ttrain\tLoss: 0.085558\tVGG 1:0.99952\tVGG 2:0.99907\tVGG *:0.97447\n",
            "\tval\tLoss: 0.18352\tVGG 1:0.98267\tVGG 2:0.98699\tVGG *:0.98148\n",
            "\ttest\tLoss: 0.15977\tVGG 1:0.98042\tVGG 2:0.99387\tVGG *:0.9822\n",
            "Accuracy test VGGA: 0.98627\n",
            "Accuracy test VGGB: 0.98885\n",
            "Accuracy test VGG*: 0.98209\n",
            "Accuracy test VGGSTAR: 0.9167\n"
          ],
          "name": "stdout"
        },
        {
          "output_type": "stream",
          "text": [
            " [Elapsed Time: 0:01:04] |###############| [Time:  0:01:04] [Train Acc:  0.992]\n"
          ],
          "name": "stderr"
        },
        {
          "output_type": "stream",
          "text": [
            "Epoch 62:\n",
            "\ttrain\tLoss: 0.078321\tVGG 1:0.99989\tVGG 2:0.99967\tVGG *:0.97623\n",
            "\tval\tLoss: 0.16438\tVGG 1:0.98637\tVGG 2:0.99069\tVGG *:0.98267\n",
            "\ttest\tLoss: 0.15938\tVGG 1:0.97903\tVGG 2:0.99328\tVGG *:0.98329\n",
            "Accuracy test VGGA: 0.98557\n",
            "Accuracy test VGGB: 0.98756\n",
            "Accuracy test VGG*: 0.98318\n",
            "Accuracy test VGGSTAR: 0.95004\n"
          ],
          "name": "stdout"
        },
        {
          "output_type": "stream",
          "text": [
            " [Elapsed Time: 0:01:04] |###############| [Time:  0:01:04] [Train Acc:  0.992]\n"
          ],
          "name": "stderr"
        },
        {
          "output_type": "stream",
          "text": [
            "Epoch 63:\n",
            "\ttrain\tLoss: 0.074146\tVGG 1:0.99985\tVGG 2:0.99996\tVGG *:0.97651\n",
            "\tval\tLoss: 0.18585\tVGG 1:0.98195\tVGG 2:0.99098\tVGG *:0.98129\n",
            "\ttest\tLoss: 0.15859\tVGG 1:0.9818\tVGG 2:0.99387\tVGG *:0.9821\n",
            "Accuracy test VGGA: 0.98716\n",
            "Accuracy test VGGB: 0.98806\n",
            "Accuracy test VGG*: 0.98199\n",
            "Accuracy test VGGSTAR: 0.95183\n"
          ],
          "name": "stdout"
        },
        {
          "output_type": "stream",
          "text": [
            " [Elapsed Time: 0:01:04] |###############| [Time:  0:01:04] [Train Acc:  0.977]\n"
          ],
          "name": "stderr"
        },
        {
          "output_type": "stream",
          "text": [
            "Epoch 64:\n",
            "\ttrain\tLoss: 0.076436\tVGG 1:0.99993\tVGG 2:0.99981\tVGG *:0.97602\n",
            "\tval\tLoss: 0.1819\tVGG 1:0.98471\tVGG 2:0.98927\tVGG *:0.98065\n",
            "\ttest\tLoss: 0.1646\tVGG 1:0.98062\tVGG 2:0.99347\tVGG *:0.98151\n",
            "Accuracy test VGGA: 0.98637\n",
            "Accuracy test VGGB: 0.98826\n",
            "Accuracy test VGG*: 0.98139\n",
            "Accuracy test VGGSTAR: 0.93242\n"
          ],
          "name": "stdout"
        },
        {
          "output_type": "stream",
          "text": [
            " [Elapsed Time: 0:01:03] |###############| [Time:  0:01:03] [Train Acc:  0.969]\n"
          ],
          "name": "stderr"
        },
        {
          "output_type": "stream",
          "text": [
            "Epoch 65:\n",
            "\ttrain\tLoss: 0.073077\tVGG 1:0.99996\tVGG 2:0.99985\tVGG *:0.97747\n",
            "\tval\tLoss: 0.18188\tVGG 1:0.98428\tVGG 2:0.99036\tVGG *:0.98131\n",
            "\ttest\tLoss: 0.16305\tVGG 1:0.98062\tVGG 2:0.99367\tVGG *:0.98151\n",
            "Accuracy test VGGA: 0.98646\n",
            "Accuracy test VGGB: 0.98696\n",
            "Accuracy test VGG*: 0.98139\n",
            "Accuracy test VGGSTAR: 0.95293\n"
          ],
          "name": "stdout"
        },
        {
          "output_type": "stream",
          "text": [
            " [Elapsed Time: 0:01:03] |###############| [Time:  0:01:03] [Train Acc:  0.992]\n"
          ],
          "name": "stderr"
        },
        {
          "output_type": "stream",
          "text": [
            "Epoch 66:\n",
            "\ttrain\tLoss: 0.075205\tVGG 1:0.99981\tVGG 2:0.99996\tVGG *:0.97745\n",
            "\tval\tLoss: 0.18473\tVGG 1:0.98537\tVGG 2:0.98898\tVGG *:0.98079\n",
            "\ttest\tLoss: 0.1595\tVGG 1:0.98081\tVGG 2:0.99367\tVGG *:0.98299\n",
            "Accuracy test VGGA: 0.98646\n",
            "Accuracy test VGGB: 0.98806\n",
            "Accuracy test VGG*: 0.98288\n",
            "Accuracy test VGGSTAR: 0.95253\n"
          ],
          "name": "stdout"
        },
        {
          "output_type": "stream",
          "text": [
            " [Elapsed Time: 0:01:03] |###############| [Time:  0:01:03] [Train Acc:  0.992]\n"
          ],
          "name": "stderr"
        },
        {
          "output_type": "stream",
          "text": [
            "Epoch 67:\n",
            "\ttrain\tLoss: 0.073302\tVGG 1:0.99981\tVGG 2:0.99993\tVGG *:0.97751\n",
            "\tval\tLoss: 0.16506\tVGG 1:0.98471\tVGG 2:0.99235\tVGG *:0.98264\n",
            "\ttest\tLoss: 0.16486\tVGG 1:0.97884\tVGG 2:0.99446\tVGG *:0.9822\n",
            "Accuracy test VGGA: 0.98577\n",
            "Accuracy test VGGB: 0.98846\n",
            "Accuracy test VGG*: 0.98209\n",
            "Accuracy test VGGSTAR: 0.95462\n"
          ],
          "name": "stdout"
        },
        {
          "output_type": "stream",
          "text": [
            " [Elapsed Time: 0:01:04] |###############| [Time:  0:01:04] [Train Acc:  0.992]\n"
          ],
          "name": "stderr"
        },
        {
          "output_type": "stream",
          "text": [
            "Epoch 68:\n",
            "\ttrain\tLoss: 0.0719\tVGG 1:0.99993\tVGG 2:0.99993\tVGG *:0.97749\n",
            "\tval\tLoss: 0.18513\tVGG 1:0.984\tVGG 2:0.99098\tVGG *:0.9778\n",
            "\ttest\tLoss: 0.16909\tVGG 1:0.97983\tVGG 2:0.99446\tVGG *:0.97973\n",
            "Accuracy test VGGA: 0.98637\n",
            "Accuracy test VGGB: 0.98915\n",
            "Accuracy test VGG*: 0.98029\n",
            "Accuracy test VGGSTAR: 0.9577\n"
          ],
          "name": "stdout"
        },
        {
          "output_type": "stream",
          "text": [
            " [Elapsed Time: 0:01:03] |###############| [Time:  0:01:03] [Train Acc:  0.977]\n"
          ],
          "name": "stderr"
        },
        {
          "output_type": "stream",
          "text": [
            "Epoch 69:\n",
            "\ttrain\tLoss: 0.076745\tVGG 1:0.99967\tVGG 2:1.0\tVGG *:0.97615\n",
            "\tval\tLoss: 0.19078\tVGG 1:0.984\tVGG 2:0.98965\tVGG *:0.97687\n",
            "\ttest\tLoss: 0.16374\tVGG 1:0.97943\tVGG 2:0.99328\tVGG *:0.98072\n",
            "Accuracy test VGGA: 0.98617\n",
            "Accuracy test VGGB: 0.98796\n",
            "Accuracy test VGG*: 0.98059\n",
            "Accuracy test VGGSTAR: 0.94029\n"
          ],
          "name": "stdout"
        },
        {
          "output_type": "stream",
          "text": [
            " [Elapsed Time: 0:01:03] |###############| [Time:  0:01:03] [Train Acc:  0.992]\n"
          ],
          "name": "stderr"
        },
        {
          "output_type": "stream",
          "text": [
            "Epoch 70:\n",
            "\ttrain\tLoss: 0.078877\tVGG 1:0.99996\tVGG 2:0.99996\tVGG *:0.97512\n",
            "\tval\tLoss: 0.18865\tVGG 1:0.983\tVGG 2:0.99164\tVGG *:0.97666\n",
            "\ttest\tLoss: 0.17162\tVGG 1:0.98022\tVGG 2:0.99367\tVGG *:0.97903\n",
            "Accuracy test VGGA: 0.98607\n",
            "Accuracy test VGGB: 0.98796\n",
            "Accuracy test VGG*: 0.9789\n",
            "Accuracy test VGGSTAR: 0.96139\n"
          ],
          "name": "stdout"
        },
        {
          "output_type": "stream",
          "text": [
            " [Elapsed Time: 0:01:03] |###############| [Time:  0:01:03] [Train Acc:  0.977]\n"
          ],
          "name": "stderr"
        },
        {
          "output_type": "stream",
          "text": [
            "Epoch 71:\n",
            "\ttrain\tLoss: 0.070647\tVGG 1:0.99996\tVGG 2:0.99963\tVGG *:0.97749\n",
            "\tval\tLoss: 0.19211\tVGG 1:0.98333\tVGG 2:0.98927\tVGG *:0.97879\n",
            "\ttest\tLoss: 0.16789\tVGG 1:0.97864\tVGG 2:0.99367\tVGG *:0.9822\n",
            "Accuracy test VGGA: 0.98587\n",
            "Accuracy test VGGB: 0.98855\n",
            "Accuracy test VGG*: 0.98209\n",
            "Accuracy test VGGSTAR: 0.96029\n"
          ],
          "name": "stdout"
        },
        {
          "output_type": "stream",
          "text": [
            " [Elapsed Time: 0:01:03] |###############| [Time:  0:01:03] [Train Acc:    1.0]\n"
          ],
          "name": "stderr"
        },
        {
          "output_type": "stream",
          "text": [
            "Epoch 72:\n",
            "\ttrain\tLoss: 0.074088\tVGG 1:1.0\tVGG 2:0.99996\tVGG *:0.9764\n",
            "\tval\tLoss: 0.17473\tVGG 1:0.98338\tVGG 2:0.99131\tVGG *:0.98316\n",
            "\ttest\tLoss: 0.16247\tVGG 1:0.97884\tVGG 2:0.99446\tVGG *:0.98388\n",
            "Accuracy test VGGA: 0.98577\n",
            "Accuracy test VGGB: 0.98885\n",
            "Accuracy test VGG*: 0.98378\n",
            "Accuracy test VGGSTAR: 0.9374\n"
          ],
          "name": "stdout"
        },
        {
          "output_type": "stream",
          "text": [
            " [Elapsed Time: 0:01:03] |###############| [Time:  0:01:03] [Train Acc:  0.992]\n"
          ],
          "name": "stderr"
        },
        {
          "output_type": "stream",
          "text": [
            "Epoch 73:\n",
            "\ttrain\tLoss: 0.07484\tVGG 1:0.99993\tVGG 2:1.0\tVGG *:0.9769\n",
            "\tval\tLoss: 0.16917\tVGG 1:0.98604\tVGG 2:0.99131\tVGG *:0.98029\n",
            "\ttest\tLoss: 0.16574\tVGG 1:0.97983\tVGG 2:0.99486\tVGG *:0.98279\n",
            "Accuracy test VGGA: 0.98617\n",
            "Accuracy test VGGB: 0.98915\n",
            "Accuracy test VGG*: 0.98268\n",
            "Accuracy test VGGSTAR: 0.92755\n"
          ],
          "name": "stdout"
        },
        {
          "output_type": "stream",
          "text": [
            " [Elapsed Time: 0:01:04] |###############| [Time:  0:01:04] [Train Acc:  0.992]\n"
          ],
          "name": "stderr"
        },
        {
          "output_type": "stream",
          "text": [
            "Epoch 74:\n",
            "\ttrain\tLoss: 0.068011\tVGG 1:0.99981\tVGG 2:1.0\tVGG *:0.97868\n",
            "\tval\tLoss: 0.18036\tVGG 1:0.98438\tVGG 2:0.98998\tVGG *:0.98079\n",
            "\ttest\tLoss: 0.16937\tVGG 1:0.97805\tVGG 2:0.99367\tVGG *:0.98378\n",
            "Accuracy test VGGA: 0.98547\n",
            "Accuracy test VGGB: 0.98746\n",
            "Accuracy test VGG*: 0.98368\n",
            "Accuracy test VGGSTAR: 0.92377\n"
          ],
          "name": "stdout"
        },
        {
          "output_type": "stream",
          "text": [
            " [Elapsed Time: 0:01:04] |###############| [Time:  0:01:04] [Train Acc:  0.992]\n"
          ],
          "name": "stderr"
        },
        {
          "output_type": "stream",
          "text": [
            "Epoch 75:\n",
            "\ttrain\tLoss: 0.069001\tVGG 1:0.99996\tVGG 2:1.0\tVGG *:0.97851\n",
            "\tval\tLoss: 0.17259\tVGG 1:0.984\tVGG 2:0.99098\tVGG *:0.98115\n",
            "\ttest\tLoss: 0.1616\tVGG 1:0.97963\tVGG 2:0.99387\tVGG *:0.98269\n",
            "Accuracy test VGGA: 0.98607\n",
            "Accuracy test VGGB: 0.98865\n",
            "Accuracy test VGG*: 0.98258\n",
            "Accuracy test VGGSTAR: 0.94904\n"
          ],
          "name": "stdout"
        },
        {
          "output_type": "stream",
          "text": [
            " [Elapsed Time: 0:01:03] |###############| [Time:  0:01:03] [Train Acc:  0.984]\n"
          ],
          "name": "stderr"
        },
        {
          "output_type": "stream",
          "text": [
            "Epoch 76:\n",
            "\ttrain\tLoss: 0.070716\tVGG 1:1.0\tVGG 2:1.0\tVGG *:0.97803\n",
            "\tval\tLoss: 0.18195\tVGG 1:0.98366\tVGG 2:0.99098\tVGG *:0.97801\n",
            "\ttest\tLoss: 0.17236\tVGG 1:0.98002\tVGG 2:0.99426\tVGG *:0.97963\n",
            "Accuracy test VGGA: 0.98637\n",
            "Accuracy test VGGB: 0.98836\n",
            "Accuracy test VGG*: 0.9802\n",
            "Accuracy test VGGSTAR: 0.9581\n"
          ],
          "name": "stdout"
        },
        {
          "output_type": "stream",
          "text": [
            " [Elapsed Time: 0:01:04] |###############| [Time:  0:01:04] [Train Acc:    1.0]\n"
          ],
          "name": "stderr"
        },
        {
          "output_type": "stream",
          "text": [
            "Epoch 77:\n",
            "\ttrain\tLoss: 0.075455\tVGG 1:0.99996\tVGG 2:0.99996\tVGG *:0.97614\n",
            "\tval\tLoss: 0.1694\tVGG 1:0.984\tVGG 2:0.99131\tVGG *:0.98269\n",
            "\ttest\tLoss: 0.15632\tVGG 1:0.97923\tVGG 2:0.99387\tVGG *:0.98517\n",
            "Accuracy test VGGA: 0.98577\n",
            "Accuracy test VGGB: 0.98885\n",
            "Accuracy test VGG*: 0.98507\n",
            "Accuracy test VGGSTAR: 0.93292\n"
          ],
          "name": "stdout"
        },
        {
          "output_type": "stream",
          "text": [
            " [Elapsed Time: 0:01:04] |###############| [Time:  0:01:04] [Train Acc:  0.984]\n"
          ],
          "name": "stderr"
        },
        {
          "output_type": "stream",
          "text": [
            "Epoch 78:\n",
            "\ttrain\tLoss: 0.068557\tVGG 1:0.99989\tVGG 2:1.0\tVGG *:0.97823\n",
            "\tval\tLoss: 0.17078\tVGG 1:0.98494\tVGG 2:0.99036\tVGG *:0.98162\n",
            "\ttest\tLoss: 0.15769\tVGG 1:0.98121\tVGG 2:0.99367\tVGG *:0.98368\n",
            "Accuracy test VGGA: 0.98726\n",
            "Accuracy test VGGB: 0.98855\n",
            "Accuracy test VGG*: 0.98358\n",
            "Accuracy test VGGSTAR: 0.95094\n"
          ],
          "name": "stdout"
        },
        {
          "output_type": "stream",
          "text": [
            " [Elapsed Time: 0:01:03] |###############| [Time:  0:01:03] [Train Acc:  0.984]\n"
          ],
          "name": "stderr"
        },
        {
          "output_type": "stream",
          "text": [
            "Epoch 79:\n",
            "\ttrain\tLoss: 0.068033\tVGG 1:0.99996\tVGG 2:0.99996\tVGG *:0.97825\n",
            "\tval\tLoss: 0.17322\tVGG 1:0.98537\tVGG 2:0.99031\tVGG *:0.97927\n",
            "\ttest\tLoss: 0.17056\tVGG 1:0.98081\tVGG 2:0.99367\tVGG *:0.97983\n",
            "Accuracy test VGGA: 0.98676\n",
            "Accuracy test VGGB: 0.98836\n",
            "Accuracy test VGG*: 0.9797\n",
            "Accuracy test VGGSTAR: 0.94148\n"
          ],
          "name": "stdout"
        },
        {
          "output_type": "stream",
          "text": [
            " [Elapsed Time: 0:01:03] |###############| [Time:  0:01:03] [Train Acc:  0.984]\n"
          ],
          "name": "stderr"
        },
        {
          "output_type": "stream",
          "text": [
            "Epoch 80:\n",
            "\ttrain\tLoss: 0.065832\tVGG 1:1.0\tVGG 2:1.0\tVGG *:0.97897\n",
            "\tval\tLoss: 0.17792\tVGG 1:0.98632\tVGG 2:0.98931\tVGG *:0.9791\n",
            "\ttest\tLoss: 0.16706\tVGG 1:0.97963\tVGG 2:0.99407\tVGG *:0.98032\n",
            "Accuracy test VGGA: 0.98627\n",
            "Accuracy test VGGB: 0.98846\n",
            "Accuracy test VGG*: 0.9802\n",
            "Accuracy test VGGSTAR: 0.94895\n"
          ],
          "name": "stdout"
        },
        {
          "output_type": "stream",
          "text": [
            " [Elapsed Time: 0:01:03] |###############| [Time:  0:01:03] [Train Acc:  0.977]\n"
          ],
          "name": "stderr"
        },
        {
          "output_type": "stream",
          "text": [
            "Epoch 81:\n",
            "\ttrain\tLoss: 0.069472\tVGG 1:1.0\tVGG 2:0.99996\tVGG *:0.97764\n",
            "\tval\tLoss: 0.1845\tVGG 1:0.98637\tVGG 2:0.99031\tVGG *:0.98053\n",
            "\ttest\tLoss: 0.1688\tVGG 1:0.98022\tVGG 2:0.99367\tVGG *:0.98032\n",
            "Accuracy test VGGA: 0.98646\n",
            "Accuracy test VGGB: 0.98806\n",
            "Accuracy test VGG*: 0.9802\n",
            "Accuracy test VGGSTAR: 0.96238\n"
          ],
          "name": "stdout"
        },
        {
          "output_type": "stream",
          "text": [
            " [Elapsed Time: 0:01:03] |###############| [Time:  0:01:03] [Train Acc:  0.984]\n"
          ],
          "name": "stderr"
        },
        {
          "output_type": "stream",
          "text": [
            "Epoch 82:\n",
            "\ttrain\tLoss: 0.083309\tVGG 1:1.0\tVGG 2:1.0\tVGG *:0.97554\n",
            "\tval\tLoss: 0.18352\tVGG 1:0.9857\tVGG 2:0.99136\tVGG *:0.97948\n",
            "\ttest\tLoss: 0.16825\tVGG 1:0.97983\tVGG 2:0.99426\tVGG *:0.98151\n",
            "Accuracy test VGGA: 0.98666\n",
            "Accuracy test VGGB: 0.98875\n",
            "Accuracy test VGG*: 0.98139\n",
            "Accuracy test VGGSTAR: 0.95412\n"
          ],
          "name": "stdout"
        },
        {
          "output_type": "stream",
          "text": [
            " [Elapsed Time: 0:01:03] |###############| [Time:  0:01:03] [Train Acc:  0.992]\n"
          ],
          "name": "stderr"
        },
        {
          "output_type": "stream",
          "text": [
            "Epoch 83:\n",
            "\ttrain\tLoss: 0.06729\tVGG 1:1.0\tVGG 2:0.99996\tVGG *:0.97936\n",
            "\tval\tLoss: 0.18624\tVGG 1:0.98433\tVGG 2:0.98927\tVGG *:0.9773\n",
            "\ttest\tLoss: 0.17023\tVGG 1:0.98101\tVGG 2:0.99407\tVGG *:0.97973\n",
            "Accuracy test VGGA: 0.98676\n",
            "Accuracy test VGGB: 0.98836\n",
            "Accuracy test VGG*: 0.9796\n",
            "Accuracy test VGGSTAR: 0.95601\n"
          ],
          "name": "stdout"
        },
        {
          "output_type": "stream",
          "text": [
            " [Elapsed Time: 0:01:03] |###############| [Time:  0:01:03] [Train Acc:  0.977]\n"
          ],
          "name": "stderr"
        },
        {
          "output_type": "stream",
          "text": [
            "Epoch 84:\n",
            "\ttrain\tLoss: 0.065021\tVGG 1:0.99996\tVGG 2:0.99996\tVGG *:0.97998\n",
            "\tval\tLoss: 0.17456\tVGG 1:0.98404\tVGG 2:0.99031\tVGG *:0.98112\n",
            "\ttest\tLoss: 0.1614\tVGG 1:0.98022\tVGG 2:0.99426\tVGG *:0.9817\n",
            "Accuracy test VGGA: 0.98666\n",
            "Accuracy test VGGB: 0.98925\n",
            "Accuracy test VGG*: 0.98159\n",
            "Accuracy test VGGSTAR: 0.95611\n"
          ],
          "name": "stdout"
        },
        {
          "output_type": "stream",
          "text": [
            " [Elapsed Time: 0:01:03] |###############| [Time:  0:01:03] [Train Acc:    1.0]\n"
          ],
          "name": "stderr"
        },
        {
          "output_type": "stream",
          "text": [
            "Epoch 85:\n",
            "\ttrain\tLoss: 0.095562\tVGG 1:1.0\tVGG 2:1.0\tVGG *:0.97092\n",
            "\tval\tLoss: 0.18347\tVGG 1:0.98532\tVGG 2:0.99335\tVGG *:0.97913\n",
            "\ttest\tLoss: 0.15866\tVGG 1:0.98062\tVGG 2:0.99446\tVGG *:0.98348\n",
            "Accuracy test VGGA: 0.98646\n",
            "Accuracy test VGGB: 0.98925\n",
            "Accuracy test VGG*: 0.98338\n",
            "Accuracy test VGGSTAR: 0.96447\n"
          ],
          "name": "stdout"
        },
        {
          "output_type": "stream",
          "text": [
            " [Elapsed Time: 0:01:04] |###############| [Time:  0:01:04] [Train Acc:    1.0]\n"
          ],
          "name": "stderr"
        },
        {
          "output_type": "stream",
          "text": [
            "Epoch 86:\n",
            "\ttrain\tLoss: 0.070179\tVGG 1:0.99996\tVGG 2:1.0\tVGG *:0.97717\n",
            "\tval\tLoss: 0.17784\tVGG 1:0.98499\tVGG 2:0.99098\tVGG *:0.98103\n",
            "\ttest\tLoss: 0.16073\tVGG 1:0.98022\tVGG 2:0.99426\tVGG *:0.98418\n",
            "Accuracy test VGGA: 0.98587\n",
            "Accuracy test VGGB: 0.98955\n",
            "Accuracy test VGG*: 0.98408\n",
            "Accuracy test VGGSTAR: 0.9588\n"
          ],
          "name": "stdout"
        },
        {
          "output_type": "stream",
          "text": [
            " [Elapsed Time: 0:01:03] |###############| [Time:  0:01:03] [Train Acc:  0.992]\n"
          ],
          "name": "stderr"
        },
        {
          "output_type": "stream",
          "text": [
            "Epoch 87:\n",
            "\ttrain\tLoss: 0.063942\tVGG 1:1.0\tVGG 2:1.0\tVGG *:0.97955\n",
            "\tval\tLoss: 0.1777\tVGG 1:0.98499\tVGG 2:0.99131\tVGG *:0.98079\n",
            "\ttest\tLoss: 0.15978\tVGG 1:0.98022\tVGG 2:0.99407\tVGG *:0.98368\n",
            "Accuracy test VGGA: 0.98656\n",
            "Accuracy test VGGB: 0.98925\n",
            "Accuracy test VGG*: 0.98358\n",
            "Accuracy test VGGSTAR: 0.96666\n"
          ],
          "name": "stdout"
        },
        {
          "output_type": "stream",
          "text": [
            " [Elapsed Time: 0:01:03] |###############| [Time:  0:01:03] [Train Acc:  0.992]\n"
          ],
          "name": "stderr"
        },
        {
          "output_type": "stream",
          "text": [
            "Epoch 88:\n",
            "\ttrain\tLoss: 0.064381\tVGG 1:0.99996\tVGG 2:1.0\tVGG *:0.97979\n",
            "\tval\tLoss: 0.18098\tVGG 1:0.98637\tVGG 2:0.99164\tVGG *:0.97713\n",
            "\ttest\tLoss: 0.1757\tVGG 1:0.98042\tVGG 2:0.99407\tVGG *:0.98022\n",
            "Accuracy test VGGA: 0.98656\n",
            "Accuracy test VGGB: 0.98855\n",
            "Accuracy test VGG*: 0.9801\n",
            "Accuracy test VGGSTAR: 0.95701\n"
          ],
          "name": "stdout"
        },
        {
          "output_type": "stream",
          "text": [
            " [Elapsed Time: 0:01:03] |###############| [Time:  0:01:03] [Train Acc:  0.984]\n"
          ],
          "name": "stderr"
        },
        {
          "output_type": "stream",
          "text": [
            "Epoch 89:\n",
            "\ttrain\tLoss: 0.070707\tVGG 1:1.0\tVGG 2:1.0\tVGG *:0.97849\n",
            "\tval\tLoss: 0.1866\tVGG 1:0.98471\tVGG 2:0.99202\tVGG *:0.97953\n",
            "\ttest\tLoss: 0.17246\tVGG 1:0.98081\tVGG 2:0.99367\tVGG *:0.98141\n",
            "Accuracy test VGGA: 0.98646\n",
            "Accuracy test VGGB: 0.98875\n",
            "Accuracy test VGG*: 0.98129\n",
            "Accuracy test VGGSTAR: 0.96139\n"
          ],
          "name": "stdout"
        },
        {
          "output_type": "stream",
          "text": [
            " [Elapsed Time: 0:01:04] |###############| [Time:  0:01:04] [Train Acc:  0.992]\n"
          ],
          "name": "stderr"
        },
        {
          "output_type": "stream",
          "text": [
            "Epoch 90:\n",
            "\ttrain\tLoss: 0.063847\tVGG 1:1.0\tVGG 2:1.0\tVGG *:0.97935\n",
            "\tval\tLoss: 0.16931\tVGG 1:0.98703\tVGG 2:0.99269\tVGG *:0.98198\n",
            "\ttest\tLoss: 0.15875\tVGG 1:0.97983\tVGG 2:0.99407\tVGG *:0.9821\n",
            "Accuracy test VGGA: 0.98637\n",
            "Accuracy test VGGB: 0.98846\n",
            "Accuracy test VGG*: 0.98199\n",
            "Accuracy test VGGSTAR: 0.96148\n"
          ],
          "name": "stdout"
        },
        {
          "output_type": "stream",
          "text": [
            " [Elapsed Time: 0:01:04] |###############| [Time:  0:01:04] [Train Acc:  0.992]\n"
          ],
          "name": "stderr"
        },
        {
          "output_type": "stream",
          "text": [
            "Epoch 91:\n",
            "\ttrain\tLoss: 0.065338\tVGG 1:1.0\tVGG 2:1.0\tVGG *:0.97883\n",
            "\tval\tLoss: 0.17739\tVGG 1:0.98366\tVGG 2:0.99098\tVGG *:0.97998\n",
            "\ttest\tLoss: 0.16204\tVGG 1:0.98141\tVGG 2:0.99367\tVGG *:0.98368\n",
            "Accuracy test VGGA: 0.98686\n",
            "Accuracy test VGGB: 0.98836\n",
            "Accuracy test VGG*: 0.98358\n",
            "Accuracy test VGGSTAR: 0.96497\n"
          ],
          "name": "stdout"
        },
        {
          "output_type": "stream",
          "text": [
            " [Elapsed Time: 0:01:03] |###############| [Time:  0:01:03] [Train Acc:  0.977]\n"
          ],
          "name": "stderr"
        },
        {
          "output_type": "stream",
          "text": [
            "Epoch 92:\n",
            "\ttrain\tLoss: 0.21791\tVGG 1:1.0\tVGG 2:1.0\tVGG *:0.93104\n",
            "\tval\tLoss: 0.18376\tVGG 1:0.98333\tVGG 2:0.99131\tVGG *:0.97896\n",
            "\ttest\tLoss: 0.16872\tVGG 1:0.97923\tVGG 2:0.99446\tVGG *:0.98012\n",
            "Accuracy test VGGA: 0.98627\n",
            "Accuracy test VGGB: 0.98895\n",
            "Accuracy test VGG*: 0.98\n",
            "Accuracy test VGGSTAR: 0.96029\n"
          ],
          "name": "stdout"
        },
        {
          "output_type": "stream",
          "text": [
            " [Elapsed Time: 0:01:03] |###############| [Time:  0:01:03] [Train Acc:  0.977]\n"
          ],
          "name": "stderr"
        },
        {
          "output_type": "stream",
          "text": [
            "Epoch 93:\n",
            "\ttrain\tLoss: 0.060797\tVGG 1:1.0\tVGG 2:1.0\tVGG *:0.98074\n",
            "\tval\tLoss: 0.17122\tVGG 1:0.98566\tVGG 2:0.98965\tVGG *:0.98172\n",
            "\ttest\tLoss: 0.17101\tVGG 1:0.97963\tVGG 2:0.99466\tVGG *:0.98081\n",
            "Accuracy test VGGA: 0.98607\n",
            "Accuracy test VGGB: 0.98925\n",
            "Accuracy test VGG*: 0.98069\n",
            "Accuracy test VGGSTAR: 0.96228\n"
          ],
          "name": "stdout"
        },
        {
          "output_type": "stream",
          "text": [
            " [Elapsed Time: 0:01:04] |###############| [Time:  0:01:04] [Train Acc:  0.992]\n"
          ],
          "name": "stderr"
        },
        {
          "output_type": "stream",
          "text": [
            "Epoch 94:\n",
            "\ttrain\tLoss: 0.065356\tVGG 1:1.0\tVGG 2:1.0\tVGG *:0.97923\n",
            "\tval\tLoss: 0.18144\tVGG 1:0.98532\tVGG 2:0.99031\tVGG *:0.98046\n",
            "\ttest\tLoss: 0.15987\tVGG 1:0.97963\tVGG 2:0.99426\tVGG *:0.98269\n",
            "Accuracy test VGGA: 0.98627\n",
            "Accuracy test VGGB: 0.98885\n",
            "Accuracy test VGG*: 0.98258\n",
            "Accuracy test VGGSTAR: 0.96576\n"
          ],
          "name": "stdout"
        },
        {
          "output_type": "stream",
          "text": [
            " [Elapsed Time: 0:01:04] |###############| [Time:  0:01:04] [Train Acc:  0.977]\n"
          ],
          "name": "stderr"
        },
        {
          "output_type": "stream",
          "text": [
            "Epoch 95:\n",
            "\ttrain\tLoss: 0.063231\tVGG 1:1.0\tVGG 2:1.0\tVGG *:0.97983\n",
            "\tval\tLoss: 0.1685\tVGG 1:0.98566\tVGG 2:0.99131\tVGG *:0.98449\n",
            "\ttest\tLoss: 0.15964\tVGG 1:0.98042\tVGG 2:0.99426\tVGG *:0.98329\n",
            "Accuracy test VGGA: 0.98646\n",
            "Accuracy test VGGB: 0.98875\n",
            "Accuracy test VGG*: 0.98318\n",
            "Accuracy test VGGSTAR: 0.96825\n"
          ],
          "name": "stdout"
        },
        {
          "output_type": "stream",
          "text": [
            " [Elapsed Time: 0:01:04] |###############| [Time:  0:01:04] [Train Acc:  0.984]\n"
          ],
          "name": "stderr"
        },
        {
          "output_type": "stream",
          "text": [
            "Epoch 96:\n",
            "\ttrain\tLoss: 0.061945\tVGG 1:1.0\tVGG 2:1.0\tVGG *:0.98009\n",
            "\tval\tLoss: 0.19476\tVGG 1:0.98433\tVGG 2:0.99169\tVGG *:0.97685\n",
            "\ttest\tLoss: 0.168\tVGG 1:0.98002\tVGG 2:0.99407\tVGG *:0.98002\n",
            "Accuracy test VGGA: 0.98646\n",
            "Accuracy test VGGB: 0.98895\n",
            "Accuracy test VGG*: 0.9799\n",
            "Accuracy test VGGSTAR: 0.96785\n"
          ],
          "name": "stdout"
        },
        {
          "output_type": "stream",
          "text": [
            " [Elapsed Time: 0:01:03] |###############| [Time:  0:01:03] [Train Acc:  0.984]\n"
          ],
          "name": "stderr"
        },
        {
          "output_type": "stream",
          "text": [
            "Epoch 97:\n",
            "\ttrain\tLoss: 0.064504\tVGG 1:1.0\tVGG 2:1.0\tVGG *:0.97868\n",
            "\tval\tLoss: 0.17014\tVGG 1:0.98637\tVGG 2:0.99136\tVGG *:0.98103\n",
            "\ttest\tLoss: 0.15606\tVGG 1:0.98042\tVGG 2:0.99426\tVGG *:0.98398\n",
            "Accuracy test VGGA: 0.98656\n",
            "Accuracy test VGGB: 0.98905\n",
            "Accuracy test VGG*: 0.98388\n",
            "Accuracy test VGGSTAR: 0.96228\n"
          ],
          "name": "stdout"
        },
        {
          "output_type": "stream",
          "text": [
            " [Elapsed Time: 0:01:03] |###############| [Time:  0:01:03] [Train Acc:    1.0]\n"
          ],
          "name": "stderr"
        },
        {
          "output_type": "stream",
          "text": [
            "Epoch 98:\n",
            "\ttrain\tLoss: 0.06185\tVGG 1:1.0\tVGG 2:1.0\tVGG *:0.97977\n",
            "\tval\tLoss: 0.18638\tVGG 1:0.98599\tVGG 2:0.99031\tVGG *:0.97682\n",
            "\ttest\tLoss: 0.18107\tVGG 1:0.98022\tVGG 2:0.99407\tVGG *:0.97488\n",
            "Accuracy test VGGA: 0.98656\n",
            "Accuracy test VGGB: 0.98875\n",
            "Accuracy test VGG*: 0.97542\n",
            "Accuracy test VGGSTAR: 0.96387\n"
          ],
          "name": "stdout"
        },
        {
          "output_type": "stream",
          "text": [
            " [Elapsed Time: 0:01:03] |###############| [Time:  0:01:03] [Train Acc:  0.992]\n"
          ],
          "name": "stderr"
        },
        {
          "output_type": "stream",
          "text": [
            "Epoch 99:\n",
            "\ttrain\tLoss: 0.057944\tVGG 1:1.0\tVGG 2:1.0\tVGG *:0.98178\n",
            "\tval\tLoss: 0.1796\tVGG 1:0.98637\tVGG 2:0.99169\tVGG *:0.98131\n",
            "\ttest\tLoss: 0.16196\tVGG 1:0.98042\tVGG 2:0.99446\tVGG *:0.98348\n",
            "Accuracy test VGGA: 0.98666\n",
            "Accuracy test VGGB: 0.98875\n",
            "Accuracy test VGG*: 0.98338\n",
            "Accuracy test VGGSTAR: 0.96477\n"
          ],
          "name": "stdout"
        },
        {
          "output_type": "stream",
          "text": [
            " [Elapsed Time: 0:01:04] |###############| [Time:  0:01:04] [Train Acc:    1.0]\n"
          ],
          "name": "stderr"
        },
        {
          "output_type": "stream",
          "text": [
            "Epoch 100:\n",
            "\ttrain\tLoss: 0.061718\tVGG 1:0.99989\tVGG 2:1.0\tVGG *:0.98102\n",
            "\tval\tLoss: 0.17802\tVGG 1:0.98404\tVGG 2:0.99031\tVGG *:0.98397\n",
            "\ttest\tLoss: 0.16138\tVGG 1:0.98141\tVGG 2:0.99387\tVGG *:0.98289\n",
            "Accuracy test VGGA: 0.98686\n",
            "Accuracy test VGGB: 0.98846\n",
            "Accuracy test VGG*: 0.98278\n",
            "Accuracy test VGGSTAR: 0.96348\n"
          ],
          "name": "stdout"
        },
        {
          "output_type": "display_data",
          "data": {
            "image/png": "[encoded data removed]",
            "text/plain": [
              "<Figure size 432x288 with 1 Axes>"
            ]
          },
          "metadata": {
            "tags": [],
            "needs_background": "light"
          }
        }
      ]
    },
    {
      "cell_type": "code",
      "metadata": {
        "colab": {
          "base_uri": "https://localhost:8080/"
        },
        "id": "wRJ7gX-in_BL",
        "outputId": "5bdbef42-eae1-46ec-d880-364614c47892"
      },
      "source": [
        "!pip install --upgrade progressbar2"
      ],
      "execution_count": null,
      "outputs": [
        {
          "output_type": "stream",
          "text": [
            "Requirement already satisfied: progressbar2 in /usr/local/lib/python3.7/dist-packages (3.38.0)\n",
            "Collecting progressbar2\n",
            "  Downloading progressbar2-3.53.1-py2.py3-none-any.whl (25 kB)\n",
            "Requirement already satisfied: six in /usr/local/lib/python3.7/dist-packages (from progressbar2) (1.15.0)\n",
            "Requirement already satisfied: python-utils>=2.3.0 in /usr/local/lib/python3.7/dist-packages (from progressbar2) (2.5.6)\n",
            "Installing collected packages: progressbar2\n",
            "  Attempting uninstall: progressbar2\n",
            "    Found existing installation: progressbar2 3.38.0\n",
            "    Uninstalling progressbar2-3.38.0:\n",
            "      Successfully uninstalled progressbar2-3.38.0\n",
            "Successfully installed progressbar2-3.53.1\n"
          ],
          "name": "stdout"
        }
      ]
    },
    {
      "cell_type": "code",
      "metadata": {
        "id": "8OkFGrWghD-D"
      },
      "source": [
        ""
      ],
      "execution_count": null,
      "outputs": []
    }
  ]
}
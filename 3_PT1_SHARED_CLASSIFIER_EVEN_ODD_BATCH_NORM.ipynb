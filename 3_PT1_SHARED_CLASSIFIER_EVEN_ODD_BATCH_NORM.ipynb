{
  "nbformat": 4,
  "nbformat_minor": 0,
  "metadata": {
    "accelerator": "GPU",
    "colab": {
      "name": "3 VALERIO PT1 SHARED CLASSIFIER EVEN/ODD BATCH NORM",
      "provenance": [],
      "collapsed_sections": []
    },
    "kernelspec": {
      "display_name": "Python 3",
      "name": "python3"
    },
    "language_info": {
      "name": "python"
    },
    "widgets": {
      "application/vnd.jupyter.widget-state+json": {
        "089112bb29e2443c8a7378a4c765ee30": {
          "model_module": "@jupyter-widgets/controls",
          "model_name": "HBoxModel",
          "model_module_version": "1.5.0",
          "state": {
            "_view_name": "HBoxView",
            "_dom_classes": [],
            "_model_name": "HBoxModel",
            "_view_module": "@jupyter-widgets/controls",
            "_model_module_version": "1.5.0",
            "_view_count": null,
            "_view_module_version": "1.5.0",
            "box_style": "",
            "layout": "IPY_MODEL_be00f8047c5d4df6bc5bc625ad2c143d",
            "_model_module": "@jupyter-widgets/controls",
            "children": [
              "IPY_MODEL_b30356c121784ef5ab6cd4be8fc4c966",
              "IPY_MODEL_d8eb5ffd072e4cb1a3e570f2fc464345",
              "IPY_MODEL_752d88ade5c24edb8268a76504505ae8"
            ]
          }
        },
        "be00f8047c5d4df6bc5bc625ad2c143d": {
          "model_module": "@jupyter-widgets/base",
          "model_name": "LayoutModel",
          "model_module_version": "1.2.0",
          "state": {
            "_view_name": "LayoutView",
            "grid_template_rows": null,
            "right": null,
            "justify_content": null,
            "_view_module": "@jupyter-widgets/base",
            "overflow": null,
            "_model_module_version": "1.2.0",
            "_view_count": null,
            "flex_flow": null,
            "width": null,
            "min_width": null,
            "border": null,
            "align_items": null,
            "bottom": null,
            "_model_module": "@jupyter-widgets/base",
            "top": null,
            "grid_column": null,
            "overflow_y": null,
            "overflow_x": null,
            "grid_auto_flow": null,
            "grid_area": null,
            "grid_template_columns": null,
            "flex": null,
            "_model_name": "LayoutModel",
            "justify_items": null,
            "grid_row": null,
            "max_height": null,
            "align_content": null,
            "visibility": null,
            "align_self": null,
            "height": null,
            "min_height": null,
            "padding": null,
            "grid_auto_rows": null,
            "grid_gap": null,
            "max_width": null,
            "order": null,
            "_view_module_version": "1.2.0",
            "grid_template_areas": null,
            "object_position": null,
            "object_fit": null,
            "grid_auto_columns": null,
            "margin": null,
            "display": null,
            "left": null
          }
        },
        "b30356c121784ef5ab6cd4be8fc4c966": {
          "model_module": "@jupyter-widgets/controls",
          "model_name": "HTMLModel",
          "model_module_version": "1.5.0",
          "state": {
            "_view_name": "HTMLView",
            "style": "IPY_MODEL_ccb60cc16e1442cd9f756059993831c7",
            "_dom_classes": [],
            "description": "",
            "_model_name": "HTMLModel",
            "placeholder": "​",
            "_view_module": "@jupyter-widgets/controls",
            "_model_module_version": "1.5.0",
            "value": "",
            "_view_count": null,
            "_view_module_version": "1.5.0",
            "description_tooltip": null,
            "_model_module": "@jupyter-widgets/controls",
            "layout": "IPY_MODEL_dd0980604c3b4332ab7ca3de9dcbe467"
          }
        },
        "d8eb5ffd072e4cb1a3e570f2fc464345": {
          "model_module": "@jupyter-widgets/controls",
          "model_name": "FloatProgressModel",
          "model_module_version": "1.5.0",
          "state": {
            "_view_name": "ProgressView",
            "style": "IPY_MODEL_2e213ea05d8a4784b0cff863043f92f3",
            "_dom_classes": [],
            "description": "",
            "_model_name": "FloatProgressModel",
            "bar_style": "success",
            "max": 9912422,
            "_view_module": "@jupyter-widgets/controls",
            "_model_module_version": "1.5.0",
            "value": 9912422,
            "_view_count": null,
            "_view_module_version": "1.5.0",
            "orientation": "horizontal",
            "min": 0,
            "description_tooltip": null,
            "_model_module": "@jupyter-widgets/controls",
            "layout": "IPY_MODEL_f687d1ff37f648cfbc7d59ef5ebf600c"
          }
        },
        "752d88ade5c24edb8268a76504505ae8": {
          "model_module": "@jupyter-widgets/controls",
          "model_name": "HTMLModel",
          "model_module_version": "1.5.0",
          "state": {
            "_view_name": "HTMLView",
            "style": "IPY_MODEL_1dce01ed32fe44b9a7621d5e5cfdbbcd",
            "_dom_classes": [],
            "description": "",
            "_model_name": "HTMLModel",
            "placeholder": "​",
            "_view_module": "@jupyter-widgets/controls",
            "_model_module_version": "1.5.0",
            "value": " 9913344/? [00:38&lt;00:00, 489828.29it/s]",
            "_view_count": null,
            "_view_module_version": "1.5.0",
            "description_tooltip": null,
            "_model_module": "@jupyter-widgets/controls",
            "layout": "IPY_MODEL_80a299808b634c41a772713c67f8c511"
          }
        },
        "ccb60cc16e1442cd9f756059993831c7": {
          "model_module": "@jupyter-widgets/controls",
          "model_name": "DescriptionStyleModel",
          "model_module_version": "1.5.0",
          "state": {
            "_view_name": "StyleView",
            "_model_name": "DescriptionStyleModel",
            "description_width": "",
            "_view_module": "@jupyter-widgets/base",
            "_model_module_version": "1.5.0",
            "_view_count": null,
            "_view_module_version": "1.2.0",
            "_model_module": "@jupyter-widgets/controls"
          }
        },
        "dd0980604c3b4332ab7ca3de9dcbe467": {
          "model_module": "@jupyter-widgets/base",
          "model_name": "LayoutModel",
          "model_module_version": "1.2.0",
          "state": {
            "_view_name": "LayoutView",
            "grid_template_rows": null,
            "right": null,
            "justify_content": null,
            "_view_module": "@jupyter-widgets/base",
            "overflow": null,
            "_model_module_version": "1.2.0",
            "_view_count": null,
            "flex_flow": null,
            "width": null,
            "min_width": null,
            "border": null,
            "align_items": null,
            "bottom": null,
            "_model_module": "@jupyter-widgets/base",
            "top": null,
            "grid_column": null,
            "overflow_y": null,
            "overflow_x": null,
            "grid_auto_flow": null,
            "grid_area": null,
            "grid_template_columns": null,
            "flex": null,
            "_model_name": "LayoutModel",
            "justify_items": null,
            "grid_row": null,
            "max_height": null,
            "align_content": null,
            "visibility": null,
            "align_self": null,
            "height": null,
            "min_height": null,
            "padding": null,
            "grid_auto_rows": null,
            "grid_gap": null,
            "max_width": null,
            "order": null,
            "_view_module_version": "1.2.0",
            "grid_template_areas": null,
            "object_position": null,
            "object_fit": null,
            "grid_auto_columns": null,
            "margin": null,
            "display": null,
            "left": null
          }
        },
        "2e213ea05d8a4784b0cff863043f92f3": {
          "model_module": "@jupyter-widgets/controls",
          "model_name": "ProgressStyleModel",
          "model_module_version": "1.5.0",
          "state": {
            "_view_name": "StyleView",
            "_model_name": "ProgressStyleModel",
            "description_width": "",
            "_view_module": "@jupyter-widgets/base",
            "_model_module_version": "1.5.0",
            "_view_count": null,
            "_view_module_version": "1.2.0",
            "bar_color": null,
            "_model_module": "@jupyter-widgets/controls"
          }
        },
        "f687d1ff37f648cfbc7d59ef5ebf600c": {
          "model_module": "@jupyter-widgets/base",
          "model_name": "LayoutModel",
          "model_module_version": "1.2.0",
          "state": {
            "_view_name": "LayoutView",
            "grid_template_rows": null,
            "right": null,
            "justify_content": null,
            "_view_module": "@jupyter-widgets/base",
            "overflow": null,
            "_model_module_version": "1.2.0",
            "_view_count": null,
            "flex_flow": null,
            "width": null,
            "min_width": null,
            "border": null,
            "align_items": null,
            "bottom": null,
            "_model_module": "@jupyter-widgets/base",
            "top": null,
            "grid_column": null,
            "overflow_y": null,
            "overflow_x": null,
            "grid_auto_flow": null,
            "grid_area": null,
            "grid_template_columns": null,
            "flex": null,
            "_model_name": "LayoutModel",
            "justify_items": null,
            "grid_row": null,
            "max_height": null,
            "align_content": null,
            "visibility": null,
            "align_self": null,
            "height": null,
            "min_height": null,
            "padding": null,
            "grid_auto_rows": null,
            "grid_gap": null,
            "max_width": null,
            "order": null,
            "_view_module_version": "1.2.0",
            "grid_template_areas": null,
            "object_position": null,
            "object_fit": null,
            "grid_auto_columns": null,
            "margin": null,
            "display": null,
            "left": null
          }
        },
        "1dce01ed32fe44b9a7621d5e5cfdbbcd": {
          "model_module": "@jupyter-widgets/controls",
          "model_name": "DescriptionStyleModel",
          "model_module_version": "1.5.0",
          "state": {
            "_view_name": "StyleView",
            "_model_name": "DescriptionStyleModel",
            "description_width": "",
            "_view_module": "@jupyter-widgets/base",
            "_model_module_version": "1.5.0",
            "_view_count": null,
            "_view_module_version": "1.2.0",
            "_model_module": "@jupyter-widgets/controls"
          }
        },
        "80a299808b634c41a772713c67f8c511": {
          "model_module": "@jupyter-widgets/base",
          "model_name": "LayoutModel",
          "model_module_version": "1.2.0",
          "state": {
            "_view_name": "LayoutView",
            "grid_template_rows": null,
            "right": null,
            "justify_content": null,
            "_view_module": "@jupyter-widgets/base",
            "overflow": null,
            "_model_module_version": "1.2.0",
            "_view_count": null,
            "flex_flow": null,
            "width": null,
            "min_width": null,
            "border": null,
            "align_items": null,
            "bottom": null,
            "_model_module": "@jupyter-widgets/base",
            "top": null,
            "grid_column": null,
            "overflow_y": null,
            "overflow_x": null,
            "grid_auto_flow": null,
            "grid_area": null,
            "grid_template_columns": null,
            "flex": null,
            "_model_name": "LayoutModel",
            "justify_items": null,
            "grid_row": null,
            "max_height": null,
            "align_content": null,
            "visibility": null,
            "align_self": null,
            "height": null,
            "min_height": null,
            "padding": null,
            "grid_auto_rows": null,
            "grid_gap": null,
            "max_width": null,
            "order": null,
            "_view_module_version": "1.2.0",
            "grid_template_areas": null,
            "object_position": null,
            "object_fit": null,
            "grid_auto_columns": null,
            "margin": null,
            "display": null,
            "left": null
          }
        },
        "c42090c553d047659be0a491bed5fe2a": {
          "model_module": "@jupyter-widgets/controls",
          "model_name": "HBoxModel",
          "model_module_version": "1.5.0",
          "state": {
            "_view_name": "HBoxView",
            "_dom_classes": [],
            "_model_name": "HBoxModel",
            "_view_module": "@jupyter-widgets/controls",
            "_model_module_version": "1.5.0",
            "_view_count": null,
            "_view_module_version": "1.5.0",
            "box_style": "",
            "layout": "IPY_MODEL_79ff83b1c2434ec69505236553dfda0b",
            "_model_module": "@jupyter-widgets/controls",
            "children": [
              "IPY_MODEL_f5257ef7901b47b69c82afdbd0d6746d",
              "IPY_MODEL_4123874c4fc8445e9b81dc3252b0351a",
              "IPY_MODEL_6d653e301bc14790bc634090c508d672"
            ]
          }
        },
        "79ff83b1c2434ec69505236553dfda0b": {
          "model_module": "@jupyter-widgets/base",
          "model_name": "LayoutModel",
          "model_module_version": "1.2.0",
          "state": {
            "_view_name": "LayoutView",
            "grid_template_rows": null,
            "right": null,
            "justify_content": null,
            "_view_module": "@jupyter-widgets/base",
            "overflow": null,
            "_model_module_version": "1.2.0",
            "_view_count": null,
            "flex_flow": null,
            "width": null,
            "min_width": null,
            "border": null,
            "align_items": null,
            "bottom": null,
            "_model_module": "@jupyter-widgets/base",
            "top": null,
            "grid_column": null,
            "overflow_y": null,
            "overflow_x": null,
            "grid_auto_flow": null,
            "grid_area": null,
            "grid_template_columns": null,
            "flex": null,
            "_model_name": "LayoutModel",
            "justify_items": null,
            "grid_row": null,
            "max_height": null,
            "align_content": null,
            "visibility": null,
            "align_self": null,
            "height": null,
            "min_height": null,
            "padding": null,
            "grid_auto_rows": null,
            "grid_gap": null,
            "max_width": null,
            "order": null,
            "_view_module_version": "1.2.0",
            "grid_template_areas": null,
            "object_position": null,
            "object_fit": null,
            "grid_auto_columns": null,
            "margin": null,
            "display": null,
            "left": null
          }
        },
        "f5257ef7901b47b69c82afdbd0d6746d": {
          "model_module": "@jupyter-widgets/controls",
          "model_name": "HTMLModel",
          "model_module_version": "1.5.0",
          "state": {
            "_view_name": "HTMLView",
            "style": "IPY_MODEL_54b9c8e36e9d4ad7ba934c6c529dc5d3",
            "_dom_classes": [],
            "description": "",
            "_model_name": "HTMLModel",
            "placeholder": "​",
            "_view_module": "@jupyter-widgets/controls",
            "_model_module_version": "1.5.0",
            "value": "",
            "_view_count": null,
            "_view_module_version": "1.5.0",
            "description_tooltip": null,
            "_model_module": "@jupyter-widgets/controls",
            "layout": "IPY_MODEL_538f9daa9a1543ec98672f2b610e10a0"
          }
        },
        "4123874c4fc8445e9b81dc3252b0351a": {
          "model_module": "@jupyter-widgets/controls",
          "model_name": "FloatProgressModel",
          "model_module_version": "1.5.0",
          "state": {
            "_view_name": "ProgressView",
            "style": "IPY_MODEL_f023e2818bbc495d8cf956097d88322f",
            "_dom_classes": [],
            "description": "",
            "_model_name": "FloatProgressModel",
            "bar_style": "success",
            "max": 28881,
            "_view_module": "@jupyter-widgets/controls",
            "_model_module_version": "1.5.0",
            "value": 28881,
            "_view_count": null,
            "_view_module_version": "1.5.0",
            "orientation": "horizontal",
            "min": 0,
            "description_tooltip": null,
            "_model_module": "@jupyter-widgets/controls",
            "layout": "IPY_MODEL_c1071038e21e4fbca8afe3045b93a9bf"
          }
        },
        "6d653e301bc14790bc634090c508d672": {
          "model_module": "@jupyter-widgets/controls",
          "model_name": "HTMLModel",
          "model_module_version": "1.5.0",
          "state": {
            "_view_name": "HTMLView",
            "style": "IPY_MODEL_bff457a48eed4ff3a3f60204cabf5f37",
            "_dom_classes": [],
            "description": "",
            "_model_name": "HTMLModel",
            "placeholder": "​",
            "_view_module": "@jupyter-widgets/controls",
            "_model_module_version": "1.5.0",
            "value": " 29696/? [00:00&lt;00:00, 857638.98it/s]",
            "_view_count": null,
            "_view_module_version": "1.5.0",
            "description_tooltip": null,
            "_model_module": "@jupyter-widgets/controls",
            "layout": "IPY_MODEL_f580fca2101849a6bfe11927897fd242"
          }
        },
        "54b9c8e36e9d4ad7ba934c6c529dc5d3": {
          "model_module": "@jupyter-widgets/controls",
          "model_name": "DescriptionStyleModel",
          "model_module_version": "1.5.0",
          "state": {
            "_view_name": "StyleView",
            "_model_name": "DescriptionStyleModel",
            "description_width": "",
            "_view_module": "@jupyter-widgets/base",
            "_model_module_version": "1.5.0",
            "_view_count": null,
            "_view_module_version": "1.2.0",
            "_model_module": "@jupyter-widgets/controls"
          }
        },
        "538f9daa9a1543ec98672f2b610e10a0": {
          "model_module": "@jupyter-widgets/base",
          "model_name": "LayoutModel",
          "model_module_version": "1.2.0",
          "state": {
            "_view_name": "LayoutView",
            "grid_template_rows": null,
            "right": null,
            "justify_content": null,
            "_view_module": "@jupyter-widgets/base",
            "overflow": null,
            "_model_module_version": "1.2.0",
            "_view_count": null,
            "flex_flow": null,
            "width": null,
            "min_width": null,
            "border": null,
            "align_items": null,
            "bottom": null,
            "_model_module": "@jupyter-widgets/base",
            "top": null,
            "grid_column": null,
            "overflow_y": null,
            "overflow_x": null,
            "grid_auto_flow": null,
            "grid_area": null,
            "grid_template_columns": null,
            "flex": null,
            "_model_name": "LayoutModel",
            "justify_items": null,
            "grid_row": null,
            "max_height": null,
            "align_content": null,
            "visibility": null,
            "align_self": null,
            "height": null,
            "min_height": null,
            "padding": null,
            "grid_auto_rows": null,
            "grid_gap": null,
            "max_width": null,
            "order": null,
            "_view_module_version": "1.2.0",
            "grid_template_areas": null,
            "object_position": null,
            "object_fit": null,
            "grid_auto_columns": null,
            "margin": null,
            "display": null,
            "left": null
          }
        },
        "f023e2818bbc495d8cf956097d88322f": {
          "model_module": "@jupyter-widgets/controls",
          "model_name": "ProgressStyleModel",
          "model_module_version": "1.5.0",
          "state": {
            "_view_name": "StyleView",
            "_model_name": "ProgressStyleModel",
            "description_width": "",
            "_view_module": "@jupyter-widgets/base",
            "_model_module_version": "1.5.0",
            "_view_count": null,
            "_view_module_version": "1.2.0",
            "bar_color": null,
            "_model_module": "@jupyter-widgets/controls"
          }
        },
        "c1071038e21e4fbca8afe3045b93a9bf": {
          "model_module": "@jupyter-widgets/base",
          "model_name": "LayoutModel",
          "model_module_version": "1.2.0",
          "state": {
            "_view_name": "LayoutView",
            "grid_template_rows": null,
            "right": null,
            "justify_content": null,
            "_view_module": "@jupyter-widgets/base",
            "overflow": null,
            "_model_module_version": "1.2.0",
            "_view_count": null,
            "flex_flow": null,
            "width": null,
            "min_width": null,
            "border": null,
            "align_items": null,
            "bottom": null,
            "_model_module": "@jupyter-widgets/base",
            "top": null,
            "grid_column": null,
            "overflow_y": null,
            "overflow_x": null,
            "grid_auto_flow": null,
            "grid_area": null,
            "grid_template_columns": null,
            "flex": null,
            "_model_name": "LayoutModel",
            "justify_items": null,
            "grid_row": null,
            "max_height": null,
            "align_content": null,
            "visibility": null,
            "align_self": null,
            "height": null,
            "min_height": null,
            "padding": null,
            "grid_auto_rows": null,
            "grid_gap": null,
            "max_width": null,
            "order": null,
            "_view_module_version": "1.2.0",
            "grid_template_areas": null,
            "object_position": null,
            "object_fit": null,
            "grid_auto_columns": null,
            "margin": null,
            "display": null,
            "left": null
          }
        },
        "bff457a48eed4ff3a3f60204cabf5f37": {
          "model_module": "@jupyter-widgets/controls",
          "model_name": "DescriptionStyleModel",
          "model_module_version": "1.5.0",
          "state": {
            "_view_name": "StyleView",
            "_model_name": "DescriptionStyleModel",
            "description_width": "",
            "_view_module": "@jupyter-widgets/base",
            "_model_module_version": "1.5.0",
            "_view_count": null,
            "_view_module_version": "1.2.0",
            "_model_module": "@jupyter-widgets/controls"
          }
        },
        "f580fca2101849a6bfe11927897fd242": {
          "model_module": "@jupyter-widgets/base",
          "model_name": "LayoutModel",
          "model_module_version": "1.2.0",
          "state": {
            "_view_name": "LayoutView",
            "grid_template_rows": null,
            "right": null,
            "justify_content": null,
            "_view_module": "@jupyter-widgets/base",
            "overflow": null,
            "_model_module_version": "1.2.0",
            "_view_count": null,
            "flex_flow": null,
            "width": null,
            "min_width": null,
            "border": null,
            "align_items": null,
            "bottom": null,
            "_model_module": "@jupyter-widgets/base",
            "top": null,
            "grid_column": null,
            "overflow_y": null,
            "overflow_x": null,
            "grid_auto_flow": null,
            "grid_area": null,
            "grid_template_columns": null,
            "flex": null,
            "_model_name": "LayoutModel",
            "justify_items": null,
            "grid_row": null,
            "max_height": null,
            "align_content": null,
            "visibility": null,
            "align_self": null,
            "height": null,
            "min_height": null,
            "padding": null,
            "grid_auto_rows": null,
            "grid_gap": null,
            "max_width": null,
            "order": null,
            "_view_module_version": "1.2.0",
            "grid_template_areas": null,
            "object_position": null,
            "object_fit": null,
            "grid_auto_columns": null,
            "margin": null,
            "display": null,
            "left": null
          }
        },
        "b3b3b65e7a1a437d8662cc33164ba75e": {
          "model_module": "@jupyter-widgets/controls",
          "model_name": "HBoxModel",
          "model_module_version": "1.5.0",
          "state": {
            "_view_name": "HBoxView",
            "_dom_classes": [],
            "_model_name": "HBoxModel",
            "_view_module": "@jupyter-widgets/controls",
            "_model_module_version": "1.5.0",
            "_view_count": null,
            "_view_module_version": "1.5.0",
            "box_style": "",
            "layout": "IPY_MODEL_4d1ee8c1c9184cad889a5ac6f1f563bc",
            "_model_module": "@jupyter-widgets/controls",
            "children": [
              "IPY_MODEL_f2938548e406496f84c32130dd583009",
              "IPY_MODEL_7276ffa2a5ba445699fc46e62b409013",
              "IPY_MODEL_84ec9afd3c61452ea19a3ba93abe8657"
            ]
          }
        },
        "4d1ee8c1c9184cad889a5ac6f1f563bc": {
          "model_module": "@jupyter-widgets/base",
          "model_name": "LayoutModel",
          "model_module_version": "1.2.0",
          "state": {
            "_view_name": "LayoutView",
            "grid_template_rows": null,
            "right": null,
            "justify_content": null,
            "_view_module": "@jupyter-widgets/base",
            "overflow": null,
            "_model_module_version": "1.2.0",
            "_view_count": null,
            "flex_flow": null,
            "width": null,
            "min_width": null,
            "border": null,
            "align_items": null,
            "bottom": null,
            "_model_module": "@jupyter-widgets/base",
            "top": null,
            "grid_column": null,
            "overflow_y": null,
            "overflow_x": null,
            "grid_auto_flow": null,
            "grid_area": null,
            "grid_template_columns": null,
            "flex": null,
            "_model_name": "LayoutModel",
            "justify_items": null,
            "grid_row": null,
            "max_height": null,
            "align_content": null,
            "visibility": null,
            "align_self": null,
            "height": null,
            "min_height": null,
            "padding": null,
            "grid_auto_rows": null,
            "grid_gap": null,
            "max_width": null,
            "order": null,
            "_view_module_version": "1.2.0",
            "grid_template_areas": null,
            "object_position": null,
            "object_fit": null,
            "grid_auto_columns": null,
            "margin": null,
            "display": null,
            "left": null
          }
        },
        "f2938548e406496f84c32130dd583009": {
          "model_module": "@jupyter-widgets/controls",
          "model_name": "HTMLModel",
          "model_module_version": "1.5.0",
          "state": {
            "_view_name": "HTMLView",
            "style": "IPY_MODEL_06112ad179f1458e90e9165a7e1a12de",
            "_dom_classes": [],
            "description": "",
            "_model_name": "HTMLModel",
            "placeholder": "​",
            "_view_module": "@jupyter-widgets/controls",
            "_model_module_version": "1.5.0",
            "value": "",
            "_view_count": null,
            "_view_module_version": "1.5.0",
            "description_tooltip": null,
            "_model_module": "@jupyter-widgets/controls",
            "layout": "IPY_MODEL_94deac7d8ea743649077b55f3aa24bf3"
          }
        },
        "7276ffa2a5ba445699fc46e62b409013": {
          "model_module": "@jupyter-widgets/controls",
          "model_name": "FloatProgressModel",
          "model_module_version": "1.5.0",
          "state": {
            "_view_name": "ProgressView",
            "style": "IPY_MODEL_c2cf731f62864d7190cbae572dfec5b9",
            "_dom_classes": [],
            "description": "",
            "_model_name": "FloatProgressModel",
            "bar_style": "success",
            "max": 1648877,
            "_view_module": "@jupyter-widgets/controls",
            "_model_module_version": "1.5.0",
            "value": 1648877,
            "_view_count": null,
            "_view_module_version": "1.5.0",
            "orientation": "horizontal",
            "min": 0,
            "description_tooltip": null,
            "_model_module": "@jupyter-widgets/controls",
            "layout": "IPY_MODEL_434ec8d70ef847c797599c6c175ee2b2"
          }
        },
        "84ec9afd3c61452ea19a3ba93abe8657": {
          "model_module": "@jupyter-widgets/controls",
          "model_name": "HTMLModel",
          "model_module_version": "1.5.0",
          "state": {
            "_view_name": "HTMLView",
            "style": "IPY_MODEL_741864fa79724f9eb789dcec5587baee",
            "_dom_classes": [],
            "description": "",
            "_model_name": "HTMLModel",
            "placeholder": "​",
            "_view_module": "@jupyter-widgets/controls",
            "_model_module_version": "1.5.0",
            "value": " 1649664/? [00:06&lt;00:00, 251001.70it/s]",
            "_view_count": null,
            "_view_module_version": "1.5.0",
            "description_tooltip": null,
            "_model_module": "@jupyter-widgets/controls",
            "layout": "IPY_MODEL_36a7a7b7ca0448d5b43e0eae00d29178"
          }
        },
        "06112ad179f1458e90e9165a7e1a12de": {
          "model_module": "@jupyter-widgets/controls",
          "model_name": "DescriptionStyleModel",
          "model_module_version": "1.5.0",
          "state": {
            "_view_name": "StyleView",
            "_model_name": "DescriptionStyleModel",
            "description_width": "",
            "_view_module": "@jupyter-widgets/base",
            "_model_module_version": "1.5.0",
            "_view_count": null,
            "_view_module_version": "1.2.0",
            "_model_module": "@jupyter-widgets/controls"
          }
        },
        "94deac7d8ea743649077b55f3aa24bf3": {
          "model_module": "@jupyter-widgets/base",
          "model_name": "LayoutModel",
          "model_module_version": "1.2.0",
          "state": {
            "_view_name": "LayoutView",
            "grid_template_rows": null,
            "right": null,
            "justify_content": null,
            "_view_module": "@jupyter-widgets/base",
            "overflow": null,
            "_model_module_version": "1.2.0",
            "_view_count": null,
            "flex_flow": null,
            "width": null,
            "min_width": null,
            "border": null,
            "align_items": null,
            "bottom": null,
            "_model_module": "@jupyter-widgets/base",
            "top": null,
            "grid_column": null,
            "overflow_y": null,
            "overflow_x": null,
            "grid_auto_flow": null,
            "grid_area": null,
            "grid_template_columns": null,
            "flex": null,
            "_model_name": "LayoutModel",
            "justify_items": null,
            "grid_row": null,
            "max_height": null,
            "align_content": null,
            "visibility": null,
            "align_self": null,
            "height": null,
            "min_height": null,
            "padding": null,
            "grid_auto_rows": null,
            "grid_gap": null,
            "max_width": null,
            "order": null,
            "_view_module_version": "1.2.0",
            "grid_template_areas": null,
            "object_position": null,
            "object_fit": null,
            "grid_auto_columns": null,
            "margin": null,
            "display": null,
            "left": null
          }
        },
        "c2cf731f62864d7190cbae572dfec5b9": {
          "model_module": "@jupyter-widgets/controls",
          "model_name": "ProgressStyleModel",
          "model_module_version": "1.5.0",
          "state": {
            "_view_name": "StyleView",
            "_model_name": "ProgressStyleModel",
            "description_width": "",
            "_view_module": "@jupyter-widgets/base",
            "_model_module_version": "1.5.0",
            "_view_count": null,
            "_view_module_version": "1.2.0",
            "bar_color": null,
            "_model_module": "@jupyter-widgets/controls"
          }
        },
        "434ec8d70ef847c797599c6c175ee2b2": {
          "model_module": "@jupyter-widgets/base",
          "model_name": "LayoutModel",
          "model_module_version": "1.2.0",
          "state": {
            "_view_name": "LayoutView",
            "grid_template_rows": null,
            "right": null,
            "justify_content": null,
            "_view_module": "@jupyter-widgets/base",
            "overflow": null,
            "_model_module_version": "1.2.0",
            "_view_count": null,
            "flex_flow": null,
            "width": null,
            "min_width": null,
            "border": null,
            "align_items": null,
            "bottom": null,
            "_model_module": "@jupyter-widgets/base",
            "top": null,
            "grid_column": null,
            "overflow_y": null,
            "overflow_x": null,
            "grid_auto_flow": null,
            "grid_area": null,
            "grid_template_columns": null,
            "flex": null,
            "_model_name": "LayoutModel",
            "justify_items": null,
            "grid_row": null,
            "max_height": null,
            "align_content": null,
            "visibility": null,
            "align_self": null,
            "height": null,
            "min_height": null,
            "padding": null,
            "grid_auto_rows": null,
            "grid_gap": null,
            "max_width": null,
            "order": null,
            "_view_module_version": "1.2.0",
            "grid_template_areas": null,
            "object_position": null,
            "object_fit": null,
            "grid_auto_columns": null,
            "margin": null,
            "display": null,
            "left": null
          }
        },
        "741864fa79724f9eb789dcec5587baee": {
          "model_module": "@jupyter-widgets/controls",
          "model_name": "DescriptionStyleModel",
          "model_module_version": "1.5.0",
          "state": {
            "_view_name": "StyleView",
            "_model_name": "DescriptionStyleModel",
            "description_width": "",
            "_view_module": "@jupyter-widgets/base",
            "_model_module_version": "1.5.0",
            "_view_count": null,
            "_view_module_version": "1.2.0",
            "_model_module": "@jupyter-widgets/controls"
          }
        },
        "36a7a7b7ca0448d5b43e0eae00d29178": {
          "model_module": "@jupyter-widgets/base",
          "model_name": "LayoutModel",
          "model_module_version": "1.2.0",
          "state": {
            "_view_name": "LayoutView",
            "grid_template_rows": null,
            "right": null,
            "justify_content": null,
            "_view_module": "@jupyter-widgets/base",
            "overflow": null,
            "_model_module_version": "1.2.0",
            "_view_count": null,
            "flex_flow": null,
            "width": null,
            "min_width": null,
            "border": null,
            "align_items": null,
            "bottom": null,
            "_model_module": "@jupyter-widgets/base",
            "top": null,
            "grid_column": null,
            "overflow_y": null,
            "overflow_x": null,
            "grid_auto_flow": null,
            "grid_area": null,
            "grid_template_columns": null,
            "flex": null,
            "_model_name": "LayoutModel",
            "justify_items": null,
            "grid_row": null,
            "max_height": null,
            "align_content": null,
            "visibility": null,
            "align_self": null,
            "height": null,
            "min_height": null,
            "padding": null,
            "grid_auto_rows": null,
            "grid_gap": null,
            "max_width": null,
            "order": null,
            "_view_module_version": "1.2.0",
            "grid_template_areas": null,
            "object_position": null,
            "object_fit": null,
            "grid_auto_columns": null,
            "margin": null,
            "display": null,
            "left": null
          }
        },
        "3dbadd5b12fc47faa9154b4e835641e9": {
          "model_module": "@jupyter-widgets/controls",
          "model_name": "HBoxModel",
          "model_module_version": "1.5.0",
          "state": {
            "_view_name": "HBoxView",
            "_dom_classes": [],
            "_model_name": "HBoxModel",
            "_view_module": "@jupyter-widgets/controls",
            "_model_module_version": "1.5.0",
            "_view_count": null,
            "_view_module_version": "1.5.0",
            "box_style": "",
            "layout": "IPY_MODEL_146856f47b094a0e998914b941b583bd",
            "_model_module": "@jupyter-widgets/controls",
            "children": [
              "IPY_MODEL_b1655723fd384f639f0770553a0fbfcc",
              "IPY_MODEL_bc11af9807cd4a589de1e4d58c02a5e1",
              "IPY_MODEL_de068003be3446cc851303a80e348852"
            ]
          }
        },
        "146856f47b094a0e998914b941b583bd": {
          "model_module": "@jupyter-widgets/base",
          "model_name": "LayoutModel",
          "model_module_version": "1.2.0",
          "state": {
            "_view_name": "LayoutView",
            "grid_template_rows": null,
            "right": null,
            "justify_content": null,
            "_view_module": "@jupyter-widgets/base",
            "overflow": null,
            "_model_module_version": "1.2.0",
            "_view_count": null,
            "flex_flow": null,
            "width": null,
            "min_width": null,
            "border": null,
            "align_items": null,
            "bottom": null,
            "_model_module": "@jupyter-widgets/base",
            "top": null,
            "grid_column": null,
            "overflow_y": null,
            "overflow_x": null,
            "grid_auto_flow": null,
            "grid_area": null,
            "grid_template_columns": null,
            "flex": null,
            "_model_name": "LayoutModel",
            "justify_items": null,
            "grid_row": null,
            "max_height": null,
            "align_content": null,
            "visibility": null,
            "align_self": null,
            "height": null,
            "min_height": null,
            "padding": null,
            "grid_auto_rows": null,
            "grid_gap": null,
            "max_width": null,
            "order": null,
            "_view_module_version": "1.2.0",
            "grid_template_areas": null,
            "object_position": null,
            "object_fit": null,
            "grid_auto_columns": null,
            "margin": null,
            "display": null,
            "left": null
          }
        },
        "b1655723fd384f639f0770553a0fbfcc": {
          "model_module": "@jupyter-widgets/controls",
          "model_name": "HTMLModel",
          "model_module_version": "1.5.0",
          "state": {
            "_view_name": "HTMLView",
            "style": "IPY_MODEL_731b118d05454e85b43f0382ce8b9489",
            "_dom_classes": [],
            "description": "",
            "_model_name": "HTMLModel",
            "placeholder": "​",
            "_view_module": "@jupyter-widgets/controls",
            "_model_module_version": "1.5.0",
            "value": "",
            "_view_count": null,
            "_view_module_version": "1.5.0",
            "description_tooltip": null,
            "_model_module": "@jupyter-widgets/controls",
            "layout": "IPY_MODEL_821f0ea768374e23b7d5c07f50215487"
          }
        },
        "bc11af9807cd4a589de1e4d58c02a5e1": {
          "model_module": "@jupyter-widgets/controls",
          "model_name": "FloatProgressModel",
          "model_module_version": "1.5.0",
          "state": {
            "_view_name": "ProgressView",
            "style": "IPY_MODEL_937d9b4f02b94db3ad12c01fbb34ac6c",
            "_dom_classes": [],
            "description": "",
            "_model_name": "FloatProgressModel",
            "bar_style": "success",
            "max": 4542,
            "_view_module": "@jupyter-widgets/controls",
            "_model_module_version": "1.5.0",
            "value": 4542,
            "_view_count": null,
            "_view_module_version": "1.5.0",
            "orientation": "horizontal",
            "min": 0,
            "description_tooltip": null,
            "_model_module": "@jupyter-widgets/controls",
            "layout": "IPY_MODEL_9ffe576b427e41fe97a24fb9a7eb142b"
          }
        },
        "de068003be3446cc851303a80e348852": {
          "model_module": "@jupyter-widgets/controls",
          "model_name": "HTMLModel",
          "model_module_version": "1.5.0",
          "state": {
            "_view_name": "HTMLView",
            "style": "IPY_MODEL_2d2c9eba063f4c3283c83dbf9394d052",
            "_dom_classes": [],
            "description": "",
            "_model_name": "HTMLModel",
            "placeholder": "​",
            "_view_module": "@jupyter-widgets/controls",
            "_model_module_version": "1.5.0",
            "value": " 5120/? [00:00&lt;00:00, 152783.83it/s]",
            "_view_count": null,
            "_view_module_version": "1.5.0",
            "description_tooltip": null,
            "_model_module": "@jupyter-widgets/controls",
            "layout": "IPY_MODEL_d64ba87568fe4e169ff5a76aa3af304d"
          }
        },
        "731b118d05454e85b43f0382ce8b9489": {
          "model_module": "@jupyter-widgets/controls",
          "model_name": "DescriptionStyleModel",
          "model_module_version": "1.5.0",
          "state": {
            "_view_name": "StyleView",
            "_model_name": "DescriptionStyleModel",
            "description_width": "",
            "_view_module": "@jupyter-widgets/base",
            "_model_module_version": "1.5.0",
            "_view_count": null,
            "_view_module_version": "1.2.0",
            "_model_module": "@jupyter-widgets/controls"
          }
        },
        "821f0ea768374e23b7d5c07f50215487": {
          "model_module": "@jupyter-widgets/base",
          "model_name": "LayoutModel",
          "model_module_version": "1.2.0",
          "state": {
            "_view_name": "LayoutView",
            "grid_template_rows": null,
            "right": null,
            "justify_content": null,
            "_view_module": "@jupyter-widgets/base",
            "overflow": null,
            "_model_module_version": "1.2.0",
            "_view_count": null,
            "flex_flow": null,
            "width": null,
            "min_width": null,
            "border": null,
            "align_items": null,
            "bottom": null,
            "_model_module": "@jupyter-widgets/base",
            "top": null,
            "grid_column": null,
            "overflow_y": null,
            "overflow_x": null,
            "grid_auto_flow": null,
            "grid_area": null,
            "grid_template_columns": null,
            "flex": null,
            "_model_name": "LayoutModel",
            "justify_items": null,
            "grid_row": null,
            "max_height": null,
            "align_content": null,
            "visibility": null,
            "align_self": null,
            "height": null,
            "min_height": null,
            "padding": null,
            "grid_auto_rows": null,
            "grid_gap": null,
            "max_width": null,
            "order": null,
            "_view_module_version": "1.2.0",
            "grid_template_areas": null,
            "object_position": null,
            "object_fit": null,
            "grid_auto_columns": null,
            "margin": null,
            "display": null,
            "left": null
          }
        },
        "937d9b4f02b94db3ad12c01fbb34ac6c": {
          "model_module": "@jupyter-widgets/controls",
          "model_name": "ProgressStyleModel",
          "model_module_version": "1.5.0",
          "state": {
            "_view_name": "StyleView",
            "_model_name": "ProgressStyleModel",
            "description_width": "",
            "_view_module": "@jupyter-widgets/base",
            "_model_module_version": "1.5.0",
            "_view_count": null,
            "_view_module_version": "1.2.0",
            "bar_color": null,
            "_model_module": "@jupyter-widgets/controls"
          }
        },
        "9ffe576b427e41fe97a24fb9a7eb142b": {
          "model_module": "@jupyter-widgets/base",
          "model_name": "LayoutModel",
          "model_module_version": "1.2.0",
          "state": {
            "_view_name": "LayoutView",
            "grid_template_rows": null,
            "right": null,
            "justify_content": null,
            "_view_module": "@jupyter-widgets/base",
            "overflow": null,
            "_model_module_version": "1.2.0",
            "_view_count": null,
            "flex_flow": null,
            "width": null,
            "min_width": null,
            "border": null,
            "align_items": null,
            "bottom": null,
            "_model_module": "@jupyter-widgets/base",
            "top": null,
            "grid_column": null,
            "overflow_y": null,
            "overflow_x": null,
            "grid_auto_flow": null,
            "grid_area": null,
            "grid_template_columns": null,
            "flex": null,
            "_model_name": "LayoutModel",
            "justify_items": null,
            "grid_row": null,
            "max_height": null,
            "align_content": null,
            "visibility": null,
            "align_self": null,
            "height": null,
            "min_height": null,
            "padding": null,
            "grid_auto_rows": null,
            "grid_gap": null,
            "max_width": null,
            "order": null,
            "_view_module_version": "1.2.0",
            "grid_template_areas": null,
            "object_position": null,
            "object_fit": null,
            "grid_auto_columns": null,
            "margin": null,
            "display": null,
            "left": null
          }
        },
        "2d2c9eba063f4c3283c83dbf9394d052": {
          "model_module": "@jupyter-widgets/controls",
          "model_name": "DescriptionStyleModel",
          "model_module_version": "1.5.0",
          "state": {
            "_view_name": "StyleView",
            "_model_name": "DescriptionStyleModel",
            "description_width": "",
            "_view_module": "@jupyter-widgets/base",
            "_model_module_version": "1.5.0",
            "_view_count": null,
            "_view_module_version": "1.2.0",
            "_model_module": "@jupyter-widgets/controls"
          }
        },
        "d64ba87568fe4e169ff5a76aa3af304d": {
          "model_module": "@jupyter-widgets/base",
          "model_name": "LayoutModel",
          "model_module_version": "1.2.0",
          "state": {
            "_view_name": "LayoutView",
            "grid_template_rows": null,
            "right": null,
            "justify_content": null,
            "_view_module": "@jupyter-widgets/base",
            "overflow": null,
            "_model_module_version": "1.2.0",
            "_view_count": null,
            "flex_flow": null,
            "width": null,
            "min_width": null,
            "border": null,
            "align_items": null,
            "bottom": null,
            "_model_module": "@jupyter-widgets/base",
            "top": null,
            "grid_column": null,
            "overflow_y": null,
            "overflow_x": null,
            "grid_auto_flow": null,
            "grid_area": null,
            "grid_template_columns": null,
            "flex": null,
            "_model_name": "LayoutModel",
            "justify_items": null,
            "grid_row": null,
            "max_height": null,
            "align_content": null,
            "visibility": null,
            "align_self": null,
            "height": null,
            "min_height": null,
            "padding": null,
            "grid_auto_rows": null,
            "grid_gap": null,
            "max_width": null,
            "order": null,
            "_view_module_version": "1.2.0",
            "grid_template_areas": null,
            "object_position": null,
            "object_fit": null,
            "grid_auto_columns": null,
            "margin": null,
            "display": null,
            "left": null
          }
        }
      }
    }
  },
  "cells": [
    {
      "cell_type": "code",
      "metadata": {
        "id": "UCnEwKqXbEuF"
      },
      "source": [
        "from torch import nn\n",
        "from collections import OrderedDict\n",
        "import torch.nn.functional as F\n",
        "import torch\n",
        "from torch.utils.data import DataLoader\n",
        "import torchvision\n",
        "import random\n",
        "from torch.utils.data import Subset\n",
        "from matplotlib import pyplot as plt\n",
        "from torchsummary import summary\n",
        "from torchvision import transforms\n",
        "import progressbar as pb\n",
        "import numpy as np"
      ],
      "execution_count": null,
      "outputs": []
    },
    {
      "cell_type": "code",
      "metadata": {
        "id": "NsmTAzcudX01"
      },
      "source": [
        "SUM = lambda x,y : x+y"
      ],
      "execution_count": null,
      "outputs": []
    },
    {
      "cell_type": "code",
      "metadata": {
        "id": "__9hu3JkdUma"
      },
      "source": [
        "def check_equity(property,a,b):\n",
        "    pa = getattr(a,property)\n",
        "    pb = getattr(b,property)\n",
        "    assert  pa==pb, \"Different {}: {}!={}\".format(property,pa,pb)\n",
        "\n",
        "    return pa"
      ],
      "execution_count": null,
      "outputs": []
    },
    {
      "cell_type": "code",
      "metadata": {
        "id": "_dmaEbq1dO54"
      },
      "source": [
        "def module_unwrap(mod:nn.Module,recursive=False):\n",
        "    children = OrderedDict()\n",
        "    try:\n",
        "        for name, module in mod.named_children():\n",
        "            if (recursive):\n",
        "                recursive_call = module_unwrap(module,recursive=True)\n",
        "                if (len(recursive_call)>0):\n",
        "                    for k,v in recursive_call.items():\n",
        "                        children[name+\"_\"+k] = v\n",
        "                else:\n",
        "                    children[name] = module\n",
        "            else:\n",
        "                children[name] = module\n",
        "    except AttributeError:\n",
        "        pass\n",
        "\n",
        "    return children"
      ],
      "execution_count": null,
      "outputs": []
    },
    {
      "cell_type": "code",
      "metadata": {
        "id": "jvbILdHidK6b"
      },
      "source": [
        "class VGGBlock(nn.Module):\n",
        "    def __init__(self, in_channels, out_channels,batch_norm=False):\n",
        "\n",
        "        super().__init__()\n",
        "\n",
        "        conv2_params = {'kernel_size': (3, 3),\n",
        "                        'stride'     : (1, 1),\n",
        "                        'padding'   : 1\n",
        "                        }\n",
        "\n",
        "        noop = lambda x : x\n",
        "\n",
        "        self._batch_norm = batch_norm\n",
        "\n",
        "        self.conv1 = nn.Conv2d(in_channels=in_channels,out_channels=out_channels , **conv2_params)\n",
        "        self.bn1 = nn.BatchNorm2d(out_channels) if batch_norm else noop\n",
        "        #self.bn1 = nn.GroupNorm(16, out_channels) if batch_norm else noop\n",
        "\n",
        "        self.conv2 = nn.Conv2d(in_channels=out_channels,out_channels=out_channels, **conv2_params)\n",
        "        self.bn2 = nn.BatchNorm2d(out_channels) if batch_norm else noop\n",
        "        #self.bn2 = nn.GroupNorm(16, out_channels) if batch_norm else noop\n",
        "\n",
        "        self.max_pooling = nn.MaxPool2d(kernel_size=(2, 2), stride=(2, 2))\n",
        "\n",
        "    @property\n",
        "    def batch_norm(self):\n",
        "        return self._batch_norm\n",
        "\n",
        "    def forward(self,x):\n",
        "        x = self.conv1(x)\n",
        "        x = self.bn1(x)\n",
        "        x = F.relu(x)\n",
        "\n",
        "        x = self.conv2(x)\n",
        "        x = self.bn2(x)\n",
        "        x = F.relu(x)\n",
        "\n",
        "        x = self.max_pooling(x)\n",
        "\n",
        "        return x"
      ],
      "execution_count": null,
      "outputs": []
    },
    {
      "cell_type": "code",
      "metadata": {
        "id": "k4wZypnxbczs"
      },
      "source": [
        "class Classifier(nn.Module):\n",
        "\n",
        "    def __init__(self,num_classes=1):\n",
        "        super().__init__()\n",
        "\n",
        "        self.classifier = nn.Sequential(\n",
        "            nn.Linear(2048, 2048),\n",
        "            nn.ReLU(True),\n",
        "            nn.Dropout(p=0.5),\n",
        "            nn.Linear(2048, 512),\n",
        "            nn.ReLU(True),\n",
        "            nn.Dropout(p=0.5),\n",
        "            nn.Linear(512, num_classes)\n",
        "        )\n",
        "\n",
        "    def forward(self,x):\n",
        "\n",
        "        return self.classifier(x)"
      ],
      "execution_count": null,
      "outputs": []
    },
    {
      "cell_type": "code",
      "metadata": {
        "id": "6_XOTpHHbZOU"
      },
      "source": [
        "class VGG16(nn.Module):\n",
        "\n",
        "  def __init__(self, input_size, batch_norm=False):\n",
        "    super(VGG16, self).__init__()\n",
        "\n",
        "    self.in_channels,self.in_width,self.in_height = input_size\n",
        "\n",
        "    self.block_1 = VGGBlock(self.in_channels,64,batch_norm=batch_norm)\n",
        "    self.block_2 = VGGBlock(64, 128,batch_norm=batch_norm)\n",
        "    self.block_3 = VGGBlock(128, 256,batch_norm=batch_norm)\n",
        "    self.block_4 = VGGBlock(256,512,batch_norm=batch_norm)\n",
        "\n",
        "\n",
        "  @property\n",
        "  def input_size(self):\n",
        "      return self.in_channels,self.in_width,self.in_height\n",
        "\n",
        "  def forward(self, x):\n",
        "\n",
        "    x = self.block_1(x)\n",
        "    x = self.block_2(x)\n",
        "    x = self.block_3(x)\n",
        "    x = self.block_4(x)\n",
        "    # x = self.avgpool(x)\n",
        "    x = torch.flatten(x,1)\n",
        "\n",
        "    return x"
      ],
      "execution_count": null,
      "outputs": []
    },
    {
      "cell_type": "code",
      "metadata": {
        "id": "4h0BLCSfbUI1"
      },
      "source": [
        "class CombinedLoss(nn.Module):\n",
        "    def __init__(self, loss_a, loss_b, loss_combo, _lambda=1.0):\n",
        "        super().__init__()\n",
        "        self.loss_a = loss_a\n",
        "        self.loss_b = loss_b\n",
        "        self.loss_combo = loss_combo\n",
        "\n",
        "        self.register_buffer('_lambda',torch.tensor(float(_lambda),dtype=torch.float32))\n",
        "\n",
        "\n",
        "    def forward(self,y_hat,y):\n",
        "\n",
        "        return self.loss_a(y_hat[0],y[0]) + self.loss_b(y_hat[1],y[1]) + self._lambda * self.loss_combo(y_hat[2],torch.cat(y,0))"
      ],
      "execution_count": null,
      "outputs": []
    },
    {
      "cell_type": "markdown",
      "metadata": {
        "id": "ihl5WS4mftpp"
      },
      "source": [
        "----------------------------------------------------------------------"
      ]
    },
    {
      "cell_type": "code",
      "metadata": {
        "id": "wx0fr4tneCwh"
      },
      "source": [
        "DO='TRAIN'"
      ],
      "execution_count": null,
      "outputs": []
    },
    {
      "cell_type": "code",
      "metadata": {
        "id": "aoTgU1HIfqHc"
      },
      "source": [
        "random.seed(47)"
      ],
      "execution_count": null,
      "outputs": []
    },
    {
      "cell_type": "code",
      "metadata": {
        "id": "LIXMqkSMfpBZ"
      },
      "source": [
        "combo_fn = SUM"
      ],
      "execution_count": null,
      "outputs": []
    },
    {
      "cell_type": "code",
      "metadata": {
        "id": "k1gqpu8ifniL"
      },
      "source": [
        "lambda_reg = 1"
      ],
      "execution_count": null,
      "outputs": []
    },
    {
      "cell_type": "code",
      "metadata": {
        "id": "wWiTuCN1fN0g"
      },
      "source": [
        "def test(net,classifier, loader):\n",
        "\n",
        "      net.to(dev)\n",
        "      classifier.to(dev)\n",
        "\n",
        "      net.eval()\n",
        "\n",
        "      sum_accuracy = 0\n",
        "\n",
        "      # Process each batch\n",
        "      for j, (input, labels) in enumerate(loader):\n",
        "\n",
        "        input = input.to(dev)\n",
        "        labels = labels.float().to(dev)\n",
        "\n",
        "        features = net(input)\n",
        "\n",
        "        pred = torch.squeeze(classifier(features))\n",
        "\n",
        "        # https://discuss.pytorch.org/t/bcewithlogitsloss-and-model-accuracy-calculation/59293/ 2\n",
        "        pred_labels = (pred >= 0.0).long()  # Binarize predictions to 0 and 1\n",
        "\n",
        "        batch_accuracy = (pred_labels == labels).sum().item() / len(labels)\n",
        "\n",
        "        # Update accuracy\n",
        "        sum_accuracy += batch_accuracy\n",
        "\n",
        "      epoch_accuracy = sum_accuracy / len(loader)\n",
        "      \n",
        "      return epoch_accuracy\n",
        "\n",
        "      #print(f\"Accuracy: {epoch_accuracy:0.5}\")"
      ],
      "execution_count": null,
      "outputs": []
    },
    {
      "cell_type": "code",
      "metadata": {
        "id": "Ofj6g7uffaaO"
      },
      "source": [
        "def train(nets, loaders, optimizer, criterion, epochs=20, dev=None, save_param=False, model_name=\"valerio\"):\n",
        "    # try:\n",
        "      nets = [n.to(dev) for n in nets]\n",
        "\n",
        "      model_a = module_unwrap(nets[0], True)\n",
        "      model_b = module_unwrap(nets[1], True)\n",
        "      model_c = module_unwrap(nets[2], True)\n",
        "\n",
        "      reg_loss = nn.MSELoss()\n",
        "\n",
        "      criterion.to(dev)\n",
        "      reg_loss.to(dev)\n",
        "\n",
        "      # Initialize history\n",
        "      history_loss = {\"train\": [], \"val\": [], \"test\": []}\n",
        "      history_accuracy = {\"train\": [], \"val\": [], \"test\": []}\n",
        "      history_test = []\n",
        "      # Store the best val accuracy\n",
        "      best_val_accuracy = 0\n",
        "\n",
        "      # Process each epoch\n",
        "      for epoch in range(epochs):\n",
        "        # Initialize epoch variables\n",
        "        sum_loss = {\"train\": 0, \"val\": 0, \"test\": 0}\n",
        "        sum_accuracy = {\"train\": [0,0,0], \"val\": [0,0,0], \"test\": [0,0,0]}\n",
        "\n",
        "        progbar = None\n",
        "        # Process each split\n",
        "        for split in [\"train\", \"val\", \"test\"]:\n",
        "          if split == \"train\":\n",
        "            for n in nets:\n",
        "              n.train()\n",
        "            widgets = [\n",
        "              ' [', pb.Timer(), '] ',\n",
        "              pb.Bar(),\n",
        "              ' [', pb.ETA(), '] ', pb.Variable('ta','[Train Acc: {formatted_value}]')\n",
        "            ]\n",
        "\n",
        "            progbar = pb.ProgressBar(max_value=len(loaders[split][0]),widgets=widgets,redirect_stdout=True)\n",
        "\n",
        "          else:\n",
        "            for n in nets:\n",
        "              n.eval()\n",
        "          # Process each batch\n",
        "          for j,((input_a, labels_a),(input_b, labels_b)) in enumerate(zip(loaders[split][0],loaders[split][1])):\n",
        "\n",
        "            input_a = input_a.to(dev)\n",
        "            input_b = input_b.to(dev)\n",
        "\n",
        "            labels_a = labels_a.float().to(dev)\n",
        "            labels_b = labels_b.float().to(dev)\n",
        "\n",
        "\n",
        "            inputs = torch.cat([input_a,input_b],axis=0)\n",
        "            labels = torch.cat([labels_a, labels_b])\n",
        "\n",
        "\n",
        "            # Reset gradients\n",
        "            optimizer.zero_grad()\n",
        "            # Compute output\n",
        "            features_a = nets[0](input_a)\n",
        "            features_b = nets[1](input_b)\n",
        "            features_c = nets[2](inputs)\n",
        "\n",
        "            pred_a = torch.squeeze(nets[3](features_a))\n",
        "            pred_b = torch.squeeze(nets[3](features_b))\n",
        "            pred_c = torch.squeeze(nets[3](features_c))\n",
        "\n",
        "            loss = criterion(pred_a, labels_a) + criterion(pred_b, labels_b) + criterion(pred_c, labels)\n",
        "\n",
        "            for n in model_a:\n",
        "              layer_a = model_a[n]\n",
        "              layer_b = model_b[n]\n",
        "              layer_c = model_c[n]\n",
        "              if (isinstance(layer_a,nn.Conv2d)):\n",
        "                loss += lambda_reg * reg_loss(combo_fn(layer_a.weight,layer_b.weight),layer_c.weight)\n",
        "                if (layer_a.bias is not None):\n",
        "                  loss += lambda_reg * reg_loss(combo_fn(layer_a.bias, layer_b.bias), layer_c.bias)\n",
        "\n",
        "            # Update loss\n",
        "            sum_loss[split] += loss.item()\n",
        "            # Check parameter update\n",
        "            if split == \"train\":\n",
        "              # Compute gradients\n",
        "              loss.backward()\n",
        "              # Optimize\n",
        "              optimizer.step()\n",
        "\n",
        "            # Compute accuracy\n",
        "\n",
        "            #https://discuss.pytorch.org/t/bcewithlogitsloss-and-model-accuracy-calculation/59293/ 2\n",
        "            pred_labels_a = (pred_a >= 0.0).long()  # Binarize predictions to 0 and 1\n",
        "            pred_labels_b = (pred_b >= 0.0).long()  # Binarize predictions to 0 and 1\n",
        "            pred_labels_c = (pred_c >= 0.0).long()  # Binarize predictions to 0 and 1\n",
        "\n",
        "\n",
        "            batch_accuracy_a = (pred_labels_a == labels_a).sum().item() / len(labels_a)\n",
        "            batch_accuracy_b = (pred_labels_b == labels_b).sum().item() / len(labels_b)\n",
        "            batch_accuracy_c = (pred_labels_c == labels).sum().item() / len(labels)\n",
        "\n",
        "            # Update accuracy\n",
        "            sum_accuracy[split][0] += batch_accuracy_a\n",
        "            sum_accuracy[split][1] += batch_accuracy_b\n",
        "            sum_accuracy[split][2] += batch_accuracy_c\n",
        "\n",
        "\n",
        "            if (split=='train'):\n",
        "              progbar.update(j, ta=batch_accuracy_c)\n",
        "\n",
        "        if (progbar is not None):\n",
        "          progbar.finish()\n",
        "        # Compute epoch loss/accuracy\n",
        "        epoch_loss = {split: sum_loss[split] / len(loaders[split][0]) for split in [\"train\", \"val\", \"test\"]}\n",
        "        epoch_accuracy = {split: [sum_accuracy[split][i] / len(loaders[split][0]) for i in range(len(sum_accuracy[split])) ] for split in [\"train\", \"val\", \"test\"]}\n",
        "\n",
        "        # # Store params at the best validation accuracy\n",
        "        # if save_param and epoch_accuracy[\"val\"] > best_val_accuracy:\n",
        "        #   # torch.save(net.state_dict(), f\"{net.__class__.__name__}_best_val.pth\")\n",
        "        #   torch.save(net.state_dict(), f\"{model_name}_best_val.pth\")\n",
        "        #   best_val_accuracy = epoch_accuracy[\"val\"]\n",
        "\n",
        "        print(f\"Epoch {epoch + 1}:\")\n",
        "        # Update history\n",
        "        for split in [\"train\", \"val\", \"test\"]:\n",
        "          history_loss[split].append(epoch_loss[split])\n",
        "          history_accuracy[split].append(epoch_accuracy[split])\n",
        "          # Print info\n",
        "          print(f\"\\t{split}\\tLoss: {epoch_loss[split]:0.5}\\tVGG 1:{epoch_accuracy[split][0]:0.5}\"\n",
        "                f\"\\tVGG 2:{epoch_accuracy[split][1]:0.5}\\tVGG *:{epoch_accuracy[split][2]:0.5}\")\n",
        "\n",
        "        if save_param:\n",
        "          torch.save({'vgg_a':nets[0].state_dict(),'vgg_b':nets[1].state_dict(),'vgg_star':nets[2].state_dict(),'classifier':nets[3].state_dict()},f'{model_name}.pth')\n",
        "\n",
        "        print(f\"Accuracy test VGGA: {test(nets[0], nets[3], test_loader_all):0.5}\")\n",
        "        print(f\"Accuracy test VGGB: {test(nets[1], nets[3], test_loader_all):0.5}\")\n",
        "        print(f\"Accuracy test VGG*: {test(nets[2], nets[3], test_loader_all):0.5}\")\n",
        " \n",
        "        summed_state_dict = OrderedDict()\n",
        " \n",
        "        for key in nets[2].state_dict():\n",
        "          if key.find('conv') >=0:\n",
        "            #print(key)\n",
        "            summed_state_dict[key] = combo_fn(nets[0].state_dict()[key],nets[1].state_dict()[key])\n",
        "          else:\n",
        "            summed_state_dict[key] = nets[2].state_dict()[key]\n",
        " \n",
        "        nets[2].load_state_dict(summed_state_dict)\n",
        "        accuracy_star = test(nets[2], nets[3], test_loader_all)\n",
        "        print(f\"Accuracy test VGGSTAR: {accuracy_star:0.5}\")\n",
        "        history_test.append(accuracy_star)\n",
        "\n",
        "\n",
        "      # Plot accuracy\n",
        "      plt.title(\"Accuracy VGGSTAR over epochs\")\n",
        "      plt.plot(history_test)\n",
        "      #plt.legend()\n",
        "      plt.show()  "
      ],
      "execution_count": null,
      "outputs": []
    },
    {
      "cell_type": "code",
      "metadata": {
        "id": "lDeV1W6me7Ej"
      },
      "source": [
        "def parse_dataset(dataset):\n",
        "\n",
        "  dataset.targets = dataset.targets % 2\n",
        "\n",
        "  return dataset"
      ],
      "execution_count": null,
      "outputs": []
    },
    {
      "cell_type": "code",
      "metadata": {
        "id": "7iwwrQD3e5sL"
      },
      "source": [
        "root_dir = './'"
      ],
      "execution_count": null,
      "outputs": []
    },
    {
      "cell_type": "code",
      "metadata": {
        "id": "Zx7dBzfre2X9"
      },
      "source": [
        "rescale_data = transforms.Lambda(lambda x : x/255)\n",
        "\n",
        "# Compose transformations\n",
        "data_transform = transforms.Compose([\n",
        "  transforms.Resize(32),\n",
        "  transforms.RandomHorizontalFlip(),\n",
        "  transforms.ToTensor(),\n",
        "  rescale_data,\n",
        "  #transforms.Normalize((-0.7376), (0.5795))\n",
        "])\n",
        "\n",
        "test_transform = transforms.Compose([\n",
        "  transforms.Resize(32),\n",
        "  transforms.ToTensor(),\n",
        "  rescale_data,\n",
        "  #transforms.Normalize((0.1327), (0.2919))\n",
        "])"
      ],
      "execution_count": null,
      "outputs": []
    },
    {
      "cell_type": "code",
      "metadata": {
        "id": "qBYFu2DUe0xU",
        "colab": {
          "base_uri": "https://localhost:8080/",
          "height": 478,
          "referenced_widgets": [
            "089112bb29e2443c8a7378a4c765ee30",
            "be00f8047c5d4df6bc5bc625ad2c143d",
            "b30356c121784ef5ab6cd4be8fc4c966",
            "d8eb5ffd072e4cb1a3e570f2fc464345",
            "752d88ade5c24edb8268a76504505ae8",
            "ccb60cc16e1442cd9f756059993831c7",
            "dd0980604c3b4332ab7ca3de9dcbe467",
            "2e213ea05d8a4784b0cff863043f92f3",
            "f687d1ff37f648cfbc7d59ef5ebf600c",
            "1dce01ed32fe44b9a7621d5e5cfdbbcd",
            "80a299808b634c41a772713c67f8c511",
            "c42090c553d047659be0a491bed5fe2a",
            "79ff83b1c2434ec69505236553dfda0b",
            "f5257ef7901b47b69c82afdbd0d6746d",
            "4123874c4fc8445e9b81dc3252b0351a",
            "6d653e301bc14790bc634090c508d672",
            "54b9c8e36e9d4ad7ba934c6c529dc5d3",
            "538f9daa9a1543ec98672f2b610e10a0",
            "f023e2818bbc495d8cf956097d88322f",
            "c1071038e21e4fbca8afe3045b93a9bf",
            "bff457a48eed4ff3a3f60204cabf5f37",
            "f580fca2101849a6bfe11927897fd242",
            "b3b3b65e7a1a437d8662cc33164ba75e",
            "4d1ee8c1c9184cad889a5ac6f1f563bc",
            "f2938548e406496f84c32130dd583009",
            "7276ffa2a5ba445699fc46e62b409013",
            "84ec9afd3c61452ea19a3ba93abe8657",
            "06112ad179f1458e90e9165a7e1a12de",
            "94deac7d8ea743649077b55f3aa24bf3",
            "c2cf731f62864d7190cbae572dfec5b9",
            "434ec8d70ef847c797599c6c175ee2b2",
            "741864fa79724f9eb789dcec5587baee",
            "36a7a7b7ca0448d5b43e0eae00d29178",
            "3dbadd5b12fc47faa9154b4e835641e9",
            "146856f47b094a0e998914b941b583bd",
            "b1655723fd384f639f0770553a0fbfcc",
            "bc11af9807cd4a589de1e4d58c02a5e1",
            "de068003be3446cc851303a80e348852",
            "731b118d05454e85b43f0382ce8b9489",
            "821f0ea768374e23b7d5c07f50215487",
            "937d9b4f02b94db3ad12c01fbb34ac6c",
            "9ffe576b427e41fe97a24fb9a7eb142b",
            "2d2c9eba063f4c3283c83dbf9394d052",
            "d64ba87568fe4e169ff5a76aa3af304d"
          ]
        },
        "outputId": "8e6d5fe3-c76e-4bb4-fc4a-a98788f23cbb"
      },
      "source": [
        "# Load MNIST dataset with transforms\n",
        "train_set = torchvision.datasets.MNIST(root=root_dir, train=True, download=True, transform=data_transform)\n",
        "test_set = torchvision.datasets.MNIST(root=root_dir, train=False, download=True, transform=test_transform)"
      ],
      "execution_count": null,
      "outputs": [
        {
          "output_type": "stream",
          "text": [
            "Downloading http://yann.lecun.com/exdb/mnist/train-images-idx3-ubyte.gz\n",
            "Downloading http://yann.lecun.com/exdb/mnist/train-images-idx3-ubyte.gz to ./MNIST/raw/train-images-idx3-ubyte.gz\n"
          ],
          "name": "stdout"
        },
        {
          "output_type": "display_data",
          "data": {
            "application/vnd.jupyter.widget-view+json": {
              "model_id": "089112bb29e2443c8a7378a4c765ee30",
              "version_minor": 0,
              "version_major": 2
            },
            "text/plain": [
              "  0%|          | 0/9912422 [00:00<?, ?it/s]"
            ]
          },
          "metadata": {
            "tags": []
          }
        },
        {
          "output_type": "stream",
          "text": [
            "Extracting ./MNIST/raw/train-images-idx3-ubyte.gz to ./MNIST/raw\n",
            "\n",
            "Downloading http://yann.lecun.com/exdb/mnist/train-labels-idx1-ubyte.gz\n",
            "Downloading http://yann.lecun.com/exdb/mnist/train-labels-idx1-ubyte.gz to ./MNIST/raw/train-labels-idx1-ubyte.gz\n"
          ],
          "name": "stdout"
        },
        {
          "output_type": "display_data",
          "data": {
            "application/vnd.jupyter.widget-view+json": {
              "model_id": "c42090c553d047659be0a491bed5fe2a",
              "version_minor": 0,
              "version_major": 2
            },
            "text/plain": [
              "  0%|          | 0/28881 [00:00<?, ?it/s]"
            ]
          },
          "metadata": {
            "tags": []
          }
        },
        {
          "output_type": "stream",
          "text": [
            "Extracting ./MNIST/raw/train-labels-idx1-ubyte.gz to ./MNIST/raw\n",
            "\n",
            "Downloading http://yann.lecun.com/exdb/mnist/t10k-images-idx3-ubyte.gz\n",
            "Downloading http://yann.lecun.com/exdb/mnist/t10k-images-idx3-ubyte.gz to ./MNIST/raw/t10k-images-idx3-ubyte.gz\n"
          ],
          "name": "stdout"
        },
        {
          "output_type": "display_data",
          "data": {
            "application/vnd.jupyter.widget-view+json": {
              "model_id": "b3b3b65e7a1a437d8662cc33164ba75e",
              "version_minor": 0,
              "version_major": 2
            },
            "text/plain": [
              "  0%|          | 0/1648877 [00:00<?, ?it/s]"
            ]
          },
          "metadata": {
            "tags": []
          }
        },
        {
          "output_type": "stream",
          "text": [
            "Extracting ./MNIST/raw/t10k-images-idx3-ubyte.gz to ./MNIST/raw\n",
            "\n",
            "Downloading http://yann.lecun.com/exdb/mnist/t10k-labels-idx1-ubyte.gz\n",
            "Downloading http://yann.lecun.com/exdb/mnist/t10k-labels-idx1-ubyte.gz to ./MNIST/raw/t10k-labels-idx1-ubyte.gz\n"
          ],
          "name": "stdout"
        },
        {
          "output_type": "display_data",
          "data": {
            "application/vnd.jupyter.widget-view+json": {
              "model_id": "3dbadd5b12fc47faa9154b4e835641e9",
              "version_minor": 0,
              "version_major": 2
            },
            "text/plain": [
              "  0%|          | 0/4542 [00:00<?, ?it/s]"
            ]
          },
          "metadata": {
            "tags": []
          }
        },
        {
          "output_type": "stream",
          "text": [
            "Extracting ./MNIST/raw/t10k-labels-idx1-ubyte.gz to ./MNIST/raw\n",
            "\n"
          ],
          "name": "stdout"
        },
        {
          "output_type": "stream",
          "text": [
            "/usr/local/lib/python3.7/dist-packages/torchvision/datasets/mnist.py:498: UserWarning: The given NumPy array is not writeable, and PyTorch does not support non-writeable tensors. This means you can write to the underlying (supposedly non-writeable) NumPy array using the tensor. You may want to copy the array to protect its data or make it writeable before converting it to a tensor. This type of warning will be suppressed for the rest of this program. (Triggered internally at  /pytorch/torch/csrc/utils/tensor_numpy.cpp:180.)\n",
            "  return torch.from_numpy(parsed.astype(m[2], copy=False)).view(*s)\n"
          ],
          "name": "stderr"
        }
      ]
    },
    {
      "cell_type": "code",
      "metadata": {
        "id": "iS7seoNnezX7"
      },
      "source": [
        "train_set = parse_dataset(train_set)\n",
        "test_set = parse_dataset(test_set)"
      ],
      "execution_count": null,
      "outputs": []
    },
    {
      "cell_type": "code",
      "metadata": {
        "id": "6OtJiXl2es--"
      },
      "source": [
        "train_idx = np.random.permutation(np.arange(len(train_set)))\n",
        "test_idx = np.arange(len(test_set))\n",
        "\n",
        "val_frac = 0.1\n",
        "\n",
        "n_val = int(len(train_idx) * val_frac)\n",
        "val_idx = train_idx[0:n_val]\n",
        "train_idx = train_idx[n_val:]\n",
        "\n",
        "h = len(train_idx)//2\n",
        "\n",
        "train_set_a = Subset(train_set,train_idx[0:h])\n",
        "train_set_b = Subset(train_set,train_idx[h:])\n",
        "\n",
        "h = len(val_idx)//2\n",
        "\n",
        "val_set_a = Subset(train_set,val_idx[0:h])\n",
        "val_set_b = Subset(train_set,val_idx[h:])\n",
        "\n",
        "h = len(test_idx)//2\n",
        "\n",
        "test_set_a = Subset(test_set,test_idx[0:h])\n",
        "test_set_b = Subset(test_set,test_idx[h:])"
      ],
      "execution_count": null,
      "outputs": []
    },
    {
      "cell_type": "code",
      "metadata": {
        "id": "s5WqGkR0enhP"
      },
      "source": [
        "# Define loaders\n",
        "\n",
        "train_loader_a = DataLoader(train_set_a, batch_size=128, num_workers=0, shuffle=True, drop_last=True)\n",
        "val_loader_a   = DataLoader(val_set_a,   batch_size=128, num_workers=0, shuffle=False, drop_last=False)\n",
        "test_loader_a  = DataLoader(test_set_a,  batch_size=128, num_workers=0, shuffle=False, drop_last=False)\n",
        "\n",
        "train_loader_b = DataLoader(train_set_b, batch_size=128, num_workers=0, shuffle=True, drop_last=True)\n",
        "val_loader_b   = DataLoader(val_set_b,   batch_size=128, num_workers=0, shuffle=False, drop_last=False)\n",
        "test_loader_b  = DataLoader(test_set_b,  batch_size=128, num_workers=0, shuffle=False, drop_last=False)\n",
        "\n",
        "test_loader_all = DataLoader(test_set,batch_size=128, num_workers=0,shuffle=False,drop_last=False)\n",
        "\n",
        "\n",
        "# Define dictionary of loaders\n",
        "loaders = {\"train\": [train_loader_a,train_loader_b],\n",
        "           \"val\":   [val_loader_a,val_loader_b],\n",
        "           \"test\":  [test_loader_a,test_loader_b]}"
      ],
      "execution_count": null,
      "outputs": []
    },
    {
      "cell_type": "code",
      "metadata": {
        "id": "xAmsywnHelhX"
      },
      "source": [
        "model1 = VGG16((1,32,32),batch_norm=True)\n",
        "model2 = VGG16((1,32,32),batch_norm=True)\n",
        "model3 = VGG16((1,32,32),batch_norm=True)\n",
        "classifier = Classifier(num_classes=1)"
      ],
      "execution_count": null,
      "outputs": []
    },
    {
      "cell_type": "code",
      "metadata": {
        "id": "fy81iDz9eizI"
      },
      "source": [
        "nets = [model1,model2,model3,classifier]"
      ],
      "execution_count": null,
      "outputs": []
    },
    {
      "cell_type": "code",
      "metadata": {
        "id": "_QQW2uVLee6L"
      },
      "source": [
        "dev = torch.device('cuda')"
      ],
      "execution_count": null,
      "outputs": []
    },
    {
      "cell_type": "code",
      "metadata": {
        "id": "eXegV7s_efNq"
      },
      "source": [
        "parameters = set()"
      ],
      "execution_count": null,
      "outputs": []
    },
    {
      "cell_type": "code",
      "metadata": {
        "id": "Vdw15S30efV7"
      },
      "source": [
        "for n in nets:\n",
        "  parameters |= set(n.parameters())"
      ],
      "execution_count": null,
      "outputs": []
    },
    {
      "cell_type": "code",
      "metadata": {
        "id": "HNk7ro7ueder"
      },
      "source": [
        "optimizer = torch.optim.SGD(parameters, lr = 0.01)\n",
        "# Define a loss\n",
        "criterion = nn.BCEWithLogitsLoss()#,nn.BCEWithLogitsLoss(),nn.BCEWithLogitsLoss(),_lambda = 1)\n",
        "n_params = 0"
      ],
      "execution_count": null,
      "outputs": []
    },
    {
      "cell_type": "code",
      "metadata": {
        "colab": {
          "base_uri": "https://localhost:8080/",
          "height": 1000
        },
        "id": "WRPmx_uUeYBk",
        "outputId": "75bbad39-b315-4ec0-993e-6e783f809a4a"
      },
      "source": [
        "if (DO=='TRAIN'):\n",
        "  train(nets, loaders, optimizer, criterion, epochs=50, dev=dev,save_param=True)\n",
        "else:\n",
        "  state_dicts = torch.load('model.pth')\n",
        "  model1.load_state_dict(state_dicts['vgg_a']) #questi state_dict vengono dalla funzione di training\n",
        "  model2.load_state_dict(state_dicts['vgg_b'])\n",
        "  model3.load_state_dict(state_dicts['vgg_star'])\n",
        "  classifier.load_state_dict(state_dicts['classifier'])\n",
        "\n",
        "  test(model1,classifier,test_loader_all)\n",
        "  test(model2, classifier, test_loader_all)\n",
        "  test(model3, classifier, test_loader_all)\n",
        "\n",
        "  summed_state_dict = OrderedDict()\n",
        "\n",
        "  for key in state_dicts['vgg_star']:\n",
        "    if key.find('conv') >=0:\n",
        "      print(key)\n",
        "      summed_state_dict[key] = combo_fn(state_dicts['vgg_a'][key],state_dicts['vgg_b'][key])\n",
        "    else:\n",
        "      summed_state_dict[key] = state_dicts['vgg_star'][key]\n",
        "\n",
        "  model3.load_state_dict(summed_state_dict)\n",
        "  test(model3, classifier, test_loader_all)"
      ],
      "execution_count": null,
      "outputs": [
        {
          "output_type": "stream",
          "text": [
            "/usr/local/lib/python3.7/dist-packages/torch/nn/functional.py:718: UserWarning: Named tensors and all their associated APIs are an experimental feature and subject to change. Please do not use them for anything important until they are released as stable. (Triggered internally at  /pytorch/c10/core/TensorImpl.h:1156.)\n",
            "  return torch.max_pool2d(input, kernel_size, stride, padding, dilation, ceil_mode)\n",
            " [Elapsed Time: 0:03:04] |###############| [Time:  0:03:04] [Train Acc:  0.961]\n"
          ],
          "name": "stderr"
        },
        {
          "output_type": "stream",
          "text": [
            "Epoch 1:\n",
            "\ttrain\tLoss: 0.87544\tVGG 1:0.89717\tVGG 2:0.90123\tVGG *:0.90705\n",
            "\tval\tLoss: 5.7042\tVGG 1:0.63969\tVGG 2:0.49991\tVGG *:0.86472\n",
            "\ttest\tLoss: 6.0837\tVGG 1:0.59746\tVGG 2:0.49707\tVGG *:0.86553\n",
            "Accuracy test VGGA: 0.64102\n",
            "Accuracy test VGGB: 0.49268\n",
            "Accuracy test VGG*: 0.86551\n",
            "Accuracy test VGGSTAR: 0.49268\n"
          ],
          "name": "stdout"
        },
        {
          "output_type": "stream",
          "text": [
            " [Elapsed Time: 0:03:04] |###############| [Time:  0:03:04] [Train Acc:   0.98]\n"
          ],
          "name": "stderr"
        },
        {
          "output_type": "stream",
          "text": [
            "Epoch 2:\n",
            "\ttrain\tLoss: 0.29544\tVGG 1:0.97392\tVGG 2:0.9734\tVGG *:0.94537\n",
            "\tval\tLoss: 0.21989\tVGG 1:0.96573\tVGG 2:0.982\tVGG *:0.97419\n",
            "\ttest\tLoss: 0.20713\tVGG 1:0.95898\tVGG 2:0.98672\tVGG *:0.97852\n",
            "Accuracy test VGGA: 0.97152\n",
            "Accuracy test VGGB: 0.98101\n",
            "Accuracy test VGG*: 0.97824\n",
            "Accuracy test VGGSTAR: 0.66742\n"
          ],
          "name": "stdout"
        },
        {
          "output_type": "stream",
          "text": [
            " [Elapsed Time: 0:03:03] |###############| [Time:  0:03:03] [Train Acc:  0.957]\n"
          ],
          "name": "stderr"
        },
        {
          "output_type": "stream",
          "text": [
            "Epoch 3:\n",
            "\ttrain\tLoss: 0.23154\tVGG 1:0.98207\tVGG 2:0.98196\tVGG *:0.95394\n",
            "\tval\tLoss: 0.50696\tVGG 1:0.98698\tVGG 2:0.98558\tVGG *:0.86482\n",
            "\ttest\tLoss: 0.54623\tVGG 1:0.97949\tVGG 2:0.99199\tVGG *:0.84844\n",
            "Accuracy test VGGA: 0.98507\n",
            "Accuracy test VGGB: 0.98863\n",
            "Accuracy test VGG*: 0.8482\n",
            "Accuracy test VGGSTAR: 0.50742\n"
          ],
          "name": "stdout"
        },
        {
          "output_type": "stream",
          "text": [
            " [Elapsed Time: 0:03:03] |###############| [Time:  0:03:03] [Train Acc:  0.969]\n"
          ],
          "name": "stderr"
        },
        {
          "output_type": "stream",
          "text": [
            "Epoch 4:\n",
            "\ttrain\tLoss: 0.19545\tVGG 1:0.98679\tVGG 2:0.9885\tVGG *:0.95567\n",
            "\tval\tLoss: 0.70925\tVGG 1:0.82859\tVGG 2:0.9847\tVGG *:0.9724\n",
            "\ttest\tLoss: 0.75001\tVGG 1:0.81074\tVGG 2:0.99082\tVGG *:0.97646\n",
            "Accuracy test VGGA: 0.81082\n",
            "Accuracy test VGGB: 0.98566\n",
            "Accuracy test VGG*: 0.97617\n",
            "Accuracy test VGGSTAR: 0.52423\n"
          ],
          "name": "stdout"
        },
        {
          "output_type": "stream",
          "text": [
            " [Elapsed Time: 0:03:03] |###############| [Time:  0:03:03] [Train Acc:  0.977]\n"
          ],
          "name": "stderr"
        },
        {
          "output_type": "stream",
          "text": [
            "Epoch 5:\n",
            "\ttrain\tLoss: 0.17549\tVGG 1:0.98847\tVGG 2:0.99051\tVGG *:0.95954\n",
            "\tval\tLoss: 0.16845\tVGG 1:0.9847\tVGG 2:0.98535\tVGG *:0.97142\n",
            "\ttest\tLoss: 0.19913\tVGG 1:0.9709\tVGG 2:0.99062\tVGG *:0.96484\n",
            "Accuracy test VGGA: 0.9825\n",
            "Accuracy test VGGB: 0.98408\n",
            "Accuracy test VGG*: 0.96737\n",
            "Accuracy test VGGSTAR: 0.54707\n"
          ],
          "name": "stdout"
        },
        {
          "output_type": "stream",
          "text": [
            " [Elapsed Time: 0:03:04] |###############| [Time:  0:03:04] [Train Acc:   0.98]\n"
          ],
          "name": "stderr"
        },
        {
          "output_type": "stream",
          "text": [
            "Epoch 6:\n",
            "\ttrain\tLoss: 0.1653\tVGG 1:0.991\tVGG 2:0.99226\tVGG *:0.95934\n",
            "\tval\tLoss: 0.14784\tVGG 1:0.99023\tVGG 2:0.98233\tVGG *:0.97875\n",
            "\ttest\tLoss: 0.15007\tVGG 1:0.98047\tVGG 2:0.9918\tVGG *:0.97793\n",
            "Accuracy test VGGA: 0.98813\n",
            "Accuracy test VGGB: 0.98695\n",
            "Accuracy test VGG*: 0.97913\n",
            "Accuracy test VGGSTAR: 0.50732\n"
          ],
          "name": "stdout"
        },
        {
          "output_type": "stream",
          "text": [
            " [Elapsed Time: 0:03:04] |###############| [Time:  0:03:04] [Train Acc:  0.965]\n"
          ],
          "name": "stderr"
        },
        {
          "output_type": "stream",
          "text": [
            "Epoch 7:\n",
            "\ttrain\tLoss: 0.14812\tVGG 1:0.9933\tVGG 2:0.99412\tVGG *:0.96036\n",
            "\tval\tLoss: 0.21289\tVGG 1:0.98526\tVGG 2:0.98698\tVGG *:0.95282\n",
            "\ttest\tLoss: 0.22545\tVGG 1:0.97188\tVGG 2:0.99258\tVGG *:0.95654\n",
            "Accuracy test VGGA: 0.98101\n",
            "Accuracy test VGGB: 0.98912\n",
            "Accuracy test VGG*: 0.95827\n",
            "Accuracy test VGGSTAR: 0.50732\n"
          ],
          "name": "stdout"
        },
        {
          "output_type": "stream",
          "text": [
            " [Elapsed Time: 0:03:04] |###############| [Time:  0:03:04] [Train Acc:  0.977]\n"
          ],
          "name": "stderr"
        },
        {
          "output_type": "stream",
          "text": [
            "Epoch 8:\n",
            "\ttrain\tLoss: 0.13735\tVGG 1:0.99516\tVGG 2:0.99438\tVGG *:0.96159\n",
            "\tval\tLoss: 0.2228\tVGG 1:0.98958\tVGG 2:0.98851\tVGG *:0.9512\n",
            "\ttest\tLoss: 0.19569\tVGG 1:0.98555\tVGG 2:0.99238\tVGG *:0.95811\n",
            "Accuracy test VGGA: 0.98892\n",
            "Accuracy test VGGB: 0.98843\n",
            "Accuracy test VGG*: 0.95767\n",
            "Accuracy test VGGSTAR: 0.50732\n"
          ],
          "name": "stdout"
        },
        {
          "output_type": "stream",
          "text": [
            " [Elapsed Time: 0:03:04] |###############| [Time:  0:03:04] [Train Acc:  0.984]\n"
          ],
          "name": "stderr"
        },
        {
          "output_type": "stream",
          "text": [
            "Epoch 9:\n",
            "\ttrain\tLoss: 0.13657\tVGG 1:0.99535\tVGG 2:0.99546\tVGG *:0.96168\n",
            "\tval\tLoss: 0.1671\tVGG 1:0.97819\tVGG 2:0.98916\tVGG *:0.98112\n",
            "\ttest\tLoss: 0.18983\tVGG 1:0.96719\tVGG 2:0.99297\tVGG *:0.98242\n",
            "Accuracy test VGGA: 0.97419\n",
            "Accuracy test VGGB: 0.98902\n",
            "Accuracy test VGG*: 0.9822\n",
            "Accuracy test VGGSTAR: 0.50732\n"
          ],
          "name": "stdout"
        },
        {
          "output_type": "stream",
          "text": [
            " [Elapsed Time: 0:03:03] |###############| [Time:  0:03:03] [Train Acc:  0.977]\n"
          ],
          "name": "stderr"
        },
        {
          "output_type": "stream",
          "text": [
            "Epoch 10:\n",
            "\ttrain\tLoss: 0.13134\tVGG 1:0.99561\tVGG 2:0.99669\tVGG *:0.96291\n",
            "\tval\tLoss: 0.15591\tVGG 1:0.98991\tVGG 2:0.982\tVGG *:0.98026\n",
            "\ttest\tLoss: 0.17101\tVGG 1:0.97891\tVGG 2:0.98418\tVGG *:0.97979\n",
            "Accuracy test VGGA: 0.98843\n",
            "Accuracy test VGGB: 0.97953\n",
            "Accuracy test VGG*: 0.97953\n",
            "Accuracy test VGGSTAR: 0.50732\n"
          ],
          "name": "stdout"
        },
        {
          "output_type": "stream",
          "text": [
            " [Elapsed Time: 0:03:03] |###############| [Time:  0:03:03] [Train Acc:  0.977]\n"
          ],
          "name": "stderr"
        },
        {
          "output_type": "stream",
          "text": [
            "Epoch 11:\n",
            "\ttrain\tLoss: 0.11975\tVGG 1:0.99784\tVGG 2:0.99725\tVGG *:0.96308\n",
            "\tval\tLoss: 1.4563\tVGG 1:0.98242\tVGG 2:0.84803\tVGG *:0.80566\n",
            "\ttest\tLoss: 1.5078\tVGG 1:0.97363\tVGG 2:0.85449\tVGG *:0.77432\n",
            "Accuracy test VGGA: 0.9821\n",
            "Accuracy test VGGB: 0.86135\n",
            "Accuracy test VGG*: 0.77838\n",
            "Accuracy test VGGSTAR: 0.50732\n"
          ],
          "name": "stdout"
        },
        {
          "output_type": "stream",
          "text": [
            " [Elapsed Time: 0:03:03] |###############| [Time:  0:03:03] [Train Acc:  0.973]\n"
          ],
          "name": "stderr"
        },
        {
          "output_type": "stream",
          "text": [
            "Epoch 12:\n",
            "\ttrain\tLoss: 0.13365\tVGG 1:0.99747\tVGG 2:0.99766\tVGG *:0.96179\n",
            "\tval\tLoss: 0.17124\tVGG 1:0.98926\tVGG 2:0.98079\tVGG *:0.97875\n",
            "\ttest\tLoss: 0.15058\tVGG 1:0.9877\tVGG 2:0.98535\tVGG *:0.97764\n",
            "Accuracy test VGGA: 0.9913\n",
            "Accuracy test VGGB: 0.98002\n",
            "Accuracy test VGG*: 0.97884\n",
            "Accuracy test VGGSTAR: 0.50732\n"
          ],
          "name": "stdout"
        },
        {
          "output_type": "stream",
          "text": [
            " [Elapsed Time: 0:03:02] |###############| [Time:  0:03:02] [Train Acc:   0.98]\n"
          ],
          "name": "stderr"
        },
        {
          "output_type": "stream",
          "text": [
            "Epoch 13:\n",
            "\ttrain\tLoss: 0.11225\tVGG 1:0.99833\tVGG 2:0.9971\tVGG *:0.96549\n",
            "\tval\tLoss: 0.11532\tVGG 1:0.99251\tVGG 2:0.99284\tVGG *:0.98189\n",
            "\ttest\tLoss: 0.11881\tVGG 1:0.98867\tVGG 2:0.99395\tVGG *:0.98291\n",
            "Accuracy test VGGA: 0.9908\n",
            "Accuracy test VGGB: 0.9911\n",
            "Accuracy test VGG*: 0.98269\n",
            "Accuracy test VGGSTAR: 0.50732\n"
          ],
          "name": "stdout"
        },
        {
          "output_type": "stream",
          "text": [
            " [Elapsed Time: 0:03:03] |###############| [Time:  0:03:03] [Train Acc:  0.961]\n"
          ],
          "name": "stderr"
        },
        {
          "output_type": "stream",
          "text": [
            "Epoch 14:\n",
            "\ttrain\tLoss: 0.10552\tVGG 1:0.99833\tVGG 2:0.9994\tVGG *:0.96531\n",
            "\tval\tLoss: 0.12425\tVGG 1:0.99154\tVGG 2:0.99089\tVGG *:0.98112\n",
            "\ttest\tLoss: 0.14125\tVGG 1:0.98281\tVGG 2:0.99199\tVGG *:0.98105\n",
            "Accuracy test VGGA: 0.98972\n",
            "Accuracy test VGGB: 0.98892\n",
            "Accuracy test VGG*: 0.98081\n",
            "Accuracy test VGGSTAR: 0.50732\n"
          ],
          "name": "stdout"
        },
        {
          "output_type": "stream",
          "text": [
            " [Elapsed Time: 0:03:03] |###############| [Time:  0:03:03] [Train Acc:   0.98]\n"
          ],
          "name": "stderr"
        },
        {
          "output_type": "stream",
          "text": [
            "Epoch 15:\n",
            "\ttrain\tLoss: 0.116\tVGG 1:0.99773\tVGG 2:0.99851\tVGG *:0.96464\n",
            "\tval\tLoss: 0.15147\tVGG 1:0.98926\tVGG 2:0.98949\tVGG *:0.9737\n",
            "\ttest\tLoss: 0.18632\tVGG 1:0.98535\tVGG 2:0.99043\tVGG *:0.96426\n",
            "Accuracy test VGGA: 0.98902\n",
            "Accuracy test VGGB: 0.98754\n",
            "Accuracy test VGG*: 0.96539\n",
            "Accuracy test VGGSTAR: 0.50732\n"
          ],
          "name": "stdout"
        },
        {
          "output_type": "stream",
          "text": [
            " [Elapsed Time: 0:03:03] |###############| [Time:  0:03:03] [Train Acc:  0.984]\n"
          ],
          "name": "stderr"
        },
        {
          "output_type": "stream",
          "text": [
            "Epoch 16:\n",
            "\ttrain\tLoss: 0.10768\tVGG 1:0.99888\tVGG 2:0.99918\tVGG *:0.96483\n",
            "\tval\tLoss: 0.18589\tVGG 1:0.9873\tVGG 2:0.98819\tVGG *:0.96675\n",
            "\ttest\tLoss: 0.17686\tVGG 1:0.98398\tVGG 2:0.99199\tVGG *:0.96846\n",
            "Accuracy test VGGA: 0.98932\n",
            "Accuracy test VGGB: 0.98863\n",
            "Accuracy test VGG*: 0.96806\n",
            "Accuracy test VGGSTAR: 0.50732\n"
          ],
          "name": "stdout"
        },
        {
          "output_type": "stream",
          "text": [
            " [Elapsed Time: 0:03:03] |###############| [Time:  0:03:03] [Train Acc:  0.965]\n"
          ],
          "name": "stderr"
        },
        {
          "output_type": "stream",
          "text": [
            "Epoch 17:\n",
            "\ttrain\tLoss: 0.099031\tVGG 1:0.99967\tVGG 2:0.99907\tVGG *:0.96693\n",
            "\tval\tLoss: 0.15775\tVGG 1:0.99251\tVGG 2:0.99089\tVGG *:0.96833\n",
            "\ttest\tLoss: 0.1683\tVGG 1:0.9877\tVGG 2:0.99199\tVGG *:0.96582\n",
            "Accuracy test VGGA: 0.98942\n",
            "Accuracy test VGGB: 0.99041\n",
            "Accuracy test VGG*: 0.96835\n",
            "Accuracy test VGGSTAR: 0.50771\n"
          ],
          "name": "stdout"
        },
        {
          "output_type": "stream",
          "text": [
            " [Elapsed Time: 0:03:03] |###############| [Time:  0:03:03] [Train Acc:  0.988]\n"
          ],
          "name": "stderr"
        },
        {
          "output_type": "stream",
          "text": [
            "Epoch 18:\n",
            "\ttrain\tLoss: 0.10293\tVGG 1:0.99985\tVGG 2:0.99903\tVGG *:0.96574\n",
            "\tval\tLoss: 0.14521\tVGG 1:0.99284\tVGG 2:0.99251\tVGG *:0.97261\n",
            "\ttest\tLoss: 0.13604\tVGG 1:0.99004\tVGG 2:0.99512\tVGG *:0.97549\n",
            "Accuracy test VGGA: 0.99159\n",
            "Accuracy test VGGB: 0.991\n",
            "Accuracy test VGG*: 0.97518\n",
            "Accuracy test VGGSTAR: 0.50732\n"
          ],
          "name": "stdout"
        },
        {
          "output_type": "stream",
          "text": [
            " [Elapsed Time: 0:03:03] |###############| [Time:  0:03:03] [Train Acc:  0.977]\n"
          ],
          "name": "stderr"
        },
        {
          "output_type": "stream",
          "text": [
            "Epoch 19:\n",
            "\ttrain\tLoss: 0.10598\tVGG 1:0.9994\tVGG 2:0.9994\tVGG *:0.96553\n",
            "\tval\tLoss: 0.31126\tVGG 1:0.98958\tVGG 2:0.99219\tVGG *:0.92134\n",
            "\ttest\tLoss: 0.34255\tVGG 1:0.98105\tVGG 2:0.99395\tVGG *:0.9127\n",
            "Accuracy test VGGA: 0.98517\n",
            "Accuracy test VGGB: 0.99041\n",
            "Accuracy test VGG*: 0.91248\n",
            "Accuracy test VGGSTAR: 0.50732\n"
          ],
          "name": "stdout"
        },
        {
          "output_type": "stream",
          "text": [
            " [Elapsed Time: 0:03:03] |###############| [Time:  0:03:03] [Train Acc:   0.98]\n"
          ],
          "name": "stderr"
        },
        {
          "output_type": "stream",
          "text": [
            "Epoch 20:\n",
            "\ttrain\tLoss: 0.097236\tVGG 1:0.9997\tVGG 2:0.99996\tVGG *:0.96674\n",
            "\tval\tLoss: 0.11745\tVGG 1:0.99121\tVGG 2:0.99284\tVGG *:0.98331\n",
            "\ttest\tLoss: 0.13023\tVGG 1:0.98711\tVGG 2:0.99453\tVGG *:0.98311\n",
            "Accuracy test VGGA: 0.99001\n",
            "Accuracy test VGGB: 0.991\n",
            "Accuracy test VGG*: 0.98289\n",
            "Accuracy test VGGSTAR: 0.50742\n"
          ],
          "name": "stdout"
        },
        {
          "output_type": "stream",
          "text": [
            " [Elapsed Time: 0:03:02] |###############| [Time:  0:03:02] [Train Acc:  0.984]\n"
          ],
          "name": "stderr"
        },
        {
          "output_type": "stream",
          "text": [
            "Epoch 21:\n",
            "\ttrain\tLoss: 0.094892\tVGG 1:0.99989\tVGG 2:0.99944\tVGG *:0.9684\n",
            "\tval\tLoss: 0.24015\tVGG 1:0.99219\tVGG 2:0.99186\tVGG *:0.94355\n",
            "\ttest\tLoss: 0.25021\tVGG 1:0.98965\tVGG 2:0.99238\tVGG *:0.94199\n",
            "Accuracy test VGGA: 0.9915\n",
            "Accuracy test VGGB: 0.99031\n",
            "Accuracy test VGG*: 0.94136\n",
            "Accuracy test VGGSTAR: 0.50732\n"
          ],
          "name": "stdout"
        },
        {
          "output_type": "stream",
          "text": [
            " [Elapsed Time: 0:03:03] |###############| [Time:  0:03:03] [Train Acc:  0.965]\n"
          ],
          "name": "stderr"
        },
        {
          "output_type": "stream",
          "text": [
            "Epoch 22:\n",
            "\ttrain\tLoss: 0.096267\tVGG 1:0.99996\tVGG 2:0.99978\tVGG *:0.96715\n",
            "\tval\tLoss: 0.19554\tVGG 1:0.99316\tVGG 2:0.99284\tVGG *:0.94964\n",
            "\ttest\tLoss: 0.18144\tVGG 1:0.99043\tVGG 2:0.99473\tVGG *:0.96279\n",
            "Accuracy test VGGA: 0.99179\n",
            "Accuracy test VGGB: 0.99248\n",
            "Accuracy test VGG*: 0.96163\n",
            "Accuracy test VGGSTAR: 0.50732\n"
          ],
          "name": "stdout"
        },
        {
          "output_type": "stream",
          "text": [
            " [Elapsed Time: 0:03:03] |###############| [Time:  0:03:03] [Train Acc:  0.988]\n"
          ],
          "name": "stderr"
        },
        {
          "output_type": "stream",
          "text": [
            "Epoch 23:\n",
            "\ttrain\tLoss: 0.098439\tVGG 1:1.0\tVGG 2:0.99985\tVGG *:0.96689\n",
            "\tval\tLoss: 0.13939\tVGG 1:0.99154\tVGG 2:0.99414\tVGG *:0.97266\n",
            "\ttest\tLoss: 0.15427\tVGG 1:0.98867\tVGG 2:0.99434\tVGG *:0.97109\n",
            "Accuracy test VGGA: 0.991\n",
            "Accuracy test VGGB: 0.99199\n",
            "Accuracy test VGG*: 0.97073\n",
            "Accuracy test VGGSTAR: 0.50732\n"
          ],
          "name": "stdout"
        },
        {
          "output_type": "stream",
          "text": [
            " [Elapsed Time: 0:03:03] |###############| [Time:  0:03:03] [Train Acc:  0.977]\n"
          ],
          "name": "stderr"
        },
        {
          "output_type": "stream",
          "text": [
            "Epoch 24:\n",
            "\ttrain\tLoss: 0.093316\tVGG 1:1.0\tVGG 2:0.99926\tVGG *:0.96832\n",
            "\tval\tLoss: 0.1176\tVGG 1:0.99154\tVGG 2:0.99316\tVGG *:0.98177\n",
            "\ttest\tLoss: 0.12774\tVGG 1:0.98965\tVGG 2:0.99453\tVGG *:0.97871\n",
            "Accuracy test VGGA: 0.99159\n",
            "Accuracy test VGGB: 0.99199\n",
            "Accuracy test VGG*: 0.98141\n",
            "Accuracy test VGGSTAR: 0.50732\n"
          ],
          "name": "stdout"
        },
        {
          "output_type": "stream",
          "text": [
            " [Elapsed Time: 0:03:02] |###############| [Time:  0:03:02] [Train Acc:  0.988]\n"
          ],
          "name": "stderr"
        },
        {
          "output_type": "stream",
          "text": [
            "Epoch 25:\n",
            "\ttrain\tLoss: 0.090259\tVGG 1:1.0\tVGG 2:0.99978\tVGG *:0.96836\n",
            "\tval\tLoss: 0.11209\tVGG 1:0.99251\tVGG 2:0.99251\tVGG *:0.98384\n",
            "\ttest\tLoss: 0.12971\tVGG 1:0.99043\tVGG 2:0.99395\tVGG *:0.98027\n",
            "Accuracy test VGGA: 0.99189\n",
            "Accuracy test VGGB: 0.9913\n",
            "Accuracy test VGG*: 0.98299\n",
            "Accuracy test VGGSTAR: 0.50742\n"
          ],
          "name": "stdout"
        },
        {
          "output_type": "stream",
          "text": [
            " [Elapsed Time: 0:03:03] |###############| [Time:  0:03:03] [Train Acc:  0.988]\n"
          ],
          "name": "stderr"
        },
        {
          "output_type": "stream",
          "text": [
            "Epoch 26:\n",
            "\ttrain\tLoss: 0.090152\tVGG 1:1.0\tVGG 2:1.0\tVGG *:0.96892\n",
            "\tval\tLoss: 0.12392\tVGG 1:0.99251\tVGG 2:0.99284\tVGG *:0.97814\n",
            "\ttest\tLoss: 0.13092\tVGG 1:0.99043\tVGG 2:0.9959\tVGG *:0.97666\n",
            "Accuracy test VGGA: 0.99199\n",
            "Accuracy test VGGB: 0.99229\n",
            "Accuracy test VGG*: 0.97933\n",
            "Accuracy test VGGSTAR: 0.50732\n"
          ],
          "name": "stdout"
        },
        {
          "output_type": "stream",
          "text": [
            " [Elapsed Time: 0:03:03] |###############| [Time:  0:03:03] [Train Acc:  0.977]\n"
          ],
          "name": "stderr"
        },
        {
          "output_type": "stream",
          "text": [
            "Epoch 27:\n",
            "\ttrain\tLoss: 0.090212\tVGG 1:1.0\tVGG 2:0.99996\tVGG *:0.96895\n",
            "\tval\tLoss: 0.19079\tVGG 1:0.99219\tVGG 2:0.99284\tVGG *:0.95891\n",
            "\ttest\tLoss: 0.18873\tVGG 1:0.99043\tVGG 2:0.99512\tVGG *:0.95645\n",
            "Accuracy test VGGA: 0.99179\n",
            "Accuracy test VGGB: 0.99199\n",
            "Accuracy test VGG*: 0.95817\n",
            "Accuracy test VGGSTAR: 0.50732\n"
          ],
          "name": "stdout"
        },
        {
          "output_type": "stream",
          "text": [
            " [Elapsed Time: 0:03:03] |###############| [Time:  0:03:03] [Train Acc:  0.984]\n"
          ],
          "name": "stderr"
        },
        {
          "output_type": "stream",
          "text": [
            "Epoch 28:\n",
            "\ttrain\tLoss: 0.089708\tVGG 1:1.0\tVGG 2:1.0\tVGG *:0.96955\n",
            "\tval\tLoss: 0.12144\tVGG 1:0.99219\tVGG 2:0.99284\tVGG *:0.98086\n",
            "\ttest\tLoss: 0.12102\tVGG 1:0.99023\tVGG 2:0.99453\tVGG *:0.98545\n",
            "Accuracy test VGGA: 0.99189\n",
            "Accuracy test VGGB: 0.99209\n",
            "Accuracy test VGG*: 0.98527\n",
            "Accuracy test VGGSTAR: 0.50732\n"
          ],
          "name": "stdout"
        },
        {
          "output_type": "stream",
          "text": [
            " [Elapsed Time: 0:03:03] |###############| [Time:  0:03:03] [Train Acc:  0.977]\n"
          ],
          "name": "stderr"
        },
        {
          "output_type": "stream",
          "text": [
            "Epoch 29:\n",
            "\ttrain\tLoss: 0.089675\tVGG 1:1.0\tVGG 2:1.0\tVGG *:0.96949\n",
            "\tval\tLoss: 0.1147\tVGG 1:0.99251\tVGG 2:0.99447\tVGG *:0.9827\n",
            "\ttest\tLoss: 0.13296\tVGG 1:0.99004\tVGG 2:0.99434\tVGG *:0.98086\n",
            "Accuracy test VGGA: 0.99169\n",
            "Accuracy test VGGB: 0.9914\n",
            "Accuracy test VGG*: 0.98062\n",
            "Accuracy test VGGSTAR: 0.50732\n"
          ],
          "name": "stdout"
        },
        {
          "output_type": "stream",
          "text": [
            " [Elapsed Time: 0:03:03] |###############| [Time:  0:03:03] [Train Acc:  0.977]\n"
          ],
          "name": "stderr"
        },
        {
          "output_type": "stream",
          "text": [
            "Epoch 30:\n",
            "\ttrain\tLoss: 0.088804\tVGG 1:1.0\tVGG 2:1.0\tVGG *:0.96903\n",
            "\tval\tLoss: 0.12184\tVGG 1:0.99121\tVGG 2:0.99186\tVGG *:0.98465\n",
            "\ttest\tLoss: 0.11945\tVGG 1:0.99023\tVGG 2:0.99414\tVGG *:0.98311\n",
            "Accuracy test VGGA: 0.99189\n",
            "Accuracy test VGGB: 0.9915\n",
            "Accuracy test VGG*: 0.98438\n",
            "Accuracy test VGGSTAR: 0.50732\n"
          ],
          "name": "stdout"
        },
        {
          "output_type": "stream",
          "text": [
            " [Elapsed Time: 0:03:03] |###############| [Time:  0:03:03] [Train Acc:  0.988]\n"
          ],
          "name": "stderr"
        },
        {
          "output_type": "stream",
          "text": [
            "Epoch 31:\n",
            "\ttrain\tLoss: 0.088618\tVGG 1:1.0\tVGG 2:1.0\tVGG *:0.96933\n",
            "\tval\tLoss: 0.11789\tVGG 1:0.99219\tVGG 2:0.99316\tVGG *:0.98107\n",
            "\ttest\tLoss: 0.13709\tVGG 1:0.99121\tVGG 2:0.99453\tVGG *:0.97803\n",
            "Accuracy test VGGA: 0.99229\n",
            "Accuracy test VGGB: 0.99199\n",
            "Accuracy test VGG*: 0.97923\n",
            "Accuracy test VGGSTAR: 0.50732\n"
          ],
          "name": "stdout"
        },
        {
          "output_type": "stream",
          "text": [
            " [Elapsed Time: 0:03:03] |###############| [Time:  0:03:03] [Train Acc:  0.977]\n"
          ],
          "name": "stderr"
        },
        {
          "output_type": "stream",
          "text": [
            "Epoch 32:\n",
            "\ttrain\tLoss: 0.086655\tVGG 1:1.0\tVGG 2:1.0\tVGG *:0.97076\n",
            "\tval\tLoss: 0.10977\tVGG 1:0.99186\tVGG 2:0.99219\tVGG *:0.98519\n",
            "\ttest\tLoss: 0.11817\tVGG 1:0.99023\tVGG 2:0.99453\tVGG *:0.98525\n",
            "Accuracy test VGGA: 0.99159\n",
            "Accuracy test VGGB: 0.99199\n",
            "Accuracy test VGG*: 0.98507\n",
            "Accuracy test VGGSTAR: 0.50732\n"
          ],
          "name": "stdout"
        },
        {
          "output_type": "stream",
          "text": [
            " [Elapsed Time: 0:03:02] |###############| [Time:  0:03:02] [Train Acc:  0.992]\n"
          ],
          "name": "stderr"
        },
        {
          "output_type": "stream",
          "text": [
            "Epoch 33:\n",
            "\ttrain\tLoss: 0.086857\tVGG 1:1.0\tVGG 2:1.0\tVGG *:0.96955\n",
            "\tval\tLoss: 0.22709\tVGG 1:0.99186\tVGG 2:0.99284\tVGG *:0.94129\n",
            "\ttest\tLoss: 0.2436\tVGG 1:0.99004\tVGG 2:0.99473\tVGG *:0.93828\n",
            "Accuracy test VGGA: 0.9913\n",
            "Accuracy test VGGB: 0.99248\n",
            "Accuracy test VGG*: 0.93681\n",
            "Accuracy test VGGSTAR: 0.50791\n"
          ],
          "name": "stdout"
        },
        {
          "output_type": "stream",
          "text": [
            " [Elapsed Time: 0:03:02] |###############| [Time:  0:03:02] [Train Acc:   0.98]\n"
          ],
          "name": "stderr"
        },
        {
          "output_type": "stream",
          "text": [
            "Epoch 34:\n",
            "\ttrain\tLoss: 0.08241\tVGG 1:1.0\tVGG 2:1.0\tVGG *:0.97124\n",
            "\tval\tLoss: 0.1344\tVGG 1:0.99251\tVGG 2:0.99316\tVGG *:0.97403\n",
            "\ttest\tLoss: 0.15678\tVGG 1:0.99004\tVGG 2:0.99473\tVGG *:0.97197\n",
            "Accuracy test VGGA: 0.99159\n",
            "Accuracy test VGGB: 0.99219\n",
            "Accuracy test VGG*: 0.97162\n",
            "Accuracy test VGGSTAR: 0.50791\n"
          ],
          "name": "stdout"
        },
        {
          "output_type": "stream",
          "text": [
            " [Elapsed Time: 0:03:03] |###############| [Time:  0:03:03] [Train Acc:  0.984]\n"
          ],
          "name": "stderr"
        },
        {
          "output_type": "stream",
          "text": [
            "Epoch 35:\n",
            "\ttrain\tLoss: 0.087226\tVGG 1:1.0\tVGG 2:1.0\tVGG *:0.9691\n",
            "\tval\tLoss: 0.11699\tVGG 1:0.99219\tVGG 2:0.99316\tVGG *:0.98433\n",
            "\ttest\tLoss: 0.12837\tVGG 1:0.98965\tVGG 2:0.99453\tVGG *:0.98252\n",
            "Accuracy test VGGA: 0.9913\n",
            "Accuracy test VGGB: 0.99209\n",
            "Accuracy test VGG*: 0.98378\n",
            "Accuracy test VGGSTAR: 0.50732\n"
          ],
          "name": "stdout"
        },
        {
          "output_type": "stream",
          "text": [
            " [Elapsed Time: 0:03:03] |###############| [Time:  0:03:03] [Train Acc:  0.984]\n"
          ],
          "name": "stderr"
        },
        {
          "output_type": "stream",
          "text": [
            "Epoch 36:\n",
            "\ttrain\tLoss: 0.089859\tVGG 1:1.0\tVGG 2:1.0\tVGG *:0.96908\n",
            "\tval\tLoss: 0.11788\tVGG 1:0.99284\tVGG 2:0.99316\tVGG *:0.98075\n",
            "\ttest\tLoss: 0.1252\tVGG 1:0.99121\tVGG 2:0.99453\tVGG *:0.9833\n",
            "Accuracy test VGGA: 0.99219\n",
            "Accuracy test VGGB: 0.99229\n",
            "Accuracy test VGG*: 0.98309\n",
            "Accuracy test VGGSTAR: 0.50732\n"
          ],
          "name": "stdout"
        },
        {
          "output_type": "stream",
          "text": [
            " [Elapsed Time: 0:03:02] |###############| [Time:  0:03:02] [Train Acc:  0.988]\n"
          ],
          "name": "stderr"
        },
        {
          "output_type": "stream",
          "text": [
            "Epoch 37:\n",
            "\ttrain\tLoss: 0.086093\tVGG 1:1.0\tVGG 2:1.0\tVGG *:0.96894\n",
            "\tval\tLoss: 0.12097\tVGG 1:0.99251\tVGG 2:0.99284\tVGG *:0.98324\n",
            "\ttest\tLoss: 0.12956\tVGG 1:0.99141\tVGG 2:0.99473\tVGG *:0.98125\n",
            "Accuracy test VGGA: 0.99239\n",
            "Accuracy test VGGB: 0.99209\n",
            "Accuracy test VGG*: 0.9825\n",
            "Accuracy test VGGSTAR: 0.50742\n"
          ],
          "name": "stdout"
        },
        {
          "output_type": "stream",
          "text": [
            " [Elapsed Time: 0:03:03] |###############| [Time:  0:03:03] [Train Acc:  0.977]\n"
          ],
          "name": "stderr"
        },
        {
          "output_type": "stream",
          "text": [
            "Epoch 38:\n",
            "\ttrain\tLoss: 0.085923\tVGG 1:1.0\tVGG 2:1.0\tVGG *:0.96957\n",
            "\tval\tLoss: 0.11325\tVGG 1:0.99251\tVGG 2:0.99251\tVGG *:0.9847\n",
            "\ttest\tLoss: 0.13142\tVGG 1:0.99043\tVGG 2:0.99453\tVGG *:0.98096\n",
            "Accuracy test VGGA: 0.99189\n",
            "Accuracy test VGGB: 0.99209\n",
            "Accuracy test VGG*: 0.9822\n",
            "Accuracy test VGGSTAR: 0.50732\n"
          ],
          "name": "stdout"
        },
        {
          "output_type": "stream",
          "text": [
            " [Elapsed Time: 0:03:03] |###############| [Time:  0:03:03] [Train Acc:   0.98]\n"
          ],
          "name": "stderr"
        },
        {
          "output_type": "stream",
          "text": [
            "Epoch 39:\n",
            "\ttrain\tLoss: 0.08749\tVGG 1:1.0\tVGG 2:1.0\tVGG *:0.96929\n",
            "\tval\tLoss: 0.11253\tVGG 1:0.99316\tVGG 2:0.99316\tVGG *:0.98454\n",
            "\ttest\tLoss: 0.13278\tVGG 1:0.99062\tVGG 2:0.99473\tVGG *:0.98145\n",
            "Accuracy test VGGA: 0.99189\n",
            "Accuracy test VGGB: 0.99209\n",
            "Accuracy test VGG*: 0.98121\n",
            "Accuracy test VGGSTAR: 0.50752\n"
          ],
          "name": "stdout"
        },
        {
          "output_type": "stream",
          "text": [
            " [Elapsed Time: 0:03:03] |###############| [Time:  0:03:03] [Train Acc:  0.984]\n"
          ],
          "name": "stderr"
        },
        {
          "output_type": "stream",
          "text": [
            "Epoch 40:\n",
            "\ttrain\tLoss: 0.082948\tVGG 1:1.0\tVGG 2:1.0\tVGG *:0.97083\n",
            "\tval\tLoss: 0.13698\tVGG 1:0.99284\tVGG 2:0.99251\tVGG *:0.97777\n",
            "\ttest\tLoss: 0.14831\tVGG 1:0.99023\tVGG 2:0.99453\tVGG *:0.97578\n",
            "Accuracy test VGGA: 0.99169\n",
            "Accuracy test VGGB: 0.99219\n",
            "Accuracy test VGG*: 0.97547\n",
            "Accuracy test VGGSTAR: 0.50732\n"
          ],
          "name": "stdout"
        },
        {
          "output_type": "stream",
          "text": [
            " [Elapsed Time: 0:03:02] |###############| [Time:  0:03:02] [Train Acc:  0.973]\n"
          ],
          "name": "stderr"
        },
        {
          "output_type": "stream",
          "text": [
            "Epoch 41:\n",
            "\ttrain\tLoss: 0.081769\tVGG 1:1.0\tVGG 2:1.0\tVGG *:0.97158\n",
            "\tval\tLoss: 0.19382\tVGG 1:0.99219\tVGG 2:0.99316\tVGG *:0.9514\n",
            "\ttest\tLoss: 0.19119\tVGG 1:0.99004\tVGG 2:0.99453\tVGG *:0.96191\n",
            "Accuracy test VGGA: 0.99159\n",
            "Accuracy test VGGB: 0.99199\n",
            "Accuracy test VGG*: 0.96074\n",
            "Accuracy test VGGSTAR: 0.50752\n"
          ],
          "name": "stdout"
        },
        {
          "output_type": "stream",
          "text": [
            " [Elapsed Time: 0:03:02] |###############| [Time:  0:03:02] [Train Acc:  0.988]\n"
          ],
          "name": "stderr"
        },
        {
          "output_type": "stream",
          "text": [
            "Epoch 42:\n",
            "\ttrain\tLoss: 0.086514\tVGG 1:1.0\tVGG 2:1.0\tVGG *:0.97016\n",
            "\tval\tLoss: 0.1292\tVGG 1:0.99316\tVGG 2:0.99349\tVGG *:0.98096\n",
            "\ttest\tLoss: 0.13092\tVGG 1:0.99004\tVGG 2:0.99453\tVGG *:0.98438\n",
            "Accuracy test VGGA: 0.9915\n",
            "Accuracy test VGGB: 0.99189\n",
            "Accuracy test VGG*: 0.98418\n",
            "Accuracy test VGGSTAR: 0.50841\n"
          ],
          "name": "stdout"
        },
        {
          "output_type": "stream",
          "text": [
            " [Elapsed Time: 0:03:02] |###############| [Time:  0:03:02] [Train Acc:  0.969]\n"
          ],
          "name": "stderr"
        },
        {
          "output_type": "stream",
          "text": [
            "Epoch 43:\n",
            "\ttrain\tLoss: 0.080039\tVGG 1:1.0\tVGG 2:1.0\tVGG *:0.97121\n",
            "\tval\tLoss: 0.13443\tVGG 1:0.99154\tVGG 2:0.99316\tVGG *:0.97891\n",
            "\ttest\tLoss: 0.14672\tVGG 1:0.99062\tVGG 2:0.99473\tVGG *:0.97588\n",
            "Accuracy test VGGA: 0.99199\n",
            "Accuracy test VGGB: 0.99199\n",
            "Accuracy test VGG*: 0.97706\n",
            "Accuracy test VGGSTAR: 0.50732\n"
          ],
          "name": "stdout"
        },
        {
          "output_type": "stream",
          "text": [
            " [Elapsed Time: 0:03:03] |###############| [Time:  0:03:03] [Train Acc:   0.98]\n"
          ],
          "name": "stderr"
        },
        {
          "output_type": "stream",
          "text": [
            "Epoch 44:\n",
            "\ttrain\tLoss: 0.080535\tVGG 1:1.0\tVGG 2:1.0\tVGG *:0.9723\n",
            "\tval\tLoss: 0.15389\tVGG 1:0.99251\tVGG 2:0.99349\tVGG *:0.97196\n",
            "\ttest\tLoss: 0.1668\tVGG 1:0.99043\tVGG 2:0.99414\tVGG *:0.97002\n",
            "Accuracy test VGGA: 0.99189\n",
            "Accuracy test VGGB: 0.9915\n",
            "Accuracy test VGG*: 0.97261\n",
            "Accuracy test VGGSTAR: 0.50742\n"
          ],
          "name": "stdout"
        },
        {
          "output_type": "stream",
          "text": [
            " [Elapsed Time: 0:03:03] |###############| [Time:  0:03:03] [Train Acc:  0.977]\n"
          ],
          "name": "stderr"
        },
        {
          "output_type": "stream",
          "text": [
            "Epoch 45:\n",
            "\ttrain\tLoss: 0.081466\tVGG 1:1.0\tVGG 2:1.0\tVGG *:0.97236\n",
            "\tval\tLoss: 0.75414\tVGG 1:0.99284\tVGG 2:0.99316\tVGG *:0.78918\n",
            "\ttest\tLoss: 0.9356\tVGG 1:0.99062\tVGG 2:0.99453\tVGG *:0.74189\n",
            "Accuracy test VGGA: 0.99199\n",
            "Accuracy test VGGB: 0.99189\n",
            "Accuracy test VGG*: 0.74407\n",
            "Accuracy test VGGSTAR: 0.50732\n"
          ],
          "name": "stdout"
        },
        {
          "output_type": "stream",
          "text": [
            " [Elapsed Time: 0:03:04] |###############| [Time:  0:03:04] [Train Acc:  0.965]\n"
          ],
          "name": "stderr"
        },
        {
          "output_type": "stream",
          "text": [
            "Epoch 46:\n",
            "\ttrain\tLoss: 0.082762\tVGG 1:1.0\tVGG 2:1.0\tVGG *:0.97135\n",
            "\tval\tLoss: 0.16432\tVGG 1:0.99056\tVGG 2:0.99284\tVGG *:0.96568\n",
            "\ttest\tLoss: 0.17911\tVGG 1:0.99062\tVGG 2:0.99453\tVGG *:0.96553\n",
            "Accuracy test VGGA: 0.99179\n",
            "Accuracy test VGGB: 0.99229\n",
            "Accuracy test VGG*: 0.96737\n",
            "Accuracy test VGGSTAR: 0.50742\n"
          ],
          "name": "stdout"
        },
        {
          "output_type": "stream",
          "text": [
            " [Elapsed Time: 0:03:03] |###############| [Time:  0:03:03] [Train Acc:  0.973]\n"
          ],
          "name": "stderr"
        },
        {
          "output_type": "stream",
          "text": [
            "Epoch 47:\n",
            "\ttrain\tLoss: 0.076022\tVGG 1:1.0\tVGG 2:1.0\tVGG *:0.9729\n",
            "\tval\tLoss: 0.12488\tVGG 1:0.99154\tVGG 2:0.99284\tVGG *:0.98238\n",
            "\ttest\tLoss: 0.14291\tVGG 1:0.99043\tVGG 2:0.99473\tVGG *:0.97949\n",
            "Accuracy test VGGA: 0.99169\n",
            "Accuracy test VGGB: 0.99248\n",
            "Accuracy test VGG*: 0.9822\n",
            "Accuracy test VGGSTAR: 0.54529\n"
          ],
          "name": "stdout"
        },
        {
          "output_type": "stream",
          "text": [
            " [Elapsed Time: 0:03:03] |###############| [Time:  0:03:03] [Train Acc:  0.977]\n"
          ],
          "name": "stderr"
        },
        {
          "output_type": "stream",
          "text": [
            "Epoch 48:\n",
            "\ttrain\tLoss: 0.084545\tVGG 1:1.0\tVGG 2:1.0\tVGG *:0.97046\n",
            "\tval\tLoss: 0.1977\tVGG 1:0.99284\tVGG 2:0.99316\tVGG *:0.95587\n",
            "\ttest\tLoss: 0.22465\tVGG 1:0.99023\tVGG 2:0.99473\tVGG *:0.94795\n",
            "Accuracy test VGGA: 0.99159\n",
            "Accuracy test VGGB: 0.99248\n",
            "Accuracy test VGG*: 0.94956\n",
            "Accuracy test VGGSTAR: 0.50732\n"
          ],
          "name": "stdout"
        },
        {
          "output_type": "stream",
          "text": [
            " [Elapsed Time: 0:03:02] |###############| [Time:  0:03:02] [Train Acc:  0.969]\n"
          ],
          "name": "stderr"
        },
        {
          "output_type": "stream",
          "text": [
            "Epoch 49:\n",
            "\ttrain\tLoss: 0.082561\tVGG 1:0.99993\tVGG 2:1.0\tVGG *:0.97044\n",
            "\tval\tLoss: 0.13685\tVGG 1:0.99154\tVGG 2:0.99186\tVGG *:0.97961\n",
            "\ttest\tLoss: 0.14566\tVGG 1:0.99004\tVGG 2:0.99434\tVGG *:0.98018\n",
            "Accuracy test VGGA: 0.9913\n",
            "Accuracy test VGGB: 0.99199\n",
            "Accuracy test VGG*: 0.97992\n",
            "Accuracy test VGGSTAR: 0.50801\n"
          ],
          "name": "stdout"
        },
        {
          "output_type": "stream",
          "text": [
            " [Elapsed Time: 0:03:03] |###############| [Time:  0:03:03] [Train Acc:  0.984]\n"
          ],
          "name": "stderr"
        },
        {
          "output_type": "stream",
          "text": [
            "Epoch 50:\n",
            "\ttrain\tLoss: 0.083482\tVGG 1:1.0\tVGG 2:1.0\tVGG *:0.97052\n",
            "\tval\tLoss: 0.13456\tVGG 1:0.99219\tVGG 2:0.99316\tVGG *:0.97793\n",
            "\ttest\tLoss: 0.14935\tVGG 1:0.99102\tVGG 2:0.99434\tVGG *:0.97578\n",
            "Accuracy test VGGA: 0.99229\n",
            "Accuracy test VGGB: 0.99189\n",
            "Accuracy test VGG*: 0.97844\n",
            "Accuracy test VGGSTAR: 0.50732\n"
          ],
          "name": "stdout"
        },
        {
          "output_type": "display_data",
          "data": {
            "image/png": "[encoded data removed]",
            "text/plain": [
              "<Figure size 432x288 with 1 Axes>"
            ]
          },
          "metadata": {
            "tags": [],
            "needs_background": "light"
          }
        }
      ]
    },
    {
      "cell_type": "code",
      "metadata": {
        "colab": {
          "base_uri": "https://localhost:8080/"
        },
        "id": "wRJ7gX-in_BL",
        "outputId": "2fa64380-cfa2-47a1-e0ff-a848ee38a9d0"
      },
      "source": [
        "!pip install --upgrade progressbar2"
      ],
      "execution_count": null,
      "outputs": [
        {
          "output_type": "stream",
          "text": [
            "Requirement already satisfied: progressbar2 in /usr/local/lib/python3.7/dist-packages (3.38.0)\n",
            "Collecting progressbar2\n",
            "  Downloading progressbar2-3.53.1-py2.py3-none-any.whl (25 kB)\n",
            "Requirement already satisfied: six in /usr/local/lib/python3.7/dist-packages (from progressbar2) (1.15.0)\n",
            "Requirement already satisfied: python-utils>=2.3.0 in /usr/local/lib/python3.7/dist-packages (from progressbar2) (2.5.6)\n",
            "Installing collected packages: progressbar2\n",
            "  Attempting uninstall: progressbar2\n",
            "    Found existing installation: progressbar2 3.38.0\n",
            "    Uninstalling progressbar2-3.38.0:\n",
            "      Successfully uninstalled progressbar2-3.38.0\n",
            "Successfully installed progressbar2-3.53.1\n"
          ],
          "name": "stdout"
        }
      ]
    },
    {
      "cell_type": "code",
      "metadata": {
        "id": "8OkFGrWghD-D"
      },
      "source": [
        ""
      ],
      "execution_count": null,
      "outputs": []
    }
  ]
}
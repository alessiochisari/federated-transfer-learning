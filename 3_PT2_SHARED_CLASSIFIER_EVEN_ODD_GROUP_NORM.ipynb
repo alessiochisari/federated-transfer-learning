{
  "nbformat": 4,
  "nbformat_minor": 0,
  "metadata": {
    "kernelspec": {
      "language": "python",
      "display_name": "Python 3",
      "name": "python3"
    },
    "language_info": {
      "name": "python",
      "version": "3.7.10",
      "mimetype": "text/x-python",
      "codemirror_mode": {
        "name": "ipython",
        "version": 3
      },
      "pygments_lexer": "ipython3",
      "nbconvert_exporter": "python",
      "file_extension": ".py"
    },
    "colab": {
      "name": "3 VALERIO PT2 SHARED CLASSIFIER EVEN/ODD GROUP NORM",
      "provenance": []
    }
  },
  "cells": [
    {
      "cell_type": "code",
      "metadata": {
        "execution": {
          "iopub.status.busy": "2021-08-16T08:49:31.361214Z",
          "iopub.execute_input": "2021-08-16T08:49:31.361478Z",
          "iopub.status.idle": "2021-08-16T08:49:37.450189Z",
          "shell.execute_reply.started": "2021-08-16T08:49:31.361451Z",
          "shell.execute_reply": "2021-08-16T08:49:37.449252Z"
        },
        "trusted": true,
        "id": "2hVFnGcFYBRJ",
        "outputId": "30b23f85-93fb-4ebe-87ef-8f27516e91c8"
      },
      "source": [
        "!pip install progressbar2"
      ],
      "execution_count": null,
      "outputs": [
        {
          "output_type": "stream",
          "text": [
            "Requirement already satisfied: progressbar2 in /opt/conda/lib/python3.7/site-packages (3.53.1)\n",
            "Requirement already satisfied: python-utils>=2.3.0 in /opt/conda/lib/python3.7/site-packages (from progressbar2) (2.5.6)\n",
            "Requirement already satisfied: six in /opt/conda/lib/python3.7/site-packages (from progressbar2) (1.15.0)\n",
            "\u001b[33mWARNING: Running pip as root will break packages and permissions. You should install packages reliably by using venv: https://pip.pypa.io/warnings/venv\u001b[0m\n",
            "Note: you may need to restart the kernel to use updated packages.\n"
          ],
          "name": "stdout"
        }
      ]
    },
    {
      "cell_type": "code",
      "metadata": {
        "execution": {
          "iopub.status.busy": "2021-08-16T08:49:43.751138Z",
          "iopub.execute_input": "2021-08-16T08:49:43.751476Z",
          "iopub.status.idle": "2021-08-16T08:49:45.254236Z",
          "shell.execute_reply.started": "2021-08-16T08:49:43.751443Z",
          "shell.execute_reply": "2021-08-16T08:49:45.253350Z"
        },
        "trusted": true,
        "id": "ZYl2QSrmYBRM"
      },
      "source": [
        "from torch import nn\n",
        "from collections import OrderedDict\n",
        "import torch.nn.functional as F\n",
        "import torch\n",
        "from torch.utils.data import DataLoader\n",
        "import torchvision\n",
        "import random\n",
        "from torch.utils.data import Subset\n",
        "from matplotlib import pyplot as plt\n",
        "from torchsummary import summary\n",
        "from torchvision import transforms\n",
        "import progressbar as pb\n",
        "import numpy as np\n",
        "\n",
        "SUM = lambda x,y : x+y\n",
        "\n",
        "def check_equity(property,a,b):\n",
        "    pa = getattr(a,property)\n",
        "    pb = getattr(b,property)\n",
        "    assert  pa==pb, \"Different {}: {}!={}\".format(property,pa,pb)\n",
        "\n",
        "    return pa\n",
        "\n",
        "def module_unwrap(mod:nn.Module,recursive=False):\n",
        "    children = OrderedDict()\n",
        "    try:\n",
        "        for name, module in mod.named_children():\n",
        "            if (recursive):\n",
        "                recursive_call = module_unwrap(module,recursive=True)\n",
        "                if (len(recursive_call)>0):\n",
        "                    for k,v in recursive_call.items():\n",
        "                        children[name+\"_\"+k] = v\n",
        "                else:\n",
        "                    children[name] = module\n",
        "            else:\n",
        "                children[name] = module\n",
        "    except AttributeError:\n",
        "        pass\n",
        "\n",
        "    return children\n",
        "\n",
        "class VGGBlock(nn.Module):\n",
        "    def __init__(self, in_channels, out_channels,batch_norm=False):\n",
        "\n",
        "        super().__init__()\n",
        "\n",
        "        conv2_params = {'kernel_size': (3, 3),\n",
        "                        'stride'     : (1, 1),\n",
        "                        'padding'   : 1\n",
        "                        }\n",
        "\n",
        "        noop = lambda x : x\n",
        "\n",
        "        self._batch_norm = batch_norm\n",
        "\n",
        "        self.conv1 = nn.Conv2d(in_channels=in_channels,out_channels=out_channels , **conv2_params)\n",
        "        #self.bn1 = nn.BatchNorm2d(out_channels) if batch_norm else noop\n",
        "        self.bn1 = nn.GroupNorm(16, out_channels) if batch_norm else noop\n",
        "\n",
        "        self.conv2 = nn.Conv2d(in_channels=out_channels,out_channels=out_channels, **conv2_params)\n",
        "        #self.bn2 = nn.BatchNorm2d(out_channels) if batch_norm else noop\n",
        "        self.bn2 = nn.GroupNorm(16, out_channels) if batch_norm else noop\n",
        "\n",
        "        self.max_pooling = nn.MaxPool2d(kernel_size=(2, 2), stride=(2, 2))\n",
        "\n",
        "    @property\n",
        "    def batch_norm(self):\n",
        "        return self._batch_norm\n",
        "\n",
        "    def forward(self,x):\n",
        "        x = self.conv1(x)\n",
        "        x = self.bn1(x)\n",
        "        x = F.relu(x)\n",
        "\n",
        "        x = self.conv2(x)\n",
        "        x = self.bn2(x)\n",
        "        x = F.relu(x)\n",
        "\n",
        "        x = self.max_pooling(x)\n",
        "\n",
        "        return x\n",
        "\n",
        "class Classifier(nn.Module):\n",
        "\n",
        "    def __init__(self,num_classes=1):\n",
        "        super().__init__()\n",
        "\n",
        "        self.classifier = nn.Sequential(\n",
        "            nn.Linear(2048, 2048),\n",
        "            nn.ReLU(True),\n",
        "            nn.Dropout(p=0.5),\n",
        "            nn.Linear(2048, 512),\n",
        "            nn.ReLU(True),\n",
        "            nn.Dropout(p=0.5),\n",
        "            nn.Linear(512, num_classes)\n",
        "        )\n",
        "\n",
        "    def forward(self,x):\n",
        "\n",
        "        return self.classifier(x)\n",
        "\n",
        "class VGG16(nn.Module):\n",
        "\n",
        "  def __init__(self, input_size, batch_norm=False):\n",
        "    super(VGG16, self).__init__()\n",
        "\n",
        "    self.in_channels,self.in_width,self.in_height = input_size\n",
        "\n",
        "    self.block_1 = VGGBlock(self.in_channels,64,batch_norm=batch_norm)\n",
        "    self.block_2 = VGGBlock(64, 128,batch_norm=batch_norm)\n",
        "    self.block_3 = VGGBlock(128, 256,batch_norm=batch_norm)\n",
        "    self.block_4 = VGGBlock(256,512,batch_norm=batch_norm)\n",
        "\n",
        "\n",
        "  @property\n",
        "  def input_size(self):\n",
        "      return self.in_channels,self.in_width,self.in_height\n",
        "\n",
        "  def forward(self, x):\n",
        "\n",
        "    x = self.block_1(x)\n",
        "    x = self.block_2(x)\n",
        "    x = self.block_3(x)\n",
        "    x = self.block_4(x)\n",
        "    # x = self.avgpool(x)\n",
        "    x = torch.flatten(x,1)\n",
        "\n",
        "    return x\n",
        "\n",
        "class CombinedLoss(nn.Module):\n",
        "    def __init__(self, loss_a, loss_b, loss_combo, _lambda=1.0):\n",
        "        super().__init__()\n",
        "        self.loss_a = loss_a\n",
        "        self.loss_b = loss_b\n",
        "        self.loss_combo = loss_combo\n",
        "\n",
        "        self.register_buffer('_lambda',torch.tensor(float(_lambda),dtype=torch.float32))\n",
        "\n",
        "\n",
        "    def forward(self,y_hat,y):\n",
        "\n",
        "        return self.loss_a(y_hat[0],y[0]) + self.loss_b(y_hat[1],y[1]) + self._lambda * self.loss_combo(y_hat[2],torch.cat(y,0))\n",
        "\n",
        "DO='TRAIN'\n",
        "\n",
        "random.seed(47)\n",
        "\n",
        "combo_fn = SUM\n",
        "\n",
        "lambda_reg = 1"
      ],
      "execution_count": null,
      "outputs": []
    },
    {
      "cell_type": "code",
      "metadata": {
        "execution": {
          "iopub.status.busy": "2021-08-16T08:50:21.571958Z",
          "iopub.execute_input": "2021-08-16T08:50:21.572329Z",
          "iopub.status.idle": "2021-08-16T08:50:21.578408Z",
          "shell.execute_reply.started": "2021-08-16T08:50:21.572290Z",
          "shell.execute_reply": "2021-08-16T08:50:21.577569Z"
        },
        "trusted": true,
        "id": "V_hmpDjmYBRO"
      },
      "source": [
        "def test(net,classifier, loader):\n",
        "\n",
        "      net.to(dev)\n",
        "      classifier.to(dev)\n",
        "\n",
        "      net.eval()\n",
        "\n",
        "      sum_accuracy = 0\n",
        "\n",
        "      # Process each batch\n",
        "      for j, (input, labels) in enumerate(loader):\n",
        "\n",
        "        input = input.to(dev)\n",
        "        labels = labels.float().to(dev)\n",
        "\n",
        "        features = net(input)\n",
        "\n",
        "        pred = torch.squeeze(classifier(features))\n",
        "\n",
        "        # https://discuss.pytorch.org/t/bcewithlogitsloss-and-model-accuracy-calculation/59293/ 2\n",
        "        pred_labels = (pred >= 0.0).long()  # Binarize predictions to 0 and 1\n",
        "\n",
        "        batch_accuracy = (pred_labels == labels).sum().item() / len(labels)\n",
        "\n",
        "        # Update accuracy\n",
        "        sum_accuracy += batch_accuracy\n",
        "\n",
        "      epoch_accuracy = sum_accuracy / len(loader)\n",
        "    \n",
        "      return epoch_accuracy\n",
        "\n",
        "      #print(f\"Accuracy: {epoch_accuracy:0.5}\")"
      ],
      "execution_count": null,
      "outputs": []
    },
    {
      "cell_type": "code",
      "metadata": {
        "execution": {
          "iopub.status.busy": "2021-08-16T09:00:09.500932Z",
          "iopub.execute_input": "2021-08-16T09:00:09.501312Z",
          "iopub.status.idle": "2021-08-16T09:00:09.530894Z",
          "shell.execute_reply.started": "2021-08-16T09:00:09.501279Z",
          "shell.execute_reply": "2021-08-16T09:00:09.529139Z"
        },
        "trusted": true,
        "id": "DrfXuT8DYBRR"
      },
      "source": [
        "def train(nets, loaders, optimizer, criterion, epochs=20, dev=None, save_param=False, model_name=\"valerio\"):\n",
        "    # try:\n",
        "      nets = [n.to(dev) for n in nets]\n",
        "\n",
        "      model_a = module_unwrap(nets[0], True)\n",
        "      model_b = module_unwrap(nets[1], True)\n",
        "      model_c = module_unwrap(nets[2], True)\n",
        "\n",
        "      reg_loss = nn.MSELoss()\n",
        "\n",
        "      criterion.to(dev)\n",
        "      reg_loss.to(dev)\n",
        "\n",
        "      # Initialize history\n",
        "      history_loss = {\"train\": [], \"val\": [], \"test\": []}\n",
        "      history_accuracy = {\"train\": [], \"val\": [], \"test\": []}\n",
        "      history_test = []\n",
        "      # Store the best val accuracy\n",
        "      best_val_accuracy = 0\n",
        "\n",
        "      # Process each epoch\n",
        "      for epoch in range(epochs):\n",
        "        # Initialize epoch variables\n",
        "        sum_loss = {\"train\": 0, \"val\": 0, \"test\": 0}\n",
        "        sum_accuracy = {\"train\": [0,0,0], \"val\": [0,0,0], \"test\": [0,0,0]}\n",
        "\n",
        "        progbar = None\n",
        "        # Process each split\n",
        "        for split in [\"train\", \"val\", \"test\"]:\n",
        "          if split == \"train\":\n",
        "            for n in nets:\n",
        "              n.train()\n",
        "            widgets = [\n",
        "              ' [', pb.Timer(), '] ',\n",
        "              pb.Bar(),\n",
        "              ' [', pb.ETA(), '] ', pb.Variable('ta','[Train Acc: {formatted_value}]')\n",
        "            ]\n",
        "\n",
        "            progbar = pb.ProgressBar(max_value=len(loaders[split][0]),widgets=widgets,redirect_stdout=True)\n",
        "\n",
        "          else:\n",
        "            for n in nets:\n",
        "              n.eval()\n",
        "          # Process each batch\n",
        "          for j,((input_a, labels_a),(input_b, labels_b)) in enumerate(zip(loaders[split][0],loaders[split][1])):\n",
        "\n",
        "            input_a = input_a.to(dev)\n",
        "            input_b = input_b.to(dev)\n",
        "\n",
        "            labels_a = labels_a.float().to(dev)\n",
        "            labels_b = labels_b.float().to(dev)\n",
        "\n",
        "\n",
        "            inputs = torch.cat([input_a,input_b],axis=0)\n",
        "            labels = torch.cat([labels_a, labels_b])\n",
        "\n",
        "\n",
        "            # Reset gradients\n",
        "            optimizer.zero_grad()\n",
        "            # Compute output\n",
        "            features_a = nets[0](input_a)\n",
        "            features_b = nets[1](input_b)\n",
        "            features_c = nets[2](inputs)\n",
        "\n",
        "            pred_a = torch.squeeze(nets[3](features_a))\n",
        "            pred_b = torch.squeeze(nets[3](features_b))\n",
        "            pred_c = torch.squeeze(nets[3](features_c))\n",
        "\n",
        "            loss = criterion(pred_a, labels_a) + criterion(pred_b, labels_b) + criterion(pred_c, labels)\n",
        "\n",
        "            for n in model_a:\n",
        "              layer_a = model_a[n]\n",
        "              layer_b = model_b[n]\n",
        "              layer_c = model_c[n]\n",
        "              if (isinstance(layer_a,nn.Conv2d)):\n",
        "                loss += lambda_reg * reg_loss(combo_fn(layer_a.weight,layer_b.weight),layer_c.weight)\n",
        "                if (layer_a.bias is not None):\n",
        "                  loss += lambda_reg * reg_loss(combo_fn(layer_a.bias, layer_b.bias), layer_c.bias)\n",
        "\n",
        "            # Update loss\n",
        "            sum_loss[split] += loss.item()\n",
        "            # Check parameter update\n",
        "            if split == \"train\":\n",
        "              # Compute gradients\n",
        "              loss.backward()\n",
        "              # Optimize\n",
        "              optimizer.step()\n",
        "\n",
        "            # Compute accuracy\n",
        "\n",
        "            #https://discuss.pytorch.org/t/bcewithlogitsloss-and-model-accuracy-calculation/59293/ 2\n",
        "            pred_labels_a = (pred_a >= 0.0).long()  # Binarize predictions to 0 and 1\n",
        "            pred_labels_b = (pred_b >= 0.0).long()  # Binarize predictions to 0 and 1\n",
        "            pred_labels_c = (pred_c >= 0.0).long()  # Binarize predictions to 0 and 1\n",
        "\n",
        "\n",
        "            batch_accuracy_a = (pred_labels_a == labels_a).sum().item() / len(labels_a)\n",
        "            batch_accuracy_b = (pred_labels_b == labels_b).sum().item() / len(labels_b)\n",
        "            batch_accuracy_c = (pred_labels_c == labels).sum().item() / len(labels)\n",
        "\n",
        "            # Update accuracy\n",
        "            sum_accuracy[split][0] += batch_accuracy_a\n",
        "            sum_accuracy[split][1] += batch_accuracy_b\n",
        "            sum_accuracy[split][2] += batch_accuracy_c\n",
        "\n",
        "\n",
        "            if (split=='train'):\n",
        "              progbar.update(j, ta=batch_accuracy_c)\n",
        "\n",
        "        if (progbar is not None):\n",
        "          progbar.finish()\n",
        "        # Compute epoch loss/accuracy\n",
        "        epoch_loss = {split: sum_loss[split] / len(loaders[split][0]) for split in [\"train\", \"val\", \"test\"]}\n",
        "        epoch_accuracy = {split: [sum_accuracy[split][i] / len(loaders[split][0]) for i in range(len(sum_accuracy[split])) ] for split in [\"train\", \"val\", \"test\"]}\n",
        "\n",
        "        # # Store params at the best validation accuracy\n",
        "        # if save_param and epoch_accuracy[\"val\"] > best_val_accuracy:\n",
        "        #   # torch.save(net.state_dict(), f\"{net.__class__.__name__}_best_val.pth\")\n",
        "        #   torch.save(net.state_dict(), f\"{model_name}_best_val.pth\")\n",
        "        #   best_val_accuracy = epoch_accuracy[\"val\"]\n",
        "\n",
        "        print(f\"Epoch {epoch + 1}:\")\n",
        "        # Update history\n",
        "        for split in [\"train\", \"val\", \"test\"]:\n",
        "          history_loss[split].append(epoch_loss[split])\n",
        "          history_accuracy[split].append(epoch_accuracy[split])\n",
        "          # Print info\n",
        "          print(f\"\\t{split}\\tLoss: {epoch_loss[split]:0.5}\\tVGG 1:{epoch_accuracy[split][0]:0.5}\"\n",
        "                f\"\\tVGG 2:{epoch_accuracy[split][1]:0.5}\\tVGG *:{epoch_accuracy[split][2]:0.5}\")\n",
        "\n",
        "        if save_param:\n",
        "          torch.save({'vgg_a':nets[0].state_dict(),'vgg_b':nets[1].state_dict(),'vgg_star':nets[2].state_dict(),'classifier':nets[3].state_dict()},f'{model_name}.pth')\n",
        "        \n",
        "        print(f\"Accuracy test VGGA: {test(nets[0], nets[3], test_loader_all):0.5}\")\n",
        "        print(f\"Accuracy test VGGB: {test(nets[1], nets[3], test_loader_all):0.5}\")\n",
        "        print(f\"Accuracy test VGG*: {test(nets[2], nets[3], test_loader_all):0.5}\")\n",
        " \n",
        "        summed_state_dict = OrderedDict()\n",
        " \n",
        "        for key in nets[2].state_dict():\n",
        "          if key.find('conv') >=0:\n",
        "            #print(key)\n",
        "            summed_state_dict[key] = combo_fn(nets[0].state_dict()[key],nets[1].state_dict()[key])\n",
        "          else:\n",
        "            summed_state_dict[key] = nets[2].state_dict()[key]\n",
        " \n",
        "        nets[2].load_state_dict(summed_state_dict)\n",
        "        accuracy_star = test(nets[2], nets[3], test_loader_all)\n",
        "        print(f\"Accuracy test VGGSTAR: {accuracy_star:0.5}\")\n",
        "        history_test.append(accuracy_star)\n",
        "\n",
        "\n",
        "      # Plot accuracy\n",
        "      plt.title(\"Accuracy VGGSTAR over epochs\")\n",
        "      plt.plot(history_test)\n",
        "      #plt.legend()\n",
        "      plt.show()  "
      ],
      "execution_count": null,
      "outputs": []
    },
    {
      "cell_type": "code",
      "metadata": {
        "execution": {
          "iopub.status.busy": "2021-08-16T08:51:59.662883Z",
          "iopub.execute_input": "2021-08-16T08:51:59.663221Z",
          "iopub.status.idle": "2021-08-16T08:57:31.291078Z",
          "shell.execute_reply.started": "2021-08-16T08:51:59.663192Z",
          "shell.execute_reply": "2021-08-16T08:57:31.290236Z"
        },
        "trusted": true,
        "colab": {
          "referenced_widgets": [
            "88b264e5de344961add2d4cff5d9aeca",
            "7784dc540b0f4388bc7e0fdabd09cc6c",
            "640ff17581c341b8abc364644302c2bf",
            "6380f55c5d014d02a7dfc9ed0bedc5c8"
          ]
        },
        "id": "M0Fe1QsBYBRS",
        "outputId": "3a22d828-22fd-40b5-a8ec-12c5ff47aa7f"
      },
      "source": [
        "def parse_dataset(dataset):\n",
        "\n",
        "  dataset.targets = dataset.targets % 2\n",
        "\n",
        "  return dataset\n",
        "\n",
        "root_dir = './'\n",
        "\n",
        "rescale_data = transforms.Lambda(lambda x : x/255)\n",
        "\n",
        "# Compose transformations\n",
        "data_transform = transforms.Compose([\n",
        "  transforms.Resize(32),\n",
        "  transforms.RandomHorizontalFlip(),\n",
        "  transforms.ToTensor(),\n",
        "  rescale_data,\n",
        "  #transforms.Normalize((-0.7376), (0.5795))\n",
        "])\n",
        "\n",
        "test_transform = transforms.Compose([\n",
        "  transforms.Resize(32),\n",
        "  transforms.ToTensor(),\n",
        "  rescale_data,\n",
        "  #transforms.Normalize((0.1327), (0.2919))\n",
        "])\n",
        "\n",
        "# Load MNIST dataset with transforms\n",
        "train_set = torchvision.datasets.MNIST(root=root_dir, train=True, download=True, transform=data_transform)\n",
        "test_set = torchvision.datasets.MNIST(root=root_dir, train=False, download=True, transform=test_transform)\n",
        "\n",
        "train_set = parse_dataset(train_set)\n",
        "test_set = parse_dataset(test_set)\n",
        "\n",
        "train_idx = np.random.permutation(np.arange(len(train_set)))\n",
        "test_idx = np.arange(len(test_set))\n",
        "\n",
        "val_frac = 0.1\n",
        "\n",
        "n_val = int(len(train_idx) * val_frac)\n",
        "val_idx = train_idx[0:n_val]\n",
        "train_idx = train_idx[n_val:]\n",
        "\n",
        "h = len(train_idx)//2\n",
        "\n",
        "train_set_a = Subset(train_set,train_idx[0:h])\n",
        "train_set_b = Subset(train_set,train_idx[h:])\n",
        "\n",
        "h = len(val_idx)//2\n",
        "\n",
        "val_set_a = Subset(train_set,val_idx[0:h])\n",
        "val_set_b = Subset(train_set,val_idx[h:])\n",
        "\n",
        "h = len(test_idx)//2\n",
        "\n",
        "test_set_a = Subset(test_set,test_idx[0:h])\n",
        "test_set_b = Subset(test_set,test_idx[h:])\n",
        "\n",
        "# Define loaders\n",
        "\n",
        "train_loader_a = DataLoader(train_set_a, batch_size=128, num_workers=0, shuffle=True, drop_last=True)\n",
        "val_loader_a   = DataLoader(val_set_a,   batch_size=128, num_workers=0, shuffle=False, drop_last=False)\n",
        "test_loader_a  = DataLoader(test_set_a,  batch_size=128, num_workers=0, shuffle=False, drop_last=False)\n",
        "\n",
        "train_loader_b = DataLoader(train_set_b, batch_size=128, num_workers=0, shuffle=True, drop_last=True)\n",
        "val_loader_b   = DataLoader(val_set_b,   batch_size=128, num_workers=0, shuffle=False, drop_last=False)\n",
        "test_loader_b  = DataLoader(test_set_b,  batch_size=128, num_workers=0, shuffle=False, drop_last=False)\n",
        "\n",
        "test_loader_all = DataLoader(test_set,batch_size=128, num_workers=0,shuffle=False,drop_last=False)\n",
        "\n",
        "\n",
        "# Define dictionary of loaders\n",
        "loaders = {\"train\": [train_loader_a,train_loader_b],\n",
        "           \"val\":   [val_loader_a,val_loader_b],\n",
        "           \"test\":  [test_loader_a,test_loader_b]}\n"
      ],
      "execution_count": null,
      "outputs": [
        {
          "output_type": "stream",
          "text": [
            "Downloading http://yann.lecun.com/exdb/mnist/train-images-idx3-ubyte.gz to ./MNIST/raw/train-images-idx3-ubyte.gz\n"
          ],
          "name": "stdout"
        },
        {
          "output_type": "display_data",
          "data": {
            "text/plain": [
              "0it [00:00, ?it/s]"
            ],
            "application/vnd.jupyter.widget-view+json": {
              "version_major": 2,
              "version_minor": 0,
              "model_id": "88b264e5de344961add2d4cff5d9aeca"
            }
          },
          "metadata": {
            "tags": []
          }
        },
        {
          "output_type": "stream",
          "text": [
            "Extracting ./MNIST/raw/train-images-idx3-ubyte.gz to ./MNIST/raw\n",
            "Downloading http://yann.lecun.com/exdb/mnist/train-labels-idx1-ubyte.gz to ./MNIST/raw/train-labels-idx1-ubyte.gz\n"
          ],
          "name": "stdout"
        },
        {
          "output_type": "display_data",
          "data": {
            "text/plain": [
              "0it [00:00, ?it/s]"
            ],
            "application/vnd.jupyter.widget-view+json": {
              "version_major": 2,
              "version_minor": 0,
              "model_id": "7784dc540b0f4388bc7e0fdabd09cc6c"
            }
          },
          "metadata": {
            "tags": []
          }
        },
        {
          "output_type": "stream",
          "text": [
            "Extracting ./MNIST/raw/train-labels-idx1-ubyte.gz to ./MNIST/raw\n",
            "Downloading http://yann.lecun.com/exdb/mnist/t10k-images-idx3-ubyte.gz to ./MNIST/raw/t10k-images-idx3-ubyte.gz\n"
          ],
          "name": "stdout"
        },
        {
          "output_type": "display_data",
          "data": {
            "text/plain": [
              "0it [00:00, ?it/s]"
            ],
            "application/vnd.jupyter.widget-view+json": {
              "version_major": 2,
              "version_minor": 0,
              "model_id": "640ff17581c341b8abc364644302c2bf"
            }
          },
          "metadata": {
            "tags": []
          }
        },
        {
          "output_type": "stream",
          "text": [
            "Extracting ./MNIST/raw/t10k-images-idx3-ubyte.gz to ./MNIST/raw\n",
            "Downloading http://yann.lecun.com/exdb/mnist/t10k-labels-idx1-ubyte.gz to ./MNIST/raw/t10k-labels-idx1-ubyte.gz\n"
          ],
          "name": "stdout"
        },
        {
          "output_type": "display_data",
          "data": {
            "text/plain": [
              "0it [00:00, ?it/s]"
            ],
            "application/vnd.jupyter.widget-view+json": {
              "version_major": 2,
              "version_minor": 0,
              "model_id": "6380f55c5d014d02a7dfc9ed0bedc5c8"
            }
          },
          "metadata": {
            "tags": []
          }
        },
        {
          "output_type": "stream",
          "text": [
            "Extracting ./MNIST/raw/t10k-labels-idx1-ubyte.gz to ./MNIST/raw\n",
            "Processing...\n",
            "Done!\n"
          ],
          "name": "stdout"
        },
        {
          "output_type": "stream",
          "text": [
            "/opt/conda/lib/python3.7/site-packages/torchvision/datasets/mnist.py:480: UserWarning: The given NumPy array is not writeable, and PyTorch does not support non-writeable tensors. This means you can write to the underlying (supposedly non-writeable) NumPy array using the tensor. You may want to copy the array to protect its data or make it writeable before converting it to a tensor. This type of warning will be suppressed for the rest of this program. (Triggered internally at  /opt/conda/conda-bld/pytorch_1603729047590/work/torch/csrc/utils/tensor_numpy.cpp:141.)\n",
            "  return torch.from_numpy(parsed.astype(m[2], copy=False)).view(*s)\n"
          ],
          "name": "stderr"
        }
      ]
    },
    {
      "cell_type": "code",
      "metadata": {
        "execution": {
          "iopub.status.busy": "2021-08-16T09:00:25.705932Z",
          "iopub.execute_input": "2021-08-16T09:00:25.706298Z",
          "iopub.status.idle": "2021-08-16T09:00:25.863772Z",
          "shell.execute_reply.started": "2021-08-16T09:00:25.706265Z",
          "shell.execute_reply": "2021-08-16T09:00:25.862732Z"
        },
        "trusted": true,
        "id": "iK-ljg7-YBRS"
      },
      "source": [
        "model1 = VGG16((1,32,32),batch_norm=True)\n",
        "model2 = VGG16((1,32,32),batch_norm=True)\n",
        "model3 = VGG16((1,32,32),batch_norm=True)\n",
        "classifier = Classifier(num_classes=1)\n",
        "\n",
        "nets = [model1,model2,model3,classifier]\n",
        "\n",
        "dev = torch.device('cuda')\n",
        "\n",
        "parameters = set()\n",
        "\n",
        "for n in nets:\n",
        "  parameters |= set(n.parameters())\n",
        "\n",
        "optimizer = torch.optim.SGD(parameters, lr = 0.01)\n",
        "# Define a loss\n",
        "criterion = nn.BCEWithLogitsLoss()#,nn.BCEWithLogitsLoss(),nn.BCEWithLogitsLoss(),_lambda = 1)\n",
        "n_params = 0"
      ],
      "execution_count": null,
      "outputs": []
    },
    {
      "cell_type": "code",
      "metadata": {
        "execution": {
          "iopub.status.busy": "2021-08-16T09:00:29.494854Z",
          "iopub.execute_input": "2021-08-16T09:00:29.495239Z",
          "iopub.status.idle": "2021-08-16T09:46:09.131395Z",
          "shell.execute_reply.started": "2021-08-16T09:00:29.495207Z",
          "shell.execute_reply": "2021-08-16T09:46:09.130410Z"
        },
        "trusted": true,
        "id": "SoKmml4FYBRU",
        "outputId": "1375749e-ce15-436a-c04c-18693c4bd24f"
      },
      "source": [
        "if (DO=='TRAIN'):\n",
        "  train(nets, loaders, optimizer, criterion, epochs=50, dev=dev,save_param=True)\n",
        "else:\n",
        "  state_dicts = torch.load('model.pth')\n",
        "  model1.load_state_dict(state_dicts['vgg_a']) #questi state_dict vengono dalla funzione di training\n",
        "  model2.load_state_dict(state_dicts['vgg_b'])\n",
        "  model3.load_state_dict(state_dicts['vgg_star'])\n",
        "  classifier.load_state_dict(state_dicts['classifier'])\n",
        "\n",
        "  test(model1,classifier,test_loader_all)\n",
        "  test(model2, classifier, test_loader_all)\n",
        "  test(model3, classifier, test_loader_all)\n",
        "\n",
        "  summed_state_dict = OrderedDict()\n",
        "\n",
        "  for key in state_dicts['vgg_star']:\n",
        "    if key.find('conv') >=0:\n",
        "      print(key)\n",
        "      summed_state_dict[key] = combo_fn(state_dicts['vgg_a'][key],state_dicts['vgg_b'][key])\n",
        "    else:\n",
        "      summed_state_dict[key] = state_dicts['vgg_star'][key]\n",
        "\n",
        "  model3.load_state_dict(summed_state_dict)\n",
        "  test(model3, classifier, test_loader_all)"
      ],
      "execution_count": null,
      "outputs": [
        {
          "output_type": "stream",
          "text": [
            " [Elapsed Time: 0:00:46] |###############| [Time:  0:00:46] [Train Acc:  0.539]\n"
          ],
          "name": "stderr"
        },
        {
          "output_type": "stream",
          "text": [
            "Epoch 1:\n",
            "\ttrain\tLoss: 2.3142\tVGG 1:0.50175\tVGG 2:0.50089\tVGG *:0.50309\n",
            "\tval\tLoss: 2.2843\tVGG 1:0.50037\tVGG 2:0.52358\tVGG *:0.51197\n",
            "\ttest\tLoss: 2.2855\tVGG 1:0.50859\tVGG 2:0.50293\tVGG *:0.50576\n",
            "Accuracy test VGGA: 0.50732\n",
            "Accuracy test VGGB: 0.50732\n",
            "Accuracy test VGG*: 0.50732\n",
            "Accuracy test VGGSTAR: 0.50732\n"
          ],
          "name": "stdout"
        },
        {
          "output_type": "stream",
          "text": [
            " [Elapsed Time: 0:00:46] |###############| [Time:  0:00:46] [Train Acc:  0.527]\n"
          ],
          "name": "stderr"
        },
        {
          "output_type": "stream",
          "text": [
            "Epoch 2:\n",
            "\ttrain\tLoss: 2.0821\tVGG 1:0.50629\tVGG 2:0.5064\tVGG *:0.50339\n",
            "\tval\tLoss: 2.0792\tVGG 1:0.50037\tVGG 2:0.52358\tVGG *:0.51197\n",
            "\ttest\tLoss: 2.0804\tVGG 1:0.50859\tVGG 2:0.50293\tVGG *:0.50576\n",
            "Accuracy test VGGA: 0.50732\n",
            "Accuracy test VGGB: 0.50732\n",
            "Accuracy test VGG*: 0.50732\n",
            "Accuracy test VGGSTAR: 0.50732\n"
          ],
          "name": "stdout"
        },
        {
          "output_type": "stream",
          "text": [
            " [Elapsed Time: 0:00:46] |###############| [Time:  0:00:46] [Train Acc:  0.492]\n"
          ],
          "name": "stderr"
        },
        {
          "output_type": "stream",
          "text": [
            "Epoch 3:\n",
            "\ttrain\tLoss: 2.0813\tVGG 1:0.50487\tVGG 2:0.50737\tVGG *:0.50192\n",
            "\tval\tLoss: 2.0788\tVGG 1:0.50037\tVGG 2:0.52358\tVGG *:0.51197\n",
            "\ttest\tLoss: 2.0797\tVGG 1:0.50859\tVGG 2:0.50293\tVGG *:0.50576\n",
            "Accuracy test VGGA: 0.50732\n",
            "Accuracy test VGGB: 0.50732\n",
            "Accuracy test VGG*: 0.50732\n",
            "Accuracy test VGGSTAR: 0.50732\n"
          ],
          "name": "stdout"
        },
        {
          "output_type": "stream",
          "text": [
            " [Elapsed Time: 0:00:46] |###############| [Time:  0:00:46] [Train Acc:  0.465]\n"
          ],
          "name": "stderr"
        },
        {
          "output_type": "stream",
          "text": [
            "Epoch 4:\n",
            "\ttrain\tLoss: 2.0806\tVGG 1:0.50714\tVGG 2:0.50342\tVGG *:0.50255\n",
            "\tval\tLoss: 2.0778\tVGG 1:0.49963\tVGG 2:0.52358\tVGG *:0.51197\n",
            "\ttest\tLoss: 2.0791\tVGG 1:0.49141\tVGG 2:0.50293\tVGG *:0.50576\n",
            "Accuracy test VGGA: 0.49268\n",
            "Accuracy test VGGB: 0.50732\n",
            "Accuracy test VGG*: 0.50732\n",
            "Accuracy test VGGSTAR: 0.50732\n"
          ],
          "name": "stdout"
        },
        {
          "output_type": "stream",
          "text": [
            " [Elapsed Time: 0:00:46] |###############| [Time:  0:00:46] [Train Acc:  0.531]\n"
          ],
          "name": "stderr"
        },
        {
          "output_type": "stream",
          "text": [
            "Epoch 5:\n",
            "\ttrain\tLoss: 2.0795\tVGG 1:0.51436\tVGG 2:0.50461\tVGG *:0.50277\n",
            "\tval\tLoss: 2.0774\tVGG 1:0.50037\tVGG 2:0.52358\tVGG *:0.51197\n",
            "\ttest\tLoss: 2.078\tVGG 1:0.50859\tVGG 2:0.50293\tVGG *:0.50576\n",
            "Accuracy test VGGA: 0.50732\n",
            "Accuracy test VGGB: 0.50732\n",
            "Accuracy test VGG*: 0.50732\n",
            "Accuracy test VGGSTAR: 0.50732\n"
          ],
          "name": "stdout"
        },
        {
          "output_type": "stream",
          "text": [
            " [Elapsed Time: 0:00:46] |###############| [Time:  0:00:46] [Train Acc:  0.469]\n"
          ],
          "name": "stderr"
        },
        {
          "output_type": "stream",
          "text": [
            "Epoch 6:\n",
            "\ttrain\tLoss: 2.0799\tVGG 1:0.51358\tVGG 2:0.50205\tVGG *:0.50305\n",
            "\tval\tLoss: 2.0773\tVGG 1:0.50037\tVGG 2:0.52358\tVGG *:0.51197\n",
            "\ttest\tLoss: 2.0784\tVGG 1:0.50859\tVGG 2:0.50293\tVGG *:0.50576\n",
            "Accuracy test VGGA: 0.50732\n",
            "Accuracy test VGGB: 0.50732\n",
            "Accuracy test VGG*: 0.50732\n",
            "Accuracy test VGGSTAR: 0.50732\n"
          ],
          "name": "stdout"
        },
        {
          "output_type": "stream",
          "text": [
            " [Elapsed Time: 0:00:46] |###############| [Time:  0:00:46] [Train Acc:  0.535]\n"
          ],
          "name": "stderr"
        },
        {
          "output_type": "stream",
          "text": [
            "Epoch 7:\n",
            "\ttrain\tLoss: 2.078\tVGG 1:0.52906\tVGG 2:0.49781\tVGG *:0.50484\n",
            "\tval\tLoss: 2.0735\tVGG 1:0.74702\tVGG 2:0.52358\tVGG *:0.51197\n",
            "\ttest\tLoss: 2.0742\tVGG 1:0.74785\tVGG 2:0.50293\tVGG *:0.50576\n",
            "Accuracy test VGGA: 0.7682\n",
            "Accuracy test VGGB: 0.50732\n",
            "Accuracy test VGG*: 0.50732\n",
            "Accuracy test VGGSTAR: 0.50732\n"
          ],
          "name": "stdout"
        },
        {
          "output_type": "stream",
          "text": [
            " [Elapsed Time: 0:00:46] |###############| [Time:  0:00:46] [Train Acc:  0.492]\n"
          ],
          "name": "stderr"
        },
        {
          "output_type": "stream",
          "text": [
            "Epoch 8:\n",
            "\ttrain\tLoss: 2.0632\tVGG 1:0.58326\tVGG 2:0.50119\tVGG *:0.50724\n",
            "\tval\tLoss: 2.0437\tVGG 1:0.71126\tVGG 2:0.52358\tVGG *:0.51197\n",
            "\ttest\tLoss: 2.045\tVGG 1:0.69512\tVGG 2:0.50293\tVGG *:0.50576\n",
            "Accuracy test VGGA: 0.72745\n",
            "Accuracy test VGGB: 0.50732\n",
            "Accuracy test VGG*: 0.50732\n",
            "Accuracy test VGGSTAR: 0.50732\n"
          ],
          "name": "stdout"
        },
        {
          "output_type": "stream",
          "text": [
            " [Elapsed Time: 0:00:46] |###############| [Time:  0:00:46] [Train Acc:  0.465]\n"
          ],
          "name": "stderr"
        },
        {
          "output_type": "stream",
          "text": [
            "Epoch 9:\n",
            "\ttrain\tLoss: 2.0439\tVGG 1:0.60763\tVGG 2:0.50279\tVGG *:0.50441\n",
            "\tval\tLoss: 2.029\tVGG 1:0.70712\tVGG 2:0.52358\tVGG *:0.51197\n",
            "\ttest\tLoss: 2.0316\tVGG 1:0.68965\tVGG 2:0.50293\tVGG *:0.50576\n",
            "Accuracy test VGGA: 0.71529\n",
            "Accuracy test VGGB: 0.50732\n",
            "Accuracy test VGG*: 0.50732\n",
            "Accuracy test VGGSTAR: 0.50732\n"
          ],
          "name": "stdout"
        },
        {
          "output_type": "stream",
          "text": [
            " [Elapsed Time: 0:00:46] |###############| [Time:  0:00:46] [Train Acc:  0.547]\n"
          ],
          "name": "stderr"
        },
        {
          "output_type": "stream",
          "text": [
            "Epoch 10:\n",
            "\ttrain\tLoss: 1.8774\tVGG 1:0.76298\tVGG 2:0.50227\tVGG *:0.52574\n",
            "\tval\tLoss: 1.8533\tVGG 1:0.77772\tVGG 2:0.52358\tVGG *:0.51751\n",
            "\ttest\tLoss: 1.8566\tVGG 1:0.76621\tVGG 2:0.50293\tVGG *:0.5166\n",
            "Accuracy test VGGA: 0.78946\n",
            "Accuracy test VGGB: 0.50732\n",
            "Accuracy test VGG*: 0.5175\n",
            "Accuracy test VGGSTAR: 0.50732\n"
          ],
          "name": "stdout"
        },
        {
          "output_type": "stream",
          "text": [
            " [Elapsed Time: 0:00:46] |###############| [Time:  0:00:46] [Train Acc:  0.695]\n"
          ],
          "name": "stderr"
        },
        {
          "output_type": "stream",
          "text": [
            "Epoch 11:\n",
            "\ttrain\tLoss: 1.977\tVGG 1:0.66034\tVGG 2:0.51083\tVGG *:0.57548\n",
            "\tval\tLoss: 1.8678\tVGG 1:0.66364\tVGG 2:0.47642\tVGG *:0.65034\n",
            "\ttest\tLoss: 1.8468\tVGG 1:0.69102\tVGG 2:0.49707\tVGG *:0.66797\n",
            "Accuracy test VGGA: 0.68888\n",
            "Accuracy test VGGB: 0.49278\n",
            "Accuracy test VGG*: 0.66624\n",
            "Accuracy test VGGSTAR: 0.74258\n"
          ],
          "name": "stdout"
        },
        {
          "output_type": "stream",
          "text": [
            " [Elapsed Time: 0:00:46] |###############| [Time:  0:00:46] [Train Acc:  0.777]\n"
          ],
          "name": "stderr"
        },
        {
          "output_type": "stream",
          "text": [
            "Epoch 12:\n",
            "\ttrain\tLoss: 1.6952\tVGG 1:0.78709\tVGG 2:0.55026\tVGG *:0.70214\n",
            "\tval\tLoss: 1.5916\tVGG 1:0.81036\tVGG 2:0.52358\tVGG *:0.78764\n",
            "\ttest\tLoss: 1.5727\tVGG 1:0.80918\tVGG 2:0.50293\tVGG *:0.80527\n",
            "Accuracy test VGGA: 0.82397\n",
            "Accuracy test VGGB: 0.50732\n",
            "Accuracy test VGG*: 0.80311\n",
            "Accuracy test VGGSTAR: 0.50732\n"
          ],
          "name": "stdout"
        },
        {
          "output_type": "stream",
          "text": [
            " [Elapsed Time: 0:00:46] |###############| [Time:  0:00:46] [Train Acc:   0.82]\n"
          ],
          "name": "stderr"
        },
        {
          "output_type": "stream",
          "text": [
            "Epoch 13:\n",
            "\ttrain\tLoss: 1.6357\tVGG 1:0.84725\tVGG 2:0.55904\tVGG *:0.65234\n",
            "\tval\tLoss: 1.4188\tVGG 1:0.86988\tVGG 2:0.47642\tVGG *:0.80329\n",
            "\ttest\tLoss: 1.392\tVGG 1:0.86621\tVGG 2:0.49707\tVGG *:0.82354\n",
            "Accuracy test VGGA: 0.88074\n",
            "Accuracy test VGGB: 0.49268\n",
            "Accuracy test VGG*: 0.82071\n",
            "Accuracy test VGGSTAR: 0.50732\n"
          ],
          "name": "stdout"
        },
        {
          "output_type": "stream",
          "text": [
            " [Elapsed Time: 0:00:46] |###############| [Time:  0:00:46] [Train Acc:  0.785]\n"
          ],
          "name": "stderr"
        },
        {
          "output_type": "stream",
          "text": [
            "Epoch 14:\n",
            "\ttrain\tLoss: 1.6942\tVGG 1:0.78583\tVGG 2:0.55186\tVGG *:0.65443\n",
            "\tval\tLoss: 1.32\tVGG 1:0.91881\tVGG 2:0.47642\tVGG *:0.81871\n",
            "\ttest\tLoss: 1.3083\tVGG 1:0.91348\tVGG 2:0.49707\tVGG *:0.82832\n",
            "Accuracy test VGGA: 0.9282\n",
            "Accuracy test VGGB: 0.49268\n",
            "Accuracy test VGG*: 0.82783\n",
            "Accuracy test VGGSTAR: 0.50732\n"
          ],
          "name": "stdout"
        },
        {
          "output_type": "stream",
          "text": [
            " [Elapsed Time: 0:00:46] |###############| [Time:  0:00:46] [Train Acc:  0.875]\n"
          ],
          "name": "stderr"
        },
        {
          "output_type": "stream",
          "text": [
            "Epoch 15:\n",
            "\ttrain\tLoss: 1.6065\tVGG 1:0.81994\tVGG 2:0.58333\tVGG *:0.68346\n",
            "\tval\tLoss: 1.0651\tVGG 1:0.9262\tVGG 2:0.7381\tVGG *:0.85921\n",
            "\ttest\tLoss: 1.0259\tVGG 1:0.91992\tVGG 2:0.76465\tVGG *:0.87754\n",
            "Accuracy test VGGA: 0.93513\n",
            "Accuracy test VGGB: 0.74644\n",
            "Accuracy test VGG*: 0.87619\n",
            "Accuracy test VGGSTAR: 0.50732\n"
          ],
          "name": "stdout"
        },
        {
          "output_type": "stream",
          "text": [
            " [Elapsed Time: 0:00:46] |###############| [Time:  0:00:46] [Train Acc:  0.914]\n"
          ],
          "name": "stderr"
        },
        {
          "output_type": "stream",
          "text": [
            "Epoch 16:\n",
            "\ttrain\tLoss: 1.2512\tVGG 1:0.91194\tVGG 2:0.72719\tVGG *:0.74418\n",
            "\tval\tLoss: 0.90931\tVGG 1:0.93769\tVGG 2:0.79622\tVGG *:0.85642\n",
            "\ttest\tLoss: 0.84405\tVGG 1:0.9332\tVGG 2:0.82852\tVGG *:0.87256\n",
            "Accuracy test VGGA: 0.94531\n",
            "Accuracy test VGGB: 0.80854\n",
            "Accuracy test VGG*: 0.87114\n",
            "Accuracy test VGGSTAR: 0.51108\n"
          ],
          "name": "stdout"
        },
        {
          "output_type": "stream",
          "text": [
            " [Elapsed Time: 0:00:46] |###############| [Time:  0:00:46] [Train Acc:  0.918]\n"
          ],
          "name": "stderr"
        },
        {
          "output_type": "stream",
          "text": [
            "Epoch 17:\n",
            "\ttrain\tLoss: 1.0719\tVGG 1:0.94513\tVGG 2:0.79196\tVGG *:0.75571\n",
            "\tval\tLoss: 0.84341\tVGG 1:0.95168\tVGG 2:0.75563\tVGG *:0.91283\n",
            "\ttest\tLoss: 0.79568\tVGG 1:0.94316\tVGG 2:0.79316\tVGG *:0.92627\n",
            "Accuracy test VGGA: 0.95441\n",
            "Accuracy test VGGB: 0.76731\n",
            "Accuracy test VGG*: 0.92544\n",
            "Accuracy test VGGSTAR: 0.50732\n"
          ],
          "name": "stdout"
        },
        {
          "output_type": "stream",
          "text": [
            " [Elapsed Time: 0:00:46] |###############| [Time:  0:00:46] [Train Acc:  0.887]\n"
          ],
          "name": "stderr"
        },
        {
          "output_type": "stream",
          "text": [
            "Epoch 18:\n",
            "\ttrain\tLoss: 0.94734\tVGG 1:0.95491\tVGG 2:0.8314\tVGG *:0.77277\n",
            "\tval\tLoss: 0.63637\tVGG 1:0.96122\tVGG 2:0.8663\tVGG *:0.91185\n",
            "\ttest\tLoss: 0.53921\tVGG 1:0.95547\tVGG 2:0.90996\tVGG *:0.92627\n",
            "Accuracy test VGGA: 0.96123\n",
            "Accuracy test VGGB: 0.8838\n",
            "Accuracy test VGG*: 0.92623\n",
            "Accuracy test VGGSTAR: 0.50761\n"
          ],
          "name": "stdout"
        },
        {
          "output_type": "stream",
          "text": [
            " [Elapsed Time: 0:00:46] |###############| [Time:  0:00:46] [Train Acc:  0.848]\n"
          ],
          "name": "stderr"
        },
        {
          "output_type": "stream",
          "text": [
            "Epoch 19:\n",
            "\ttrain\tLoss: 1.0194\tVGG 1:0.96243\tVGG 2:0.7824\tVGG *:0.75939\n",
            "\tval\tLoss: 0.71388\tVGG 1:0.96763\tVGG 2:0.8165\tVGG *:0.90318\n",
            "\ttest\tLoss: 0.63542\tVGG 1:0.96309\tVGG 2:0.84668\tVGG *:0.91807\n",
            "Accuracy test VGGA: 0.97093\n",
            "Accuracy test VGGB: 0.82397\n",
            "Accuracy test VGG*: 0.91634\n",
            "Accuracy test VGGSTAR: 0.57921\n"
          ],
          "name": "stdout"
        },
        {
          "output_type": "stream",
          "text": [
            " [Elapsed Time: 0:00:46] |###############| [Time:  0:00:46] [Train Acc:  0.848]\n"
          ],
          "name": "stderr"
        },
        {
          "output_type": "stream",
          "text": [
            "Epoch 20:\n",
            "\ttrain\tLoss: 0.83478\tVGG 1:0.96603\tVGG 2:0.87723\tVGG *:0.77195\n",
            "\tval\tLoss: 0.68753\tVGG 1:0.96675\tVGG 2:0.92462\tVGG *:0.83359\n",
            "\ttest\tLoss: 0.60063\tVGG 1:0.96133\tVGG 2:0.95215\tVGG *:0.8459\n",
            "Accuracy test VGGA: 0.97132\n",
            "Accuracy test VGGB: 0.93602\n",
            "Accuracy test VGG*: 0.84484\n",
            "Accuracy test VGGSTAR: 0.63489\n"
          ],
          "name": "stdout"
        },
        {
          "output_type": "stream",
          "text": [
            " [Elapsed Time: 0:00:46] |###############| [Time:  0:00:46] [Train Acc:  0.945]\n"
          ],
          "name": "stderr"
        },
        {
          "output_type": "stream",
          "text": [
            "Epoch 21:\n",
            "\ttrain\tLoss: 0.79184\tVGG 1:0.97121\tVGG 2:0.87589\tVGG *:0.79381\n",
            "\tval\tLoss: 0.53\tVGG 1:0.97033\tVGG 2:0.8744\tVGG *:0.93729\n",
            "\ttest\tLoss: 0.44991\tVGG 1:0.9707\tVGG 2:0.90957\tVGG *:0.94844\n",
            "Accuracy test VGGA: 0.9735\n",
            "Accuracy test VGGB: 0.88875\n",
            "Accuracy test VGG*: 0.94788\n",
            "Accuracy test VGGSTAR: 0.53016\n"
          ],
          "name": "stdout"
        },
        {
          "output_type": "stream",
          "text": [
            " [Elapsed Time: 0:00:46] |###############| [Time:  0:00:46] [Train Acc:  0.914]\n"
          ],
          "name": "stderr"
        },
        {
          "output_type": "stream",
          "text": [
            "Epoch 22:\n",
            "\ttrain\tLoss: 0.67621\tVGG 1:0.97344\tVGG 2:0.92902\tVGG *:0.79749\n",
            "\tval\tLoss: 0.41545\tVGG 1:0.97131\tVGG 2:0.94164\tVGG *:0.93094\n",
            "\ttest\tLoss: 0.36199\tVGG 1:0.9707\tVGG 2:0.95469\tVGG *:0.94209\n",
            "Accuracy test VGGA: 0.9736\n",
            "Accuracy test VGGB: 0.94591\n",
            "Accuracy test VGG*: 0.94146\n",
            "Accuracy test VGGSTAR: 0.6425\n"
          ],
          "name": "stdout"
        },
        {
          "output_type": "stream",
          "text": [
            " [Elapsed Time: 0:00:46] |###############| [Time:  0:00:46] [Train Acc:  0.953]\n"
          ],
          "name": "stderr"
        },
        {
          "output_type": "stream",
          "text": [
            "Epoch 23:\n",
            "\ttrain\tLoss: 0.59112\tVGG 1:0.97493\tVGG 2:0.94617\tVGG *:0.82234\n",
            "\tval\tLoss: 0.33813\tVGG 1:0.97586\tVGG 2:0.95378\tVGG *:0.94259\n",
            "\ttest\tLoss: 0.28107\tVGG 1:0.96641\tVGG 2:0.97266\tVGG *:0.95283\n",
            "Accuracy test VGGA: 0.97844\n",
            "Accuracy test VGGB: 0.96301\n",
            "Accuracy test VGG*: 0.95233\n",
            "Accuracy test VGGSTAR: 0.536\n"
          ],
          "name": "stdout"
        },
        {
          "output_type": "stream",
          "text": [
            " [Elapsed Time: 0:00:46] |###############| [Time:  0:00:46] [Train Acc:  0.926]\n"
          ],
          "name": "stderr"
        },
        {
          "output_type": "stream",
          "text": [
            "Epoch 24:\n",
            "\ttrain\tLoss: 0.55041\tVGG 1:0.97846\tVGG 2:0.958\tVGG *:0.82911\n",
            "\tval\tLoss: 0.44114\tVGG 1:0.97391\tVGG 2:0.95043\tVGG *:0.90709\n",
            "\ttest\tLoss: 0.35524\tVGG 1:0.97246\tVGG 2:0.96875\tVGG *:0.92061\n",
            "Accuracy test VGGA: 0.98012\n",
            "Accuracy test VGGB: 0.95896\n",
            "Accuracy test VGG*: 0.92108\n",
            "Accuracy test VGGSTAR: 0.5182\n"
          ],
          "name": "stdout"
        },
        {
          "output_type": "stream",
          "text": [
            " [Elapsed Time: 0:00:46] |###############| [Time:  0:00:46] [Train Acc:  0.922]\n"
          ],
          "name": "stderr"
        },
        {
          "output_type": "stream",
          "text": [
            "Epoch 25:\n",
            "\ttrain\tLoss: 0.46143\tVGG 1:0.98065\tVGG 2:0.96417\tVGG *:0.86274\n",
            "\tval\tLoss: 0.34451\tVGG 1:0.97768\tVGG 2:0.96475\tVGG *:0.92806\n",
            "\ttest\tLoss: 0.29706\tVGG 1:0.96641\tVGG 2:0.98047\tVGG *:0.93818\n",
            "Accuracy test VGGA: 0.98002\n",
            "Accuracy test VGGB: 0.97172\n",
            "Accuracy test VGG*: 0.93968\n",
            "Accuracy test VGGSTAR: 0.52423\n"
          ],
          "name": "stdout"
        },
        {
          "output_type": "stream",
          "text": [
            " [Elapsed Time: 0:00:46] |###############| [Time:  0:00:46] [Train Acc:  0.957]\n"
          ],
          "name": "stderr"
        },
        {
          "output_type": "stream",
          "text": [
            "Epoch 26:\n",
            "\ttrain\tLoss: 0.44797\tVGG 1:0.9811\tVGG 2:0.96737\tVGG *:0.86287\n",
            "\tval\tLoss: 0.31171\tVGG 1:0.97284\tVGG 2:0.96387\tVGG *:0.94482\n",
            "\ttest\tLoss: 0.2497\tVGG 1:0.97168\tVGG 2:0.98203\tVGG *:0.95469\n",
            "Accuracy test VGGA: 0.97795\n",
            "Accuracy test VGGB: 0.9731\n",
            "Accuracy test VGG*: 0.95491\n",
            "Accuracy test VGGSTAR: 0.55924\n"
          ],
          "name": "stdout"
        },
        {
          "output_type": "stream",
          "text": [
            " [Elapsed Time: 0:00:46] |###############| [Time:  0:00:46] [Train Acc:  0.953]\n"
          ],
          "name": "stderr"
        },
        {
          "output_type": "stream",
          "text": [
            "Epoch 27:\n",
            "\ttrain\tLoss: 0.41269\tVGG 1:0.98382\tVGG 2:0.97113\tVGG *:0.87695\n",
            "\tval\tLoss: 0.24722\tVGG 1:0.98158\tVGG 2:0.97191\tVGG *:0.95647\n",
            "\ttest\tLoss: 0.22008\tVGG 1:0.97109\tVGG 2:0.9834\tVGG *:0.96338\n",
            "Accuracy test VGGA: 0.98358\n",
            "Accuracy test VGGB: 0.97716\n",
            "Accuracy test VGG*: 0.96301\n",
            "Accuracy test VGGSTAR: 0.59672\n"
          ],
          "name": "stdout"
        },
        {
          "output_type": "stream",
          "text": [
            " [Elapsed Time: 0:00:46] |###############| [Time:  0:00:46] [Train Acc:   0.91]\n"
          ],
          "name": "stderr"
        },
        {
          "output_type": "stream",
          "text": [
            "Epoch 28:\n",
            "\ttrain\tLoss: 0.93518\tVGG 1:0.98557\tVGG 2:0.57753\tVGG *:0.87416\n",
            "\tval\tLoss: 1.0227\tVGG 1:0.97628\tVGG 2:0.52781\tVGG *:0.88214\n",
            "\ttest\tLoss: 0.99598\tVGG 1:0.97285\tVGG 2:0.51055\tVGG *:0.89473\n",
            "Accuracy test VGGA: 0.9818\n",
            "Accuracy test VGGB: 0.51286\n",
            "Accuracy test VGG*: 0.89646\n",
            "Accuracy test VGGSTAR: 0.50732\n"
          ],
          "name": "stdout"
        },
        {
          "output_type": "stream",
          "text": [
            " [Elapsed Time: 0:00:46] |###############| [Time:  0:00:46] [Train Acc:  0.879]\n"
          ],
          "name": "stderr"
        },
        {
          "output_type": "stream",
          "text": [
            "Epoch 29:\n",
            "\ttrain\tLoss: 0.85479\tVGG 1:0.98586\tVGG 2:0.66644\tVGG *:0.86403\n",
            "\tval\tLoss: 0.42845\tVGG 1:0.974\tVGG 2:0.96647\tVGG *:0.89523\n",
            "\ttest\tLoss: 0.36924\tVGG 1:0.97129\tVGG 2:0.98242\tVGG *:0.90625\n",
            "Accuracy test VGGA: 0.98012\n",
            "Accuracy test VGGB: 0.97369\n",
            "Accuracy test VGG*: 0.90595\n",
            "Accuracy test VGGSTAR: 0.57476\n"
          ],
          "name": "stdout"
        },
        {
          "output_type": "stream",
          "text": [
            " [Elapsed Time: 0:00:46] |###############| [Time:  0:00:46] [Train Acc:   0.93]\n"
          ],
          "name": "stderr"
        },
        {
          "output_type": "stream",
          "text": [
            "Epoch 30:\n",
            "\ttrain\tLoss: 0.38916\tVGG 1:0.98698\tVGG 2:0.97199\tVGG *:0.88142\n",
            "\tval\tLoss: 0.32374\tVGG 1:0.98224\tVGG 2:0.96801\tVGG *:0.93534\n",
            "\ttest\tLoss: 0.29411\tVGG 1:0.97539\tVGG 2:0.975\tVGG *:0.94209\n",
            "Accuracy test VGGA: 0.9817\n",
            "Accuracy test VGGB: 0.96667\n",
            "Accuracy test VGG*: 0.94225\n",
            "Accuracy test VGGSTAR: 0.62856\n"
          ],
          "name": "stdout"
        },
        {
          "output_type": "stream",
          "text": [
            " [Elapsed Time: 0:00:46] |###############| [Time:  0:00:46] [Train Acc:   0.98]\n"
          ],
          "name": "stderr"
        },
        {
          "output_type": "stream",
          "text": [
            "Epoch 31:\n",
            "\ttrain\tLoss: 0.34841\tVGG 1:0.98787\tVGG 2:0.97418\tVGG *:0.8995\n",
            "\tval\tLoss: 0.23402\tVGG 1:0.98061\tVGG 2:0.96889\tVGG *:0.96368\n",
            "\ttest\tLoss: 0.20316\tVGG 1:0.9752\tVGG 2:0.98535\tVGG *:0.97041\n",
            "Accuracy test VGGA: 0.9819\n",
            "Accuracy test VGGB: 0.97933\n",
            "Accuracy test VGG*: 0.96934\n",
            "Accuracy test VGGSTAR: 0.62678\n"
          ],
          "name": "stdout"
        },
        {
          "output_type": "stream",
          "text": [
            " [Elapsed Time: 0:00:46] |###############| [Time:  0:00:46] [Train Acc:  0.957]\n"
          ],
          "name": "stderr"
        },
        {
          "output_type": "stream",
          "text": [
            "Epoch 32:\n",
            "\ttrain\tLoss: 0.33766\tVGG 1:0.9885\tVGG 2:0.97801\tVGG *:0.89972\n",
            "\tval\tLoss: 0.30485\tVGG 1:0.97898\tVGG 2:0.96638\tVGG *:0.95113\n",
            "\ttest\tLoss: 0.23654\tVGG 1:0.97637\tVGG 2:0.98359\tVGG *:0.96113\n",
            "Accuracy test VGGA: 0.98072\n",
            "Accuracy test VGGB: 0.97636\n",
            "Accuracy test VGG*: 0.95995\n",
            "Accuracy test VGGSTAR: 0.79589\n"
          ],
          "name": "stdout"
        },
        {
          "output_type": "stream",
          "text": [
            " [Elapsed Time: 0:00:46] |###############| [Time:  0:00:46] [Train Acc:  0.965]\n"
          ],
          "name": "stderr"
        },
        {
          "output_type": "stream",
          "text": [
            "Epoch 33:\n",
            "\ttrain\tLoss: 0.30946\tVGG 1:0.98869\tVGG 2:0.97954\tVGG *:0.91025\n",
            "\tval\tLoss: 0.25141\tVGG 1:0.97889\tVGG 2:0.97582\tVGG *:0.95436\n",
            "\ttest\tLoss: 0.21735\tVGG 1:0.97441\tVGG 2:0.9875\tVGG *:0.96016\n",
            "Accuracy test VGGA: 0.98299\n",
            "Accuracy test VGGB: 0.98052\n",
            "Accuracy test VGG*: 0.96114\n",
            "Accuracy test VGGSTAR: 0.62421\n"
          ],
          "name": "stdout"
        },
        {
          "output_type": "stream",
          "text": [
            " [Elapsed Time: 0:00:46] |###############| [Time:  0:00:46] [Train Acc:  0.957]\n"
          ],
          "name": "stderr"
        },
        {
          "output_type": "stream",
          "text": [
            "Epoch 34:\n",
            "\ttrain\tLoss: 0.31088\tVGG 1:0.98969\tVGG 2:0.97958\tVGG *:0.90666\n",
            "\tval\tLoss: 0.21998\tVGG 1:0.98117\tVGG 2:0.97419\tVGG *:0.96456\n",
            "\ttest\tLoss: 0.19371\tVGG 1:0.9748\tVGG 2:0.98516\tVGG *:0.97109\n",
            "Accuracy test VGGA: 0.98408\n",
            "Accuracy test VGGB: 0.97903\n",
            "Accuracy test VGG*: 0.97004\n",
            "Accuracy test VGGSTAR: 0.56547\n"
          ],
          "name": "stdout"
        },
        {
          "output_type": "stream",
          "text": [
            " [Elapsed Time: 0:00:46] |###############| [Time:  0:00:46] [Train Acc:  0.949]\n"
          ],
          "name": "stderr"
        },
        {
          "output_type": "stream",
          "text": [
            "Epoch 35:\n",
            "\ttrain\tLoss: 0.24523\tVGG 1:0.98999\tVGG 2:0.98188\tVGG *:0.93125\n",
            "\tval\tLoss: 0.23244\tVGG 1:0.98363\tVGG 2:0.97149\tVGG *:0.9594\n",
            "\ttest\tLoss: 0.21744\tVGG 1:0.97188\tVGG 2:0.98477\tVGG *:0.96084\n",
            "Accuracy test VGGA: 0.9825\n",
            "Accuracy test VGGB: 0.97429\n",
            "Accuracy test VGG*: 0.96331\n",
            "Accuracy test VGGSTAR: 0.70866\n"
          ],
          "name": "stdout"
        },
        {
          "output_type": "stream",
          "text": [
            " [Elapsed Time: 0:00:46] |###############| [Time:  0:00:46] [Train Acc:   0.98]\n"
          ],
          "name": "stderr"
        },
        {
          "output_type": "stream",
          "text": [
            "Epoch 36:\n",
            "\ttrain\tLoss: 0.27113\tVGG 1:0.99189\tVGG 2:0.98397\tVGG *:0.91509\n",
            "\tval\tLoss: 0.20316\tVGG 1:0.98289\tVGG 2:0.97907\tVGG *:0.96905\n",
            "\ttest\tLoss: 0.17566\tVGG 1:0.97891\tVGG 2:0.98848\tVGG *:0.97305\n",
            "Accuracy test VGGA: 0.98616\n",
            "Accuracy test VGGB: 0.9825\n",
            "Accuracy test VGG*: 0.97201\n",
            "Accuracy test VGGSTAR: 0.71232\n"
          ],
          "name": "stdout"
        },
        {
          "output_type": "stream",
          "text": [
            " [Elapsed Time: 0:00:46] |###############| [Time:  0:00:46] [Train Acc:  0.969]\n"
          ],
          "name": "stderr"
        },
        {
          "output_type": "stream",
          "text": [
            "Epoch 37:\n",
            "\ttrain\tLoss: 0.25995\tVGG 1:0.99289\tVGG 2:0.98545\tVGG *:0.91974\n",
            "\tval\tLoss: 0.20455\tVGG 1:0.98289\tVGG 2:0.97907\tVGG *:0.97047\n",
            "\ttest\tLoss: 0.17641\tVGG 1:0.97949\tVGG 2:0.98516\tVGG *:0.97607\n",
            "Accuracy test VGGA: 0.98596\n",
            "Accuracy test VGGB: 0.98131\n",
            "Accuracy test VGG*: 0.97577\n",
            "Accuracy test VGGSTAR: 0.77838\n"
          ],
          "name": "stdout"
        },
        {
          "output_type": "stream",
          "text": [
            " [Elapsed Time: 0:00:46] |###############| [Time:  0:00:46] [Train Acc:  0.926]\n"
          ],
          "name": "stderr"
        },
        {
          "output_type": "stream",
          "text": [
            "Epoch 38:\n",
            "\ttrain\tLoss: 0.36972\tVGG 1:0.99342\tVGG 2:0.98568\tVGG *:0.8601\n",
            "\tval\tLoss: 0.3826\tVGG 1:0.9728\tVGG 2:0.96215\tVGG *:0.94136\n",
            "\ttest\tLoss: 0.35001\tVGG 1:0.96934\tVGG 2:0.96641\tVGG *:0.94531\n",
            "Accuracy test VGGA: 0.97617\n",
            "Accuracy test VGGB: 0.9644\n",
            "Accuracy test VGG*: 0.94551\n",
            "Accuracy test VGGSTAR: 0.89606\n"
          ],
          "name": "stdout"
        },
        {
          "output_type": "stream",
          "text": [
            " [Elapsed Time: 0:00:46] |###############| [Time:  0:00:46] [Train Acc:  0.914]\n"
          ],
          "name": "stderr"
        },
        {
          "output_type": "stream",
          "text": [
            "Epoch 39:\n",
            "\ttrain\tLoss: 0.41854\tVGG 1:0.99315\tVGG 2:0.98583\tVGG *:0.83464\n",
            "\tval\tLoss: 0.31179\tVGG 1:0.98107\tVGG 2:0.98038\tVGG *:0.91902\n",
            "\ttest\tLoss: 0.28715\tVGG 1:0.97324\tVGG 2:0.9875\tVGG *:0.92803\n",
            "Accuracy test VGGA: 0.982\n",
            "Accuracy test VGGB: 0.98299\n",
            "Accuracy test VGG*: 0.9286\n",
            "Accuracy test VGGSTAR: 0.74654\n"
          ],
          "name": "stdout"
        },
        {
          "output_type": "stream",
          "text": [
            " [Elapsed Time: 0:00:46] |###############| [Time:  0:00:46] [Train Acc:  0.926]\n"
          ],
          "name": "stderr"
        },
        {
          "output_type": "stream",
          "text": [
            "Epoch 40:\n",
            "\ttrain\tLoss: 0.59286\tVGG 1:0.81458\tVGG 2:0.98746\tVGG *:0.91836\n",
            "\tval\tLoss: 0.45175\tVGG 1:0.88649\tVGG 2:0.97972\tVGG *:0.95508\n",
            "\ttest\tLoss: 0.42317\tVGG 1:0.8791\tVGG 2:0.98828\tVGG *:0.96504\n",
            "Accuracy test VGGA: 0.89646\n",
            "Accuracy test VGGB: 0.98348\n",
            "Accuracy test VGG*: 0.9647\n",
            "Accuracy test VGGSTAR: 0.68443\n"
          ],
          "name": "stdout"
        },
        {
          "output_type": "stream",
          "text": [
            " [Elapsed Time: 0:00:46] |###############| [Time:  0:00:46] [Train Acc:   0.98]\n"
          ],
          "name": "stderr"
        },
        {
          "output_type": "stream",
          "text": [
            "Epoch 41:\n",
            "\ttrain\tLoss: 0.41027\tVGG 1:0.9458\tVGG 2:0.9869\tVGG *:0.89513\n",
            "\tval\tLoss: 0.23412\tVGG 1:0.97898\tVGG 2:0.97354\tVGG *:0.96282\n",
            "\ttest\tLoss: 0.19922\tVGG 1:0.97559\tVGG 2:0.98262\tVGG *:0.97041\n",
            "Accuracy test VGGA: 0.98329\n",
            "Accuracy test VGGB: 0.97538\n",
            "Accuracy test VGG*: 0.96934\n",
            "Accuracy test VGGSTAR: 0.73081\n"
          ],
          "name": "stdout"
        },
        {
          "output_type": "stream",
          "text": [
            " [Elapsed Time: 0:00:46] |###############| [Time:  0:00:46] [Train Acc:  0.926]\n"
          ],
          "name": "stderr"
        },
        {
          "output_type": "stream",
          "text": [
            "Epoch 42:\n",
            "\ttrain\tLoss: 0.23752\tVGG 1:0.98616\tVGG 2:0.98929\tVGG *:0.93032\n",
            "\tval\tLoss: 0.26978\tVGG 1:0.97921\tVGG 2:0.97387\tVGG *:0.95043\n",
            "\ttest\tLoss: 0.26664\tVGG 1:0.97246\tVGG 2:0.97969\tVGG *:0.9542\n",
            "Accuracy test VGGA: 0.9819\n",
            "Accuracy test VGGB: 0.97686\n",
            "Accuracy test VGG*: 0.95372\n",
            "Accuracy test VGGSTAR: 0.72676\n"
          ],
          "name": "stdout"
        },
        {
          "output_type": "stream",
          "text": [
            " [Elapsed Time: 0:00:46] |###############| [Time:  0:00:46] [Train Acc:  0.977]\n"
          ],
          "name": "stderr"
        },
        {
          "output_type": "stream",
          "text": [
            "Epoch 43:\n",
            "\ttrain\tLoss: 0.31435\tVGG 1:0.99096\tVGG 2:0.99029\tVGG *:0.88177\n",
            "\tval\tLoss: 0.20786\tVGG 1:0.98191\tVGG 2:0.98038\tVGG *:0.96429\n",
            "\ttest\tLoss: 0.17409\tVGG 1:0.97949\tVGG 2:0.98906\tVGG *:0.9709\n",
            "Accuracy test VGGA: 0.98398\n",
            "Accuracy test VGGB: 0.98477\n",
            "Accuracy test VGG*: 0.97132\n",
            "Accuracy test VGGSTAR: 0.70807\n"
          ],
          "name": "stdout"
        },
        {
          "output_type": "stream",
          "text": [
            " [Elapsed Time: 0:00:46] |###############| [Time:  0:00:46] [Train Acc:  0.969]\n"
          ],
          "name": "stderr"
        },
        {
          "output_type": "stream",
          "text": [
            "Epoch 44:\n",
            "\ttrain\tLoss: 0.26585\tVGG 1:0.99133\tVGG 2:0.99118\tVGG *:0.90411\n",
            "\tval\tLoss: 0.2096\tVGG 1:0.97954\tVGG 2:0.98265\tVGG *:0.96933\n",
            "\ttest\tLoss: 0.19212\tVGG 1:0.97207\tVGG 2:0.98691\tVGG *:0.97529\n",
            "Accuracy test VGGA: 0.98378\n",
            "Accuracy test VGGB: 0.98319\n",
            "Accuracy test VGG*: 0.97429\n",
            "Accuracy test VGGSTAR: 0.73141\n"
          ],
          "name": "stdout"
        },
        {
          "output_type": "stream",
          "text": [
            " [Elapsed Time: 0:00:46] |###############| [Time:  0:00:46] [Train Acc:  0.949]\n"
          ],
          "name": "stderr"
        },
        {
          "output_type": "stream",
          "text": [
            "Epoch 45:\n",
            "\ttrain\tLoss: 0.3431\tVGG 1:0.99267\tVGG 2:0.99085\tVGG *:0.8574\n",
            "\tval\tLoss: 0.19707\tVGG 1:0.98591\tVGG 2:0.98103\tVGG *:0.96515\n",
            "\ttest\tLoss: 0.19072\tVGG 1:0.97832\tVGG 2:0.98906\tVGG *:0.97031\n",
            "Accuracy test VGGA: 0.98635\n",
            "Accuracy test VGGB: 0.98348\n",
            "Accuracy test VGG*: 0.97142\n",
            "Accuracy test VGGSTAR: 0.76444\n"
          ],
          "name": "stdout"
        },
        {
          "output_type": "stream",
          "text": [
            " [Elapsed Time: 0:00:46] |###############| [Time:  0:00:46] [Train Acc:  0.941]\n"
          ],
          "name": "stderr"
        },
        {
          "output_type": "stream",
          "text": [
            "Epoch 46:\n",
            "\ttrain\tLoss: 0.48602\tVGG 1:0.99394\tVGG 2:0.99271\tVGG *:0.77333\n",
            "\tval\tLoss: 0.28182\tVGG 1:0.98168\tVGG 2:0.98103\tVGG *:0.94129\n",
            "\ttest\tLoss: 0.26078\tVGG 1:0.97559\tVGG 2:0.9875\tVGG *:0.94668\n",
            "Accuracy test VGGA: 0.98477\n",
            "Accuracy test VGGB: 0.98309\n",
            "Accuracy test VGG*: 0.9461\n",
            "Accuracy test VGGSTAR: 0.84424\n"
          ],
          "name": "stdout"
        },
        {
          "output_type": "stream",
          "text": [
            " [Elapsed Time: 0:00:46] |###############| [Time:  0:00:46] [Train Acc:  0.957]\n"
          ],
          "name": "stderr"
        },
        {
          "output_type": "stream",
          "text": [
            "Epoch 47:\n",
            "\ttrain\tLoss: 0.60909\tVGG 1:0.86786\tVGG 2:0.99342\tVGG *:0.83588\n",
            "\tval\tLoss: 0.45115\tVGG 1:0.86477\tVGG 2:0.98428\tVGG *:0.95977\n",
            "\ttest\tLoss: 0.41948\tVGG 1:0.87422\tVGG 2:0.98906\tVGG *:0.96631\n",
            "Accuracy test VGGA: 0.88449\n",
            "Accuracy test VGGB: 0.9823\n",
            "Accuracy test VGG*: 0.96598\n",
            "Accuracy test VGGSTAR: 0.51909\n"
          ],
          "name": "stdout"
        },
        {
          "output_type": "stream",
          "text": [
            " [Elapsed Time: 0:00:46] |###############| [Time:  0:00:46] [Train Acc:  0.957]\n"
          ],
          "name": "stderr"
        },
        {
          "output_type": "stream",
          "text": [
            "Epoch 48:\n",
            "\ttrain\tLoss: 0.46166\tVGG 1:0.91849\tVGG 2:0.99342\tVGG *:0.87878\n",
            "\tval\tLoss: 0.23769\tVGG 1:0.98158\tVGG 2:0.98428\tVGG *:0.9568\n",
            "\ttest\tLoss: 0.21204\tVGG 1:0.97813\tVGG 2:0.98711\tVGG *:0.96074\n",
            "Accuracy test VGGA: 0.9819\n",
            "Accuracy test VGGB: 0.98309\n",
            "Accuracy test VGG*: 0.95955\n",
            "Accuracy test VGGSTAR: 0.61659\n"
          ],
          "name": "stdout"
        },
        {
          "output_type": "stream",
          "text": [
            " [Elapsed Time: 0:00:46] |###############| [Time:  0:00:46] [Train Acc:  0.961]\n"
          ],
          "name": "stderr"
        },
        {
          "output_type": "stream",
          "text": [
            "Epoch 49:\n",
            "\ttrain\tLoss: 0.27104\tVGG 1:0.99141\tVGG 2:0.99263\tVGG *:0.90326\n",
            "\tval\tLoss: 0.18066\tVGG 1:0.98256\tVGG 2:0.98493\tVGG *:0.9708\n",
            "\ttest\tLoss: 0.18305\tVGG 1:0.97832\tVGG 2:0.99023\tVGG *:0.96846\n",
            "Accuracy test VGGA: 0.98358\n",
            "Accuracy test VGGB: 0.98625\n",
            "Accuracy test VGG*: 0.96737\n",
            "Accuracy test VGGSTAR: 0.59642\n"
          ],
          "name": "stdout"
        },
        {
          "output_type": "stream",
          "text": [
            " [Elapsed Time: 0:00:46] |###############| [Time:  0:00:46] [Train Acc:  0.965]\n"
          ],
          "name": "stderr"
        },
        {
          "output_type": "stream",
          "text": [
            "Epoch 50:\n",
            "\ttrain\tLoss: 0.25009\tVGG 1:0.99066\tVGG 2:0.99315\tVGG *:0.90809\n",
            "\tval\tLoss: 0.23869\tVGG 1:0.98354\tVGG 2:0.97972\tVGG *:0.95571\n",
            "\ttest\tLoss: 0.2111\tVGG 1:0.97852\tVGG 2:0.99141\tVGG *:0.96143\n",
            "Accuracy test VGGA: 0.98586\n",
            "Accuracy test VGGB: 0.98457\n",
            "Accuracy test VGG*: 0.96242\n",
            "Accuracy test VGGSTAR: 0.63093\n"
          ],
          "name": "stdout"
        },
        {
          "output_type": "display_data",
          "data": {
            "text/plain": [
              "<Figure size 432x288 with 1 Axes>"
            ],
            "image/png": "[encoded data removed]"
          },
          "metadata": {
            "tags": [],
            "needs_background": "light"
          }
        }
      ]
    },
    {
      "cell_type": "code",
      "metadata": {
        "id": "dioRLbeaYBRV"
      },
      "source": [
        ""
      ],
      "execution_count": null,
      "outputs": []
    }
  ]
}
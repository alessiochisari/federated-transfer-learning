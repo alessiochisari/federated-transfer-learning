{
  "nbformat": 4,
  "nbformat_minor": 0,
  "metadata": {
    "colab": {
      "name": "2 VALERIO MULTI-INPUT",
      "provenance": [],
      "collapsed_sections": []
    },
    "kernelspec": {
      "name": "python3",
      "display_name": "Python 3"
    },
    "language_info": {
      "name": "python"
    },
    "accelerator": "GPU",
    "widgets": {
      "application/vnd.jupyter.widget-state+json": {
        "a5be14f11b314f8d925596c4898a7e1c": {
          "model_module": "@jupyter-widgets/controls",
          "model_name": "HBoxModel",
          "model_module_version": "1.5.0",
          "state": {
            "_view_name": "HBoxView",
            "_dom_classes": [],
            "_model_name": "HBoxModel",
            "_view_module": "@jupyter-widgets/controls",
            "_model_module_version": "1.5.0",
            "_view_count": null,
            "_view_module_version": "1.5.0",
            "box_style": "",
            "layout": "IPY_MODEL_05c5e2784b574026bc4ac0050052cff1",
            "_model_module": "@jupyter-widgets/controls",
            "children": [
              "IPY_MODEL_857d87fc955547d5945314433c37ff0e",
              "IPY_MODEL_e748c7a69ddc4a6892568cccb62dc978"
            ]
          }
        },
        "05c5e2784b574026bc4ac0050052cff1": {
          "model_module": "@jupyter-widgets/base",
          "model_name": "LayoutModel",
          "model_module_version": "1.2.0",
          "state": {
            "_view_name": "LayoutView",
            "grid_template_rows": null,
            "right": null,
            "justify_content": null,
            "_view_module": "@jupyter-widgets/base",
            "overflow": null,
            "_model_module_version": "1.2.0",
            "_view_count": null,
            "flex_flow": null,
            "width": null,
            "min_width": null,
            "border": null,
            "align_items": null,
            "bottom": null,
            "_model_module": "@jupyter-widgets/base",
            "top": null,
            "grid_column": null,
            "overflow_y": null,
            "overflow_x": null,
            "grid_auto_flow": null,
            "grid_area": null,
            "grid_template_columns": null,
            "flex": null,
            "_model_name": "LayoutModel",
            "justify_items": null,
            "grid_row": null,
            "max_height": null,
            "align_content": null,
            "visibility": null,
            "align_self": null,
            "height": null,
            "min_height": null,
            "padding": null,
            "grid_auto_rows": null,
            "grid_gap": null,
            "max_width": null,
            "order": null,
            "_view_module_version": "1.2.0",
            "grid_template_areas": null,
            "object_position": null,
            "object_fit": null,
            "grid_auto_columns": null,
            "margin": null,
            "display": null,
            "left": null
          }
        },
        "857d87fc955547d5945314433c37ff0e": {
          "model_module": "@jupyter-widgets/controls",
          "model_name": "FloatProgressModel",
          "model_module_version": "1.5.0",
          "state": {
            "_view_name": "ProgressView",
            "style": "IPY_MODEL_1b17be5b013b4392a271ca21e94ec38f",
            "_dom_classes": [],
            "description": "",
            "_model_name": "FloatProgressModel",
            "bar_style": "success",
            "max": 9912422,
            "_view_module": "@jupyter-widgets/controls",
            "_model_module_version": "1.5.0",
            "value": 9912422,
            "_view_count": null,
            "_view_module_version": "1.5.0",
            "orientation": "horizontal",
            "min": 0,
            "description_tooltip": null,
            "_model_module": "@jupyter-widgets/controls",
            "layout": "IPY_MODEL_f3ad1ee58e5c4ad8847ae9aa45b441d9"
          }
        },
        "e748c7a69ddc4a6892568cccb62dc978": {
          "model_module": "@jupyter-widgets/controls",
          "model_name": "HTMLModel",
          "model_module_version": "1.5.0",
          "state": {
            "_view_name": "HTMLView",
            "style": "IPY_MODEL_2b2129e56603496aab880bcb8654d38c",
            "_dom_classes": [],
            "description": "",
            "_model_name": "HTMLModel",
            "placeholder": "​",
            "_view_module": "@jupyter-widgets/controls",
            "_model_module_version": "1.5.0",
            "value": " 9913344/? [00:00&lt;00:00, 57236984.43it/s]",
            "_view_count": null,
            "_view_module_version": "1.5.0",
            "description_tooltip": null,
            "_model_module": "@jupyter-widgets/controls",
            "layout": "IPY_MODEL_861246c2120147dab73b4b3320f010af"
          }
        },
        "1b17be5b013b4392a271ca21e94ec38f": {
          "model_module": "@jupyter-widgets/controls",
          "model_name": "ProgressStyleModel",
          "model_module_version": "1.5.0",
          "state": {
            "_view_name": "StyleView",
            "_model_name": "ProgressStyleModel",
            "description_width": "initial",
            "_view_module": "@jupyter-widgets/base",
            "_model_module_version": "1.5.0",
            "_view_count": null,
            "_view_module_version": "1.2.0",
            "bar_color": null,
            "_model_module": "@jupyter-widgets/controls"
          }
        },
        "f3ad1ee58e5c4ad8847ae9aa45b441d9": {
          "model_module": "@jupyter-widgets/base",
          "model_name": "LayoutModel",
          "model_module_version": "1.2.0",
          "state": {
            "_view_name": "LayoutView",
            "grid_template_rows": null,
            "right": null,
            "justify_content": null,
            "_view_module": "@jupyter-widgets/base",
            "overflow": null,
            "_model_module_version": "1.2.0",
            "_view_count": null,
            "flex_flow": null,
            "width": null,
            "min_width": null,
            "border": null,
            "align_items": null,
            "bottom": null,
            "_model_module": "@jupyter-widgets/base",
            "top": null,
            "grid_column": null,
            "overflow_y": null,
            "overflow_x": null,
            "grid_auto_flow": null,
            "grid_area": null,
            "grid_template_columns": null,
            "flex": null,
            "_model_name": "LayoutModel",
            "justify_items": null,
            "grid_row": null,
            "max_height": null,
            "align_content": null,
            "visibility": null,
            "align_self": null,
            "height": null,
            "min_height": null,
            "padding": null,
            "grid_auto_rows": null,
            "grid_gap": null,
            "max_width": null,
            "order": null,
            "_view_module_version": "1.2.0",
            "grid_template_areas": null,
            "object_position": null,
            "object_fit": null,
            "grid_auto_columns": null,
            "margin": null,
            "display": null,
            "left": null
          }
        },
        "2b2129e56603496aab880bcb8654d38c": {
          "model_module": "@jupyter-widgets/controls",
          "model_name": "DescriptionStyleModel",
          "model_module_version": "1.5.0",
          "state": {
            "_view_name": "StyleView",
            "_model_name": "DescriptionStyleModel",
            "description_width": "",
            "_view_module": "@jupyter-widgets/base",
            "_model_module_version": "1.5.0",
            "_view_count": null,
            "_view_module_version": "1.2.0",
            "_model_module": "@jupyter-widgets/controls"
          }
        },
        "861246c2120147dab73b4b3320f010af": {
          "model_module": "@jupyter-widgets/base",
          "model_name": "LayoutModel",
          "model_module_version": "1.2.0",
          "state": {
            "_view_name": "LayoutView",
            "grid_template_rows": null,
            "right": null,
            "justify_content": null,
            "_view_module": "@jupyter-widgets/base",
            "overflow": null,
            "_model_module_version": "1.2.0",
            "_view_count": null,
            "flex_flow": null,
            "width": null,
            "min_width": null,
            "border": null,
            "align_items": null,
            "bottom": null,
            "_model_module": "@jupyter-widgets/base",
            "top": null,
            "grid_column": null,
            "overflow_y": null,
            "overflow_x": null,
            "grid_auto_flow": null,
            "grid_area": null,
            "grid_template_columns": null,
            "flex": null,
            "_model_name": "LayoutModel",
            "justify_items": null,
            "grid_row": null,
            "max_height": null,
            "align_content": null,
            "visibility": null,
            "align_self": null,
            "height": null,
            "min_height": null,
            "padding": null,
            "grid_auto_rows": null,
            "grid_gap": null,
            "max_width": null,
            "order": null,
            "_view_module_version": "1.2.0",
            "grid_template_areas": null,
            "object_position": null,
            "object_fit": null,
            "grid_auto_columns": null,
            "margin": null,
            "display": null,
            "left": null
          }
        },
        "53dac41ce96e4a9b87f5e18b32047bca": {
          "model_module": "@jupyter-widgets/controls",
          "model_name": "HBoxModel",
          "model_module_version": "1.5.0",
          "state": {
            "_view_name": "HBoxView",
            "_dom_classes": [],
            "_model_name": "HBoxModel",
            "_view_module": "@jupyter-widgets/controls",
            "_model_module_version": "1.5.0",
            "_view_count": null,
            "_view_module_version": "1.5.0",
            "box_style": "",
            "layout": "IPY_MODEL_3fa0a2bee03d4210a77eeb130720d826",
            "_model_module": "@jupyter-widgets/controls",
            "children": [
              "IPY_MODEL_fa02f5ed41964a9c89416f7c198641b4",
              "IPY_MODEL_4500547de8c645fcaf305f7ee5b1f659"
            ]
          }
        },
        "3fa0a2bee03d4210a77eeb130720d826": {
          "model_module": "@jupyter-widgets/base",
          "model_name": "LayoutModel",
          "model_module_version": "1.2.0",
          "state": {
            "_view_name": "LayoutView",
            "grid_template_rows": null,
            "right": null,
            "justify_content": null,
            "_view_module": "@jupyter-widgets/base",
            "overflow": null,
            "_model_module_version": "1.2.0",
            "_view_count": null,
            "flex_flow": null,
            "width": null,
            "min_width": null,
            "border": null,
            "align_items": null,
            "bottom": null,
            "_model_module": "@jupyter-widgets/base",
            "top": null,
            "grid_column": null,
            "overflow_y": null,
            "overflow_x": null,
            "grid_auto_flow": null,
            "grid_area": null,
            "grid_template_columns": null,
            "flex": null,
            "_model_name": "LayoutModel",
            "justify_items": null,
            "grid_row": null,
            "max_height": null,
            "align_content": null,
            "visibility": null,
            "align_self": null,
            "height": null,
            "min_height": null,
            "padding": null,
            "grid_auto_rows": null,
            "grid_gap": null,
            "max_width": null,
            "order": null,
            "_view_module_version": "1.2.0",
            "grid_template_areas": null,
            "object_position": null,
            "object_fit": null,
            "grid_auto_columns": null,
            "margin": null,
            "display": null,
            "left": null
          }
        },
        "fa02f5ed41964a9c89416f7c198641b4": {
          "model_module": "@jupyter-widgets/controls",
          "model_name": "FloatProgressModel",
          "model_module_version": "1.5.0",
          "state": {
            "_view_name": "ProgressView",
            "style": "IPY_MODEL_f728e48eb9bd4b4098fab7489de9b9f5",
            "_dom_classes": [],
            "description": "",
            "_model_name": "FloatProgressModel",
            "bar_style": "success",
            "max": 28881,
            "_view_module": "@jupyter-widgets/controls",
            "_model_module_version": "1.5.0",
            "value": 28881,
            "_view_count": null,
            "_view_module_version": "1.5.0",
            "orientation": "horizontal",
            "min": 0,
            "description_tooltip": null,
            "_model_module": "@jupyter-widgets/controls",
            "layout": "IPY_MODEL_af4dcbf5fc034166a2acab8197f64fc4"
          }
        },
        "4500547de8c645fcaf305f7ee5b1f659": {
          "model_module": "@jupyter-widgets/controls",
          "model_name": "HTMLModel",
          "model_module_version": "1.5.0",
          "state": {
            "_view_name": "HTMLView",
            "style": "IPY_MODEL_f994c6589b2e49e9bdab789e1cb3d380",
            "_dom_classes": [],
            "description": "",
            "_model_name": "HTMLModel",
            "placeholder": "​",
            "_view_module": "@jupyter-widgets/controls",
            "_model_module_version": "1.5.0",
            "value": " 29696/? [00:00&lt;00:00, 70951.24it/s]",
            "_view_count": null,
            "_view_module_version": "1.5.0",
            "description_tooltip": null,
            "_model_module": "@jupyter-widgets/controls",
            "layout": "IPY_MODEL_b0b22ac1a6034d41b0ffe343b9330260"
          }
        },
        "f728e48eb9bd4b4098fab7489de9b9f5": {
          "model_module": "@jupyter-widgets/controls",
          "model_name": "ProgressStyleModel",
          "model_module_version": "1.5.0",
          "state": {
            "_view_name": "StyleView",
            "_model_name": "ProgressStyleModel",
            "description_width": "initial",
            "_view_module": "@jupyter-widgets/base",
            "_model_module_version": "1.5.0",
            "_view_count": null,
            "_view_module_version": "1.2.0",
            "bar_color": null,
            "_model_module": "@jupyter-widgets/controls"
          }
        },
        "af4dcbf5fc034166a2acab8197f64fc4": {
          "model_module": "@jupyter-widgets/base",
          "model_name": "LayoutModel",
          "model_module_version": "1.2.0",
          "state": {
            "_view_name": "LayoutView",
            "grid_template_rows": null,
            "right": null,
            "justify_content": null,
            "_view_module": "@jupyter-widgets/base",
            "overflow": null,
            "_model_module_version": "1.2.0",
            "_view_count": null,
            "flex_flow": null,
            "width": null,
            "min_width": null,
            "border": null,
            "align_items": null,
            "bottom": null,
            "_model_module": "@jupyter-widgets/base",
            "top": null,
            "grid_column": null,
            "overflow_y": null,
            "overflow_x": null,
            "grid_auto_flow": null,
            "grid_area": null,
            "grid_template_columns": null,
            "flex": null,
            "_model_name": "LayoutModel",
            "justify_items": null,
            "grid_row": null,
            "max_height": null,
            "align_content": null,
            "visibility": null,
            "align_self": null,
            "height": null,
            "min_height": null,
            "padding": null,
            "grid_auto_rows": null,
            "grid_gap": null,
            "max_width": null,
            "order": null,
            "_view_module_version": "1.2.0",
            "grid_template_areas": null,
            "object_position": null,
            "object_fit": null,
            "grid_auto_columns": null,
            "margin": null,
            "display": null,
            "left": null
          }
        },
        "f994c6589b2e49e9bdab789e1cb3d380": {
          "model_module": "@jupyter-widgets/controls",
          "model_name": "DescriptionStyleModel",
          "model_module_version": "1.5.0",
          "state": {
            "_view_name": "StyleView",
            "_model_name": "DescriptionStyleModel",
            "description_width": "",
            "_view_module": "@jupyter-widgets/base",
            "_model_module_version": "1.5.0",
            "_view_count": null,
            "_view_module_version": "1.2.0",
            "_model_module": "@jupyter-widgets/controls"
          }
        },
        "b0b22ac1a6034d41b0ffe343b9330260": {
          "model_module": "@jupyter-widgets/base",
          "model_name": "LayoutModel",
          "model_module_version": "1.2.0",
          "state": {
            "_view_name": "LayoutView",
            "grid_template_rows": null,
            "right": null,
            "justify_content": null,
            "_view_module": "@jupyter-widgets/base",
            "overflow": null,
            "_model_module_version": "1.2.0",
            "_view_count": null,
            "flex_flow": null,
            "width": null,
            "min_width": null,
            "border": null,
            "align_items": null,
            "bottom": null,
            "_model_module": "@jupyter-widgets/base",
            "top": null,
            "grid_column": null,
            "overflow_y": null,
            "overflow_x": null,
            "grid_auto_flow": null,
            "grid_area": null,
            "grid_template_columns": null,
            "flex": null,
            "_model_name": "LayoutModel",
            "justify_items": null,
            "grid_row": null,
            "max_height": null,
            "align_content": null,
            "visibility": null,
            "align_self": null,
            "height": null,
            "min_height": null,
            "padding": null,
            "grid_auto_rows": null,
            "grid_gap": null,
            "max_width": null,
            "order": null,
            "_view_module_version": "1.2.0",
            "grid_template_areas": null,
            "object_position": null,
            "object_fit": null,
            "grid_auto_columns": null,
            "margin": null,
            "display": null,
            "left": null
          }
        },
        "642f5ffc36614b4881fdb5b1e28087c2": {
          "model_module": "@jupyter-widgets/controls",
          "model_name": "HBoxModel",
          "model_module_version": "1.5.0",
          "state": {
            "_view_name": "HBoxView",
            "_dom_classes": [],
            "_model_name": "HBoxModel",
            "_view_module": "@jupyter-widgets/controls",
            "_model_module_version": "1.5.0",
            "_view_count": null,
            "_view_module_version": "1.5.0",
            "box_style": "",
            "layout": "IPY_MODEL_c080e964d51a461caadb6c4bc903aaa7",
            "_model_module": "@jupyter-widgets/controls",
            "children": [
              "IPY_MODEL_27bc2c9c8572480ab546f736e68e32fa",
              "IPY_MODEL_ded4041e9c054ca381b51314e7b7254f"
            ]
          }
        },
        "c080e964d51a461caadb6c4bc903aaa7": {
          "model_module": "@jupyter-widgets/base",
          "model_name": "LayoutModel",
          "model_module_version": "1.2.0",
          "state": {
            "_view_name": "LayoutView",
            "grid_template_rows": null,
            "right": null,
            "justify_content": null,
            "_view_module": "@jupyter-widgets/base",
            "overflow": null,
            "_model_module_version": "1.2.0",
            "_view_count": null,
            "flex_flow": null,
            "width": null,
            "min_width": null,
            "border": null,
            "align_items": null,
            "bottom": null,
            "_model_module": "@jupyter-widgets/base",
            "top": null,
            "grid_column": null,
            "overflow_y": null,
            "overflow_x": null,
            "grid_auto_flow": null,
            "grid_area": null,
            "grid_template_columns": null,
            "flex": null,
            "_model_name": "LayoutModel",
            "justify_items": null,
            "grid_row": null,
            "max_height": null,
            "align_content": null,
            "visibility": null,
            "align_self": null,
            "height": null,
            "min_height": null,
            "padding": null,
            "grid_auto_rows": null,
            "grid_gap": null,
            "max_width": null,
            "order": null,
            "_view_module_version": "1.2.0",
            "grid_template_areas": null,
            "object_position": null,
            "object_fit": null,
            "grid_auto_columns": null,
            "margin": null,
            "display": null,
            "left": null
          }
        },
        "27bc2c9c8572480ab546f736e68e32fa": {
          "model_module": "@jupyter-widgets/controls",
          "model_name": "FloatProgressModel",
          "model_module_version": "1.5.0",
          "state": {
            "_view_name": "ProgressView",
            "style": "IPY_MODEL_1fa1be98ea8b4465937c000a6cf5c3bb",
            "_dom_classes": [],
            "description": "",
            "_model_name": "FloatProgressModel",
            "bar_style": "success",
            "max": 1648877,
            "_view_module": "@jupyter-widgets/controls",
            "_model_module_version": "1.5.0",
            "value": 1648877,
            "_view_count": null,
            "_view_module_version": "1.5.0",
            "orientation": "horizontal",
            "min": 0,
            "description_tooltip": null,
            "_model_module": "@jupyter-widgets/controls",
            "layout": "IPY_MODEL_3db04b123498499c84b942c997dc403d"
          }
        },
        "ded4041e9c054ca381b51314e7b7254f": {
          "model_module": "@jupyter-widgets/controls",
          "model_name": "HTMLModel",
          "model_module_version": "1.5.0",
          "state": {
            "_view_name": "HTMLView",
            "style": "IPY_MODEL_6c03a68d6ed84a068075851a890e82ba",
            "_dom_classes": [],
            "description": "",
            "_model_name": "HTMLModel",
            "placeholder": "​",
            "_view_module": "@jupyter-widgets/controls",
            "_model_module_version": "1.5.0",
            "value": " 1649664/? [00:00&lt;00:00, 6999759.55it/s]",
            "_view_count": null,
            "_view_module_version": "1.5.0",
            "description_tooltip": null,
            "_model_module": "@jupyter-widgets/controls",
            "layout": "IPY_MODEL_55159194e89646bf8b1f19432e9f0457"
          }
        },
        "1fa1be98ea8b4465937c000a6cf5c3bb": {
          "model_module": "@jupyter-widgets/controls",
          "model_name": "ProgressStyleModel",
          "model_module_version": "1.5.0",
          "state": {
            "_view_name": "StyleView",
            "_model_name": "ProgressStyleModel",
            "description_width": "initial",
            "_view_module": "@jupyter-widgets/base",
            "_model_module_version": "1.5.0",
            "_view_count": null,
            "_view_module_version": "1.2.0",
            "bar_color": null,
            "_model_module": "@jupyter-widgets/controls"
          }
        },
        "3db04b123498499c84b942c997dc403d": {
          "model_module": "@jupyter-widgets/base",
          "model_name": "LayoutModel",
          "model_module_version": "1.2.0",
          "state": {
            "_view_name": "LayoutView",
            "grid_template_rows": null,
            "right": null,
            "justify_content": null,
            "_view_module": "@jupyter-widgets/base",
            "overflow": null,
            "_model_module_version": "1.2.0",
            "_view_count": null,
            "flex_flow": null,
            "width": null,
            "min_width": null,
            "border": null,
            "align_items": null,
            "bottom": null,
            "_model_module": "@jupyter-widgets/base",
            "top": null,
            "grid_column": null,
            "overflow_y": null,
            "overflow_x": null,
            "grid_auto_flow": null,
            "grid_area": null,
            "grid_template_columns": null,
            "flex": null,
            "_model_name": "LayoutModel",
            "justify_items": null,
            "grid_row": null,
            "max_height": null,
            "align_content": null,
            "visibility": null,
            "align_self": null,
            "height": null,
            "min_height": null,
            "padding": null,
            "grid_auto_rows": null,
            "grid_gap": null,
            "max_width": null,
            "order": null,
            "_view_module_version": "1.2.0",
            "grid_template_areas": null,
            "object_position": null,
            "object_fit": null,
            "grid_auto_columns": null,
            "margin": null,
            "display": null,
            "left": null
          }
        },
        "6c03a68d6ed84a068075851a890e82ba": {
          "model_module": "@jupyter-widgets/controls",
          "model_name": "DescriptionStyleModel",
          "model_module_version": "1.5.0",
          "state": {
            "_view_name": "StyleView",
            "_model_name": "DescriptionStyleModel",
            "description_width": "",
            "_view_module": "@jupyter-widgets/base",
            "_model_module_version": "1.5.0",
            "_view_count": null,
            "_view_module_version": "1.2.0",
            "_model_module": "@jupyter-widgets/controls"
          }
        },
        "55159194e89646bf8b1f19432e9f0457": {
          "model_module": "@jupyter-widgets/base",
          "model_name": "LayoutModel",
          "model_module_version": "1.2.0",
          "state": {
            "_view_name": "LayoutView",
            "grid_template_rows": null,
            "right": null,
            "justify_content": null,
            "_view_module": "@jupyter-widgets/base",
            "overflow": null,
            "_model_module_version": "1.2.0",
            "_view_count": null,
            "flex_flow": null,
            "width": null,
            "min_width": null,
            "border": null,
            "align_items": null,
            "bottom": null,
            "_model_module": "@jupyter-widgets/base",
            "top": null,
            "grid_column": null,
            "overflow_y": null,
            "overflow_x": null,
            "grid_auto_flow": null,
            "grid_area": null,
            "grid_template_columns": null,
            "flex": null,
            "_model_name": "LayoutModel",
            "justify_items": null,
            "grid_row": null,
            "max_height": null,
            "align_content": null,
            "visibility": null,
            "align_self": null,
            "height": null,
            "min_height": null,
            "padding": null,
            "grid_auto_rows": null,
            "grid_gap": null,
            "max_width": null,
            "order": null,
            "_view_module_version": "1.2.0",
            "grid_template_areas": null,
            "object_position": null,
            "object_fit": null,
            "grid_auto_columns": null,
            "margin": null,
            "display": null,
            "left": null
          }
        },
        "2764660e3c614970babd74ec81e48f33": {
          "model_module": "@jupyter-widgets/controls",
          "model_name": "HBoxModel",
          "model_module_version": "1.5.0",
          "state": {
            "_view_name": "HBoxView",
            "_dom_classes": [],
            "_model_name": "HBoxModel",
            "_view_module": "@jupyter-widgets/controls",
            "_model_module_version": "1.5.0",
            "_view_count": null,
            "_view_module_version": "1.5.0",
            "box_style": "",
            "layout": "IPY_MODEL_5684b5b84f074f019cf0281e66cc4f43",
            "_model_module": "@jupyter-widgets/controls",
            "children": [
              "IPY_MODEL_1940ca3ac55344288b3b45ba4b349dc7",
              "IPY_MODEL_a6070f09e52a416692350bc801659089"
            ]
          }
        },
        "5684b5b84f074f019cf0281e66cc4f43": {
          "model_module": "@jupyter-widgets/base",
          "model_name": "LayoutModel",
          "model_module_version": "1.2.0",
          "state": {
            "_view_name": "LayoutView",
            "grid_template_rows": null,
            "right": null,
            "justify_content": null,
            "_view_module": "@jupyter-widgets/base",
            "overflow": null,
            "_model_module_version": "1.2.0",
            "_view_count": null,
            "flex_flow": null,
            "width": null,
            "min_width": null,
            "border": null,
            "align_items": null,
            "bottom": null,
            "_model_module": "@jupyter-widgets/base",
            "top": null,
            "grid_column": null,
            "overflow_y": null,
            "overflow_x": null,
            "grid_auto_flow": null,
            "grid_area": null,
            "grid_template_columns": null,
            "flex": null,
            "_model_name": "LayoutModel",
            "justify_items": null,
            "grid_row": null,
            "max_height": null,
            "align_content": null,
            "visibility": null,
            "align_self": null,
            "height": null,
            "min_height": null,
            "padding": null,
            "grid_auto_rows": null,
            "grid_gap": null,
            "max_width": null,
            "order": null,
            "_view_module_version": "1.2.0",
            "grid_template_areas": null,
            "object_position": null,
            "object_fit": null,
            "grid_auto_columns": null,
            "margin": null,
            "display": null,
            "left": null
          }
        },
        "1940ca3ac55344288b3b45ba4b349dc7": {
          "model_module": "@jupyter-widgets/controls",
          "model_name": "FloatProgressModel",
          "model_module_version": "1.5.0",
          "state": {
            "_view_name": "ProgressView",
            "style": "IPY_MODEL_b73a7cbee9ef4c3ca680ea64f7100432",
            "_dom_classes": [],
            "description": "",
            "_model_name": "FloatProgressModel",
            "bar_style": "success",
            "max": 4542,
            "_view_module": "@jupyter-widgets/controls",
            "_model_module_version": "1.5.0",
            "value": 4542,
            "_view_count": null,
            "_view_module_version": "1.5.0",
            "orientation": "horizontal",
            "min": 0,
            "description_tooltip": null,
            "_model_module": "@jupyter-widgets/controls",
            "layout": "IPY_MODEL_2978e3a6259940a9ab2dfecbaabbac96"
          }
        },
        "a6070f09e52a416692350bc801659089": {
          "model_module": "@jupyter-widgets/controls",
          "model_name": "HTMLModel",
          "model_module_version": "1.5.0",
          "state": {
            "_view_name": "HTMLView",
            "style": "IPY_MODEL_7972f367e5e34a5996a1d4d5f768edc8",
            "_dom_classes": [],
            "description": "",
            "_model_name": "HTMLModel",
            "placeholder": "​",
            "_view_module": "@jupyter-widgets/controls",
            "_model_module_version": "1.5.0",
            "value": " 5120/? [12:41&lt;00:00,  6.72it/s]",
            "_view_count": null,
            "_view_module_version": "1.5.0",
            "description_tooltip": null,
            "_model_module": "@jupyter-widgets/controls",
            "layout": "IPY_MODEL_635218ab4900437dbaf96c0dcb4e7c74"
          }
        },
        "b73a7cbee9ef4c3ca680ea64f7100432": {
          "model_module": "@jupyter-widgets/controls",
          "model_name": "ProgressStyleModel",
          "model_module_version": "1.5.0",
          "state": {
            "_view_name": "StyleView",
            "_model_name": "ProgressStyleModel",
            "description_width": "initial",
            "_view_module": "@jupyter-widgets/base",
            "_model_module_version": "1.5.0",
            "_view_count": null,
            "_view_module_version": "1.2.0",
            "bar_color": null,
            "_model_module": "@jupyter-widgets/controls"
          }
        },
        "2978e3a6259940a9ab2dfecbaabbac96": {
          "model_module": "@jupyter-widgets/base",
          "model_name": "LayoutModel",
          "model_module_version": "1.2.0",
          "state": {
            "_view_name": "LayoutView",
            "grid_template_rows": null,
            "right": null,
            "justify_content": null,
            "_view_module": "@jupyter-widgets/base",
            "overflow": null,
            "_model_module_version": "1.2.0",
            "_view_count": null,
            "flex_flow": null,
            "width": null,
            "min_width": null,
            "border": null,
            "align_items": null,
            "bottom": null,
            "_model_module": "@jupyter-widgets/base",
            "top": null,
            "grid_column": null,
            "overflow_y": null,
            "overflow_x": null,
            "grid_auto_flow": null,
            "grid_area": null,
            "grid_template_columns": null,
            "flex": null,
            "_model_name": "LayoutModel",
            "justify_items": null,
            "grid_row": null,
            "max_height": null,
            "align_content": null,
            "visibility": null,
            "align_self": null,
            "height": null,
            "min_height": null,
            "padding": null,
            "grid_auto_rows": null,
            "grid_gap": null,
            "max_width": null,
            "order": null,
            "_view_module_version": "1.2.0",
            "grid_template_areas": null,
            "object_position": null,
            "object_fit": null,
            "grid_auto_columns": null,
            "margin": null,
            "display": null,
            "left": null
          }
        },
        "7972f367e5e34a5996a1d4d5f768edc8": {
          "model_module": "@jupyter-widgets/controls",
          "model_name": "DescriptionStyleModel",
          "model_module_version": "1.5.0",
          "state": {
            "_view_name": "StyleView",
            "_model_name": "DescriptionStyleModel",
            "description_width": "",
            "_view_module": "@jupyter-widgets/base",
            "_model_module_version": "1.5.0",
            "_view_count": null,
            "_view_module_version": "1.2.0",
            "_model_module": "@jupyter-widgets/controls"
          }
        },
        "635218ab4900437dbaf96c0dcb4e7c74": {
          "model_module": "@jupyter-widgets/base",
          "model_name": "LayoutModel",
          "model_module_version": "1.2.0",
          "state": {
            "_view_name": "LayoutView",
            "grid_template_rows": null,
            "right": null,
            "justify_content": null,
            "_view_module": "@jupyter-widgets/base",
            "overflow": null,
            "_model_module_version": "1.2.0",
            "_view_count": null,
            "flex_flow": null,
            "width": null,
            "min_width": null,
            "border": null,
            "align_items": null,
            "bottom": null,
            "_model_module": "@jupyter-widgets/base",
            "top": null,
            "grid_column": null,
            "overflow_y": null,
            "overflow_x": null,
            "grid_auto_flow": null,
            "grid_area": null,
            "grid_template_columns": null,
            "flex": null,
            "_model_name": "LayoutModel",
            "justify_items": null,
            "grid_row": null,
            "max_height": null,
            "align_content": null,
            "visibility": null,
            "align_self": null,
            "height": null,
            "min_height": null,
            "padding": null,
            "grid_auto_rows": null,
            "grid_gap": null,
            "max_width": null,
            "order": null,
            "_view_module_version": "1.2.0",
            "grid_template_areas": null,
            "object_position": null,
            "object_fit": null,
            "grid_auto_columns": null,
            "margin": null,
            "display": null,
            "left": null
          }
        }
      }
    }
  },
  "cells": [
    {
      "cell_type": "code",
      "metadata": {
        "id": "z5qKHDaEk7T6"
      },
      "source": [
        "from torch import nn\n",
        "from collections import OrderedDict\n",
        "import torch.nn.functional as F\n",
        "import torch"
      ],
      "execution_count": null,
      "outputs": []
    },
    {
      "cell_type": "code",
      "metadata": {
        "id": "lrtikePal8Ez"
      },
      "source": [
        "SUM = lambda x,y : x+y"
      ],
      "execution_count": null,
      "outputs": []
    },
    {
      "cell_type": "code",
      "metadata": {
        "id": "OVsFDu8rRvFG"
      },
      "source": [
        "AVG = lambda x,y : (x+y)/2"
      ],
      "execution_count": null,
      "outputs": []
    },
    {
      "cell_type": "code",
      "metadata": {
        "id": "_uCnJIdOmoHE"
      },
      "source": [
        "MAX = lambda x,y : torch.max(x,y)"
      ],
      "execution_count": null,
      "outputs": []
    },
    {
      "cell_type": "code",
      "metadata": {
        "id": "6zriVyUgl5NO"
      },
      "source": [
        "def check_equity(property,a,b):\n",
        "    pa = getattr(a,property)\n",
        "    pb = getattr(b,property)\n",
        "    assert  pa==pb, \"Different {}: {}!={}\".format(property,pa,pb)\n",
        "\n",
        "    return pa"
      ],
      "execution_count": null,
      "outputs": []
    },
    {
      "cell_type": "code",
      "metadata": {
        "id": "oXumfynKl3YR"
      },
      "source": [
        "def tied_batchnorm2d(x: torch.Tensor, bn_a : nn.BatchNorm2d, bn_b : nn.BatchNorm2d,\n",
        "                     running_mean:torch.Tensor, running_var:torch.Tensor,\n",
        "                     training:bool,momentum,eps,op):\n",
        "\n",
        "    return F.batch_norm(x,running_mean,running_var,\n",
        "                        op(bn_a.weight,bn_b.weight),op(bn_a.bias,bn_b.bias),\n",
        "                        training, momentum,eps)"
      ],
      "execution_count": null,
      "outputs": []
    },
    {
      "cell_type": "code",
      "metadata": {
        "id": "iT8Unyfol2mi"
      },
      "source": [
        "def tied_conv2d(x: torch.Tensor, conv_a : nn.Conv2d, conv_b : nn.Conv2d, op) -> torch.Tensor:\n",
        "    parameters = dict()\n",
        "    parameters['input'] = x\n",
        "    parameters['weight'] = op(conv_a.weight, conv_b.weight)\n",
        "    parameters['bias'] = op(conv_a.bias, conv_b.bias) if conv_a.bias is not None else None\n",
        "\n",
        "    for p in ['stride','padding','dilation','groups']:\n",
        "        parameters[p] = check_equity(p,conv_a,conv_b)\n",
        "\n",
        "    return F.conv2d(**parameters)"
      ],
      "execution_count": null,
      "outputs": []
    },
    {
      "cell_type": "code",
      "metadata": {
        "id": "svPZYwbjlwNu"
      },
      "source": [
        "def module_unwrap(mod:nn.Module,recursive=False):\n",
        "    children = OrderedDict()\n",
        "    try:\n",
        "        for name, module in mod.named_children():\n",
        "            if (recursive):\n",
        "                recursive_call = module_unwrap(module,recursive=True)\n",
        "                if (len(recursive_call)>0):\n",
        "                    children+=recursive_call\n",
        "                else:\n",
        "                    children[name] = module\n",
        "            else:\n",
        "                children[name] = module\n",
        "    except AttributeError:\n",
        "        pass\n",
        "\n",
        "    return children"
      ],
      "execution_count": null,
      "outputs": []
    },
    {
      "cell_type": "code",
      "metadata": {
        "id": "N3wzrvCVlfd6"
      },
      "source": [
        "class VGGBlock(nn.Module):\n",
        "    def __init__(self, in_channels, out_channels,batch_norm=False):\n",
        "\n",
        "        super().__init__()\n",
        "\n",
        "        conv2_params = {'kernel_size': (3, 3),\n",
        "                        'stride'     : (1, 1),\n",
        "                        'padding'   : 1\n",
        "                        }\n",
        "\n",
        "        noop = lambda x : x\n",
        "\n",
        "        self._batch_norm = batch_norm\n",
        "\n",
        "        self.conv1 = nn.Conv2d(in_channels=in_channels,out_channels=out_channels , **conv2_params)\n",
        "        self.bn1 = nn.BatchNorm2d(out_channels) if batch_norm else noop\n",
        "\n",
        "        self.conv2 = nn.Conv2d(in_channels=out_channels,out_channels=out_channels, **conv2_params)\n",
        "        self.bn2 = nn.BatchNorm2d(out_channels) if batch_norm else noop\n",
        "\n",
        "        self.max_pooling = nn.MaxPool2d(kernel_size=(2, 2), stride=(2, 2))\n",
        "\n",
        "    @property\n",
        "    def batch_norm(self):\n",
        "        return self._batch_norm\n",
        "\n",
        "    def forward(self,x):\n",
        "        x = self.conv1(x)\n",
        "        x = self.bn1(x)\n",
        "        x = F.relu(x)\n",
        "\n",
        "        x = self.conv2(x)\n",
        "        x = self.bn2(x)\n",
        "        x = F.relu(x)\n",
        "\n",
        "        x = self.max_pooling(x)\n",
        "\n",
        "        return x"
      ],
      "execution_count": null,
      "outputs": []
    },
    {
      "cell_type": "code",
      "metadata": {
        "id": "YnHozacXlYir"
      },
      "source": [
        "class TiedVGGBlock(nn.Module):\n",
        "    def __init__(self,block_a: VGGBlock,block_b:VGGBlock,operation=AVG):\n",
        "        super().__init__()\n",
        "\n",
        "        assert block_a.batch_norm == block_b.batch_norm\n",
        "\n",
        "        self._block_a = module_unwrap(block_a)\n",
        "        self._block_b = module_unwrap(block_b)\n",
        "        self._operation = operation\n",
        "\n",
        "        if block_a.batch_norm:\n",
        "            assert block_a.conv1.out_channels == block_b.conv1.out_channels\n",
        "\n",
        "            self.register_buffer('running_mean_1', torch.zeros(block_a.conv1.out_channels))\n",
        "            self.register_buffer('running_var_1', torch.ones(block_a.conv1.out_channels))\n",
        "            self.register_buffer('num_batches_tracked_1', torch.tensor(0, dtype=torch.long))\n",
        "\n",
        "            assert block_a.conv2.out_channels == block_b.conv2.out_channels\n",
        "\n",
        "            self.register_buffer('running_mean_2', torch.zeros(block_a.conv2.out_channels))\n",
        "            self.register_buffer('running_var_2', torch.ones(block_a.conv2.out_channels))\n",
        "            self.register_buffer('num_batches_tracked_2', torch.tensor(0, dtype=torch.long))\n",
        "            \n",
        "\n",
        "    def forward(self,x):\n",
        "\n",
        "\n",
        "        training =  self._block_a['bn1'].training\n",
        "\n",
        "        assert self._block_a['bn1'].training == self._block_b['bn2'].training\n",
        "        assert self._block_a['bn1'].momentum == self._block_b['bn2'].momentum\n",
        "        assert self._block_a['bn1'].eps == self._block_b['bn2'].eps\n",
        "        assert self._block_a['max_pooling'].kernel_size ==  self._block_b['max_pooling'].kernel_size\n",
        "        assert self._block_a['max_pooling'].stride == self._block_b['max_pooling'].stride\n",
        "\n",
        "        if self._block_a['bn1'].momentum is None:\n",
        "            exponential_average_factor = 0.0\n",
        "        else:\n",
        "            exponential_average_factor = self._block_a['bn1'].momentum\n",
        "\n",
        "        if training:\n",
        "            # TODO: if statement only here to tell the jit to skip emitting this when it is None\n",
        "            if self.num_batches_tracked_1 is not None:\n",
        "                self.num_batches_tracked_1 = self.num_batches_tracked_1 + 1\n",
        "                self.num_batches_tracked_2 = self.num_batches_tracked_2 + 1\n",
        "                if self._block_a['bn1'].momentum  is None:  # use cumulative moving average\n",
        "                    exponential_average_factor = 1.0 / float(self.num_batches_tracked_1)\n",
        "                else:  # use exponential moving average\n",
        "                    exponential_average_factor = self._block_a['bn1'].momentum\n",
        "\n",
        "        x = tied_conv2d(x, self._block_a['conv1'], self._block_b['conv1'], self._operation)\n",
        "        x = tied_batchnorm2d(x,self._block_a['bn1'],self._block_b['bn1'],\n",
        "                             self.running_mean_1,self.running_var_1, self._block_a['bn1'].training,\n",
        "                             exponential_average_factor, self._block_a['bn1'].eps, self._operation)\n",
        "\n",
        "        x = tied_conv2d(x, self._block_a['conv2'], self._block_b['conv2'], self._operation)\n",
        "        x = tied_batchnorm2d(x, self._block_a['bn2'], self._block_b['bn2'],\n",
        "                             self.running_mean_1, self.running_var_1, self._block_a['bn2'].training,\n",
        "                             exponential_average_factor, self._block_a['bn2'].eps, self._operation)\n",
        "\n",
        "        x = F.max_pool2d(x,kernel_size=self._block_a['max_pooling'].kernel_size,stride=self._block_a['max_pooling'].stride)\n",
        "        return x"
      ],
      "execution_count": null,
      "outputs": []
    },
    {
      "cell_type": "code",
      "metadata": {
        "id": "rOIHAxsJlSr3"
      },
      "source": [
        "class VGG16(nn.Module):\n",
        "\n",
        "  def __init__(self, input_size, num_classes=1,classifier = None,batch_norm=False):\n",
        "    super(VGG16, self).__init__()\n",
        "\n",
        "    self.in_channels,self.in_width,self.in_height = input_size\n",
        "\n",
        "    self.block_1 = VGGBlock(self.in_channels,64,batch_norm=batch_norm)\n",
        "    self.block_2 = VGGBlock(64, 128,batch_norm=batch_norm)\n",
        "    self.block_3 = VGGBlock(128, 256,batch_norm=batch_norm)\n",
        "    self.block_4 = VGGBlock(256,512,batch_norm=batch_norm)\n",
        "\n",
        "    self.classifier = classifier\n",
        "\n",
        "    if (self.classifier is None):\n",
        "\n",
        "        self.classifier = nn.Sequential(\n",
        "          nn.Linear(2048, 2048),\n",
        "          nn.ReLU(True),\n",
        "          nn.Dropout(p=0.5),\n",
        "          nn.Linear(2048, 512),\n",
        "          nn.ReLU(True),\n",
        "          nn.Dropout(p=0.5),\n",
        "          nn.Linear(512, num_classes)\n",
        "        )\n",
        "\n",
        "\n",
        "  @property\n",
        "  def input_size(self):\n",
        "      return self.in_channels,self.in_width,self.in_height\n",
        "\n",
        "  def forward(self, x):\n",
        "\n",
        "    x = self.block_1(x)\n",
        "    x = self.block_2(x)\n",
        "    x = self.block_3(x)\n",
        "    x = self.block_4(x)\n",
        "    # x = self.avgpool(x)\n",
        "    x = torch.flatten(x,1)\n",
        "\n",
        "    x = self.classifier(x)\n",
        "    return x"
      ],
      "execution_count": null,
      "outputs": []
    },
    {
      "cell_type": "code",
      "metadata": {
        "id": "lvkcDYOOlO8I"
      },
      "source": [
        "class TiedVGG16(nn.Module):\n",
        "\n",
        "  def __init__(self, vgg_a,vgg_b,classifier_from=0,operation=SUM):\n",
        "    super().__init__()\n",
        "\n",
        "    assert 0 <= classifier_from <= 1\n",
        "\n",
        "    assert vgg_a.input_size == vgg_b.input_size\n",
        "\n",
        "    self.in_channels, self.in_width, self.in_height = vgg_a.input_size\n",
        "\n",
        "    self._vgg_a = vgg_a\n",
        "    self._vgg_b = vgg_b\n",
        "    self._operation = operation\n",
        "\n",
        "    self.tblock_1 = TiedVGGBlock(vgg_a.block_1, vgg_b.block_1, operation)\n",
        "    self.tblock_2 = TiedVGGBlock(vgg_a.block_2, vgg_b.block_2, operation)\n",
        "    self.tblock_3 = TiedVGGBlock(vgg_a.block_3, vgg_b.block_3, operation)\n",
        "    self.tblock_4 = TiedVGGBlock(vgg_a.block_4, vgg_b.block_4, operation)\n",
        "\n",
        "    self.classifier = vgg_a.classifier if classifier_from == 0 else vgg_b.classifier\n",
        "\n",
        "\n",
        "  def forward(self, x1,x2):\n",
        "\n",
        "    o1 = self._vgg_a(x1)\n",
        "    o2 = self._vgg_b(x2)\n",
        "    #\n",
        "    xc = torch.cat((x1,x2),0)\n",
        "\n",
        "    xc = self.tblock_1(xc)\n",
        "    xc = self.tblock_2(xc)\n",
        "    xc = self.tblock_3(xc)\n",
        "    xc = self.tblock_4(xc)\n",
        "    xc = torch.flatten(xc,1)\n",
        "    xc = self.classifier(xc)\n",
        "\n",
        "    return [o1,o2,xc]"
      ],
      "execution_count": null,
      "outputs": []
    },
    {
      "cell_type": "code",
      "metadata": {
        "id": "dug5scXflMXc"
      },
      "source": [
        "class CombinedLoss(nn.Module):\n",
        "    def __init__(self, loss_a, loss_b, loss_combo, _lambda=1.0):\n",
        "        super().__init__()\n",
        "        self.loss_a = loss_a\n",
        "        self.loss_b = loss_b\n",
        "        self.loss_combo = loss_combo\n",
        "\n",
        "        self.register_buffer('_lambda',torch.tensor(float(_lambda),dtype=torch.float32))\n",
        "\n",
        "\n",
        "    def forward(self,y_hat,y):\n",
        "\n",
        "        return self.loss_a(y_hat[0],y[0]) + self.loss_b(y_hat[1],y[1]) + self._lambda * self.loss_combo(y_hat[2],torch.cat(y,0))"
      ],
      "execution_count": null,
      "outputs": []
    },
    {
      "cell_type": "code",
      "metadata": {
        "id": "huj2hXNVr4x2"
      },
      "source": [
        "import torch.nn.functional as F\n",
        "import torch\n",
        "from torch import nn\n",
        "from torch.utils.data import DataLoader\n",
        "import torchvision\n",
        "import random\n",
        "from torch.utils.data import Subset\n",
        "from matplotlib import pyplot as plt\n",
        "from torchsummary import summary\n",
        "from torchvision import transforms\n",
        "import progressbar as pb\n",
        "import numpy as np"
      ],
      "execution_count": null,
      "outputs": []
    },
    {
      "cell_type": "code",
      "metadata": {
        "id": "DdOxH8tqsRy9"
      },
      "source": [
        "random.seed(47)"
      ],
      "execution_count": null,
      "outputs": []
    },
    {
      "cell_type": "code",
      "metadata": {
        "id": "MFDE_ImHsGpt"
      },
      "source": [
        "def unwrap_model(model):\n",
        "  for s,m in model.named_modules():\n",
        "    print (s)"
      ],
      "execution_count": null,
      "outputs": []
    },
    {
      "cell_type": "markdown",
      "metadata": {
        "id": "mZkfFquzmVn5"
      },
      "source": [
        "TRAINING FUNCTION CHE SI BLOCCA DOPO CIRCA 1 MINUTO: INDEX OUT OF RANGE"
      ]
    },
    {
      "cell_type": "code",
      "metadata": {
        "id": "o01viBzXsSTa"
      },
      "source": [
        "def train(net, loaders, optimizer, criterion, epochs=20, dev=None, save_param=False, model_name=\"valerio\"):\n",
        "      loaders_a, loaders_b = loaders\n",
        "    # try:\n",
        "      net = net.to(dev)\n",
        "      #print(net)\n",
        "      #summary(net,[(net.in_channels,net.in_width,net.in_height)]*2)\n",
        "\n",
        "\n",
        "      criterion.to(dev)\n",
        "\n",
        "\n",
        "      # Initialize history\n",
        "      history_loss = {\"train\": [], \"val\": [], \"test\": []}\n",
        "      history_accuracy_combo = {\"train\": [], \"val\": [], \"test\": []}\n",
        "      history_accuracy_a = {\"train\": [], \"val\": [], \"test\": []}\n",
        "      history_accuracy_b = {\"train\": [], \"val\": [], \"test\": []}\n",
        "      # Store the best val accuracy\n",
        "      best_val_accuracy = 0\n",
        "\n",
        "      # Process each epoch\n",
        "      for epoch in range(epochs):\n",
        "        # Initialize epoch variables\n",
        "        sum_loss = {\"train\": 0, \"val\": 0, \"test\": 0}\n",
        "        sum_accuracy_combo = {\"train\": 0, \"val\": 0, \"test\": 0}\n",
        "        sum_accuracy_a = {\"train\": 0, \"val\": 0, \"test\": 0}\n",
        "        sum_accuracy_b = {\"train\": 0, \"val\": 0, \"test\": 0}\n",
        "\n",
        "        progbar = None\n",
        "        # Process each split\n",
        "        for split in [\"train\", \"val\", \"test\"]:\n",
        "          if split == \"train\":\n",
        "            net.train()\n",
        "            #widgets = [\n",
        "              #' [', pb.Timer(), '] ',\n",
        "              #pb.Bar(),\n",
        "              #' [', pb.ETA(), '] ', pb.Variable('ta','[Train Acc: {formatted_value}]')]\n",
        "\n",
        "            #progbar = pb.ProgressBar(max_value=len(loaders_a[split]),widgets=widgets,redirect_stdout=True)\n",
        "\n",
        "          else:\n",
        "            net.eval()\n",
        "          # Process each batch\n",
        "          for j, ((input_a, labels_a), (input_b, labels_b)) in enumerate(zip(loaders_a[split], loaders_b[split])):\n",
        "            labels_a = labels_a.unsqueeze(1).float()\n",
        "            labels_b = labels_b.unsqueeze(1).float()\n",
        "\n",
        "            input_a = input_a.to(dev)\n",
        "            labels_a = labels_a.to(dev)\n",
        "            input_b = input_b.to(dev)\n",
        "            labels_b = labels_b.to(dev)\n",
        "\n",
        "            # Reset gradients\n",
        "            optimizer.zero_grad()\n",
        "            # Compute output\n",
        "            pred = net(input_a,input_b)\n",
        "\n",
        "            loss = criterion(pred, [labels_a, labels_b])\n",
        "            # Update loss\n",
        "            sum_loss[split] += loss.item()\n",
        "            # Check parameter update\n",
        "            if split == \"train\":\n",
        "              # Compute gradients\n",
        "              loss.backward()\n",
        "              # Optimize\n",
        "              optimizer.step()\n",
        "\n",
        "            # Compute accuracy\n",
        "            pred_labels = (pred[2] >= 0.0).long()  # Binarize predictions to 0 and 1\n",
        "            pred_labels_a = (pred[0] >= 0.0).long()  # Binarize predictions to 0 and 1\n",
        "            pred_labels_b = (pred[1] >= 0.0).long()  # Binarize predictions to 0 and 1\n",
        "\n",
        "\n",
        "            labels = torch.cat((labels_a, labels_b), 0)\n",
        "            batch_accuracy_combo = (pred_labels == labels).sum().item() / len(labels)\n",
        "            batch_accuracy_a = (pred_labels_a == labels_a).sum().item() / len(labels_a)\n",
        "            batch_accuracy_b = (pred_labels_b == labels_b).sum().item() / len(labels_b)\n",
        "            # Update accuracy\n",
        "            sum_accuracy_combo[split] += batch_accuracy_combo\n",
        "            sum_accuracy_a[split] += batch_accuracy_a\n",
        "            sum_accuracy_b[split] += batch_accuracy_b\n",
        "\n",
        "            #if (split=='train'):\n",
        "              #progbar.update(j, ta=batch_accuracy)\n",
        "              #progbar.update(j, ta=batch_accuracy_a)\n",
        "              #progbar.update(j, ta=batch_accuracy_b)\n",
        "\n",
        "        #if (progbar is not None):\n",
        "          #progbar.finish()\n",
        "        # Compute epoch loss/accuracy\n",
        "        #for split in [\"train\", \"val\", \"test\"]:\n",
        "          #epoch_loss = sum_loss[split] / (len(loaders_a[split])+len(loaders_b[split])) \n",
        "          #epoch_accuracy_combo = {split: sum_accuracy_combo[split] / len(loaders[split]) for split in [\"train\", \"val\", \"test\"]}\n",
        "          #epoch_accuracy_a = sum_accuracy_a[split] / len(loaders_a[split])\n",
        "          #epoch_accuracy_b = sum_accuracy_b[split] / len(loaders_b[split])\n",
        "        epoch_loss = sum_loss[\"train\"] / (len(loaders_a[\"train\"])+len(loaders_b[\"train\"])) \n",
        "        epoch_accuracy_a = sum_accuracy_a[\"train\"] / len(loaders_a[\"train\"])\n",
        "        epoch_accuracy_b = sum_accuracy_b[\"train\"] / len(loaders_b[\"train\"])\n",
        "        epoch_accuracy_combo = sum_accuracy_combo[\"train\"] / len(loaders_a[\"train\"]) \n",
        "\n",
        "        epoch_loss_val = sum_loss[\"val\"] / (len(loaders_a[\"val\"])+len(loaders_b[\"val\"])) \n",
        "        epoch_accuracy_a_val = sum_accuracy_a[\"val\"] / len(loaders_a[\"val\"])\n",
        "        epoch_accuracy_b_val = sum_accuracy_b[\"val\"] / len(loaders_b[\"val\"])\n",
        "        epoch_accuracy_combo_val = sum_accuracy_combo[\"val\"] / len(loaders_a[\"val\"]) \n",
        "\n",
        "        epoch_loss_test = sum_loss[\"test\"] / (len(loaders_a[\"test\"])+len(loaders_b[\"test\"])) \n",
        "        epoch_accuracy_a_test = sum_accuracy_a[\"test\"] / len(loaders_a[\"test\"])\n",
        "        epoch_accuracy_b_test = sum_accuracy_b[\"test\"] / len(loaders_b[\"test\"])\n",
        "        epoch_accuracy_combo_test = sum_accuracy_combo[\"test\"] / len(loaders_a[\"test\"]) \n",
        "\n",
        "\n",
        "        # Store params at the best validation accuracy\n",
        "        if save_param and epoch_accuracy[\"val\"] > best_val_accuracy:\n",
        "          # torch.save(net.state_dict(), f\"{net.__class__.__name__}_best_val.pth\")\n",
        "          torch.save(net.state_dict(), f\"{model_name}_best_val.pth\")\n",
        "          best_val_accuracy = epoch_accuracy[\"val\"]\n",
        "\n",
        "        # Update history\n",
        "        for split in [\"train\", \"val\", \"test\"]:\n",
        "          history_loss[split].append(epoch_loss)\n",
        "          history_accuracy_a[split].append(epoch_accuracy_a)\n",
        "          history_accuracy_b[split].append(epoch_accuracy_b)\n",
        "        # Print info\n",
        "        print(f\"Epoch {epoch + 1}:\",\n",
        "              f\"Training Loss for combo = {epoch_loss:.4f},\",)\n",
        "        print(f\"Epoch {epoch + 1}:\",\n",
        "              f\"Training Accuracy for A = {epoch_accuracy_a:.4f},\")\n",
        "        print(f\"Epoch {epoch + 1}:\",\n",
        "              f\"Training Accuracy for B = {epoch_accuracy_b:.4f},\")\n",
        "        print(f\"Epoch {epoch + 1}:\",\n",
        "              f\"Training Accuracy for combo = {epoch_accuracy_combo:.4f},\")\n",
        "        \n",
        "        print(f\"Epoch {epoch + 1}:\",\n",
        "              f\"Val Loss for combo = {epoch_loss_val:.4f},\",)\n",
        "        print(f\"Epoch {epoch + 1}:\",\n",
        "              f\"Val Accuracy for A = {epoch_accuracy_a_val:.4f},\")\n",
        "        print(f\"Epoch {epoch + 1}:\",\n",
        "              f\"Val Accuracy for B = {epoch_accuracy_b_val:.4f},\")\n",
        "        print(f\"Epoch {epoch + 1}:\",\n",
        "              f\"Val Accuracy for combo = {epoch_accuracy_combo_val:.4f},\")\n",
        "        \n",
        "        print(f\"Epoch {epoch + 1}:\",\n",
        "              f\"Test Loss for combo = {epoch_loss_test:.4f},\",)\n",
        "        print(f\"Epoch {epoch + 1}:\",\n",
        "              f\"Test Accuracy for A = {epoch_accuracy_a_test:.4f},\")\n",
        "        print(f\"Epoch {epoch + 1}:\",\n",
        "              f\"Test Accuracy for B = {epoch_accuracy_b_test:.4f},\")\n",
        "        print(f\"Epoch {epoch + 1}:\",\n",
        "              f\"Test Accuracy for combo = {epoch_accuracy_combo_test:.4f},\")\n",
        "        print(\"\\n\")"
      ],
      "execution_count": null,
      "outputs": []
    },
    {
      "cell_type": "code",
      "metadata": {
        "id": "heB_LKKmtpzi"
      },
      "source": [
        "def parse_dataset(dataset):\n",
        "\n",
        "  dataset.targets = dataset.targets % 2\n",
        "\n",
        "  return dataset"
      ],
      "execution_count": null,
      "outputs": []
    },
    {
      "cell_type": "code",
      "metadata": {
        "id": "66KLcvRYtscQ"
      },
      "source": [
        "root_dir = './'"
      ],
      "execution_count": null,
      "outputs": []
    },
    {
      "cell_type": "code",
      "metadata": {
        "id": "5NhPkpertvzo"
      },
      "source": [
        "rescale_data = transforms.Lambda(lambda x : x/255)"
      ],
      "execution_count": null,
      "outputs": []
    },
    {
      "cell_type": "code",
      "metadata": {
        "id": "7ZuEcdhOtxys",
        "colab": {
          "base_uri": "https://localhost:8080/",
          "height": 845,
          "referenced_widgets": [
            "a5be14f11b314f8d925596c4898a7e1c",
            "05c5e2784b574026bc4ac0050052cff1",
            "857d87fc955547d5945314433c37ff0e",
            "e748c7a69ddc4a6892568cccb62dc978",
            "1b17be5b013b4392a271ca21e94ec38f",
            "f3ad1ee58e5c4ad8847ae9aa45b441d9",
            "2b2129e56603496aab880bcb8654d38c",
            "861246c2120147dab73b4b3320f010af",
            "53dac41ce96e4a9b87f5e18b32047bca",
            "3fa0a2bee03d4210a77eeb130720d826",
            "fa02f5ed41964a9c89416f7c198641b4",
            "4500547de8c645fcaf305f7ee5b1f659",
            "f728e48eb9bd4b4098fab7489de9b9f5",
            "af4dcbf5fc034166a2acab8197f64fc4",
            "f994c6589b2e49e9bdab789e1cb3d380",
            "b0b22ac1a6034d41b0ffe343b9330260",
            "642f5ffc36614b4881fdb5b1e28087c2",
            "c080e964d51a461caadb6c4bc903aaa7",
            "27bc2c9c8572480ab546f736e68e32fa",
            "ded4041e9c054ca381b51314e7b7254f",
            "1fa1be98ea8b4465937c000a6cf5c3bb",
            "3db04b123498499c84b942c997dc403d",
            "6c03a68d6ed84a068075851a890e82ba",
            "55159194e89646bf8b1f19432e9f0457",
            "2764660e3c614970babd74ec81e48f33",
            "5684b5b84f074f019cf0281e66cc4f43",
            "1940ca3ac55344288b3b45ba4b349dc7",
            "a6070f09e52a416692350bc801659089",
            "b73a7cbee9ef4c3ca680ea64f7100432",
            "2978e3a6259940a9ab2dfecbaabbac96",
            "7972f367e5e34a5996a1d4d5f768edc8",
            "635218ab4900437dbaf96c0dcb4e7c74"
          ]
        },
        "outputId": "9ecd9ffc-2858-4cdf-ed1d-5107320b03d7"
      },
      "source": [
        "# Compose transformations\n",
        "data_transform = transforms.Compose([\n",
        "  transforms.Resize(32),\n",
        "  transforms.RandomHorizontalFlip(),\n",
        "  transforms.ToTensor(),\n",
        "  rescale_data,\n",
        "])\n",
        "\n",
        "test_transform = transforms.Compose([\n",
        "  transforms.Resize(32),\n",
        "  transforms.ToTensor(),\n",
        "  rescale_data,\n",
        "])\n",
        "# Load MNIST dataset with transforms\n",
        "train_set = torchvision.datasets.MNIST(root=root_dir, train=True, download=True, transform=data_transform)\n",
        "test_set = torchvision.datasets.MNIST(root=root_dir, train=False, download=True, transform=test_transform)"
      ],
      "execution_count": null,
      "outputs": [
        {
          "output_type": "stream",
          "text": [
            "Downloading http://yann.lecun.com/exdb/mnist/train-images-idx3-ubyte.gz\n",
            "Failed to download (trying next):\n",
            "HTTP Error 503: Service Unavailable\n",
            "\n",
            "Downloading https://ossci-datasets.s3.amazonaws.com/mnist/train-images-idx3-ubyte.gz\n",
            "Downloading https://ossci-datasets.s3.amazonaws.com/mnist/train-images-idx3-ubyte.gz to ./MNIST/raw/train-images-idx3-ubyte.gz\n"
          ],
          "name": "stdout"
        },
        {
          "output_type": "display_data",
          "data": {
            "application/vnd.jupyter.widget-view+json": {
              "model_id": "a5be14f11b314f8d925596c4898a7e1c",
              "version_minor": 0,
              "version_major": 2
            },
            "text/plain": [
              "HBox(children=(FloatProgress(value=0.0, max=9912422.0), HTML(value='')))"
            ]
          },
          "metadata": {
            "tags": []
          }
        },
        {
          "output_type": "stream",
          "text": [
            "\n",
            "Extracting ./MNIST/raw/train-images-idx3-ubyte.gz to ./MNIST/raw\n",
            "\n",
            "Downloading http://yann.lecun.com/exdb/mnist/train-labels-idx1-ubyte.gz\n",
            "Failed to download (trying next):\n",
            "HTTP Error 503: Service Unavailable\n",
            "\n",
            "Downloading https://ossci-datasets.s3.amazonaws.com/mnist/train-labels-idx1-ubyte.gz\n",
            "Downloading https://ossci-datasets.s3.amazonaws.com/mnist/train-labels-idx1-ubyte.gz to ./MNIST/raw/train-labels-idx1-ubyte.gz\n"
          ],
          "name": "stdout"
        },
        {
          "output_type": "display_data",
          "data": {
            "application/vnd.jupyter.widget-view+json": {
              "model_id": "53dac41ce96e4a9b87f5e18b32047bca",
              "version_minor": 0,
              "version_major": 2
            },
            "text/plain": [
              "HBox(children=(FloatProgress(value=0.0, max=28881.0), HTML(value='')))"
            ]
          },
          "metadata": {
            "tags": []
          }
        },
        {
          "output_type": "stream",
          "text": [
            "\n",
            "Extracting ./MNIST/raw/train-labels-idx1-ubyte.gz to ./MNIST/raw\n",
            "\n",
            "Downloading http://yann.lecun.com/exdb/mnist/t10k-images-idx3-ubyte.gz\n",
            "Failed to download (trying next):\n",
            "HTTP Error 503: Service Unavailable\n",
            "\n",
            "Downloading https://ossci-datasets.s3.amazonaws.com/mnist/t10k-images-idx3-ubyte.gz\n",
            "Downloading https://ossci-datasets.s3.amazonaws.com/mnist/t10k-images-idx3-ubyte.gz to ./MNIST/raw/t10k-images-idx3-ubyte.gz\n"
          ],
          "name": "stdout"
        },
        {
          "output_type": "display_data",
          "data": {
            "application/vnd.jupyter.widget-view+json": {
              "model_id": "642f5ffc36614b4881fdb5b1e28087c2",
              "version_minor": 0,
              "version_major": 2
            },
            "text/plain": [
              "HBox(children=(FloatProgress(value=0.0, max=1648877.0), HTML(value='')))"
            ]
          },
          "metadata": {
            "tags": []
          }
        },
        {
          "output_type": "stream",
          "text": [
            "\n",
            "Extracting ./MNIST/raw/t10k-images-idx3-ubyte.gz to ./MNIST/raw\n",
            "\n",
            "Downloading http://yann.lecun.com/exdb/mnist/t10k-labels-idx1-ubyte.gz\n",
            "Failed to download (trying next):\n",
            "HTTP Error 503: Service Unavailable\n",
            "\n",
            "Downloading https://ossci-datasets.s3.amazonaws.com/mnist/t10k-labels-idx1-ubyte.gz\n",
            "Downloading https://ossci-datasets.s3.amazonaws.com/mnist/t10k-labels-idx1-ubyte.gz to ./MNIST/raw/t10k-labels-idx1-ubyte.gz\n"
          ],
          "name": "stdout"
        },
        {
          "output_type": "display_data",
          "data": {
            "application/vnd.jupyter.widget-view+json": {
              "model_id": "2764660e3c614970babd74ec81e48f33",
              "version_minor": 0,
              "version_major": 2
            },
            "text/plain": [
              "HBox(children=(FloatProgress(value=0.0, max=4542.0), HTML(value='')))"
            ]
          },
          "metadata": {
            "tags": []
          }
        },
        {
          "output_type": "stream",
          "text": [
            "\n",
            "Extracting ./MNIST/raw/t10k-labels-idx1-ubyte.gz to ./MNIST/raw\n",
            "\n",
            "Processing...\n",
            "Done!\n"
          ],
          "name": "stdout"
        },
        {
          "output_type": "stream",
          "text": [
            "/usr/local/lib/python3.7/dist-packages/torchvision/datasets/mnist.py:502: UserWarning: The given NumPy array is not writeable, and PyTorch does not support non-writeable tensors. This means you can write to the underlying (supposedly non-writeable) NumPy array using the tensor. You may want to copy the array to protect its data or make it writeable before converting it to a tensor. This type of warning will be suppressed for the rest of this program. (Triggered internally at  /pytorch/torch/csrc/utils/tensor_numpy.cpp:143.)\n",
            "  return torch.from_numpy(parsed.astype(m[2], copy=False)).view(*s)\n"
          ],
          "name": "stderr"
        }
      ]
    },
    {
      "cell_type": "code",
      "metadata": {
        "id": "j0naD73Xt27p"
      },
      "source": [
        "train_set = parse_dataset(train_set)\n",
        "test_set = parse_dataset(test_set)"
      ],
      "execution_count": null,
      "outputs": []
    },
    {
      "cell_type": "code",
      "metadata": {
        "colab": {
          "base_uri": "https://localhost:8080/"
        },
        "id": "tuuQ0Mvlt71W",
        "outputId": "b6b745cf-b232-421e-a201-79d8b645618a"
      },
      "source": [
        "# Dataset len\n",
        "num_train = len(train_set)\n",
        "num_test = len(test_set)\n",
        "print(f\"Num. training samples: {num_train}\")\n",
        "print(f\"Num. test samples:     {num_test}\")"
      ],
      "execution_count": null,
      "outputs": [
        {
          "output_type": "stream",
          "text": [
            "Num. training samples: 60000\n",
            "Num. test samples:     10000\n"
          ],
          "name": "stdout"
        }
      ]
    },
    {
      "cell_type": "code",
      "metadata": {
        "id": "mCLZnsN7t-SC"
      },
      "source": [
        "# List of indexes on the training set\n",
        "train_idx = list(range(num_train))\n",
        "\n",
        "# List of indexes of the test set\n",
        "test_idx = list(range(num_test))\n",
        "\n",
        "# Shuffle the training set\n",
        "\n",
        "random.shuffle(train_idx)"
      ],
      "execution_count": null,
      "outputs": []
    },
    {
      "cell_type": "code",
      "metadata": {
        "colab": {
          "base_uri": "https://localhost:8080/"
        },
        "id": "tAp7tx7dGADR",
        "outputId": "95307e53-89aa-4366-b6f9-a2444c4bdb86"
      },
      "source": [
        "val_frac = 0.1\n",
        "\n",
        "# Number of samples of the validation set\n",
        "num_val = int(num_train * val_frac)\n",
        "num_train = num_train - num_val\n",
        "\n",
        "print(f\"{num_train} samples used as train set\")\n",
        "print(f\"{num_val}  samples used as val set\")\n",
        "\n",
        "idx = range(0,len(train_set))\n",
        "h = len(idx)//2\n",
        "\n",
        "set_a_idx = idx[:h]\n",
        "set_b_idx = idx[h:]\n",
        "\n",
        "h_val = int(h*val_frac)\n",
        "\n",
        "train_idx_a = set_a_idx[:h_val]\n",
        "val_idx_a = set_a_idx[h_val:]\n",
        "\n",
        "train_idx_b = set_b_idx[:h_val]\n",
        "val_idx_b = set_b_idx[h_val:]\n",
        "\n",
        "val_set_a = Subset(train_set, val_idx_a)\n",
        "val_set_b = Subset(train_set, val_idx_b)\n",
        "train_set_a = Subset(train_set, train_idx_a)\n",
        "train_set_b = Subset(train_set, train_idx_b)\n",
        "\n",
        "num_test = int(len(test_set)/2)\n",
        "# List of indexes of the test set\n",
        "test_idx = list(range(num_test*2))\n",
        "\n",
        "# Split test set\n",
        "test_a_idx = test_idx[num_test:]\n",
        "test_b_idx = test_idx[:num_test]\n",
        "\n",
        "test_set_a = Subset(test_set, test_a_idx)\n",
        "test_set_b = Subset(test_set, test_b_idx)\n",
        "\n",
        "print(f\"{num_train} samples used as train set\")\n",
        "print(f\"{num_val} samples used as val set\")\n",
        "print(f\"{num_test}  samples used as test set\")\n",
        "print(\"\\n\")\n",
        "num_train_a1 = len(train_set_a)\n",
        "num_train_b1 = len(train_set_b)\n",
        "num_val_a = len(val_set_a)\n",
        "num_val_b = len(val_set_b)\n",
        "print(f\"{num_train_a1} samples used as train set a\")\n",
        "print(f\"{num_val_a}  samples used as val set a\")\n",
        "print(f\"{num_train_b1} samples used as train set b\")\n",
        "print(f\"{num_val_b}  samples used as val set b\")"
      ],
      "execution_count": null,
      "outputs": [
        {
          "output_type": "stream",
          "text": [
            "54000 samples used as train set\n",
            "6000  samples used as val set\n",
            "54000 samples used as train set\n",
            "6000 samples used as val set\n",
            "5000  samples used as test set\n",
            "\n",
            "\n",
            "3000 samples used as train set a\n",
            "27000  samples used as val set a\n",
            "3000 samples used as train set b\n",
            "27000  samples used as val set b\n"
          ],
          "name": "stdout"
        }
      ]
    },
    {
      "cell_type": "code",
      "metadata": {
        "colab": {
          "base_uri": "https://localhost:8080/"
        },
        "id": "0UBxQZGFG_MR",
        "outputId": "0513bfc8-29f6-4543-ecc6-6dd32210bd47"
      },
      "source": [
        "#check\n",
        "list(set(train_set_b.indices) & set(val_set_a.indices))"
      ],
      "execution_count": null,
      "outputs": [
        {
          "output_type": "execute_result",
          "data": {
            "text/plain": [
              "[]"
            ]
          },
          "metadata": {
            "tags": []
          },
          "execution_count": 27
        }
      ]
    },
    {
      "cell_type": "code",
      "metadata": {
        "id": "5Afjy2uSMkwh"
      },
      "source": [
        "class ConcatDataset(torch.utils.data.Dataset):\n",
        "    def __init__(self, *datasets):\n",
        "        self.datasets = datasets\n",
        "\n",
        "    def __getitem__(self, i):\n",
        "        return tuple(d[i] for d in self.datasets)\n",
        "\n",
        "    def __len__(self):\n",
        "        return min(len(d) for d in self.datasets)"
      ],
      "execution_count": null,
      "outputs": []
    },
    {
      "cell_type": "code",
      "metadata": {
        "id": "7cV8Xu9OuIwc"
      },
      "source": [
        "# Define loaders\n",
        "\n",
        "train_loader_a = DataLoader(train_set_a, batch_size=128, num_workers=0, shuffle=True, drop_last=True)\n",
        "val_loader_a   = DataLoader(val_set_a,   batch_size=128, num_workers=0, shuffle=False, drop_last=False)\n",
        "test_loader_a  = DataLoader(test_set_a,  batch_size=128, num_workers=0, shuffle=False, drop_last=False)\n",
        "\n",
        "train_loader_b = DataLoader(train_set_b, batch_size=128, num_workers=0, shuffle=True, drop_last=True)\n",
        "val_loader_b   = DataLoader(val_set_b,   batch_size=128, num_workers=0, shuffle=False, drop_last=False)\n",
        "test_loader_b  = DataLoader(test_set_b,  batch_size=128, num_workers=0, shuffle=False, drop_last=False)"
      ],
      "execution_count": null,
      "outputs": []
    },
    {
      "cell_type": "code",
      "metadata": {
        "id": "FqeDMAom5CeA"
      },
      "source": [
        "# Define loaders\n",
        "\n",
        "train_loader = DataLoader(ConcatDataset(train_set_a, train_set_b), batch_size=128, num_workers=0, shuffle=True, drop_last=True)\n",
        "val_loader   = DataLoader(ConcatDataset(val_set_a, val_set_b),   batch_size=128, num_workers=0, shuffle=False, drop_last=False)\n",
        "test_loader  = DataLoader(ConcatDataset(test_set_a, test_set_b),  batch_size=128, num_workers=0, shuffle=False, drop_last=False)"
      ],
      "execution_count": null,
      "outputs": []
    },
    {
      "cell_type": "code",
      "metadata": {
        "id": "BjP9rcEp5E6-"
      },
      "source": [
        "# Define dictionary of loaders\n",
        "loaders = {\"train\": train_loader,\n",
        "           \"val\": val_loader,\n",
        "           \"test\": test_loader}"
      ],
      "execution_count": null,
      "outputs": []
    },
    {
      "cell_type": "code",
      "metadata": {
        "id": "JiaFZEdSuKw0"
      },
      "source": [
        "# Define dictionary of loaders\n",
        "loaders_a = {\"train\": train_loader_a,\n",
        "           \"val\": val_loader_a,\n",
        "           \"test\": test_loader_a}"
      ],
      "execution_count": null,
      "outputs": []
    },
    {
      "cell_type": "code",
      "metadata": {
        "id": "maVRXcfVx1Mw"
      },
      "source": [
        "loaders_b = {\"train\": train_loader_b,\n",
        "           \"val\": val_loader_b,\n",
        "           \"test\": test_loader_b}"
      ],
      "execution_count": null,
      "outputs": []
    },
    {
      "cell_type": "code",
      "metadata": {
        "id": "lQ1U4WzQuNAW"
      },
      "source": [
        "#model1 = VGG16((1,32,32),batch_norm=True)\n",
        "#model2 = VGG16((1,32,32),batch_norm=True,classifier=model1.classifier)\n",
        "#combo = TiedVGG16(model1,model2,0)"
      ],
      "execution_count": null,
      "outputs": []
    },
    {
      "cell_type": "code",
      "metadata": {
        "id": "UBkJTjPKSEf7"
      },
      "source": [
        "model1 = VGG16((1,32,32),batch_norm=True)\n",
        "model2 = VGG16((1,32,32),batch_norm=True,classifier=model1.classifier)\n",
        "combo = TiedVGG16(model1,model2,0, AVG)"
      ],
      "execution_count": null,
      "outputs": []
    },
    {
      "cell_type": "code",
      "metadata": {
        "id": "_Y7Xo93RuRzN"
      },
      "source": [
        "dev = torch.device('cuda')"
      ],
      "execution_count": null,
      "outputs": []
    },
    {
      "cell_type": "code",
      "metadata": {
        "id": "BXQhcOMeud2A"
      },
      "source": [
        "optimizer = torch.optim.SGD(combo.parameters(), lr = 0.01)\n",
        "# Define a loss\n",
        "criterion = CombinedLoss(nn.BCEWithLogitsLoss(),nn.BCEWithLogitsLoss(),nn.BCEWithLogitsLoss(),_lambda = 1)\n",
        "n_params = 0"
      ],
      "execution_count": null,
      "outputs": []
    },
    {
      "cell_type": "code",
      "metadata": {
        "colab": {
          "base_uri": "https://localhost:8080/"
        },
        "id": "lNcAc__8ugG9",
        "outputId": "f523d7fb-fe4d-485a-877f-234be6f00609"
      },
      "source": [
        "for n,p in combo.named_parameters():\n",
        "   print(\"{:30} {:>20} {:>15}\".format(n,str(np.asarray(p.shape)),p.numel()))\n",
        "   n_params += p.numel()"
      ],
      "execution_count": null,
      "outputs": [
        {
          "output_type": "stream",
          "text": [
            "_vgg_a.block_1.conv1.weight           [64  1  3  3]             576\n",
            "_vgg_a.block_1.conv1.bias                      [64]              64\n",
            "_vgg_a.block_1.bn1.weight                      [64]              64\n",
            "_vgg_a.block_1.bn1.bias                        [64]              64\n",
            "_vgg_a.block_1.conv2.weight           [64 64  3  3]           36864\n",
            "_vgg_a.block_1.conv2.bias                      [64]              64\n",
            "_vgg_a.block_1.bn2.weight                      [64]              64\n",
            "_vgg_a.block_1.bn2.bias                        [64]              64\n",
            "_vgg_a.block_2.conv1.weight       [128  64   3   3]           73728\n",
            "_vgg_a.block_2.conv1.bias                     [128]             128\n",
            "_vgg_a.block_2.bn1.weight                     [128]             128\n",
            "_vgg_a.block_2.bn1.bias                       [128]             128\n",
            "_vgg_a.block_2.conv2.weight       [128 128   3   3]          147456\n",
            "_vgg_a.block_2.conv2.bias                     [128]             128\n",
            "_vgg_a.block_2.bn2.weight                     [128]             128\n",
            "_vgg_a.block_2.bn2.bias                       [128]             128\n",
            "_vgg_a.block_3.conv1.weight       [256 128   3   3]          294912\n",
            "_vgg_a.block_3.conv1.bias                     [256]             256\n",
            "_vgg_a.block_3.bn1.weight                     [256]             256\n",
            "_vgg_a.block_3.bn1.bias                       [256]             256\n",
            "_vgg_a.block_3.conv2.weight       [256 256   3   3]          589824\n",
            "_vgg_a.block_3.conv2.bias                     [256]             256\n",
            "_vgg_a.block_3.bn2.weight                     [256]             256\n",
            "_vgg_a.block_3.bn2.bias                       [256]             256\n",
            "_vgg_a.block_4.conv1.weight       [512 256   3   3]         1179648\n",
            "_vgg_a.block_4.conv1.bias                     [512]             512\n",
            "_vgg_a.block_4.bn1.weight                     [512]             512\n",
            "_vgg_a.block_4.bn1.bias                       [512]             512\n",
            "_vgg_a.block_4.conv2.weight       [512 512   3   3]         2359296\n",
            "_vgg_a.block_4.conv2.bias                     [512]             512\n",
            "_vgg_a.block_4.bn2.weight                     [512]             512\n",
            "_vgg_a.block_4.bn2.bias                       [512]             512\n",
            "_vgg_a.classifier.0.weight              [2048 2048]         4194304\n",
            "_vgg_a.classifier.0.bias                     [2048]            2048\n",
            "_vgg_a.classifier.3.weight              [ 512 2048]         1048576\n",
            "_vgg_a.classifier.3.bias                      [512]             512\n",
            "_vgg_a.classifier.6.weight                [  1 512]             512\n",
            "_vgg_a.classifier.6.bias                        [1]               1\n",
            "_vgg_b.block_1.conv1.weight           [64  1  3  3]             576\n",
            "_vgg_b.block_1.conv1.bias                      [64]              64\n",
            "_vgg_b.block_1.bn1.weight                      [64]              64\n",
            "_vgg_b.block_1.bn1.bias                        [64]              64\n",
            "_vgg_b.block_1.conv2.weight           [64 64  3  3]           36864\n",
            "_vgg_b.block_1.conv2.bias                      [64]              64\n",
            "_vgg_b.block_1.bn2.weight                      [64]              64\n",
            "_vgg_b.block_1.bn2.bias                        [64]              64\n",
            "_vgg_b.block_2.conv1.weight       [128  64   3   3]           73728\n",
            "_vgg_b.block_2.conv1.bias                     [128]             128\n",
            "_vgg_b.block_2.bn1.weight                     [128]             128\n",
            "_vgg_b.block_2.bn1.bias                       [128]             128\n",
            "_vgg_b.block_2.conv2.weight       [128 128   3   3]          147456\n",
            "_vgg_b.block_2.conv2.bias                     [128]             128\n",
            "_vgg_b.block_2.bn2.weight                     [128]             128\n",
            "_vgg_b.block_2.bn2.bias                       [128]             128\n",
            "_vgg_b.block_3.conv1.weight       [256 128   3   3]          294912\n",
            "_vgg_b.block_3.conv1.bias                     [256]             256\n",
            "_vgg_b.block_3.bn1.weight                     [256]             256\n",
            "_vgg_b.block_3.bn1.bias                       [256]             256\n",
            "_vgg_b.block_3.conv2.weight       [256 256   3   3]          589824\n",
            "_vgg_b.block_3.conv2.bias                     [256]             256\n",
            "_vgg_b.block_3.bn2.weight                     [256]             256\n",
            "_vgg_b.block_3.bn2.bias                       [256]             256\n",
            "_vgg_b.block_4.conv1.weight       [512 256   3   3]         1179648\n",
            "_vgg_b.block_4.conv1.bias                     [512]             512\n",
            "_vgg_b.block_4.bn1.weight                     [512]             512\n",
            "_vgg_b.block_4.bn1.bias                       [512]             512\n",
            "_vgg_b.block_4.conv2.weight       [512 512   3   3]         2359296\n",
            "_vgg_b.block_4.conv2.bias                     [512]             512\n",
            "_vgg_b.block_4.bn2.weight                     [512]             512\n",
            "_vgg_b.block_4.bn2.bias                       [512]             512\n"
          ],
          "name": "stdout"
        }
      ]
    },
    {
      "cell_type": "code",
      "metadata": {
        "colab": {
          "base_uri": "https://localhost:8080/"
        },
        "id": "MVkfV4JIuk5A",
        "outputId": "b2e4303d-f028-42b7-e85f-f67a222ace1d"
      },
      "source": [
        "print(f'Total number of parameters in combo model: {n_params:,}')"
      ],
      "execution_count": null,
      "outputs": [
        {
          "output_type": "stream",
          "text": [
            "Total number of parameters in combo model: 14,622,081\n"
          ],
          "name": "stdout"
        }
      ]
    },
    {
      "cell_type": "code",
      "metadata": {
        "id": "rLooe2mBxl0M",
        "colab": {
          "base_uri": "https://localhost:8080/",
          "height": 255
        },
        "outputId": "3e63e97c-27c6-4760-e7b0-d007cd9c82c9"
      },
      "source": [
        "!pip install --upgrade progressbar2"
      ],
      "execution_count": null,
      "outputs": [
        {
          "output_type": "stream",
          "text": [
            "Collecting progressbar2\n",
            "  Downloading https://files.pythonhosted.org/packages/25/8c/d28cd70b6e0b870a2d2a151bdbecf4c678199d31731edb44fc8035d3bb6d/progressbar2-3.53.1-py2.py3-none-any.whl\n",
            "Requirement already satisfied, skipping upgrade: python-utils>=2.3.0 in /usr/local/lib/python3.7/dist-packages (from progressbar2) (2.5.6)\n",
            "Requirement already satisfied, skipping upgrade: six in /usr/local/lib/python3.7/dist-packages (from progressbar2) (1.15.0)\n",
            "Installing collected packages: progressbar2\n",
            "  Found existing installation: progressbar2 3.38.0\n",
            "    Uninstalling progressbar2-3.38.0:\n",
            "      Successfully uninstalled progressbar2-3.38.0\n",
            "Successfully installed progressbar2-3.53.1\n"
          ],
          "name": "stdout"
        },
        {
          "output_type": "display_data",
          "data": {
            "application/vnd.colab-display-data+json": {
              "pip_warning": {
                "packages": [
                  "progressbar"
                ]
              }
            }
          },
          "metadata": {
            "tags": []
          }
        }
      ]
    },
    {
      "cell_type": "code",
      "metadata": {
        "colab": {
          "base_uri": "https://localhost:8080/"
        },
        "id": "Q134yywAu1Dm",
        "outputId": "53a7bb35-e72e-4d0b-c400-608c386b27ca"
      },
      "source": [
        "# Train model\n",
        "train(combo, (loaders_a, loaders_b), optimizer, criterion, epochs=5, dev=dev)"
      ],
      "execution_count": null,
      "outputs": [
        {
          "output_type": "stream",
          "text": [
            "Epoch 1: Training Loss for combo = 0.9425,\n",
            "Epoch 1: Training Accuracy for A = 0.6637,\n",
            "Epoch 1: Training Accuracy for B = 0.6481,\n",
            "Epoch 1: Training Accuracy for combo = 0.6878,\n",
            "Epoch 1: Val Loss for combo = 1.0702,\n",
            "Epoch 1: Val Accuracy for A = 0.5108,\n",
            "Epoch 1: Val Accuracy for B = 0.5054,\n",
            "Epoch 1: Val Accuracy for combo = 0.5081,\n",
            "Epoch 1: Test Loss for combo = 1.0718,\n",
            "Epoch 1: Test Accuracy for A = 0.5029,\n",
            "Epoch 1: Test Accuracy for B = 0.5086,\n",
            "Epoch 1: Test Accuracy for combo = 0.5058,\n",
            "\n",
            "\n",
            "Epoch 2: Training Loss for combo = 0.5821,\n",
            "Epoch 2: Training Accuracy for A = 0.8499,\n",
            "Epoch 2: Training Accuracy for B = 0.8465,\n",
            "Epoch 2: Training Accuracy for combo = 0.8448,\n",
            "Epoch 2: Val Loss for combo = 17.1384,\n",
            "Epoch 2: Val Accuracy for A = 0.5108,\n",
            "Epoch 2: Val Accuracy for B = 0.5054,\n",
            "Epoch 2: Val Accuracy for combo = 0.5081,\n",
            "Epoch 2: Test Loss for combo = 17.2232,\n",
            "Epoch 2: Test Accuracy for A = 0.5029,\n",
            "Epoch 2: Test Accuracy for B = 0.5086,\n",
            "Epoch 2: Test Accuracy for combo = 0.5058,\n",
            "\n",
            "\n",
            "Epoch 3: Training Loss for combo = 0.3915,\n",
            "Epoch 3: Training Accuracy for A = 0.8978,\n",
            "Epoch 3: Training Accuracy for B = 0.9046,\n",
            "Epoch 3: Training Accuracy for combo = 0.8932,\n",
            "Epoch 3: Val Loss for combo = 13.7443,\n",
            "Epoch 3: Val Accuracy for A = 0.5108,\n",
            "Epoch 3: Val Accuracy for B = 0.5054,\n",
            "Epoch 3: Val Accuracy for combo = 0.5081,\n",
            "Epoch 3: Test Loss for combo = 13.8149,\n",
            "Epoch 3: Test Accuracy for A = 0.5029,\n",
            "Epoch 3: Test Accuracy for B = 0.5086,\n",
            "Epoch 3: Test Accuracy for combo = 0.5058,\n",
            "\n",
            "\n",
            "Epoch 4: Training Loss for combo = 0.2506,\n",
            "Epoch 4: Training Accuracy for A = 0.9463,\n",
            "Epoch 4: Training Accuracy for B = 0.9406,\n",
            "Epoch 4: Training Accuracy for combo = 0.9305,\n",
            "Epoch 4: Val Loss for combo = 14.5479,\n",
            "Epoch 4: Val Accuracy for A = 0.5108,\n",
            "Epoch 4: Val Accuracy for B = 0.5054,\n",
            "Epoch 4: Val Accuracy for combo = 0.5081,\n",
            "Epoch 4: Test Loss for combo = 14.6386,\n",
            "Epoch 4: Test Accuracy for A = 0.5029,\n",
            "Epoch 4: Test Accuracy for B = 0.5086,\n",
            "Epoch 4: Test Accuracy for combo = 0.5058,\n",
            "\n",
            "\n",
            "Epoch 5: Training Loss for combo = 0.2184,\n",
            "Epoch 5: Training Accuracy for A = 0.9562,\n",
            "Epoch 5: Training Accuracy for B = 0.9507,\n",
            "Epoch 5: Training Accuracy for combo = 0.9316,\n",
            "Epoch 5: Val Loss for combo = 13.6597,\n",
            "Epoch 5: Val Accuracy for A = 0.8720,\n",
            "Epoch 5: Val Accuracy for B = 0.8879,\n",
            "Epoch 5: Val Accuracy for combo = 0.5081,\n",
            "Epoch 5: Test Loss for combo = 13.7224,\n",
            "Epoch 5: Test Accuracy for A = 0.8834,\n",
            "Epoch 5: Test Accuracy for B = 0.8768,\n",
            "Epoch 5: Test Accuracy for combo = 0.5058,\n",
            "\n",
            "\n"
          ],
          "name": "stdout"
        }
      ]
    },
    {
      "cell_type": "markdown",
      "metadata": {
        "id": "-87nXBTaSsZy"
      },
      "source": [
        "CONTROLLARE TRAINING. PROVARE LAMBDA (SEMPRE POSITIVO, MAGARI TRA 0 E 1). PROVARE SIA SUM, AVG, MAX. FARE TABELLA CON I RISULTATI. PROVARE CAMBIARE OPTIMIZER, LEARNING RATE. AGGIUNGERE ACCURACY MODELLO COMBINATO."
      ]
    },
    {
      "cell_type": "markdown",
      "metadata": {
        "id": "spwAs7INnJyG"
      },
      "source": [
        "CASO SUM: TEST CON DIVERSI OPTIMIZER, LEARNING RATE E LAMBDA"
      ]
    },
    {
      "cell_type": "markdown",
      "metadata": {
        "id": "6xRUoYdFnxa2"
      },
      "source": [
        "learning rate = 0.001, SGD e lambda=0.5"
      ]
    },
    {
      "cell_type": "code",
      "metadata": {
        "id": "wtawpYsqm7xz"
      },
      "source": [
        "model1 = VGG16((1,32,32),batch_norm=True)\n",
        "model2 = VGG16((1,32,32),batch_norm=True,classifier=model1.classifier)\n",
        "combo = TiedVGG16(model1,model2,0, SUM)"
      ],
      "execution_count": null,
      "outputs": []
    },
    {
      "cell_type": "code",
      "metadata": {
        "id": "8njsFCEtnEs8"
      },
      "source": [
        "optimizer = torch.optim.SGD(combo.parameters(), lr = 0.001)\n",
        "# Define a loss\n",
        "criterion = CombinedLoss(nn.BCEWithLogitsLoss(),nn.BCEWithLogitsLoss(),nn.BCEWithLogitsLoss(),_lambda = 0.5)\n",
        "n_params = 0"
      ],
      "execution_count": null,
      "outputs": []
    },
    {
      "cell_type": "code",
      "metadata": {
        "colab": {
          "base_uri": "https://localhost:8080/"
        },
        "id": "s70CIkXtnVUA",
        "outputId": "1de4040e-0bb1-4530-e6b2-e818bbaa6ee6"
      },
      "source": [
        "# Train model\n",
        "train(combo, (loaders_a, loaders_b), optimizer, criterion, epochs=5, dev=dev)"
      ],
      "execution_count": null,
      "outputs": [
        {
          "output_type": "stream",
          "text": [
            "Epoch 1: Training Loss for combo = 0.8681,\n",
            "Epoch 1: Training Accuracy for A = 0.5594,\n",
            "Epoch 1: Training Accuracy for B = 0.5272,\n",
            "Epoch 1: Training Accuracy for combo = 0.5132,\n",
            "Epoch 1: Val Loss for combo = 0.9150,\n",
            "Epoch 1: Val Accuracy for A = 0.5108,\n",
            "Epoch 1: Val Accuracy for B = 0.5054,\n",
            "Epoch 1: Val Accuracy for combo = 0.5081,\n",
            "Epoch 1: Test Loss for combo = 0.9160,\n",
            "Epoch 1: Test Accuracy for A = 0.5029,\n",
            "Epoch 1: Test Accuracy for B = 0.5086,\n",
            "Epoch 1: Test Accuracy for combo = 0.5058,\n",
            "\n",
            "\n",
            "Epoch 2: Training Loss for combo = 0.8482,\n",
            "Epoch 2: Training Accuracy for A = 0.5768,\n",
            "Epoch 2: Training Accuracy for B = 0.5768,\n",
            "Epoch 2: Training Accuracy for combo = 0.5831,\n",
            "Epoch 2: Val Loss for combo = 0.9080,\n",
            "Epoch 2: Val Accuracy for A = 0.5108,\n",
            "Epoch 2: Val Accuracy for B = 0.5054,\n",
            "Epoch 2: Val Accuracy for combo = 0.5081,\n",
            "Epoch 2: Test Loss for combo = 0.9091,\n",
            "Epoch 2: Test Accuracy for A = 0.5029,\n",
            "Epoch 2: Test Accuracy for B = 0.5086,\n",
            "Epoch 2: Test Accuracy for combo = 0.5058,\n",
            "\n",
            "\n",
            "Epoch 3: Training Loss for combo = 0.8298,\n",
            "Epoch 3: Training Accuracy for A = 0.6267,\n",
            "Epoch 3: Training Accuracy for B = 0.6151,\n",
            "Epoch 3: Training Accuracy for combo = 0.6360,\n",
            "Epoch 3: Val Loss for combo = 0.8846,\n",
            "Epoch 3: Val Accuracy for A = 0.5108,\n",
            "Epoch 3: Val Accuracy for B = 0.5054,\n",
            "Epoch 3: Val Accuracy for combo = 0.5081,\n",
            "Epoch 3: Test Loss for combo = 0.8860,\n",
            "Epoch 3: Test Accuracy for A = 0.5029,\n",
            "Epoch 3: Test Accuracy for B = 0.5086,\n",
            "Epoch 3: Test Accuracy for combo = 0.5058,\n",
            "\n",
            "\n",
            "Epoch 4: Training Loss for combo = 0.8142,\n",
            "Epoch 4: Training Accuracy for A = 0.6393,\n",
            "Epoch 4: Training Accuracy for B = 0.6369,\n",
            "Epoch 4: Training Accuracy for combo = 0.6737,\n",
            "Epoch 4: Val Loss for combo = 0.8769,\n",
            "Epoch 4: Val Accuracy for A = 0.5108,\n",
            "Epoch 4: Val Accuracy for B = 0.5054,\n",
            "Epoch 4: Val Accuracy for combo = 0.5081,\n",
            "Epoch 4: Test Loss for combo = 0.8784,\n",
            "Epoch 4: Test Accuracy for A = 0.5029,\n",
            "Epoch 4: Test Accuracy for B = 0.5086,\n",
            "Epoch 4: Test Accuracy for combo = 0.5058,\n",
            "\n",
            "\n",
            "Epoch 5: Training Loss for combo = 0.7967,\n",
            "Epoch 5: Training Accuracy for A = 0.6705,\n",
            "Epoch 5: Training Accuracy for B = 0.6661,\n",
            "Epoch 5: Training Accuracy for combo = 0.7058,\n",
            "Epoch 5: Val Loss for combo = 0.8227,\n",
            "Epoch 5: Val Accuracy for A = 0.6684,\n",
            "Epoch 5: Val Accuracy for B = 0.6998,\n",
            "Epoch 5: Val Accuracy for combo = 0.4919,\n",
            "Epoch 5: Test Loss for combo = 0.8205,\n",
            "Epoch 5: Test Accuracy for A = 0.7139,\n",
            "Epoch 5: Test Accuracy for B = 0.6498,\n",
            "Epoch 5: Test Accuracy for combo = 0.4942,\n",
            "\n",
            "\n"
          ],
          "name": "stdout"
        }
      ]
    },
    {
      "cell_type": "markdown",
      "metadata": {
        "id": "SA0c3TaAphdM"
      },
      "source": [
        "learning rate = 0.0001, Adam e lambda=0.7 e 7 epoche\n",
        "\n"
      ]
    },
    {
      "cell_type": "code",
      "metadata": {
        "id": "_r5Xoz7oprbO"
      },
      "source": [
        "model1 = VGG16((1,32,32),batch_norm=True)\n",
        "model2 = VGG16((1,32,32),batch_norm=True,classifier=model1.classifier)\n",
        "combo = TiedVGG16(model1,model2,0, SUM)"
      ],
      "execution_count": null,
      "outputs": []
    },
    {
      "cell_type": "code",
      "metadata": {
        "id": "TmuSFJIpps3e"
      },
      "source": [
        "optimizer = torch.optim.Adam(combo.parameters(), lr = 0.0001)\n",
        "# Define a loss\n",
        "criterion = CombinedLoss(nn.BCEWithLogitsLoss(),nn.BCEWithLogitsLoss(),nn.BCEWithLogitsLoss(),_lambda = 0.7)\n",
        "n_params = 0"
      ],
      "execution_count": null,
      "outputs": []
    },
    {
      "cell_type": "code",
      "metadata": {
        "colab": {
          "base_uri": "https://localhost:8080/"
        },
        "id": "R-mrwVfSpvgl",
        "outputId": "e0cb2bc7-8986-4cd2-dca0-d6faee7802be"
      },
      "source": [
        "# Train model\n",
        "train(combo, (loaders_a, loaders_b), optimizer, criterion, epochs=7, dev=dev)"
      ],
      "execution_count": null,
      "outputs": [
        {
          "output_type": "stream",
          "text": [
            "Epoch 1: Training Loss for combo = 0.5693,\n",
            "Epoch 1: Training Accuracy for A = 0.7884,\n",
            "Epoch 1: Training Accuracy for B = 0.8013,\n",
            "Epoch 1: Training Accuracy for combo = 0.8145,\n",
            "Epoch 1: Val Loss for combo = 5.5858,\n",
            "Epoch 1: Val Accuracy for A = 0.5108,\n",
            "Epoch 1: Val Accuracy for B = 0.5054,\n",
            "Epoch 1: Val Accuracy for combo = 0.5081,\n",
            "Epoch 1: Test Loss for combo = 5.6102,\n",
            "Epoch 1: Test Accuracy for A = 0.5029,\n",
            "Epoch 1: Test Accuracy for B = 0.5086,\n",
            "Epoch 1: Test Accuracy for combo = 0.5058,\n",
            "\n",
            "\n",
            "Epoch 2: Training Loss for combo = 0.2154,\n",
            "Epoch 2: Training Accuracy for A = 0.9443,\n",
            "Epoch 2: Training Accuracy for B = 0.9406,\n",
            "Epoch 2: Training Accuracy for combo = 0.9360,\n",
            "Epoch 2: Val Loss for combo = 8.6365,\n",
            "Epoch 2: Val Accuracy for A = 0.5108,\n",
            "Epoch 2: Val Accuracy for B = 0.5054,\n",
            "Epoch 2: Val Accuracy for combo = 0.5081,\n",
            "Epoch 2: Test Loss for combo = 8.6754,\n",
            "Epoch 2: Test Accuracy for A = 0.5029,\n",
            "Epoch 2: Test Accuracy for B = 0.5086,\n",
            "Epoch 2: Test Accuracy for combo = 0.5058,\n",
            "\n",
            "\n",
            "Epoch 3: Training Loss for combo = 0.1323,\n",
            "Epoch 3: Training Accuracy for A = 0.9688,\n",
            "Epoch 3: Training Accuracy for B = 0.9660,\n",
            "Epoch 3: Training Accuracy for combo = 0.9596,\n",
            "Epoch 3: Val Loss for combo = 6.7297,\n",
            "Epoch 3: Val Accuracy for A = 0.5108,\n",
            "Epoch 3: Val Accuracy for B = 0.5054,\n",
            "Epoch 3: Val Accuracy for combo = 0.5081,\n",
            "Epoch 3: Test Loss for combo = 6.7486,\n",
            "Epoch 3: Test Accuracy for A = 0.5029,\n",
            "Epoch 3: Test Accuracy for B = 0.5086,\n",
            "Epoch 3: Test Accuracy for combo = 0.5058,\n",
            "\n",
            "\n",
            "Epoch 4: Training Loss for combo = 0.0974,\n",
            "Epoch 4: Training Accuracy for A = 0.9752,\n",
            "Epoch 4: Training Accuracy for B = 0.9803,\n",
            "Epoch 4: Training Accuracy for combo = 0.9638,\n",
            "Epoch 4: Val Loss for combo = 5.3319,\n",
            "Epoch 4: Val Accuracy for A = 0.8344,\n",
            "Epoch 4: Val Accuracy for B = 0.5587,\n",
            "Epoch 4: Val Accuracy for combo = 0.5081,\n",
            "Epoch 4: Test Loss for combo = 5.4244,\n",
            "Epoch 4: Test Accuracy for A = 0.8150,\n",
            "Epoch 4: Test Accuracy for B = 0.5437,\n",
            "Epoch 4: Test Accuracy for combo = 0.5058,\n",
            "\n",
            "\n",
            "Epoch 5: Training Loss for combo = 0.0709,\n",
            "Epoch 5: Training Accuracy for A = 0.9830,\n",
            "Epoch 5: Training Accuracy for B = 0.9868,\n",
            "Epoch 5: Training Accuracy for combo = 0.9732,\n",
            "Epoch 5: Val Loss for combo = 5.4147,\n",
            "Epoch 5: Val Accuracy for A = 0.9540,\n",
            "Epoch 5: Val Accuracy for B = 0.9561,\n",
            "Epoch 5: Val Accuracy for combo = 0.5081,\n",
            "Epoch 5: Test Loss for combo = 5.4233,\n",
            "Epoch 5: Test Accuracy for A = 0.9660,\n",
            "Epoch 5: Test Accuracy for B = 0.9594,\n",
            "Epoch 5: Test Accuracy for combo = 0.5058,\n",
            "\n",
            "\n",
            "Epoch 6: Training Loss for combo = 0.0571,\n",
            "Epoch 6: Training Accuracy for A = 0.9898,\n",
            "Epoch 6: Training Accuracy for B = 0.9851,\n",
            "Epoch 6: Training Accuracy for combo = 0.9806,\n",
            "Epoch 6: Val Loss for combo = 4.5787,\n",
            "Epoch 6: Val Accuracy for A = 0.9647,\n",
            "Epoch 6: Val Accuracy for B = 0.9472,\n",
            "Epoch 6: Val Accuracy for combo = 0.5081,\n",
            "Epoch 6: Test Loss for combo = 4.6130,\n",
            "Epoch 6: Test Accuracy for A = 0.9773,\n",
            "Epoch 6: Test Accuracy for B = 0.9287,\n",
            "Epoch 6: Test Accuracy for combo = 0.5058,\n",
            "\n",
            "\n",
            "Epoch 7: Training Loss for combo = 0.0347,\n",
            "Epoch 7: Training Accuracy for A = 0.9932,\n",
            "Epoch 7: Training Accuracy for B = 0.9925,\n",
            "Epoch 7: Training Accuracy for combo = 0.9866,\n",
            "Epoch 7: Val Loss for combo = 5.7228,\n",
            "Epoch 7: Val Accuracy for A = 0.9337,\n",
            "Epoch 7: Val Accuracy for B = 0.8696,\n",
            "Epoch 7: Val Accuracy for combo = 0.5081,\n",
            "Epoch 7: Test Loss for combo = 5.6996,\n",
            "Epoch 7: Test Accuracy for A = 0.9518,\n",
            "Epoch 7: Test Accuracy for B = 0.8793,\n",
            "Epoch 7: Test Accuracy for combo = 0.5058,\n",
            "\n",
            "\n"
          ],
          "name": "stdout"
        }
      ]
    },
    {
      "cell_type": "markdown",
      "metadata": {
        "id": "S40NOWxjq4Ik"
      },
      "source": [
        "learning rate = 0.001, Adam e lambda=0.2 e 7 epoche\n",
        "\n"
      ]
    },
    {
      "cell_type": "code",
      "metadata": {
        "id": "TYTcbm1Zq84W"
      },
      "source": [
        "model1 = VGG16((1,32,32),batch_norm=True)\n",
        "model2 = VGG16((1,32,32),batch_norm=True,classifier=model1.classifier)\n",
        "combo = TiedVGG16(model1,model2,0, SUM)"
      ],
      "execution_count": null,
      "outputs": []
    },
    {
      "cell_type": "code",
      "metadata": {
        "id": "lR1yzwlOq_I4"
      },
      "source": [
        "optimizer = torch.optim.Adam(combo.parameters(), lr = 0.001)\n",
        "# Define a loss\n",
        "criterion = CombinedLoss(nn.BCEWithLogitsLoss(),nn.BCEWithLogitsLoss(),nn.BCEWithLogitsLoss(),_lambda = 0.2)\n",
        "n_params = 0"
      ],
      "execution_count": null,
      "outputs": []
    },
    {
      "cell_type": "code",
      "metadata": {
        "colab": {
          "base_uri": "https://localhost:8080/"
        },
        "id": "ehuI1zQIrAxr",
        "outputId": "ff240ec6-7c44-4beb-b41d-950a19bd97a7"
      },
      "source": [
        "# Train model\n",
        "train(combo, (loaders_a, loaders_b), optimizer, criterion, epochs=7, dev=dev)"
      ],
      "execution_count": null,
      "outputs": [
        {
          "output_type": "stream",
          "text": [
            "Epoch 1: Training Loss for combo = 0.9494,\n",
            "Epoch 1: Training Accuracy for A = 0.6046,\n",
            "Epoch 1: Training Accuracy for B = 0.6253,\n",
            "Epoch 1: Training Accuracy for combo = 0.6262,\n",
            "Epoch 1: Val Loss for combo = 1.0819,\n",
            "Epoch 1: Val Accuracy for A = 0.5108,\n",
            "Epoch 1: Val Accuracy for B = 0.5054,\n",
            "Epoch 1: Val Accuracy for combo = 0.4919,\n",
            "Epoch 1: Test Loss for combo = 1.0837,\n",
            "Epoch 1: Test Accuracy for A = 0.5029,\n",
            "Epoch 1: Test Accuracy for B = 0.5086,\n",
            "Epoch 1: Test Accuracy for combo = 0.4942,\n",
            "\n",
            "\n",
            "Epoch 2: Training Loss for combo = 0.3252,\n",
            "Epoch 2: Training Accuracy for A = 0.8978,\n",
            "Epoch 2: Training Accuracy for B = 0.8838,\n",
            "Epoch 2: Training Accuracy for combo = 0.8663,\n",
            "Epoch 2: Val Loss for combo = 3.0149,\n",
            "Epoch 2: Val Accuracy for A = 0.5108,\n",
            "Epoch 2: Val Accuracy for B = 0.5054,\n",
            "Epoch 2: Val Accuracy for combo = 0.4919,\n",
            "Epoch 2: Test Loss for combo = 3.0238,\n",
            "Epoch 2: Test Accuracy for A = 0.5029,\n",
            "Epoch 2: Test Accuracy for B = 0.5086,\n",
            "Epoch 2: Test Accuracy for combo = 0.4942,\n",
            "\n",
            "\n",
            "Epoch 3: Training Loss for combo = 0.2249,\n",
            "Epoch 3: Training Accuracy for A = 0.9283,\n",
            "Epoch 3: Training Accuracy for B = 0.9270,\n",
            "Epoch 3: Training Accuracy for combo = 0.9074,\n",
            "Epoch 3: Val Loss for combo = 3.3566,\n",
            "Epoch 3: Val Accuracy for A = 0.4892,\n",
            "Epoch 3: Val Accuracy for B = 0.4948,\n",
            "Epoch 3: Val Accuracy for combo = 0.5081,\n",
            "Epoch 3: Test Loss for combo = 3.3695,\n",
            "Epoch 3: Test Accuracy for A = 0.4971,\n",
            "Epoch 3: Test Accuracy for B = 0.4914,\n",
            "Epoch 3: Test Accuracy for combo = 0.5058,\n",
            "\n",
            "\n",
            "Epoch 4: Training Loss for combo = 0.1944,\n",
            "Epoch 4: Training Accuracy for A = 0.9314,\n",
            "Epoch 4: Training Accuracy for B = 0.9385,\n",
            "Epoch 4: Training Accuracy for combo = 0.9226,\n",
            "Epoch 4: Val Loss for combo = 1.0829,\n",
            "Epoch 4: Val Accuracy for A = 0.8683,\n",
            "Epoch 4: Val Accuracy for B = 0.5065,\n",
            "Epoch 4: Val Accuracy for combo = 0.5081,\n",
            "Epoch 4: Test Loss for combo = 0.9942,\n",
            "Epoch 4: Test Accuracy for A = 0.8777,\n",
            "Epoch 4: Test Accuracy for B = 0.5148,\n",
            "Epoch 4: Test Accuracy for combo = 0.5058,\n",
            "\n",
            "\n",
            "Epoch 5: Training Loss for combo = 0.1518,\n",
            "Epoch 5: Training Accuracy for A = 0.9589,\n",
            "Epoch 5: Training Accuracy for B = 0.9433,\n",
            "Epoch 5: Training Accuracy for combo = 0.9229,\n",
            "Epoch 5: Val Loss for combo = 3.3449,\n",
            "Epoch 5: Val Accuracy for A = 0.5110,\n",
            "Epoch 5: Val Accuracy for B = 0.5057,\n",
            "Epoch 5: Val Accuracy for combo = 0.5081,\n",
            "Epoch 5: Test Loss for combo = 3.2740,\n",
            "Epoch 5: Test Accuracy for A = 0.5033,\n",
            "Epoch 5: Test Accuracy for B = 0.5086,\n",
            "Epoch 5: Test Accuracy for combo = 0.5058,\n",
            "\n",
            "\n",
            "Epoch 6: Training Loss for combo = 0.1381,\n",
            "Epoch 6: Training Accuracy for A = 0.9620,\n",
            "Epoch 6: Training Accuracy for B = 0.9579,\n",
            "Epoch 6: Training Accuracy for combo = 0.9348,\n",
            "Epoch 6: Val Loss for combo = 2.7826,\n",
            "Epoch 6: Val Accuracy for A = 0.5958,\n",
            "Epoch 6: Val Accuracy for B = 0.5054,\n",
            "Epoch 6: Val Accuracy for combo = 0.5081,\n",
            "Epoch 6: Test Loss for combo = 2.5407,\n",
            "Epoch 6: Test Accuracy for A = 0.6561,\n",
            "Epoch 6: Test Accuracy for B = 0.5086,\n",
            "Epoch 6: Test Accuracy for combo = 0.5058,\n",
            "\n",
            "\n",
            "Epoch 7: Training Loss for combo = 0.1252,\n",
            "Epoch 7: Training Accuracy for A = 0.9613,\n",
            "Epoch 7: Training Accuracy for B = 0.9626,\n",
            "Epoch 7: Training Accuracy for combo = 0.9383,\n",
            "Epoch 7: Val Loss for combo = 2.4706,\n",
            "Epoch 7: Val Accuracy for A = 0.5694,\n",
            "Epoch 7: Val Accuracy for B = 0.5497,\n",
            "Epoch 7: Val Accuracy for combo = 0.5081,\n",
            "Epoch 7: Test Loss for combo = 2.3941,\n",
            "Epoch 7: Test Accuracy for A = 0.6107,\n",
            "Epoch 7: Test Accuracy for B = 0.5396,\n",
            "Epoch 7: Test Accuracy for combo = 0.5058,\n",
            "\n",
            "\n"
          ],
          "name": "stdout"
        }
      ]
    },
    {
      "cell_type": "markdown",
      "metadata": {
        "id": "-C1BN4Tenev3"
      },
      "source": [
        "CASO AVG: TEST CON DIVERSI OPTIMIZER, LEARNING RATE E LAMBDA"
      ]
    },
    {
      "cell_type": "markdown",
      "metadata": {
        "id": "M__Ng6pzv7d3"
      },
      "source": [
        "learning rate = 0.001, SGD e lambda=0.5"
      ]
    },
    {
      "cell_type": "code",
      "metadata": {
        "id": "e_NBhTQdm8Ny"
      },
      "source": [
        "model1 = VGG16((1,32,32),batch_norm=True)\n",
        "model2 = VGG16((1,32,32),batch_norm=True,classifier=model1.classifier)\n",
        "combo = TiedVGG16(model1,model2,0, AVG)"
      ],
      "execution_count": null,
      "outputs": []
    },
    {
      "cell_type": "code",
      "metadata": {
        "id": "IA5SwaURnE00"
      },
      "source": [
        "optimizer = torch.optim.SGD(combo.parameters(), lr = 0.001)\n",
        "# Define a loss\n",
        "criterion = CombinedLoss(nn.BCEWithLogitsLoss(),nn.BCEWithLogitsLoss(),nn.BCEWithLogitsLoss(),_lambda = 0.5)\n",
        "n_params = 0"
      ],
      "execution_count": null,
      "outputs": []
    },
    {
      "cell_type": "code",
      "metadata": {
        "colab": {
          "base_uri": "https://localhost:8080/"
        },
        "id": "rRPaUxIDnYDv",
        "outputId": "84aace89-2e97-44e5-849f-339ad2363277"
      },
      "source": [
        "# Train model\n",
        "train(combo, (loaders_a, loaders_b), optimizer, criterion, epochs=5, dev=dev)"
      ],
      "execution_count": null,
      "outputs": [
        {
          "output_type": "stream",
          "text": [
            "Epoch 1: Training Loss for combo = 0.8681,\n",
            "Epoch 1: Training Accuracy for A = 0.5082,\n",
            "Epoch 1: Training Accuracy for B = 0.5377,\n",
            "Epoch 1: Training Accuracy for combo = 0.5105,\n",
            "Epoch 1: Val Loss for combo = 0.8710,\n",
            "Epoch 1: Val Accuracy for A = 0.5108,\n",
            "Epoch 1: Val Accuracy for B = 0.5054,\n",
            "Epoch 1: Val Accuracy for combo = 0.5081,\n",
            "Epoch 1: Test Loss for combo = 0.8713,\n",
            "Epoch 1: Test Accuracy for A = 0.5029,\n",
            "Epoch 1: Test Accuracy for B = 0.5086,\n",
            "Epoch 1: Test Accuracy for combo = 0.5058,\n",
            "\n",
            "\n",
            "Epoch 2: Training Loss for combo = 0.8540,\n",
            "Epoch 2: Training Accuracy for A = 0.5554,\n",
            "Epoch 2: Training Accuracy for B = 0.5635,\n",
            "Epoch 2: Training Accuracy for combo = 0.5520,\n",
            "Epoch 2: Val Loss for combo = 1.1069,\n",
            "Epoch 2: Val Accuracy for A = 0.5108,\n",
            "Epoch 2: Val Accuracy for B = 0.5054,\n",
            "Epoch 2: Val Accuracy for combo = 0.5081,\n",
            "Epoch 2: Test Loss for combo = 1.1092,\n",
            "Epoch 2: Test Accuracy for A = 0.5029,\n",
            "Epoch 2: Test Accuracy for B = 0.5086,\n",
            "Epoch 2: Test Accuracy for combo = 0.5058,\n",
            "\n",
            "\n",
            "Epoch 3: Training Loss for combo = 0.8364,\n",
            "Epoch 3: Training Accuracy for A = 0.6022,\n",
            "Epoch 3: Training Accuracy for B = 0.6206,\n",
            "Epoch 3: Training Accuracy for combo = 0.5907,\n",
            "Epoch 3: Val Loss for combo = 1.1419,\n",
            "Epoch 3: Val Accuracy for A = 0.5108,\n",
            "Epoch 3: Val Accuracy for B = 0.5054,\n",
            "Epoch 3: Val Accuracy for combo = 0.5081,\n",
            "Epoch 3: Test Loss for combo = 1.1443,\n",
            "Epoch 3: Test Accuracy for A = 0.5029,\n",
            "Epoch 3: Test Accuracy for B = 0.5086,\n",
            "Epoch 3: Test Accuracy for combo = 0.5058,\n",
            "\n",
            "\n",
            "Epoch 4: Training Loss for combo = 0.8202,\n",
            "Epoch 4: Training Accuracy for A = 0.6457,\n",
            "Epoch 4: Training Accuracy for B = 0.6491,\n",
            "Epoch 4: Training Accuracy for combo = 0.6191,\n",
            "Epoch 4: Val Loss for combo = 1.0507,\n",
            "Epoch 4: Val Accuracy for A = 0.5108,\n",
            "Epoch 4: Val Accuracy for B = 0.5054,\n",
            "Epoch 4: Val Accuracy for combo = 0.5081,\n",
            "Epoch 4: Test Loss for combo = 1.0517,\n",
            "Epoch 4: Test Accuracy for A = 0.5029,\n",
            "Epoch 4: Test Accuracy for B = 0.5086,\n",
            "Epoch 4: Test Accuracy for combo = 0.5058,\n",
            "\n",
            "\n",
            "Epoch 5: Training Loss for combo = 0.8038,\n",
            "Epoch 5: Training Accuracy for A = 0.6804,\n",
            "Epoch 5: Training Accuracy for B = 0.6899,\n",
            "Epoch 5: Training Accuracy for combo = 0.6489,\n",
            "Epoch 5: Val Loss for combo = 1.0129,\n",
            "Epoch 5: Val Accuracy for A = 0.7224,\n",
            "Epoch 5: Val Accuracy for B = 0.6843,\n",
            "Epoch 5: Val Accuracy for combo = 0.5081,\n",
            "Epoch 5: Test Loss for combo = 1.0146,\n",
            "Epoch 5: Test Accuracy for A = 0.7596,\n",
            "Epoch 5: Test Accuracy for B = 0.6434,\n",
            "Epoch 5: Test Accuracy for combo = 0.5058,\n",
            "\n",
            "\n"
          ],
          "name": "stdout"
        }
      ]
    },
    {
      "cell_type": "markdown",
      "metadata": {
        "id": "ZrfswctFwCgx"
      },
      "source": [
        "learning rate = 0.0001, Adam e lambda=0.7 e 7 epoche\n",
        "\n"
      ]
    },
    {
      "cell_type": "code",
      "metadata": {
        "id": "w8Oqr_ijwF92"
      },
      "source": [
        "model1 = VGG16((1,32,32),batch_norm=True)\n",
        "model2 = VGG16((1,32,32),batch_norm=True,classifier=model1.classifier)\n",
        "combo = TiedVGG16(model1,model2,0, AVG)"
      ],
      "execution_count": null,
      "outputs": []
    },
    {
      "cell_type": "code",
      "metadata": {
        "id": "McKi6aoOwIH0"
      },
      "source": [
        "optimizer = torch.optim.Adam(combo.parameters(), lr = 0.0001)\n",
        "# Define a loss\n",
        "criterion = CombinedLoss(nn.BCEWithLogitsLoss(),nn.BCEWithLogitsLoss(),nn.BCEWithLogitsLoss(),_lambda = 0.7)\n",
        "n_params = 0"
      ],
      "execution_count": null,
      "outputs": []
    },
    {
      "cell_type": "code",
      "metadata": {
        "colab": {
          "base_uri": "https://localhost:8080/"
        },
        "id": "7elanCH9wJ2V",
        "outputId": "a6aadf06-371e-4a27-9564-c6080095903c"
      },
      "source": [
        "# Train model\n",
        "train(combo, (loaders_a, loaders_b), optimizer, criterion, epochs=7, dev=dev)"
      ],
      "execution_count": null,
      "outputs": [
        {
          "output_type": "stream",
          "text": [
            "Epoch 1: Training Loss for combo = 0.5401,\n",
            "Epoch 1: Training Accuracy for A = 0.8149,\n",
            "Epoch 1: Training Accuracy for B = 0.7993,\n",
            "Epoch 1: Training Accuracy for combo = 0.8050,\n",
            "Epoch 1: Val Loss for combo = 2.9940,\n",
            "Epoch 1: Val Accuracy for A = 0.5108,\n",
            "Epoch 1: Val Accuracy for B = 0.5054,\n",
            "Epoch 1: Val Accuracy for combo = 0.4919,\n",
            "Epoch 1: Test Loss for combo = 2.9929,\n",
            "Epoch 1: Test Accuracy for A = 0.5029,\n",
            "Epoch 1: Test Accuracy for B = 0.5086,\n",
            "Epoch 1: Test Accuracy for combo = 0.4942,\n",
            "\n",
            "\n",
            "Epoch 2: Training Loss for combo = 0.2115,\n",
            "Epoch 2: Training Accuracy for A = 0.9429,\n",
            "Epoch 2: Training Accuracy for B = 0.9446,\n",
            "Epoch 2: Training Accuracy for combo = 0.9348,\n",
            "Epoch 2: Val Loss for combo = 23.1160,\n",
            "Epoch 2: Val Accuracy for A = 0.5108,\n",
            "Epoch 2: Val Accuracy for B = 0.5054,\n",
            "Epoch 2: Val Accuracy for combo = 0.4919,\n",
            "Epoch 2: Test Loss for combo = 23.0310,\n",
            "Epoch 2: Test Accuracy for A = 0.5029,\n",
            "Epoch 2: Test Accuracy for B = 0.5086,\n",
            "Epoch 2: Test Accuracy for combo = 0.4942,\n",
            "\n",
            "\n",
            "Epoch 3: Training Loss for combo = 0.1241,\n",
            "Epoch 3: Training Accuracy for A = 0.9735,\n",
            "Epoch 3: Training Accuracy for B = 0.9715,\n",
            "Epoch 3: Training Accuracy for combo = 0.9548,\n",
            "Epoch 3: Val Loss for combo = 18.7435,\n",
            "Epoch 3: Val Accuracy for A = 0.5108,\n",
            "Epoch 3: Val Accuracy for B = 0.5054,\n",
            "Epoch 3: Val Accuracy for combo = 0.4919,\n",
            "Epoch 3: Test Loss for combo = 18.6627,\n",
            "Epoch 3: Test Accuracy for A = 0.5029,\n",
            "Epoch 3: Test Accuracy for B = 0.5086,\n",
            "Epoch 3: Test Accuracy for combo = 0.4942,\n",
            "\n",
            "\n",
            "Epoch 4: Training Loss for combo = 0.0841,\n",
            "Epoch 4: Training Accuracy for A = 0.9786,\n",
            "Epoch 4: Training Accuracy for B = 0.9823,\n",
            "Epoch 4: Training Accuracy for combo = 0.9676,\n",
            "Epoch 4: Val Loss for combo = 4.6319,\n",
            "Epoch 4: Val Accuracy for A = 0.8855,\n",
            "Epoch 4: Val Accuracy for B = 0.5654,\n",
            "Epoch 4: Val Accuracy for combo = 0.4919,\n",
            "Epoch 4: Test Loss for combo = 4.5933,\n",
            "Epoch 4: Test Accuracy for A = 0.9295,\n",
            "Epoch 4: Test Accuracy for B = 0.5617,\n",
            "Epoch 4: Test Accuracy for combo = 0.4942,\n",
            "\n",
            "\n",
            "Epoch 5: Training Loss for combo = 0.0680,\n",
            "Epoch 5: Training Accuracy for A = 0.9813,\n",
            "Epoch 5: Training Accuracy for B = 0.9874,\n",
            "Epoch 5: Training Accuracy for combo = 0.9764,\n",
            "Epoch 5: Val Loss for combo = 12.5208,\n",
            "Epoch 5: Val Accuracy for A = 0.9647,\n",
            "Epoch 5: Val Accuracy for B = 0.9360,\n",
            "Epoch 5: Val Accuracy for combo = 0.4919,\n",
            "Epoch 5: Test Loss for combo = 12.4621,\n",
            "Epoch 5: Test Accuracy for A = 0.9807,\n",
            "Epoch 5: Test Accuracy for B = 0.9189,\n",
            "Epoch 5: Test Accuracy for combo = 0.4942,\n",
            "\n",
            "\n",
            "Epoch 6: Training Loss for combo = 0.0490,\n",
            "Epoch 6: Training Accuracy for A = 0.9908,\n",
            "Epoch 6: Training Accuracy for B = 0.9888,\n",
            "Epoch 6: Training Accuracy for combo = 0.9798,\n",
            "Epoch 6: Val Loss for combo = 7.9107,\n",
            "Epoch 6: Val Accuracy for A = 0.8697,\n",
            "Epoch 6: Val Accuracy for B = 0.9694,\n",
            "Epoch 6: Val Accuracy for combo = 0.4919,\n",
            "Epoch 6: Test Loss for combo = 7.8872,\n",
            "Epoch 6: Test Accuracy for A = 0.8686,\n",
            "Epoch 6: Test Accuracy for B = 0.9686,\n",
            "Epoch 6: Test Accuracy for combo = 0.4942,\n",
            "\n",
            "\n",
            "Epoch 7: Training Loss for combo = 0.0455,\n",
            "Epoch 7: Training Accuracy for A = 0.9929,\n",
            "Epoch 7: Training Accuracy for B = 0.9888,\n",
            "Epoch 7: Training Accuracy for combo = 0.9811,\n",
            "Epoch 7: Val Loss for combo = 13.0588,\n",
            "Epoch 7: Val Accuracy for A = 0.9617,\n",
            "Epoch 7: Val Accuracy for B = 0.8433,\n",
            "Epoch 7: Val Accuracy for combo = 0.4919,\n",
            "Epoch 7: Test Loss for combo = 12.9783,\n",
            "Epoch 7: Test Accuracy for A = 0.9752,\n",
            "Epoch 7: Test Accuracy for B = 0.8418,\n",
            "Epoch 7: Test Accuracy for combo = 0.4942,\n",
            "\n",
            "\n"
          ],
          "name": "stdout"
        }
      ]
    },
    {
      "cell_type": "markdown",
      "metadata": {
        "id": "2PKxEfaHwSPY"
      },
      "source": [
        "\n",
        "learning rate = 0.001, Adam e lambda=0.2 e 7 epoche\n",
        "\n"
      ]
    },
    {
      "cell_type": "code",
      "metadata": {
        "id": "TLuRqxK_woKa"
      },
      "source": [
        "model1 = VGG16((1,32,32),batch_norm=True)\n",
        "model2 = VGG16((1,32,32),batch_norm=True,classifier=model1.classifier)\n",
        "combo = TiedVGG16(model1,model2,0, AVG)"
      ],
      "execution_count": null,
      "outputs": []
    },
    {
      "cell_type": "code",
      "metadata": {
        "id": "-9-d43uywpcV"
      },
      "source": [
        "optimizer = torch.optim.Adam(combo.parameters(), lr = 0.001)\n",
        "# Define a loss\n",
        "criterion = CombinedLoss(nn.BCEWithLogitsLoss(),nn.BCEWithLogitsLoss(),nn.BCEWithLogitsLoss(),_lambda = 0.2)\n",
        "n_params = 0"
      ],
      "execution_count": null,
      "outputs": []
    },
    {
      "cell_type": "code",
      "metadata": {
        "id": "gdu8kGZUwqp3",
        "colab": {
          "base_uri": "https://localhost:8080/"
        },
        "outputId": "8c0c3137-6332-4197-ef25-e9c0b0b95ab3"
      },
      "source": [
        "# Train model\n",
        "train(combo, (loaders_a, loaders_b), optimizer, criterion, epochs=7, dev=dev)"
      ],
      "execution_count": null,
      "outputs": [
        {
          "output_type": "stream",
          "text": [
            "Epoch 1: Training Loss for combo = 1.0287,\n",
            "Epoch 1: Training Accuracy for A = 0.4983,\n",
            "Epoch 1: Training Accuracy for B = 0.5088,\n",
            "Epoch 1: Training Accuracy for combo = 0.5058,\n",
            "Epoch 1: Val Loss for combo = 0.8008,\n",
            "Epoch 1: Val Accuracy for A = 0.4892,\n",
            "Epoch 1: Val Accuracy for B = 0.5054,\n",
            "Epoch 1: Val Accuracy for combo = 0.4919,\n",
            "Epoch 1: Test Loss for combo = 0.8001,\n",
            "Epoch 1: Test Accuracy for A = 0.4971,\n",
            "Epoch 1: Test Accuracy for B = 0.5086,\n",
            "Epoch 1: Test Accuracy for combo = 0.4942,\n",
            "\n",
            "\n",
            "Epoch 2: Training Loss for combo = 0.5886,\n",
            "Epoch 2: Training Accuracy for A = 0.7174,\n",
            "Epoch 2: Training Accuracy for B = 0.7592,\n",
            "Epoch 2: Training Accuracy for combo = 0.7250,\n",
            "Epoch 2: Val Loss for combo = 2.5800,\n",
            "Epoch 2: Val Accuracy for A = 0.5108,\n",
            "Epoch 2: Val Accuracy for B = 0.5054,\n",
            "Epoch 2: Val Accuracy for combo = 0.4919,\n",
            "Epoch 2: Test Loss for combo = 2.5862,\n",
            "Epoch 2: Test Accuracy for A = 0.5029,\n",
            "Epoch 2: Test Accuracy for B = 0.5086,\n",
            "Epoch 2: Test Accuracy for combo = 0.4942,\n",
            "\n",
            "\n",
            "Epoch 3: Training Loss for combo = 0.2871,\n",
            "Epoch 3: Training Accuracy for A = 0.8995,\n",
            "Epoch 3: Training Accuracy for B = 0.9090,\n",
            "Epoch 3: Training Accuracy for combo = 0.9008,\n",
            "Epoch 3: Val Loss for combo = 2.2873,\n",
            "Epoch 3: Val Accuracy for A = 0.5181,\n",
            "Epoch 3: Val Accuracy for B = 0.5054,\n",
            "Epoch 3: Val Accuracy for combo = 0.4919,\n",
            "Epoch 3: Test Loss for combo = 2.3093,\n",
            "Epoch 3: Test Accuracy for A = 0.5074,\n",
            "Epoch 3: Test Accuracy for B = 0.5086,\n",
            "Epoch 3: Test Accuracy for combo = 0.4942,\n",
            "\n",
            "\n",
            "Epoch 4: Training Loss for combo = 0.1981,\n",
            "Epoch 4: Training Accuracy for A = 0.9409,\n",
            "Epoch 4: Training Accuracy for B = 0.9365,\n",
            "Epoch 4: Training Accuracy for combo = 0.9102,\n",
            "Epoch 4: Val Loss for combo = 3.2618,\n",
            "Epoch 4: Val Accuracy for A = 0.4892,\n",
            "Epoch 4: Val Accuracy for B = 0.6472,\n",
            "Epoch 4: Val Accuracy for combo = 0.5081,\n",
            "Epoch 4: Test Loss for combo = 3.2264,\n",
            "Epoch 4: Test Accuracy for A = 0.4971,\n",
            "Epoch 4: Test Accuracy for B = 0.6604,\n",
            "Epoch 4: Test Accuracy for combo = 0.5058,\n",
            "\n",
            "\n",
            "Epoch 5: Training Loss for combo = 0.1715,\n",
            "Epoch 5: Training Accuracy for A = 0.9460,\n",
            "Epoch 5: Training Accuracy for B = 0.9518,\n",
            "Epoch 5: Training Accuracy for combo = 0.9275,\n",
            "Epoch 5: Val Loss for combo = 5.3649,\n",
            "Epoch 5: Val Accuracy for A = 0.5108,\n",
            "Epoch 5: Val Accuracy for B = 0.4946,\n",
            "Epoch 5: Val Accuracy for combo = 0.5081,\n",
            "Epoch 5: Test Loss for combo = 5.4028,\n",
            "Epoch 5: Test Accuracy for A = 0.5029,\n",
            "Epoch 5: Test Accuracy for B = 0.4914,\n",
            "Epoch 5: Test Accuracy for combo = 0.5058,\n",
            "\n",
            "\n",
            "Epoch 6: Training Loss for combo = 0.1465,\n",
            "Epoch 6: Training Accuracy for A = 0.9671,\n",
            "Epoch 6: Training Accuracy for B = 0.9433,\n",
            "Epoch 6: Training Accuracy for combo = 0.9428,\n",
            "Epoch 6: Val Loss for combo = 4.8374,\n",
            "Epoch 6: Val Accuracy for A = 0.4892,\n",
            "Epoch 6: Val Accuracy for B = 0.5551,\n",
            "Epoch 6: Val Accuracy for combo = 0.5081,\n",
            "Epoch 6: Test Loss for combo = 4.8368,\n",
            "Epoch 6: Test Accuracy for A = 0.4971,\n",
            "Epoch 6: Test Accuracy for B = 0.5734,\n",
            "Epoch 6: Test Accuracy for combo = 0.5058,\n",
            "\n",
            "\n",
            "Epoch 7: Training Loss for combo = 0.1275,\n",
            "Epoch 7: Training Accuracy for A = 0.9681,\n",
            "Epoch 7: Training Accuracy for B = 0.9575,\n",
            "Epoch 7: Training Accuracy for combo = 0.9446,\n",
            "Epoch 7: Val Loss for combo = 3.3939,\n",
            "Epoch 7: Val Accuracy for A = 0.5120,\n",
            "Epoch 7: Val Accuracy for B = 0.7311,\n",
            "Epoch 7: Val Accuracy for combo = 0.5081,\n",
            "Epoch 7: Test Loss for combo = 3.3557,\n",
            "Epoch 7: Test Accuracy for A = 0.5064,\n",
            "Epoch 7: Test Accuracy for B = 0.7152,\n",
            "Epoch 7: Test Accuracy for combo = 0.5058,\n",
            "\n",
            "\n"
          ],
          "name": "stdout"
        }
      ]
    },
    {
      "cell_type": "markdown",
      "metadata": {
        "id": "ifxyDB8bngA6"
      },
      "source": [
        "CASO MAX: TEST CON DIVERSI OPTIMIZER, LEARNING RATE E LAMBDA"
      ]
    },
    {
      "cell_type": "code",
      "metadata": {
        "id": "WFwMiW2Om8-X"
      },
      "source": [
        "model1 = VGG16((1,32,32),batch_norm=True)\n",
        "model2 = VGG16((1,32,32),batch_norm=True,classifier=model1.classifier)\n",
        "combo = TiedVGG16(model1,model2,0, MAX)"
      ],
      "execution_count": null,
      "outputs": []
    },
    {
      "cell_type": "code",
      "metadata": {
        "id": "H9FBpHRHnE8s"
      },
      "source": [
        "optimizer = torch.optim.SGD(combo.parameters(), lr = 0.01)\n",
        "# Define a loss\n",
        "criterion = CombinedLoss(nn.BCEWithLogitsLoss(),nn.BCEWithLogitsLoss(),nn.BCEWithLogitsLoss(),_lambda = 1)\n",
        "n_params = 0"
      ],
      "execution_count": null,
      "outputs": []
    },
    {
      "cell_type": "code",
      "metadata": {
        "colab": {
          "base_uri": "https://localhost:8080/"
        },
        "id": "1tw6oWcQnYq1",
        "outputId": "8c6b2f87-31df-4643-b872-d460e9a37a33"
      },
      "source": [
        "# Train model\n",
        "train(combo, (loaders_a, loaders_b), optimizer, criterion, epochs=5, dev=dev)"
      ],
      "execution_count": null,
      "outputs": [
        {
          "output_type": "stream",
          "text": [
            "Epoch 1: Training Loss for combo = 0.9775,\n",
            "Epoch 1: Training Accuracy for A = 0.6467,\n",
            "Epoch 1: Training Accuracy for B = 0.6332,\n",
            "Epoch 1: Training Accuracy for combo = 0.6068,\n",
            "Epoch 1: Val Loss for combo = 1.0919,\n",
            "Epoch 1: Val Accuracy for A = 0.5108,\n",
            "Epoch 1: Val Accuracy for B = 0.5054,\n",
            "Epoch 1: Val Accuracy for combo = 0.5081,\n",
            "Epoch 1: Test Loss for combo = 1.0933,\n",
            "Epoch 1: Test Accuracy for A = 0.5029,\n",
            "Epoch 1: Test Accuracy for B = 0.5086,\n",
            "Epoch 1: Test Accuracy for combo = 0.5058,\n",
            "\n",
            "\n",
            "Epoch 2: Training Loss for combo = 0.7850,\n",
            "Epoch 2: Training Accuracy for A = 0.8200,\n",
            "Epoch 2: Training Accuracy for B = 0.7986,\n",
            "Epoch 2: Training Accuracy for combo = 0.6233,\n",
            "Epoch 2: Val Loss for combo = 1.3326,\n",
            "Epoch 2: Val Accuracy for A = 0.5108,\n",
            "Epoch 2: Val Accuracy for B = 0.5054,\n",
            "Epoch 2: Val Accuracy for combo = 0.5081,\n",
            "Epoch 2: Test Loss for combo = 1.3369,\n",
            "Epoch 2: Test Accuracy for A = 0.5029,\n",
            "Epoch 2: Test Accuracy for B = 0.5086,\n",
            "Epoch 2: Test Accuracy for combo = 0.5058,\n",
            "\n",
            "\n",
            "Epoch 3: Training Loss for combo = 0.6197,\n",
            "Epoch 3: Training Accuracy for A = 0.9005,\n",
            "Epoch 3: Training Accuracy for B = 0.8967,\n",
            "Epoch 3: Training Accuracy for combo = 0.6250,\n",
            "Epoch 3: Val Loss for combo = 1.7246,\n",
            "Epoch 3: Val Accuracy for A = 0.5108,\n",
            "Epoch 3: Val Accuracy for B = 0.5054,\n",
            "Epoch 3: Val Accuracy for combo = 0.5081,\n",
            "Epoch 3: Test Loss for combo = 1.7297,\n",
            "Epoch 3: Test Accuracy for A = 0.5029,\n",
            "Epoch 3: Test Accuracy for B = 0.5086,\n",
            "Epoch 3: Test Accuracy for combo = 0.5058,\n",
            "\n",
            "\n",
            "Epoch 4: Training Loss for combo = 0.4937,\n",
            "Epoch 4: Training Accuracy for A = 0.9433,\n",
            "Epoch 4: Training Accuracy for B = 0.9409,\n",
            "Epoch 4: Training Accuracy for combo = 0.6405,\n",
            "Epoch 4: Val Loss for combo = 1.9189,\n",
            "Epoch 4: Val Accuracy for A = 0.5108,\n",
            "Epoch 4: Val Accuracy for B = 0.5054,\n",
            "Epoch 4: Val Accuracy for combo = 0.5081,\n",
            "Epoch 4: Test Loss for combo = 1.9352,\n",
            "Epoch 4: Test Accuracy for A = 0.5029,\n",
            "Epoch 4: Test Accuracy for B = 0.5086,\n",
            "Epoch 4: Test Accuracy for combo = 0.5058,\n",
            "\n",
            "\n",
            "Epoch 5: Training Loss for combo = 0.4501,\n",
            "Epoch 5: Training Accuracy for A = 0.9538,\n",
            "Epoch 5: Training Accuracy for B = 0.9521,\n",
            "Epoch 5: Training Accuracy for combo = 0.6365,\n",
            "Epoch 5: Val Loss for combo = 1.4108,\n",
            "Epoch 5: Val Accuracy for A = 0.9425,\n",
            "Epoch 5: Val Accuracy for B = 0.5269,\n",
            "Epoch 5: Val Accuracy for combo = 0.5081,\n",
            "Epoch 5: Test Loss for combo = 1.4150,\n",
            "Epoch 5: Test Accuracy for A = 0.9547,\n",
            "Epoch 5: Test Accuracy for B = 0.5279,\n",
            "Epoch 5: Test Accuracy for combo = 0.5058,\n",
            "\n",
            "\n"
          ],
          "name": "stdout"
        }
      ]
    },
    {
      "cell_type": "markdown",
      "metadata": {
        "id": "Mxh-Q7_7xj41"
      },
      "source": [
        "learning rate = 0.001, SGD e lambda=0.5"
      ]
    },
    {
      "cell_type": "code",
      "metadata": {
        "id": "7wMlwMMExvqq"
      },
      "source": [
        "model1 = VGG16((1,32,32),batch_norm=True)\n",
        "model2 = VGG16((1,32,32),batch_norm=True,classifier=model1.classifier)\n",
        "combo = TiedVGG16(model1,model2,0, MAX)"
      ],
      "execution_count": null,
      "outputs": []
    },
    {
      "cell_type": "code",
      "metadata": {
        "id": "tA0GgNXRxyPo"
      },
      "source": [
        "optimizer = torch.optim.SGD(combo.parameters(), lr = 0.001)\n",
        "# Define a loss\n",
        "criterion = CombinedLoss(nn.BCEWithLogitsLoss(),nn.BCEWithLogitsLoss(),nn.BCEWithLogitsLoss(),_lambda = 0.5)\n",
        "n_params = 0"
      ],
      "execution_count": null,
      "outputs": []
    },
    {
      "cell_type": "code",
      "metadata": {
        "id": "cgHaFhMCx0Ok",
        "colab": {
          "base_uri": "https://localhost:8080/"
        },
        "outputId": "defe24bc-077d-4cc9-b8c2-ed0e0eb109c1"
      },
      "source": [
        "# Train model\n",
        "train(combo, (loaders_a, loaders_b), optimizer, criterion, epochs=5, dev=dev)"
      ],
      "execution_count": null,
      "outputs": [
        {
          "output_type": "stream",
          "text": [
            "Epoch 1: Training Loss for combo = 0.8627,\n",
            "Epoch 1: Training Accuracy for A = 0.5360,\n",
            "Epoch 1: Training Accuracy for B = 0.5391,\n",
            "Epoch 1: Training Accuracy for combo = 0.5328,\n",
            "Epoch 1: Val Loss for combo = 0.8676,\n",
            "Epoch 1: Val Accuracy for A = 0.4892,\n",
            "Epoch 1: Val Accuracy for B = 0.4946,\n",
            "Epoch 1: Val Accuracy for combo = 0.5081,\n",
            "Epoch 1: Test Loss for combo = 0.8677,\n",
            "Epoch 1: Test Accuracy for A = 0.4971,\n",
            "Epoch 1: Test Accuracy for B = 0.4914,\n",
            "Epoch 1: Test Accuracy for combo = 0.5058,\n",
            "\n",
            "\n",
            "Epoch 2: Training Loss for combo = 0.8540,\n",
            "Epoch 2: Training Accuracy for A = 0.5533,\n",
            "Epoch 2: Training Accuracy for B = 0.5618,\n",
            "Epoch 2: Training Accuracy for combo = 0.5671,\n",
            "Epoch 2: Val Loss for combo = 0.8677,\n",
            "Epoch 2: Val Accuracy for A = 0.4892,\n",
            "Epoch 2: Val Accuracy for B = 0.4946,\n",
            "Epoch 2: Val Accuracy for combo = 0.5081,\n",
            "Epoch 2: Test Loss for combo = 0.8678,\n",
            "Epoch 2: Test Accuracy for A = 0.4971,\n",
            "Epoch 2: Test Accuracy for B = 0.4914,\n",
            "Epoch 2: Test Accuracy for combo = 0.5058,\n",
            "\n",
            "\n",
            "Epoch 3: Training Loss for combo = 0.8405,\n",
            "Epoch 3: Training Accuracy for A = 0.5870,\n",
            "Epoch 3: Training Accuracy for B = 0.5995,\n",
            "Epoch 3: Training Accuracy for combo = 0.5829,\n",
            "Epoch 3: Val Loss for combo = 0.8670,\n",
            "Epoch 3: Val Accuracy for A = 0.6034,\n",
            "Epoch 3: Val Accuracy for B = 0.5060,\n",
            "Epoch 3: Val Accuracy for combo = 0.5081,\n",
            "Epoch 3: Test Loss for combo = 0.8669,\n",
            "Epoch 3: Test Accuracy for A = 0.5961,\n",
            "Epoch 3: Test Accuracy for B = 0.5088,\n",
            "Epoch 3: Test Accuracy for combo = 0.5058,\n",
            "\n",
            "\n",
            "Epoch 4: Training Loss for combo = 0.8263,\n",
            "Epoch 4: Training Accuracy for A = 0.6512,\n",
            "Epoch 4: Training Accuracy for B = 0.6284,\n",
            "Epoch 4: Training Accuracy for combo = 0.6053,\n",
            "Epoch 4: Val Loss for combo = 0.8628,\n",
            "Epoch 4: Val Accuracy for A = 0.5372,\n",
            "Epoch 4: Val Accuracy for B = 0.5277,\n",
            "Epoch 4: Val Accuracy for combo = 0.5081,\n",
            "Epoch 4: Test Loss for combo = 0.8627,\n",
            "Epoch 4: Test Accuracy for A = 0.5402,\n",
            "Epoch 4: Test Accuracy for B = 0.5303,\n",
            "Epoch 4: Test Accuracy for combo = 0.5058,\n",
            "\n",
            "\n",
            "Epoch 5: Training Loss for combo = 0.8141,\n",
            "Epoch 5: Training Accuracy for A = 0.6641,\n",
            "Epoch 5: Training Accuracy for B = 0.6739,\n",
            "Epoch 5: Training Accuracy for combo = 0.5983,\n",
            "Epoch 5: Val Loss for combo = 0.8198,\n",
            "Epoch 5: Val Accuracy for A = 0.7628,\n",
            "Epoch 5: Val Accuracy for B = 0.7622,\n",
            "Epoch 5: Val Accuracy for combo = 0.5081,\n",
            "Epoch 5: Test Loss for combo = 0.8177,\n",
            "Epoch 5: Test Accuracy for A = 0.8004,\n",
            "Epoch 5: Test Accuracy for B = 0.7480,\n",
            "Epoch 5: Test Accuracy for combo = 0.5058,\n",
            "\n",
            "\n"
          ],
          "name": "stdout"
        }
      ]
    },
    {
      "cell_type": "markdown",
      "metadata": {
        "id": "OM3176h8xkAj"
      },
      "source": [
        "learning rate = 0.0001, Adam e lambda=0.7 e 7 epoche\n",
        "\n"
      ]
    },
    {
      "cell_type": "code",
      "metadata": {
        "id": "AXRW4jX4xwJb"
      },
      "source": [
        "model1 = VGG16((1,32,32),batch_norm=True)\n",
        "model2 = VGG16((1,32,32),batch_norm=True,classifier=model1.classifier)\n",
        "combo = TiedVGG16(model1,model2,0, MAX)"
      ],
      "execution_count": null,
      "outputs": []
    },
    {
      "cell_type": "code",
      "metadata": {
        "id": "4o4Wz9P6xysX"
      },
      "source": [
        "optimizer = torch.optim.Adam(combo.parameters(), lr = 0.0001)\n",
        "# Define a loss\n",
        "criterion = CombinedLoss(nn.BCEWithLogitsLoss(),nn.BCEWithLogitsLoss(),nn.BCEWithLogitsLoss(),_lambda = 0.7)\n",
        "n_params = 0"
      ],
      "execution_count": null,
      "outputs": []
    },
    {
      "cell_type": "code",
      "metadata": {
        "id": "RSQ5x1dWx0yh",
        "colab": {
          "base_uri": "https://localhost:8080/"
        },
        "outputId": "7ef41522-b61e-4dcb-9fb3-13f9fef13120"
      },
      "source": [
        "# Train model\n",
        "train(combo, (loaders_a, loaders_b), optimizer, criterion, epochs=7, dev=dev)"
      ],
      "execution_count": null,
      "outputs": [
        {
          "output_type": "stream",
          "text": [
            "Epoch 1: Training Loss for combo = 0.6526,\n",
            "Epoch 1: Training Accuracy for A = 0.7959,\n",
            "Epoch 1: Training Accuracy for B = 0.7931,\n",
            "Epoch 1: Training Accuracy for combo = 0.6075,\n",
            "Epoch 1: Val Loss for combo = 1.7742,\n",
            "Epoch 1: Val Accuracy for A = 0.5108,\n",
            "Epoch 1: Val Accuracy for B = 0.5054,\n",
            "Epoch 1: Val Accuracy for combo = 0.5081,\n",
            "Epoch 1: Test Loss for combo = 1.7828,\n",
            "Epoch 1: Test Accuracy for A = 0.5029,\n",
            "Epoch 1: Test Accuracy for B = 0.5086,\n",
            "Epoch 1: Test Accuracy for combo = 0.5058,\n",
            "\n",
            "\n",
            "Epoch 2: Training Loss for combo = 0.3746,\n",
            "Epoch 2: Training Accuracy for A = 0.9382,\n",
            "Epoch 2: Training Accuracy for B = 0.9490,\n",
            "Epoch 2: Training Accuracy for combo = 0.6350,\n",
            "Epoch 2: Val Loss for combo = 2.6567,\n",
            "Epoch 2: Val Accuracy for A = 0.5108,\n",
            "Epoch 2: Val Accuracy for B = 0.5054,\n",
            "Epoch 2: Val Accuracy for combo = 0.5081,\n",
            "Epoch 2: Test Loss for combo = 2.6714,\n",
            "Epoch 2: Test Accuracy for A = 0.5029,\n",
            "Epoch 2: Test Accuracy for B = 0.5086,\n",
            "Epoch 2: Test Accuracy for combo = 0.5058,\n",
            "\n",
            "\n",
            "Epoch 3: Training Loss for combo = 0.3152,\n",
            "Epoch 3: Training Accuracy for A = 0.9694,\n",
            "Epoch 3: Training Accuracy for B = 0.9650,\n",
            "Epoch 3: Training Accuracy for combo = 0.6530,\n",
            "Epoch 3: Val Loss for combo = 1.5624,\n",
            "Epoch 3: Val Accuracy for A = 0.5109,\n",
            "Epoch 3: Val Accuracy for B = 0.5054,\n",
            "Epoch 3: Val Accuracy for combo = 0.5081,\n",
            "Epoch 3: Test Loss for combo = 1.5508,\n",
            "Epoch 3: Test Accuracy for A = 0.5029,\n",
            "Epoch 3: Test Accuracy for B = 0.5086,\n",
            "Epoch 3: Test Accuracy for combo = 0.5058,\n",
            "\n",
            "\n",
            "Epoch 4: Training Loss for combo = 0.2700,\n",
            "Epoch 4: Training Accuracy for A = 0.9837,\n",
            "Epoch 4: Training Accuracy for B = 0.9817,\n",
            "Epoch 4: Training Accuracy for combo = 0.6680,\n",
            "Epoch 4: Val Loss for combo = 1.0272,\n",
            "Epoch 4: Val Accuracy for A = 0.5556,\n",
            "Epoch 4: Val Accuracy for B = 0.9155,\n",
            "Epoch 4: Val Accuracy for combo = 0.5081,\n",
            "Epoch 4: Test Loss for combo = 1.0372,\n",
            "Epoch 4: Test Accuracy for A = 0.5324,\n",
            "Epoch 4: Test Accuracy for B = 0.9117,\n",
            "Epoch 4: Test Accuracy for combo = 0.5058,\n",
            "\n",
            "\n",
            "Epoch 5: Training Loss for combo = 0.2492,\n",
            "Epoch 5: Training Accuracy for A = 0.9885,\n",
            "Epoch 5: Training Accuracy for B = 0.9874,\n",
            "Epoch 5: Training Accuracy for combo = 0.6805,\n",
            "Epoch 5: Val Loss for combo = 0.6025,\n",
            "Epoch 5: Val Accuracy for A = 0.9663,\n",
            "Epoch 5: Val Accuracy for B = 0.9494,\n",
            "Epoch 5: Val Accuracy for combo = 0.5081,\n",
            "Epoch 5: Test Loss for combo = 0.6079,\n",
            "Epoch 5: Test Accuracy for A = 0.9777,\n",
            "Epoch 5: Test Accuracy for B = 0.9344,\n",
            "Epoch 5: Test Accuracy for combo = 0.5058,\n",
            "\n",
            "\n",
            "Epoch 6: Training Loss for combo = 0.2311,\n",
            "Epoch 6: Training Accuracy for A = 0.9922,\n",
            "Epoch 6: Training Accuracy for B = 0.9929,\n",
            "Epoch 6: Training Accuracy for combo = 0.6948,\n",
            "Epoch 6: Val Loss for combo = 0.6538,\n",
            "Epoch 6: Val Accuracy for A = 0.9517,\n",
            "Epoch 6: Val Accuracy for B = 0.9630,\n",
            "Epoch 6: Val Accuracy for combo = 0.5081,\n",
            "Epoch 6: Test Loss for combo = 0.6681,\n",
            "Epoch 6: Test Accuracy for A = 0.9488,\n",
            "Epoch 6: Test Accuracy for B = 0.9539,\n",
            "Epoch 6: Test Accuracy for combo = 0.5058,\n",
            "\n",
            "\n",
            "Epoch 7: Training Loss for combo = 0.2245,\n",
            "Epoch 7: Training Accuracy for A = 0.9922,\n",
            "Epoch 7: Training Accuracy for B = 0.9925,\n",
            "Epoch 7: Training Accuracy for combo = 0.7023,\n",
            "Epoch 7: Val Loss for combo = 1.0369,\n",
            "Epoch 7: Val Accuracy for A = 0.7335,\n",
            "Epoch 7: Val Accuracy for B = 0.9173,\n",
            "Epoch 7: Val Accuracy for combo = 0.5081,\n",
            "Epoch 7: Test Loss for combo = 1.0442,\n",
            "Epoch 7: Test Accuracy for A = 0.7277,\n",
            "Epoch 7: Test Accuracy for B = 0.9170,\n",
            "Epoch 7: Test Accuracy for combo = 0.5058,\n",
            "\n",
            "\n"
          ],
          "name": "stdout"
        }
      ]
    },
    {
      "cell_type": "markdown",
      "metadata": {
        "id": "AIy9iXBCxkZD"
      },
      "source": [
        "learning rate = 0.001, Adam e lambda=0.2 e 7 epoche\n",
        "\n"
      ]
    },
    {
      "cell_type": "code",
      "metadata": {
        "id": "3OFtwE88xwpL"
      },
      "source": [
        "model1 = VGG16((1,32,32),batch_norm=True)\n",
        "model2 = VGG16((1,32,32),batch_norm=True,classifier=model1.classifier)\n",
        "combo = TiedVGG16(model1,model2,0, MAX)"
      ],
      "execution_count": null,
      "outputs": []
    },
    {
      "cell_type": "code",
      "metadata": {
        "id": "Fn8pxrChxzIb"
      },
      "source": [
        "optimizer = torch.optim.Adam(combo.parameters(), lr = 0.001)\n",
        "# Define a loss\n",
        "criterion = CombinedLoss(nn.BCEWithLogitsLoss(),nn.BCEWithLogitsLoss(),nn.BCEWithLogitsLoss(),_lambda = 0.2)\n",
        "n_params = 0"
      ],
      "execution_count": null,
      "outputs": []
    },
    {
      "cell_type": "code",
      "metadata": {
        "id": "ZF_TArFOx1QY",
        "colab": {
          "base_uri": "https://localhost:8080/"
        },
        "outputId": "0bdb99f4-054b-408f-85e5-d91587b34231"
      },
      "source": [
        "# Train model\n",
        "train(combo, (loaders_a, loaders_b), optimizer, criterion, epochs=7, dev=dev)"
      ],
      "execution_count": null,
      "outputs": [
        {
          "output_type": "stream",
          "text": [
            "Epoch 1: Training Loss for combo = 0.9655,\n",
            "Epoch 1: Training Accuracy for A = 0.5014,\n",
            "Epoch 1: Training Accuracy for B = 0.5224,\n",
            "Epoch 1: Training Accuracy for combo = 0.5623,\n",
            "Epoch 1: Val Loss for combo = 0.7722,\n",
            "Epoch 1: Val Accuracy for A = 0.4892,\n",
            "Epoch 1: Val Accuracy for B = 0.4946,\n",
            "Epoch 1: Val Accuracy for combo = 0.5081,\n",
            "Epoch 1: Test Loss for combo = 0.7722,\n",
            "Epoch 1: Test Accuracy for A = 0.4971,\n",
            "Epoch 1: Test Accuracy for B = 0.4914,\n",
            "Epoch 1: Test Accuracy for combo = 0.5058,\n",
            "\n",
            "\n",
            "Epoch 2: Training Loss for combo = 0.6916,\n",
            "Epoch 2: Training Accuracy for A = 0.5890,\n",
            "Epoch 2: Training Accuracy for B = 0.6895,\n",
            "Epoch 2: Training Accuracy for combo = 0.5944,\n",
            "Epoch 2: Val Loss for combo = 1.2174,\n",
            "Epoch 2: Val Accuracy for A = 0.5108,\n",
            "Epoch 2: Val Accuracy for B = 0.5054,\n",
            "Epoch 2: Val Accuracy for combo = 0.5081,\n",
            "Epoch 2: Test Loss for combo = 1.2190,\n",
            "Epoch 2: Test Accuracy for A = 0.5029,\n",
            "Epoch 2: Test Accuracy for B = 0.5086,\n",
            "Epoch 2: Test Accuracy for combo = 0.5058,\n",
            "\n",
            "\n",
            "Epoch 3: Training Loss for combo = 0.3411,\n",
            "Epoch 3: Training Accuracy for A = 0.8899,\n",
            "Epoch 3: Training Accuracy for B = 0.8984,\n",
            "Epoch 3: Training Accuracy for combo = 0.6180,\n",
            "Epoch 3: Val Loss for combo = 2.6651,\n",
            "Epoch 3: Val Accuracy for A = 0.5611,\n",
            "Epoch 3: Val Accuracy for B = 0.5054,\n",
            "Epoch 3: Val Accuracy for combo = 0.5081,\n",
            "Epoch 3: Test Loss for combo = 2.4867,\n",
            "Epoch 3: Test Accuracy for A = 0.5809,\n",
            "Epoch 3: Test Accuracy for B = 0.5086,\n",
            "Epoch 3: Test Accuracy for combo = 0.5058,\n",
            "\n",
            "\n",
            "Epoch 4: Training Loss for combo = 0.2449,\n",
            "Epoch 4: Training Accuracy for A = 0.9338,\n",
            "Epoch 4: Training Accuracy for B = 0.9314,\n",
            "Epoch 4: Training Accuracy for combo = 0.6343,\n",
            "Epoch 4: Val Loss for combo = 2.6963,\n",
            "Epoch 4: Val Accuracy for A = 0.4892,\n",
            "Epoch 4: Val Accuracy for B = 0.4950,\n",
            "Epoch 4: Val Accuracy for combo = 0.5081,\n",
            "Epoch 4: Test Loss for combo = 2.7181,\n",
            "Epoch 4: Test Accuracy for A = 0.4971,\n",
            "Epoch 4: Test Accuracy for B = 0.4914,\n",
            "Epoch 4: Test Accuracy for combo = 0.5058,\n",
            "\n",
            "\n",
            "Epoch 5: Training Loss for combo = 0.2175,\n",
            "Epoch 5: Training Accuracy for A = 0.9487,\n",
            "Epoch 5: Training Accuracy for B = 0.9497,\n",
            "Epoch 5: Training Accuracy for combo = 0.6364,\n",
            "Epoch 5: Val Loss for combo = 1.0138,\n",
            "Epoch 5: Val Accuracy for A = 0.5868,\n",
            "Epoch 5: Val Accuracy for B = 0.7304,\n",
            "Epoch 5: Val Accuracy for combo = 0.5081,\n",
            "Epoch 5: Test Loss for combo = 1.1262,\n",
            "Epoch 5: Test Accuracy for A = 0.5551,\n",
            "Epoch 5: Test Accuracy for B = 0.7664,\n",
            "Epoch 5: Test Accuracy for combo = 0.5058,\n",
            "\n",
            "\n",
            "Epoch 6: Training Loss for combo = 0.1890,\n",
            "Epoch 6: Training Accuracy for A = 0.9575,\n",
            "Epoch 6: Training Accuracy for B = 0.9524,\n",
            "Epoch 6: Training Accuracy for combo = 0.6496,\n",
            "Epoch 6: Val Loss for combo = 4.4947,\n",
            "Epoch 6: Val Accuracy for A = 0.5282,\n",
            "Epoch 6: Val Accuracy for B = 0.5054,\n",
            "Epoch 6: Val Accuracy for combo = 0.5081,\n",
            "Epoch 6: Test Loss for combo = 4.2532,\n",
            "Epoch 6: Test Accuracy for A = 0.5434,\n",
            "Epoch 6: Test Accuracy for B = 0.5086,\n",
            "Epoch 6: Test Accuracy for combo = 0.5058,\n",
            "\n",
            "\n",
            "Epoch 7: Training Loss for combo = 0.1746,\n",
            "Epoch 7: Training Accuracy for A = 0.9616,\n",
            "Epoch 7: Training Accuracy for B = 0.9572,\n",
            "Epoch 7: Training Accuracy for combo = 0.6559,\n",
            "Epoch 7: Val Loss for combo = 4.4990,\n",
            "Epoch 7: Val Accuracy for A = 0.5496,\n",
            "Epoch 7: Val Accuracy for B = 0.4946,\n",
            "Epoch 7: Val Accuracy for combo = 0.5081,\n",
            "Epoch 7: Test Loss for combo = 4.2230,\n",
            "Epoch 7: Test Accuracy for A = 0.5840,\n",
            "Epoch 7: Test Accuracy for B = 0.4914,\n",
            "Epoch 7: Test Accuracy for combo = 0.5058,\n",
            "\n",
            "\n"
          ],
          "name": "stdout"
        }
      ]
    },
    {
      "cell_type": "code",
      "metadata": {
        "id": "QRrZr_JgypVV"
      },
      "source": [
        ""
      ],
      "execution_count": null,
      "outputs": []
    }
  ]
}
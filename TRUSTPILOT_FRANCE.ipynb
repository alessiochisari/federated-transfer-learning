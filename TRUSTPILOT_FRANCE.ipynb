{
  "nbformat": 4,
  "nbformat_minor": 0,
  "metadata": {
    "colab": {
      "name": "trustpilot_france",
      "provenance": [],
      "collapsed_sections": []
    },
    "kernelspec": {
      "name": "python3",
      "display_name": "Python 3"
    },
    "language_info": {
      "name": "python"
    },
    "accelerator": "GPU"
  },
  "cells": [
    {
      "cell_type": "code",
      "metadata": {
        "colab": {
          "base_uri": "https://localhost:8080/"
        },
        "id": "yJVL4CQ3Qdfg",
        "outputId": "ad68c3f5-c9a4-4d7c-e8e6-d66e9fde91bc"
      },
      "source": [
        "!pip install --upgrade progressbar2"
      ],
      "execution_count": null,
      "outputs": [
        {
          "output_type": "stream",
          "name": "stdout",
          "text": [
            "Requirement already satisfied: progressbar2 in /usr/local/lib/python3.7/dist-packages (3.38.0)\n",
            "Collecting progressbar2\n",
            "  Downloading progressbar2-3.53.2-py2.py3-none-any.whl (25 kB)\n",
            "Requirement already satisfied: python-utils>=2.3.0 in /usr/local/lib/python3.7/dist-packages (from progressbar2) (2.5.6)\n",
            "Requirement already satisfied: six in /usr/local/lib/python3.7/dist-packages (from progressbar2) (1.15.0)\n",
            "Installing collected packages: progressbar2\n",
            "  Attempting uninstall: progressbar2\n",
            "    Found existing installation: progressbar2 3.38.0\n",
            "    Uninstalling progressbar2-3.38.0:\n",
            "      Successfully uninstalled progressbar2-3.38.0\n",
            "Successfully installed progressbar2-3.53.2\n"
          ]
        }
      ]
    },
    {
      "cell_type": "code",
      "metadata": {
        "colab": {
          "base_uri": "https://localhost:8080/"
        },
        "id": "FJWN1-CGABoW",
        "outputId": "f4c6ef5b-3427-4903-c8db-c1086a1e812b"
      },
      "source": [
        "# Define root directory from Google Drive\n",
        "from google.colab import drive\n",
        "import os\n",
        "drive.mount('/content/drive')\n",
        "drive.mount(\"/content/drive\", force_remount=True)\n",
        "os.chdir(\"/content/drive/My Drive/trustpilot\")\n",
        "os.listdir()"
      ],
      "execution_count": null,
      "outputs": [
        {
          "output_type": "stream",
          "name": "stdout",
          "text": [
            "Mounted at /content/drive\n",
            "Mounted at /content/drive\n"
          ]
        },
        {
          "output_type": "execute_result",
          "data": {
            "text/plain": [
              "['united_states.auto-adjusted_gender.geocoded.json',\n",
              " 'france.auto-adjusted_gender.NUTS-regions.json',\n",
              " 'france.json',\n",
              " 'trustpilot.pt',\n",
              " '.ipynb_checkpoints',\n",
              " 'united_states.json',\n",
              " 'trustpilot_france.pt',\n",
              " 'trustpilot_usa.pt']"
            ]
          },
          "metadata": {},
          "execution_count": 2
        }
      ]
    },
    {
      "cell_type": "code",
      "metadata": {
        "colab": {
          "base_uri": "https://localhost:8080/"
        },
        "id": "l1I07rrLt3H5",
        "outputId": "6849f84a-07c1-4356-aa72-7fb0ea893754"
      },
      "source": [
        "# Import Torch\n",
        "import torch\n",
        "# Setup device\n",
        "dev = torch.device(\"cuda\" if torch.cuda.is_available() else \"cpu\")\n",
        "print(dev)"
      ],
      "execution_count": null,
      "outputs": [
        {
          "output_type": "stream",
          "name": "stdout",
          "text": [
            "cuda\n"
          ]
        }
      ]
    },
    {
      "cell_type": "code",
      "metadata": {
        "id": "SFusfdia3RU3"
      },
      "source": [
        "import ast\n",
        "\n",
        "json_path = \"france.auto-adjusted_gender.NUTS-regions.json\"\n",
        "h = open(json_path,'r')\n",
        "\n",
        "data = []\n",
        "\n",
        "for l in h.readlines():\n",
        "    data.append(ast.literal_eval(l))\n",
        "\n",
        "h.close()"
      ],
      "execution_count": null,
      "outputs": []
    },
    {
      "cell_type": "code",
      "metadata": {
        "id": "Y-FGBNgR8KV2"
      },
      "source": [
        "data[0]['reviews'][0]['text'][0]"
      ],
      "execution_count": null,
      "outputs": []
    },
    {
      "cell_type": "code",
      "metadata": {
        "id": "VZXYFnR3efkM"
      },
      "source": [
        "import json\n",
        "with open('france.json', 'w') as json_file:\n",
        "    json.dump(data, json_file)"
      ],
      "execution_count": null,
      "outputs": []
    },
    {
      "cell_type": "code",
      "metadata": {
        "id": "6mGo_ng1dgeC"
      },
      "source": [
        "json_path = \"united_states.auto-adjusted_gender.geocoded.json\"\n",
        "h = open(json_path,'r')\n",
        "\n",
        "data = []\n",
        "\n",
        "for l in h.readlines():\n",
        "    data.append(ast.literal_eval(l))\n",
        "\n",
        "h.close()"
      ],
      "execution_count": null,
      "outputs": []
    },
    {
      "cell_type": "code",
      "metadata": {
        "id": "UEoYSIfLfbgR"
      },
      "source": [
        "import json\n",
        "with open('united_states.json', 'w') as json_file:\n",
        "    json.dump(data, json_file)"
      ],
      "execution_count": null,
      "outputs": []
    },
    {
      "cell_type": "code",
      "metadata": {
        "id": "WvNg2d1TrHVM"
      },
      "source": [
        "import json\n",
        "  \n",
        "# Opening JSON file\n",
        "f = open('france.json',)\n",
        "  \n",
        "# returns JSON object as \n",
        "# a dictionary\n",
        "data = json.load(f)\n",
        "  \n",
        "# Closing file\n",
        "f.close()"
      ],
      "execution_count": null,
      "outputs": []
    },
    {
      "cell_type": "code",
      "metadata": {
        "id": "qfj2aVjTH7wZ"
      },
      "source": [
        "france_reviews = []\n",
        "france_targets = []"
      ],
      "execution_count": null,
      "outputs": []
    },
    {
      "cell_type": "code",
      "metadata": {
        "colab": {
          "base_uri": "https://localhost:8080/"
        },
        "id": "wiPoRvJTrZsn",
        "outputId": "d75edf4e-a729-42ba-dd91-21a6515a0a8b"
      },
      "source": [
        "from string import punctuation\n",
        "print(len(data))\n",
        "count = 0\n",
        "for i in range(0, len(data)):\n",
        "  if (data[i]['reviews'][0]['text'] != [] and (''.join([c for c in data[i]['reviews'][0]['text'][0] if c not in punctuation]))!= '' and count < 30000):\n",
        "    france_reviews.append(data[i]['reviews'][0]['text'][0])\n",
        "    france_targets.append(int(data[i]['reviews'][0]['rating']))\n",
        "    count = count + 1"
      ],
      "execution_count": null,
      "outputs": [
        {
          "output_type": "stream",
          "name": "stdout",
          "text": [
            "741237\n"
          ]
        }
      ]
    },
    {
      "cell_type": "code",
      "metadata": {
        "colab": {
          "base_uri": "https://localhost:8080/"
        },
        "id": "nqKeLLxx4Rmd",
        "outputId": "1b500449-ef2f-43a6-990f-7601ac4216b6"
      },
      "source": [
        "print(len(france_reviews))\n",
        "print(len(france_targets))"
      ],
      "execution_count": null,
      "outputs": [
        {
          "output_type": "stream",
          "name": "stdout",
          "text": [
            "30000\n",
            "30000\n"
          ]
        }
      ]
    },
    {
      "cell_type": "code",
      "metadata": {
        "id": "ImlPVRif4ed1"
      },
      "source": [
        "# Remove punctuaction\n",
        "for i in range(0, len(france_reviews)):\n",
        "  france_reviews[i] = ''.join([c for c in france_reviews[i] if c not in punctuation])"
      ],
      "execution_count": null,
      "outputs": []
    },
    {
      "cell_type": "code",
      "metadata": {
        "colab": {
          "base_uri": "https://localhost:8080/"
        },
        "id": "bMEqT3J_M2Ru",
        "outputId": "37064cf3-f039-42d9-ffec-e1e02d93b9a1"
      },
      "source": [
        "print(len(france_reviews))\n",
        "print(len(france_targets))\n",
        "print(france_reviews[10])"
      ],
      "execution_count": null,
      "outputs": [
        {
          "output_type": "stream",
          "name": "stdout",
          "text": [
            "30000\n",
            "30000\n",
            "Jai apprécié la simplicité la rapidité et léconomie merci\n"
          ]
        }
      ]
    },
    {
      "cell_type": "code",
      "metadata": {
        "id": "DpxOLG94P_BB"
      },
      "source": [
        "x = [w for w in france_reviews[10].split(\" \") if len(w) > 0]"
      ],
      "execution_count": null,
      "outputs": []
    },
    {
      "cell_type": "code",
      "metadata": {
        "colab": {
          "base_uri": "https://localhost:8080/"
        },
        "id": "XybGcFfIQRB3",
        "outputId": "1ff53e34-0d03-4e26-ad5b-0a6360b319d0"
      },
      "source": [
        "x"
      ],
      "execution_count": null,
      "outputs": [
        {
          "output_type": "execute_result",
          "data": {
            "text/plain": [
              "['Jai',\n",
              " 'apprécié',\n",
              " 'la',\n",
              " 'simplicité',\n",
              " 'la',\n",
              " 'rapidité',\n",
              " 'et',\n",
              " 'léconomie',\n",
              " 'merci']"
            ]
          },
          "metadata": {},
          "execution_count": 11
        }
      ]
    },
    {
      "cell_type": "code",
      "metadata": {
        "colab": {
          "base_uri": "https://localhost:8080/"
        },
        "id": "XeZBQl2FSgAq",
        "outputId": "7d920bf5-feb3-4f21-c7d3-dc79c96bf247"
      },
      "source": [
        "count=0\n",
        "for r in range(0, len(france_reviews)):\n",
        "  if len(france_reviews[r])<= 0:\n",
        "    print(r)\n",
        "    count=count+1\n",
        "\n",
        "print(count)"
      ],
      "execution_count": null,
      "outputs": [
        {
          "output_type": "stream",
          "name": "stdout",
          "text": [
            "0\n"
          ]
        }
      ]
    },
    {
      "cell_type": "code",
      "metadata": {
        "id": "dbIUWv5pNZDM"
      },
      "source": [
        "# Split words\n",
        "france_reviews = [[w for w in r.split(\" \") if len(w) > 0] for r in france_reviews if len(r) > 0]"
      ],
      "execution_count": null,
      "outputs": []
    },
    {
      "cell_type": "code",
      "metadata": {
        "colab": {
          "base_uri": "https://localhost:8080/"
        },
        "id": "mjvCpYeLNmSi",
        "outputId": "cb0a7694-b2c7-4330-8343-a6631bf0a3eb"
      },
      "source": [
        "print(len(france_reviews))\n",
        "print(len(france_targets))\n",
        "print(france_reviews[10])\n",
        "print(france_targets[10])"
      ],
      "execution_count": null,
      "outputs": [
        {
          "output_type": "stream",
          "name": "stdout",
          "text": [
            "30000\n",
            "30000\n",
            "['Jai', 'apprécié', 'la', 'simplicité', 'la', 'rapidité', 'et', 'léconomie', 'merci']\n",
            "5\n"
          ]
        }
      ]
    },
    {
      "cell_type": "code",
      "metadata": {
        "colab": {
          "base_uri": "https://localhost:8080/"
        },
        "id": "hyKOpwyrKLfr",
        "outputId": "83967c0f-11ca-4388-b0ee-2ce4af729acd"
      },
      "source": [
        "# Print average review length\n",
        "review_lens = [len(r) for r in france_reviews]\n",
        "print(sum(review_lens)/len(review_lens))"
      ],
      "execution_count": null,
      "outputs": [
        {
          "output_type": "stream",
          "name": "stdout",
          "text": [
            "19.232166666666668\n"
          ]
        }
      ]
    },
    {
      "cell_type": "code",
      "metadata": {
        "id": "jEfSQMF0KfQ0"
      },
      "source": [
        "# Build vocabulary\n",
        "# Start index = 1, we need 0 to pad sequences\n",
        "words = list(set([w for r in france_reviews for w in r]))\n",
        "vocab = {words[i]: i+1 for i in range(len(words))}"
      ],
      "execution_count": null,
      "outputs": []
    },
    {
      "cell_type": "code",
      "metadata": {
        "colab": {
          "base_uri": "https://localhost:8080/"
        },
        "id": "y2QLWPOrKl-V",
        "outputId": "af494b52-9e51-40bc-fc6f-13ae6a52061a"
      },
      "source": [
        "len(vocab)"
      ],
      "execution_count": null,
      "outputs": [
        {
          "output_type": "execute_result",
          "data": {
            "text/plain": [
              "32966"
            ]
          },
          "metadata": {},
          "execution_count": 17
        }
      ]
    },
    {
      "cell_type": "code",
      "metadata": {
        "id": "34l_3DZpKosP"
      },
      "source": [
        "# Convert reviews to word indexes\n",
        "france_reviews = [[vocab[w] for w in r] for r in france_reviews]"
      ],
      "execution_count": null,
      "outputs": []
    },
    {
      "cell_type": "code",
      "metadata": {
        "colab": {
          "base_uri": "https://localhost:8080/"
        },
        "id": "OHGttVXeKtyb",
        "outputId": "40ed7999-b039-4f1f-d87e-49d1ea71cb12"
      },
      "source": [
        "france_reviews[10]"
      ],
      "execution_count": null,
      "outputs": [
        {
          "output_type": "execute_result",
          "data": {
            "text/plain": [
              "[27305, 32873, 21865, 24785, 21865, 21598, 5016, 31921, 29622]"
            ]
          },
          "metadata": {},
          "execution_count": 19
        }
      ]
    },
    {
      "cell_type": "code",
      "metadata": {
        "id": "EuI1CmfrK3UG"
      },
      "source": [
        "# Imports\n",
        "import torch\n",
        "import torch.nn as nn\n",
        "import torch.nn.functional as F\n",
        "from torch.utils.data import TensorDataset, DataLoader\n",
        "import urllib\n",
        "\n",
        "# Parameters\n",
        "seq_len = 20\n",
        "frac_train = 0.8\n",
        "frac_val = 0.1\n",
        "batch_size = 64"
      ],
      "execution_count": null,
      "outputs": []
    },
    {
      "cell_type": "code",
      "metadata": {
        "id": "Fk9qfYODLBSO"
      },
      "source": [
        "# Clip reviews to max seq_len words\n",
        "france_reviews = [r[:seq_len] for r in france_reviews]"
      ],
      "execution_count": null,
      "outputs": []
    },
    {
      "cell_type": "code",
      "metadata": {
        "colab": {
          "base_uri": "https://localhost:8080/"
        },
        "id": "glwqTXQkLF4b",
        "outputId": "2fd2ac6b-8f6a-47db-b70b-641a2e22dc6f"
      },
      "source": [
        "# Print average review length now\n",
        "review_lens = [len(r) for r in france_reviews]\n",
        "print(sum(review_lens)/len(review_lens))"
      ],
      "execution_count": null,
      "outputs": [
        {
          "output_type": "stream",
          "name": "stdout",
          "text": [
            "12.9727\n"
          ]
        }
      ]
    },
    {
      "cell_type": "code",
      "metadata": {
        "id": "bDLycv5bLQW3"
      },
      "source": [
        "# Pad reviews shorter than seq_len\n",
        "france_reviews = [[0]*(seq_len - len(r)) + r for r in france_reviews]"
      ],
      "execution_count": null,
      "outputs": []
    },
    {
      "cell_type": "code",
      "metadata": {
        "colab": {
          "base_uri": "https://localhost:8080/"
        },
        "id": "dJFYBeLmLUx6",
        "outputId": "6260a57f-c0ca-4c9c-c021-ab1163be3f7a"
      },
      "source": [
        "# Print average review length now\n",
        "review_lens = [len(r) for r in france_reviews]\n",
        "print(sum(review_lens)/len(review_lens))"
      ],
      "execution_count": null,
      "outputs": [
        {
          "output_type": "stream",
          "name": "stdout",
          "text": [
            "20.0\n"
          ]
        }
      ]
    },
    {
      "cell_type": "code",
      "metadata": {
        "colab": {
          "base_uri": "https://localhost:8080/"
        },
        "id": "YP-cAWYELYWC",
        "outputId": "64cad3ae-4931-49a3-f590-19bd92b09758"
      },
      "source": [
        "# Convert reviews to tensor\n",
        "data = torch.LongTensor(france_reviews)\n",
        "print(data.size())"
      ],
      "execution_count": null,
      "outputs": [
        {
          "output_type": "stream",
          "name": "stdout",
          "text": [
            "torch.Size([30000, 20])\n"
          ]
        }
      ]
    },
    {
      "cell_type": "code",
      "metadata": {
        "colab": {
          "base_uri": "https://localhost:8080/"
        },
        "id": "8L69ZImvLnMi",
        "outputId": "f7af392d-a019-43e2-93e8-9b1ef0836b17"
      },
      "source": [
        "# Load sentiments: less than 3 stars is negative (0), 4 and 5 are positive (1)   \n",
        "sentiments = [0 if f <= 3 else 1 for f in france_targets]\n",
        "\n",
        "print(len(sentiments))"
      ],
      "execution_count": null,
      "outputs": [
        {
          "output_type": "stream",
          "name": "stdout",
          "text": [
            "30000\n"
          ]
        }
      ]
    },
    {
      "cell_type": "code",
      "metadata": {
        "colab": {
          "base_uri": "https://localhost:8080/"
        },
        "id": "lVCKKZTo--RM",
        "outputId": "14d51b07-95bb-4423-e6c8-5f21bbc36c9c"
      },
      "source": [
        "print(sentiments[10])"
      ],
      "execution_count": null,
      "outputs": [
        {
          "output_type": "stream",
          "name": "stdout",
          "text": [
            "1\n"
          ]
        }
      ]
    },
    {
      "cell_type": "code",
      "metadata": {
        "colab": {
          "base_uri": "https://localhost:8080/"
        },
        "id": "aEtdIHk_MfuI",
        "outputId": "cb05e209-5b39-462b-c5cc-146f87741b08"
      },
      "source": [
        "# Convert sentiments to tensor\n",
        "labels = torch.LongTensor(sentiments)\n",
        "labels.size()"
      ],
      "execution_count": null,
      "outputs": [
        {
          "output_type": "execute_result",
          "data": {
            "text/plain": [
              "torch.Size([30000])"
            ]
          },
          "metadata": {},
          "execution_count": 28
        }
      ]
    },
    {
      "cell_type": "code",
      "metadata": {
        "id": "hQtEn6puMrPo"
      },
      "source": [
        "# Shuffle dataset\n",
        "num_data = data.size(0)\n",
        "shuffle_idx = torch.randperm(num_data)\n",
        "data = data[shuffle_idx,:]\n",
        "labels = labels[shuffle_idx]"
      ],
      "execution_count": null,
      "outputs": []
    },
    {
      "cell_type": "code",
      "metadata": {
        "id": "AoB78eOqMw8j"
      },
      "source": [
        "# Split training and test\n",
        "num_train = int(num_data*frac_train)\n",
        "num_val = int(num_data*frac_val)\n",
        "num_test = num_data - num_train - num_val\n",
        "train_data = data[:num_train,:]\n",
        "train_labels = labels[:num_train]\n",
        "val_data = data[num_train:num_train+num_val,:]\n",
        "val_labels = labels[num_train:num_train+num_val]\n",
        "test_data = data[num_train+num_val:,:]\n",
        "test_labels = labels[num_train+num_val:]"
      ],
      "execution_count": null,
      "outputs": []
    },
    {
      "cell_type": "code",
      "metadata": {
        "id": "HXQ2ZTNeMz2x"
      },
      "source": [
        "# Create datasets\n",
        "train_dataset = TensorDataset(train_data, train_labels)\n",
        "val_dataset = TensorDataset(val_data, val_labels)\n",
        "test_dataset = TensorDataset(test_data, test_labels)"
      ],
      "execution_count": null,
      "outputs": []
    },
    {
      "cell_type": "code",
      "metadata": {
        "id": "J_9u386PM3Li"
      },
      "source": [
        "# Create loaders\n",
        "loaders = {\"train\": DataLoader(train_dataset, batch_size=batch_size, shuffle=True,  drop_last=True),\n",
        "           \"val\":   DataLoader(val_dataset,   batch_size=batch_size, shuffle=False, drop_last=True),\n",
        "           \"test\":  DataLoader(test_dataset,  batch_size=batch_size, shuffle=False, drop_last=True)}"
      ],
      "execution_count": null,
      "outputs": []
    },
    {
      "cell_type": "code",
      "metadata": {
        "id": "-NDX3950M4KV"
      },
      "source": [
        "# Embedding module:\n",
        "# - size of input vocabulary\n",
        "# - size of output vector\n",
        "test_embed = nn.Embedding(5, 10)"
      ],
      "execution_count": null,
      "outputs": []
    },
    {
      "cell_type": "code",
      "metadata": {
        "id": "ZHhP5iVn3bBq",
        "colab": {
          "base_uri": "https://localhost:8080/"
        },
        "outputId": "d96c864e-4df4-44f5-bca8-6c02e6fcc280"
      },
      "source": [
        "# Example input to embedding: batch 2, sequence length 3\n",
        "input = torch.LongTensor([[3, 2, 1],[2, 3, 1]])\n",
        "print(input)"
      ],
      "execution_count": null,
      "outputs": [
        {
          "output_type": "stream",
          "name": "stdout",
          "text": [
            "tensor([[3, 2, 1],\n",
            "        [2, 3, 1]])\n"
          ]
        }
      ]
    },
    {
      "cell_type": "code",
      "metadata": {
        "id": "j-295Ahs3bBq",
        "colab": {
          "base_uri": "https://localhost:8080/"
        },
        "outputId": "1d807c13-728e-4a9f-ee6b-7661c5cbca4d"
      },
      "source": [
        "# Print embedding size\n",
        "test_embed(input).size()"
      ],
      "execution_count": null,
      "outputs": [
        {
          "output_type": "execute_result",
          "data": {
            "text/plain": [
              "torch.Size([2, 3, 10])"
            ]
          },
          "metadata": {},
          "execution_count": 35
        }
      ]
    },
    {
      "cell_type": "code",
      "metadata": {
        "id": "rWD2srgX3bBs"
      },
      "source": [
        "# Define model\n",
        "class Model(nn.Module):\n",
        "    \n",
        "    def __init__(self, embed_size, rnn_size):\n",
        "        # Call parent constructor\n",
        "        super().__init__()\n",
        "        # Store values\n",
        "        self.rnn_size = rnn_size\n",
        "        # Define modules\n",
        "        self.embedding = nn.Embedding(len(vocab)+1, embed_size)\n",
        "        self.rnn = nn.LSTMCell(embed_size, rnn_size)\n",
        "        self.output = nn.Linear(rnn_size, 2)\n",
        "        \n",
        "    def forward(self, x):\n",
        "        # Embed data\n",
        "        x = self.embedding(x)\n",
        "        # Initialize state\n",
        "        c = x.new_zeros(x.shape[0], self.rnn_size)\n",
        "        h = x.new_zeros(x.shape[0], self.rnn_size)\n",
        "        # Input is: BxTxF\n",
        "        # Process each time step\n",
        "        for t in range(x.shape[1]):\n",
        "            # Input at time t\n",
        "            x_t = x[:,t,:]\n",
        "            # Forward RNN and get new state\n",
        "            h,c = self.rnn(x_t, (h, c))\n",
        "        # Classify final state\n",
        "        x = self.output(h)\n",
        "        return x"
      ],
      "execution_count": null,
      "outputs": []
    },
    {
      "cell_type": "code",
      "metadata": {
        "id": "e4B1NA9f3bBs"
      },
      "source": [
        "# Setup device\n",
        "dev = torch.device(\"cuda\" if torch.cuda.is_available() else \"cpu\")"
      ],
      "execution_count": null,
      "outputs": []
    },
    {
      "cell_type": "code",
      "metadata": {
        "id": "HloUbLQR3bBt"
      },
      "source": [
        "# Model parameters\n",
        "embed_size = 1024\n",
        "rnn_size = 512"
      ],
      "execution_count": null,
      "outputs": []
    },
    {
      "cell_type": "code",
      "metadata": {
        "id": "jbaAqOtZ3bBu"
      },
      "source": [
        "# Create model\n",
        "model = Model(embed_size, rnn_size)\n",
        "model = model.to(dev)"
      ],
      "execution_count": null,
      "outputs": []
    },
    {
      "cell_type": "code",
      "metadata": {
        "id": "yP1O5AWG3bBu",
        "colab": {
          "base_uri": "https://localhost:8080/"
        },
        "outputId": "6727b80d-e6c0-4ab0-931f-8176a7019c5c"
      },
      "source": [
        "# Test model output\n",
        "model = model.to(dev)\n",
        "model.eval()\n",
        "test_input = train_dataset[0][0].unsqueeze(0).to(dev)\n",
        "print(\"Model output size:\", model(test_input).size())"
      ],
      "execution_count": null,
      "outputs": [
        {
          "output_type": "stream",
          "name": "stdout",
          "text": [
            "Model output size: torch.Size([1, 2])\n"
          ]
        }
      ]
    },
    {
      "cell_type": "code",
      "metadata": {
        "id": "6nPJmg313bBv"
      },
      "source": [
        "# Create optimizer\n",
        "optimizer = torch.optim.Adam(model.parameters(), lr=0.001, weight_decay=5e-4)"
      ],
      "execution_count": null,
      "outputs": []
    },
    {
      "cell_type": "code",
      "metadata": {
        "scrolled": true,
        "id": "ehECRJL73bBw",
        "colab": {
          "base_uri": "https://localhost:8080/"
        },
        "outputId": "c8858188-3cc8-42bc-e61c-b120e9b657c2"
      },
      "source": [
        "import progressbar as pb\n",
        "# Start training\n",
        "for epoch in range(150):\n",
        "    # Initialize accumulators for computing average loss/accuracy\n",
        "    epoch_loss_sum = {'train': 0, 'val': 0, 'test': 0}\n",
        "    epoch_loss_cnt = {'train': 0, 'val': 0, 'test': 0}\n",
        "    epoch_accuracy_sum = {'train': 0, 'val': 0, 'test': 0}\n",
        "    epoch_accuracy_cnt = {'train': 0, 'val': 0, 'test': 0}\n",
        "    # Process each split\n",
        "    for split in [\"train\", \"val\", \"test\"]:\n",
        "        # Set network mode\n",
        "        if split == \"train\":\n",
        "            model.train()\n",
        "            torch.set_grad_enabled(True)\n",
        "            widgets = [\n",
        "              ' [', pb.Timer(), '] ',\n",
        "              pb.Bar(),\n",
        "              ' [', pb.ETA(), '] ', pb.Variable('ta','[Train Acc: {formatted_value}]')\n",
        "            ]\n",
        "\n",
        "            progbar = pb.ProgressBar(max_value=len(loaders[split]),widgets=widgets,redirect_stdout=True)\n",
        "\n",
        "        else:\n",
        "            model.eval()\n",
        "            torch.set_grad_enabled(False)\n",
        "        # Process all data in split\n",
        "        data_iter = iter(loaders[split])\n",
        "        data_len = len(loaders[split])\n",
        "        for i in range(data_len):\n",
        "            # Read data\n",
        "            input, target = next(data_iter)\n",
        "            # Move to device\n",
        "            input = input.to(dev)\n",
        "            target = target.to(dev)\n",
        "            # Forward\n",
        "            output = model(input)\n",
        "            loss = F.cross_entropy(output, target)\n",
        "            # Update loss sum\n",
        "            epoch_loss_sum[split] += loss.item()\n",
        "            epoch_loss_cnt[split] += 1\n",
        "            # Compute accuracy\n",
        "            pred = output.argmax(1)\n",
        "            correct = pred.eq(target).sum().item()\n",
        "            accuracy = correct/input.size(0)\n",
        "            # Update accuracy sum\n",
        "            epoch_accuracy_sum[split] += accuracy\n",
        "            epoch_accuracy_cnt[split] += 1\n",
        "            if (split=='train'):\n",
        "              progbar.update(i, ta=accuracy)\n",
        "            # Backward and optimize\n",
        "            if split == \"train\":\n",
        "                optimizer.zero_grad()\n",
        "                loss.backward()\n",
        "                optimizer.step()\n",
        "    # Compute average epoch loss/accuracy\n",
        "    avg_train_loss = epoch_loss_sum[\"train\"]/epoch_loss_cnt[\"train\"]\n",
        "    avg_train_accuracy = epoch_accuracy_sum[\"train\"]/epoch_accuracy_cnt[\"train\"]\n",
        "    avg_val_loss = epoch_loss_sum[\"val\"]/epoch_loss_cnt[\"val\"]\n",
        "    avg_val_accuracy = epoch_accuracy_sum[\"val\"]/epoch_accuracy_cnt[\"val\"]\n",
        "    avg_test_loss = epoch_loss_sum[\"test\"]/epoch_loss_cnt[\"test\"]\n",
        "    avg_test_accuracy = epoch_accuracy_sum[\"test\"]/epoch_accuracy_cnt[\"test\"]\n",
        "    if (progbar is not None):\n",
        "          progbar.finish()\n",
        "    print(f\"Epoch: {epoch+1}, TrL={avg_train_loss:.4f}, TrA={avg_train_accuracy:.4f},\",\n",
        "                            f\"VL={avg_val_loss:.4f}, VA={avg_val_accuracy:.4f}, \",\n",
        "                            f\"TeL={avg_test_loss:.4f}, TeA={avg_test_accuracy:.4f}\")"
      ],
      "execution_count": null,
      "outputs": [
        {
          "output_type": "stream",
          "name": "stderr",
          "text": [
            " [Elapsed Time: 0:00:25] |###############| [Time:  0:00:25] [Train Acc:  0.922]\n"
          ]
        },
        {
          "output_type": "stream",
          "name": "stdout",
          "text": [
            "Epoch: 1, TrL=0.2836, TrA=0.8932, VL=0.2525, VA=0.8971,  TeL=0.2697, TeA=0.8916\n"
          ]
        },
        {
          "output_type": "stream",
          "name": "stderr",
          "text": [
            " [Elapsed Time: 0:00:25] |###############| [Time:  0:00:25] [Train Acc:  0.953]\n"
          ]
        },
        {
          "output_type": "stream",
          "name": "stdout",
          "text": [
            "Epoch: 2, TrL=0.2325, TrA=0.9063, VL=0.2571, VA=0.9046,  TeL=0.2718, TeA=0.8961\n"
          ]
        },
        {
          "output_type": "stream",
          "name": "stderr",
          "text": [
            " [Elapsed Time: 0:00:25] |###############| [Time:  0:00:25] [Train Acc:  0.906]\n"
          ]
        },
        {
          "output_type": "stream",
          "name": "stdout",
          "text": [
            "Epoch: 3, TrL=0.2112, TrA=0.9124, VL=0.2450, VA=0.9042,  TeL=0.2556, TeA=0.8981\n"
          ]
        },
        {
          "output_type": "stream",
          "name": "stderr",
          "text": [
            " [Elapsed Time: 0:00:25] |###############| [Time:  0:00:25] [Train Acc:  0.922]\n"
          ]
        },
        {
          "output_type": "stream",
          "name": "stdout",
          "text": [
            "Epoch: 4, TrL=0.1977, TrA=0.9187, VL=0.2433, VA=0.9018,  TeL=0.2602, TeA=0.8981\n"
          ]
        },
        {
          "output_type": "stream",
          "name": "stderr",
          "text": [
            " [Elapsed Time: 0:00:25] |###############| [Time:  0:00:25] [Train Acc:  0.891]\n"
          ]
        },
        {
          "output_type": "stream",
          "name": "stdout",
          "text": [
            "Epoch: 5, TrL=0.1920, TrA=0.9217, VL=0.2410, VA=0.9029,  TeL=0.2449, TeA=0.9035\n"
          ]
        },
        {
          "output_type": "stream",
          "name": "stderr",
          "text": [
            " [Elapsed Time: 0:00:25] |###############| [Time:  0:00:25] [Train Acc:  0.875]\n"
          ]
        },
        {
          "output_type": "stream",
          "name": "stdout",
          "text": [
            "Epoch: 6, TrL=0.1892, TrA=0.9255, VL=0.2403, VA=0.9046,  TeL=0.2563, TeA=0.9008\n"
          ]
        },
        {
          "output_type": "stream",
          "name": "stderr",
          "text": [
            " [Elapsed Time: 0:00:26] |###############| [Time:  0:00:26] [Train Acc:  0.922]\n"
          ]
        },
        {
          "output_type": "stream",
          "name": "stdout",
          "text": [
            "Epoch: 7, TrL=0.1913, TrA=0.9221, VL=0.2417, VA=0.8998,  TeL=0.2472, TeA=0.8981\n"
          ]
        },
        {
          "output_type": "stream",
          "name": "stderr",
          "text": [
            " [Elapsed Time: 0:00:25] |###############| [Time:  0:00:25] [Train Acc:  0.891]\n"
          ]
        },
        {
          "output_type": "stream",
          "name": "stdout",
          "text": [
            "Epoch: 8, TrL=0.1887, TrA=0.9247, VL=0.2410, VA=0.9032,  TeL=0.2494, TeA=0.9008\n"
          ]
        },
        {
          "output_type": "stream",
          "name": "stderr",
          "text": [
            " [Elapsed Time: 0:00:25] |###############| [Time:  0:00:25] [Train Acc:  0.906]\n"
          ]
        },
        {
          "output_type": "stream",
          "name": "stdout",
          "text": [
            "Epoch: 9, TrL=0.1903, TrA=0.9216, VL=0.2396, VA=0.9120,  TeL=0.2455, TeA=0.9005\n"
          ]
        },
        {
          "output_type": "stream",
          "name": "stderr",
          "text": [
            " [Elapsed Time: 0:00:25] |###############| [Time:  0:00:25] [Train Acc:  0.922]\n"
          ]
        },
        {
          "output_type": "stream",
          "name": "stdout",
          "text": [
            "Epoch: 10, TrL=0.1876, TrA=0.9236, VL=0.2274, VA=0.9120,  TeL=0.2419, TeA=0.9046\n"
          ]
        },
        {
          "output_type": "stream",
          "name": "stderr",
          "text": [
            " [Elapsed Time: 0:00:25] |###############| [Time:  0:00:25] [Train Acc:  0.922]\n"
          ]
        },
        {
          "output_type": "stream",
          "name": "stdout",
          "text": [
            "Epoch: 11, TrL=0.1860, TrA=0.9254, VL=0.2291, VA=0.9124,  TeL=0.2421, TeA=0.9022\n"
          ]
        },
        {
          "output_type": "stream",
          "name": "stderr",
          "text": [
            " [Elapsed Time: 0:00:25] |###############| [Time:  0:00:25] [Train Acc:  0.875]\n"
          ]
        },
        {
          "output_type": "stream",
          "name": "stdout",
          "text": [
            "Epoch: 12, TrL=0.1779, TrA=0.9296, VL=0.2314, VA=0.9069,  TeL=0.2355, TeA=0.9046\n"
          ]
        },
        {
          "output_type": "stream",
          "name": "stderr",
          "text": [
            " [Elapsed Time: 0:00:25] |###############| [Time:  0:00:25] [Train Acc:  0.906]\n"
          ]
        },
        {
          "output_type": "stream",
          "name": "stdout",
          "text": [
            "Epoch: 13, TrL=0.1647, TrA=0.9348, VL=0.2323, VA=0.9086,  TeL=0.2393, TeA=0.9039\n"
          ]
        },
        {
          "output_type": "stream",
          "name": "stderr",
          "text": [
            " [Elapsed Time: 0:00:25] |###############| [Time:  0:00:25] [Train Acc:  0.875]\n"
          ]
        },
        {
          "output_type": "stream",
          "name": "stdout",
          "text": [
            "Epoch: 14, TrL=0.1500, TrA=0.9432, VL=0.2344, VA=0.9130,  TeL=0.2522, TeA=0.9069\n"
          ]
        },
        {
          "output_type": "stream",
          "name": "stderr",
          "text": [
            " [Elapsed Time: 0:00:25] |###############| [Time:  0:00:25] [Train Acc:  0.938]\n"
          ]
        },
        {
          "output_type": "stream",
          "name": "stdout",
          "text": [
            "Epoch: 15, TrL=0.1332, TrA=0.9507, VL=0.2466, VA=0.9039,  TeL=0.2666, TeA=0.9008\n"
          ]
        },
        {
          "output_type": "stream",
          "name": "stderr",
          "text": [
            " [Elapsed Time: 0:00:25] |###############| [Time:  0:00:25] [Train Acc:  0.953]\n"
          ]
        },
        {
          "output_type": "stream",
          "name": "stdout",
          "text": [
            "Epoch: 16, TrL=0.1197, TrA=0.9554, VL=0.2506, VA=0.9046,  TeL=0.2742, TeA=0.9025\n"
          ]
        },
        {
          "output_type": "stream",
          "name": "stderr",
          "text": [
            " [Elapsed Time: 0:00:25] |###############| [Time:  0:00:25] [Train Acc:  0.969]\n"
          ]
        },
        {
          "output_type": "stream",
          "name": "stdout",
          "text": [
            "Epoch: 17, TrL=0.1060, TrA=0.9612, VL=0.2767, VA=0.9137,  TeL=0.3147, TeA=0.9056\n"
          ]
        },
        {
          "output_type": "stream",
          "name": "stderr",
          "text": [
            " [Elapsed Time: 0:00:25] |###############| [Time:  0:00:25] [Train Acc:  0.938]\n"
          ]
        },
        {
          "output_type": "stream",
          "name": "stdout",
          "text": [
            "Epoch: 18, TrL=0.0917, TrA=0.9667, VL=0.3180, VA=0.9069,  TeL=0.3456, TeA=0.9029\n"
          ]
        },
        {
          "output_type": "stream",
          "name": "stderr",
          "text": [
            " [Elapsed Time: 0:00:25] |###############| [Time:  0:00:25] [Train Acc:  0.938]\n"
          ]
        },
        {
          "output_type": "stream",
          "name": "stdout",
          "text": [
            "Epoch: 19, TrL=0.0847, TrA=0.9700, VL=0.3146, VA=0.8862,  TeL=0.3433, TeA=0.8791\n"
          ]
        },
        {
          "output_type": "stream",
          "name": "stderr",
          "text": [
            " [Elapsed Time: 0:00:25] |###############| [Time:  0:00:25] [Train Acc:  0.969]\n"
          ]
        },
        {
          "output_type": "stream",
          "name": "stdout",
          "text": [
            "Epoch: 20, TrL=0.0750, TrA=0.9726, VL=0.3054, VA=0.9025,  TeL=0.3328, TeA=0.9012\n"
          ]
        },
        {
          "output_type": "stream",
          "name": "stderr",
          "text": [
            " [Elapsed Time: 0:00:25] |###############| [Time:  0:00:25] [Train Acc:  0.984]\n"
          ]
        },
        {
          "output_type": "stream",
          "name": "stdout",
          "text": [
            "Epoch: 21, TrL=0.0693, TrA=0.9749, VL=0.3222, VA=0.9001,  TeL=0.3500, TeA=0.8913\n"
          ]
        },
        {
          "output_type": "stream",
          "name": "stderr",
          "text": [
            " [Elapsed Time: 0:00:25] |###############| [Time:  0:00:25] [Train Acc:  0.969]\n"
          ]
        },
        {
          "output_type": "stream",
          "name": "stdout",
          "text": [
            "Epoch: 22, TrL=0.0656, TrA=0.9763, VL=0.3260, VA=0.8967,  TeL=0.3560, TeA=0.8872\n"
          ]
        },
        {
          "output_type": "stream",
          "name": "stderr",
          "text": [
            " [Elapsed Time: 0:00:25] |###############| [Time:  0:00:25] [Train Acc:  0.969]\n"
          ]
        },
        {
          "output_type": "stream",
          "name": "stdout",
          "text": [
            "Epoch: 23, TrL=0.0589, TrA=0.9790, VL=0.3629, VA=0.9066,  TeL=0.4154, TeA=0.8967\n"
          ]
        },
        {
          "output_type": "stream",
          "name": "stderr",
          "text": [
            " [Elapsed Time: 0:00:25] |###############| [Time:  0:00:25] [Train Acc:  0.953]\n"
          ]
        },
        {
          "output_type": "stream",
          "name": "stdout",
          "text": [
            "Epoch: 24, TrL=0.0553, TrA=0.9801, VL=0.3596, VA=0.8920,  TeL=0.3817, TeA=0.8913\n"
          ]
        },
        {
          "output_type": "stream",
          "name": "stderr",
          "text": [
            " [Elapsed Time: 0:00:25] |###############| [Time:  0:00:25] [Train Acc:  0.969]\n"
          ]
        },
        {
          "output_type": "stream",
          "name": "stdout",
          "text": [
            "Epoch: 25, TrL=0.0563, TrA=0.9785, VL=0.3563, VA=0.8927,  TeL=0.4007, TeA=0.8865\n"
          ]
        },
        {
          "output_type": "stream",
          "name": "stderr",
          "text": [
            " [Elapsed Time: 0:00:25] |###############| [Time:  0:00:25] [Train Acc:  0.953]\n"
          ]
        },
        {
          "output_type": "stream",
          "name": "stdout",
          "text": [
            "Epoch: 26, TrL=0.0534, TrA=0.9800, VL=0.3860, VA=0.9069,  TeL=0.4341, TeA=0.9005\n"
          ]
        },
        {
          "output_type": "stream",
          "name": "stderr",
          "text": [
            " [Elapsed Time: 0:00:25] |###############| [Time:  0:00:25] [Train Acc:  0.922]\n"
          ]
        },
        {
          "output_type": "stream",
          "name": "stdout",
          "text": [
            "Epoch: 27, TrL=0.0499, TrA=0.9830, VL=0.3799, VA=0.8930,  TeL=0.4122, TeA=0.8923\n"
          ]
        },
        {
          "output_type": "stream",
          "name": "stderr",
          "text": [
            " [Elapsed Time: 0:00:25] |###############| [Time:  0:00:25] [Train Acc:  0.984]\n"
          ]
        },
        {
          "output_type": "stream",
          "name": "stdout",
          "text": [
            "Epoch: 28, TrL=0.0480, TrA=0.9827, VL=0.3849, VA=0.8995,  TeL=0.4251, TeA=0.8954\n"
          ]
        },
        {
          "output_type": "stream",
          "name": "stderr",
          "text": [
            " [Elapsed Time: 0:00:25] |###############| [Time:  0:00:25] [Train Acc:    1.0]\n"
          ]
        },
        {
          "output_type": "stream",
          "name": "stdout",
          "text": [
            "Epoch: 29, TrL=0.0460, TrA=0.9830, VL=0.3721, VA=0.9069,  TeL=0.4262, TeA=0.8978\n"
          ]
        },
        {
          "output_type": "stream",
          "name": "stderr",
          "text": [
            " [Elapsed Time: 0:00:25] |###############| [Time:  0:00:25] [Train Acc:  0.984]\n"
          ]
        },
        {
          "output_type": "stream",
          "name": "stdout",
          "text": [
            "Epoch: 30, TrL=0.0462, TrA=0.9823, VL=0.3940, VA=0.8889,  TeL=0.4406, TeA=0.8821\n"
          ]
        },
        {
          "output_type": "stream",
          "name": "stderr",
          "text": [
            " [Elapsed Time: 0:00:25] |###############| [Time:  0:00:25] [Train Acc:  0.969]\n"
          ]
        },
        {
          "output_type": "stream",
          "name": "stdout",
          "text": [
            "Epoch: 31, TrL=0.0455, TrA=0.9832, VL=0.4159, VA=0.8736,  TeL=0.4473, TeA=0.8736\n"
          ]
        },
        {
          "output_type": "stream",
          "name": "stderr",
          "text": [
            " [Elapsed Time: 0:00:25] |###############| [Time:  0:00:25] [Train Acc:  0.984]\n"
          ]
        },
        {
          "output_type": "stream",
          "name": "stdout",
          "text": [
            "Epoch: 32, TrL=0.0452, TrA=0.9837, VL=0.4032, VA=0.8893,  TeL=0.4332, TeA=0.8808\n"
          ]
        },
        {
          "output_type": "stream",
          "name": "stderr",
          "text": [
            " [Elapsed Time: 0:00:25] |###############| [Time:  0:00:25] [Train Acc:  0.953]\n"
          ]
        },
        {
          "output_type": "stream",
          "name": "stdout",
          "text": [
            "Epoch: 33, TrL=0.0424, TrA=0.9843, VL=0.3940, VA=0.8971,  TeL=0.4433, TeA=0.8944\n"
          ]
        },
        {
          "output_type": "stream",
          "name": "stderr",
          "text": [
            " [Elapsed Time: 0:00:25] |###############| [Time:  0:00:25] [Train Acc:    1.0]\n"
          ]
        },
        {
          "output_type": "stream",
          "name": "stdout",
          "text": [
            "Epoch: 34, TrL=0.0399, TrA=0.9858, VL=0.4239, VA=0.8903,  TeL=0.4553, TeA=0.8927\n"
          ]
        },
        {
          "output_type": "stream",
          "name": "stderr",
          "text": [
            " [Elapsed Time: 0:00:25] |###############| [Time:  0:00:25] [Train Acc:    1.0]\n"
          ]
        },
        {
          "output_type": "stream",
          "name": "stdout",
          "text": [
            "Epoch: 35, TrL=0.0429, TrA=0.9841, VL=0.4285, VA=0.8940,  TeL=0.4701, TeA=0.8882\n"
          ]
        },
        {
          "output_type": "stream",
          "name": "stderr",
          "text": [
            " [Elapsed Time: 0:00:25] |###############| [Time:  0:00:25] [Train Acc:  0.984]\n"
          ]
        },
        {
          "output_type": "stream",
          "name": "stdout",
          "text": [
            "Epoch: 36, TrL=0.0443, TrA=0.9839, VL=0.4184, VA=0.8974,  TeL=0.4640, TeA=0.8930\n"
          ]
        },
        {
          "output_type": "stream",
          "name": "stderr",
          "text": [
            " [Elapsed Time: 0:00:25] |###############| [Time:  0:00:25] [Train Acc:  0.953]\n"
          ]
        },
        {
          "output_type": "stream",
          "name": "stdout",
          "text": [
            "Epoch: 37, TrL=0.0400, TrA=0.9849, VL=0.4419, VA=0.8859,  TeL=0.4864, TeA=0.8865\n"
          ]
        },
        {
          "output_type": "stream",
          "name": "stderr",
          "text": [
            " [Elapsed Time: 0:00:25] |###############| [Time:  0:00:25] [Train Acc:  0.984]\n"
          ]
        },
        {
          "output_type": "stream",
          "name": "stdout",
          "text": [
            "Epoch: 38, TrL=0.0370, TrA=0.9870, VL=0.4285, VA=0.9029,  TeL=0.4744, TeA=0.8920\n"
          ]
        },
        {
          "output_type": "stream",
          "name": "stderr",
          "text": [
            " [Elapsed Time: 0:00:25] |###############| [Time:  0:00:25] [Train Acc:    1.0]\n"
          ]
        },
        {
          "output_type": "stream",
          "name": "stdout",
          "text": [
            "Epoch: 39, TrL=0.0380, TrA=0.9859, VL=0.4542, VA=0.9015,  TeL=0.4935, TeA=0.8947\n"
          ]
        },
        {
          "output_type": "stream",
          "name": "stderr",
          "text": [
            " [Elapsed Time: 0:00:25] |###############| [Time:  0:00:25] [Train Acc:    1.0]\n"
          ]
        },
        {
          "output_type": "stream",
          "name": "stdout",
          "text": [
            "Epoch: 40, TrL=0.0392, TrA=0.9856, VL=0.4517, VA=0.8838,  TeL=0.4981, TeA=0.8781\n"
          ]
        },
        {
          "output_type": "stream",
          "name": "stderr",
          "text": [
            " [Elapsed Time: 0:00:25] |###############| [Time:  0:00:25] [Train Acc:  0.984]\n"
          ]
        },
        {
          "output_type": "stream",
          "name": "stdout",
          "text": [
            "Epoch: 41, TrL=0.0381, TrA=0.9857, VL=0.4397, VA=0.8950,  TeL=0.4846, TeA=0.8865\n"
          ]
        },
        {
          "output_type": "stream",
          "name": "stderr",
          "text": [
            " [Elapsed Time: 0:00:25] |###############| [Time:  0:00:25] [Train Acc:  0.984]\n"
          ]
        },
        {
          "output_type": "stream",
          "name": "stdout",
          "text": [
            "Epoch: 42, TrL=0.0377, TrA=0.9866, VL=0.4698, VA=0.8896,  TeL=0.4914, TeA=0.8821\n"
          ]
        },
        {
          "output_type": "stream",
          "name": "stderr",
          "text": [
            " [Elapsed Time: 0:00:26] |###############| [Time:  0:00:26] [Train Acc:  0.984]\n"
          ]
        },
        {
          "output_type": "stream",
          "name": "stdout",
          "text": [
            "Epoch: 43, TrL=0.0394, TrA=0.9849, VL=0.4937, VA=0.8801,  TeL=0.5299, TeA=0.8709\n"
          ]
        },
        {
          "output_type": "stream",
          "name": "stderr",
          "text": [
            " [Elapsed Time: 0:00:25] |###############| [Time:  0:00:25] [Train Acc:  0.984]\n"
          ]
        },
        {
          "output_type": "stream",
          "name": "stdout",
          "text": [
            "Epoch: 44, TrL=0.0359, TrA=0.9867, VL=0.4591, VA=0.8889,  TeL=0.4857, TeA=0.8842\n"
          ]
        },
        {
          "output_type": "stream",
          "name": "stderr",
          "text": [
            " [Elapsed Time: 0:00:25] |###############| [Time:  0:00:25] [Train Acc:  0.984]\n"
          ]
        },
        {
          "output_type": "stream",
          "name": "stdout",
          "text": [
            "Epoch: 45, TrL=0.0339, TrA=0.9880, VL=0.4460, VA=0.8981,  TeL=0.5043, TeA=0.8886\n"
          ]
        },
        {
          "output_type": "stream",
          "name": "stderr",
          "text": [
            " [Elapsed Time: 0:00:25] |###############| [Time:  0:00:25] [Train Acc:    1.0]\n"
          ]
        },
        {
          "output_type": "stream",
          "name": "stdout",
          "text": [
            "Epoch: 46, TrL=0.0355, TrA=0.9868, VL=0.4731, VA=0.8971,  TeL=0.5202, TeA=0.8862\n"
          ]
        },
        {
          "output_type": "stream",
          "name": "stderr",
          "text": [
            " [Elapsed Time: 0:00:25] |###############| [Time:  0:00:25] [Train Acc:    1.0]\n"
          ]
        },
        {
          "output_type": "stream",
          "name": "stdout",
          "text": [
            "Epoch: 47, TrL=0.0346, TrA=0.9872, VL=0.4366, VA=0.9018,  TeL=0.4872, TeA=0.8893\n"
          ]
        },
        {
          "output_type": "stream",
          "name": "stderr",
          "text": [
            " [Elapsed Time: 0:00:25] |###############| [Time:  0:00:25] [Train Acc:  0.953]\n"
          ]
        },
        {
          "output_type": "stream",
          "name": "stdout",
          "text": [
            "Epoch: 48, TrL=0.0348, TrA=0.9870, VL=0.4972, VA=0.8770,  TeL=0.5371, TeA=0.8750\n"
          ]
        },
        {
          "output_type": "stream",
          "name": "stderr",
          "text": [
            " [Elapsed Time: 0:00:25] |###############| [Time:  0:00:25] [Train Acc:  0.984]\n"
          ]
        },
        {
          "output_type": "stream",
          "name": "stdout",
          "text": [
            "Epoch: 49, TrL=0.0332, TrA=0.9870, VL=0.4265, VA=0.8933,  TeL=0.4882, TeA=0.8808\n"
          ]
        },
        {
          "output_type": "stream",
          "name": "stderr",
          "text": [
            " [Elapsed Time: 0:00:25] |###############| [Time:  0:00:25] [Train Acc:  0.984]\n"
          ]
        },
        {
          "output_type": "stream",
          "name": "stdout",
          "text": [
            "Epoch: 50, TrL=0.0364, TrA=0.9862, VL=0.4403, VA=0.8981,  TeL=0.5019, TeA=0.8876\n"
          ]
        },
        {
          "output_type": "stream",
          "name": "stderr",
          "text": [
            " [Elapsed Time: 0:00:25] |###############| [Time:  0:00:25] [Train Acc:  0.969]\n"
          ]
        },
        {
          "output_type": "stream",
          "name": "stdout",
          "text": [
            "Epoch: 51, TrL=0.0338, TrA=0.9877, VL=0.4578, VA=0.8916,  TeL=0.5146, TeA=0.8838\n"
          ]
        },
        {
          "output_type": "stream",
          "name": "stderr",
          "text": [
            " [Elapsed Time: 0:00:25] |###############| [Time:  0:00:25] [Train Acc:  0.984]\n"
          ]
        },
        {
          "output_type": "stream",
          "name": "stdout",
          "text": [
            "Epoch: 52, TrL=0.0313, TrA=0.9880, VL=0.4356, VA=0.8995,  TeL=0.4789, TeA=0.8927\n"
          ]
        },
        {
          "output_type": "stream",
          "name": "stderr",
          "text": [
            " [Elapsed Time: 0:00:25] |###############| [Time:  0:00:25] [Train Acc:    1.0]\n"
          ]
        },
        {
          "output_type": "stream",
          "name": "stdout",
          "text": [
            "Epoch: 53, TrL=0.0302, TrA=0.9888, VL=0.4579, VA=0.8937,  TeL=0.4947, TeA=0.8882\n"
          ]
        },
        {
          "output_type": "stream",
          "name": "stderr",
          "text": [
            " [Elapsed Time: 0:00:25] |###############| [Time:  0:00:25] [Train Acc:    1.0]\n"
          ]
        },
        {
          "output_type": "stream",
          "name": "stdout",
          "text": [
            "Epoch: 54, TrL=0.0334, TrA=0.9871, VL=0.4753, VA=0.8798,  TeL=0.5042, TeA=0.8804\n"
          ]
        },
        {
          "output_type": "stream",
          "name": "stderr",
          "text": [
            " [Elapsed Time: 0:00:25] |###############| [Time:  0:00:25] [Train Acc:  0.969]\n"
          ]
        },
        {
          "output_type": "stream",
          "name": "stdout",
          "text": [
            "Epoch: 55, TrL=0.0310, TrA=0.9885, VL=0.4569, VA=0.8950,  TeL=0.4989, TeA=0.8893\n"
          ]
        },
        {
          "output_type": "stream",
          "name": "stderr",
          "text": [
            " [Elapsed Time: 0:00:25] |###############| [Time:  0:00:25] [Train Acc:    1.0]\n"
          ]
        },
        {
          "output_type": "stream",
          "name": "stdout",
          "text": [
            "Epoch: 56, TrL=0.0339, TrA=0.9870, VL=0.4631, VA=0.8923,  TeL=0.4838, TeA=0.8886\n"
          ]
        },
        {
          "output_type": "stream",
          "name": "stderr",
          "text": [
            " [Elapsed Time: 0:00:25] |###############| [Time:  0:00:25] [Train Acc:  0.984]\n"
          ]
        },
        {
          "output_type": "stream",
          "name": "stdout",
          "text": [
            "Epoch: 57, TrL=0.0309, TrA=0.9886, VL=0.4403, VA=0.8940,  TeL=0.4860, TeA=0.8899\n"
          ]
        },
        {
          "output_type": "stream",
          "name": "stderr",
          "text": [
            " [Elapsed Time: 0:00:25] |###############| [Time:  0:00:25] [Train Acc:  0.984]\n"
          ]
        },
        {
          "output_type": "stream",
          "name": "stdout",
          "text": [
            "Epoch: 58, TrL=0.0271, TrA=0.9900, VL=0.4900, VA=0.8913,  TeL=0.5330, TeA=0.8859\n"
          ]
        },
        {
          "output_type": "stream",
          "name": "stderr",
          "text": [
            " [Elapsed Time: 0:00:25] |###############| [Time:  0:00:25] [Train Acc:  0.938]\n"
          ]
        },
        {
          "output_type": "stream",
          "name": "stdout",
          "text": [
            "Epoch: 59, TrL=0.0340, TrA=0.9869, VL=0.4513, VA=0.8910,  TeL=0.4857, TeA=0.8876\n"
          ]
        },
        {
          "output_type": "stream",
          "name": "stderr",
          "text": [
            " [Elapsed Time: 0:00:25] |###############| [Time:  0:00:25] [Train Acc:  0.969]\n"
          ]
        },
        {
          "output_type": "stream",
          "name": "stdout",
          "text": [
            "Epoch: 60, TrL=0.0356, TrA=0.9868, VL=0.4951, VA=0.8950,  TeL=0.5506, TeA=0.8852\n"
          ]
        },
        {
          "output_type": "stream",
          "name": "stderr",
          "text": [
            " [Elapsed Time: 0:00:25] |###############| [Time:  0:00:25] [Train Acc:    1.0]\n"
          ]
        },
        {
          "output_type": "stream",
          "name": "stdout",
          "text": [
            "Epoch: 61, TrL=0.0271, TrA=0.9905, VL=0.4936, VA=0.8876,  TeL=0.5401, TeA=0.8815\n"
          ]
        },
        {
          "output_type": "stream",
          "name": "stderr",
          "text": [
            " [Elapsed Time: 0:00:25] |###############| [Time:  0:00:25] [Train Acc:    1.0]\n"
          ]
        },
        {
          "output_type": "stream",
          "name": "stdout",
          "text": [
            "Epoch: 62, TrL=0.0271, TrA=0.9893, VL=0.5017, VA=0.8855,  TeL=0.5656, TeA=0.8784\n"
          ]
        },
        {
          "output_type": "stream",
          "name": "stderr",
          "text": [
            " [Elapsed Time: 0:00:25] |###############| [Time:  0:00:25] [Train Acc:    1.0]\n"
          ]
        },
        {
          "output_type": "stream",
          "name": "stdout",
          "text": [
            "Epoch: 63, TrL=0.0295, TrA=0.9888, VL=0.4841, VA=0.9018,  TeL=0.5323, TeA=0.8937\n"
          ]
        },
        {
          "output_type": "stream",
          "name": "stderr",
          "text": [
            " [Elapsed Time: 0:00:25] |###############| [Time:  0:00:25] [Train Acc:  0.969]\n"
          ]
        },
        {
          "output_type": "stream",
          "name": "stdout",
          "text": [
            "Epoch: 64, TrL=0.0320, TrA=0.9878, VL=0.4499, VA=0.8903,  TeL=0.5005, TeA=0.8835\n"
          ]
        },
        {
          "output_type": "stream",
          "name": "stderr",
          "text": [
            " [Elapsed Time: 0:00:25] |###############| [Time:  0:00:25] [Train Acc:  0.984]\n"
          ]
        },
        {
          "output_type": "stream",
          "name": "stdout",
          "text": [
            "Epoch: 65, TrL=0.0296, TrA=0.9886, VL=0.5049, VA=0.8974,  TeL=0.5563, TeA=0.8879\n"
          ]
        },
        {
          "output_type": "stream",
          "name": "stderr",
          "text": [
            " [Elapsed Time: 0:00:25] |###############| [Time:  0:00:25] [Train Acc:  0.969]\n"
          ]
        },
        {
          "output_type": "stream",
          "name": "stdout",
          "text": [
            "Epoch: 66, TrL=0.0268, TrA=0.9895, VL=0.5041, VA=0.8838,  TeL=0.5435, TeA=0.8760\n"
          ]
        },
        {
          "output_type": "stream",
          "name": "stderr",
          "text": [
            " [Elapsed Time: 0:00:25] |###############| [Time:  0:00:25] [Train Acc:    1.0]\n"
          ]
        },
        {
          "output_type": "stream",
          "name": "stdout",
          "text": [
            "Epoch: 67, TrL=0.0339, TrA=0.9873, VL=0.4606, VA=0.9018,  TeL=0.5353, TeA=0.8889\n"
          ]
        },
        {
          "output_type": "stream",
          "name": "stderr",
          "text": [
            " [Elapsed Time: 0:00:25] |###############| [Time:  0:00:25] [Train Acc:  0.984]\n"
          ]
        },
        {
          "output_type": "stream",
          "name": "stdout",
          "text": [
            "Epoch: 68, TrL=0.0303, TrA=0.9885, VL=0.4615, VA=0.9042,  TeL=0.5215, TeA=0.8971\n"
          ]
        },
        {
          "output_type": "stream",
          "name": "stderr",
          "text": [
            " [Elapsed Time: 0:00:25] |###############| [Time:  0:00:25] [Train Acc:  0.969]\n"
          ]
        },
        {
          "output_type": "stream",
          "name": "stdout",
          "text": [
            "Epoch: 69, TrL=0.0276, TrA=0.9897, VL=0.4803, VA=0.8893,  TeL=0.5452, TeA=0.8835\n"
          ]
        },
        {
          "output_type": "stream",
          "name": "stderr",
          "text": [
            " [Elapsed Time: 0:00:25] |###############| [Time:  0:00:25] [Train Acc:    1.0]\n"
          ]
        },
        {
          "output_type": "stream",
          "name": "stdout",
          "text": [
            "Epoch: 70, TrL=0.0255, TrA=0.9905, VL=0.4642, VA=0.8991,  TeL=0.5383, TeA=0.8852\n"
          ]
        },
        {
          "output_type": "stream",
          "name": "stderr",
          "text": [
            " [Elapsed Time: 0:00:25] |###############| [Time:  0:00:25] [Train Acc:  0.984]\n"
          ]
        },
        {
          "output_type": "stream",
          "name": "stdout",
          "text": [
            "Epoch: 71, TrL=0.0249, TrA=0.9908, VL=0.4647, VA=0.9046,  TeL=0.5251, TeA=0.8903\n"
          ]
        },
        {
          "output_type": "stream",
          "name": "stderr",
          "text": [
            " [Elapsed Time: 0:00:25] |###############| [Time:  0:00:25] [Train Acc:  0.969]\n"
          ]
        },
        {
          "output_type": "stream",
          "name": "stdout",
          "text": [
            "Epoch: 72, TrL=0.0346, TrA=0.9873, VL=0.4611, VA=0.8971,  TeL=0.5047, TeA=0.8777\n"
          ]
        },
        {
          "output_type": "stream",
          "name": "stderr",
          "text": [
            " [Elapsed Time: 0:00:25] |###############| [Time:  0:00:25] [Train Acc:    1.0]\n"
          ]
        },
        {
          "output_type": "stream",
          "name": "stdout",
          "text": [
            "Epoch: 73, TrL=0.0316, TrA=0.9881, VL=0.4619, VA=0.8903,  TeL=0.5140, TeA=0.8869\n"
          ]
        },
        {
          "output_type": "stream",
          "name": "stderr",
          "text": [
            " [Elapsed Time: 0:00:25] |###############| [Time:  0:00:25] [Train Acc:  0.984]\n"
          ]
        },
        {
          "output_type": "stream",
          "name": "stdout",
          "text": [
            "Epoch: 74, TrL=0.0261, TrA=0.9907, VL=0.5078, VA=0.8865,  TeL=0.5583, TeA=0.8726\n"
          ]
        },
        {
          "output_type": "stream",
          "name": "stderr",
          "text": [
            " [Elapsed Time: 0:00:25] |###############| [Time:  0:00:25] [Train Acc:  0.969]\n"
          ]
        },
        {
          "output_type": "stream",
          "name": "stdout",
          "text": [
            "Epoch: 75, TrL=0.0219, TrA=0.9916, VL=0.5488, VA=0.8828,  TeL=0.5939, TeA=0.8815\n"
          ]
        },
        {
          "output_type": "stream",
          "name": "stderr",
          "text": [
            " [Elapsed Time: 0:00:25] |###############| [Time:  0:00:25] [Train Acc:  0.969]\n"
          ]
        },
        {
          "output_type": "stream",
          "name": "stdout",
          "text": [
            "Epoch: 76, TrL=0.0273, TrA=0.9891, VL=0.4614, VA=0.9032,  TeL=0.5094, TeA=0.8937\n"
          ]
        },
        {
          "output_type": "stream",
          "name": "stderr",
          "text": [
            " [Elapsed Time: 0:00:25] |###############| [Time:  0:00:25] [Train Acc:    1.0]\n"
          ]
        },
        {
          "output_type": "stream",
          "name": "stdout",
          "text": [
            "Epoch: 77, TrL=0.0394, TrA=0.9851, VL=0.4611, VA=0.8923,  TeL=0.5138, TeA=0.8906\n"
          ]
        },
        {
          "output_type": "stream",
          "name": "stderr",
          "text": [
            " [Elapsed Time: 0:00:25] |###############| [Time:  0:00:25] [Train Acc:  0.969]\n"
          ]
        },
        {
          "output_type": "stream",
          "name": "stdout",
          "text": [
            "Epoch: 78, TrL=0.0314, TrA=0.9886, VL=0.4620, VA=0.8937,  TeL=0.4951, TeA=0.8978\n"
          ]
        },
        {
          "output_type": "stream",
          "name": "stderr",
          "text": [
            " [Elapsed Time: 0:00:25] |###############| [Time:  0:00:25] [Train Acc:  0.953]\n"
          ]
        },
        {
          "output_type": "stream",
          "name": "stdout",
          "text": [
            "Epoch: 79, TrL=0.0261, TrA=0.9899, VL=0.4794, VA=0.8940,  TeL=0.5325, TeA=0.8879\n"
          ]
        },
        {
          "output_type": "stream",
          "name": "stderr",
          "text": [
            " [Elapsed Time: 0:00:25] |###############| [Time:  0:00:25] [Train Acc:  0.984]\n"
          ]
        },
        {
          "output_type": "stream",
          "name": "stdout",
          "text": [
            "Epoch: 80, TrL=0.0247, TrA=0.9908, VL=0.4640, VA=0.9059,  TeL=0.5153, TeA=0.8933\n"
          ]
        },
        {
          "output_type": "stream",
          "name": "stderr",
          "text": [
            " [Elapsed Time: 0:00:25] |###############| [Time:  0:00:25] [Train Acc:  0.984]\n"
          ]
        },
        {
          "output_type": "stream",
          "name": "stdout",
          "text": [
            "Epoch: 81, TrL=0.0268, TrA=0.9899, VL=0.4957, VA=0.8937,  TeL=0.5484, TeA=0.8879\n"
          ]
        },
        {
          "output_type": "stream",
          "name": "stderr",
          "text": [
            " [Elapsed Time: 0:00:25] |###############| [Time:  0:00:25] [Train Acc:    1.0]\n"
          ]
        },
        {
          "output_type": "stream",
          "name": "stdout",
          "text": [
            "Epoch: 82, TrL=0.0270, TrA=0.9902, VL=0.5002, VA=0.8920,  TeL=0.5598, TeA=0.8903\n"
          ]
        },
        {
          "output_type": "stream",
          "name": "stderr",
          "text": [
            " [Elapsed Time: 0:00:25] |###############| [Time:  0:00:25] [Train Acc:  0.984]\n"
          ]
        },
        {
          "output_type": "stream",
          "name": "stdout",
          "text": [
            "Epoch: 83, TrL=0.0312, TrA=0.9878, VL=0.4584, VA=0.8886,  TeL=0.5128, TeA=0.8869\n"
          ]
        },
        {
          "output_type": "stream",
          "name": "stderr",
          "text": [
            " [Elapsed Time: 0:00:25] |###############| [Time:  0:00:25] [Train Acc:  0.984]\n"
          ]
        },
        {
          "output_type": "stream",
          "name": "stdout",
          "text": [
            "Epoch: 84, TrL=0.0325, TrA=0.9879, VL=0.4633, VA=0.8950,  TeL=0.4962, TeA=0.8906\n"
          ]
        },
        {
          "output_type": "stream",
          "name": "stderr",
          "text": [
            " [Elapsed Time: 0:00:25] |###############| [Time:  0:00:25] [Train Acc:  0.984]\n"
          ]
        },
        {
          "output_type": "stream",
          "name": "stdout",
          "text": [
            "Epoch: 85, TrL=0.0254, TrA=0.9902, VL=0.5237, VA=0.8916,  TeL=0.5535, TeA=0.8937\n"
          ]
        },
        {
          "output_type": "stream",
          "name": "stderr",
          "text": [
            " [Elapsed Time: 0:00:25] |###############| [Time:  0:00:25] [Train Acc:    1.0]\n"
          ]
        },
        {
          "output_type": "stream",
          "name": "stdout",
          "text": [
            "Epoch: 86, TrL=0.0226, TrA=0.9918, VL=0.5334, VA=0.8889,  TeL=0.5683, TeA=0.8838\n"
          ]
        },
        {
          "output_type": "stream",
          "name": "stderr",
          "text": [
            " [Elapsed Time: 0:00:25] |###############| [Time:  0:00:25] [Train Acc:    1.0]\n"
          ]
        },
        {
          "output_type": "stream",
          "name": "stdout",
          "text": [
            "Epoch: 87, TrL=0.0238, TrA=0.9912, VL=0.5533, VA=0.8906,  TeL=0.5991, TeA=0.8849\n"
          ]
        },
        {
          "output_type": "stream",
          "name": "stderr",
          "text": [
            " [Elapsed Time: 0:00:25] |###############| [Time:  0:00:25] [Train Acc:    1.0]\n"
          ]
        },
        {
          "output_type": "stream",
          "name": "stdout",
          "text": [
            "Epoch: 88, TrL=0.0417, TrA=0.9841, VL=0.4500, VA=0.8933,  TeL=0.4922, TeA=0.8869\n"
          ]
        },
        {
          "output_type": "stream",
          "name": "stderr",
          "text": [
            " [Elapsed Time: 0:00:25] |###############| [Time:  0:00:25] [Train Acc:  0.984]\n"
          ]
        },
        {
          "output_type": "stream",
          "name": "stdout",
          "text": [
            "Epoch: 89, TrL=0.0265, TrA=0.9903, VL=0.4752, VA=0.9008,  TeL=0.5326, TeA=0.8893\n"
          ]
        },
        {
          "output_type": "stream",
          "name": "stderr",
          "text": [
            " [Elapsed Time: 0:00:25] |###############| [Time:  0:00:25] [Train Acc:  0.984]\n"
          ]
        },
        {
          "output_type": "stream",
          "name": "stdout",
          "text": [
            "Epoch: 90, TrL=0.0223, TrA=0.9922, VL=0.5159, VA=0.8865,  TeL=0.5507, TeA=0.8770\n"
          ]
        },
        {
          "output_type": "stream",
          "name": "stderr",
          "text": [
            " [Elapsed Time: 0:00:25] |###############| [Time:  0:00:25] [Train Acc:  0.984]\n"
          ]
        },
        {
          "output_type": "stream",
          "name": "stdout",
          "text": [
            "Epoch: 91, TrL=0.0243, TrA=0.9909, VL=0.4918, VA=0.8940,  TeL=0.5474, TeA=0.8879\n"
          ]
        },
        {
          "output_type": "stream",
          "name": "stderr",
          "text": [
            " [Elapsed Time: 0:00:25] |###############| [Time:  0:00:25] [Train Acc:    1.0]\n"
          ]
        },
        {
          "output_type": "stream",
          "name": "stdout",
          "text": [
            "Epoch: 92, TrL=0.0256, TrA=0.9900, VL=0.4745, VA=0.8998,  TeL=0.5350, TeA=0.8923\n"
          ]
        },
        {
          "output_type": "stream",
          "name": "stderr",
          "text": [
            " [Elapsed Time: 0:00:25] |###############| [Time:  0:00:25] [Train Acc:  0.953]\n"
          ]
        },
        {
          "output_type": "stream",
          "name": "stdout",
          "text": [
            "Epoch: 93, TrL=0.0381, TrA=0.9858, VL=0.4918, VA=0.8899,  TeL=0.5214, TeA=0.8862\n"
          ]
        },
        {
          "output_type": "stream",
          "name": "stderr",
          "text": [
            " [Elapsed Time: 0:00:25] |###############| [Time:  0:00:25] [Train Acc:    1.0]\n"
          ]
        },
        {
          "output_type": "stream",
          "name": "stdout",
          "text": [
            "Epoch: 94, TrL=0.0306, TrA=0.9887, VL=0.4559, VA=0.8872,  TeL=0.5184, TeA=0.8798\n"
          ]
        },
        {
          "output_type": "stream",
          "name": "stderr",
          "text": [
            " [Elapsed Time: 0:00:25] |###############| [Time:  0:00:25] [Train Acc:    1.0]\n"
          ]
        },
        {
          "output_type": "stream",
          "name": "stdout",
          "text": [
            "Epoch: 95, TrL=0.0259, TrA=0.9903, VL=0.4802, VA=0.8865,  TeL=0.5307, TeA=0.8774\n"
          ]
        },
        {
          "output_type": "stream",
          "name": "stderr",
          "text": [
            " [Elapsed Time: 0:00:25] |###############| [Time:  0:00:25] [Train Acc:  0.984]\n"
          ]
        },
        {
          "output_type": "stream",
          "name": "stdout",
          "text": [
            "Epoch: 96, TrL=0.0265, TrA=0.9899, VL=0.4800, VA=0.8906,  TeL=0.5178, TeA=0.8876\n"
          ]
        },
        {
          "output_type": "stream",
          "name": "stderr",
          "text": [
            " [Elapsed Time: 0:00:25] |###############| [Time:  0:00:25] [Train Acc:  0.969]\n"
          ]
        },
        {
          "output_type": "stream",
          "name": "stdout",
          "text": [
            "Epoch: 97, TrL=0.0241, TrA=0.9912, VL=0.4887, VA=0.8944,  TeL=0.5227, TeA=0.8903\n"
          ]
        },
        {
          "output_type": "stream",
          "name": "stderr",
          "text": [
            " [Elapsed Time: 0:00:25] |###############| [Time:  0:00:25] [Train Acc:    1.0]\n"
          ]
        },
        {
          "output_type": "stream",
          "name": "stdout",
          "text": [
            "Epoch: 98, TrL=0.0247, TrA=0.9908, VL=0.4823, VA=0.8825,  TeL=0.5282, TeA=0.8777\n"
          ]
        },
        {
          "output_type": "stream",
          "name": "stderr",
          "text": [
            " [Elapsed Time: 0:00:25] |###############| [Time:  0:00:25] [Train Acc:  0.984]\n"
          ]
        },
        {
          "output_type": "stream",
          "name": "stdout",
          "text": [
            "Epoch: 99, TrL=0.0291, TrA=0.9887, VL=0.4619, VA=0.8940,  TeL=0.5165, TeA=0.8896\n"
          ]
        },
        {
          "output_type": "stream",
          "name": "stderr",
          "text": [
            " [Elapsed Time: 0:00:25] |###############| [Time:  0:00:25] [Train Acc:    1.0]\n"
          ]
        },
        {
          "output_type": "stream",
          "name": "stdout",
          "text": [
            "Epoch: 100, TrL=0.0343, TrA=0.9868, VL=0.4706, VA=0.8981,  TeL=0.5067, TeA=0.8940\n"
          ]
        },
        {
          "output_type": "stream",
          "name": "stderr",
          "text": [
            " [Elapsed Time: 0:00:25] |###############| [Time:  0:00:25] [Train Acc:  0.953]\n"
          ]
        },
        {
          "output_type": "stream",
          "name": "stdout",
          "text": [
            "Epoch: 101, TrL=0.0286, TrA=0.9891, VL=0.4581, VA=0.8927,  TeL=0.5220, TeA=0.8849\n"
          ]
        },
        {
          "output_type": "stream",
          "name": "stderr",
          "text": [
            " [Elapsed Time: 0:00:25] |###############| [Time:  0:00:25] [Train Acc:    1.0]\n"
          ]
        },
        {
          "output_type": "stream",
          "name": "stdout",
          "text": [
            "Epoch: 102, TrL=0.0223, TrA=0.9924, VL=0.4809, VA=0.8947,  TeL=0.5389, TeA=0.8903\n"
          ]
        },
        {
          "output_type": "stream",
          "name": "stderr",
          "text": [
            " [Elapsed Time: 0:00:25] |###############| [Time:  0:00:25] [Train Acc:    1.0]\n"
          ]
        },
        {
          "output_type": "stream",
          "name": "stdout",
          "text": [
            "Epoch: 103, TrL=0.0214, TrA=0.9920, VL=0.5204, VA=0.8811,  TeL=0.5824, TeA=0.8750\n"
          ]
        },
        {
          "output_type": "stream",
          "name": "stderr",
          "text": [
            " [Elapsed Time: 0:00:25] |###############| [Time:  0:00:25] [Train Acc:  0.969]\n"
          ]
        },
        {
          "output_type": "stream",
          "name": "stdout",
          "text": [
            "Epoch: 104, TrL=0.0265, TrA=0.9900, VL=0.4944, VA=0.8893,  TeL=0.5409, TeA=0.8862\n"
          ]
        },
        {
          "output_type": "stream",
          "name": "stderr",
          "text": [
            " [Elapsed Time: 0:00:25] |###############| [Time:  0:00:25] [Train Acc:  0.984]\n"
          ]
        },
        {
          "output_type": "stream",
          "name": "stdout",
          "text": [
            "Epoch: 105, TrL=0.0330, TrA=0.9874, VL=0.4752, VA=0.9029,  TeL=0.5331, TeA=0.8967\n"
          ]
        },
        {
          "output_type": "stream",
          "name": "stderr",
          "text": [
            " [Elapsed Time: 0:00:25] |###############| [Time:  0:00:25] [Train Acc:    1.0]\n"
          ]
        },
        {
          "output_type": "stream",
          "name": "stdout",
          "text": [
            "Epoch: 106, TrL=0.0269, TrA=0.9903, VL=0.5046, VA=0.8923,  TeL=0.5539, TeA=0.8815\n"
          ]
        },
        {
          "output_type": "stream",
          "name": "stderr",
          "text": [
            " [Elapsed Time: 0:00:25] |###############| [Time:  0:00:25] [Train Acc:    1.0]\n"
          ]
        },
        {
          "output_type": "stream",
          "name": "stdout",
          "text": [
            "Epoch: 107, TrL=0.0242, TrA=0.9908, VL=0.4774, VA=0.8940,  TeL=0.5271, TeA=0.8859\n"
          ]
        },
        {
          "output_type": "stream",
          "name": "stderr",
          "text": [
            " [Elapsed Time: 0:00:25] |###############| [Time:  0:00:25] [Train Acc:    1.0]\n"
          ]
        },
        {
          "output_type": "stream",
          "name": "stdout",
          "text": [
            "Epoch: 108, TrL=0.0228, TrA=0.9918, VL=0.5234, VA=0.8889,  TeL=0.5816, TeA=0.8777\n"
          ]
        },
        {
          "output_type": "stream",
          "name": "stderr",
          "text": [
            " [Elapsed Time: 0:00:25] |###############| [Time:  0:00:25] [Train Acc:    1.0]\n"
          ]
        },
        {
          "output_type": "stream",
          "name": "stdout",
          "text": [
            "Epoch: 109, TrL=0.0263, TrA=0.9900, VL=0.4987, VA=0.9015,  TeL=0.5828, TeA=0.8957\n"
          ]
        },
        {
          "output_type": "stream",
          "name": "stderr",
          "text": [
            " [Elapsed Time: 0:00:25] |###############| [Time:  0:00:25] [Train Acc:  0.984]\n"
          ]
        },
        {
          "output_type": "stream",
          "name": "stdout",
          "text": [
            "Epoch: 110, TrL=0.0282, TrA=0.9898, VL=0.4857, VA=0.8927,  TeL=0.5609, TeA=0.8821\n"
          ]
        },
        {
          "output_type": "stream",
          "name": "stderr",
          "text": [
            " [Elapsed Time: 0:00:25] |###############| [Time:  0:00:25] [Train Acc:  0.953]\n"
          ]
        },
        {
          "output_type": "stream",
          "name": "stdout",
          "text": [
            "Epoch: 111, TrL=0.0287, TrA=0.9899, VL=0.4931, VA=0.8889,  TeL=0.5405, TeA=0.8882\n"
          ]
        },
        {
          "output_type": "stream",
          "name": "stderr",
          "text": [
            " [Elapsed Time: 0:00:25] |###############| [Time:  0:00:25] [Train Acc:  0.984]\n"
          ]
        },
        {
          "output_type": "stream",
          "name": "stdout",
          "text": [
            "Epoch: 112, TrL=0.0261, TrA=0.9905, VL=0.4976, VA=0.8947,  TeL=0.5443, TeA=0.8906\n"
          ]
        },
        {
          "output_type": "stream",
          "name": "stderr",
          "text": [
            " [Elapsed Time: 0:00:25] |###############| [Time:  0:00:25] [Train Acc:    1.0]\n"
          ]
        },
        {
          "output_type": "stream",
          "name": "stdout",
          "text": [
            "Epoch: 113, TrL=0.0227, TrA=0.9915, VL=0.5026, VA=0.8930,  TeL=0.5482, TeA=0.8920\n"
          ]
        },
        {
          "output_type": "stream",
          "name": "stderr",
          "text": [
            " [Elapsed Time: 0:00:25] |###############| [Time:  0:00:25] [Train Acc:  0.984]\n"
          ]
        },
        {
          "output_type": "stream",
          "name": "stdout",
          "text": [
            "Epoch: 114, TrL=0.0249, TrA=0.9903, VL=0.5167, VA=0.8804,  TeL=0.5437, TeA=0.8865\n"
          ]
        },
        {
          "output_type": "stream",
          "name": "stderr",
          "text": [
            " [Elapsed Time: 0:00:25] |###############| [Time:  0:00:25] [Train Acc:  0.984]\n"
          ]
        },
        {
          "output_type": "stream",
          "name": "stdout",
          "text": [
            "Epoch: 115, TrL=0.0296, TrA=0.9883, VL=0.5378, VA=0.8855,  TeL=0.5851, TeA=0.8886\n"
          ]
        },
        {
          "output_type": "stream",
          "name": "stderr",
          "text": [
            " [Elapsed Time: 0:00:25] |###############| [Time:  0:00:25] [Train Acc:  0.984]\n"
          ]
        },
        {
          "output_type": "stream",
          "name": "stdout",
          "text": [
            "Epoch: 116, TrL=0.0361, TrA=0.9869, VL=0.5280, VA=0.8781,  TeL=0.5506, TeA=0.8787\n"
          ]
        },
        {
          "output_type": "stream",
          "name": "stderr",
          "text": [
            " [Elapsed Time: 0:00:25] |###############| [Time:  0:00:25] [Train Acc:  0.984]\n"
          ]
        },
        {
          "output_type": "stream",
          "name": "stdout",
          "text": [
            "Epoch: 117, TrL=0.0247, TrA=0.9907, VL=0.4730, VA=0.9005,  TeL=0.5413, TeA=0.8869\n"
          ]
        },
        {
          "output_type": "stream",
          "name": "stderr",
          "text": [
            " [Elapsed Time: 0:00:25] |###############| [Time:  0:00:25] [Train Acc:    1.0]\n"
          ]
        },
        {
          "output_type": "stream",
          "name": "stdout",
          "text": [
            "Epoch: 118, TrL=0.0208, TrA=0.9922, VL=0.4927, VA=0.8957,  TeL=0.5442, TeA=0.8896\n"
          ]
        },
        {
          "output_type": "stream",
          "name": "stderr",
          "text": [
            " [Elapsed Time: 0:00:25] |###############| [Time:  0:00:25] [Train Acc:    1.0]\n"
          ]
        },
        {
          "output_type": "stream",
          "name": "stdout",
          "text": [
            "Epoch: 119, TrL=0.0240, TrA=0.9910, VL=0.4945, VA=0.8923,  TeL=0.5578, TeA=0.8777\n"
          ]
        },
        {
          "output_type": "stream",
          "name": "stderr",
          "text": [
            " [Elapsed Time: 0:00:25] |###############| [Time:  0:00:25] [Train Acc:  0.969]\n"
          ]
        },
        {
          "output_type": "stream",
          "name": "stdout",
          "text": [
            "Epoch: 120, TrL=0.0263, TrA=0.9904, VL=0.4969, VA=0.8906,  TeL=0.5576, TeA=0.8777\n"
          ]
        },
        {
          "output_type": "stream",
          "name": "stderr",
          "text": [
            " [Elapsed Time: 0:00:25] |###############| [Time:  0:00:25] [Train Acc:  0.969]\n"
          ]
        },
        {
          "output_type": "stream",
          "name": "stdout",
          "text": [
            "Epoch: 121, TrL=0.0289, TrA=0.9887, VL=0.4946, VA=0.8899,  TeL=0.5489, TeA=0.8811\n"
          ]
        },
        {
          "output_type": "stream",
          "name": "stderr",
          "text": [
            " [Elapsed Time: 0:00:25] |###############| [Time:  0:00:25] [Train Acc:  0.984]\n"
          ]
        },
        {
          "output_type": "stream",
          "name": "stdout",
          "text": [
            "Epoch: 122, TrL=0.0331, TrA=0.9871, VL=0.5015, VA=0.8842,  TeL=0.5377, TeA=0.8753\n"
          ]
        },
        {
          "output_type": "stream",
          "name": "stderr",
          "text": [
            " [Elapsed Time: 0:00:25] |###############| [Time:  0:00:25] [Train Acc:  0.969]\n"
          ]
        },
        {
          "output_type": "stream",
          "name": "stdout",
          "text": [
            "Epoch: 123, TrL=0.0234, TrA=0.9914, VL=0.5022, VA=0.8978,  TeL=0.5567, TeA=0.8916\n"
          ]
        },
        {
          "output_type": "stream",
          "name": "stderr",
          "text": [
            " [Elapsed Time: 0:00:25] |###############| [Time:  0:00:25] [Train Acc:  0.969]\n"
          ]
        },
        {
          "output_type": "stream",
          "name": "stdout",
          "text": [
            "Epoch: 124, TrL=0.0203, TrA=0.9928, VL=0.5014, VA=0.8916,  TeL=0.5579, TeA=0.8865\n"
          ]
        },
        {
          "output_type": "stream",
          "name": "stderr",
          "text": [
            " [Elapsed Time: 0:00:25] |###############| [Time:  0:00:25] [Train Acc:  0.984]\n"
          ]
        },
        {
          "output_type": "stream",
          "name": "stdout",
          "text": [
            "Epoch: 125, TrL=0.0224, TrA=0.9915, VL=0.5210, VA=0.8903,  TeL=0.5768, TeA=0.8845\n"
          ]
        },
        {
          "output_type": "stream",
          "name": "stderr",
          "text": [
            " [Elapsed Time: 0:00:25] |###############| [Time:  0:00:25] [Train Acc:  0.984]\n"
          ]
        },
        {
          "output_type": "stream",
          "name": "stdout",
          "text": [
            "Epoch: 126, TrL=0.0295, TrA=0.9890, VL=0.4927, VA=0.8815,  TeL=0.5571, TeA=0.8784\n"
          ]
        },
        {
          "output_type": "stream",
          "name": "stderr",
          "text": [
            " [Elapsed Time: 0:00:25] |###############| [Time:  0:00:25] [Train Acc:  0.984]\n"
          ]
        },
        {
          "output_type": "stream",
          "name": "stdout",
          "text": [
            "Epoch: 127, TrL=0.0359, TrA=0.9860, VL=0.4633, VA=0.8852,  TeL=0.5335, TeA=0.8753\n"
          ]
        },
        {
          "output_type": "stream",
          "name": "stderr",
          "text": [
            " [Elapsed Time: 0:00:25] |###############| [Time:  0:00:25] [Train Acc:  0.969]\n"
          ]
        },
        {
          "output_type": "stream",
          "name": "stdout",
          "text": [
            "Epoch: 128, TrL=0.0267, TrA=0.9905, VL=0.4720, VA=0.9032,  TeL=0.5599, TeA=0.8872\n"
          ]
        },
        {
          "output_type": "stream",
          "name": "stderr",
          "text": [
            " [Elapsed Time: 0:00:25] |###############| [Time:  0:00:25] [Train Acc:  0.984]\n"
          ]
        },
        {
          "output_type": "stream",
          "name": "stdout",
          "text": [
            "Epoch: 129, TrL=0.0200, TrA=0.9927, VL=0.5326, VA=0.8838,  TeL=0.5934, TeA=0.8784\n"
          ]
        },
        {
          "output_type": "stream",
          "name": "stderr",
          "text": [
            " [Elapsed Time: 0:00:25] |###############| [Time:  0:00:25] [Train Acc:    1.0]\n"
          ]
        },
        {
          "output_type": "stream",
          "name": "stdout",
          "text": [
            "Epoch: 130, TrL=0.0248, TrA=0.9903, VL=0.5094, VA=0.8801,  TeL=0.5490, TeA=0.8753\n"
          ]
        },
        {
          "output_type": "stream",
          "name": "stderr",
          "text": [
            " [Elapsed Time: 0:00:25] |###############| [Time:  0:00:25] [Train Acc:    1.0]\n"
          ]
        },
        {
          "output_type": "stream",
          "name": "stdout",
          "text": [
            "Epoch: 131, TrL=0.0282, TrA=0.9889, VL=0.4979, VA=0.8821,  TeL=0.5383, TeA=0.8798\n"
          ]
        },
        {
          "output_type": "stream",
          "name": "stderr",
          "text": [
            " [Elapsed Time: 0:00:25] |###############| [Time:  0:00:25] [Train Acc:  0.984]\n"
          ]
        },
        {
          "output_type": "stream",
          "name": "stdout",
          "text": [
            "Epoch: 132, TrL=0.0267, TrA=0.9901, VL=0.4885, VA=0.8899,  TeL=0.5451, TeA=0.8787\n"
          ]
        },
        {
          "output_type": "stream",
          "name": "stderr",
          "text": [
            " [Elapsed Time: 0:00:25] |###############| [Time:  0:00:25] [Train Acc:    1.0]\n"
          ]
        },
        {
          "output_type": "stream",
          "name": "stdout",
          "text": [
            "Epoch: 133, TrL=0.0242, TrA=0.9909, VL=0.5076, VA=0.8950,  TeL=0.5778, TeA=0.8815\n"
          ]
        },
        {
          "output_type": "stream",
          "name": "stderr",
          "text": [
            " [Elapsed Time: 0:00:25] |###############| [Time:  0:00:25] [Train Acc:    1.0]\n"
          ]
        },
        {
          "output_type": "stream",
          "name": "stdout",
          "text": [
            "Epoch: 134, TrL=0.0210, TrA=0.9922, VL=0.5166, VA=0.8893,  TeL=0.5911, TeA=0.8828\n"
          ]
        },
        {
          "output_type": "stream",
          "name": "stderr",
          "text": [
            " [Elapsed Time: 0:00:25] |###############| [Time:  0:00:25] [Train Acc:  0.953]\n"
          ]
        },
        {
          "output_type": "stream",
          "name": "stdout",
          "text": [
            "Epoch: 135, TrL=0.0319, TrA=0.9883, VL=0.5155, VA=0.8835,  TeL=0.5609, TeA=0.8804\n"
          ]
        },
        {
          "output_type": "stream",
          "name": "stderr",
          "text": [
            " [Elapsed Time: 0:00:25] |###############| [Time:  0:00:25] [Train Acc:    1.0]\n"
          ]
        },
        {
          "output_type": "stream",
          "name": "stdout",
          "text": [
            "Epoch: 136, TrL=0.0234, TrA=0.9915, VL=0.5046, VA=0.8971,  TeL=0.5721, TeA=0.8879\n"
          ]
        },
        {
          "output_type": "stream",
          "name": "stderr",
          "text": [
            " [Elapsed Time: 0:00:25] |###############| [Time:  0:00:25] [Train Acc:    1.0]\n"
          ]
        },
        {
          "output_type": "stream",
          "name": "stdout",
          "text": [
            "Epoch: 137, TrL=0.0217, TrA=0.9923, VL=0.4929, VA=0.8998,  TeL=0.5558, TeA=0.8886\n"
          ]
        },
        {
          "output_type": "stream",
          "name": "stderr",
          "text": [
            " [Elapsed Time: 0:00:25] |###############| [Time:  0:00:25] [Train Acc:    1.0]\n"
          ]
        },
        {
          "output_type": "stream",
          "name": "stdout",
          "text": [
            "Epoch: 138, TrL=0.0241, TrA=0.9911, VL=0.5031, VA=0.8933,  TeL=0.5806, TeA=0.8835\n"
          ]
        },
        {
          "output_type": "stream",
          "name": "stderr",
          "text": [
            " [Elapsed Time: 0:00:25] |###############| [Time:  0:00:25] [Train Acc:    1.0]\n"
          ]
        },
        {
          "output_type": "stream",
          "name": "stdout",
          "text": [
            "Epoch: 139, TrL=0.0433, TrA=0.9837, VL=0.4828, VA=0.8852,  TeL=0.5346, TeA=0.8808\n"
          ]
        },
        {
          "output_type": "stream",
          "name": "stderr",
          "text": [
            " [Elapsed Time: 0:00:25] |###############| [Time:  0:00:25] [Train Acc:  0.969]\n"
          ]
        },
        {
          "output_type": "stream",
          "name": "stdout",
          "text": [
            "Epoch: 140, TrL=0.0252, TrA=0.9905, VL=0.4907, VA=0.8944,  TeL=0.5488, TeA=0.8855\n"
          ]
        },
        {
          "output_type": "stream",
          "name": "stderr",
          "text": [
            " [Elapsed Time: 0:00:25] |###############| [Time:  0:00:25] [Train Acc:    1.0]\n"
          ]
        },
        {
          "output_type": "stream",
          "name": "stdout",
          "text": [
            "Epoch: 141, TrL=0.0197, TrA=0.9932, VL=0.5006, VA=0.8971,  TeL=0.5601, TeA=0.8920\n"
          ]
        },
        {
          "output_type": "stream",
          "name": "stderr",
          "text": [
            " [Elapsed Time: 0:00:25] |###############| [Time:  0:00:25] [Train Acc:    1.0]\n"
          ]
        },
        {
          "output_type": "stream",
          "name": "stdout",
          "text": [
            "Epoch: 142, TrL=0.0161, TrA=0.9945, VL=0.5364, VA=0.8944,  TeL=0.5785, TeA=0.8872\n"
          ]
        },
        {
          "output_type": "stream",
          "name": "stderr",
          "text": [
            " [Elapsed Time: 0:00:25] |###############| [Time:  0:00:25] [Train Acc:    1.0]\n"
          ]
        },
        {
          "output_type": "stream",
          "name": "stdout",
          "text": [
            "Epoch: 143, TrL=0.0177, TrA=0.9935, VL=0.5455, VA=0.8950,  TeL=0.5986, TeA=0.8913\n"
          ]
        },
        {
          "output_type": "stream",
          "name": "stderr",
          "text": [
            " [Elapsed Time: 0:00:25] |###############| [Time:  0:00:25] [Train Acc:    1.0]\n"
          ]
        },
        {
          "output_type": "stream",
          "name": "stdout",
          "text": [
            "Epoch: 144, TrL=0.0438, TrA=0.9835, VL=0.4450, VA=0.8849,  TeL=0.4917, TeA=0.8770\n"
          ]
        },
        {
          "output_type": "stream",
          "name": "stderr",
          "text": [
            " [Elapsed Time: 0:00:25] |###############| [Time:  0:00:25] [Train Acc:    1.0]\n"
          ]
        },
        {
          "output_type": "stream",
          "name": "stdout",
          "text": [
            "Epoch: 145, TrL=0.0339, TrA=0.9868, VL=0.4786, VA=0.8913,  TeL=0.5281, TeA=0.8876\n"
          ]
        },
        {
          "output_type": "stream",
          "name": "stderr",
          "text": [
            " [Elapsed Time: 0:00:25] |###############| [Time:  0:00:25] [Train Acc:    1.0]\n"
          ]
        },
        {
          "output_type": "stream",
          "name": "stdout",
          "text": [
            "Epoch: 146, TrL=0.0222, TrA=0.9923, VL=0.4927, VA=0.8852,  TeL=0.5383, TeA=0.8781\n"
          ]
        },
        {
          "output_type": "stream",
          "name": "stderr",
          "text": [
            " [Elapsed Time: 0:00:25] |###############| [Time:  0:00:25] [Train Acc:    1.0]\n"
          ]
        },
        {
          "output_type": "stream",
          "name": "stdout",
          "text": [
            "Epoch: 147, TrL=0.0196, TrA=0.9933, VL=0.5204, VA=0.8828,  TeL=0.5630, TeA=0.8750\n"
          ]
        },
        {
          "output_type": "stream",
          "name": "stderr",
          "text": [
            " [Elapsed Time: 0:00:25] |###############| [Time:  0:00:25] [Train Acc:  0.984]\n"
          ]
        },
        {
          "output_type": "stream",
          "name": "stdout",
          "text": [
            "Epoch: 148, TrL=0.0279, TrA=0.9895, VL=0.5502, VA=0.8815,  TeL=0.5852, TeA=0.8784\n"
          ]
        },
        {
          "output_type": "stream",
          "name": "stderr",
          "text": [
            " [Elapsed Time: 0:00:25] |###############| [Time:  0:00:25] [Train Acc:  0.984]\n"
          ]
        },
        {
          "output_type": "stream",
          "name": "stdout",
          "text": [
            "Epoch: 149, TrL=0.0296, TrA=0.9892, VL=0.4954, VA=0.8702,  TeL=0.5541, TeA=0.8621\n"
          ]
        },
        {
          "output_type": "stream",
          "name": "stderr",
          "text": [
            " [Elapsed Time: 0:00:25] |###############| [Time:  0:00:25] [Train Acc:    1.0]\n"
          ]
        },
        {
          "output_type": "stream",
          "name": "stdout",
          "text": [
            "Epoch: 150, TrL=0.0286, TrA=0.9890, VL=0.5240, VA=0.8879,  TeL=0.5557, TeA=0.8804\n"
          ]
        }
      ]
    },
    {
      "cell_type": "code",
      "metadata": {
        "colab": {
          "base_uri": "https://localhost:8080/"
        },
        "id": "LPCRaqFYPfTt",
        "outputId": "3e3293e5-ae7a-4a8d-8718-35ab9bb4deb5"
      },
      "source": [
        "# Test review\n",
        "#1 stars\n",
        "#review = \"Beaucoup de déception sur la qualité des produits malgré une descrition accrocheuse Je ne recommanderai pas votre maison à mon entourage\"\n",
        "#5 stars\n",
        "#review = \"Jai apprécié la simplicité la rapidité et léconomie merci\"\n",
        "review = \"service client pire de l histoire\"\n",
        "review = [vocab[w] for w in review.split(\" \")]\n",
        "review = [0]*(seq_len - len(review)) + review\n",
        "review = torch.LongTensor(review).unsqueeze(0).to(dev)\n",
        "# Process review\n",
        "model.eval()\n",
        "output = model(review)\n",
        "probabilities = F.softmax(output,1)\n",
        "_,pred = output.max(1)\n",
        "pred = pred[0]\n",
        "print((\"positive\" if pred == 1 else \"negative\") + f\" ({100*probabilities[0,pred]:.1f}%)\")"
      ],
      "execution_count": null,
      "outputs": [
        {
          "output_type": "stream",
          "name": "stdout",
          "text": [
            "negative (56.7%)\n"
          ]
        }
      ]
    },
    {
      "cell_type": "code",
      "metadata": {
        "id": "8hWbyC5I3hFU"
      },
      "source": [
        "#save model\n",
        "model_save_name = 'trustpilot_france.pt'\n",
        "path = F\"/content/drive/My Drive/trustpilot/{model_save_name}\" \n",
        "torch.save(model.state_dict(), path)"
      ],
      "execution_count": null,
      "outputs": []
    },
    {
      "cell_type": "code",
      "metadata": {
        "colab": {
          "base_uri": "https://localhost:8080/"
        },
        "id": "nNW4SzTT31U2",
        "outputId": "89c9f04e-a015-4e70-b395-53eada6f291e"
      },
      "source": [
        "#load model\n",
        "model_name = 'trustpilot_france.pt'\n",
        "path = F\"/content/drive/My Drive/trustpilot/{model_name}\" \n",
        "model.load_state_dict(torch.load(path))\n"
      ],
      "execution_count": null,
      "outputs": [
        {
          "output_type": "execute_result",
          "data": {
            "text/plain": [
              "<All keys matched successfully>"
            ]
          },
          "metadata": {},
          "execution_count": 42
        }
      ]
    }
  ]
}
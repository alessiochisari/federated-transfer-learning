{
  "nbformat": 4,
  "nbformat_minor": 0,
  "metadata": {
    "accelerator": "GPU",
    "colab": {
      "name": "trustpilot_usa",
      "provenance": [],
      "collapsed_sections": []
    },
    "kernelspec": {
      "display_name": "Python 3",
      "name": "python3"
    },
    "language_info": {
      "name": "python"
    }
  },
  "cells": [
    {
      "cell_type": "code",
      "metadata": {
        "colab": {
          "base_uri": "https://localhost:8080/"
        },
        "id": "yJVL4CQ3Qdfg",
        "outputId": "b6919320-e07b-4fa6-b6bd-c2a8da1330b9"
      },
      "source": [
        "!pip install --upgrade progressbar2"
      ],
      "execution_count": null,
      "outputs": [
        {
          "output_type": "stream",
          "name": "stdout",
          "text": [
            "Requirement already satisfied: progressbar2 in /usr/local/lib/python3.7/dist-packages (3.53.2)\n",
            "Requirement already satisfied: python-utils>=2.3.0 in /usr/local/lib/python3.7/dist-packages (from progressbar2) (2.5.6)\n",
            "Requirement already satisfied: six in /usr/local/lib/python3.7/dist-packages (from progressbar2) (1.15.0)\n"
          ]
        }
      ]
    },
    {
      "cell_type": "code",
      "metadata": {
        "colab": {
          "base_uri": "https://localhost:8080/"
        },
        "id": "FJWN1-CGABoW",
        "outputId": "22e31f4a-6555-4a90-89b4-e500044bd098"
      },
      "source": [
        "# Define root directory from Google Drive\n",
        "from google.colab import drive\n",
        "import os\n",
        "drive.mount('/content/drive')\n",
        "drive.mount(\"/content/drive\", force_remount=True)\n",
        "os.chdir(\"/content/drive/My Drive/trustpilot\")\n",
        "os.listdir()"
      ],
      "execution_count": null,
      "outputs": [
        {
          "output_type": "stream",
          "name": "stdout",
          "text": [
            "Drive already mounted at /content/drive; to attempt to forcibly remount, call drive.mount(\"/content/drive\", force_remount=True).\n",
            "Mounted at /content/drive\n"
          ]
        },
        {
          "output_type": "execute_result",
          "data": {
            "text/plain": [
              "['united_states.auto-adjusted_gender.geocoded.json',\n",
              " 'france.auto-adjusted_gender.NUTS-regions.json',\n",
              " 'france.json',\n",
              " 'trustpilot.pt',\n",
              " '.ipynb_checkpoints',\n",
              " 'united_states.json',\n",
              " 'trustpilot_usa.pt']"
            ]
          },
          "metadata": {},
          "execution_count": 2
        }
      ]
    },
    {
      "cell_type": "code",
      "metadata": {
        "id": "l1I07rrLt3H5",
        "colab": {
          "base_uri": "https://localhost:8080/"
        },
        "outputId": "e6ae42c4-a268-445a-dfc1-5a5520d3f14a"
      },
      "source": [
        "# Import Torch\n",
        "import torch\n",
        "# Setup device\n",
        "dev = torch.device(\"cuda\" if torch.cuda.is_available() else \"cpu\")\n",
        "print(dev)"
      ],
      "execution_count": null,
      "outputs": [
        {
          "output_type": "stream",
          "name": "stdout",
          "text": [
            "cuda\n"
          ]
        }
      ]
    },
    {
      "cell_type": "code",
      "metadata": {
        "id": "SFusfdia3RU3"
      },
      "source": [
        "import ast\n",
        "\n",
        "json_path = \"france.auto-adjusted_gender.NUTS-regions.json\"\n",
        "h = open(json_path,'r')\n",
        "\n",
        "data = []\n",
        "\n",
        "for l in h.readlines():\n",
        "    data.append(ast.literal_eval(l))\n",
        "\n",
        "h.close()"
      ],
      "execution_count": null,
      "outputs": []
    },
    {
      "cell_type": "code",
      "metadata": {
        "id": "Y-FGBNgR8KV2"
      },
      "source": [
        "data[0]['reviews'][0]['text'][0]"
      ],
      "execution_count": null,
      "outputs": []
    },
    {
      "cell_type": "code",
      "metadata": {
        "id": "VZXYFnR3efkM"
      },
      "source": [
        "import json\n",
        "with open('france.json', 'w') as json_file:\n",
        "    json.dump(data, json_file)"
      ],
      "execution_count": null,
      "outputs": []
    },
    {
      "cell_type": "code",
      "metadata": {
        "id": "6mGo_ng1dgeC"
      },
      "source": [
        "import ast\n",
        "json_path = \"united_states.auto-adjusted_gender.geocoded.json\"\n",
        "h = open(json_path,'r')\n",
        "\n",
        "data = []\n",
        "\n",
        "for l in h.readlines():\n",
        "    data.append(ast.literal_eval(l))\n",
        "\n",
        "h.close()"
      ],
      "execution_count": null,
      "outputs": []
    },
    {
      "cell_type": "code",
      "metadata": {
        "id": "UEoYSIfLfbgR"
      },
      "source": [
        "import json\n",
        "with open('united_states.json', 'w') as json_file:\n",
        "    json.dump(data, json_file)"
      ],
      "execution_count": null,
      "outputs": []
    },
    {
      "cell_type": "code",
      "metadata": {
        "id": "WvNg2d1TrHVM"
      },
      "source": [
        "import json\n",
        "  \n",
        "# Opening JSON file\n",
        "f = open('united_states.json',)\n",
        "  \n",
        "# returns JSON object as \n",
        "# a dictionary\n",
        "data = json.load(f)\n",
        "  \n",
        "# Closing file\n",
        "f.close()"
      ],
      "execution_count": null,
      "outputs": []
    },
    {
      "cell_type": "code",
      "metadata": {
        "id": "qfj2aVjTH7wZ"
      },
      "source": [
        "usa_reviews = []\n",
        "usa_targets = []"
      ],
      "execution_count": null,
      "outputs": []
    },
    {
      "cell_type": "code",
      "metadata": {
        "colab": {
          "base_uri": "https://localhost:8080/"
        },
        "id": "wiPoRvJTrZsn",
        "outputId": "aacc5f58-566c-4aaa-edf3-4c02c139b772"
      },
      "source": [
        "from string import punctuation\n",
        "print(len(data))\n",
        "count = 0\n",
        "for i in range(0, len(data)):\n",
        "  if (data[i]['reviews'][0]['text'] != [] and (''.join([c for c in data[i]['reviews'][0]['text'][0] if c not in punctuation]))!= '' and count < 30000):\n",
        "    usa_reviews.append(data[i]['reviews'][0]['text'][0])\n",
        "    usa_targets.append(int(data[i]['reviews'][0]['rating']))\n",
        "    count = count + 1"
      ],
      "execution_count": null,
      "outputs": [
        {
          "output_type": "stream",
          "name": "stdout",
          "text": [
            "648784\n"
          ]
        }
      ]
    },
    {
      "cell_type": "code",
      "metadata": {
        "id": "nqKeLLxx4Rmd",
        "colab": {
          "base_uri": "https://localhost:8080/"
        },
        "outputId": "a0e369e2-20fe-49c5-e73c-89cab7a2ba32"
      },
      "source": [
        "print(len(usa_reviews))\n",
        "print(len(usa_targets))"
      ],
      "execution_count": null,
      "outputs": [
        {
          "output_type": "stream",
          "name": "stdout",
          "text": [
            "30000\n",
            "30000\n"
          ]
        }
      ]
    },
    {
      "cell_type": "code",
      "metadata": {
        "id": "ImlPVRif4ed1"
      },
      "source": [
        "# Remove punctuaction\n",
        "for i in range(0, len(usa_reviews)):\n",
        "  usa_reviews[i] = ''.join([c for c in usa_reviews[i] if c not in punctuation])"
      ],
      "execution_count": null,
      "outputs": []
    },
    {
      "cell_type": "code",
      "metadata": {
        "id": "bMEqT3J_M2Ru",
        "colab": {
          "base_uri": "https://localhost:8080/"
        },
        "outputId": "407af554-fe47-4b0d-b269-a33730a14e7e"
      },
      "source": [
        "print(len(usa_reviews))\n",
        "print(len(usa_targets))\n",
        "print(usa_reviews[10])"
      ],
      "execution_count": null,
      "outputs": [
        {
          "output_type": "stream",
          "name": "stdout",
          "text": [
            "30000\n",
            "30000\n",
            "Have been impressed with my most recent order as usually i have to wait a couple weeks before i get mine as its quite a specific prescription Have alway supplied a top quality products and service since i started using them 2 years ago Would recommend to all\n"
          ]
        }
      ]
    },
    {
      "cell_type": "code",
      "metadata": {
        "id": "DpxOLG94P_BB"
      },
      "source": [
        "x = [w for w in usa_reviews[10].split(\" \") if len(w) > 0]"
      ],
      "execution_count": null,
      "outputs": []
    },
    {
      "cell_type": "code",
      "metadata": {
        "id": "XybGcFfIQRB3",
        "colab": {
          "base_uri": "https://localhost:8080/"
        },
        "outputId": "801be1be-a80a-43fb-b1e8-c132957aab56"
      },
      "source": [
        "x"
      ],
      "execution_count": null,
      "outputs": [
        {
          "output_type": "execute_result",
          "data": {
            "text/plain": [
              "['Have',\n",
              " 'been',\n",
              " 'impressed',\n",
              " 'with',\n",
              " 'my',\n",
              " 'most',\n",
              " 'recent',\n",
              " 'order',\n",
              " 'as',\n",
              " 'usually',\n",
              " 'i',\n",
              " 'have',\n",
              " 'to',\n",
              " 'wait',\n",
              " 'a',\n",
              " 'couple',\n",
              " 'weeks',\n",
              " 'before',\n",
              " 'i',\n",
              " 'get',\n",
              " 'mine',\n",
              " 'as',\n",
              " 'its',\n",
              " 'quite',\n",
              " 'a',\n",
              " 'specific',\n",
              " 'prescription',\n",
              " 'Have',\n",
              " 'alway',\n",
              " 'supplied',\n",
              " 'a',\n",
              " 'top',\n",
              " 'quality',\n",
              " 'products',\n",
              " 'and',\n",
              " 'service',\n",
              " 'since',\n",
              " 'i',\n",
              " 'started',\n",
              " 'using',\n",
              " 'them',\n",
              " '2',\n",
              " 'years',\n",
              " 'ago',\n",
              " 'Would',\n",
              " 'recommend',\n",
              " 'to',\n",
              " 'all']"
            ]
          },
          "metadata": {},
          "execution_count": 11
        }
      ]
    },
    {
      "cell_type": "code",
      "metadata": {
        "id": "XeZBQl2FSgAq",
        "colab": {
          "base_uri": "https://localhost:8080/"
        },
        "outputId": "d121ff8d-ac63-4d92-957f-6bf49a427baa"
      },
      "source": [
        "count=0\n",
        "for r in range(0, len(usa_reviews)):\n",
        "  if len(usa_reviews[r])<= 0:\n",
        "    print(r)\n",
        "    count=count+1\n",
        "\n",
        "print(count)"
      ],
      "execution_count": null,
      "outputs": [
        {
          "output_type": "stream",
          "name": "stdout",
          "text": [
            "0\n"
          ]
        }
      ]
    },
    {
      "cell_type": "code",
      "metadata": {
        "id": "dbIUWv5pNZDM"
      },
      "source": [
        "# Split words\n",
        "usa_reviews = [[w for w in r.split(\" \") if len(w) > 0] for r in usa_reviews if len(r) > 0]"
      ],
      "execution_count": null,
      "outputs": []
    },
    {
      "cell_type": "code",
      "metadata": {
        "id": "mjvCpYeLNmSi",
        "colab": {
          "base_uri": "https://localhost:8080/"
        },
        "outputId": "e149b379-e335-44ff-f064-6e2b49d8e6e0"
      },
      "source": [
        "print(len(usa_reviews))\n",
        "print(len(usa_targets))\n",
        "print(usa_reviews[10])\n",
        "print(usa_targets[10])"
      ],
      "execution_count": null,
      "outputs": [
        {
          "output_type": "stream",
          "name": "stdout",
          "text": [
            "30000\n",
            "30000\n",
            "['Have', 'been', 'impressed', 'with', 'my', 'most', 'recent', 'order', 'as', 'usually', 'i', 'have', 'to', 'wait', 'a', 'couple', 'weeks', 'before', 'i', 'get', 'mine', 'as', 'its', 'quite', 'a', 'specific', 'prescription', 'Have', 'alway', 'supplied', 'a', 'top', 'quality', 'products', 'and', 'service', 'since', 'i', 'started', 'using', 'them', '2', 'years', 'ago', 'Would', 'recommend', 'to', 'all']\n",
            "5\n"
          ]
        }
      ]
    },
    {
      "cell_type": "code",
      "metadata": {
        "id": "hyKOpwyrKLfr",
        "colab": {
          "base_uri": "https://localhost:8080/"
        },
        "outputId": "128ad23a-cea5-452d-dccb-1da25c27cf15"
      },
      "source": [
        "# Print average review length\n",
        "review_lens = [len(r) for r in usa_reviews]\n",
        "print(sum(review_lens)/len(review_lens))"
      ],
      "execution_count": null,
      "outputs": [
        {
          "output_type": "stream",
          "name": "stdout",
          "text": [
            "34.4464\n"
          ]
        }
      ]
    },
    {
      "cell_type": "code",
      "metadata": {
        "id": "jEfSQMF0KfQ0"
      },
      "source": [
        "# Build vocabulary\n",
        "# Start index = 1, we need 0 to pad sequences\n",
        "words = list(set([w for r in usa_reviews for w in r]))\n",
        "vocab = {words[i]: i+1 for i in range(len(words))}"
      ],
      "execution_count": null,
      "outputs": []
    },
    {
      "cell_type": "code",
      "metadata": {
        "colab": {
          "base_uri": "https://localhost:8080/"
        },
        "id": "y2QLWPOrKl-V",
        "outputId": "7a2eabd9-db8f-4f52-a6ce-5f9c37266b0b"
      },
      "source": [
        "len(vocab)"
      ],
      "execution_count": null,
      "outputs": [
        {
          "output_type": "execute_result",
          "data": {
            "text/plain": [
              "40894"
            ]
          },
          "metadata": {},
          "execution_count": 17
        }
      ]
    },
    {
      "cell_type": "code",
      "metadata": {
        "id": "34l_3DZpKosP"
      },
      "source": [
        "# Convert reviews to word indexes\n",
        "usa_reviews = [[vocab[w] for w in r] for r in usa_reviews]"
      ],
      "execution_count": null,
      "outputs": []
    },
    {
      "cell_type": "code",
      "metadata": {
        "colab": {
          "base_uri": "https://localhost:8080/"
        },
        "id": "OHGttVXeKtyb",
        "outputId": "2675b5a0-d51f-4855-b237-14f41371fbee"
      },
      "source": [
        "usa_reviews[10]"
      ],
      "execution_count": null,
      "outputs": [
        {
          "output_type": "execute_result",
          "data": {
            "text/plain": [
              "[2349,\n",
              " 30919,\n",
              " 5286,\n",
              " 27209,\n",
              " 31171,\n",
              " 6973,\n",
              " 19143,\n",
              " 8913,\n",
              " 29999,\n",
              " 11249,\n",
              " 17569,\n",
              " 27852,\n",
              " 10349,\n",
              " 33448,\n",
              " 27501,\n",
              " 30891,\n",
              " 14152,\n",
              " 17851,\n",
              " 17569,\n",
              " 12578,\n",
              " 21728,\n",
              " 29999,\n",
              " 1507,\n",
              " 40488,\n",
              " 27501,\n",
              " 36694,\n",
              " 36873,\n",
              " 2349,\n",
              " 32387,\n",
              " 33174,\n",
              " 27501,\n",
              " 30845,\n",
              " 39770,\n",
              " 481,\n",
              " 29596,\n",
              " 25690,\n",
              " 2341,\n",
              " 17569,\n",
              " 21383,\n",
              " 4733,\n",
              " 27311,\n",
              " 15208,\n",
              " 37185,\n",
              " 10090,\n",
              " 2942,\n",
              " 2966,\n",
              " 10349,\n",
              " 30017]"
            ]
          },
          "metadata": {},
          "execution_count": 19
        }
      ]
    },
    {
      "cell_type": "code",
      "metadata": {
        "id": "EuI1CmfrK3UG"
      },
      "source": [
        "# Imports\n",
        "import torch\n",
        "import torch.nn as nn\n",
        "import torch.nn.functional as F\n",
        "from torch.utils.data import TensorDataset, DataLoader\n",
        "import urllib\n",
        "\n",
        "# Parameters\n",
        "seq_len = 30\n",
        "frac_train = 0.8\n",
        "frac_val = 0.1\n",
        "batch_size = 64"
      ],
      "execution_count": null,
      "outputs": []
    },
    {
      "cell_type": "code",
      "metadata": {
        "id": "Fk9qfYODLBSO"
      },
      "source": [
        "# Clip reviews to max seq_len words\n",
        "usa_reviews = [r[:seq_len] for r in usa_reviews]"
      ],
      "execution_count": null,
      "outputs": []
    },
    {
      "cell_type": "code",
      "metadata": {
        "colab": {
          "base_uri": "https://localhost:8080/"
        },
        "id": "glwqTXQkLF4b",
        "outputId": "e235ff16-7a90-4b93-f074-78093f4091f0"
      },
      "source": [
        "# Print average review length now\n",
        "review_lens = [len(r) for r in usa_reviews]\n",
        "print(sum(review_lens)/len(review_lens))"
      ],
      "execution_count": null,
      "outputs": [
        {
          "output_type": "stream",
          "name": "stdout",
          "text": [
            "21.182033333333333\n"
          ]
        }
      ]
    },
    {
      "cell_type": "code",
      "metadata": {
        "id": "bDLycv5bLQW3"
      },
      "source": [
        "# Pad reviews shorter than seq_len\n",
        "usa_reviews = [[0]*(seq_len - len(r)) + r for r in usa_reviews]"
      ],
      "execution_count": null,
      "outputs": []
    },
    {
      "cell_type": "code",
      "metadata": {
        "colab": {
          "base_uri": "https://localhost:8080/"
        },
        "id": "dJFYBeLmLUx6",
        "outputId": "1248e31d-1b31-47ee-a861-355f365a30d8"
      },
      "source": [
        "# Print average review length now\n",
        "review_lens = [len(r) for r in usa_reviews]\n",
        "print(sum(review_lens)/len(review_lens))"
      ],
      "execution_count": null,
      "outputs": [
        {
          "output_type": "stream",
          "name": "stdout",
          "text": [
            "30.0\n"
          ]
        }
      ]
    },
    {
      "cell_type": "code",
      "metadata": {
        "colab": {
          "base_uri": "https://localhost:8080/"
        },
        "id": "YP-cAWYELYWC",
        "outputId": "44d44069-cd1b-4ddc-d34e-081376b5a912"
      },
      "source": [
        "# Convert reviews to tensor\n",
        "data = torch.LongTensor(usa_reviews)\n",
        "print(data.size())"
      ],
      "execution_count": null,
      "outputs": [
        {
          "output_type": "stream",
          "name": "stdout",
          "text": [
            "torch.Size([30000, 30])\n"
          ]
        }
      ]
    },
    {
      "cell_type": "code",
      "metadata": {
        "colab": {
          "base_uri": "https://localhost:8080/"
        },
        "id": "8L69ZImvLnMi",
        "outputId": "2d414266-0501-49a5-9237-f525f64a1e88"
      },
      "source": [
        "# Load sentiments: less than 3 stars is negative (0), 4 and 5 are positive (1)   \n",
        "sentiments = [0 if f <= 3 else 1 for f in usa_targets]\n",
        "\n",
        "print(len(sentiments))"
      ],
      "execution_count": null,
      "outputs": [
        {
          "output_type": "stream",
          "name": "stdout",
          "text": [
            "30000\n"
          ]
        }
      ]
    },
    {
      "cell_type": "code",
      "metadata": {
        "colab": {
          "base_uri": "https://localhost:8080/"
        },
        "id": "lVCKKZTo--RM",
        "outputId": "343766be-df7b-4f70-828a-0f63a8e795ef"
      },
      "source": [
        "print(sentiments[10])"
      ],
      "execution_count": null,
      "outputs": [
        {
          "output_type": "stream",
          "name": "stdout",
          "text": [
            "1\n"
          ]
        }
      ]
    },
    {
      "cell_type": "code",
      "metadata": {
        "colab": {
          "base_uri": "https://localhost:8080/"
        },
        "id": "aEtdIHk_MfuI",
        "outputId": "647a3202-53b2-4fd2-80f3-6726cf5e2e68"
      },
      "source": [
        "# Convert sentiments to tensor\n",
        "labels = torch.LongTensor(sentiments)\n",
        "labels.size()"
      ],
      "execution_count": null,
      "outputs": [
        {
          "output_type": "execute_result",
          "data": {
            "text/plain": [
              "torch.Size([30000])"
            ]
          },
          "metadata": {},
          "execution_count": 28
        }
      ]
    },
    {
      "cell_type": "code",
      "metadata": {
        "id": "hQtEn6puMrPo"
      },
      "source": [
        "# Shuffle dataset\n",
        "num_data = data.size(0)\n",
        "shuffle_idx = torch.randperm(num_data)\n",
        "data = data[shuffle_idx,:]\n",
        "labels = labels[shuffle_idx]"
      ],
      "execution_count": null,
      "outputs": []
    },
    {
      "cell_type": "code",
      "metadata": {
        "id": "AoB78eOqMw8j"
      },
      "source": [
        "# Split training and test\n",
        "num_train = int(num_data*frac_train)\n",
        "num_val = int(num_data*frac_val)\n",
        "num_test = num_data - num_train - num_val\n",
        "train_data = data[:num_train,:]\n",
        "train_labels = labels[:num_train]\n",
        "val_data = data[num_train:num_train+num_val,:]\n",
        "val_labels = labels[num_train:num_train+num_val]\n",
        "test_data = data[num_train+num_val:,:]\n",
        "test_labels = labels[num_train+num_val:]"
      ],
      "execution_count": null,
      "outputs": []
    },
    {
      "cell_type": "code",
      "metadata": {
        "id": "HXQ2ZTNeMz2x"
      },
      "source": [
        "# Create datasets\n",
        "train_dataset = TensorDataset(train_data, train_labels)\n",
        "val_dataset = TensorDataset(val_data, val_labels)\n",
        "test_dataset = TensorDataset(test_data, test_labels)"
      ],
      "execution_count": null,
      "outputs": []
    },
    {
      "cell_type": "code",
      "metadata": {
        "id": "J_9u386PM3Li"
      },
      "source": [
        "# Create loaders\n",
        "loaders = {\"train\": DataLoader(train_dataset, batch_size=batch_size, shuffle=True,  drop_last=True),\n",
        "           \"val\":   DataLoader(val_dataset,   batch_size=batch_size, shuffle=False, drop_last=True),\n",
        "           \"test\":  DataLoader(test_dataset,  batch_size=batch_size, shuffle=False, drop_last=True)}"
      ],
      "execution_count": null,
      "outputs": []
    },
    {
      "cell_type": "code",
      "metadata": {
        "id": "-NDX3950M4KV"
      },
      "source": [
        "# Embedding module:\n",
        "# - size of input vocabulary\n",
        "# - size of output vector\n",
        "test_embed = nn.Embedding(5, 10)"
      ],
      "execution_count": null,
      "outputs": []
    },
    {
      "cell_type": "code",
      "metadata": {
        "colab": {
          "base_uri": "https://localhost:8080/"
        },
        "id": "ZHhP5iVn3bBq",
        "outputId": "5090851a-9bfb-45bb-cdbc-da54ab0f2c2b"
      },
      "source": [
        "# Example input to embedding: batch 2, sequence length 3\n",
        "input = torch.LongTensor([[3, 2, 1],[2, 3, 1]])\n",
        "print(input)"
      ],
      "execution_count": null,
      "outputs": [
        {
          "output_type": "stream",
          "name": "stdout",
          "text": [
            "tensor([[3, 2, 1],\n",
            "        [2, 3, 1]])\n"
          ]
        }
      ]
    },
    {
      "cell_type": "code",
      "metadata": {
        "colab": {
          "base_uri": "https://localhost:8080/"
        },
        "id": "j-295Ahs3bBq",
        "outputId": "610094f1-bf9d-4940-bfef-6178a91590a0"
      },
      "source": [
        "# Print embedding size\n",
        "test_embed(input).size()"
      ],
      "execution_count": null,
      "outputs": [
        {
          "output_type": "execute_result",
          "data": {
            "text/plain": [
              "torch.Size([2, 3, 10])"
            ]
          },
          "metadata": {},
          "execution_count": 35
        }
      ]
    },
    {
      "cell_type": "code",
      "metadata": {
        "id": "rWD2srgX3bBs"
      },
      "source": [
        "# Define model\n",
        "class Model(nn.Module):\n",
        "    \n",
        "    def __init__(self, embed_size, rnn_size):\n",
        "        # Call parent constructor\n",
        "        super().__init__()\n",
        "        # Store values\n",
        "        self.rnn_size = rnn_size\n",
        "        # Define modules\n",
        "        self.embedding = nn.Embedding(len(vocab)+1, embed_size)\n",
        "        self.rnn = nn.LSTMCell(embed_size, rnn_size)\n",
        "        self.output = nn.Linear(rnn_size, 2)\n",
        "        \n",
        "    def forward(self, x):\n",
        "        # Embed data\n",
        "        x = self.embedding(x)\n",
        "        # Initialize state\n",
        "        c = x.new_zeros(x.shape[0], self.rnn_size)\n",
        "        h = x.new_zeros(x.shape[0], self.rnn_size)\n",
        "        # Input is: BxTxF\n",
        "        # Process each time step\n",
        "        for t in range(x.shape[1]):\n",
        "            # Input at time t\n",
        "            x_t = x[:,t,:]\n",
        "            # Forward RNN and get new state\n",
        "            h,c = self.rnn(x_t, (h, c))\n",
        "        # Classify final state\n",
        "        x = self.output(h)\n",
        "        return x"
      ],
      "execution_count": null,
      "outputs": []
    },
    {
      "cell_type": "code",
      "metadata": {
        "id": "e4B1NA9f3bBs"
      },
      "source": [
        "# Setup device\n",
        "dev = torch.device(\"cuda\" if torch.cuda.is_available() else \"cpu\")"
      ],
      "execution_count": null,
      "outputs": []
    },
    {
      "cell_type": "code",
      "metadata": {
        "id": "HloUbLQR3bBt"
      },
      "source": [
        "# Model parameters\n",
        "embed_size = 1024\n",
        "rnn_size = 512"
      ],
      "execution_count": null,
      "outputs": []
    },
    {
      "cell_type": "code",
      "metadata": {
        "id": "jbaAqOtZ3bBu"
      },
      "source": [
        "# Create model\n",
        "model = Model(embed_size, rnn_size)\n",
        "model = model.to(dev)"
      ],
      "execution_count": null,
      "outputs": []
    },
    {
      "cell_type": "code",
      "metadata": {
        "colab": {
          "base_uri": "https://localhost:8080/"
        },
        "id": "yP1O5AWG3bBu",
        "outputId": "9eeb7f10-bf88-4a15-d518-d29ed9544f29"
      },
      "source": [
        "# Test model output\n",
        "model = model.to(dev)\n",
        "model.eval()\n",
        "test_input = train_dataset[0][0].unsqueeze(0).to(dev)\n",
        "print(\"Model output size:\", model(test_input).size())"
      ],
      "execution_count": null,
      "outputs": [
        {
          "output_type": "stream",
          "name": "stdout",
          "text": [
            "Model output size: torch.Size([1, 2])\n"
          ]
        }
      ]
    },
    {
      "cell_type": "code",
      "metadata": {
        "id": "6nPJmg313bBv"
      },
      "source": [
        "# Create optimizer\n",
        "optimizer = torch.optim.Adam(model.parameters(), lr=0.001, weight_decay=5e-4)"
      ],
      "execution_count": null,
      "outputs": []
    },
    {
      "cell_type": "code",
      "metadata": {
        "colab": {
          "base_uri": "https://localhost:8080/"
        },
        "id": "ehECRJL73bBw",
        "scrolled": true,
        "outputId": "31fbbf72-37af-44e7-b13f-21cf11e3a53a"
      },
      "source": [
        "import progressbar as pb\n",
        "# Start training\n",
        "for epoch in range(150):\n",
        "    # Initialize accumulators for computing average loss/accuracy\n",
        "    epoch_loss_sum = {'train': 0, 'val': 0, 'test': 0}\n",
        "    epoch_loss_cnt = {'train': 0, 'val': 0, 'test': 0}\n",
        "    epoch_accuracy_sum = {'train': 0, 'val': 0, 'test': 0}\n",
        "    epoch_accuracy_cnt = {'train': 0, 'val': 0, 'test': 0}\n",
        "    # Process each split\n",
        "    for split in [\"train\", \"val\", \"test\"]:\n",
        "        # Set network mode\n",
        "        if split == \"train\":\n",
        "            model.train()\n",
        "            torch.set_grad_enabled(True)\n",
        "            widgets = [\n",
        "              ' [', pb.Timer(), '] ',\n",
        "              pb.Bar(),\n",
        "              ' [', pb.ETA(), '] ', pb.Variable('ta','[Train Acc: {formatted_value}]')\n",
        "            ]\n",
        "\n",
        "            progbar = pb.ProgressBar(max_value=len(loaders[split]),widgets=widgets,redirect_stdout=True)\n",
        "\n",
        "        else:\n",
        "            model.eval()\n",
        "            torch.set_grad_enabled(False)\n",
        "        # Process all data in split\n",
        "        data_iter = iter(loaders[split])\n",
        "        data_len = len(loaders[split])\n",
        "        for i in range(data_len):\n",
        "            # Read data\n",
        "            input, target = next(data_iter)\n",
        "            # Move to device\n",
        "            input = input.to(dev)\n",
        "            target = target.to(dev)\n",
        "            # Forward\n",
        "            output = model(input)\n",
        "            loss = F.cross_entropy(output, target)\n",
        "            # Update loss sum\n",
        "            epoch_loss_sum[split] += loss.item()\n",
        "            epoch_loss_cnt[split] += 1\n",
        "            # Compute accuracy\n",
        "            pred = output.argmax(1)\n",
        "            correct = pred.eq(target).sum().item()\n",
        "            accuracy = correct/input.size(0)\n",
        "            # Update accuracy sum\n",
        "            epoch_accuracy_sum[split] += accuracy\n",
        "            epoch_accuracy_cnt[split] += 1\n",
        "            if (split=='train'):\n",
        "              progbar.update(i, ta=accuracy)\n",
        "            # Backward and optimize\n",
        "            if split == \"train\":\n",
        "                optimizer.zero_grad()\n",
        "                loss.backward()\n",
        "                optimizer.step()\n",
        "    # Compute average epoch loss/accuracy\n",
        "    avg_train_loss = epoch_loss_sum[\"train\"]/epoch_loss_cnt[\"train\"]\n",
        "    avg_train_accuracy = epoch_accuracy_sum[\"train\"]/epoch_accuracy_cnt[\"train\"]\n",
        "    avg_val_loss = epoch_loss_sum[\"val\"]/epoch_loss_cnt[\"val\"]\n",
        "    avg_val_accuracy = epoch_accuracy_sum[\"val\"]/epoch_accuracy_cnt[\"val\"]\n",
        "    avg_test_loss = epoch_loss_sum[\"test\"]/epoch_loss_cnt[\"test\"]\n",
        "    avg_test_accuracy = epoch_accuracy_sum[\"test\"]/epoch_accuracy_cnt[\"test\"]\n",
        "    if (progbar is not None):\n",
        "          progbar.finish()\n",
        "    print(f\"Epoch: {epoch+1}, TrL={avg_train_loss:.4f}, TrA={avg_train_accuracy:.4f},\",\n",
        "                            f\"VL={avg_val_loss:.4f}, VA={avg_val_accuracy:.4f}, \",\n",
        "                            f\"TeL={avg_test_loss:.4f}, TeA={avg_test_accuracy:.4f}\")"
      ],
      "execution_count": null,
      "outputs": [
        {
          "output_type": "stream",
          "name": "stderr",
          "text": [
            " [Elapsed Time: 0:00:36] |###############| [Time:  0:00:36] [Train Acc:  0.859]\n"
          ]
        },
        {
          "output_type": "stream",
          "name": "stdout",
          "text": [
            "Epoch: 1, TrL=0.2683, TrA=0.9005, VL=0.2403, VA=0.9086,  TeL=0.2413, TeA=0.9079\n"
          ]
        },
        {
          "output_type": "stream",
          "name": "stderr",
          "text": [
            " [Elapsed Time: 0:00:36] |###############| [Time:  0:00:36] [Train Acc:  0.875]\n"
          ]
        },
        {
          "output_type": "stream",
          "name": "stdout",
          "text": [
            "Epoch: 2, TrL=0.2092, TrA=0.9175, VL=0.2250, VA=0.9178,  TeL=0.2192, TeA=0.9198\n"
          ]
        },
        {
          "output_type": "stream",
          "name": "stderr",
          "text": [
            " [Elapsed Time: 0:00:36] |###############| [Time:  0:00:36] [Train Acc:  0.859]\n"
          ]
        },
        {
          "output_type": "stream",
          "name": "stdout",
          "text": [
            "Epoch: 3, TrL=0.1793, TrA=0.9291, VL=0.2184, VA=0.9147,  TeL=0.2165, TeA=0.9188\n"
          ]
        },
        {
          "output_type": "stream",
          "name": "stderr",
          "text": [
            " [Elapsed Time: 0:00:36] |###############| [Time:  0:00:36] [Train Acc:  0.922]\n"
          ]
        },
        {
          "output_type": "stream",
          "name": "stdout",
          "text": [
            "Epoch: 4, TrL=0.1625, TrA=0.9350, VL=0.2185, VA=0.9066,  TeL=0.2145, TeA=0.9188\n"
          ]
        },
        {
          "output_type": "stream",
          "name": "stderr",
          "text": [
            " [Elapsed Time: 0:00:36] |###############| [Time:  0:00:36] [Train Acc:  0.953]\n"
          ]
        },
        {
          "output_type": "stream",
          "name": "stdout",
          "text": [
            "Epoch: 5, TrL=0.1529, TrA=0.9398, VL=0.2127, VA=0.9168,  TeL=0.2154, TeA=0.9239\n"
          ]
        },
        {
          "output_type": "stream",
          "name": "stderr",
          "text": [
            " [Elapsed Time: 0:00:36] |###############| [Time:  0:00:36] [Train Acc:  0.906]\n"
          ]
        },
        {
          "output_type": "stream",
          "name": "stdout",
          "text": [
            "Epoch: 6, TrL=0.1487, TrA=0.9400, VL=0.2163, VA=0.9178,  TeL=0.2126, TeA=0.9246\n"
          ]
        },
        {
          "output_type": "stream",
          "name": "stderr",
          "text": [
            " [Elapsed Time: 0:00:36] |###############| [Time:  0:00:36] [Train Acc:  0.953]\n"
          ]
        },
        {
          "output_type": "stream",
          "name": "stdout",
          "text": [
            "Epoch: 7, TrL=0.1509, TrA=0.9405, VL=0.2163, VA=0.9147,  TeL=0.2183, TeA=0.9171\n"
          ]
        },
        {
          "output_type": "stream",
          "name": "stderr",
          "text": [
            " [Elapsed Time: 0:00:36] |###############| [Time:  0:00:36] [Train Acc:  0.953]\n"
          ]
        },
        {
          "output_type": "stream",
          "name": "stdout",
          "text": [
            "Epoch: 8, TrL=0.1538, TrA=0.9388, VL=0.2200, VA=0.9137,  TeL=0.2128, TeA=0.9209\n"
          ]
        },
        {
          "output_type": "stream",
          "name": "stderr",
          "text": [
            " [Elapsed Time: 0:00:36] |###############| [Time:  0:00:36] [Train Acc:  0.922]\n"
          ]
        },
        {
          "output_type": "stream",
          "name": "stdout",
          "text": [
            "Epoch: 9, TrL=0.1532, TrA=0.9404, VL=0.2126, VA=0.9158,  TeL=0.2072, TeA=0.9276\n"
          ]
        },
        {
          "output_type": "stream",
          "name": "stderr",
          "text": [
            " [Elapsed Time: 0:00:36] |###############| [Time:  0:00:36] [Train Acc:  0.938]\n"
          ]
        },
        {
          "output_type": "stream",
          "name": "stdout",
          "text": [
            "Epoch: 10, TrL=0.1544, TrA=0.9393, VL=0.2133, VA=0.9158,  TeL=0.2052, TeA=0.9283\n"
          ]
        },
        {
          "output_type": "stream",
          "name": "stderr",
          "text": [
            " [Elapsed Time: 0:00:36] |###############| [Time:  0:00:36] [Train Acc:  0.906]\n"
          ]
        },
        {
          "output_type": "stream",
          "name": "stdout",
          "text": [
            "Epoch: 11, TrL=0.1516, TrA=0.9405, VL=0.2190, VA=0.9171,  TeL=0.2096, TeA=0.9215\n"
          ]
        },
        {
          "output_type": "stream",
          "name": "stderr",
          "text": [
            " [Elapsed Time: 0:00:36] |###############| [Time:  0:00:36] [Train Acc:  0.938]\n"
          ]
        },
        {
          "output_type": "stream",
          "name": "stdout",
          "text": [
            "Epoch: 12, TrL=0.1486, TrA=0.9411, VL=0.2211, VA=0.9226,  TeL=0.2106, TeA=0.9276\n"
          ]
        },
        {
          "output_type": "stream",
          "name": "stderr",
          "text": [
            " [Elapsed Time: 0:00:36] |###############| [Time:  0:00:36] [Train Acc:  0.938]\n"
          ]
        },
        {
          "output_type": "stream",
          "name": "stdout",
          "text": [
            "Epoch: 13, TrL=0.1387, TrA=0.9468, VL=0.2135, VA=0.9154,  TeL=0.2063, TeA=0.9290\n"
          ]
        },
        {
          "output_type": "stream",
          "name": "stderr",
          "text": [
            " [Elapsed Time: 0:00:36] |###############| [Time:  0:00:36] [Train Acc:  0.922]\n"
          ]
        },
        {
          "output_type": "stream",
          "name": "stdout",
          "text": [
            "Epoch: 14, TrL=0.1278, TrA=0.9521, VL=0.2138, VA=0.9181,  TeL=0.2017, TeA=0.9273\n"
          ]
        },
        {
          "output_type": "stream",
          "name": "stderr",
          "text": [
            " [Elapsed Time: 0:00:36] |###############| [Time:  0:00:36] [Train Acc:  0.906]\n"
          ]
        },
        {
          "output_type": "stream",
          "name": "stdout",
          "text": [
            "Epoch: 15, TrL=0.1146, TrA=0.9556, VL=0.2401, VA=0.9117,  TeL=0.2359, TeA=0.9181\n"
          ]
        },
        {
          "output_type": "stream",
          "name": "stderr",
          "text": [
            " [Elapsed Time: 0:00:36] |###############| [Time:  0:00:36] [Train Acc:  0.953]\n"
          ]
        },
        {
          "output_type": "stream",
          "name": "stdout",
          "text": [
            "Epoch: 16, TrL=0.1001, TrA=0.9627, VL=0.2307, VA=0.9175,  TeL=0.2254, TeA=0.9249\n"
          ]
        },
        {
          "output_type": "stream",
          "name": "stderr",
          "text": [
            " [Elapsed Time: 0:00:36] |###############| [Time:  0:00:36] [Train Acc:  0.969]\n"
          ]
        },
        {
          "output_type": "stream",
          "name": "stdout",
          "text": [
            "Epoch: 17, TrL=0.0869, TrA=0.9680, VL=0.2499, VA=0.9110,  TeL=0.2456, TeA=0.9110\n"
          ]
        },
        {
          "output_type": "stream",
          "name": "stderr",
          "text": [
            " [Elapsed Time: 0:00:36] |###############| [Time:  0:00:36] [Train Acc:  0.969]\n"
          ]
        },
        {
          "output_type": "stream",
          "name": "stdout",
          "text": [
            "Epoch: 18, TrL=0.0754, TrA=0.9730, VL=0.2827, VA=0.9175,  TeL=0.2809, TeA=0.9226\n"
          ]
        },
        {
          "output_type": "stream",
          "name": "stderr",
          "text": [
            " [Elapsed Time: 0:00:36] |###############| [Time:  0:00:36] [Train Acc:  0.953]\n"
          ]
        },
        {
          "output_type": "stream",
          "name": "stdout",
          "text": [
            "Epoch: 19, TrL=0.0643, TrA=0.9773, VL=0.3121, VA=0.9144,  TeL=0.3071, TeA=0.9202\n"
          ]
        },
        {
          "output_type": "stream",
          "name": "stderr",
          "text": [
            " [Elapsed Time: 0:00:36] |###############| [Time:  0:00:36] [Train Acc:  0.969]\n"
          ]
        },
        {
          "output_type": "stream",
          "name": "stdout",
          "text": [
            "Epoch: 20, TrL=0.0548, TrA=0.9808, VL=0.3132, VA=0.9073,  TeL=0.3004, TeA=0.9141\n"
          ]
        },
        {
          "output_type": "stream",
          "name": "stderr",
          "text": [
            " [Elapsed Time: 0:00:36] |###############| [Time:  0:00:36] [Train Acc:    1.0]\n"
          ]
        },
        {
          "output_type": "stream",
          "name": "stdout",
          "text": [
            "Epoch: 21, TrL=0.0480, TrA=0.9830, VL=0.3234, VA=0.9103,  TeL=0.3027, TeA=0.9154\n"
          ]
        },
        {
          "output_type": "stream",
          "name": "stderr",
          "text": [
            " [Elapsed Time: 0:00:36] |###############| [Time:  0:00:36] [Train Acc:  0.984]\n"
          ]
        },
        {
          "output_type": "stream",
          "name": "stdout",
          "text": [
            "Epoch: 22, TrL=0.0428, TrA=0.9854, VL=0.3616, VA=0.9056,  TeL=0.3315, TeA=0.9141\n"
          ]
        },
        {
          "output_type": "stream",
          "name": "stderr",
          "text": [
            " [Elapsed Time: 0:00:36] |###############| [Time:  0:00:36] [Train Acc:    1.0]\n"
          ]
        },
        {
          "output_type": "stream",
          "name": "stdout",
          "text": [
            "Epoch: 23, TrL=0.0371, TrA=0.9870, VL=0.3520, VA=0.8984,  TeL=0.3225, TeA=0.9039\n"
          ]
        },
        {
          "output_type": "stream",
          "name": "stderr",
          "text": [
            " [Elapsed Time: 0:00:36] |###############| [Time:  0:00:36] [Train Acc:  0.984]\n"
          ]
        },
        {
          "output_type": "stream",
          "name": "stdout",
          "text": [
            "Epoch: 24, TrL=0.0341, TrA=0.9876, VL=0.3876, VA=0.9090,  TeL=0.3623, TeA=0.9144\n"
          ]
        },
        {
          "output_type": "stream",
          "name": "stderr",
          "text": [
            " [Elapsed Time: 0:00:36] |###############| [Time:  0:00:36] [Train Acc:  0.984]\n"
          ]
        },
        {
          "output_type": "stream",
          "name": "stdout",
          "text": [
            "Epoch: 25, TrL=0.0336, TrA=0.9885, VL=0.4199, VA=0.9110,  TeL=0.3878, TeA=0.9164\n"
          ]
        },
        {
          "output_type": "stream",
          "name": "stderr",
          "text": [
            " [Elapsed Time: 0:00:36] |###############| [Time:  0:00:36] [Train Acc:  0.984]\n"
          ]
        },
        {
          "output_type": "stream",
          "name": "stdout",
          "text": [
            "Epoch: 26, TrL=0.0291, TrA=0.9902, VL=0.4294, VA=0.9073,  TeL=0.4129, TeA=0.9110\n"
          ]
        },
        {
          "output_type": "stream",
          "name": "stderr",
          "text": [
            " [Elapsed Time: 0:00:36] |###############| [Time:  0:00:36] [Train Acc:  0.984]\n"
          ]
        },
        {
          "output_type": "stream",
          "name": "stdout",
          "text": [
            "Epoch: 27, TrL=0.0288, TrA=0.9905, VL=0.4114, VA=0.8981,  TeL=0.3637, TeA=0.9113\n"
          ]
        },
        {
          "output_type": "stream",
          "name": "stderr",
          "text": [
            " [Elapsed Time: 0:00:36] |###############| [Time:  0:00:36] [Train Acc:  0.984]\n"
          ]
        },
        {
          "output_type": "stream",
          "name": "stdout",
          "text": [
            "Epoch: 28, TrL=0.0256, TrA=0.9908, VL=0.3960, VA=0.8974,  TeL=0.3700, TeA=0.9117\n"
          ]
        },
        {
          "output_type": "stream",
          "name": "stderr",
          "text": [
            " [Elapsed Time: 0:00:36] |###############| [Time:  0:00:36] [Train Acc:  0.984]\n"
          ]
        },
        {
          "output_type": "stream",
          "name": "stdout",
          "text": [
            "Epoch: 29, TrL=0.0293, TrA=0.9899, VL=0.3878, VA=0.8927,  TeL=0.3695, TeA=0.8988\n"
          ]
        },
        {
          "output_type": "stream",
          "name": "stderr",
          "text": [
            " [Elapsed Time: 0:00:36] |###############| [Time:  0:00:36] [Train Acc:  0.953]\n"
          ]
        },
        {
          "output_type": "stream",
          "name": "stdout",
          "text": [
            "Epoch: 30, TrL=0.0232, TrA=0.9929, VL=0.4274, VA=0.9066,  TeL=0.4095, TeA=0.9141\n"
          ]
        },
        {
          "output_type": "stream",
          "name": "stderr",
          "text": [
            " [Elapsed Time: 0:00:36] |###############| [Time:  0:00:36] [Train Acc:    1.0]\n"
          ]
        },
        {
          "output_type": "stream",
          "name": "stdout",
          "text": [
            "Epoch: 31, TrL=0.0203, TrA=0.9934, VL=0.4245, VA=0.8991,  TeL=0.4082, TeA=0.9100\n"
          ]
        },
        {
          "output_type": "stream",
          "name": "stderr",
          "text": [
            " [Elapsed Time: 0:00:36] |###############| [Time:  0:00:36] [Train Acc:  0.984]\n"
          ]
        },
        {
          "output_type": "stream",
          "name": "stdout",
          "text": [
            "Epoch: 32, TrL=0.0210, TrA=0.9931, VL=0.4886, VA=0.9052,  TeL=0.4390, TeA=0.9175\n"
          ]
        },
        {
          "output_type": "stream",
          "name": "stderr",
          "text": [
            " [Elapsed Time: 0:00:36] |###############| [Time:  0:00:36] [Train Acc:    1.0]\n"
          ]
        },
        {
          "output_type": "stream",
          "name": "stdout",
          "text": [
            "Epoch: 33, TrL=0.0294, TrA=0.9904, VL=0.4176, VA=0.9090,  TeL=0.3930, TeA=0.9147\n"
          ]
        },
        {
          "output_type": "stream",
          "name": "stderr",
          "text": [
            " [Elapsed Time: 0:00:36] |###############| [Time:  0:00:36] [Train Acc:  0.984]\n"
          ]
        },
        {
          "output_type": "stream",
          "name": "stdout",
          "text": [
            "Epoch: 34, TrL=0.0215, TrA=0.9928, VL=0.4582, VA=0.9015,  TeL=0.4125, TeA=0.9124\n"
          ]
        },
        {
          "output_type": "stream",
          "name": "stderr",
          "text": [
            " [Elapsed Time: 0:00:36] |###############| [Time:  0:00:36] [Train Acc:  0.969]\n"
          ]
        },
        {
          "output_type": "stream",
          "name": "stdout",
          "text": [
            "Epoch: 35, TrL=0.0161, TrA=0.9951, VL=0.4599, VA=0.8984,  TeL=0.4305, TeA=0.9059\n"
          ]
        },
        {
          "output_type": "stream",
          "name": "stderr",
          "text": [
            " [Elapsed Time: 0:00:36] |###############| [Time:  0:00:36] [Train Acc:  0.984]\n"
          ]
        },
        {
          "output_type": "stream",
          "name": "stdout",
          "text": [
            "Epoch: 36, TrL=0.0212, TrA=0.9930, VL=0.4370, VA=0.9035,  TeL=0.4039, TeA=0.9096\n"
          ]
        },
        {
          "output_type": "stream",
          "name": "stderr",
          "text": [
            " [Elapsed Time: 0:00:36] |###############| [Time:  0:00:36] [Train Acc:  0.984]\n"
          ]
        },
        {
          "output_type": "stream",
          "name": "stdout",
          "text": [
            "Epoch: 37, TrL=0.0204, TrA=0.9932, VL=0.4546, VA=0.9056,  TeL=0.3965, TeA=0.9168\n"
          ]
        },
        {
          "output_type": "stream",
          "name": "stderr",
          "text": [
            " [Elapsed Time: 0:00:36] |###############| [Time:  0:00:36] [Train Acc:    1.0]\n"
          ]
        },
        {
          "output_type": "stream",
          "name": "stdout",
          "text": [
            "Epoch: 38, TrL=0.0226, TrA=0.9925, VL=0.4819, VA=0.8940,  TeL=0.4304, TeA=0.9062\n"
          ]
        },
        {
          "output_type": "stream",
          "name": "stderr",
          "text": [
            " [Elapsed Time: 0:00:36] |###############| [Time:  0:00:36] [Train Acc:    1.0]\n"
          ]
        },
        {
          "output_type": "stream",
          "name": "stdout",
          "text": [
            "Epoch: 39, TrL=0.0213, TrA=0.9932, VL=0.4479, VA=0.8984,  TeL=0.4139, TeA=0.9046\n"
          ]
        },
        {
          "output_type": "stream",
          "name": "stderr",
          "text": [
            " [Elapsed Time: 0:00:36] |###############| [Time:  0:00:36] [Train Acc:  0.969]\n"
          ]
        },
        {
          "output_type": "stream",
          "name": "stdout",
          "text": [
            "Epoch: 40, TrL=0.0181, TrA=0.9942, VL=0.4592, VA=0.8865,  TeL=0.4206, TeA=0.8954\n"
          ]
        },
        {
          "output_type": "stream",
          "name": "stderr",
          "text": [
            " [Elapsed Time: 0:00:36] |###############| [Time:  0:00:36] [Train Acc:    1.0]\n"
          ]
        },
        {
          "output_type": "stream",
          "name": "stdout",
          "text": [
            "Epoch: 41, TrL=0.0157, TrA=0.9956, VL=0.4815, VA=0.8988,  TeL=0.4524, TeA=0.9035\n"
          ]
        },
        {
          "output_type": "stream",
          "name": "stderr",
          "text": [
            " [Elapsed Time: 0:00:36] |###############| [Time:  0:00:36] [Train Acc:  0.969]\n"
          ]
        },
        {
          "output_type": "stream",
          "name": "stdout",
          "text": [
            "Epoch: 42, TrL=0.0152, TrA=0.9953, VL=0.4425, VA=0.8940,  TeL=0.4133, TeA=0.9005\n"
          ]
        },
        {
          "output_type": "stream",
          "name": "stderr",
          "text": [
            " [Elapsed Time: 0:00:36] |###############| [Time:  0:00:36] [Train Acc:  0.984]\n"
          ]
        },
        {
          "output_type": "stream",
          "name": "stdout",
          "text": [
            "Epoch: 43, TrL=0.0248, TrA=0.9917, VL=0.4694, VA=0.8862,  TeL=0.4516, TeA=0.8937\n"
          ]
        },
        {
          "output_type": "stream",
          "name": "stderr",
          "text": [
            " [Elapsed Time: 0:00:36] |###############| [Time:  0:00:36] [Train Acc:    1.0]\n"
          ]
        },
        {
          "output_type": "stream",
          "name": "stdout",
          "text": [
            "Epoch: 44, TrL=0.0195, TrA=0.9940, VL=0.4258, VA=0.8944,  TeL=0.3986, TeA=0.9073\n"
          ]
        },
        {
          "output_type": "stream",
          "name": "stderr",
          "text": [
            " [Elapsed Time: 0:00:36] |###############| [Time:  0:00:36] [Train Acc:  0.984]\n"
          ]
        },
        {
          "output_type": "stream",
          "name": "stdout",
          "text": [
            "Epoch: 45, TrL=0.0168, TrA=0.9947, VL=0.4658, VA=0.8995,  TeL=0.4326, TeA=0.9015\n"
          ]
        },
        {
          "output_type": "stream",
          "name": "stderr",
          "text": [
            " [Elapsed Time: 0:00:36] |###############| [Time:  0:00:36] [Train Acc:  0.984]\n"
          ]
        },
        {
          "output_type": "stream",
          "name": "stdout",
          "text": [
            "Epoch: 46, TrL=0.0165, TrA=0.9947, VL=0.4965, VA=0.8872,  TeL=0.4782, TeA=0.8889\n"
          ]
        },
        {
          "output_type": "stream",
          "name": "stderr",
          "text": [
            " [Elapsed Time: 0:00:36] |###############| [Time:  0:00:36] [Train Acc:  0.984]\n"
          ]
        },
        {
          "output_type": "stream",
          "name": "stdout",
          "text": [
            "Epoch: 47, TrL=0.0181, TrA=0.9941, VL=0.4946, VA=0.9059,  TeL=0.4526, TeA=0.9141\n"
          ]
        },
        {
          "output_type": "stream",
          "name": "stderr",
          "text": [
            " [Elapsed Time: 0:00:36] |###############| [Time:  0:00:36] [Train Acc:    1.0]\n"
          ]
        },
        {
          "output_type": "stream",
          "name": "stdout",
          "text": [
            "Epoch: 48, TrL=0.0195, TrA=0.9936, VL=0.5182, VA=0.8927,  TeL=0.5025, TeA=0.8978\n"
          ]
        },
        {
          "output_type": "stream",
          "name": "stderr",
          "text": [
            " [Elapsed Time: 0:00:36] |###############| [Time:  0:00:36] [Train Acc:    1.0]\n"
          ]
        },
        {
          "output_type": "stream",
          "name": "stdout",
          "text": [
            "Epoch: 49, TrL=0.0162, TrA=0.9948, VL=0.4747, VA=0.8978,  TeL=0.4573, TeA=0.8991\n"
          ]
        },
        {
          "output_type": "stream",
          "name": "stderr",
          "text": [
            " [Elapsed Time: 0:00:36] |###############| [Time:  0:00:36] [Train Acc:  0.984]\n"
          ]
        },
        {
          "output_type": "stream",
          "name": "stdout",
          "text": [
            "Epoch: 50, TrL=0.0178, TrA=0.9935, VL=0.4925, VA=0.8910,  TeL=0.4542, TeA=0.8950\n"
          ]
        },
        {
          "output_type": "stream",
          "name": "stderr",
          "text": [
            " [Elapsed Time: 0:00:36] |###############| [Time:  0:00:36] [Train Acc:  0.984]\n"
          ]
        },
        {
          "output_type": "stream",
          "name": "stdout",
          "text": [
            "Epoch: 51, TrL=0.0195, TrA=0.9938, VL=0.4762, VA=0.9022,  TeL=0.4346, TeA=0.9110\n"
          ]
        },
        {
          "output_type": "stream",
          "name": "stderr",
          "text": [
            " [Elapsed Time: 0:00:36] |###############| [Time:  0:00:36] [Train Acc:  0.984]\n"
          ]
        },
        {
          "output_type": "stream",
          "name": "stdout",
          "text": [
            "Epoch: 52, TrL=0.0188, TrA=0.9940, VL=0.4693, VA=0.8971,  TeL=0.4180, TeA=0.9093\n"
          ]
        },
        {
          "output_type": "stream",
          "name": "stderr",
          "text": [
            " [Elapsed Time: 0:00:36] |###############| [Time:  0:00:36] [Train Acc:    1.0]\n"
          ]
        },
        {
          "output_type": "stream",
          "name": "stdout",
          "text": [
            "Epoch: 53, TrL=0.0145, TrA=0.9958, VL=0.4875, VA=0.8961,  TeL=0.4590, TeA=0.9035\n"
          ]
        },
        {
          "output_type": "stream",
          "name": "stderr",
          "text": [
            " [Elapsed Time: 0:00:36] |###############| [Time:  0:00:36] [Train Acc:    1.0]\n"
          ]
        },
        {
          "output_type": "stream",
          "name": "stdout",
          "text": [
            "Epoch: 54, TrL=0.0161, TrA=0.9949, VL=0.4693, VA=0.9035,  TeL=0.4266, TeA=0.9090\n"
          ]
        },
        {
          "output_type": "stream",
          "name": "stderr",
          "text": [
            " [Elapsed Time: 0:00:36] |###############| [Time:  0:00:36] [Train Acc:    1.0]\n"
          ]
        },
        {
          "output_type": "stream",
          "name": "stdout",
          "text": [
            "Epoch: 55, TrL=0.0228, TrA=0.9915, VL=0.4728, VA=0.8940,  TeL=0.4209, TeA=0.9059\n"
          ]
        },
        {
          "output_type": "stream",
          "name": "stderr",
          "text": [
            " [Elapsed Time: 0:00:36] |###############| [Time:  0:00:36] [Train Acc:    1.0]\n"
          ]
        },
        {
          "output_type": "stream",
          "name": "stdout",
          "text": [
            "Epoch: 56, TrL=0.0183, TrA=0.9944, VL=0.5020, VA=0.8872,  TeL=0.4665, TeA=0.8971\n"
          ]
        },
        {
          "output_type": "stream",
          "name": "stderr",
          "text": [
            " [Elapsed Time: 0:00:36] |###############| [Time:  0:00:36] [Train Acc:  0.984]\n"
          ]
        },
        {
          "output_type": "stream",
          "name": "stdout",
          "text": [
            "Epoch: 57, TrL=0.0156, TrA=0.9950, VL=0.4967, VA=0.8933,  TeL=0.4685, TeA=0.9025\n"
          ]
        },
        {
          "output_type": "stream",
          "name": "stderr",
          "text": [
            " [Elapsed Time: 0:00:36] |###############| [Time:  0:00:36] [Train Acc:  0.984]\n"
          ]
        },
        {
          "output_type": "stream",
          "name": "stdout",
          "text": [
            "Epoch: 58, TrL=0.0145, TrA=0.9952, VL=0.5159, VA=0.9001,  TeL=0.4962, TeA=0.9039\n"
          ]
        },
        {
          "output_type": "stream",
          "name": "stderr",
          "text": [
            " [Elapsed Time: 0:00:36] |###############| [Time:  0:00:36] [Train Acc:    1.0]\n"
          ]
        },
        {
          "output_type": "stream",
          "name": "stdout",
          "text": [
            "Epoch: 59, TrL=0.0166, TrA=0.9948, VL=0.5064, VA=0.8845,  TeL=0.5046, TeA=0.8903\n"
          ]
        },
        {
          "output_type": "stream",
          "name": "stderr",
          "text": [
            " [Elapsed Time: 0:00:36] |###############| [Time:  0:00:36] [Train Acc:  0.984]\n"
          ]
        },
        {
          "output_type": "stream",
          "name": "stdout",
          "text": [
            "Epoch: 60, TrL=0.0178, TrA=0.9942, VL=0.4949, VA=0.9035,  TeL=0.4554, TeA=0.9056\n"
          ]
        },
        {
          "output_type": "stream",
          "name": "stderr",
          "text": [
            " [Elapsed Time: 0:00:36] |###############| [Time:  0:00:36] [Train Acc:  0.969]\n"
          ]
        },
        {
          "output_type": "stream",
          "name": "stdout",
          "text": [
            "Epoch: 61, TrL=0.0237, TrA=0.9920, VL=0.4203, VA=0.8923,  TeL=0.3824, TeA=0.9018\n"
          ]
        },
        {
          "output_type": "stream",
          "name": "stderr",
          "text": [
            " [Elapsed Time: 0:00:36] |###############| [Time:  0:00:36] [Train Acc:    1.0]\n"
          ]
        },
        {
          "output_type": "stream",
          "name": "stdout",
          "text": [
            "Epoch: 62, TrL=0.0190, TrA=0.9940, VL=0.4848, VA=0.9086,  TeL=0.4512, TeA=0.9086\n"
          ]
        },
        {
          "output_type": "stream",
          "name": "stderr",
          "text": [
            " [Elapsed Time: 0:00:36] |###############| [Time:  0:00:36] [Train Acc:    1.0]\n"
          ]
        },
        {
          "output_type": "stream",
          "name": "stdout",
          "text": [
            "Epoch: 63, TrL=0.0188, TrA=0.9937, VL=0.4829, VA=0.8944,  TeL=0.4553, TeA=0.8991\n"
          ]
        },
        {
          "output_type": "stream",
          "name": "stderr",
          "text": [
            " [Elapsed Time: 0:00:36] |###############| [Time:  0:00:36] [Train Acc:    1.0]\n"
          ]
        },
        {
          "output_type": "stream",
          "name": "stdout",
          "text": [
            "Epoch: 64, TrL=0.0120, TrA=0.9968, VL=0.5038, VA=0.8961,  TeL=0.4631, TeA=0.9035\n"
          ]
        },
        {
          "output_type": "stream",
          "name": "stderr",
          "text": [
            " [Elapsed Time: 0:00:36] |###############| [Time:  0:00:36] [Train Acc:  0.969]\n"
          ]
        },
        {
          "output_type": "stream",
          "name": "stdout",
          "text": [
            "Epoch: 65, TrL=0.0116, TrA=0.9965, VL=0.4854, VA=0.9018,  TeL=0.4593, TeA=0.9025\n"
          ]
        },
        {
          "output_type": "stream",
          "name": "stderr",
          "text": [
            " [Elapsed Time: 0:00:36] |###############| [Time:  0:00:36] [Train Acc:  0.984]\n"
          ]
        },
        {
          "output_type": "stream",
          "name": "stdout",
          "text": [
            "Epoch: 66, TrL=0.0181, TrA=0.9948, VL=0.4856, VA=0.8944,  TeL=0.4602, TeA=0.8971\n"
          ]
        },
        {
          "output_type": "stream",
          "name": "stderr",
          "text": [
            " [Elapsed Time: 0:00:36] |###############| [Time:  0:00:36] [Train Acc:    1.0]\n"
          ]
        },
        {
          "output_type": "stream",
          "name": "stdout",
          "text": [
            "Epoch: 67, TrL=0.0211, TrA=0.9927, VL=0.4439, VA=0.9001,  TeL=0.4223, TeA=0.9076\n"
          ]
        },
        {
          "output_type": "stream",
          "name": "stderr",
          "text": [
            " [Elapsed Time: 0:00:36] |###############| [Time:  0:00:36] [Train Acc:  0.984]\n"
          ]
        },
        {
          "output_type": "stream",
          "name": "stdout",
          "text": [
            "Epoch: 68, TrL=0.0163, TrA=0.9955, VL=0.4837, VA=0.9042,  TeL=0.4489, TeA=0.9083\n"
          ]
        },
        {
          "output_type": "stream",
          "name": "stderr",
          "text": [
            " [Elapsed Time: 0:00:36] |###############| [Time:  0:00:36] [Train Acc:    1.0]\n"
          ]
        },
        {
          "output_type": "stream",
          "name": "stdout",
          "text": [
            "Epoch: 69, TrL=0.0151, TrA=0.9949, VL=0.5035, VA=0.8957,  TeL=0.4587, TeA=0.9035\n"
          ]
        },
        {
          "output_type": "stream",
          "name": "stderr",
          "text": [
            " [Elapsed Time: 0:00:36] |###############| [Time:  0:00:36] [Train Acc:  0.984]\n"
          ]
        },
        {
          "output_type": "stream",
          "name": "stdout",
          "text": [
            "Epoch: 70, TrL=0.0184, TrA=0.9943, VL=0.4678, VA=0.8903,  TeL=0.4441, TeA=0.8988\n"
          ]
        },
        {
          "output_type": "stream",
          "name": "stderr",
          "text": [
            " [Elapsed Time: 0:00:36] |###############| [Time:  0:00:36] [Train Acc:    1.0]\n"
          ]
        },
        {
          "output_type": "stream",
          "name": "stdout",
          "text": [
            "Epoch: 71, TrL=0.0143, TrA=0.9960, VL=0.4890, VA=0.9015,  TeL=0.4725, TeA=0.9032\n"
          ]
        },
        {
          "output_type": "stream",
          "name": "stderr",
          "text": [
            " [Elapsed Time: 0:00:36] |###############| [Time:  0:00:36] [Train Acc:    1.0]\n"
          ]
        },
        {
          "output_type": "stream",
          "name": "stdout",
          "text": [
            "Epoch: 72, TrL=0.0139, TrA=0.9952, VL=0.4817, VA=0.9076,  TeL=0.4665, TeA=0.9066\n"
          ]
        },
        {
          "output_type": "stream",
          "name": "stderr",
          "text": [
            " [Elapsed Time: 0:00:36] |###############| [Time:  0:00:36] [Train Acc:    1.0]\n"
          ]
        },
        {
          "output_type": "stream",
          "name": "stdout",
          "text": [
            "Epoch: 73, TrL=0.0162, TrA=0.9950, VL=0.4883, VA=0.9090,  TeL=0.4726, TeA=0.9056\n"
          ]
        },
        {
          "output_type": "stream",
          "name": "stderr",
          "text": [
            " [Elapsed Time: 0:00:36] |###############| [Time:  0:00:36] [Train Acc:    1.0]\n"
          ]
        },
        {
          "output_type": "stream",
          "name": "stdout",
          "text": [
            "Epoch: 74, TrL=0.0217, TrA=0.9925, VL=0.4762, VA=0.8944,  TeL=0.4658, TeA=0.9005\n"
          ]
        },
        {
          "output_type": "stream",
          "name": "stderr",
          "text": [
            " [Elapsed Time: 0:00:36] |###############| [Time:  0:00:36] [Train Acc:    1.0]\n"
          ]
        },
        {
          "output_type": "stream",
          "name": "stdout",
          "text": [
            "Epoch: 75, TrL=0.0183, TrA=0.9938, VL=0.4837, VA=0.8984,  TeL=0.4772, TeA=0.8988\n"
          ]
        },
        {
          "output_type": "stream",
          "name": "stderr",
          "text": [
            " [Elapsed Time: 0:00:36] |###############| [Time:  0:00:36] [Train Acc:    1.0]\n"
          ]
        },
        {
          "output_type": "stream",
          "name": "stdout",
          "text": [
            "Epoch: 76, TrL=0.0137, TrA=0.9962, VL=0.4910, VA=0.9005,  TeL=0.4620, TeA=0.9032\n"
          ]
        },
        {
          "output_type": "stream",
          "name": "stderr",
          "text": [
            " [Elapsed Time: 0:00:36] |###############| [Time:  0:00:36] [Train Acc:    1.0]\n"
          ]
        },
        {
          "output_type": "stream",
          "name": "stdout",
          "text": [
            "Epoch: 77, TrL=0.0147, TrA=0.9954, VL=0.4797, VA=0.8889,  TeL=0.4464, TeA=0.8998\n"
          ]
        },
        {
          "output_type": "stream",
          "name": "stderr",
          "text": [
            " [Elapsed Time: 0:00:36] |###############| [Time:  0:00:36] [Train Acc:    1.0]\n"
          ]
        },
        {
          "output_type": "stream",
          "name": "stdout",
          "text": [
            "Epoch: 78, TrL=0.0139, TrA=0.9955, VL=0.4930, VA=0.9005,  TeL=0.4498, TeA=0.9069\n"
          ]
        },
        {
          "output_type": "stream",
          "name": "stderr",
          "text": [
            " [Elapsed Time: 0:00:36] |###############| [Time:  0:00:36] [Train Acc:    1.0]\n"
          ]
        },
        {
          "output_type": "stream",
          "name": "stdout",
          "text": [
            "Epoch: 79, TrL=0.0119, TrA=0.9965, VL=0.5182, VA=0.9066,  TeL=0.4647, TeA=0.9086\n"
          ]
        },
        {
          "output_type": "stream",
          "name": "stderr",
          "text": [
            " [Elapsed Time: 0:00:36] |###############| [Time:  0:00:36] [Train Acc:    1.0]\n"
          ]
        },
        {
          "output_type": "stream",
          "name": "stdout",
          "text": [
            "Epoch: 80, TrL=0.0202, TrA=0.9931, VL=0.4412, VA=0.9012,  TeL=0.4037, TeA=0.9093\n"
          ]
        },
        {
          "output_type": "stream",
          "name": "stderr",
          "text": [
            " [Elapsed Time: 0:00:36] |###############| [Time:  0:00:36] [Train Acc:  0.984]\n"
          ]
        },
        {
          "output_type": "stream",
          "name": "stdout",
          "text": [
            "Epoch: 81, TrL=0.0220, TrA=0.9928, VL=0.5069, VA=0.8882,  TeL=0.4751, TeA=0.8927\n"
          ]
        },
        {
          "output_type": "stream",
          "name": "stderr",
          "text": [
            " [Elapsed Time: 0:00:36] |###############| [Time:  0:00:36] [Train Acc:    1.0]\n"
          ]
        },
        {
          "output_type": "stream",
          "name": "stdout",
          "text": [
            "Epoch: 82, TrL=0.0124, TrA=0.9964, VL=0.4942, VA=0.9015,  TeL=0.4664, TeA=0.9042\n"
          ]
        },
        {
          "output_type": "stream",
          "name": "stderr",
          "text": [
            " [Elapsed Time: 0:00:36] |###############| [Time:  0:00:36] [Train Acc:    1.0]\n"
          ]
        },
        {
          "output_type": "stream",
          "name": "stdout",
          "text": [
            "Epoch: 83, TrL=0.0093, TrA=0.9978, VL=0.5330, VA=0.8971,  TeL=0.4870, TeA=0.9022\n"
          ]
        },
        {
          "output_type": "stream",
          "name": "stderr",
          "text": [
            " [Elapsed Time: 0:00:36] |###############| [Time:  0:00:36] [Train Acc:  0.984]\n"
          ]
        },
        {
          "output_type": "stream",
          "name": "stdout",
          "text": [
            "Epoch: 84, TrL=0.0178, TrA=0.9945, VL=0.4716, VA=0.8930,  TeL=0.4266, TeA=0.9069\n"
          ]
        },
        {
          "output_type": "stream",
          "name": "stderr",
          "text": [
            " [Elapsed Time: 0:00:36] |###############| [Time:  0:00:36] [Train Acc:  0.984]\n"
          ]
        },
        {
          "output_type": "stream",
          "name": "stdout",
          "text": [
            "Epoch: 85, TrL=0.0179, TrA=0.9943, VL=0.4801, VA=0.9008,  TeL=0.4381, TeA=0.9056\n"
          ]
        },
        {
          "output_type": "stream",
          "name": "stderr",
          "text": [
            " [Elapsed Time: 0:00:36] |###############| [Time:  0:00:36] [Train Acc:    1.0]\n"
          ]
        },
        {
          "output_type": "stream",
          "name": "stdout",
          "text": [
            "Epoch: 86, TrL=0.0185, TrA=0.9942, VL=0.4798, VA=0.9012,  TeL=0.4397, TeA=0.9052\n"
          ]
        },
        {
          "output_type": "stream",
          "name": "stderr",
          "text": [
            " [Elapsed Time: 0:00:36] |###############| [Time:  0:00:36] [Train Acc:    1.0]\n"
          ]
        },
        {
          "output_type": "stream",
          "name": "stdout",
          "text": [
            "Epoch: 87, TrL=0.0133, TrA=0.9960, VL=0.5021, VA=0.8967,  TeL=0.4807, TeA=0.9032\n"
          ]
        },
        {
          "output_type": "stream",
          "name": "stderr",
          "text": [
            " [Elapsed Time: 0:00:36] |###############| [Time:  0:00:36] [Train Acc:  0.984]\n"
          ]
        },
        {
          "output_type": "stream",
          "name": "stdout",
          "text": [
            "Epoch: 88, TrL=0.0154, TrA=0.9946, VL=0.5132, VA=0.8855,  TeL=0.4883, TeA=0.8906\n"
          ]
        },
        {
          "output_type": "stream",
          "name": "stderr",
          "text": [
            " [Elapsed Time: 0:00:36] |###############| [Time:  0:00:36] [Train Acc:    1.0]\n"
          ]
        },
        {
          "output_type": "stream",
          "name": "stdout",
          "text": [
            "Epoch: 89, TrL=0.0183, TrA=0.9941, VL=0.4673, VA=0.9025,  TeL=0.4419, TeA=0.9022\n"
          ]
        },
        {
          "output_type": "stream",
          "name": "stderr",
          "text": [
            " [Elapsed Time: 0:00:36] |###############| [Time:  0:00:36] [Train Acc:    1.0]\n"
          ]
        },
        {
          "output_type": "stream",
          "name": "stdout",
          "text": [
            "Epoch: 90, TrL=0.0125, TrA=0.9962, VL=0.4907, VA=0.9029,  TeL=0.4564, TeA=0.9079\n"
          ]
        },
        {
          "output_type": "stream",
          "name": "stderr",
          "text": [
            " [Elapsed Time: 0:00:36] |###############| [Time:  0:00:36] [Train Acc:  0.984]\n"
          ]
        },
        {
          "output_type": "stream",
          "name": "stdout",
          "text": [
            "Epoch: 91, TrL=0.0132, TrA=0.9956, VL=0.5176, VA=0.8981,  TeL=0.4722, TeA=0.9035\n"
          ]
        },
        {
          "output_type": "stream",
          "name": "stderr",
          "text": [
            " [Elapsed Time: 0:00:36] |###############| [Time:  0:00:36] [Train Acc:    1.0]\n"
          ]
        },
        {
          "output_type": "stream",
          "name": "stdout",
          "text": [
            "Epoch: 92, TrL=0.0139, TrA=0.9958, VL=0.5370, VA=0.8879,  TeL=0.4928, TeA=0.8944\n"
          ]
        },
        {
          "output_type": "stream",
          "name": "stderr",
          "text": [
            " [Elapsed Time: 0:00:36] |###############| [Time:  0:00:36] [Train Acc:    1.0]\n"
          ]
        },
        {
          "output_type": "stream",
          "name": "stdout",
          "text": [
            "Epoch: 93, TrL=0.0155, TrA=0.9949, VL=0.4657, VA=0.9029,  TeL=0.4346, TeA=0.9035\n"
          ]
        },
        {
          "output_type": "stream",
          "name": "stderr",
          "text": [
            " [Elapsed Time: 0:00:36] |###############| [Time:  0:00:36] [Train Acc:    1.0]\n"
          ]
        },
        {
          "output_type": "stream",
          "name": "stdout",
          "text": [
            "Epoch: 94, TrL=0.0151, TrA=0.9957, VL=0.5585, VA=0.8906,  TeL=0.5370, TeA=0.8971\n"
          ]
        },
        {
          "output_type": "stream",
          "name": "stderr",
          "text": [
            " [Elapsed Time: 0:00:36] |###############| [Time:  0:00:36] [Train Acc:  0.984]\n"
          ]
        },
        {
          "output_type": "stream",
          "name": "stdout",
          "text": [
            "Epoch: 95, TrL=0.0141, TrA=0.9960, VL=0.4984, VA=0.8923,  TeL=0.5059, TeA=0.8906\n"
          ]
        },
        {
          "output_type": "stream",
          "name": "stderr",
          "text": [
            " [Elapsed Time: 0:00:36] |###############| [Time:  0:00:36] [Train Acc:    1.0]\n"
          ]
        },
        {
          "output_type": "stream",
          "name": "stdout",
          "text": [
            "Epoch: 96, TrL=0.0183, TrA=0.9942, VL=0.4352, VA=0.8933,  TeL=0.4386, TeA=0.8961\n"
          ]
        },
        {
          "output_type": "stream",
          "name": "stderr",
          "text": [
            " [Elapsed Time: 0:00:36] |###############| [Time:  0:00:36] [Train Acc:  0.984]\n"
          ]
        },
        {
          "output_type": "stream",
          "name": "stdout",
          "text": [
            "Epoch: 97, TrL=0.0188, TrA=0.9940, VL=0.4646, VA=0.8903,  TeL=0.4417, TeA=0.9015\n"
          ]
        },
        {
          "output_type": "stream",
          "name": "stderr",
          "text": [
            " [Elapsed Time: 0:00:36] |###############| [Time:  0:00:36] [Train Acc:  0.984]\n"
          ]
        },
        {
          "output_type": "stream",
          "name": "stdout",
          "text": [
            "Epoch: 98, TrL=0.0136, TrA=0.9958, VL=0.4938, VA=0.8903,  TeL=0.4887, TeA=0.8920\n"
          ]
        },
        {
          "output_type": "stream",
          "name": "stderr",
          "text": [
            " [Elapsed Time: 0:00:36] |###############| [Time:  0:00:36] [Train Acc:    1.0]\n"
          ]
        },
        {
          "output_type": "stream",
          "name": "stdout",
          "text": [
            "Epoch: 99, TrL=0.0126, TrA=0.9962, VL=0.5017, VA=0.8879,  TeL=0.4669, TeA=0.8940\n"
          ]
        },
        {
          "output_type": "stream",
          "name": "stderr",
          "text": [
            " [Elapsed Time: 0:00:36] |###############| [Time:  0:00:36] [Train Acc:    1.0]\n"
          ]
        },
        {
          "output_type": "stream",
          "name": "stdout",
          "text": [
            "Epoch: 100, TrL=0.0165, TrA=0.9950, VL=0.4864, VA=0.8916,  TeL=0.4592, TeA=0.9012\n"
          ]
        },
        {
          "output_type": "stream",
          "name": "stderr",
          "text": [
            " [Elapsed Time: 0:00:36] |###############| [Time:  0:00:36] [Train Acc:    1.0]\n"
          ]
        },
        {
          "output_type": "stream",
          "name": "stdout",
          "text": [
            "Epoch: 101, TrL=0.0223, TrA=0.9922, VL=0.4729, VA=0.9042,  TeL=0.4540, TeA=0.9093\n"
          ]
        },
        {
          "output_type": "stream",
          "name": "stderr",
          "text": [
            " [Elapsed Time: 0:00:36] |###############| [Time:  0:00:36] [Train Acc:    1.0]\n"
          ]
        },
        {
          "output_type": "stream",
          "name": "stdout",
          "text": [
            "Epoch: 102, TrL=0.0166, TrA=0.9950, VL=0.4676, VA=0.8998,  TeL=0.4603, TeA=0.9035\n"
          ]
        },
        {
          "output_type": "stream",
          "name": "stderr",
          "text": [
            " [Elapsed Time: 0:00:36] |###############| [Time:  0:00:36] [Train Acc:    1.0]\n"
          ]
        },
        {
          "output_type": "stream",
          "name": "stdout",
          "text": [
            "Epoch: 103, TrL=0.0110, TrA=0.9973, VL=0.4792, VA=0.8971,  TeL=0.4585, TeA=0.9008\n"
          ]
        },
        {
          "output_type": "stream",
          "name": "stderr",
          "text": [
            " [Elapsed Time: 0:00:36] |###############| [Time:  0:00:36] [Train Acc:    1.0]\n"
          ]
        },
        {
          "output_type": "stream",
          "name": "stdout",
          "text": [
            "Epoch: 104, TrL=0.0116, TrA=0.9968, VL=0.4998, VA=0.8879,  TeL=0.4963, TeA=0.8903\n"
          ]
        },
        {
          "output_type": "stream",
          "name": "stderr",
          "text": [
            " [Elapsed Time: 0:00:36] |###############| [Time:  0:00:36] [Train Acc:    1.0]\n"
          ]
        },
        {
          "output_type": "stream",
          "name": "stdout",
          "text": [
            "Epoch: 105, TrL=0.0188, TrA=0.9935, VL=0.4658, VA=0.8940,  TeL=0.4470, TeA=0.8947\n"
          ]
        },
        {
          "output_type": "stream",
          "name": "stderr",
          "text": [
            " [Elapsed Time: 0:00:36] |###############| [Time:  0:00:36] [Train Acc:  0.984]\n"
          ]
        },
        {
          "output_type": "stream",
          "name": "stdout",
          "text": [
            "Epoch: 106, TrL=0.0137, TrA=0.9964, VL=0.5050, VA=0.8995,  TeL=0.4949, TeA=0.9022\n"
          ]
        },
        {
          "output_type": "stream",
          "name": "stderr",
          "text": [
            " [Elapsed Time: 0:00:36] |###############| [Time:  0:00:36] [Train Acc:    1.0]\n"
          ]
        },
        {
          "output_type": "stream",
          "name": "stdout",
          "text": [
            "Epoch: 107, TrL=0.0126, TrA=0.9965, VL=0.4844, VA=0.8825,  TeL=0.4994, TeA=0.8784\n"
          ]
        },
        {
          "output_type": "stream",
          "name": "stderr",
          "text": [
            " [Elapsed Time: 0:00:36] |###############| [Time:  0:00:36] [Train Acc:    1.0]\n"
          ]
        },
        {
          "output_type": "stream",
          "name": "stdout",
          "text": [
            "Epoch: 108, TrL=0.0183, TrA=0.9938, VL=0.4657, VA=0.9001,  TeL=0.4446, TeA=0.9042\n"
          ]
        },
        {
          "output_type": "stream",
          "name": "stderr",
          "text": [
            " [Elapsed Time: 0:00:36] |###############| [Time:  0:00:36] [Train Acc:    1.0]\n"
          ]
        },
        {
          "output_type": "stream",
          "name": "stdout",
          "text": [
            "Epoch: 109, TrL=0.0150, TrA=0.9955, VL=0.4742, VA=0.9039,  TeL=0.4670, TeA=0.8991\n"
          ]
        },
        {
          "output_type": "stream",
          "name": "stderr",
          "text": [
            " [Elapsed Time: 0:00:36] |###############| [Time:  0:00:36] [Train Acc:    1.0]\n"
          ]
        },
        {
          "output_type": "stream",
          "name": "stdout",
          "text": [
            "Epoch: 110, TrL=0.0141, TrA=0.9956, VL=0.4889, VA=0.9025,  TeL=0.4698, TeA=0.9012\n"
          ]
        },
        {
          "output_type": "stream",
          "name": "stderr",
          "text": [
            " [Elapsed Time: 0:00:36] |###############| [Time:  0:00:36] [Train Acc:    1.0]\n"
          ]
        },
        {
          "output_type": "stream",
          "name": "stdout",
          "text": [
            "Epoch: 111, TrL=0.0179, TrA=0.9937, VL=0.4536, VA=0.9079,  TeL=0.4416, TeA=0.9066\n"
          ]
        },
        {
          "output_type": "stream",
          "name": "stderr",
          "text": [
            " [Elapsed Time: 0:00:36] |###############| [Time:  0:00:36] [Train Acc:    1.0]\n"
          ]
        },
        {
          "output_type": "stream",
          "name": "stdout",
          "text": [
            "Epoch: 112, TrL=0.0187, TrA=0.9932, VL=0.4652, VA=0.9066,  TeL=0.4373, TeA=0.9049\n"
          ]
        },
        {
          "output_type": "stream",
          "name": "stderr",
          "text": [
            " [Elapsed Time: 0:00:36] |###############| [Time:  0:00:36] [Train Acc:    1.0]\n"
          ]
        },
        {
          "output_type": "stream",
          "name": "stdout",
          "text": [
            "Epoch: 113, TrL=0.0167, TrA=0.9945, VL=0.5119, VA=0.9100,  TeL=0.4848, TeA=0.9086\n"
          ]
        },
        {
          "output_type": "stream",
          "name": "stderr",
          "text": [
            " [Elapsed Time: 0:00:36] |###############| [Time:  0:00:36] [Train Acc:    1.0]\n"
          ]
        },
        {
          "output_type": "stream",
          "name": "stdout",
          "text": [
            "Epoch: 114, TrL=0.0113, TrA=0.9968, VL=0.4985, VA=0.8906,  TeL=0.4829, TeA=0.8971\n"
          ]
        },
        {
          "output_type": "stream",
          "name": "stderr",
          "text": [
            " [Elapsed Time: 0:00:36] |###############| [Time:  0:00:36] [Train Acc:  0.984]\n"
          ]
        },
        {
          "output_type": "stream",
          "name": "stdout",
          "text": [
            "Epoch: 115, TrL=0.0095, TrA=0.9978, VL=0.5040, VA=0.9059,  TeL=0.4655, TeA=0.9052\n"
          ]
        },
        {
          "output_type": "stream",
          "name": "stderr",
          "text": [
            " [Elapsed Time: 0:00:36] |###############| [Time:  0:00:36] [Train Acc:    1.0]\n"
          ]
        },
        {
          "output_type": "stream",
          "name": "stdout",
          "text": [
            "Epoch: 116, TrL=0.0105, TrA=0.9973, VL=0.4875, VA=0.8967,  TeL=0.4777, TeA=0.8964\n"
          ]
        },
        {
          "output_type": "stream",
          "name": "stderr",
          "text": [
            " [Elapsed Time: 0:00:36] |###############| [Time:  0:00:36] [Train Acc:    1.0]\n"
          ]
        },
        {
          "output_type": "stream",
          "name": "stdout",
          "text": [
            "Epoch: 117, TrL=0.0146, TrA=0.9954, VL=0.4442, VA=0.8995,  TeL=0.4119, TeA=0.8998\n"
          ]
        },
        {
          "output_type": "stream",
          "name": "stderr",
          "text": [
            " [Elapsed Time: 0:00:36] |###############| [Time:  0:00:36] [Train Acc:    1.0]\n"
          ]
        },
        {
          "output_type": "stream",
          "name": "stdout",
          "text": [
            "Epoch: 118, TrL=0.0247, TrA=0.9922, VL=0.4448, VA=0.8913,  TeL=0.4296, TeA=0.8964\n"
          ]
        },
        {
          "output_type": "stream",
          "name": "stderr",
          "text": [
            " [Elapsed Time: 0:00:36] |###############| [Time:  0:00:36] [Train Acc:    1.0]\n"
          ]
        },
        {
          "output_type": "stream",
          "name": "stdout",
          "text": [
            "Epoch: 119, TrL=0.0148, TrA=0.9957, VL=0.4677, VA=0.8998,  TeL=0.4622, TeA=0.8967\n"
          ]
        },
        {
          "output_type": "stream",
          "name": "stderr",
          "text": [
            " [Elapsed Time: 0:00:36] |###############| [Time:  0:00:36] [Train Acc:    1.0]\n"
          ]
        },
        {
          "output_type": "stream",
          "name": "stdout",
          "text": [
            "Epoch: 120, TrL=0.0101, TrA=0.9969, VL=0.4994, VA=0.9042,  TeL=0.4811, TeA=0.9073\n"
          ]
        },
        {
          "output_type": "stream",
          "name": "stderr",
          "text": [
            " [Elapsed Time: 0:00:36] |###############| [Time:  0:00:36] [Train Acc:    1.0]\n"
          ]
        },
        {
          "output_type": "stream",
          "name": "stdout",
          "text": [
            "Epoch: 121, TrL=0.0096, TrA=0.9973, VL=0.5540, VA=0.8950,  TeL=0.5113, TeA=0.8964\n"
          ]
        },
        {
          "output_type": "stream",
          "name": "stderr",
          "text": [
            " [Elapsed Time: 0:00:36] |###############| [Time:  0:00:36] [Train Acc:  0.984]\n"
          ]
        },
        {
          "output_type": "stream",
          "name": "stdout",
          "text": [
            "Epoch: 122, TrL=0.0189, TrA=0.9939, VL=0.4612, VA=0.9005,  TeL=0.4609, TeA=0.9005\n"
          ]
        },
        {
          "output_type": "stream",
          "name": "stderr",
          "text": [
            " [Elapsed Time: 0:00:36] |###############| [Time:  0:00:36] [Train Acc:    1.0]\n"
          ]
        },
        {
          "output_type": "stream",
          "name": "stdout",
          "text": [
            "Epoch: 123, TrL=0.0210, TrA=0.9937, VL=0.4534, VA=0.8923,  TeL=0.4372, TeA=0.8927\n"
          ]
        },
        {
          "output_type": "stream",
          "name": "stderr",
          "text": [
            " [Elapsed Time: 0:00:36] |###############| [Time:  0:00:36] [Train Acc:    1.0]\n"
          ]
        },
        {
          "output_type": "stream",
          "name": "stdout",
          "text": [
            "Epoch: 124, TrL=0.0163, TrA=0.9947, VL=0.4362, VA=0.8899,  TeL=0.4417, TeA=0.8876\n"
          ]
        },
        {
          "output_type": "stream",
          "name": "stderr",
          "text": [
            " [Elapsed Time: 0:00:36] |###############| [Time:  0:00:36] [Train Acc:    1.0]\n"
          ]
        },
        {
          "output_type": "stream",
          "name": "stdout",
          "text": [
            "Epoch: 125, TrL=0.0136, TrA=0.9960, VL=0.4814, VA=0.9059,  TeL=0.4763, TeA=0.9018\n"
          ]
        },
        {
          "output_type": "stream",
          "name": "stderr",
          "text": [
            " [Elapsed Time: 0:00:36] |###############| [Time:  0:00:36] [Train Acc:    1.0]\n"
          ]
        },
        {
          "output_type": "stream",
          "name": "stdout",
          "text": [
            "Epoch: 126, TrL=0.0126, TrA=0.9961, VL=0.4809, VA=0.9035,  TeL=0.4717, TeA=0.9012\n"
          ]
        },
        {
          "output_type": "stream",
          "name": "stderr",
          "text": [
            " [Elapsed Time: 0:00:36] |###############| [Time:  0:00:36] [Train Acc:  0.984]\n"
          ]
        },
        {
          "output_type": "stream",
          "name": "stdout",
          "text": [
            "Epoch: 127, TrL=0.0150, TrA=0.9953, VL=0.4656, VA=0.9049,  TeL=0.4459, TeA=0.9062\n"
          ]
        },
        {
          "output_type": "stream",
          "name": "stderr",
          "text": [
            " [Elapsed Time: 0:00:36] |###############| [Time:  0:00:36] [Train Acc:  0.984]\n"
          ]
        },
        {
          "output_type": "stream",
          "name": "stdout",
          "text": [
            "Epoch: 128, TrL=0.0154, TrA=0.9951, VL=0.4525, VA=0.9029,  TeL=0.4656, TeA=0.8964\n"
          ]
        },
        {
          "output_type": "stream",
          "name": "stderr",
          "text": [
            " [Elapsed Time: 0:00:36] |###############| [Time:  0:00:36] [Train Acc:    1.0]\n"
          ]
        },
        {
          "output_type": "stream",
          "name": "stdout",
          "text": [
            "Epoch: 129, TrL=0.0104, TrA=0.9969, VL=0.4954, VA=0.9018,  TeL=0.4661, TeA=0.9032\n"
          ]
        },
        {
          "output_type": "stream",
          "name": "stderr",
          "text": [
            " [Elapsed Time: 0:00:36] |###############| [Time:  0:00:36] [Train Acc:  0.984]\n"
          ]
        },
        {
          "output_type": "stream",
          "name": "stdout",
          "text": [
            "Epoch: 130, TrL=0.0105, TrA=0.9973, VL=0.4826, VA=0.9090,  TeL=0.4598, TeA=0.9083\n"
          ]
        },
        {
          "output_type": "stream",
          "name": "stderr",
          "text": [
            " [Elapsed Time: 0:00:36] |###############| [Time:  0:00:36] [Train Acc:    1.0]\n"
          ]
        },
        {
          "output_type": "stream",
          "name": "stdout",
          "text": [
            "Epoch: 131, TrL=0.0194, TrA=0.9934, VL=0.4208, VA=0.9056,  TeL=0.4258, TeA=0.9042\n"
          ]
        },
        {
          "output_type": "stream",
          "name": "stderr",
          "text": [
            " [Elapsed Time: 0:00:36] |###############| [Time:  0:00:36] [Train Acc:  0.984]\n"
          ]
        },
        {
          "output_type": "stream",
          "name": "stdout",
          "text": [
            "Epoch: 132, TrL=0.0245, TrA=0.9918, VL=0.4493, VA=0.8978,  TeL=0.4324, TeA=0.9015\n"
          ]
        },
        {
          "output_type": "stream",
          "name": "stderr",
          "text": [
            " [Elapsed Time: 0:00:36] |###############| [Time:  0:00:36] [Train Acc:    1.0]\n"
          ]
        },
        {
          "output_type": "stream",
          "name": "stdout",
          "text": [
            "Epoch: 133, TrL=0.0166, TrA=0.9951, VL=0.4189, VA=0.9046,  TeL=0.4327, TeA=0.8978\n"
          ]
        },
        {
          "output_type": "stream",
          "name": "stderr",
          "text": [
            " [Elapsed Time: 0:00:36] |###############| [Time:  0:00:36] [Train Acc:    1.0]\n"
          ]
        },
        {
          "output_type": "stream",
          "name": "stdout",
          "text": [
            "Epoch: 134, TrL=0.0103, TrA=0.9972, VL=0.4724, VA=0.8903,  TeL=0.4966, TeA=0.8899\n"
          ]
        },
        {
          "output_type": "stream",
          "name": "stderr",
          "text": [
            " [Elapsed Time: 0:00:36] |###############| [Time:  0:00:36] [Train Acc:  0.984]\n"
          ]
        },
        {
          "output_type": "stream",
          "name": "stdout",
          "text": [
            "Epoch: 135, TrL=0.0083, TrA=0.9981, VL=0.5164, VA=0.8876,  TeL=0.5262, TeA=0.8835\n"
          ]
        },
        {
          "output_type": "stream",
          "name": "stderr",
          "text": [
            " [Elapsed Time: 0:00:36] |###############| [Time:  0:00:36] [Train Acc:    1.0]\n"
          ]
        },
        {
          "output_type": "stream",
          "name": "stdout",
          "text": [
            "Epoch: 136, TrL=0.0161, TrA=0.9950, VL=0.4963, VA=0.9086,  TeL=0.4687, TeA=0.9079\n"
          ]
        },
        {
          "output_type": "stream",
          "name": "stderr",
          "text": [
            " [Elapsed Time: 0:00:36] |###############| [Time:  0:00:36] [Train Acc:    1.0]\n"
          ]
        },
        {
          "output_type": "stream",
          "name": "stdout",
          "text": [
            "Epoch: 137, TrL=0.0223, TrA=0.9925, VL=0.4513, VA=0.9056,  TeL=0.4500, TeA=0.9076\n"
          ]
        },
        {
          "output_type": "stream",
          "name": "stderr",
          "text": [
            " [Elapsed Time: 0:00:36] |###############| [Time:  0:00:36] [Train Acc:    1.0]\n"
          ]
        },
        {
          "output_type": "stream",
          "name": "stdout",
          "text": [
            "Epoch: 138, TrL=0.0164, TrA=0.9945, VL=0.4654, VA=0.9056,  TeL=0.4586, TeA=0.9056\n"
          ]
        },
        {
          "output_type": "stream",
          "name": "stderr",
          "text": [
            " [Elapsed Time: 0:00:36] |###############| [Time:  0:00:36] [Train Acc:    1.0]\n"
          ]
        },
        {
          "output_type": "stream",
          "name": "stdout",
          "text": [
            "Epoch: 139, TrL=0.0105, TrA=0.9972, VL=0.5008, VA=0.9059,  TeL=0.4917, TeA=0.9018\n"
          ]
        },
        {
          "output_type": "stream",
          "name": "stderr",
          "text": [
            " [Elapsed Time: 0:00:36] |###############| [Time:  0:00:36] [Train Acc:    1.0]\n"
          ]
        },
        {
          "output_type": "stream",
          "name": "stdout",
          "text": [
            "Epoch: 140, TrL=0.0088, TrA=0.9978, VL=0.5101, VA=0.8903,  TeL=0.5120, TeA=0.8920\n"
          ]
        },
        {
          "output_type": "stream",
          "name": "stderr",
          "text": [
            " [Elapsed Time: 0:00:36] |###############| [Time:  0:00:36] [Train Acc:    1.0]\n"
          ]
        },
        {
          "output_type": "stream",
          "name": "stdout",
          "text": [
            "Epoch: 141, TrL=0.0094, TrA=0.9976, VL=0.4852, VA=0.9090,  TeL=0.4853, TeA=0.9035\n"
          ]
        },
        {
          "output_type": "stream",
          "name": "stderr",
          "text": [
            " [Elapsed Time: 0:00:36] |###############| [Time:  0:00:36] [Train Acc:    1.0]\n"
          ]
        },
        {
          "output_type": "stream",
          "name": "stdout",
          "text": [
            "Epoch: 142, TrL=0.0254, TrA=0.9912, VL=0.4308, VA=0.9110,  TeL=0.4274, TeA=0.9086\n"
          ]
        },
        {
          "output_type": "stream",
          "name": "stderr",
          "text": [
            " [Elapsed Time: 0:00:36] |###############| [Time:  0:00:36] [Train Acc:  0.984]\n"
          ]
        },
        {
          "output_type": "stream",
          "name": "stdout",
          "text": [
            "Epoch: 143, TrL=0.0266, TrA=0.9904, VL=0.4240, VA=0.9025,  TeL=0.4285, TeA=0.9069\n"
          ]
        },
        {
          "output_type": "stream",
          "name": "stderr",
          "text": [
            " [Elapsed Time: 0:00:36] |###############| [Time:  0:00:36] [Train Acc:  0.969]\n"
          ]
        },
        {
          "output_type": "stream",
          "name": "stdout",
          "text": [
            "Epoch: 144, TrL=0.0136, TrA=0.9962, VL=0.4661, VA=0.8930,  TeL=0.4700, TeA=0.8886\n"
          ]
        },
        {
          "output_type": "stream",
          "name": "stderr",
          "text": [
            " [Elapsed Time: 0:00:36] |###############| [Time:  0:00:36] [Train Acc:    1.0]\n"
          ]
        },
        {
          "output_type": "stream",
          "name": "stdout",
          "text": [
            "Epoch: 145, TrL=0.0092, TrA=0.9976, VL=0.4760, VA=0.9005,  TeL=0.4706, TeA=0.8978\n"
          ]
        },
        {
          "output_type": "stream",
          "name": "stderr",
          "text": [
            " [Elapsed Time: 0:00:36] |###############| [Time:  0:00:36] [Train Acc:    1.0]\n"
          ]
        },
        {
          "output_type": "stream",
          "name": "stdout",
          "text": [
            "Epoch: 146, TrL=0.0069, TrA=0.9983, VL=0.5011, VA=0.9008,  TeL=0.5085, TeA=0.8964\n"
          ]
        },
        {
          "output_type": "stream",
          "name": "stderr",
          "text": [
            " [Elapsed Time: 0:00:36] |###############| [Time:  0:00:36] [Train Acc:    1.0]\n"
          ]
        },
        {
          "output_type": "stream",
          "name": "stdout",
          "text": [
            "Epoch: 147, TrL=0.0071, TrA=0.9985, VL=0.4881, VA=0.9005,  TeL=0.4779, TeA=0.9018\n"
          ]
        },
        {
          "output_type": "stream",
          "name": "stderr",
          "text": [
            " [Elapsed Time: 0:00:36] |###############| [Time:  0:00:36] [Train Acc:  0.984]\n"
          ]
        },
        {
          "output_type": "stream",
          "name": "stdout",
          "text": [
            "Epoch: 148, TrL=0.0295, TrA=0.9896, VL=0.4326, VA=0.8950,  TeL=0.4123, TeA=0.8957\n"
          ]
        },
        {
          "output_type": "stream",
          "name": "stderr",
          "text": [
            " [Elapsed Time: 0:00:36] |###############| [Time:  0:00:36] [Train Acc:  0.969]\n"
          ]
        },
        {
          "output_type": "stream",
          "name": "stdout",
          "text": [
            "Epoch: 149, TrL=0.0256, TrA=0.9910, VL=0.4250, VA=0.9096,  TeL=0.4262, TeA=0.9056\n"
          ]
        },
        {
          "output_type": "stream",
          "name": "stderr",
          "text": [
            " [Elapsed Time: 0:00:36] |###############| [Time:  0:00:36] [Train Acc:  0.969]\n"
          ]
        },
        {
          "output_type": "stream",
          "name": "stdout",
          "text": [
            "Epoch: 150, TrL=0.0112, TrA=0.9968, VL=0.4619, VA=0.8984,  TeL=0.4465, TeA=0.9008\n"
          ]
        }
      ]
    },
    {
      "cell_type": "code",
      "metadata": {
        "colab": {
          "base_uri": "https://localhost:8080/"
        },
        "id": "LPCRaqFYPfTt",
        "outputId": "1776236a-5b0d-44b6-cac9-b5bb39f183e4"
      },
      "source": [
        "# Test review\n",
        "#review = \"good quality of the service\"\n",
        "review = \"the product does not work worst service ever\"\n",
        "review = [vocab[w] for w in review.split(\" \")]\n",
        "review = [0]*(seq_len - len(review)) + review\n",
        "review = torch.LongTensor(review).unsqueeze(0).to(dev)\n",
        "# Process review\n",
        "model.eval()\n",
        "output = model(review).cpu()\n",
        "probabilities = F.softmax(output,1)\n",
        "_,pred = output.max(1)\n",
        "pred = pred[0]\n",
        "print((\"positive\" if pred == 1 else \"negative\") + f\" ({100*probabilities[0,pred]:.1f}%)\")"
      ],
      "execution_count": null,
      "outputs": [
        {
          "output_type": "stream",
          "name": "stdout",
          "text": [
            "negative (99.4%)\n"
          ]
        }
      ]
    },
    {
      "cell_type": "code",
      "metadata": {
        "id": "8hWbyC5I3hFU"
      },
      "source": [
        "#save model\n",
        "model_save_name = 'trustpilot_usa.pt'\n",
        "path = F\"/content/drive/My Drive/trustpilot/{model_save_name}\" \n",
        "torch.save(model.state_dict(), path)"
      ],
      "execution_count": null,
      "outputs": []
    },
    {
      "cell_type": "code",
      "metadata": {
        "colab": {
          "base_uri": "https://localhost:8080/"
        },
        "id": "nNW4SzTT31U2",
        "outputId": "46212dca-9952-4bad-ad1f-03b2bb79561a"
      },
      "source": [
        "#load model\n",
        "model_name = 'trustpilot_usa.pt'\n",
        "path = F\"/content/drive/My Drive/trustpilot/{model_name}\" \n",
        "model.load_state_dict(torch.load(path))\n"
      ],
      "execution_count": null,
      "outputs": [
        {
          "data": {
            "text/plain": [
              "<All keys matched successfully>"
            ]
          },
          "execution_count": 52,
          "metadata": {},
          "output_type": "execute_result"
        }
      ]
    }
  ]
}
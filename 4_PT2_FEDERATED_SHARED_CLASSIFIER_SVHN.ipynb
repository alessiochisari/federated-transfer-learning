{
  "nbformat": 4,
  "nbformat_minor": 0,
  "metadata": {
    "kernelspec": {
      "language": "python",
      "display_name": "Python 3",
      "name": "python3"
    },
    "language_info": {
      "name": "python",
      "version": "3.7.10",
      "mimetype": "text/x-python",
      "codemirror_mode": {
        "name": "ipython",
        "version": 3
      },
      "pygments_lexer": "ipython3",
      "nbconvert_exporter": "python",
      "file_extension": ".py"
    },
    "colab": {
      "name": "4 VALERIO PT2 FEDERATED SHARED CLASSIFIER SVHN",
      "provenance": [],
      "collapsed_sections": [],
      "machine_shape": "hm"
    },
    "accelerator": "GPU",
    "widgets": {
      "application/vnd.jupyter.widget-state+json": {
        "fbd51060b17f43fd9d2552003741a551": {
          "model_module": "@jupyter-widgets/controls",
          "model_name": "HBoxModel",
          "model_module_version": "1.5.0",
          "state": {
            "_view_name": "HBoxView",
            "_dom_classes": [],
            "_model_name": "HBoxModel",
            "_view_module": "@jupyter-widgets/controls",
            "_model_module_version": "1.5.0",
            "_view_count": null,
            "_view_module_version": "1.5.0",
            "box_style": "",
            "layout": "IPY_MODEL_e327513023904a41bafa210f411d33e3",
            "_model_module": "@jupyter-widgets/controls",
            "children": [
              "IPY_MODEL_72da7ec6dca64c60b98346b4e603ab8c",
              "IPY_MODEL_017a691731df43bc97c34cd114655496",
              "IPY_MODEL_2ecff63d01fb4d1d95d57807368c5240"
            ]
          }
        },
        "e327513023904a41bafa210f411d33e3": {
          "model_module": "@jupyter-widgets/base",
          "model_name": "LayoutModel",
          "model_module_version": "1.2.0",
          "state": {
            "_view_name": "LayoutView",
            "grid_template_rows": null,
            "right": null,
            "justify_content": null,
            "_view_module": "@jupyter-widgets/base",
            "overflow": null,
            "_model_module_version": "1.2.0",
            "_view_count": null,
            "flex_flow": null,
            "width": null,
            "min_width": null,
            "border": null,
            "align_items": null,
            "bottom": null,
            "_model_module": "@jupyter-widgets/base",
            "top": null,
            "grid_column": null,
            "overflow_y": null,
            "overflow_x": null,
            "grid_auto_flow": null,
            "grid_area": null,
            "grid_template_columns": null,
            "flex": null,
            "_model_name": "LayoutModel",
            "justify_items": null,
            "grid_row": null,
            "max_height": null,
            "align_content": null,
            "visibility": null,
            "align_self": null,
            "height": null,
            "min_height": null,
            "padding": null,
            "grid_auto_rows": null,
            "grid_gap": null,
            "max_width": null,
            "order": null,
            "_view_module_version": "1.2.0",
            "grid_template_areas": null,
            "object_position": null,
            "object_fit": null,
            "grid_auto_columns": null,
            "margin": null,
            "display": null,
            "left": null
          }
        },
        "72da7ec6dca64c60b98346b4e603ab8c": {
          "model_module": "@jupyter-widgets/controls",
          "model_name": "HTMLModel",
          "model_module_version": "1.5.0",
          "state": {
            "_view_name": "HTMLView",
            "style": "IPY_MODEL_61f9522605444bef9efa1b763675a3b6",
            "_dom_classes": [],
            "description": "",
            "_model_name": "HTMLModel",
            "placeholder": "​",
            "_view_module": "@jupyter-widgets/controls",
            "_model_module_version": "1.5.0",
            "value": "",
            "_view_count": null,
            "_view_module_version": "1.5.0",
            "description_tooltip": null,
            "_model_module": "@jupyter-widgets/controls",
            "layout": "IPY_MODEL_ec759c49f5c54ee1b85ea5104241685f"
          }
        },
        "017a691731df43bc97c34cd114655496": {
          "model_module": "@jupyter-widgets/controls",
          "model_name": "FloatProgressModel",
          "model_module_version": "1.5.0",
          "state": {
            "_view_name": "ProgressView",
            "style": "IPY_MODEL_317852c53fea4073be57192a07ea1ad3",
            "_dom_classes": [],
            "description": "",
            "_model_name": "FloatProgressModel",
            "bar_style": "success",
            "max": 182040794,
            "_view_module": "@jupyter-widgets/controls",
            "_model_module_version": "1.5.0",
            "value": 182040794,
            "_view_count": null,
            "_view_module_version": "1.5.0",
            "orientation": "horizontal",
            "min": 0,
            "description_tooltip": null,
            "_model_module": "@jupyter-widgets/controls",
            "layout": "IPY_MODEL_b96fdfc14bf5446f8a9f55ef0ffb6d9f"
          }
        },
        "2ecff63d01fb4d1d95d57807368c5240": {
          "model_module": "@jupyter-widgets/controls",
          "model_name": "HTMLModel",
          "model_module_version": "1.5.0",
          "state": {
            "_view_name": "HTMLView",
            "style": "IPY_MODEL_166889a84beb4cf99a595fe31d841ca3",
            "_dom_classes": [],
            "description": "",
            "_model_name": "HTMLModel",
            "placeholder": "​",
            "_view_module": "@jupyter-widgets/controls",
            "_model_module_version": "1.5.0",
            "value": " 182041600/? [00:07&lt;00:00, 16279086.35it/s]",
            "_view_count": null,
            "_view_module_version": "1.5.0",
            "description_tooltip": null,
            "_model_module": "@jupyter-widgets/controls",
            "layout": "IPY_MODEL_9a27f6a8fa194382a36298e9d0be2afa"
          }
        },
        "61f9522605444bef9efa1b763675a3b6": {
          "model_module": "@jupyter-widgets/controls",
          "model_name": "DescriptionStyleModel",
          "model_module_version": "1.5.0",
          "state": {
            "_view_name": "StyleView",
            "_model_name": "DescriptionStyleModel",
            "description_width": "",
            "_view_module": "@jupyter-widgets/base",
            "_model_module_version": "1.5.0",
            "_view_count": null,
            "_view_module_version": "1.2.0",
            "_model_module": "@jupyter-widgets/controls"
          }
        },
        "ec759c49f5c54ee1b85ea5104241685f": {
          "model_module": "@jupyter-widgets/base",
          "model_name": "LayoutModel",
          "model_module_version": "1.2.0",
          "state": {
            "_view_name": "LayoutView",
            "grid_template_rows": null,
            "right": null,
            "justify_content": null,
            "_view_module": "@jupyter-widgets/base",
            "overflow": null,
            "_model_module_version": "1.2.0",
            "_view_count": null,
            "flex_flow": null,
            "width": null,
            "min_width": null,
            "border": null,
            "align_items": null,
            "bottom": null,
            "_model_module": "@jupyter-widgets/base",
            "top": null,
            "grid_column": null,
            "overflow_y": null,
            "overflow_x": null,
            "grid_auto_flow": null,
            "grid_area": null,
            "grid_template_columns": null,
            "flex": null,
            "_model_name": "LayoutModel",
            "justify_items": null,
            "grid_row": null,
            "max_height": null,
            "align_content": null,
            "visibility": null,
            "align_self": null,
            "height": null,
            "min_height": null,
            "padding": null,
            "grid_auto_rows": null,
            "grid_gap": null,
            "max_width": null,
            "order": null,
            "_view_module_version": "1.2.0",
            "grid_template_areas": null,
            "object_position": null,
            "object_fit": null,
            "grid_auto_columns": null,
            "margin": null,
            "display": null,
            "left": null
          }
        },
        "317852c53fea4073be57192a07ea1ad3": {
          "model_module": "@jupyter-widgets/controls",
          "model_name": "ProgressStyleModel",
          "model_module_version": "1.5.0",
          "state": {
            "_view_name": "StyleView",
            "_model_name": "ProgressStyleModel",
            "description_width": "",
            "_view_module": "@jupyter-widgets/base",
            "_model_module_version": "1.5.0",
            "_view_count": null,
            "_view_module_version": "1.2.0",
            "bar_color": null,
            "_model_module": "@jupyter-widgets/controls"
          }
        },
        "b96fdfc14bf5446f8a9f55ef0ffb6d9f": {
          "model_module": "@jupyter-widgets/base",
          "model_name": "LayoutModel",
          "model_module_version": "1.2.0",
          "state": {
            "_view_name": "LayoutView",
            "grid_template_rows": null,
            "right": null,
            "justify_content": null,
            "_view_module": "@jupyter-widgets/base",
            "overflow": null,
            "_model_module_version": "1.2.0",
            "_view_count": null,
            "flex_flow": null,
            "width": null,
            "min_width": null,
            "border": null,
            "align_items": null,
            "bottom": null,
            "_model_module": "@jupyter-widgets/base",
            "top": null,
            "grid_column": null,
            "overflow_y": null,
            "overflow_x": null,
            "grid_auto_flow": null,
            "grid_area": null,
            "grid_template_columns": null,
            "flex": null,
            "_model_name": "LayoutModel",
            "justify_items": null,
            "grid_row": null,
            "max_height": null,
            "align_content": null,
            "visibility": null,
            "align_self": null,
            "height": null,
            "min_height": null,
            "padding": null,
            "grid_auto_rows": null,
            "grid_gap": null,
            "max_width": null,
            "order": null,
            "_view_module_version": "1.2.0",
            "grid_template_areas": null,
            "object_position": null,
            "object_fit": null,
            "grid_auto_columns": null,
            "margin": null,
            "display": null,
            "left": null
          }
        },
        "166889a84beb4cf99a595fe31d841ca3": {
          "model_module": "@jupyter-widgets/controls",
          "model_name": "DescriptionStyleModel",
          "model_module_version": "1.5.0",
          "state": {
            "_view_name": "StyleView",
            "_model_name": "DescriptionStyleModel",
            "description_width": "",
            "_view_module": "@jupyter-widgets/base",
            "_model_module_version": "1.5.0",
            "_view_count": null,
            "_view_module_version": "1.2.0",
            "_model_module": "@jupyter-widgets/controls"
          }
        },
        "9a27f6a8fa194382a36298e9d0be2afa": {
          "model_module": "@jupyter-widgets/base",
          "model_name": "LayoutModel",
          "model_module_version": "1.2.0",
          "state": {
            "_view_name": "LayoutView",
            "grid_template_rows": null,
            "right": null,
            "justify_content": null,
            "_view_module": "@jupyter-widgets/base",
            "overflow": null,
            "_model_module_version": "1.2.0",
            "_view_count": null,
            "flex_flow": null,
            "width": null,
            "min_width": null,
            "border": null,
            "align_items": null,
            "bottom": null,
            "_model_module": "@jupyter-widgets/base",
            "top": null,
            "grid_column": null,
            "overflow_y": null,
            "overflow_x": null,
            "grid_auto_flow": null,
            "grid_area": null,
            "grid_template_columns": null,
            "flex": null,
            "_model_name": "LayoutModel",
            "justify_items": null,
            "grid_row": null,
            "max_height": null,
            "align_content": null,
            "visibility": null,
            "align_self": null,
            "height": null,
            "min_height": null,
            "padding": null,
            "grid_auto_rows": null,
            "grid_gap": null,
            "max_width": null,
            "order": null,
            "_view_module_version": "1.2.0",
            "grid_template_areas": null,
            "object_position": null,
            "object_fit": null,
            "grid_auto_columns": null,
            "margin": null,
            "display": null,
            "left": null
          }
        },
        "16cc631b2006448080022d363aa69203": {
          "model_module": "@jupyter-widgets/controls",
          "model_name": "HBoxModel",
          "model_module_version": "1.5.0",
          "state": {
            "_view_name": "HBoxView",
            "_dom_classes": [],
            "_model_name": "HBoxModel",
            "_view_module": "@jupyter-widgets/controls",
            "_model_module_version": "1.5.0",
            "_view_count": null,
            "_view_module_version": "1.5.0",
            "box_style": "",
            "layout": "IPY_MODEL_06b469f9d46b436d89476c99a13b5e60",
            "_model_module": "@jupyter-widgets/controls",
            "children": [
              "IPY_MODEL_497e296da1d644c988cae352f0b91974",
              "IPY_MODEL_173416fc231a40fd89729c9fc6ffc14e",
              "IPY_MODEL_7bda628610e947df9a037f1cfabcc82b"
            ]
          }
        },
        "06b469f9d46b436d89476c99a13b5e60": {
          "model_module": "@jupyter-widgets/base",
          "model_name": "LayoutModel",
          "model_module_version": "1.2.0",
          "state": {
            "_view_name": "LayoutView",
            "grid_template_rows": null,
            "right": null,
            "justify_content": null,
            "_view_module": "@jupyter-widgets/base",
            "overflow": null,
            "_model_module_version": "1.2.0",
            "_view_count": null,
            "flex_flow": null,
            "width": null,
            "min_width": null,
            "border": null,
            "align_items": null,
            "bottom": null,
            "_model_module": "@jupyter-widgets/base",
            "top": null,
            "grid_column": null,
            "overflow_y": null,
            "overflow_x": null,
            "grid_auto_flow": null,
            "grid_area": null,
            "grid_template_columns": null,
            "flex": null,
            "_model_name": "LayoutModel",
            "justify_items": null,
            "grid_row": null,
            "max_height": null,
            "align_content": null,
            "visibility": null,
            "align_self": null,
            "height": null,
            "min_height": null,
            "padding": null,
            "grid_auto_rows": null,
            "grid_gap": null,
            "max_width": null,
            "order": null,
            "_view_module_version": "1.2.0",
            "grid_template_areas": null,
            "object_position": null,
            "object_fit": null,
            "grid_auto_columns": null,
            "margin": null,
            "display": null,
            "left": null
          }
        },
        "497e296da1d644c988cae352f0b91974": {
          "model_module": "@jupyter-widgets/controls",
          "model_name": "HTMLModel",
          "model_module_version": "1.5.0",
          "state": {
            "_view_name": "HTMLView",
            "style": "IPY_MODEL_50a3569dc86245a489106c4a0b463eec",
            "_dom_classes": [],
            "description": "",
            "_model_name": "HTMLModel",
            "placeholder": "​",
            "_view_module": "@jupyter-widgets/controls",
            "_model_module_version": "1.5.0",
            "value": "",
            "_view_count": null,
            "_view_module_version": "1.5.0",
            "description_tooltip": null,
            "_model_module": "@jupyter-widgets/controls",
            "layout": "IPY_MODEL_269908f276404794bbc468559ebdca64"
          }
        },
        "173416fc231a40fd89729c9fc6ffc14e": {
          "model_module": "@jupyter-widgets/controls",
          "model_name": "FloatProgressModel",
          "model_module_version": "1.5.0",
          "state": {
            "_view_name": "ProgressView",
            "style": "IPY_MODEL_e01dd50f78fe4ddcb91e5a0d57ca0320",
            "_dom_classes": [],
            "description": "",
            "_model_name": "FloatProgressModel",
            "bar_style": "success",
            "max": 64275384,
            "_view_module": "@jupyter-widgets/controls",
            "_model_module_version": "1.5.0",
            "value": 64275384,
            "_view_count": null,
            "_view_module_version": "1.5.0",
            "orientation": "horizontal",
            "min": 0,
            "description_tooltip": null,
            "_model_module": "@jupyter-widgets/controls",
            "layout": "IPY_MODEL_66d837ec6f004e4c8bddf3b47338db8c"
          }
        },
        "7bda628610e947df9a037f1cfabcc82b": {
          "model_module": "@jupyter-widgets/controls",
          "model_name": "HTMLModel",
          "model_module_version": "1.5.0",
          "state": {
            "_view_name": "HTMLView",
            "style": "IPY_MODEL_7a6d23f2b920417e9adf4ae4a266f9ec",
            "_dom_classes": [],
            "description": "",
            "_model_name": "HTMLModel",
            "placeholder": "​",
            "_view_module": "@jupyter-widgets/controls",
            "_model_module_version": "1.5.0",
            "value": " 64275456/? [00:02&lt;00:00, 37689824.06it/s]",
            "_view_count": null,
            "_view_module_version": "1.5.0",
            "description_tooltip": null,
            "_model_module": "@jupyter-widgets/controls",
            "layout": "IPY_MODEL_444be182c0cb4c22bdd7735caab766c7"
          }
        },
        "50a3569dc86245a489106c4a0b463eec": {
          "model_module": "@jupyter-widgets/controls",
          "model_name": "DescriptionStyleModel",
          "model_module_version": "1.5.0",
          "state": {
            "_view_name": "StyleView",
            "_model_name": "DescriptionStyleModel",
            "description_width": "",
            "_view_module": "@jupyter-widgets/base",
            "_model_module_version": "1.5.0",
            "_view_count": null,
            "_view_module_version": "1.2.0",
            "_model_module": "@jupyter-widgets/controls"
          }
        },
        "269908f276404794bbc468559ebdca64": {
          "model_module": "@jupyter-widgets/base",
          "model_name": "LayoutModel",
          "model_module_version": "1.2.0",
          "state": {
            "_view_name": "LayoutView",
            "grid_template_rows": null,
            "right": null,
            "justify_content": null,
            "_view_module": "@jupyter-widgets/base",
            "overflow": null,
            "_model_module_version": "1.2.0",
            "_view_count": null,
            "flex_flow": null,
            "width": null,
            "min_width": null,
            "border": null,
            "align_items": null,
            "bottom": null,
            "_model_module": "@jupyter-widgets/base",
            "top": null,
            "grid_column": null,
            "overflow_y": null,
            "overflow_x": null,
            "grid_auto_flow": null,
            "grid_area": null,
            "grid_template_columns": null,
            "flex": null,
            "_model_name": "LayoutModel",
            "justify_items": null,
            "grid_row": null,
            "max_height": null,
            "align_content": null,
            "visibility": null,
            "align_self": null,
            "height": null,
            "min_height": null,
            "padding": null,
            "grid_auto_rows": null,
            "grid_gap": null,
            "max_width": null,
            "order": null,
            "_view_module_version": "1.2.0",
            "grid_template_areas": null,
            "object_position": null,
            "object_fit": null,
            "grid_auto_columns": null,
            "margin": null,
            "display": null,
            "left": null
          }
        },
        "e01dd50f78fe4ddcb91e5a0d57ca0320": {
          "model_module": "@jupyter-widgets/controls",
          "model_name": "ProgressStyleModel",
          "model_module_version": "1.5.0",
          "state": {
            "_view_name": "StyleView",
            "_model_name": "ProgressStyleModel",
            "description_width": "",
            "_view_module": "@jupyter-widgets/base",
            "_model_module_version": "1.5.0",
            "_view_count": null,
            "_view_module_version": "1.2.0",
            "bar_color": null,
            "_model_module": "@jupyter-widgets/controls"
          }
        },
        "66d837ec6f004e4c8bddf3b47338db8c": {
          "model_module": "@jupyter-widgets/base",
          "model_name": "LayoutModel",
          "model_module_version": "1.2.0",
          "state": {
            "_view_name": "LayoutView",
            "grid_template_rows": null,
            "right": null,
            "justify_content": null,
            "_view_module": "@jupyter-widgets/base",
            "overflow": null,
            "_model_module_version": "1.2.0",
            "_view_count": null,
            "flex_flow": null,
            "width": null,
            "min_width": null,
            "border": null,
            "align_items": null,
            "bottom": null,
            "_model_module": "@jupyter-widgets/base",
            "top": null,
            "grid_column": null,
            "overflow_y": null,
            "overflow_x": null,
            "grid_auto_flow": null,
            "grid_area": null,
            "grid_template_columns": null,
            "flex": null,
            "_model_name": "LayoutModel",
            "justify_items": null,
            "grid_row": null,
            "max_height": null,
            "align_content": null,
            "visibility": null,
            "align_self": null,
            "height": null,
            "min_height": null,
            "padding": null,
            "grid_auto_rows": null,
            "grid_gap": null,
            "max_width": null,
            "order": null,
            "_view_module_version": "1.2.0",
            "grid_template_areas": null,
            "object_position": null,
            "object_fit": null,
            "grid_auto_columns": null,
            "margin": null,
            "display": null,
            "left": null
          }
        },
        "7a6d23f2b920417e9adf4ae4a266f9ec": {
          "model_module": "@jupyter-widgets/controls",
          "model_name": "DescriptionStyleModel",
          "model_module_version": "1.5.0",
          "state": {
            "_view_name": "StyleView",
            "_model_name": "DescriptionStyleModel",
            "description_width": "",
            "_view_module": "@jupyter-widgets/base",
            "_model_module_version": "1.5.0",
            "_view_count": null,
            "_view_module_version": "1.2.0",
            "_model_module": "@jupyter-widgets/controls"
          }
        },
        "444be182c0cb4c22bdd7735caab766c7": {
          "model_module": "@jupyter-widgets/base",
          "model_name": "LayoutModel",
          "model_module_version": "1.2.0",
          "state": {
            "_view_name": "LayoutView",
            "grid_template_rows": null,
            "right": null,
            "justify_content": null,
            "_view_module": "@jupyter-widgets/base",
            "overflow": null,
            "_model_module_version": "1.2.0",
            "_view_count": null,
            "flex_flow": null,
            "width": null,
            "min_width": null,
            "border": null,
            "align_items": null,
            "bottom": null,
            "_model_module": "@jupyter-widgets/base",
            "top": null,
            "grid_column": null,
            "overflow_y": null,
            "overflow_x": null,
            "grid_auto_flow": null,
            "grid_area": null,
            "grid_template_columns": null,
            "flex": null,
            "_model_name": "LayoutModel",
            "justify_items": null,
            "grid_row": null,
            "max_height": null,
            "align_content": null,
            "visibility": null,
            "align_self": null,
            "height": null,
            "min_height": null,
            "padding": null,
            "grid_auto_rows": null,
            "grid_gap": null,
            "max_width": null,
            "order": null,
            "_view_module_version": "1.2.0",
            "grid_template_areas": null,
            "object_position": null,
            "object_fit": null,
            "grid_auto_columns": null,
            "margin": null,
            "display": null,
            "left": null
          }
        }
      }
    }
  },
  "cells": [
    {
      "cell_type": "code",
      "metadata": {
        "_uuid": "8f2839f25d086af736a60e9eeb907d3b93b6e0e5",
        "_cell_guid": "b1076dfc-b9ad-4769-8c92-a6c4dae69d19",
        "execution": {
          "iopub.status.busy": "2021-08-27T09:49:56.471699Z",
          "iopub.execute_input": "2021-08-27T09:49:56.471960Z",
          "iopub.status.idle": "2021-08-27T09:50:03.985892Z",
          "shell.execute_reply.started": "2021-08-27T09:49:56.471937Z",
          "shell.execute_reply": "2021-08-27T09:50:03.984993Z"
        },
        "trusted": true,
        "id": "6ObpVK0bPVqm",
        "colab": {
          "base_uri": "https://localhost:8080/"
        },
        "outputId": "f5933248-c06e-4aca-870f-132fc21f10ea"
      },
      "source": [
        "!pip install --upgrade progressbar2"
      ],
      "execution_count": null,
      "outputs": [
        {
          "output_type": "stream",
          "name": "stdout",
          "text": [
            "Requirement already satisfied: progressbar2 in /usr/local/lib/python3.7/dist-packages (3.38.0)\n",
            "Collecting progressbar2\n",
            "  Downloading progressbar2-3.53.1-py2.py3-none-any.whl (25 kB)\n",
            "Requirement already satisfied: six in /usr/local/lib/python3.7/dist-packages (from progressbar2) (1.15.0)\n",
            "Requirement already satisfied: python-utils>=2.3.0 in /usr/local/lib/python3.7/dist-packages (from progressbar2) (2.5.6)\n",
            "Installing collected packages: progressbar2\n",
            "  Attempting uninstall: progressbar2\n",
            "    Found existing installation: progressbar2 3.38.0\n",
            "    Uninstalling progressbar2-3.38.0:\n",
            "      Successfully uninstalled progressbar2-3.38.0\n",
            "Successfully installed progressbar2-3.53.1\n"
          ]
        }
      ]
    },
    {
      "cell_type": "code",
      "metadata": {
        "execution": {
          "iopub.status.busy": "2021-08-27T09:50:09.983641Z",
          "iopub.execute_input": "2021-08-27T09:50:09.983913Z",
          "iopub.status.idle": "2021-08-27T09:50:11.370287Z",
          "shell.execute_reply.started": "2021-08-27T09:50:09.983884Z",
          "shell.execute_reply": "2021-08-27T09:50:11.369309Z"
        },
        "trusted": true,
        "id": "tc7u0EhdPVqt"
      },
      "source": [
        "from torch import nn\n",
        "from collections import OrderedDict\n",
        "import torch.nn.functional as F\n",
        "import torch\n",
        "from torch.utils.data import DataLoader\n",
        "import torchvision\n",
        "import random\n",
        "from torch.utils.data import Subset\n",
        "from matplotlib import pyplot as plt\n",
        "from torchsummary import summary\n",
        "from torchvision import transforms\n",
        "import progressbar as pb\n",
        "import numpy as np"
      ],
      "execution_count": null,
      "outputs": []
    },
    {
      "cell_type": "code",
      "metadata": {
        "colab": {
          "resources": {
            "http://localhost:8080/nbextensions/google.colab/files.js": {
              "data": "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",
              "ok": true,
              "headers": [
                [
                  "content-type",
                  "application/javascript"
                ]
              ],
              "status": 200,
              "status_text": "OK"
            }
          },
          "base_uri": "https://localhost:8080/",
          "height": 74
        },
        "id": "XB4jGnGugekC",
        "outputId": "35940e4d-a8d0-41fa-ad59-6982cb710ee2"
      },
      "source": [
        "from google.colab import files\n",
        "uploaded= files.upload()"
      ],
      "execution_count": null,
      "outputs": [
        {
          "output_type": "display_data",
          "data": {
            "text/html": [
              "\n",
              "     <input type=\"file\" id=\"files-8c118b80-1e40-463a-a5fc-9116ded756fd\" name=\"files[]\" multiple disabled\n",
              "        style=\"border:none\" />\n",
              "     <output id=\"result-8c118b80-1e40-463a-a5fc-9116ded756fd\">\n",
              "      Upload widget is only available when the cell has been executed in the\n",
              "      current browser session. Please rerun this cell to enable.\n",
              "      </output>\n",
              "      <script src=\"/nbextensions/google.colab/files.js\"></script> "
            ],
            "text/plain": [
              "<IPython.core.display.HTML object>"
            ]
          },
          "metadata": {}
        },
        {
          "output_type": "stream",
          "name": "stdout",
          "text": [
            "Saving federated_mnist_best_test.pth to federated_mnist_best_test.pth\n"
          ]
        }
      ]
    },
    {
      "cell_type": "code",
      "metadata": {
        "execution": {
          "iopub.status.busy": "2021-08-27T09:50:11.372853Z",
          "iopub.execute_input": "2021-08-27T09:50:11.373120Z",
          "iopub.status.idle": "2021-08-27T09:50:17.186115Z",
          "shell.execute_reply.started": "2021-08-27T09:50:11.373093Z",
          "shell.execute_reply": "2021-08-27T09:50:17.185139Z"
        },
        "trusted": true,
        "id": "VbvKI21GPVqv"
      },
      "source": [
        "state_dict = torch.load('federated_mnist_best_test.pth')"
      ],
      "execution_count": null,
      "outputs": []
    },
    {
      "cell_type": "code",
      "metadata": {
        "execution": {
          "iopub.status.busy": "2021-08-27T09:50:17.187323Z",
          "iopub.execute_input": "2021-08-27T09:50:17.187674Z",
          "iopub.status.idle": "2021-08-27T09:50:17.275867Z",
          "shell.execute_reply.started": "2021-08-27T09:50:17.187638Z",
          "shell.execute_reply": "2021-08-27T09:50:17.274127Z"
        },
        "trusted": true,
        "id": "oB1tu657PVqw",
        "colab": {
          "base_uri": "https://localhost:8080/"
        },
        "outputId": "a8698fc0-7241-45c6-a57b-6fd0948c39a3"
      },
      "source": [
        "state_dict[\"classifier\"]"
      ],
      "execution_count": null,
      "outputs": [
        {
          "output_type": "execute_result",
          "data": {
            "text/plain": [
              "OrderedDict([('classifier.0.weight',\n",
              "              tensor([[-1.7600e-02,  2.1243e-02, -9.1289e-03,  ..., -6.3843e-03,\n",
              "                        1.8552e-02,  1.9946e-02],\n",
              "                      [-2.2441e-02,  2.1101e-02, -8.2193e-04,  ..., -1.4391e-02,\n",
              "                       -1.6754e-02,  1.8552e-02],\n",
              "                      [-2.3806e-02,  2.1773e-02,  1.0257e-03,  ..., -2.3305e-03,\n",
              "                       -1.8795e-02,  2.2600e-02],\n",
              "                      ...,\n",
              "                      [ 1.5982e-02, -1.2334e-05,  1.8411e-03,  ...,  1.5341e-02,\n",
              "                       -1.5633e-02,  2.4265e-02],\n",
              "                      [-8.1139e-03,  1.7155e-02, -6.7252e-03,  ..., -1.8207e-02,\n",
              "                        7.8570e-03, -3.8176e-03],\n",
              "                      [ 9.6889e-04,  3.1487e-03, -1.2137e-02,  ...,  2.0205e-02,\n",
              "                        1.8008e-02, -1.9592e-02]], device='cuda:0')),\n",
              "             ('classifier.0.bias',\n",
              "              tensor([-0.0061, -0.0193, -0.0059,  ...,  0.0140, -0.0062, -0.0031],\n",
              "                     device='cuda:0')),\n",
              "             ('classifier.3.weight',\n",
              "              tensor([[ 0.0203, -0.0076,  0.0013,  ..., -0.0187, -0.0022, -0.0113],\n",
              "                      [-0.0069,  0.0030,  0.0154,  ...,  0.0122, -0.0098,  0.0038],\n",
              "                      [-0.0205,  0.0180,  0.0029,  ...,  0.0105, -0.0144,  0.0175],\n",
              "                      ...,\n",
              "                      [-0.0050, -0.0215, -0.0187,  ...,  0.0041,  0.0187,  0.0173],\n",
              "                      [-0.0154, -0.0035, -0.0105,  ..., -0.0244,  0.0076,  0.0069],\n",
              "                      [-0.0083, -0.0189, -0.0215,  ...,  0.0151,  0.0203,  0.0064]],\n",
              "                     device='cuda:0')),\n",
              "             ('classifier.3.bias',\n",
              "              tensor([ 1.0930e-02,  8.0140e-03,  6.0317e-03, -2.0995e-02, -1.7503e-02,\n",
              "                      -2.1026e-02, -4.8646e-04, -1.2673e-02,  1.5909e-02,  1.4420e-02,\n",
              "                      -1.3719e-02,  2.3083e-02,  1.5311e-02, -4.4936e-03, -5.8767e-03,\n",
              "                       2.2942e-02, -3.7423e-03,  8.8793e-03, -1.4985e-02,  1.6725e-02,\n",
              "                      -2.8127e-03, -6.2351e-03, -1.2135e-02, -7.2391e-03,  9.4837e-04,\n",
              "                      -6.1913e-04, -3.8025e-03,  9.1613e-03,  2.3145e-03, -1.8778e-02,\n",
              "                       3.8786e-03, -1.3754e-02,  4.0155e-03, -2.0058e-02,  3.5006e-03,\n",
              "                      -2.2281e-02, -9.8328e-03,  1.7825e-02, -2.0414e-02,  1.4276e-02,\n",
              "                      -1.6920e-02,  1.8091e-02,  7.3234e-03,  9.3397e-03,  1.5145e-02,\n",
              "                       1.1327e-02, -1.0901e-02, -1.7172e-02,  1.6804e-02,  1.9224e-02,\n",
              "                       2.1967e-02,  1.8869e-02,  8.7782e-03, -1.2113e-02,  2.3593e-02,\n",
              "                       1.5679e-02,  1.3014e-04, -1.6819e-02, -1.6390e-02,  1.2299e-02,\n",
              "                       1.0407e-02,  7.7700e-04, -9.8995e-03, -4.3287e-03, -3.9037e-03,\n",
              "                       4.7985e-03, -2.0015e-02, -7.8960e-03,  1.2684e-03, -6.1479e-03,\n",
              "                      -1.5912e-02, -8.3401e-03,  1.7466e-02,  6.5480e-03, -1.8296e-02,\n",
              "                       1.5215e-02, -2.0789e-02,  1.3913e-02, -1.5602e-02, -1.9022e-02,\n",
              "                       1.0811e-02,  4.0362e-03,  1.5651e-02,  1.7201e-02,  4.5457e-03,\n",
              "                       6.9709e-03, -9.9864e-03, -4.8609e-03,  2.1771e-02, -1.7807e-03,\n",
              "                       5.5497e-03, -8.7105e-03, -3.6160e-03,  2.5375e-04, -6.8194e-03,\n",
              "                      -2.1651e-02, -3.3512e-03, -1.8623e-02, -1.5708e-02,  1.0829e-02,\n",
              "                       1.3787e-02, -1.9997e-02, -1.9887e-02, -1.3665e-02,  1.5950e-02,\n",
              "                      -2.6698e-03, -1.7774e-02, -2.4928e-03,  7.7054e-03, -1.3095e-02,\n",
              "                       1.2775e-02, -9.7625e-03,  2.4185e-05,  1.3639e-02, -2.1323e-03,\n",
              "                       6.0131e-03, -3.0834e-03, -1.2229e-02, -1.8005e-02,  6.6420e-03,\n",
              "                       2.6724e-03, -1.9265e-02, -8.4700e-03,  4.9019e-03,  1.0709e-02,\n",
              "                      -1.3389e-02,  1.7954e-02,  1.0880e-03, -7.9911e-03, -1.4148e-03,\n",
              "                      -1.7724e-02,  4.8112e-03, -3.5038e-03, -3.2404e-04,  2.1360e-02,\n",
              "                      -7.5690e-03,  1.9183e-02,  1.2009e-02, -6.6689e-03,  1.8275e-02,\n",
              "                       8.7443e-03,  6.1726e-04,  1.7227e-03, -3.5209e-03, -7.3529e-03,\n",
              "                       1.6931e-03,  2.2775e-02,  1.4089e-02,  1.1212e-02,  4.2733e-03,\n",
              "                       1.3362e-02,  1.8421e-02,  2.0899e-02, -8.4081e-03, -9.1615e-04,\n",
              "                       9.7138e-04,  7.6472e-03,  1.6913e-02, -8.1794e-03,  1.6190e-02,\n",
              "                       2.2805e-02,  1.9972e-02,  8.6107e-03,  7.2615e-03,  1.4580e-02,\n",
              "                       5.3312e-03, -2.0409e-02,  1.4385e-03,  9.6594e-03,  1.5747e-02,\n",
              "                       2.3441e-04,  2.2293e-02,  2.3348e-02,  4.0676e-03, -2.3276e-02,\n",
              "                       1.4459e-02, -1.1155e-02,  7.4378e-03,  1.2292e-02, -1.2924e-02,\n",
              "                       1.2506e-02, -5.4414e-03, -7.4914e-03, -1.9773e-02, -1.5531e-02,\n",
              "                       1.3553e-02, -1.7448e-02,  2.4902e-03,  2.0615e-02, -9.0331e-03,\n",
              "                      -1.6246e-02,  4.1685e-03,  4.1568e-03, -1.1705e-02, -2.1731e-02,\n",
              "                       1.4618e-02, -1.1870e-02,  1.0659e-02,  2.3211e-02, -1.2393e-02,\n",
              "                      -1.7263e-02, -8.1920e-03, -1.8548e-02,  6.1686e-03, -2.5296e-03,\n",
              "                      -1.1392e-02, -3.7492e-03,  1.2529e-03,  1.0610e-02,  7.0643e-04,\n",
              "                       2.9744e-03, -2.7400e-03, -1.8347e-02, -1.3477e-03,  2.0252e-02,\n",
              "                       9.5741e-03,  1.7780e-03, -6.2031e-03, -1.7177e-02, -2.0953e-02,\n",
              "                      -1.8320e-02,  1.0921e-02, -9.5180e-03,  1.7078e-02,  1.4660e-02,\n",
              "                      -1.0758e-02, -2.0986e-02, -2.2139e-02,  1.0030e-02, -7.1616e-03,\n",
              "                       7.7633e-04,  1.8530e-02,  2.3024e-02,  9.9541e-04, -1.7835e-02,\n",
              "                      -1.9839e-02,  1.1380e-02,  4.6330e-03,  8.9017e-03, -8.1773e-03,\n",
              "                       1.4603e-02,  8.3379e-03,  2.1070e-02,  1.5477e-02,  1.5982e-02,\n",
              "                       9.6980e-03, -1.0509e-02,  4.4338e-03, -1.6852e-02, -1.3342e-02,\n",
              "                       1.9331e-03,  8.5356e-03,  1.7460e-02, -1.9397e-02,  1.8656e-02,\n",
              "                      -1.2761e-02,  2.1222e-02, -9.6493e-03, -1.2455e-02,  1.3897e-03,\n",
              "                       1.2335e-03,  2.6807e-03,  2.1093e-02, -1.2521e-02, -8.4997e-03,\n",
              "                       1.3712e-02,  2.1612e-02, -1.2954e-02,  1.2525e-02,  5.4634e-03,\n",
              "                      -8.8804e-03, -2.2560e-02,  8.6625e-04,  5.5151e-04,  1.2941e-02,\n",
              "                      -1.5142e-02,  1.9698e-03,  2.9927e-03,  1.5582e-02, -4.6952e-04,\n",
              "                       5.7823e-03, -3.2468e-03,  1.0621e-02, -1.9484e-02, -8.0799e-03,\n",
              "                      -8.3214e-03, -2.0251e-02,  1.3035e-02, -1.3948e-02,  8.7643e-03,\n",
              "                      -1.6016e-02, -1.2644e-02,  6.7819e-03,  2.4725e-03, -4.5486e-03,\n",
              "                       2.0989e-02,  2.3990e-02, -4.9250e-03, -9.1761e-03, -1.6683e-02,\n",
              "                       4.4349e-03,  1.5783e-02,  1.1936e-02, -2.2085e-04, -1.9302e-02,\n",
              "                      -9.1529e-03, -5.8522e-03,  1.8596e-02, -1.3561e-02, -4.7435e-03,\n",
              "                      -2.0122e-02, -1.3012e-02,  1.0845e-02,  4.8650e-03, -7.8763e-03,\n",
              "                       2.1274e-02, -1.3511e-03,  2.2545e-03, -1.3757e-02, -3.1178e-03,\n",
              "                      -1.1997e-02,  1.6229e-02, -1.0231e-02,  6.6821e-04, -1.3848e-02,\n",
              "                      -1.3863e-02,  1.3623e-02,  1.0400e-02, -1.2692e-02,  6.1743e-04,\n",
              "                       1.6256e-02, -2.0707e-02,  5.3262e-03, -8.1728e-04,  8.8249e-03,\n",
              "                       6.3846e-03,  1.0212e-02, -2.0497e-03, -1.6905e-02,  2.2361e-02,\n",
              "                       9.3483e-03, -1.4613e-02, -1.7777e-02, -7.3786e-03,  7.7184e-03,\n",
              "                       1.7413e-03,  1.6991e-02, -5.7287e-03,  1.1036e-02, -1.8786e-03,\n",
              "                      -1.5597e-02, -2.3901e-03,  1.9418e-02,  7.3182e-03, -1.8229e-02,\n",
              "                       1.6739e-02, -9.6331e-03, -7.3426e-03,  8.6663e-03, -2.4275e-02,\n",
              "                       1.8830e-02,  1.3081e-02, -3.5020e-03,  2.0857e-02,  4.3893e-04,\n",
              "                       1.0234e-02,  4.4695e-03,  7.7795e-03, -1.1810e-02,  6.7672e-03,\n",
              "                       5.0783e-03, -1.7759e-02,  7.6495e-03,  2.3083e-03, -5.1932e-04,\n",
              "                      -1.4534e-02, -8.0996e-03, -1.6146e-02, -1.4414e-02,  7.4960e-04,\n",
              "                       1.1797e-02, -4.5243e-03,  5.1236e-03, -2.0327e-03, -5.3699e-03,\n",
              "                      -1.4767e-02, -2.8549e-03,  2.5288e-02,  1.3779e-02,  1.7907e-02,\n",
              "                      -1.6702e-02,  1.6754e-02,  9.6114e-04, -4.4378e-03,  2.4014e-02,\n",
              "                       1.4530e-02,  4.4351e-03,  9.0599e-03, -4.9582e-04, -9.0473e-03,\n",
              "                      -1.6523e-02,  6.0462e-03, -2.1027e-02,  7.5790e-03,  8.6569e-04,\n",
              "                       1.1369e-02, -4.6815e-04,  1.3114e-02, -8.6462e-03,  1.3834e-04,\n",
              "                       9.2797e-03, -1.2552e-02,  4.3581e-03,  1.2719e-02, -1.6502e-02,\n",
              "                       6.9538e-03,  1.3449e-02,  6.3401e-04,  5.5818e-05,  2.1258e-02,\n",
              "                       9.3497e-03,  1.8412e-03, -1.0861e-02,  2.2820e-02, -1.0078e-02,\n",
              "                       1.3232e-02, -7.6852e-03, -1.4667e-02, -1.2859e-02, -1.4926e-02,\n",
              "                      -4.9195e-03,  1.8177e-02, -2.0051e-03, -4.4716e-03, -1.9266e-02,\n",
              "                       1.9954e-02, -1.0746e-02, -2.3239e-02,  1.6780e-02, -5.3241e-03,\n",
              "                      -1.6044e-02,  2.8249e-03, -4.9430e-03,  2.3180e-02, -1.4725e-02,\n",
              "                       8.4122e-03, -1.9372e-02,  8.8089e-03,  7.2505e-03, -1.9500e-03,\n",
              "                       1.2106e-02, -1.4567e-02, -2.1799e-02, -1.1942e-02, -8.5010e-03,\n",
              "                       9.0132e-04,  1.2976e-02,  3.2096e-04,  2.2701e-02,  2.0518e-02,\n",
              "                       1.7226e-02, -2.2370e-02, -1.7455e-02, -1.6361e-02,  9.4349e-03,\n",
              "                      -1.4823e-03, -2.1817e-03, -8.0774e-04,  7.4973e-03,  1.4022e-02,\n",
              "                       1.7512e-02,  9.7906e-03,  1.1391e-02, -1.0244e-02,  8.1035e-03,\n",
              "                      -1.3588e-02, -3.4188e-03, -1.3931e-02,  7.1521e-03,  7.8688e-03,\n",
              "                      -1.6929e-03, -1.5513e-02, -1.8353e-02,  1.2221e-02,  5.7196e-04,\n",
              "                       1.3288e-02,  1.7506e-02,  1.1631e-02,  2.0259e-02,  2.2082e-03,\n",
              "                      -2.1453e-02, -7.2988e-03, -2.0160e-02, -7.4687e-03,  5.0143e-03,\n",
              "                       1.4886e-02,  6.8885e-03,  2.8323e-03, -2.8901e-03, -2.9283e-03,\n",
              "                      -5.9109e-03, -6.6287e-03, -1.1301e-02, -8.4506e-03, -1.8004e-02,\n",
              "                      -4.4481e-03,  1.4381e-02,  3.4921e-04,  9.4454e-04, -1.6933e-02,\n",
              "                      -1.4522e-02,  2.5839e-02], device='cuda:0')),\n",
              "             ('classifier.6.weight',\n",
              "              tensor([[ 0.0868, -0.0682,  0.0542,  ..., -0.0071,  0.0937, -0.0060],\n",
              "                      [-0.0459,  0.0612, -0.0357,  ..., -0.0503, -0.0284,  0.0388],\n",
              "                      [ 0.0427, -0.0786, -0.0194,  ...,  0.0571, -0.0176,  0.0372],\n",
              "                      ...,\n",
              "                      [ 0.0677, -0.0513,  0.0698,  ..., -0.0444, -0.0249, -0.0136],\n",
              "                      [ 0.0147,  0.0749, -0.0033,  ...,  0.0850, -0.0688,  0.0328],\n",
              "                      [-0.0531,  0.0443,  0.0397,  ..., -0.0512, -0.0380, -0.0641]],\n",
              "                     device='cuda:0')),\n",
              "             ('classifier.6.bias',\n",
              "              tensor([ 0.0207,  0.0632,  0.0014, -0.0005, -0.0817,  0.0138,  0.0232, -0.0059,\n",
              "                       0.0154, -0.0309], device='cuda:0'))])"
            ]
          },
          "metadata": {},
          "execution_count": 4
        }
      ]
    },
    {
      "cell_type": "code",
      "metadata": {
        "execution": {
          "iopub.status.busy": "2021-08-27T09:50:17.277148Z",
          "iopub.execute_input": "2021-08-27T09:50:17.277495Z",
          "iopub.status.idle": "2021-08-27T09:50:17.301158Z",
          "shell.execute_reply.started": "2021-08-27T09:50:17.277459Z",
          "shell.execute_reply": "2021-08-27T09:50:17.299987Z"
        },
        "trusted": true,
        "id": "GFy9P5SkPVqw"
      },
      "source": [
        "SUM = lambda x,y : x+y\n",
        "\n",
        "def check_equity(property,a,b):\n",
        "    pa = getattr(a,property)\n",
        "    pb = getattr(b,property)\n",
        "    assert  pa==pb, \"Different {}: {}!={}\".format(property,pa,pb)\n",
        "\n",
        "    return pa\n",
        "\n",
        "def module_unwrap(mod:nn.Module,recursive=False):\n",
        "    children = OrderedDict()\n",
        "    try:\n",
        "        for name, module in mod.named_children():\n",
        "            if (recursive):\n",
        "                recursive_call = module_unwrap(module,recursive=True)\n",
        "                if (len(recursive_call)>0):\n",
        "                    for k,v in recursive_call.items():\n",
        "                        children[name+\"_\"+k] = v\n",
        "                else:\n",
        "                    children[name] = module\n",
        "            else:\n",
        "                children[name] = module\n",
        "    except AttributeError:\n",
        "        pass\n",
        "\n",
        "    return children\n",
        "\n",
        "class VGGBlock(nn.Module):\n",
        "    def __init__(self, in_channels, out_channels,batch_norm=False):\n",
        "\n",
        "        super().__init__()\n",
        "\n",
        "        conv2_params = {'kernel_size': (3, 3),\n",
        "                        'stride'     : (1, 1),\n",
        "                        'padding'   : 1\n",
        "                        }\n",
        "\n",
        "        noop = lambda x : x\n",
        "\n",
        "        self._batch_norm = batch_norm\n",
        "\n",
        "        self.conv1 = nn.Conv2d(in_channels=in_channels,out_channels=out_channels , **conv2_params)\n",
        "        #self.bn1 = nn.BatchNorm2d(out_channels) if batch_norm else noop\n",
        "        self.bn1 = nn.GroupNorm(32, out_channels) if batch_norm else noop\n",
        "\n",
        "        self.conv2 = nn.Conv2d(in_channels=out_channels,out_channels=out_channels, **conv2_params)\n",
        "        #self.bn2 = nn.BatchNorm2d(out_channels) if batch_norm else noop\n",
        "        self.bn2 = nn.GroupNorm(32, out_channels) if batch_norm else noop\n",
        "\n",
        "        self.max_pooling = nn.MaxPool2d(kernel_size=(2, 2), stride=(2, 2))\n",
        "\n",
        "    @property\n",
        "    def batch_norm(self):\n",
        "        return self._batch_norm\n",
        "\n",
        "    def forward(self,x):\n",
        "        x = self.conv1(x)\n",
        "        x = self.bn1(x)\n",
        "        x = F.relu(x)\n",
        "\n",
        "        x = self.conv2(x)\n",
        "        x = self.bn2(x)\n",
        "        x = F.relu(x)\n",
        "\n",
        "        x = self.max_pooling(x)\n",
        "\n",
        "        return x\n",
        "\n",
        "class Classifier(nn.Module):\n",
        "\n",
        "    def __init__(self,num_classes=10):\n",
        "        super().__init__()\n",
        "\n",
        "        self.classifier = nn.Sequential(\n",
        "            nn.Linear(2048, 2048),\n",
        "            nn.ReLU(True),\n",
        "            nn.Dropout(p=0.5),\n",
        "            nn.Linear(2048, 512),\n",
        "            nn.ReLU(True),\n",
        "            nn.Dropout(p=0.5),\n",
        "            nn.Linear(512, num_classes)\n",
        "        )\n",
        "\n",
        "    def forward(self,x):\n",
        "\n",
        "        return self.classifier(x)\n",
        "\n",
        "class VGG16(nn.Module):\n",
        "\n",
        "  def __init__(self, input_size, batch_norm=False):\n",
        "    super(VGG16, self).__init__()\n",
        "\n",
        "    self.in_channels,self.in_width,self.in_height = input_size\n",
        "\n",
        "    self.block_1 = VGGBlock(self.in_channels,64,batch_norm=batch_norm)\n",
        "    self.block_2 = VGGBlock(64, 128,batch_norm=batch_norm)\n",
        "    self.block_3 = VGGBlock(128, 256,batch_norm=batch_norm)\n",
        "    self.block_4 = VGGBlock(256,512,batch_norm=batch_norm)\n",
        "\n",
        "\n",
        "  @property\n",
        "  def input_size(self):\n",
        "      return self.in_channels,self.in_width,self.in_height\n",
        "\n",
        "  def forward(self, x):\n",
        "\n",
        "    x = self.block_1(x)\n",
        "    x = self.block_2(x)\n",
        "    x = self.block_3(x)\n",
        "    x = self.block_4(x)\n",
        "    # x = self.avgpool(x)\n",
        "    x = torch.flatten(x,1)\n",
        "\n",
        "    return x\n",
        "\n",
        "class CombinedLoss(nn.Module):\n",
        "    def __init__(self, loss_a, loss_b, loss_combo, _lambda=1.0):\n",
        "        super().__init__()\n",
        "        self.loss_a = loss_a\n",
        "        self.loss_b = loss_b\n",
        "        self.loss_combo = loss_combo\n",
        "\n",
        "        self.register_buffer('_lambda',torch.tensor(float(_lambda),dtype=torch.float32))\n",
        "\n",
        "\n",
        "    def forward(self,y_hat,y):\n",
        "\n",
        "        return self.loss_a(y_hat[0],y[0]) + self.loss_b(y_hat[1],y[1]) + self._lambda * self.loss_combo(y_hat[2],torch.cat(y,0))\n"
      ],
      "execution_count": null,
      "outputs": []
    },
    {
      "cell_type": "code",
      "metadata": {
        "execution": {
          "iopub.status.busy": "2021-08-27T09:50:17.302603Z",
          "iopub.execute_input": "2021-08-27T09:50:17.302978Z",
          "iopub.status.idle": "2021-08-27T09:50:17.312945Z",
          "shell.execute_reply.started": "2021-08-27T09:50:17.302941Z",
          "shell.execute_reply": "2021-08-27T09:50:17.312057Z"
        },
        "trusted": true,
        "id": "y-_xuS7lPVqy"
      },
      "source": [
        "DO='TRAIN'\n",
        "\n",
        "random.seed(47)\n",
        "\n",
        "combo_fn = SUM\n",
        "\n",
        "lambda_reg = 1"
      ],
      "execution_count": null,
      "outputs": []
    },
    {
      "cell_type": "code",
      "metadata": {
        "execution": {
          "iopub.status.busy": "2021-08-27T09:50:17.315881Z",
          "iopub.execute_input": "2021-08-27T09:50:17.316141Z",
          "iopub.status.idle": "2021-08-27T09:50:17.324962Z",
          "shell.execute_reply.started": "2021-08-27T09:50:17.316117Z",
          "shell.execute_reply": "2021-08-27T09:50:17.324166Z"
        },
        "trusted": true,
        "id": "SDr-LyOXPVqz"
      },
      "source": [
        "def test(net,classifier, loader):\n",
        "\n",
        "      net.to(dev)\n",
        "      classifier.to(dev)\n",
        "\n",
        "      net.eval()\n",
        "\n",
        "      sum_accuracy = 0\n",
        "\n",
        "      # Process each batch\n",
        "      for j, (input, labels) in enumerate(loader):\n",
        "\n",
        "        input = input.to(dev)\n",
        "        labels = labels.float().to(dev)\n",
        "\n",
        "        features = net(input)\n",
        "\n",
        "        pred = torch.squeeze(classifier(features))\n",
        "\n",
        "        # https://discuss.pytorch.org/t/bcewithlogitsloss-and-model-accuracy-calculation/59293/ 2\n",
        "        #pred_labels = (pred >= 0.0).long()  # Binarize predictions to 0 and 1\n",
        "        _,pred_label = torch.max(pred, dim = 1)\n",
        "        pred_labels = (pred_label == labels).float()\n",
        "\n",
        "        batch_accuracy = pred_labels.sum().item() / len(labels)\n",
        "\n",
        "        # Update accuracy\n",
        "        sum_accuracy += batch_accuracy\n",
        "\n",
        "      epoch_accuracy = sum_accuracy / len(loader)\n",
        "      return epoch_accuracy\n",
        "      #print(f\"Accuracy test: {epoch_accuracy:0.5}\")"
      ],
      "execution_count": null,
      "outputs": []
    },
    {
      "cell_type": "code",
      "metadata": {
        "execution": {
          "iopub.status.busy": "2021-08-27T09:50:17.328997Z",
          "iopub.execute_input": "2021-08-27T09:50:17.329277Z",
          "iopub.status.idle": "2021-08-27T09:50:17.360923Z",
          "shell.execute_reply.started": "2021-08-27T09:50:17.329253Z",
          "shell.execute_reply": "2021-08-27T09:50:17.360080Z"
        },
        "trusted": true,
        "id": "0_xWfRFKPVq0"
      },
      "source": [
        "def train(nets, loaders, optimizer, criterion, epochs=20, dev=None, save_param=False, model_name=\"federated_svhn\"):\n",
        "    # try:\n",
        "      nets = [n.to(dev) for n in nets]\n",
        "\n",
        "      model_a = module_unwrap(nets[0], True)\n",
        "      model_b = module_unwrap(nets[1], True)\n",
        "      model_c = module_unwrap(nets[2], True)\n",
        "\n",
        "      reg_loss = nn.MSELoss()\n",
        "\n",
        "      criterion.to(dev)\n",
        "      reg_loss.to(dev)\n",
        "\n",
        "      # Initialize history\n",
        "      history_loss = {\"train\": [], \"val\": [], \"test\": []}\n",
        "      history_accuracy = {\"train\": [], \"val\": [], \"test\": []}\n",
        "      history_test = []\n",
        "      # Store the best val accuracy\n",
        "      best_val_accuracy = 0\n",
        "      # Store best accuracy to save the model\n",
        "      best_accuracy = 0\n",
        "\n",
        "      # Process each epoch\n",
        "      for epoch in range(epochs):\n",
        "        # Initialize epoch variables\n",
        "        sum_loss = {\"train\": 0, \"val\": 0, \"test\": 0}\n",
        "        sum_accuracy = {\"train\": [0,0,0], \"val\": [0,0,0], \"test\": [0,0,0]}\n",
        "\n",
        "        progbar = None\n",
        "        # Process each split\n",
        "        for split in [\"train\", \"val\", \"test\"]:\n",
        "          if split == \"train\":\n",
        "            for n in nets:\n",
        "              n.train()\n",
        "            widgets = [\n",
        "              ' [', pb.Timer(), '] ',\n",
        "              pb.Bar(),\n",
        "              ' [', pb.ETA(), '] ', pb.Variable('ta','[Train Acc: {formatted_value}]')\n",
        "            ]\n",
        "\n",
        "            progbar = pb.ProgressBar(max_value=len(loaders[split][0]),widgets=widgets,redirect_stdout=True)\n",
        "\n",
        "          else:\n",
        "            for n in nets:\n",
        "              n.eval()\n",
        "          # Process each batch\n",
        "          for j,((input_a, labels_a),(input_b, labels_b)) in enumerate(zip(loaders[split][0],loaders[split][1])):\n",
        "\n",
        "            input_a = input_a.to(dev)\n",
        "            input_b = input_b.to(dev)\n",
        "\n",
        "            labels_a = labels_a.long().to(dev)\n",
        "            labels_b = labels_b.long().to(dev)\n",
        "\n",
        "            inputs = torch.cat([input_a,input_b],axis=0)\n",
        "            labels = torch.cat([labels_a, labels_b])\n",
        "\n",
        "\n",
        "            # Reset gradients\n",
        "            optimizer.zero_grad()\n",
        "            # Compute output\n",
        "            features_a = nets[0](input_a)\n",
        "            features_b = nets[1](input_b)\n",
        "            features_c = nets[2](inputs)\n",
        "\n",
        "            pred_a = torch.squeeze(nets[3](features_a))\n",
        "            pred_b = torch.squeeze(nets[3](features_b))\n",
        "            pred_c = torch.squeeze(nets[3](features_c))\n",
        "\n",
        "            loss = criterion(pred_a, labels_a) + criterion(pred_b, labels_b) + criterion(pred_c, labels)\n",
        "\n",
        "            for n in model_a:\n",
        "              layer_a = model_a[n]\n",
        "              layer_b = model_b[n]\n",
        "              layer_c = model_c[n]\n",
        "              if (isinstance(layer_a,nn.Conv2d)):\n",
        "                loss += lambda_reg * reg_loss(combo_fn(layer_a.weight,layer_b.weight),layer_c.weight)\n",
        "                if (layer_a.bias is not None):\n",
        "                  loss += lambda_reg * reg_loss(combo_fn(layer_a.bias, layer_b.bias), layer_c.bias)\n",
        "\n",
        "            # Update loss\n",
        "            sum_loss[split] += loss.item()\n",
        "            # Check parameter update\n",
        "            if split == \"train\":\n",
        "              # Compute gradients\n",
        "              loss.backward()\n",
        "              # Optimize\n",
        "              optimizer.step()\n",
        "\n",
        "            # Compute accuracy\n",
        "\n",
        "            #https://discuss.pytorch.org/t/bcewithlogitsloss-and-model-accuracy-calculation/59293/ 2\n",
        "            #pred_labels_a = (pred_a >= 0.0).long()  # Binarize predictions to 0 and 1\n",
        "            #pred_labels_b = (pred_b >= 0.0).long()  # Binarize predictions to 0 and 1\n",
        "            #pred_labels_c = (pred_c >= 0.0).long()  # Binarize predictions to 0 and 1\n",
        "\n",
        "            #print(pred_a.shape)\n",
        "\n",
        "            _,pred_label_a = torch.max(pred_a, dim = 1)\n",
        "            pred_labels_a = (pred_label_a == labels_a).float()\n",
        "\n",
        "            _,pred_label_b = torch.max(pred_b, dim = 1)\n",
        "            pred_labels_b = (pred_label_b == labels_b).float()\n",
        "\n",
        "            _,pred_label_c = torch.max(pred_c, dim = 1)\n",
        "            pred_labels_c = (pred_label_c == labels).float()\n",
        "\n",
        "            batch_accuracy_a = pred_labels_a.sum().item() / len(labels_a)\n",
        "            batch_accuracy_b = pred_labels_b.sum().item() / len(labels_b)\n",
        "            batch_accuracy_c = pred_labels_c.sum().item() / len(labels)\n",
        "\n",
        "            # Update accuracy\n",
        "            sum_accuracy[split][0] += batch_accuracy_a\n",
        "            sum_accuracy[split][1] += batch_accuracy_b\n",
        "            sum_accuracy[split][2] += batch_accuracy_c\n",
        "\n",
        "\n",
        "            if (split=='train'):\n",
        "              progbar.update(j, ta=batch_accuracy_c)\n",
        "\n",
        "        if (progbar is not None):\n",
        "          progbar.finish()\n",
        "        # Compute epoch loss/accuracy\n",
        "        epoch_loss = {split: sum_loss[split] / len(loaders[split][0]) for split in [\"train\", \"val\", \"test\"]}\n",
        "        epoch_accuracy = {split: [sum_accuracy[split][i] / len(loaders[split][0]) for i in range(len(sum_accuracy[split])) ] for split in [\"train\", \"val\", \"test\"]}\n",
        "\n",
        "\n",
        "        print(f\"Epoch {epoch + 1}:\")\n",
        "        # Update history\n",
        "        for split in [\"train\", \"val\", \"test\"]:\n",
        "          history_loss[split].append(epoch_loss[split])\n",
        "          history_accuracy[split].append(epoch_accuracy[split])\n",
        "          # Print info\n",
        "          print(f\"\\t{split}\\tLoss: {epoch_loss[split]:0.5}\\tVGG 1:{epoch_accuracy[split][0]:0.5}\"\n",
        "                f\"\\tVGG 2:{epoch_accuracy[split][1]:0.5}\\tVGG *:{epoch_accuracy[split][2]:0.5}\")\n",
        "\n",
        "        if save_param:\n",
        "          torch.save({'vgg_a':nets[0].state_dict(),'vgg_b':nets[1].state_dict(),'vgg_star':nets[2].state_dict(),'classifier':nets[3].state_dict()},f'{model_name}.pth')\n",
        "\n",
        "        \n",
        "        print(f\"Accuracy test VGGA: {test(nets[0], nets[3], test_loader_all):0.5}\")\n",
        "        print(f\"Accuracy test VGGB: {test(nets[1], nets[3], test_loader_all):0.5}\")\n",
        "        print(f\"Accuracy test VGG*: {test(nets[2], nets[3], test_loader_all):0.5}\")\n",
        " \n",
        "        summed_state_dict = OrderedDict()\n",
        " \n",
        "        for key in nets[2].state_dict():\n",
        "          if key.find('conv') >=0:\n",
        "            #print(key)\n",
        "            summed_state_dict[key] = combo_fn(nets[0].state_dict()[key],nets[1].state_dict()[key])\n",
        "          else:\n",
        "            summed_state_dict[key] = nets[2].state_dict()[key]\n",
        " \n",
        "        nets[2].load_state_dict(summed_state_dict)\n",
        "        accuracy_star = test(nets[2], nets[3], test_loader_all)\n",
        "        print(f\"Accuracy test VGGSTAR: {accuracy_star:0.5}\")\n",
        "        history_test.append(accuracy_star)\n",
        "\n",
        "\n",
        "        # Store params at the best validation accuracy\n",
        "        if save_param and accuracy_star > best_accuracy:\n",
        "        # torch.save(net.state_dict(), f\"{net.__class__.__name__}_best_val.pth\")\n",
        "          torch.save({'vgg_a':nets[0].state_dict()}, f\"{model_name}_best_test.pth\")\n",
        "          best_accuracy = accuracy_star\n",
        "        print(f\"Best accuracy test is: {best_accuracy:0.5}\")\n",
        "\n",
        "\n",
        "      # Plot accuracy\n",
        "      plt.title(\"Accuracy VGGSTAR over epochs\")\n",
        "      plt.plot(history_test)\n",
        "      #plt.legend()\n",
        "      plt.show()"
      ],
      "execution_count": null,
      "outputs": []
    },
    {
      "cell_type": "code",
      "metadata": {
        "execution": {
          "iopub.status.busy": "2021-08-27T09:50:17.364217Z",
          "iopub.execute_input": "2021-08-27T09:50:17.364482Z",
          "iopub.status.idle": "2021-08-27T09:50:28.503037Z",
          "shell.execute_reply.started": "2021-08-27T09:50:17.364459Z",
          "shell.execute_reply": "2021-08-27T09:50:28.501650Z"
        },
        "trusted": true,
        "id": "c7IcjaGsPVq2",
        "colab": {
          "base_uri": "https://localhost:8080/",
          "height": 359,
          "referenced_widgets": [
            "fbd51060b17f43fd9d2552003741a551",
            "e327513023904a41bafa210f411d33e3",
            "72da7ec6dca64c60b98346b4e603ab8c",
            "017a691731df43bc97c34cd114655496",
            "2ecff63d01fb4d1d95d57807368c5240",
            "61f9522605444bef9efa1b763675a3b6",
            "ec759c49f5c54ee1b85ea5104241685f",
            "317852c53fea4073be57192a07ea1ad3",
            "b96fdfc14bf5446f8a9f55ef0ffb6d9f",
            "166889a84beb4cf99a595fe31d841ca3",
            "9a27f6a8fa194382a36298e9d0be2afa",
            "16cc631b2006448080022d363aa69203",
            "06b469f9d46b436d89476c99a13b5e60",
            "497e296da1d644c988cae352f0b91974",
            "173416fc231a40fd89729c9fc6ffc14e",
            "7bda628610e947df9a037f1cfabcc82b",
            "50a3569dc86245a489106c4a0b463eec",
            "269908f276404794bbc468559ebdca64",
            "e01dd50f78fe4ddcb91e5a0d57ca0320",
            "66d837ec6f004e4c8bddf3b47338db8c",
            "7a6d23f2b920417e9adf4ae4a266f9ec",
            "444be182c0cb4c22bdd7735caab766c7"
          ]
        },
        "outputId": "556c4272-58e6-4437-9e05-441c7b42df06"
      },
      "source": [
        "# Compose transformations\n",
        "data_transform = transforms.Compose([\n",
        "  transforms.Resize((32,32)),\n",
        "  transforms.Grayscale(num_output_channels=1),\n",
        "  transforms.RandomHorizontalFlip(),\n",
        "  transforms.ToTensor(),\n",
        "])\n",
        "\n",
        "# Compose transformations\n",
        "test_transform = transforms.Compose([\n",
        "  transforms.Resize((32,32)),\n",
        "  transforms.Grayscale(num_output_channels=1),\n",
        "  transforms.ToTensor(),\n",
        "])\n",
        "\n",
        "base_dir = 'http://ufldl.stanford.edu/housenumbers/'\n",
        "train_set_svhn = torchvision.datasets.SVHN(root=base_dir, split='train', download=True, transform=data_transform, target_transform=None)\n",
        "test_set_svhn = torchvision.datasets.SVHN(root=base_dir, split='test', download=True, transform=test_transform)\n",
        "\n",
        "num_train_svhn = len(train_set_svhn)\n",
        "num_test_svhn = len(test_set_svhn)\n",
        "print(f\"Num. training samples: {num_train_svhn}\")\n",
        "print(f\"Num. test samples:     {num_test_svhn}\")\n",
        "\n",
        "# List of indexes on the training set\n",
        "train_idx_svhn = list(range(num_train_svhn))\n",
        "\n",
        "# List of indexes of the test set\n",
        "test_idx_svhn = list(range(num_test_svhn))\n",
        "\n",
        "# Shuffle the training set\n",
        "import random\n",
        "\n",
        "random.shuffle(train_idx_svhn)\n",
        "for i in range(10):\n",
        "  print(train_idx_svhn[i])\n",
        "\n",
        "# Fraction of the original train set that we want to use as validation set\n",
        "val_frac = 0.1\n",
        "# Number of samples of the validation set\n",
        "num_val = int(num_train_svhn * val_frac) \n",
        "num_train = num_train_svhn - num_val\n",
        "\n",
        "# Split training set\n",
        "val_idx_svhn = train_idx_svhn[num_train:]\n",
        "train_idx_svhn = train_idx_svhn[:num_train]\n",
        "\n",
        "print(f\"{num_train} samples used as train set\")\n",
        "print(f\"{num_val}  samples used as val set\")\n",
        "\n",
        "val_set_a = Subset(train_set_svhn, val_idx_svhn)\n",
        "train_set_a = Subset(train_set_svhn, train_idx_svhn)\n",
        "test_set_a = test_set_svhn"
      ],
      "execution_count": null,
      "outputs": [
        {
          "output_type": "stream",
          "name": "stdout",
          "text": [
            "Downloading http://ufldl.stanford.edu/housenumbers/train_32x32.mat to http://ufldl.stanford.edu/housenumbers/train_32x32.mat\n"
          ]
        },
        {
          "output_type": "display_data",
          "data": {
            "application/vnd.jupyter.widget-view+json": {
              "model_id": "fbd51060b17f43fd9d2552003741a551",
              "version_minor": 0,
              "version_major": 2
            },
            "text/plain": [
              "  0%|          | 0/182040794 [00:00<?, ?it/s]"
            ]
          },
          "metadata": {}
        },
        {
          "output_type": "stream",
          "name": "stdout",
          "text": [
            "Downloading http://ufldl.stanford.edu/housenumbers/test_32x32.mat to http://ufldl.stanford.edu/housenumbers/test_32x32.mat\n"
          ]
        },
        {
          "output_type": "display_data",
          "data": {
            "application/vnd.jupyter.widget-view+json": {
              "model_id": "16cc631b2006448080022d363aa69203",
              "version_minor": 0,
              "version_major": 2
            },
            "text/plain": [
              "  0%|          | 0/64275384 [00:00<?, ?it/s]"
            ]
          },
          "metadata": {}
        },
        {
          "output_type": "stream",
          "name": "stdout",
          "text": [
            "Num. training samples: 73257\n",
            "Num. test samples:     26032\n",
            "32553\n",
            "61316\n",
            "44598\n",
            "62771\n",
            "49643\n",
            "55735\n",
            "33610\n",
            "29224\n",
            "47794\n",
            "11023\n",
            "65932 samples used as train set\n",
            "7325  samples used as val set\n"
          ]
        }
      ]
    },
    {
      "cell_type": "code",
      "metadata": {
        "execution": {
          "iopub.status.busy": "2021-08-27T09:50:28.504391Z",
          "iopub.execute_input": "2021-08-27T09:50:28.504747Z",
          "iopub.status.idle": "2021-08-27T09:50:31.621481Z",
          "shell.execute_reply.started": "2021-08-27T09:50:28.504696Z",
          "shell.execute_reply": "2021-08-27T09:50:31.620624Z"
        },
        "trusted": true,
        "id": "5zkXGDUZPVq2",
        "colab": {
          "base_uri": "https://localhost:8080/"
        },
        "outputId": "0be9d771-f1d6-49b3-f5a5-18930ebe81c9"
      },
      "source": [
        "class AddGaussianNoise(object):\n",
        "    def __init__(self, mean=0., std=1.):\n",
        "        self.std = std\n",
        "        self.mean = mean\n",
        "        \n",
        "    def __call__(self, tensor):\n",
        "        return tensor + torch.randn(tensor.size()) * self.std + self.mean\n",
        "    \n",
        "    def __repr__(self):\n",
        "        return self.__class__.__name__ + '(mean={0}, std={1})'.format(self.mean, self.std)\n",
        "\n",
        "# Compose transformations\n",
        "data_transform = transforms.Compose([\n",
        "  transforms.Resize((32,32)),\n",
        "  transforms.Grayscale(num_output_channels=1),\n",
        "  transforms.RandomHorizontalFlip(),\n",
        "  transforms.ToTensor(),\n",
        "  AddGaussianNoise(0., 0.2),\n",
        "])\n",
        "\n",
        "# Compose transformations\n",
        "test_transform = transforms.Compose([\n",
        "  transforms.Resize((32,32)),\n",
        "  transforms.Grayscale(num_output_channels=1),\n",
        "  transforms.ToTensor(),\n",
        "  AddGaussianNoise(0., 0.2),\n",
        "])\n",
        "\n",
        "base_dir = 'http://ufldl.stanford.edu/housenumbers/'\n",
        "train_set_svhn = torchvision.datasets.SVHN(root=base_dir, split='train', download=True, transform=data_transform, target_transform=None)\n",
        "test_set_svhn = torchvision.datasets.SVHN(root=base_dir, split='test', download=True, transform=test_transform)\n",
        "\n",
        "num_train_svhn = len(train_set_svhn)\n",
        "num_test_svhn = len(test_set_svhn)\n",
        "print(f\"Num. training samples: {num_train_svhn}\")\n",
        "print(f\"Num. test samples:     {num_test_svhn}\")\n",
        "\n",
        "# List of indexes on the training set\n",
        "train_idx_svhn = list(range(num_train_svhn))\n",
        "\n",
        "# List of indexes of the test set\n",
        "test_idx_svhn = list(range(num_test_svhn))\n",
        "\n",
        "# Shuffle the training set\n",
        "import random\n",
        "\n",
        "random.shuffle(train_idx_svhn)\n",
        "for i in range(10):\n",
        "  print(train_idx_svhn[i])\n",
        "\n",
        "# Fraction of the original train set that we want to use as validation set\n",
        "val_frac = 0.1\n",
        "# Number of samples of the validation set\n",
        "num_val = int(num_train_svhn * val_frac) \n",
        "num_train = num_train_svhn - num_val\n",
        "\n",
        "# Split training set\n",
        "val_idx_svhn = train_idx_svhn[num_train:]\n",
        "train_idx_svhn = train_idx_svhn[:num_train]\n",
        "\n",
        "print(f\"{num_train} samples used as train set\")\n",
        "print(f\"{num_val}  samples used as val set\")\n",
        "\n",
        "val_set_b = Subset(train_set_svhn, val_idx_svhn)\n",
        "train_set_b = Subset(train_set_svhn, train_idx_svhn)\n",
        "test_set_b = test_set_svhn"
      ],
      "execution_count": null,
      "outputs": [
        {
          "output_type": "stream",
          "name": "stdout",
          "text": [
            "Using downloaded and verified file: http://ufldl.stanford.edu/housenumbers/train_32x32.mat\n",
            "Using downloaded and verified file: http://ufldl.stanford.edu/housenumbers/test_32x32.mat\n",
            "Num. training samples: 73257\n",
            "Num. test samples:     26032\n",
            "71735\n",
            "2294\n",
            "37394\n",
            "41658\n",
            "67878\n",
            "47765\n",
            "13987\n",
            "61249\n",
            "32585\n",
            "63761\n",
            "65932 samples used as train set\n",
            "7325  samples used as val set\n"
          ]
        }
      ]
    },
    {
      "cell_type": "code",
      "metadata": {
        "execution": {
          "iopub.status.busy": "2021-08-27T09:50:31.622759Z",
          "iopub.execute_input": "2021-08-27T09:50:31.623121Z",
          "iopub.status.idle": "2021-08-27T09:50:31.828177Z",
          "shell.execute_reply.started": "2021-08-27T09:50:31.623083Z",
          "shell.execute_reply": "2021-08-27T09:50:31.827127Z"
        },
        "trusted": true,
        "id": "el2zQ-A5PVq3",
        "colab": {
          "base_uri": "https://localhost:8080/",
          "height": 283
        },
        "outputId": "468519c6-18bb-4535-86ed-612d5126d3d0"
      },
      "source": [
        "image, label = train_set_a[7]\n",
        "plt.imshow(image.squeeze(), cmap='gray')\n",
        "print('Label:', label)"
      ],
      "execution_count": null,
      "outputs": [
        {
          "output_type": "stream",
          "name": "stdout",
          "text": [
            "Label: 8\n"
          ]
        },
        {
          "output_type": "display_data",
          "data": {
            "image/png": "[encoded data removed]",
            "text/plain": [
              "<Figure size 432x288 with 1 Axes>"
            ]
          },
          "metadata": {
            "needs_background": "light"
          }
        }
      ]
    },
    {
      "cell_type": "code",
      "metadata": {
        "execution": {
          "iopub.status.busy": "2021-08-27T09:50:31.829586Z",
          "iopub.execute_input": "2021-08-27T09:50:31.830013Z",
          "iopub.status.idle": "2021-08-27T09:50:32.174365Z",
          "shell.execute_reply.started": "2021-08-27T09:50:31.829963Z",
          "shell.execute_reply": "2021-08-27T09:50:32.173580Z"
        },
        "trusted": true,
        "id": "owzJkTxIPVq4",
        "colab": {
          "base_uri": "https://localhost:8080/",
          "height": 283
        },
        "outputId": "36ba4b35-c5e0-4673-bf42-fcf4f2e789e1"
      },
      "source": [
        "image, label = train_set_b[5]\n",
        "plt.imshow(image.squeeze(), cmap='gray')\n",
        "print('Label:', label)"
      ],
      "execution_count": null,
      "outputs": [
        {
          "output_type": "stream",
          "name": "stdout",
          "text": [
            "Label: 3\n"
          ]
        },
        {
          "output_type": "display_data",
          "data": {
            "image/png": "[encoded data removed]",
            "text/plain": [
              "<Figure size 432x288 with 1 Axes>"
            ]
          },
          "metadata": {
            "needs_background": "light"
          }
        }
      ]
    },
    {
      "cell_type": "code",
      "metadata": {
        "execution": {
          "iopub.status.busy": "2021-08-27T09:50:32.177008Z",
          "iopub.execute_input": "2021-08-27T09:50:32.177254Z",
          "iopub.status.idle": "2021-08-27T09:50:32.186577Z",
          "shell.execute_reply.started": "2021-08-27T09:50:32.177230Z",
          "shell.execute_reply": "2021-08-27T09:50:32.185771Z"
        },
        "trusted": true,
        "id": "QB6dJQxVPVq4"
      },
      "source": [
        "test_set = torch.utils.data.ConcatDataset([test_set_a, test_set_b])\n",
        "\n",
        "# Define loaders\n",
        "\n",
        "train_loader_a = DataLoader(train_set_a, batch_size=128, num_workers=0, shuffle=True, drop_last=True)\n",
        "val_loader_a   = DataLoader(val_set_a,   batch_size=128, num_workers=0, shuffle=False, drop_last=False)\n",
        "test_loader_a  = DataLoader(test_set_a,  batch_size=128, num_workers=0, shuffle=False, drop_last=False)\n",
        "\n",
        "train_loader_b = DataLoader(train_set_b, batch_size=128, num_workers=0, shuffle=True, drop_last=True)\n",
        "val_loader_b   = DataLoader(val_set_b,   batch_size=128, num_workers=0, shuffle=False, drop_last=False)\n",
        "test_loader_b  = DataLoader(test_set_b,  batch_size=128, num_workers=0, shuffle=False, drop_last=False)\n",
        "\n",
        "test_loader_all = DataLoader(test_set,batch_size=128, num_workers=0,shuffle=False,drop_last=False)\n",
        "\n",
        "\n",
        "# Define dictionary of loaders\n",
        "loaders = {\"train\": [train_loader_a,train_loader_b],\n",
        "           \"val\":   [val_loader_a,val_loader_b],\n",
        "           \"test\":  [test_loader_a,test_loader_b]}"
      ],
      "execution_count": null,
      "outputs": []
    },
    {
      "cell_type": "code",
      "metadata": {
        "execution": {
          "iopub.status.busy": "2021-08-27T09:50:32.187958Z",
          "iopub.execute_input": "2021-08-27T09:50:32.188323Z",
          "iopub.status.idle": "2021-08-27T09:50:32.195967Z",
          "shell.execute_reply.started": "2021-08-27T09:50:32.188285Z",
          "shell.execute_reply": "2021-08-27T09:50:32.195079Z"
        },
        "trusted": true,
        "id": "nKPAjvsnPVq5"
      },
      "source": [
        "from torchvision.utils import make_grid\n",
        "\n",
        "def show_batch(dl):\n",
        "    for images, labels in dl:\n",
        "        fig, ax = plt.subplots(figsize=(12, 6))\n",
        "        ax.set_xticks([]); ax.set_yticks([])\n",
        "        ax.imshow(make_grid(images, nrow=16).permute(1, 2, 0))\n",
        "        break"
      ],
      "execution_count": null,
      "outputs": []
    },
    {
      "cell_type": "code",
      "metadata": {
        "execution": {
          "iopub.status.busy": "2021-08-27T09:50:32.197957Z",
          "iopub.execute_input": "2021-08-27T09:50:32.198527Z",
          "iopub.status.idle": "2021-08-27T09:50:32.461194Z",
          "shell.execute_reply.started": "2021-08-27T09:50:32.198483Z",
          "shell.execute_reply": "2021-08-27T09:50:32.460408Z"
        },
        "trusted": true,
        "id": "vbtxOR6LPVq7",
        "colab": {
          "base_uri": "https://localhost:8080/",
          "height": 378
        },
        "outputId": "58a62251-74d8-49f4-91b7-5f1e8a1bf88e"
      },
      "source": [
        "show_batch(train_loader_b)"
      ],
      "execution_count": null,
      "outputs": [
        {
          "output_type": "stream",
          "name": "stderr",
          "text": [
            "Clipping input data to the valid range for imshow with RGB data ([0..1] for floats or [0..255] for integers).\n"
          ]
        },
        {
          "output_type": "display_data",
          "data": {
            "image/png": "[encoded data removed]",
            "text/plain": [
              "<Figure size 864x432 with 1 Axes>"
            ]
          },
          "metadata": {}
        }
      ]
    },
    {
      "cell_type": "code",
      "metadata": {
        "execution": {
          "iopub.status.busy": "2021-08-27T09:54:42.103633Z",
          "iopub.execute_input": "2021-08-27T09:54:42.104019Z",
          "iopub.status.idle": "2021-08-27T09:54:42.255731Z",
          "shell.execute_reply.started": "2021-08-27T09:54:42.103984Z",
          "shell.execute_reply": "2021-08-27T09:54:42.254870Z"
        },
        "trusted": true,
        "id": "EhXZ6jhpPVq7"
      },
      "source": [
        "model1 = VGG16((1,32,32),batch_norm=True)\n",
        "model2 = VGG16((1,32,32),batch_norm=True)\n",
        "model3 = VGG16((1,32,32),batch_norm=True)\n",
        "classifier = Classifier(num_classes=10)"
      ],
      "execution_count": null,
      "outputs": []
    },
    {
      "cell_type": "code",
      "metadata": {
        "execution": {
          "iopub.status.busy": "2021-08-27T09:54:42.539384Z",
          "iopub.execute_input": "2021-08-27T09:54:42.539719Z",
          "iopub.status.idle": "2021-08-27T09:54:42.550739Z",
          "shell.execute_reply.started": "2021-08-27T09:54:42.539677Z",
          "shell.execute_reply": "2021-08-27T09:54:42.549627Z"
        },
        "trusted": true,
        "id": "ERE5tCl7PVq8",
        "colab": {
          "base_uri": "https://localhost:8080/"
        },
        "outputId": "2e97dfa3-0b56-4d54-ed53-e42fb712b130"
      },
      "source": [
        "classifier.load_state_dict(state_dict['classifier'])"
      ],
      "execution_count": null,
      "outputs": [
        {
          "output_type": "execute_result",
          "data": {
            "text/plain": [
              "<All keys matched successfully>"
            ]
          },
          "metadata": {},
          "execution_count": 17
        }
      ]
    },
    {
      "cell_type": "code",
      "metadata": {
        "execution": {
          "iopub.status.busy": "2021-08-27T09:54:43.601454Z",
          "iopub.execute_input": "2021-08-27T09:54:43.601833Z",
          "iopub.status.idle": "2021-08-27T09:54:43.612651Z",
          "shell.execute_reply.started": "2021-08-27T09:54:43.601796Z",
          "shell.execute_reply": "2021-08-27T09:54:43.611580Z"
        },
        "trusted": true,
        "id": "LBPlN2aoPVq8"
      },
      "source": [
        "# We set require_grad = False for all the layer of the net\n",
        "for param in classifier.parameters():\n",
        "  param.requires_grad = False"
      ],
      "execution_count": null,
      "outputs": []
    },
    {
      "cell_type": "code",
      "metadata": {
        "execution": {
          "iopub.status.busy": "2021-08-27T09:54:47.381655Z",
          "iopub.execute_input": "2021-08-27T09:54:47.382033Z",
          "iopub.status.idle": "2021-08-27T09:54:47.388933Z",
          "shell.execute_reply.started": "2021-08-27T09:54:47.382002Z",
          "shell.execute_reply": "2021-08-27T09:54:47.388088Z"
        },
        "trusted": true,
        "id": "bkUTVN8nPVq-"
      },
      "source": [
        "nets = [model1,model2,model3,classifier]\n",
        "\n",
        "dev = torch.device('cuda')\n",
        "\n",
        "parameters = set()\n",
        "\n",
        "for n in nets:\n",
        "  parameters |= set(n.parameters())\n",
        "\n",
        "optimizer = torch.optim.SGD(parameters, lr = 0.01)\n",
        "# Define a loss\n",
        "#criterion = nn.BCEWithLogitsLoss()#,nn.BCEWithLogitsLoss(),nn.BCEWithLogitsLoss(),_lambda = 1)\n",
        "criterion = nn.CrossEntropyLoss()\n",
        "n_params = 0"
      ],
      "execution_count": null,
      "outputs": []
    },
    {
      "cell_type": "code",
      "metadata": {
        "execution": {
          "iopub.status.busy": "2021-08-27T09:54:48.022589Z",
          "iopub.execute_input": "2021-08-27T09:54:48.022919Z",
          "iopub.status.idle": "2021-08-27T12:26:15.153366Z",
          "shell.execute_reply.started": "2021-08-27T09:54:48.022888Z",
          "shell.execute_reply": "2021-08-27T12:26:15.151787Z"
        },
        "trusted": true,
        "id": "MbXKK8efPVq_",
        "colab": {
          "base_uri": "https://localhost:8080/",
          "height": 1000
        },
        "outputId": "1b3182cc-912a-4bd5-c385-1be79d85a02a"
      },
      "source": [
        "DO = 'TRAIN'\n",
        "if (DO=='TRAIN'):\n",
        "  train(nets, loaders, optimizer, criterion, epochs=100, dev=dev,save_param=True)\n",
        "else:\n",
        "  state_dicts = torch.load('model.pth')\n",
        "  model1.load_state_dict(state_dicts['vgg_a']) #questi state_dict vengono dalla funzione di training\n",
        "  model2.load_state_dict(state_dicts['vgg_b'])\n",
        "  model3.load_state_dict(state_dicts['vgg_star'])\n",
        "  classifier.load_state_dict(state_dicts['classifier'])\n",
        "\n",
        "  test(model1,classifier,test_loader_all)\n",
        "  test(model2, classifier, test_loader_all)\n",
        "  test(model3, classifier, test_loader_all)\n",
        "\n",
        "  summed_state_dict = OrderedDict()\n",
        "\n",
        "  for key in state_dicts['vgg_star']:\n",
        "    if key.find('conv') >=0:\n",
        "      print(key)\n",
        "      summed_state_dict[key] = combo_fn(state_dicts['vgg_a'][key],state_dicts['vgg_b'][key])\n",
        "    else:\n",
        "      summed_state_dict[key] = state_dicts['vgg_star'][key]\n",
        "\n",
        "  model3.load_state_dict(summed_state_dict)\n",
        "  test(model3, classifier, test_loader_all)"
      ],
      "execution_count": null,
      "outputs": [
        {
          "metadata": {
            "tags": null
          },
          "name": "stderr",
          "output_type": "stream",
          "text": [
            "/usr/local/lib/python3.7/dist-packages/torch/nn/functional.py:718: UserWarning: Named tensors and all their associated APIs are an experimental feature and subject to change. Please do not use them for anything important until they are released as stable. (Triggered internally at  /pytorch/c10/core/TensorImpl.h:1156.)\n",
            "  return torch.max_pool2d(input, kernel_size, stride, padding, dilation, ceil_mode)\n",
            " [Elapsed Time: 0:01:42] |###############| [Time:  0:01:42] [Train Acc:  0.648]\n"
          ]
        },
        {
          "metadata": {
            "tags": null
          },
          "name": "stdout",
          "output_type": "stream",
          "text": [
            "Epoch 1:\n",
            "\ttrain\tLoss: 5.4844\tVGG 1:0.47363\tVGG 2:0.19994\tVGG *:0.46316\n",
            "\tval\tLoss: 3.6544\tVGG 1:0.79157\tVGG 2:0.30829\tVGG *:0.69844\n",
            "\ttest\tLoss: 3.6552\tVGG 1:0.77999\tVGG 2:0.32146\tVGG *:0.70214\n",
            "Accuracy test VGGA: 0.62634\n",
            "Accuracy test VGGB: 0.34765\n",
            "Accuracy test VGG*: 0.70066\n",
            "Accuracy test VGGSTAR: 0.19667\n",
            "Best accuracy test is: 0.19667\n"
          ]
        },
        {
          "metadata": {
            "tags": null
          },
          "name": "stderr",
          "output_type": "stream",
          "text": [
            " [Elapsed Time: 0:01:42] |###############| [Time:  0:01:42] [Train Acc:  0.707]\n"
          ]
        },
        {
          "metadata": {
            "tags": null
          },
          "name": "stdout",
          "output_type": "stream",
          "text": [
            "Epoch 2:\n",
            "\ttrain\tLoss: 3.2408\tVGG 1:0.81746\tVGG 2:0.51807\tVGG *:0.59985\n",
            "\tval\tLoss: 2.5686\tVGG 1:0.86107\tVGG 2:0.57669\tVGG *:0.71374\n",
            "\ttest\tLoss: 2.5111\tVGG 1:0.85825\tVGG 2:0.60341\tVGG *:0.71791\n",
            "Accuracy test VGGA: 0.66934\n",
            "Accuracy test VGGB: 0.66855\n",
            "Accuracy test VGG*: 0.71828\n",
            "Accuracy test VGGSTAR: 0.20913\n",
            "Best accuracy test is: 0.20913\n"
          ]
        },
        {
          "metadata": {
            "tags": null
          },
          "name": "stderr",
          "output_type": "stream",
          "text": [
            " [Elapsed Time: 0:01:42] |###############| [Time:  0:01:42] [Train Acc:  0.719]\n"
          ]
        },
        {
          "metadata": {
            "tags": null
          },
          "name": "stdout",
          "output_type": "stream",
          "text": [
            "Epoch 3:\n",
            "\ttrain\tLoss: 2.652\tVGG 1:0.86558\tVGG 2:0.62637\tVGG *:0.65012\n",
            "\tval\tLoss: 2.2077\tVGG 1:0.88976\tVGG 2:0.66194\tVGG *:0.73671\n",
            "\ttest\tLoss: 2.2153\tVGG 1:0.88274\tVGG 2:0.67628\tVGG *:0.73772\n",
            "Accuracy test VGGA: 0.68982\n",
            "Accuracy test VGGB: 0.736\n",
            "Accuracy test VGG*: 0.7364\n",
            "Accuracy test VGGSTAR: 0.19651\n",
            "Best accuracy test is: 0.20913\n"
          ]
        },
        {
          "metadata": {
            "tags": null
          },
          "name": "stderr",
          "output_type": "stream",
          "text": [
            " [Elapsed Time: 0:01:42] |###############| [Time:  0:01:42] [Train Acc:  0.695]\n"
          ]
        },
        {
          "metadata": {
            "tags": null
          },
          "name": "stdout",
          "output_type": "stream",
          "text": [
            "Epoch 4:\n",
            "\ttrain\tLoss: 2.4099\tVGG 1:0.88864\tVGG 2:0.65539\tVGG *:0.68247\n",
            "\tval\tLoss: 2.1284\tVGG 1:0.88672\tVGG 2:0.67796\tVGG *:0.74678\n",
            "\ttest\tLoss: 2.1621\tVGG 1:0.88253\tVGG 2:0.68478\tVGG *:0.74308\n",
            "Accuracy test VGGA: 0.67976\n",
            "Accuracy test VGGB: 0.74923\n",
            "Accuracy test VGG*: 0.74494\n",
            "Accuracy test VGGSTAR: 0.21952\n",
            "Best accuracy test is: 0.21952\n"
          ]
        },
        {
          "metadata": {
            "tags": null
          },
          "name": "stderr",
          "output_type": "stream",
          "text": [
            " [Elapsed Time: 0:01:42] |###############| [Time:  0:01:42] [Train Acc:  0.773]\n"
          ]
        },
        {
          "metadata": {
            "tags": null
          },
          "name": "stdout",
          "output_type": "stream",
          "text": [
            "Epoch 5:\n",
            "\ttrain\tLoss: 2.2623\tVGG 1:0.9036\tVGG 2:0.67065\tVGG *:0.70051\n",
            "\tval\tLoss: 2.0307\tVGG 1:0.90215\tVGG 2:0.69061\tVGG *:0.75692\n",
            "\ttest\tLoss: 2.0901\tVGG 1:0.89809\tVGG 2:0.68259\tVGG *:0.74997\n",
            "Accuracy test VGGA: 0.69723\n",
            "Accuracy test VGGB: 0.74455\n",
            "Accuracy test VGG*: 0.74671\n",
            "Accuracy test VGGSTAR: 0.20834\n",
            "Best accuracy test is: 0.21952\n"
          ]
        },
        {
          "metadata": {
            "tags": null
          },
          "name": "stderr",
          "output_type": "stream",
          "text": [
            " [Elapsed Time: 0:01:42] |###############| [Time:  0:01:42] [Train Acc:   0.73]\n"
          ]
        },
        {
          "metadata": {
            "tags": null
          },
          "name": "stdout",
          "output_type": "stream",
          "text": [
            "Epoch 6:\n",
            "\ttrain\tLoss: 2.1591\tVGG 1:0.91464\tVGG 2:0.6856\tVGG *:0.71107\n",
            "\tval\tLoss: 2.0318\tVGG 1:0.90722\tVGG 2:0.68401\tVGG *:0.75887\n",
            "\ttest\tLoss: 2.0639\tVGG 1:0.90008\tVGG 2:0.6906\tVGG *:0.7534\n",
            "Accuracy test VGGA: 0.68194\n",
            "Accuracy test VGGB: 0.74843\n",
            "Accuracy test VGG*: 0.75335\n",
            "Accuracy test VGGSTAR: 0.19808\n",
            "Best accuracy test is: 0.21952\n"
          ]
        },
        {
          "metadata": {
            "tags": null
          },
          "name": "stderr",
          "output_type": "stream",
          "text": [
            " [Elapsed Time: 0:01:42] |###############| [Time:  0:01:42] [Train Acc:   0.77]\n"
          ]
        },
        {
          "metadata": {
            "tags": null
          },
          "name": "stdout",
          "output_type": "stream",
          "text": [
            "Epoch 7:\n",
            "\ttrain\tLoss: 2.077\tVGG 1:0.92319\tVGG 2:0.69367\tVGG *:0.72158\n",
            "\tval\tLoss: 1.9416\tVGG 1:0.91279\tVGG 2:0.69893\tVGG *:0.76933\n",
            "\ttest\tLoss: 1.9643\tVGG 1:0.9105\tVGG 2:0.69739\tVGG *:0.7623\n",
            "Accuracy test VGGA: 0.69792\n",
            "Accuracy test VGGB: 0.76356\n",
            "Accuracy test VGG*: 0.76481\n",
            "Accuracy test VGGSTAR: 0.21083\n",
            "Best accuracy test is: 0.21952\n"
          ]
        },
        {
          "metadata": {
            "tags": null
          },
          "name": "stderr",
          "output_type": "stream",
          "text": [
            " [Elapsed Time: 0:01:41] |###############| [Time:  0:01:41] [Train Acc:   0.75]\n"
          ]
        },
        {
          "metadata": {
            "tags": null
          },
          "name": "stdout",
          "output_type": "stream",
          "text": [
            "Epoch 8:\n",
            "\ttrain\tLoss: 2.0141\tVGG 1:0.92952\tVGG 2:0.70021\tVGG *:0.72803\n",
            "\tval\tLoss: 1.8947\tVGG 1:0.91697\tVGG 2:0.69901\tVGG *:0.76796\n",
            "\ttest\tLoss: 1.9027\tVGG 1:0.91881\tVGG 2:0.7109\tVGG *:0.76974\n",
            "Accuracy test VGGA: 0.698\n",
            "Accuracy test VGGB: 0.77776\n",
            "Accuracy test VGG*: 0.77072\n",
            "Accuracy test VGGSTAR: 0.22844\n",
            "Best accuracy test is: 0.22844\n"
          ]
        },
        {
          "metadata": {
            "tags": null
          },
          "name": "stderr",
          "output_type": "stream",
          "text": [
            " [Elapsed Time: 0:01:41] |###############| [Time:  0:01:41] [Train Acc:  0.754]\n"
          ]
        },
        {
          "metadata": {
            "tags": null
          },
          "name": "stdout",
          "output_type": "stream",
          "text": [
            "Epoch 9:\n",
            "\ttrain\tLoss: 1.9536\tVGG 1:0.93582\tVGG 2:0.70686\tVGG *:0.73529\n",
            "\tval\tLoss: 1.9058\tVGG 1:0.91374\tVGG 2:0.69796\tVGG *:0.7736\n",
            "\ttest\tLoss: 1.9176\tVGG 1:0.91188\tVGG 2:0.70703\tVGG *:0.76908\n",
            "Accuracy test VGGA: 0.68674\n",
            "Accuracy test VGGB: 0.76983\n",
            "Accuracy test VGG*: 0.76949\n",
            "Accuracy test VGGSTAR: 0.22334\n",
            "Best accuracy test is: 0.22844\n"
          ]
        },
        {
          "metadata": {
            "tags": null
          },
          "name": "stderr",
          "output_type": "stream",
          "text": [
            " [Elapsed Time: 0:01:41] |###############| [Time:  0:01:41] [Train Acc:  0.793]\n"
          ]
        },
        {
          "metadata": {
            "tags": null
          },
          "name": "stdout",
          "output_type": "stream",
          "text": [
            "Epoch 10:\n",
            "\ttrain\tLoss: 1.9111\tVGG 1:0.94041\tVGG 2:0.71177\tVGG *:0.74083\n",
            "\tval\tLoss: 1.8539\tVGG 1:0.91993\tVGG 2:0.70693\tVGG *:0.77733\n",
            "\ttest\tLoss: 1.836\tVGG 1:0.92251\tVGG 2:0.72393\tVGG *:0.7736\n",
            "Accuracy test VGGA: 0.69291\n",
            "Accuracy test VGGB: 0.78068\n",
            "Accuracy test VGG*: 0.77198\n",
            "Accuracy test VGGSTAR: 0.21862\n",
            "Best accuracy test is: 0.22844\n"
          ]
        },
        {
          "metadata": {
            "tags": null
          },
          "name": "stderr",
          "output_type": "stream",
          "text": [
            " [Elapsed Time: 0:01:41] |###############| [Time:  0:01:41] [Train Acc:  0.762]\n"
          ]
        },
        {
          "metadata": {
            "tags": null
          },
          "name": "stdout",
          "output_type": "stream",
          "text": [
            "Epoch 11:\n",
            "\ttrain\tLoss: 1.8642\tVGG 1:0.94589\tVGG 2:0.71745\tVGG *:0.74486\n",
            "\tval\tLoss: 1.8369\tVGG 1:0.91799\tVGG 2:0.71782\tVGG *:0.78208\n",
            "\ttest\tLoss: 1.84\tVGG 1:0.91414\tVGG 2:0.72801\tVGG *:0.77669\n",
            "Accuracy test VGGA: 0.68751\n",
            "Accuracy test VGGB: 0.79077\n",
            "Accuracy test VGG*: 0.77685\n",
            "Accuracy test VGGSTAR: 0.21217\n",
            "Best accuracy test is: 0.22844\n"
          ]
        },
        {
          "metadata": {
            "tags": null
          },
          "name": "stderr",
          "output_type": "stream",
          "text": [
            " [Elapsed Time: 0:01:42] |###############| [Time:  0:01:42] [Train Acc:  0.746]\n"
          ]
        },
        {
          "metadata": {
            "tags": null
          },
          "name": "stdout",
          "output_type": "stream",
          "text": [
            "Epoch 12:\n",
            "\ttrain\tLoss: 1.8264\tVGG 1:0.95106\tVGG 2:0.72037\tVGG *:0.74782\n",
            "\tval\tLoss: 1.772\tVGG 1:0.9278\tVGG 2:0.72711\tVGG *:0.78517\n",
            "\ttest\tLoss: 1.7896\tVGG 1:0.92693\tVGG 2:0.73084\tVGG *:0.77666\n",
            "Accuracy test VGGA: 0.69685\n",
            "Accuracy test VGGB: 0.79298\n",
            "Accuracy test VGG*: 0.77541\n",
            "Accuracy test VGGSTAR: 0.23416\n",
            "Best accuracy test is: 0.23416\n"
          ]
        },
        {
          "metadata": {
            "tags": null
          },
          "name": "stderr",
          "output_type": "stream",
          "text": [
            " [Elapsed Time: 0:01:42] |###############| [Time:  0:01:42] [Train Acc:  0.828]\n"
          ]
        },
        {
          "metadata": {
            "tags": null
          },
          "name": "stdout",
          "output_type": "stream",
          "text": [
            "Epoch 13:\n",
            "\ttrain\tLoss: 1.7945\tVGG 1:0.9566\tVGG 2:0.72383\tVGG *:0.75125\n",
            "\tval\tLoss: 1.7931\tVGG 1:0.92263\tVGG 2:0.71914\tVGG *:0.78471\n",
            "\ttest\tLoss: 1.7945\tVGG 1:0.91992\tVGG 2:0.73052\tVGG *:0.78202\n",
            "Accuracy test VGGA: 0.69289\n",
            "Accuracy test VGGB: 0.79033\n",
            "Accuracy test VGG*: 0.77954\n",
            "Accuracy test VGGSTAR: 0.25369\n",
            "Best accuracy test is: 0.25369\n"
          ]
        },
        {
          "metadata": {
            "tags": null
          },
          "name": "stderr",
          "output_type": "stream",
          "text": [
            " [Elapsed Time: 0:01:42] |###############| [Time:  0:01:42] [Train Acc:   0.77]\n"
          ]
        },
        {
          "metadata": {
            "tags": null
          },
          "name": "stdout",
          "output_type": "stream",
          "text": [
            "Epoch 14:\n",
            "\ttrain\tLoss: 1.754\tVGG 1:0.95916\tVGG 2:0.72831\tVGG *:0.75601\n",
            "\tval\tLoss: 1.8087\tVGG 1:0.92039\tVGG 2:0.71784\tVGG *:0.77992\n",
            "\ttest\tLoss: 1.7838\tVGG 1:0.9169\tVGG 2:0.73529\tVGG *:0.78568\n",
            "Accuracy test VGGA: 0.68322\n",
            "Accuracy test VGGB: 0.79686\n",
            "Accuracy test VGG*: 0.784\n",
            "Accuracy test VGGSTAR: 0.26753\n",
            "Best accuracy test is: 0.26753\n"
          ]
        },
        {
          "metadata": {
            "tags": null
          },
          "name": "stderr",
          "output_type": "stream",
          "text": [
            " [Elapsed Time: 0:01:41] |###############| [Time:  0:01:41] [Train Acc:  0.809]\n"
          ]
        },
        {
          "metadata": {
            "tags": null
          },
          "name": "stdout",
          "output_type": "stream",
          "text": [
            "Epoch 15:\n",
            "\ttrain\tLoss: 1.7267\tVGG 1:0.96447\tVGG 2:0.73064\tVGG *:0.7575\n",
            "\tval\tLoss: 1.7609\tVGG 1:0.92249\tVGG 2:0.73139\tVGG *:0.78689\n",
            "\ttest\tLoss: 1.7801\tVGG 1:0.92004\tVGG 2:0.73501\tVGG *:0.78168\n",
            "Accuracy test VGGA: 0.68982\n",
            "Accuracy test VGGB: 0.80224\n",
            "Accuracy test VGG*: 0.7806\n",
            "Accuracy test VGGSTAR: 0.27174\n",
            "Best accuracy test is: 0.27174\n"
          ]
        },
        {
          "metadata": {
            "tags": null
          },
          "name": "stderr",
          "output_type": "stream",
          "text": [
            " [Elapsed Time: 0:01:41] |###############| [Time:  0:01:41] [Train Acc:  0.793]\n"
          ]
        },
        {
          "metadata": {
            "tags": null
          },
          "name": "stdout",
          "output_type": "stream",
          "text": [
            "Epoch 16:\n",
            "\ttrain\tLoss: 1.7083\tVGG 1:0.96541\tVGG 2:0.73081\tVGG *:0.76\n",
            "\tval\tLoss: 1.7306\tVGG 1:0.92363\tVGG 2:0.73353\tVGG *:0.7919\n",
            "\ttest\tLoss: 1.7851\tVGG 1:0.91881\tVGG 2:0.73249\tVGG *:0.78642\n",
            "Accuracy test VGGA: 0.68765\n",
            "Accuracy test VGGB: 0.79374\n",
            "Accuracy test VGG*: 0.78482\n",
            "Accuracy test VGGSTAR: 0.28531\n",
            "Best accuracy test is: 0.28531\n"
          ]
        },
        {
          "metadata": {
            "tags": null
          },
          "name": "stderr",
          "output_type": "stream",
          "text": [
            " [Elapsed Time: 0:01:41] |###############| [Time:  0:01:41] [Train Acc:  0.805]\n"
          ]
        },
        {
          "metadata": {
            "tags": null
          },
          "name": "stdout",
          "output_type": "stream",
          "text": [
            "Epoch 17:\n",
            "\ttrain\tLoss: 1.6632\tVGG 1:0.96996\tVGG 2:0.73642\tVGG *:0.76393\n",
            "\tval\tLoss: 1.7345\tVGG 1:0.92505\tVGG 2:0.73592\tVGG *:0.7941\n",
            "\ttest\tLoss: 1.7112\tVGG 1:0.92689\tVGG 2:0.74423\tVGG *:0.79192\n",
            "Accuracy test VGGA: 0.7009\n",
            "Accuracy test VGGB: 0.8067\n",
            "Accuracy test VGG*: 0.78832\n",
            "Accuracy test VGGSTAR: 0.27902\n",
            "Best accuracy test is: 0.28531\n"
          ]
        },
        {
          "metadata": {
            "tags": null
          },
          "name": "stderr",
          "output_type": "stream",
          "text": [
            " [Elapsed Time: 0:01:41] |###############| [Time:  0:01:41] [Train Acc:  0.789]\n"
          ]
        },
        {
          "metadata": {
            "tags": null
          },
          "name": "stdout",
          "output_type": "stream",
          "text": [
            "Epoch 18:\n",
            "\ttrain\tLoss: 1.6583\tVGG 1:0.97192\tVGG 2:0.73536\tVGG *:0.7639\n",
            "\tval\tLoss: 1.7424\tVGG 1:0.92492\tVGG 2:0.73189\tVGG *:0.79867\n",
            "\ttest\tLoss: 1.7866\tVGG 1:0.92084\tVGG 2:0.734\tVGG *:0.78953\n",
            "Accuracy test VGGA: 0.68368\n",
            "Accuracy test VGGB: 0.79945\n",
            "Accuracy test VGG*: 0.79167\n",
            "Accuracy test VGGSTAR: 0.32404\n",
            "Best accuracy test is: 0.32404\n"
          ]
        },
        {
          "metadata": {
            "tags": null
          },
          "name": "stderr",
          "output_type": "stream",
          "text": [
            " [Elapsed Time: 0:01:41] |###############| [Time:  0:01:41] [Train Acc:  0.812]\n"
          ]
        },
        {
          "metadata": {
            "tags": null
          },
          "name": "stdout",
          "output_type": "stream",
          "text": [
            "Epoch 19:\n",
            "\ttrain\tLoss: 1.6271\tVGG 1:0.97567\tVGG 2:0.73909\tVGG *:0.76692\n",
            "\tval\tLoss: 1.7213\tVGG 1:0.92928\tVGG 2:0.73624\tVGG *:0.79724\n",
            "\ttest\tLoss: 1.7126\tVGG 1:0.92765\tVGG 2:0.74505\tVGG *:0.79407\n",
            "Accuracy test VGGA: 0.69398\n",
            "Accuracy test VGGB: 0.80515\n",
            "Accuracy test VGG*: 0.79529\n",
            "Accuracy test VGGSTAR: 0.2682\n",
            "Best accuracy test is: 0.32404\n"
          ]
        },
        {
          "metadata": {
            "tags": null
          },
          "name": "stderr",
          "output_type": "stream",
          "text": [
            " [Elapsed Time: 0:01:41] |###############| [Time:  0:01:41] [Train Acc:  0.777]\n"
          ]
        },
        {
          "metadata": {
            "tags": null
          },
          "name": "stdout",
          "output_type": "stream",
          "text": [
            "Epoch 20:\n",
            "\ttrain\tLoss: 1.6112\tVGG 1:0.97725\tVGG 2:0.74123\tVGG *:0.76857\n",
            "\tval\tLoss: 1.7412\tVGG 1:0.92969\tVGG 2:0.7328\tVGG *:0.7929\n",
            "\ttest\tLoss: 1.7342\tVGG 1:0.92558\tVGG 2:0.74789\tVGG *:0.78888\n",
            "Accuracy test VGGA: 0.68437\n",
            "Accuracy test VGGB: 0.80969\n",
            "Accuracy test VGG*: 0.7904\n",
            "Accuracy test VGGSTAR: 0.31437\n",
            "Best accuracy test is: 0.32404\n"
          ]
        },
        {
          "metadata": {
            "tags": null
          },
          "name": "stderr",
          "output_type": "stream",
          "text": [
            " [Elapsed Time: 0:01:41] |###############| [Time:  0:01:41] [Train Acc:  0.785]\n"
          ]
        },
        {
          "metadata": {
            "tags": null
          },
          "name": "stdout",
          "output_type": "stream",
          "text": [
            "Epoch 21:\n",
            "\ttrain\tLoss: 1.5838\tVGG 1:0.98045\tVGG 2:0.7439\tVGG *:0.76948\n",
            "\tval\tLoss: 1.7266\tVGG 1:0.92497\tVGG 2:0.73452\tVGG *:0.79743\n",
            "\ttest\tLoss: 1.7256\tVGG 1:0.92249\tVGG 2:0.74557\tVGG *:0.79532\n",
            "Accuracy test VGGA: 0.68869\n",
            "Accuracy test VGGB: 0.80775\n",
            "Accuracy test VGG*: 0.79604\n",
            "Accuracy test VGGSTAR: 0.32293\n",
            "Best accuracy test is: 0.32404\n"
          ]
        },
        {
          "metadata": {
            "tags": null
          },
          "name": "stderr",
          "output_type": "stream",
          "text": [
            " [Elapsed Time: 0:01:41] |###############| [Time:  0:01:41] [Train Acc:  0.781]\n"
          ]
        },
        {
          "metadata": {
            "tags": null
          },
          "name": "stdout",
          "output_type": "stream",
          "text": [
            "Epoch 22:\n",
            "\ttrain\tLoss: 1.5681\tVGG 1:0.98307\tVGG 2:0.74337\tVGG *:0.77275\n",
            "\tval\tLoss: 1.7223\tVGG 1:0.92578\tVGG 2:0.73538\tVGG *:0.79992\n",
            "\ttest\tLoss: 1.7153\tVGG 1:0.92613\tVGG 2:0.74771\tVGG *:0.79669\n",
            "Accuracy test VGGA: 0.68629\n",
            "Accuracy test VGGB: 0.80503\n",
            "Accuracy test VGG*: 0.79735\n",
            "Accuracy test VGGSTAR: 0.31832\n",
            "Best accuracy test is: 0.32404\n"
          ]
        },
        {
          "metadata": {
            "tags": null
          },
          "name": "stderr",
          "output_type": "stream",
          "text": [
            " [Elapsed Time: 0:01:42] |###############| [Time:  0:01:42] [Train Acc:  0.805]\n"
          ]
        },
        {
          "metadata": {
            "tags": null
          },
          "name": "stdout",
          "output_type": "stream",
          "text": [
            "Epoch 23:\n",
            "\ttrain\tLoss: 1.5577\tVGG 1:0.98398\tVGG 2:0.74677\tVGG *:0.77277\n",
            "\tval\tLoss: 1.6851\tVGG 1:0.92901\tVGG 2:0.74441\tVGG *:0.80321\n",
            "\ttest\tLoss: 1.6833\tVGG 1:0.92578\tVGG 2:0.75149\tVGG *:0.80087\n",
            "Accuracy test VGGA: 0.68859\n",
            "Accuracy test VGGB: 0.81265\n",
            "Accuracy test VGG*: 0.79943\n",
            "Accuracy test VGGSTAR: 0.31375\n",
            "Best accuracy test is: 0.32404\n"
          ]
        },
        {
          "metadata": {
            "tags": null
          },
          "name": "stderr",
          "output_type": "stream",
          "text": [
            " [Elapsed Time: 0:01:41] |###############| [Time:  0:01:41] [Train Acc:   0.73]\n"
          ]
        },
        {
          "metadata": {
            "tags": null
          },
          "name": "stdout",
          "output_type": "stream",
          "text": [
            "Epoch 24:\n",
            "\ttrain\tLoss: 1.5373\tVGG 1:0.98686\tVGG 2:0.74841\tVGG *:0.77493\n",
            "\tval\tLoss: 1.7193\tVGG 1:0.92955\tVGG 2:0.74411\tVGG *:0.79723\n",
            "\ttest\tLoss: 1.7179\tVGG 1:0.92702\tVGG 2:0.7535\tVGG *:0.79217\n",
            "Accuracy test VGGA: 0.68669\n",
            "Accuracy test VGGB: 0.80888\n",
            "Accuracy test VGG*: 0.79446\n",
            "Accuracy test VGGSTAR: 0.32317\n",
            "Best accuracy test is: 0.32404\n"
          ]
        },
        {
          "metadata": {
            "tags": null
          },
          "name": "stderr",
          "output_type": "stream",
          "text": [
            " [Elapsed Time: 0:01:41] |###############| [Time:  0:01:41] [Train Acc:   0.82]\n"
          ]
        },
        {
          "metadata": {
            "tags": null
          },
          "name": "stdout",
          "output_type": "stream",
          "text": [
            "Epoch 25:\n",
            "\ttrain\tLoss: 1.515\tVGG 1:0.98926\tVGG 2:0.75024\tVGG *:0.77678\n",
            "\tval\tLoss: 1.7055\tVGG 1:0.93184\tVGG 2:0.74032\tVGG *:0.80169\n",
            "\ttest\tLoss: 1.689\tVGG 1:0.92915\tVGG 2:0.75359\tVGG *:0.79998\n",
            "Accuracy test VGGA: 0.69089\n",
            "Accuracy test VGGB: 0.81389\n",
            "Accuracy test VGG*: 0.79869\n",
            "Accuracy test VGGSTAR: 0.35994\n",
            "Best accuracy test is: 0.35994\n"
          ]
        },
        {
          "metadata": {
            "tags": null
          },
          "name": "stderr",
          "output_type": "stream",
          "text": [
            " [Elapsed Time: 0:01:41] |###############| [Time:  0:01:41] [Train Acc:  0.793]\n"
          ]
        },
        {
          "metadata": {
            "tags": null
          },
          "name": "stdout",
          "output_type": "stream",
          "text": [
            "Epoch 26:\n",
            "\ttrain\tLoss: 1.5074\tVGG 1:0.99015\tVGG 2:0.75285\tVGG *:0.77757\n",
            "\tval\tLoss: 1.7202\tVGG 1:0.92815\tVGG 2:0.74005\tVGG *:0.80361\n",
            "\ttest\tLoss: 1.7115\tVGG 1:0.92412\tVGG 2:0.75101\tVGG *:0.80107\n",
            "Accuracy test VGGA: 0.67263\n",
            "Accuracy test VGGB: 0.81361\n",
            "Accuracy test VGG*: 0.80157\n",
            "Accuracy test VGGSTAR: 0.37594\n",
            "Best accuracy test is: 0.37594\n"
          ]
        },
        {
          "metadata": {
            "tags": null
          },
          "name": "stderr",
          "output_type": "stream",
          "text": [
            " [Elapsed Time: 0:01:41] |###############| [Time:  0:01:41] [Train Acc:  0.797]\n"
          ]
        },
        {
          "metadata": {
            "tags": null
          },
          "name": "stdout",
          "output_type": "stream",
          "text": [
            "Epoch 27:\n",
            "\ttrain\tLoss: 1.4932\tVGG 1:0.99228\tVGG 2:0.75199\tVGG *:0.77903\n",
            "\tval\tLoss: 1.7046\tVGG 1:0.92484\tVGG 2:0.74284\tVGG *:0.8055\n",
            "\ttest\tLoss: 1.7023\tVGG 1:0.922\tVGG 2:0.75776\tVGG *:0.80325\n",
            "Accuracy test VGGA: 0.67777\n",
            "Accuracy test VGGB: 0.8173\n",
            "Accuracy test VGG*: 0.80276\n",
            "Accuracy test VGGSTAR: 0.37505\n",
            "Best accuracy test is: 0.37594\n"
          ]
        },
        {
          "metadata": {
            "tags": null
          },
          "name": "stderr",
          "output_type": "stream",
          "text": [
            " [Elapsed Time: 0:01:41] |###############| [Time:  0:01:41] [Train Acc:  0.777]\n"
          ]
        },
        {
          "metadata": {
            "tags": null
          },
          "name": "stdout",
          "output_type": "stream",
          "text": [
            "Epoch 28:\n",
            "\ttrain\tLoss: 1.4769\tVGG 1:0.99269\tVGG 2:0.75308\tVGG *:0.78129\n",
            "\tval\tLoss: 1.6921\tVGG 1:0.92888\tVGG 2:0.74661\tVGG *:0.8071\n",
            "\ttest\tLoss: 1.7129\tVGG 1:0.925\tVGG 2:0.74843\tVGG *:0.79704\n",
            "Accuracy test VGGA: 0.67846\n",
            "Accuracy test VGGB: 0.81125\n",
            "Accuracy test VGG*: 0.79823\n",
            "Accuracy test VGGSTAR: 0.40106\n",
            "Best accuracy test is: 0.40106\n"
          ]
        },
        {
          "metadata": {
            "tags": null
          },
          "name": "stderr",
          "output_type": "stream",
          "text": [
            " [Elapsed Time: 0:01:41] |###############| [Time:  0:01:41] [Train Acc:  0.797]\n"
          ]
        },
        {
          "metadata": {
            "tags": null
          },
          "name": "stdout",
          "output_type": "stream",
          "text": [
            "Epoch 29:\n",
            "\ttrain\tLoss: 1.473\tVGG 1:0.99296\tVGG 2:0.75469\tVGG *:0.78223\n",
            "\tval\tLoss: 1.704\tVGG 1:0.92977\tVGG 2:0.74098\tVGG *:0.80497\n",
            "\ttest\tLoss: 1.7075\tVGG 1:0.92712\tVGG 2:0.74981\tVGG *:0.80215\n",
            "Accuracy test VGGA: 0.68216\n",
            "Accuracy test VGGB: 0.81071\n",
            "Accuracy test VGG*: 0.8029\n",
            "Accuracy test VGGSTAR: 0.3986\n",
            "Best accuracy test is: 0.40106\n"
          ]
        },
        {
          "metadata": {
            "tags": null
          },
          "name": "stderr",
          "output_type": "stream",
          "text": [
            " [Elapsed Time: 0:01:41] |###############| [Time:  0:01:41] [Train Acc:   0.82]\n"
          ]
        },
        {
          "metadata": {
            "tags": null
          },
          "name": "stdout",
          "output_type": "stream",
          "text": [
            "Epoch 30:\n",
            "\ttrain\tLoss: 1.4618\tVGG 1:0.99401\tVGG 2:0.75657\tVGG *:0.78207\n",
            "\tval\tLoss: 1.6977\tVGG 1:0.92767\tVGG 2:0.74478\tVGG *:0.80517\n",
            "\ttest\tLoss: 1.6518\tVGG 1:0.92593\tVGG 2:0.76448\tVGG *:0.80866\n",
            "Accuracy test VGGA: 0.68392\n",
            "Accuracy test VGGB: 0.82029\n",
            "Accuracy test VGG*: 0.80596\n",
            "Accuracy test VGGSTAR: 0.38372\n",
            "Best accuracy test is: 0.40106\n"
          ]
        },
        {
          "metadata": {
            "tags": null
          },
          "name": "stderr",
          "output_type": "stream",
          "text": [
            " [Elapsed Time: 0:01:41] |###############| [Time:  0:01:41] [Train Acc:  0.785]\n"
          ]
        },
        {
          "metadata": {
            "tags": null
          },
          "name": "stdout",
          "output_type": "stream",
          "text": [
            "Epoch 31:\n",
            "\ttrain\tLoss: 1.4481\tVGG 1:0.99565\tVGG 2:0.75878\tVGG *:0.78357\n",
            "\tval\tLoss: 1.7268\tVGG 1:0.92909\tVGG 2:0.74613\tVGG *:0.80345\n",
            "\ttest\tLoss: 1.7009\tVGG 1:0.92842\tVGG 2:0.75588\tVGG *:0.80268\n",
            "Accuracy test VGGA: 0.68177\n",
            "Accuracy test VGGB: 0.80958\n",
            "Accuracy test VGG*: 0.80189\n",
            "Accuracy test VGGSTAR: 0.38317\n",
            "Best accuracy test is: 0.40106\n"
          ]
        },
        {
          "metadata": {
            "tags": null
          },
          "name": "stderr",
          "output_type": "stream",
          "text": [
            " [Elapsed Time: 0:01:41] |###############| [Time:  0:01:41] [Train Acc:  0.785]\n"
          ]
        },
        {
          "metadata": {
            "tags": null
          },
          "name": "stdout",
          "output_type": "stream",
          "text": [
            "Epoch 32:\n",
            "\ttrain\tLoss: 1.443\tVGG 1:0.99678\tVGG 2:0.75786\tVGG *:0.78384\n",
            "\tval\tLoss: 1.7014\tVGG 1:0.92821\tVGG 2:0.74859\tVGG *:0.81121\n",
            "\ttest\tLoss: 1.6736\tVGG 1:0.92713\tVGG 2:0.76028\tVGG *:0.80762\n",
            "Accuracy test VGGA: 0.685\n",
            "Accuracy test VGGB: 0.81645\n",
            "Accuracy test VGG*: 0.80564\n",
            "Accuracy test VGGSTAR: 0.42285\n",
            "Best accuracy test is: 0.42285\n"
          ]
        },
        {
          "metadata": {
            "tags": null
          },
          "name": "stderr",
          "output_type": "stream",
          "text": [
            " [Elapsed Time: 0:01:41] |###############| [Time:  0:01:41] [Train Acc:   0.73]\n"
          ]
        },
        {
          "metadata": {
            "tags": null
          },
          "name": "stdout",
          "output_type": "stream",
          "text": [
            "Epoch 33:\n",
            "\ttrain\tLoss: 1.4274\tVGG 1:0.99671\tVGG 2:0.76157\tVGG *:0.78626\n",
            "\tval\tLoss: 1.7283\tVGG 1:0.92834\tVGG 2:0.74524\tVGG *:0.80738\n",
            "\ttest\tLoss: 1.7216\tVGG 1:0.92537\tVGG 2:0.75503\tVGG *:0.80017\n",
            "Accuracy test VGGA: 0.68916\n",
            "Accuracy test VGGB: 0.81432\n",
            "Accuracy test VGG*: 0.80197\n",
            "Accuracy test VGGSTAR: 0.44921\n",
            "Best accuracy test is: 0.44921\n"
          ]
        },
        {
          "metadata": {
            "tags": null
          },
          "name": "stderr",
          "output_type": "stream",
          "text": [
            " [Elapsed Time: 0:01:41] |###############| [Time:  0:01:41] [Train Acc:  0.836]\n"
          ]
        },
        {
          "metadata": {
            "tags": null
          },
          "name": "stdout",
          "output_type": "stream",
          "text": [
            "Epoch 34:\n",
            "\ttrain\tLoss: 1.414\tVGG 1:0.99744\tVGG 2:0.76142\tVGG *:0.78788\n",
            "\tval\tLoss: 1.6728\tVGG 1:0.92802\tVGG 2:0.75599\tVGG *:0.81179\n",
            "\ttest\tLoss: 1.666\tVGG 1:0.92796\tVGG 2:0.76515\tVGG *:0.80949\n",
            "Accuracy test VGGA: 0.68758\n",
            "Accuracy test VGGB: 0.81965\n",
            "Accuracy test VGG*: 0.80865\n",
            "Accuracy test VGGSTAR: 0.42284\n",
            "Best accuracy test is: 0.44921\n"
          ]
        },
        {
          "metadata": {
            "tags": null
          },
          "name": "stderr",
          "output_type": "stream",
          "text": [
            " [Elapsed Time: 0:01:42] |###############| [Time:  0:01:42] [Train Acc:  0.832]\n"
          ]
        },
        {
          "metadata": {
            "tags": null
          },
          "name": "stdout",
          "output_type": "stream",
          "text": [
            "Epoch 35:\n",
            "\ttrain\tLoss: 1.4125\tVGG 1:0.99807\tVGG 2:0.76156\tVGG *:0.78664\n",
            "\tval\tLoss: 1.6953\tVGG 1:0.92963\tVGG 2:0.75352\tVGG *:0.81059\n",
            "\ttest\tLoss: 1.7024\tVGG 1:0.92582\tVGG 2:0.7608\tVGG *:0.80466\n",
            "Accuracy test VGGA: 0.68515\n",
            "Accuracy test VGGB: 0.81933\n",
            "Accuracy test VGG*: 0.80476\n",
            "Accuracy test VGGSTAR: 0.39954\n",
            "Best accuracy test is: 0.44921\n"
          ]
        },
        {
          "metadata": {
            "tags": null
          },
          "name": "stderr",
          "output_type": "stream",
          "text": [
            " [Elapsed Time: 0:01:41] |###############| [Time:  0:01:41] [Train Acc:  0.801]\n"
          ]
        },
        {
          "metadata": {
            "tags": null
          },
          "name": "stdout",
          "output_type": "stream",
          "text": [
            "Epoch 36:\n",
            "\ttrain\tLoss: 1.4017\tVGG 1:0.99879\tVGG 2:0.76452\tVGG *:0.78971\n",
            "\tval\tLoss: 1.6774\tVGG 1:0.93157\tVGG 2:0.7602\tVGG *:0.81545\n",
            "\ttest\tLoss: 1.6932\tVGG 1:0.93077\tVGG 2:0.75692\tVGG *:0.80885\n",
            "Accuracy test VGGA: 0.69318\n",
            "Accuracy test VGGB: 0.81826\n",
            "Accuracy test VGG*: 0.80609\n",
            "Accuracy test VGGSTAR: 0.4322\n",
            "Best accuracy test is: 0.44921\n"
          ]
        },
        {
          "metadata": {
            "tags": null
          },
          "name": "stderr",
          "output_type": "stream",
          "text": [
            " [Elapsed Time: 0:01:41] |###############| [Time:  0:01:41] [Train Acc:  0.793]\n"
          ]
        },
        {
          "metadata": {
            "tags": null
          },
          "name": "stdout",
          "output_type": "stream",
          "text": [
            "Epoch 37:\n",
            "\ttrain\tLoss: 1.3991\tVGG 1:0.9991\tVGG 2:0.76197\tVGG *:0.7905\n",
            "\tval\tLoss: 1.6945\tVGG 1:0.93138\tVGG 2:0.75694\tVGG *:0.8147\n",
            "\ttest\tLoss: 1.692\tVGG 1:0.92927\tVGG 2:0.75837\tVGG *:0.80888\n",
            "Accuracy test VGGA: 0.68479\n",
            "Accuracy test VGGB: 0.81681\n",
            "Accuracy test VGG*: 0.81002\n",
            "Accuracy test VGGSTAR: 0.3821\n",
            "Best accuracy test is: 0.44921\n"
          ]
        },
        {
          "metadata": {
            "tags": null
          },
          "name": "stderr",
          "output_type": "stream",
          "text": [
            " [Elapsed Time: 0:01:41] |###############| [Time:  0:01:41] [Train Acc:  0.789]\n"
          ]
        },
        {
          "metadata": {
            "tags": null
          },
          "name": "stdout",
          "output_type": "stream",
          "text": [
            "Epoch 38:\n",
            "\ttrain\tLoss: 1.3913\tVGG 1:0.99927\tVGG 2:0.76672\tVGG *:0.78988\n",
            "\tval\tLoss: 1.6799\tVGG 1:0.93252\tVGG 2:0.75645\tVGG *:0.81307\n",
            "\ttest\tLoss: 1.6912\tVGG 1:0.93253\tVGG 2:0.75648\tVGG *:0.80586\n",
            "Accuracy test VGGA: 0.69421\n",
            "Accuracy test VGGB: 0.81186\n",
            "Accuracy test VGG*: 0.80594\n",
            "Accuracy test VGGSTAR: 0.39674\n",
            "Best accuracy test is: 0.44921\n"
          ]
        },
        {
          "metadata": {
            "tags": null
          },
          "name": "stderr",
          "output_type": "stream",
          "text": [
            " [Elapsed Time: 0:01:41] |###############| [Time:  0:01:41] [Train Acc:  0.766]\n"
          ]
        },
        {
          "metadata": {
            "tags": null
          },
          "name": "stdout",
          "output_type": "stream",
          "text": [
            "Epoch 39:\n",
            "\ttrain\tLoss: 1.3905\tVGG 1:0.99886\tVGG 2:0.76291\tVGG *:0.79139\n",
            "\tval\tLoss: 1.6827\tVGG 1:0.92969\tVGG 2:0.75039\tVGG *:0.81167\n",
            "\ttest\tLoss: 1.6775\tVGG 1:0.93053\tVGG 2:0.76273\tVGG *:0.81073\n",
            "Accuracy test VGGA: 0.69109\n",
            "Accuracy test VGGB: 0.82032\n",
            "Accuracy test VGG*: 0.81071\n",
            "Accuracy test VGGSTAR: 0.41403\n",
            "Best accuracy test is: 0.44921\n"
          ]
        },
        {
          "metadata": {
            "tags": null
          },
          "name": "stderr",
          "output_type": "stream",
          "text": [
            " [Elapsed Time: 0:01:41] |###############| [Time:  0:01:41] [Train Acc:  0.773]\n"
          ]
        },
        {
          "metadata": {
            "tags": null
          },
          "name": "stdout",
          "output_type": "stream",
          "text": [
            "Epoch 40:\n",
            "\ttrain\tLoss: 1.3756\tVGG 1:0.99938\tVGG 2:0.76743\tVGG *:0.79262\n",
            "\tval\tLoss: 1.7\tVGG 1:0.93103\tVGG 2:0.74796\tVGG *:0.81447\n",
            "\ttest\tLoss: 1.6882\tVGG 1:0.93016\tVGG 2:0.7577\tVGG *:0.80802\n",
            "Accuracy test VGGA: 0.68129\n",
            "Accuracy test VGGB: 0.81395\n",
            "Accuracy test VGG*: 0.8084\n",
            "Accuracy test VGGSTAR: 0.4096\n",
            "Best accuracy test is: 0.44921\n"
          ]
        },
        {
          "metadata": {
            "tags": null
          },
          "name": "stderr",
          "output_type": "stream",
          "text": [
            " [Elapsed Time: 0:01:42] |###############| [Time:  0:01:42] [Train Acc:  0.812]\n"
          ]
        },
        {
          "metadata": {
            "tags": null
          },
          "name": "stdout",
          "output_type": "stream",
          "text": [
            "Epoch 41:\n",
            "\ttrain\tLoss: 1.3675\tVGG 1:0.99927\tVGG 2:0.76922\tVGG *:0.7927\n",
            "\tval\tLoss: 1.671\tVGG 1:0.93346\tVGG 2:0.75311\tVGG *:0.81587\n",
            "\ttest\tLoss: 1.6679\tVGG 1:0.93034\tVGG 2:0.76622\tVGG *:0.80804\n",
            "Accuracy test VGGA: 0.69087\n",
            "Accuracy test VGGB: 0.8248\n",
            "Accuracy test VGG*: 0.80943\n",
            "Accuracy test VGGSTAR: 0.44929\n",
            "Best accuracy test is: 0.44929\n"
          ]
        },
        {
          "metadata": {
            "tags": null
          },
          "name": "stderr",
          "output_type": "stream",
          "text": [
            " [Elapsed Time: 0:01:41] |###############| [Time:  0:01:41] [Train Acc:   0.82]\n"
          ]
        },
        {
          "metadata": {
            "tags": null
          },
          "name": "stdout",
          "output_type": "stream",
          "text": [
            "Epoch 42:\n",
            "\ttrain\tLoss: 1.3662\tVGG 1:0.99948\tVGG 2:0.76846\tVGG *:0.79373\n",
            "\tval\tLoss: 1.6813\tVGG 1:0.93575\tVGG 2:0.75594\tVGG *:0.81322\n",
            "\ttest\tLoss: 1.6411\tVGG 1:0.93131\tVGG 2:0.76748\tVGG *:0.81242\n",
            "Accuracy test VGGA: 0.68712\n",
            "Accuracy test VGGB: 0.82836\n",
            "Accuracy test VGG*: 0.81457\n",
            "Accuracy test VGGSTAR: 0.44776\n",
            "Best accuracy test is: 0.44929\n"
          ]
        },
        {
          "metadata": {
            "tags": null
          },
          "name": "stderr",
          "output_type": "stream",
          "text": [
            " [Elapsed Time: 0:01:41] |###############| [Time:  0:01:41] [Train Acc:  0.777]\n"
          ]
        },
        {
          "metadata": {
            "tags": null
          },
          "name": "stdout",
          "output_type": "stream",
          "text": [
            "Epoch 43:\n",
            "\ttrain\tLoss: 1.3625\tVGG 1:0.99959\tVGG 2:0.7694\tVGG *:0.79606\n",
            "\tval\tLoss: 1.6766\tVGG 1:0.93252\tVGG 2:0.75844\tVGG *:0.8166\n",
            "\ttest\tLoss: 1.6919\tVGG 1:0.92896\tVGG 2:0.75969\tVGG *:0.80888\n",
            "Accuracy test VGGA: 0.68383\n",
            "Accuracy test VGGB: 0.82266\n",
            "Accuracy test VGG*: 0.81169\n",
            "Accuracy test VGGSTAR: 0.47985\n",
            "Best accuracy test is: 0.47985\n"
          ]
        },
        {
          "metadata": {
            "tags": null
          },
          "name": "stderr",
          "output_type": "stream",
          "text": [
            " [Elapsed Time: 0:01:41] |###############| [Time:  0:01:41] [Train Acc:  0.801]\n"
          ]
        },
        {
          "metadata": {
            "tags": null
          },
          "name": "stdout",
          "output_type": "stream",
          "text": [
            "Epoch 44:\n",
            "\ttrain\tLoss: 1.3606\tVGG 1:0.99962\tVGG 2:0.76902\tVGG *:0.79534\n",
            "\tval\tLoss: 1.6688\tVGG 1:0.93238\tVGG 2:0.75739\tVGG *:0.81732\n",
            "\ttest\tLoss: 1.7089\tVGG 1:0.92994\tVGG 2:0.7549\tVGG *:0.80558\n",
            "Accuracy test VGGA: 0.69099\n",
            "Accuracy test VGGB: 0.81539\n",
            "Accuracy test VGG*: 0.80698\n",
            "Accuracy test VGGSTAR: 0.47354\n",
            "Best accuracy test is: 0.47985\n"
          ]
        },
        {
          "metadata": {
            "tags": null
          },
          "name": "stderr",
          "output_type": "stream",
          "text": [
            " [Elapsed Time: 0:01:41] |###############| [Time:  0:01:41] [Train Acc:  0.785]\n"
          ]
        },
        {
          "metadata": {
            "tags": null
          },
          "name": "stdout",
          "output_type": "stream",
          "text": [
            "Epoch 45:\n",
            "\ttrain\tLoss: 1.3564\tVGG 1:0.99959\tVGG 2:0.77019\tVGG *:0.79713\n",
            "\tval\tLoss: 1.6672\tVGG 1:0.93454\tVGG 2:0.76079\tVGG *:0.82232\n",
            "\ttest\tLoss: 1.6644\tVGG 1:0.93192\tVGG 2:0.76172\tVGG *:0.81448\n",
            "Accuracy test VGGA: 0.68924\n",
            "Accuracy test VGGB: 0.82003\n",
            "Accuracy test VGG*: 0.81555\n",
            "Accuracy test VGGSTAR: 0.46755\n",
            "Best accuracy test is: 0.47985\n"
          ]
        },
        {
          "metadata": {
            "tags": null
          },
          "name": "stderr",
          "output_type": "stream",
          "text": [
            " [Elapsed Time: 0:01:41] |###############| [Time:  0:01:41] [Train Acc:  0.852]\n"
          ]
        },
        {
          "metadata": {
            "tags": null
          },
          "name": "stdout",
          "output_type": "stream",
          "text": [
            "Epoch 46:\n",
            "\ttrain\tLoss: 1.3419\tVGG 1:0.99977\tVGG 2:0.77187\tVGG *:0.79813\n",
            "\tval\tLoss: 1.6805\tVGG 1:0.93319\tVGG 2:0.75877\tVGG *:0.81955\n",
            "\ttest\tLoss: 1.6618\tVGG 1:0.93047\tVGG 2:0.76624\tVGG *:0.81276\n",
            "Accuracy test VGGA: 0.68367\n",
            "Accuracy test VGGB: 0.8251\n",
            "Accuracy test VGG*: 0.81122\n",
            "Accuracy test VGGSTAR: 0.46384\n",
            "Best accuracy test is: 0.47985\n"
          ]
        },
        {
          "metadata": {
            "tags": null
          },
          "name": "stderr",
          "output_type": "stream",
          "text": [
            " [Elapsed Time: 0:01:41] |###############| [Time:  0:01:41] [Train Acc:  0.805]\n"
          ]
        },
        {
          "metadata": {
            "tags": null
          },
          "name": "stdout",
          "output_type": "stream",
          "text": [
            "Epoch 47:\n",
            "\ttrain\tLoss: 1.3448\tVGG 1:0.99977\tVGG 2:0.77145\tVGG *:0.79879\n",
            "\tval\tLoss: 1.6359\tVGG 1:0.93602\tVGG 2:0.76092\tVGG *:0.82003\n",
            "\ttest\tLoss: 1.6535\tVGG 1:0.93302\tVGG 2:0.76767\tVGG *:0.81316\n",
            "Accuracy test VGGA: 0.69361\n",
            "Accuracy test VGGB: 0.82709\n",
            "Accuracy test VGG*: 0.81493\n",
            "Accuracy test VGGSTAR: 0.48935\n",
            "Best accuracy test is: 0.48935\n"
          ]
        },
        {
          "metadata": {
            "tags": null
          },
          "name": "stderr",
          "output_type": "stream",
          "text": [
            " [Elapsed Time: 0:01:41] |###############| [Time:  0:01:41] [Train Acc:  0.766]\n"
          ]
        },
        {
          "metadata": {
            "tags": null
          },
          "name": "stdout",
          "output_type": "stream",
          "text": [
            "Epoch 48:\n",
            "\ttrain\tLoss: 1.3375\tVGG 1:0.9998\tVGG 2:0.77474\tVGG *:0.79822\n",
            "\tval\tLoss: 1.6373\tVGG 1:0.93669\tVGG 2:0.76405\tVGG *:0.82413\n",
            "\ttest\tLoss: 1.6524\tVGG 1:0.93288\tVGG 2:0.76554\tVGG *:0.81487\n",
            "Accuracy test VGGA: 0.69195\n",
            "Accuracy test VGGB: 0.82391\n",
            "Accuracy test VGG*: 0.81532\n",
            "Accuracy test VGGSTAR: 0.48281\n",
            "Best accuracy test is: 0.48935\n"
          ]
        },
        {
          "metadata": {
            "tags": null
          },
          "name": "stderr",
          "output_type": "stream",
          "text": [
            " [Elapsed Time: 0:01:41] |###############| [Time:  0:01:41] [Train Acc:  0.852]\n"
          ]
        },
        {
          "metadata": {
            "tags": null
          },
          "name": "stdout",
          "output_type": "stream",
          "text": [
            "Epoch 49:\n",
            "\ttrain\tLoss: 1.3297\tVGG 1:0.99983\tVGG 2:0.77542\tVGG *:0.80005\n",
            "\tval\tLoss: 1.6795\tVGG 1:0.93521\tVGG 2:0.74996\tVGG *:0.81727\n",
            "\ttest\tLoss: 1.6857\tVGG 1:0.93172\tVGG 2:0.76039\tVGG *:0.81181\n",
            "Accuracy test VGGA: 0.68775\n",
            "Accuracy test VGGB: 0.81804\n",
            "Accuracy test VGG*: 0.81141\n",
            "Accuracy test VGGSTAR: 0.49412\n",
            "Best accuracy test is: 0.49412\n"
          ]
        },
        {
          "metadata": {
            "tags": null
          },
          "name": "stderr",
          "output_type": "stream",
          "text": [
            " [Elapsed Time: 0:01:41] |###############| [Time:  0:01:41] [Train Acc:  0.824]\n"
          ]
        },
        {
          "metadata": {
            "tags": null
          },
          "name": "stdout",
          "output_type": "stream",
          "text": [
            "Epoch 50:\n",
            "\ttrain\tLoss: 1.3275\tVGG 1:0.99985\tVGG 2:0.77488\tVGG *:0.80155\n",
            "\tval\tLoss: 1.6904\tVGG 1:0.93386\tVGG 2:0.75426\tVGG *:0.81751\n",
            "\ttest\tLoss: 1.6689\tVGG 1:0.93257\tVGG 2:0.76146\tVGG *:0.81628\n",
            "Accuracy test VGGA: 0.69094\n",
            "Accuracy test VGGB: 0.81634\n",
            "Accuracy test VGG*: 0.81577\n",
            "Accuracy test VGGSTAR: 0.48265\n",
            "Best accuracy test is: 0.49412\n"
          ]
        },
        {
          "metadata": {
            "tags": null
          },
          "name": "stderr",
          "output_type": "stream",
          "text": [
            " [Elapsed Time: 0:01:42] |###############| [Time:  0:01:42] [Train Acc:  0.816]\n"
          ]
        },
        {
          "metadata": {
            "tags": null
          },
          "name": "stdout",
          "output_type": "stream",
          "text": [
            "Epoch 51:\n",
            "\ttrain\tLoss: 1.3251\tVGG 1:0.99985\tVGG 2:0.7755\tVGG *:0.80104\n",
            "\tval\tLoss: 1.6476\tVGG 1:0.93373\tVGG 2:0.76238\tVGG *:0.8178\n",
            "\ttest\tLoss: 1.6202\tVGG 1:0.93319\tVGG 2:0.77589\tVGG *:0.81903\n",
            "Accuracy test VGGA: 0.69116\n",
            "Accuracy test VGGB: 0.82793\n",
            "Accuracy test VGG*: 0.8187\n",
            "Accuracy test VGGSTAR: 0.51552\n",
            "Best accuracy test is: 0.51552\n"
          ]
        },
        {
          "metadata": {
            "tags": null
          },
          "name": "stderr",
          "output_type": "stream",
          "text": [
            " [Elapsed Time: 0:01:42] |###############| [Time:  0:01:42] [Train Acc:  0.875]\n"
          ]
        },
        {
          "metadata": {
            "tags": null
          },
          "name": "stdout",
          "output_type": "stream",
          "text": [
            "Epoch 52:\n",
            "\ttrain\tLoss: 1.3119\tVGG 1:0.99988\tVGG 2:0.7789\tVGG *:0.80132\n",
            "\tval\tLoss: 1.6644\tVGG 1:0.93561\tVGG 2:0.75917\tVGG *:0.82025\n",
            "\ttest\tLoss: 1.6418\tVGG 1:0.93253\tVGG 2:0.7717\tVGG *:0.81568\n",
            "Accuracy test VGGA: 0.68763\n",
            "Accuracy test VGGB: 0.82843\n",
            "Accuracy test VGG*: 0.81433\n",
            "Accuracy test VGGSTAR: 0.54268\n",
            "Best accuracy test is: 0.54268\n"
          ]
        },
        {
          "metadata": {
            "tags": null
          },
          "name": "stderr",
          "output_type": "stream",
          "text": [
            " [Elapsed Time: 0:01:42] |###############| [Time:  0:01:42] [Train Acc:  0.832]\n"
          ]
        },
        {
          "metadata": {
            "tags": null
          },
          "name": "stdout",
          "output_type": "stream",
          "text": [
            "Epoch 53:\n",
            "\ttrain\tLoss: 1.3176\tVGG 1:0.99995\tVGG 2:0.77539\tVGG *:0.80218\n",
            "\tval\tLoss: 1.6854\tVGG 1:0.934\tVGG 2:0.75914\tVGG *:0.81937\n",
            "\ttest\tLoss: 1.6749\tVGG 1:0.93219\tVGG 2:0.76215\tVGG *:0.8102\n",
            "Accuracy test VGGA: 0.69144\n",
            "Accuracy test VGGB: 0.81915\n",
            "Accuracy test VGG*: 0.81039\n",
            "Accuracy test VGGSTAR: 0.50896\n",
            "Best accuracy test is: 0.54268\n"
          ]
        },
        {
          "metadata": {
            "tags": null
          },
          "name": "stderr",
          "output_type": "stream",
          "text": [
            " [Elapsed Time: 0:01:41] |###############| [Time:  0:01:41] [Train Acc:  0.824]\n"
          ]
        },
        {
          "metadata": {
            "tags": null
          },
          "name": "stdout",
          "output_type": "stream",
          "text": [
            "Epoch 54:\n",
            "\ttrain\tLoss: 1.311\tVGG 1:0.99988\tVGG 2:0.77759\tVGG *:0.80292\n",
            "\tval\tLoss: 1.6464\tVGG 1:0.9344\tVGG 2:0.75777\tVGG *:0.82232\n",
            "\ttest\tLoss: 1.6594\tVGG 1:0.93169\tVGG 2:0.76796\tVGG *:0.81861\n",
            "Accuracy test VGGA: 0.6915\n",
            "Accuracy test VGGB: 0.82232\n",
            "Accuracy test VGG*: 0.81617\n",
            "Accuracy test VGGSTAR: 0.51349\n",
            "Best accuracy test is: 0.54268\n"
          ]
        },
        {
          "metadata": {
            "tags": null
          },
          "name": "stderr",
          "output_type": "stream",
          "text": [
            " [Elapsed Time: 0:01:41] |###############| [Time:  0:01:41] [Train Acc:  0.887]\n"
          ]
        },
        {
          "metadata": {
            "tags": null
          },
          "name": "stdout",
          "output_type": "stream",
          "text": [
            "Epoch 55:\n",
            "\ttrain\tLoss: 1.3024\tVGG 1:0.99991\tVGG 2:0.77781\tVGG *:0.80455\n",
            "\tval\tLoss: 1.6805\tVGG 1:0.93373\tVGG 2:0.76035\tVGG *:0.8194\n",
            "\ttest\tLoss: 1.6912\tVGG 1:0.93202\tVGG 2:0.76091\tVGG *:0.815\n",
            "Accuracy test VGGA: 0.69007\n",
            "Accuracy test VGGB: 0.82217\n",
            "Accuracy test VGG*: 0.81352\n",
            "Accuracy test VGGSTAR: 0.54089\n",
            "Best accuracy test is: 0.54268\n"
          ]
        },
        {
          "metadata": {
            "tags": null
          },
          "name": "stderr",
          "output_type": "stream",
          "text": [
            " [Elapsed Time: 0:01:41] |###############| [Time:  0:01:41] [Train Acc:  0.809]\n"
          ]
        },
        {
          "metadata": {
            "tags": null
          },
          "name": "stdout",
          "output_type": "stream",
          "text": [
            "Epoch 56:\n",
            "\ttrain\tLoss: 1.3031\tVGG 1:0.99995\tVGG 2:0.77684\tVGG *:0.80408\n",
            "\tval\tLoss: 1.6869\tVGG 1:0.93629\tVGG 2:0.75575\tVGG *:0.82104\n",
            "\ttest\tLoss: 1.6431\tVGG 1:0.93283\tVGG 2:0.77233\tVGG *:0.8175\n",
            "Accuracy test VGGA: 0.69365\n",
            "Accuracy test VGGB: 0.82173\n",
            "Accuracy test VGG*: 0.8183\n",
            "Accuracy test VGGSTAR: 0.56404\n",
            "Best accuracy test is: 0.56404\n"
          ]
        },
        {
          "metadata": {
            "tags": null
          },
          "name": "stderr",
          "output_type": "stream",
          "text": [
            " [Elapsed Time: 0:01:41] |###############| [Time:  0:01:41] [Train Acc:   0.84]\n"
          ]
        },
        {
          "metadata": {
            "tags": null
          },
          "name": "stdout",
          "output_type": "stream",
          "text": [
            "Epoch 57:\n",
            "\ttrain\tLoss: 1.3008\tVGG 1:0.99994\tVGG 2:0.77785\tVGG *:0.80567\n",
            "\tval\tLoss: 1.654\tVGG 1:0.93521\tVGG 2:0.76756\tVGG *:0.82261\n",
            "\ttest\tLoss: 1.6455\tVGG 1:0.93275\tVGG 2:0.77124\tVGG *:0.81581\n",
            "Accuracy test VGGA: 0.69264\n",
            "Accuracy test VGGB: 0.82624\n",
            "Accuracy test VGG*: 0.81443\n",
            "Accuracy test VGGSTAR: 0.57458\n",
            "Best accuracy test is: 0.57458\n"
          ]
        },
        {
          "metadata": {
            "tags": null
          },
          "name": "stderr",
          "output_type": "stream",
          "text": [
            " [Elapsed Time: 0:01:41] |###############| [Time:  0:01:41] [Train Acc:  0.836]\n"
          ]
        },
        {
          "metadata": {
            "tags": null
          },
          "name": "stdout",
          "output_type": "stream",
          "text": [
            "Epoch 58:\n",
            "\ttrain\tLoss: 1.2979\tVGG 1:0.99995\tVGG 2:0.77858\tVGG *:0.8045\n",
            "\tval\tLoss: 1.6771\tVGG 1:0.9344\tVGG 2:0.75898\tVGG *:0.82157\n",
            "\ttest\tLoss: 1.6516\tVGG 1:0.93215\tVGG 2:0.77011\tVGG *:0.81996\n",
            "Accuracy test VGGA: 0.68505\n",
            "Accuracy test VGGB: 0.82486\n",
            "Accuracy test VGG*: 0.821\n",
            "Accuracy test VGGSTAR: 0.55431\n",
            "Best accuracy test is: 0.57458\n"
          ]
        },
        {
          "metadata": {
            "tags": null
          },
          "name": "stderr",
          "output_type": "stream",
          "text": [
            " [Elapsed Time: 0:01:41] |###############| [Time:  0:01:41] [Train Acc:   0.84]\n"
          ]
        },
        {
          "metadata": {
            "tags": null
          },
          "name": "stdout",
          "output_type": "stream",
          "text": [
            "Epoch 59:\n",
            "\ttrain\tLoss: 1.2927\tVGG 1:0.99995\tVGG 2:0.78137\tVGG *:0.80485\n",
            "\tval\tLoss: 1.6428\tVGG 1:0.93669\tVGG 2:0.76464\tVGG *:0.82517\n",
            "\ttest\tLoss: 1.6396\tVGG 1:0.93338\tVGG 2:0.77156\tVGG *:0.81891\n",
            "Accuracy test VGGA: 0.69251\n",
            "Accuracy test VGGB: 0.82542\n",
            "Accuracy test VGG*: 0.81936\n",
            "Accuracy test VGGSTAR: 0.51877\n",
            "Best accuracy test is: 0.57458\n"
          ]
        },
        {
          "metadata": {
            "tags": null
          },
          "name": "stderr",
          "output_type": "stream",
          "text": [
            " [Elapsed Time: 0:01:41] |###############| [Time:  0:01:41] [Train Acc:  0.828]\n"
          ]
        },
        {
          "metadata": {
            "tags": null
          },
          "name": "stdout",
          "output_type": "stream",
          "text": [
            "Epoch 60:\n",
            "\ttrain\tLoss: 1.2845\tVGG 1:0.99995\tVGG 2:0.78064\tVGG *:0.80683\n",
            "\tval\tLoss: 1.6774\tVGG 1:0.93521\tVGG 2:0.76297\tVGG *:0.82538\n",
            "\ttest\tLoss: 1.6395\tVGG 1:0.93402\tVGG 2:0.77348\tVGG *:0.81997\n",
            "Accuracy test VGGA: 0.69138\n",
            "Accuracy test VGGB: 0.82631\n",
            "Accuracy test VGG*: 0.8206\n",
            "Accuracy test VGGSTAR: 0.56963\n",
            "Best accuracy test is: 0.57458\n"
          ]
        },
        {
          "metadata": {
            "tags": null
          },
          "name": "stderr",
          "output_type": "stream",
          "text": [
            " [Elapsed Time: 0:01:41] |###############| [Time:  0:01:41] [Train Acc:   0.82]\n"
          ]
        },
        {
          "metadata": {
            "tags": null
          },
          "name": "stdout",
          "output_type": "stream",
          "text": [
            "Epoch 61:\n",
            "\ttrain\tLoss: 1.2874\tVGG 1:0.99994\tVGG 2:0.7818\tVGG *:0.80703\n",
            "\tval\tLoss: 1.639\tVGG 1:0.93481\tVGG 2:0.76733\tVGG *:0.82802\n",
            "\ttest\tLoss: 1.641\tVGG 1:0.93326\tVGG 2:0.77714\tVGG *:0.81588\n",
            "Accuracy test VGGA: 0.69186\n",
            "Accuracy test VGGB: 0.82811\n",
            "Accuracy test VGG*: 0.81478\n",
            "Accuracy test VGGSTAR: 0.56707\n",
            "Best accuracy test is: 0.57458\n"
          ]
        },
        {
          "metadata": {
            "tags": null
          },
          "name": "stderr",
          "output_type": "stream",
          "text": [
            " [Elapsed Time: 0:01:42] |###############| [Time:  0:01:42] [Train Acc:   0.82]\n"
          ]
        },
        {
          "metadata": {
            "tags": null
          },
          "name": "stdout",
          "output_type": "stream",
          "text": [
            "Epoch 62:\n",
            "\ttrain\tLoss: 1.278\tVGG 1:0.99995\tVGG 2:0.78384\tVGG *:0.80709\n",
            "\tval\tLoss: 1.6508\tVGG 1:0.93386\tVGG 2:0.75832\tVGG *:0.82749\n",
            "\ttest\tLoss: 1.6559\tVGG 1:0.93299\tVGG 2:0.76907\tVGG *:0.81853\n",
            "Accuracy test VGGA: 0.6917\n",
            "Accuracy test VGGB: 0.8229\n",
            "Accuracy test VGG*: 0.8176\n",
            "Accuracy test VGGSTAR: 0.57856\n",
            "Best accuracy test is: 0.57856\n"
          ]
        },
        {
          "metadata": {
            "tags": null
          },
          "name": "stderr",
          "output_type": "stream",
          "text": [
            " [Elapsed Time: 0:01:42] |###############| [Time:  0:01:42] [Train Acc:   0.84]\n"
          ]
        },
        {
          "metadata": {
            "tags": null
          },
          "name": "stdout",
          "output_type": "stream",
          "text": [
            "Epoch 63:\n",
            "\ttrain\tLoss: 1.2791\tVGG 1:0.99992\tVGG 2:0.78207\tVGG *:0.8078\n",
            "\tval\tLoss: 1.6392\tVGG 1:0.93413\tVGG 2:0.76316\tVGG *:0.82428\n",
            "\ttest\tLoss: 1.656\tVGG 1:0.93195\tVGG 2:0.7747\tVGG *:0.81829\n",
            "Accuracy test VGGA: 0.68779\n",
            "Accuracy test VGGB: 0.82736\n",
            "Accuracy test VGG*: 0.81406\n",
            "Accuracy test VGGSTAR: 0.53906\n",
            "Best accuracy test is: 0.57856\n"
          ]
        },
        {
          "metadata": {
            "tags": null
          },
          "name": "stderr",
          "output_type": "stream",
          "text": [
            " [Elapsed Time: 0:01:42] |###############| [Time:  0:01:42] [Train Acc:  0.805]\n"
          ]
        },
        {
          "metadata": {
            "tags": null
          },
          "name": "stdout",
          "output_type": "stream",
          "text": [
            "Epoch 64:\n",
            "\ttrain\tLoss: 1.2728\tVGG 1:0.99995\tVGG 2:0.78412\tVGG *:0.80846\n",
            "\tval\tLoss: 1.6663\tVGG 1:0.93481\tVGG 2:0.76243\tVGG *:0.82744\n",
            "\ttest\tLoss: 1.6489\tVGG 1:0.93227\tVGG 2:0.77105\tVGG *:0.82063\n",
            "Accuracy test VGGA: 0.69069\n",
            "Accuracy test VGGB: 0.82393\n",
            "Accuracy test VGG*: 0.82051\n",
            "Accuracy test VGGSTAR: 0.57792\n",
            "Best accuracy test is: 0.57856\n"
          ]
        },
        {
          "metadata": {
            "tags": null
          },
          "name": "stderr",
          "output_type": "stream",
          "text": [
            " [Elapsed Time: 0:01:42] |###############| [Time:  0:01:42] [Train Acc:  0.766]\n"
          ]
        },
        {
          "metadata": {
            "tags": null
          },
          "name": "stdout",
          "output_type": "stream",
          "text": [
            "Epoch 65:\n",
            "\ttrain\tLoss: 1.2732\tVGG 1:0.99998\tVGG 2:0.78263\tVGG *:0.80884\n",
            "\tval\tLoss: 1.6617\tVGG 1:0.93427\tVGG 2:0.75608\tVGG *:0.82538\n",
            "\ttest\tLoss: 1.6567\tVGG 1:0.93386\tVGG 2:0.76813\tVGG *:0.81923\n",
            "Accuracy test VGGA: 0.69162\n",
            "Accuracy test VGGB: 0.82453\n",
            "Accuracy test VGG*: 0.82006\n",
            "Accuracy test VGGSTAR: 0.56489\n",
            "Best accuracy test is: 0.57856\n"
          ]
        },
        {
          "metadata": {
            "tags": null
          },
          "name": "stderr",
          "output_type": "stream",
          "text": [
            " [Elapsed Time: 0:01:42] |###############| [Time:  0:01:42] [Train Acc:   0.84]\n"
          ]
        },
        {
          "metadata": {
            "tags": null
          },
          "name": "stdout",
          "output_type": "stream",
          "text": [
            "Epoch 66:\n",
            "\ttrain\tLoss: 1.2547\tVGG 1:1.0\tVGG 2:0.78691\tVGG *:0.81022\n",
            "\tval\tLoss: 1.6523\tVGG 1:0.93454\tVGG 2:0.77081\tVGG *:0.8296\n",
            "\ttest\tLoss: 1.6974\tVGG 1:0.9325\tVGG 2:0.76148\tVGG *:0.81667\n",
            "Accuracy test VGGA: 0.689\n",
            "Accuracy test VGGB: 0.8165\n",
            "Accuracy test VGG*: 0.81581\n",
            "Accuracy test VGGSTAR: 0.51495\n",
            "Best accuracy test is: 0.57856\n"
          ]
        },
        {
          "metadata": {
            "tags": null
          },
          "name": "stderr",
          "output_type": "stream",
          "text": [
            " [Elapsed Time: 0:01:42] |###############| [Time:  0:01:42] [Train Acc:  0.859]\n"
          ]
        },
        {
          "metadata": {
            "tags": null
          },
          "name": "stdout",
          "output_type": "stream",
          "text": [
            "Epoch 67:\n",
            "\ttrain\tLoss: 1.2558\tVGG 1:0.99994\tVGG 2:0.78656\tVGG *:0.81118\n",
            "\tval\tLoss: 1.6496\tVGG 1:0.93413\tVGG 2:0.76828\tVGG *:0.82643\n",
            "\ttest\tLoss: 1.6376\tVGG 1:0.93315\tVGG 2:0.77437\tVGG *:0.82058\n",
            "Accuracy test VGGA: 0.69275\n",
            "Accuracy test VGGB: 0.82717\n",
            "Accuracy test VGG*: 0.822\n",
            "Accuracy test VGGSTAR: 0.58269\n",
            "Best accuracy test is: 0.58269\n"
          ]
        },
        {
          "metadata": {
            "tags": null
          },
          "name": "stderr",
          "output_type": "stream",
          "text": [
            " [Elapsed Time: 0:01:42] |###############| [Time:  0:01:42] [Train Acc:  0.852]\n"
          ]
        },
        {
          "metadata": {
            "tags": null
          },
          "name": "stdout",
          "output_type": "stream",
          "text": [
            "Epoch 68:\n",
            "\ttrain\tLoss: 1.2627\tVGG 1:0.99995\tVGG 2:0.78507\tVGG *:0.81075\n",
            "\tval\tLoss: 1.6464\tVGG 1:0.93454\tVGG 2:0.76006\tVGG *:0.82812\n",
            "\ttest\tLoss: 1.6373\tVGG 1:0.93372\tVGG 2:0.77637\tVGG *:0.8174\n",
            "Accuracy test VGGA: 0.69541\n",
            "Accuracy test VGGB: 0.83154\n",
            "Accuracy test VGG*: 0.81851\n",
            "Accuracy test VGGSTAR: 0.60167\n",
            "Best accuracy test is: 0.60167\n"
          ]
        },
        {
          "metadata": {
            "tags": null
          },
          "name": "stderr",
          "output_type": "stream",
          "text": [
            " [Elapsed Time: 0:01:41] |###############| [Time:  0:01:41] [Train Acc:  0.828]\n"
          ]
        },
        {
          "metadata": {
            "tags": null
          },
          "name": "stdout",
          "output_type": "stream",
          "text": [
            "Epoch 69:\n",
            "\ttrain\tLoss: 1.2485\tVGG 1:0.99992\tVGG 2:0.78791\tVGG *:0.81218\n",
            "\tval\tLoss: 1.6361\tVGG 1:0.93279\tVGG 2:0.76483\tVGG *:0.827\n",
            "\ttest\tLoss: 1.6282\tVGG 1:0.93353\tVGG 2:0.77419\tVGG *:0.82214\n",
            "Accuracy test VGGA: 0.69374\n",
            "Accuracy test VGGB: 0.83135\n",
            "Accuracy test VGG*: 0.82031\n",
            "Accuracy test VGGSTAR: 0.64214\n",
            "Best accuracy test is: 0.64214\n"
          ]
        },
        {
          "metadata": {
            "tags": null
          },
          "name": "stderr",
          "output_type": "stream",
          "text": [
            " [Elapsed Time: 0:01:41] |###############| [Time:  0:01:41] [Train Acc:  0.793]\n"
          ]
        },
        {
          "metadata": {
            "tags": null
          },
          "name": "stdout",
          "output_type": "stream",
          "text": [
            "Epoch 70:\n",
            "\ttrain\tLoss: 1.2569\tVGG 1:0.99994\tVGG 2:0.78559\tVGG *:0.81077\n",
            "\tval\tLoss: 1.6578\tVGG 1:0.9344\tVGG 2:0.76189\tVGG *:0.82716\n",
            "\ttest\tLoss: 1.6401\tVGG 1:0.93294\tVGG 2:0.77469\tVGG *:0.82283\n",
            "Accuracy test VGGA: 0.69072\n",
            "Accuracy test VGGB: 0.82484\n",
            "Accuracy test VGG*: 0.82125\n",
            "Accuracy test VGGSTAR: 0.61112\n",
            "Best accuracy test is: 0.64214\n"
          ]
        },
        {
          "metadata": {
            "tags": null
          },
          "name": "stderr",
          "output_type": "stream",
          "text": [
            " [Elapsed Time: 0:01:41] |###############| [Time:  0:01:41] [Train Acc:   0.84]\n"
          ]
        },
        {
          "metadata": {
            "tags": null
          },
          "name": "stdout",
          "output_type": "stream",
          "text": [
            "Epoch 71:\n",
            "\ttrain\tLoss: 1.2496\tVGG 1:0.99997\tVGG 2:0.7872\tVGG *:0.81252\n",
            "\tval\tLoss: 1.642\tVGG 1:0.934\tVGG 2:0.76728\tVGG *:0.82919\n",
            "\ttest\tLoss: 1.6321\tVGG 1:0.93353\tVGG 2:0.77582\tVGG *:0.82105\n",
            "Accuracy test VGGA: 0.68957\n",
            "Accuracy test VGGB: 0.82873\n",
            "Accuracy test VGG*: 0.82057\n",
            "Accuracy test VGGSTAR: 0.62552\n",
            "Best accuracy test is: 0.64214\n"
          ]
        },
        {
          "metadata": {
            "tags": null
          },
          "name": "stderr",
          "output_type": "stream",
          "text": [
            " [Elapsed Time: 0:01:42] |###############| [Time:  0:01:42] [Train Acc:  0.812]\n"
          ]
        },
        {
          "metadata": {
            "tags": null
          },
          "name": "stdout",
          "output_type": "stream",
          "text": [
            "Epoch 72:\n",
            "\ttrain\tLoss: 1.245\tVGG 1:0.99995\tVGG 2:0.78738\tVGG *:0.81275\n",
            "\tval\tLoss: 1.6516\tVGG 1:0.93615\tVGG 2:0.7651\tVGG *:0.82906\n",
            "\ttest\tLoss: 1.6707\tVGG 1:0.93307\tVGG 2:0.76768\tVGG *:0.82018\n",
            "Accuracy test VGGA: 0.69003\n",
            "Accuracy test VGGB: 0.82131\n",
            "Accuracy test VGG*: 0.82084\n",
            "Accuracy test VGGSTAR: 0.58279\n",
            "Best accuracy test is: 0.64214\n"
          ]
        },
        {
          "metadata": {
            "tags": null
          },
          "name": "stderr",
          "output_type": "stream",
          "text": [
            " [Elapsed Time: 0:01:42] |###############| [Time:  0:01:42] [Train Acc:  0.855]\n"
          ]
        },
        {
          "metadata": {
            "tags": null
          },
          "name": "stdout",
          "output_type": "stream",
          "text": [
            "Epoch 73:\n",
            "\ttrain\tLoss: 1.2417\tVGG 1:0.99995\tVGG 2:0.78847\tVGG *:0.81255\n",
            "\tval\tLoss: 1.6429\tVGG 1:0.93629\tVGG 2:0.76039\tVGG *:0.82727\n",
            "\ttest\tLoss: 1.6391\tVGG 1:0.93279\tVGG 2:0.77542\tVGG *:0.82215\n",
            "Accuracy test VGGA: 0.68934\n",
            "Accuracy test VGGB: 0.82637\n",
            "Accuracy test VGG*: 0.82301\n",
            "Accuracy test VGGSTAR: 0.60983\n",
            "Best accuracy test is: 0.64214\n"
          ]
        },
        {
          "metadata": {
            "tags": null
          },
          "name": "stderr",
          "output_type": "stream",
          "text": [
            " [Elapsed Time: 0:01:42] |###############| [Time:  0:01:42] [Train Acc:  0.844]\n"
          ]
        },
        {
          "metadata": {
            "tags": null
          },
          "name": "stdout",
          "output_type": "stream",
          "text": [
            "Epoch 74:\n",
            "\ttrain\tLoss: 1.2366\tVGG 1:0.99994\tVGG 2:0.79025\tVGG *:0.81311\n",
            "\tval\tLoss: 1.6806\tVGG 1:0.93292\tVGG 2:0.76008\tVGG *:0.82545\n",
            "\ttest\tLoss: 1.6473\tVGG 1:0.93197\tVGG 2:0.77496\tVGG *:0.82436\n",
            "Accuracy test VGGA: 0.68946\n",
            "Accuracy test VGGB: 0.82599\n",
            "Accuracy test VGG*: 0.82432\n",
            "Accuracy test VGGSTAR: 0.61239\n",
            "Best accuracy test is: 0.64214\n"
          ]
        },
        {
          "metadata": {
            "tags": null
          },
          "name": "stderr",
          "output_type": "stream",
          "text": [
            " [Elapsed Time: 0:01:42] |###############| [Time:  0:01:42] [Train Acc:  0.855]\n"
          ]
        },
        {
          "metadata": {
            "tags": null
          },
          "name": "stdout",
          "output_type": "stream",
          "text": [
            "Epoch 75:\n",
            "\ttrain\tLoss: 1.2375\tVGG 1:0.99991\tVGG 2:0.78926\tVGG *:0.81346\n",
            "\tval\tLoss: 1.6606\tVGG 1:0.93332\tVGG 2:0.76249\tVGG *:0.83012\n",
            "\ttest\tLoss: 1.7056\tVGG 1:0.93238\tVGG 2:0.76072\tVGG *:0.81736\n",
            "Accuracy test VGGA: 0.68969\n",
            "Accuracy test VGGB: 0.82013\n",
            "Accuracy test VGG*: 0.82002\n",
            "Accuracy test VGGSTAR: 0.58775\n",
            "Best accuracy test is: 0.64214\n"
          ]
        },
        {
          "metadata": {
            "tags": null
          },
          "name": "stderr",
          "output_type": "stream",
          "text": [
            " [Elapsed Time: 0:01:41] |###############| [Time:  0:01:41] [Train Acc:  0.852]\n"
          ]
        },
        {
          "metadata": {
            "tags": null
          },
          "name": "stdout",
          "output_type": "stream",
          "text": [
            "Epoch 76:\n",
            "\ttrain\tLoss: 1.2339\tVGG 1:0.99994\tVGG 2:0.79219\tVGG *:0.81422\n",
            "\tval\tLoss: 1.6354\tVGG 1:0.93494\tVGG 2:0.76933\tVGG *:0.82959\n",
            "\ttest\tLoss: 1.6498\tVGG 1:0.93334\tVGG 2:0.77222\tVGG *:0.82074\n",
            "Accuracy test VGGA: 0.69081\n",
            "Accuracy test VGGB: 0.83019\n",
            "Accuracy test VGG*: 0.8207\n",
            "Accuracy test VGGSTAR: 0.60238\n",
            "Best accuracy test is: 0.64214\n"
          ]
        },
        {
          "metadata": {
            "tags": null
          },
          "name": "stderr",
          "output_type": "stream",
          "text": [
            " [Elapsed Time: 0:01:41] |###############| [Time:  0:01:41] [Train Acc:  0.797]\n"
          ]
        },
        {
          "metadata": {
            "tags": null
          },
          "name": "stdout",
          "output_type": "stream",
          "text": [
            "Epoch 77:\n",
            "\ttrain\tLoss: 1.2268\tVGG 1:0.99997\tVGG 2:0.79119\tVGG *:0.81606\n",
            "\tval\tLoss: 1.6122\tVGG 1:0.93467\tVGG 2:0.77143\tVGG *:0.83506\n",
            "\ttest\tLoss: 1.644\tVGG 1:0.93367\tVGG 2:0.76557\tVGG *:0.82221\n",
            "Accuracy test VGGA: 0.69226\n",
            "Accuracy test VGGB: 0.82387\n",
            "Accuracy test VGG*: 0.82469\n",
            "Accuracy test VGGSTAR: 0.63938\n",
            "Best accuracy test is: 0.64214\n"
          ]
        },
        {
          "metadata": {
            "tags": null
          },
          "name": "stderr",
          "output_type": "stream",
          "text": [
            " [Elapsed Time: 0:01:41] |###############| [Time:  0:01:41] [Train Acc:  0.809]\n"
          ]
        },
        {
          "metadata": {
            "tags": null
          },
          "name": "stdout",
          "output_type": "stream",
          "text": [
            "Epoch 78:\n",
            "\ttrain\tLoss: 1.2263\tVGG 1:0.99997\tVGG 2:0.79125\tVGG *:0.81511\n",
            "\tval\tLoss: 1.6318\tVGG 1:0.93602\tVGG 2:0.76628\tVGG *:0.83071\n",
            "\ttest\tLoss: 1.636\tVGG 1:0.93333\tVGG 2:0.77438\tVGG *:0.82428\n",
            "Accuracy test VGGA: 0.68845\n",
            "Accuracy test VGGB: 0.82479\n",
            "Accuracy test VGG*: 0.82535\n",
            "Accuracy test VGGSTAR: 0.62388\n",
            "Best accuracy test is: 0.64214\n"
          ]
        },
        {
          "metadata": {
            "tags": null
          },
          "name": "stderr",
          "output_type": "stream",
          "text": [
            " [Elapsed Time: 0:01:41] |###############| [Time:  0:01:41] [Train Acc:  0.855]\n"
          ]
        },
        {
          "metadata": {
            "tags": null
          },
          "name": "stdout",
          "output_type": "stream",
          "text": [
            "Epoch 79:\n",
            "\ttrain\tLoss: 1.2277\tVGG 1:0.99998\tVGG 2:0.79194\tVGG *:0.81497\n",
            "\tval\tLoss: 1.6357\tVGG 1:0.93198\tVGG 2:0.7661\tVGG *:0.8312\n",
            "\ttest\tLoss: 1.703\tVGG 1:0.93169\tVGG 2:0.75844\tVGG *:0.82116\n",
            "Accuracy test VGGA: 0.68657\n",
            "Accuracy test VGGB: 0.81802\n",
            "Accuracy test VGG*: 0.8241\n",
            "Accuracy test VGGSTAR: 0.60609\n",
            "Best accuracy test is: 0.64214\n"
          ]
        },
        {
          "metadata": {
            "tags": null
          },
          "name": "stderr",
          "output_type": "stream",
          "text": [
            " [Elapsed Time: 0:01:41] |###############| [Time:  0:01:41] [Train Acc:  0.785]\n"
          ]
        },
        {
          "metadata": {
            "tags": null
          },
          "name": "stdout",
          "output_type": "stream",
          "text": [
            "Epoch 80:\n",
            "\ttrain\tLoss: 1.2213\tVGG 1:0.99997\tVGG 2:0.79163\tVGG *:0.81682\n",
            "\tval\tLoss: 1.6321\tVGG 1:0.93117\tVGG 2:0.77181\tVGG *:0.83162\n",
            "\ttest\tLoss: 1.6504\tVGG 1:0.93142\tVGG 2:0.7747\tVGG *:0.82075\n",
            "Accuracy test VGGA: 0.6884\n",
            "Accuracy test VGGB: 0.82807\n",
            "Accuracy test VGG*: 0.82056\n",
            "Accuracy test VGGSTAR: 0.61763\n",
            "Best accuracy test is: 0.64214\n"
          ]
        },
        {
          "metadata": {
            "tags": null
          },
          "name": "stderr",
          "output_type": "stream",
          "text": [
            " [Elapsed Time: 0:01:41] |###############| [Time:  0:01:41] [Train Acc:  0.832]\n"
          ]
        },
        {
          "metadata": {
            "tags": null
          },
          "name": "stdout",
          "output_type": "stream",
          "text": [
            "Epoch 81:\n",
            "\ttrain\tLoss: 1.21\tVGG 1:0.99994\tVGG 2:0.79513\tVGG *:0.81764\n",
            "\tval\tLoss: 1.6552\tVGG 1:0.93481\tVGG 2:0.76439\tVGG *:0.8273\n",
            "\ttest\tLoss: 1.6599\tVGG 1:0.93322\tVGG 2:0.76999\tVGG *:0.82274\n",
            "Accuracy test VGGA: 0.6904\n",
            "Accuracy test VGGB: 0.8221\n",
            "Accuracy test VGG*: 0.82191\n",
            "Accuracy test VGGSTAR: 0.63975\n",
            "Best accuracy test is: 0.64214\n"
          ]
        },
        {
          "metadata": {
            "tags": null
          },
          "name": "stderr",
          "output_type": "stream",
          "text": [
            " [Elapsed Time: 0:01:41] |###############| [Time:  0:01:41] [Train Acc:  0.867]\n"
          ]
        },
        {
          "metadata": {
            "tags": null
          },
          "name": "stdout",
          "output_type": "stream",
          "text": [
            "Epoch 82:\n",
            "\ttrain\tLoss: 1.2151\tVGG 1:0.99994\tVGG 2:0.79336\tVGG *:0.817\n",
            "\tval\tLoss: 1.637\tVGG 1:0.93494\tVGG 2:0.76836\tVGG *:0.83236\n",
            "\ttest\tLoss: 1.6731\tVGG 1:0.93276\tVGG 2:0.76856\tVGG *:0.82087\n",
            "Accuracy test VGGA: 0.69094\n",
            "Accuracy test VGGB: 0.82329\n",
            "Accuracy test VGG*: 0.82028\n",
            "Accuracy test VGGSTAR: 0.66944\n",
            "Best accuracy test is: 0.66944\n"
          ]
        },
        {
          "metadata": {
            "tags": null
          },
          "name": "stderr",
          "output_type": "stream",
          "text": [
            " [Elapsed Time: 0:01:41] |###############| [Time:  0:01:41] [Train Acc:  0.848]\n"
          ]
        },
        {
          "metadata": {
            "tags": null
          },
          "name": "stdout",
          "output_type": "stream",
          "text": [
            "Epoch 83:\n",
            "\ttrain\tLoss: 1.2126\tVGG 1:0.99998\tVGG 2:0.79292\tVGG *:0.81711\n",
            "\tval\tLoss: 1.6501\tVGG 1:0.93588\tVGG 2:0.7652\tVGG *:0.83012\n",
            "\ttest\tLoss: 1.6418\tVGG 1:0.93403\tVGG 2:0.76768\tVGG *:0.82742\n",
            "Accuracy test VGGA: 0.69357\n",
            "Accuracy test VGGB: 0.8216\n",
            "Accuracy test VGG*: 0.82791\n",
            "Accuracy test VGGSTAR: 0.63965\n",
            "Best accuracy test is: 0.66944\n"
          ]
        },
        {
          "metadata": {
            "tags": null
          },
          "name": "stderr",
          "output_type": "stream",
          "text": [
            " [Elapsed Time: 0:01:41] |###############| [Time:  0:01:41] [Train Acc:  0.832]\n"
          ]
        },
        {
          "metadata": {
            "tags": null
          },
          "name": "stdout",
          "output_type": "stream",
          "text": [
            "Epoch 84:\n",
            "\ttrain\tLoss: 1.2092\tVGG 1:0.99998\tVGG 2:0.79481\tVGG *:0.81824\n",
            "\tval\tLoss: 1.6656\tVGG 1:0.93602\tVGG 2:0.76054\tVGG *:0.82922\n",
            "\ttest\tLoss: 1.6364\tVGG 1:0.93336\tVGG 2:0.77621\tVGG *:0.82511\n",
            "Accuracy test VGGA: 0.69261\n",
            "Accuracy test VGGB: 0.82894\n",
            "Accuracy test VGG*: 0.82463\n",
            "Accuracy test VGGSTAR: 0.65089\n",
            "Best accuracy test is: 0.66944\n"
          ]
        },
        {
          "metadata": {
            "tags": null
          },
          "name": "stderr",
          "output_type": "stream",
          "text": [
            " [Elapsed Time: 0:01:41] |###############| [Time:  0:01:41] [Train Acc:  0.812]\n"
          ]
        },
        {
          "metadata": {
            "tags": null
          },
          "name": "stdout",
          "output_type": "stream",
          "text": [
            "Epoch 85:\n",
            "\ttrain\tLoss: 1.208\tVGG 1:0.99998\tVGG 2:0.79282\tVGG *:0.81907\n",
            "\tval\tLoss: 1.6239\tVGG 1:0.93602\tVGG 2:0.76596\tVGG *:0.83441\n",
            "\ttest\tLoss: 1.6368\tVGG 1:0.93368\tVGG 2:0.77645\tVGG *:0.82491\n",
            "Accuracy test VGGA: 0.69214\n",
            "Accuracy test VGGB: 0.82642\n",
            "Accuracy test VGG*: 0.82425\n",
            "Accuracy test VGGSTAR: 0.65375\n",
            "Best accuracy test is: 0.66944\n"
          ]
        },
        {
          "metadata": {
            "tags": null
          },
          "name": "stderr",
          "output_type": "stream",
          "text": [
            " [Elapsed Time: 0:01:41] |###############| [Time:  0:01:41] [Train Acc:  0.863]\n"
          ]
        },
        {
          "metadata": {
            "tags": null
          },
          "name": "stdout",
          "output_type": "stream",
          "text": [
            "Epoch 86:\n",
            "\ttrain\tLoss: 1.203\tVGG 1:0.99997\tVGG 2:0.79519\tVGG *:0.81877\n",
            "\tval\tLoss: 1.6207\tVGG 1:0.93615\tVGG 2:0.77011\tVGG *:0.83377\n",
            "\ttest\tLoss: 1.6506\tVGG 1:0.9333\tVGG 2:0.77159\tVGG *:0.82071\n",
            "Accuracy test VGGA: 0.68982\n",
            "Accuracy test VGGB: 0.82792\n",
            "Accuracy test VGG*: 0.82054\n",
            "Accuracy test VGGSTAR: 0.63488\n",
            "Best accuracy test is: 0.66944\n"
          ]
        },
        {
          "metadata": {
            "tags": null
          },
          "name": "stderr",
          "output_type": "stream",
          "text": [
            " [Elapsed Time: 0:01:41] |###############| [Time:  0:01:41] [Train Acc:  0.809]\n"
          ]
        },
        {
          "metadata": {
            "tags": null
          },
          "name": "stdout",
          "output_type": "stream",
          "text": [
            "Epoch 87:\n",
            "\ttrain\tLoss: 1.2014\tVGG 1:1.0\tVGG 2:0.79642\tVGG *:0.81944\n",
            "\tval\tLoss: 1.6802\tVGG 1:0.93467\tVGG 2:0.75752\tVGG *:0.82822\n",
            "\ttest\tLoss: 1.6468\tVGG 1:0.93361\tVGG 2:0.77492\tVGG *:0.8273\n",
            "Accuracy test VGGA: 0.69033\n",
            "Accuracy test VGGB: 0.83034\n",
            "Accuracy test VGG*: 0.82422\n",
            "Accuracy test VGGSTAR: 0.63451\n",
            "Best accuracy test is: 0.66944\n"
          ]
        },
        {
          "metadata": {
            "tags": null
          },
          "name": "stderr",
          "output_type": "stream",
          "text": [
            " [Elapsed Time: 0:01:41] |###############| [Time:  0:01:41] [Train Acc:   0.82]\n"
          ]
        },
        {
          "metadata": {
            "tags": null
          },
          "name": "stdout",
          "output_type": "stream",
          "text": [
            "Epoch 88:\n",
            "\ttrain\tLoss: 1.2009\tVGG 1:0.99997\tVGG 2:0.79522\tVGG *:0.82049\n",
            "\tval\tLoss: 1.6573\tVGG 1:0.93696\tVGG 2:0.76472\tVGG *:0.83088\n",
            "\ttest\tLoss: 1.6591\tVGG 1:0.93322\tVGG 2:0.7697\tVGG *:0.82442\n",
            "Accuracy test VGGA: 0.68993\n",
            "Accuracy test VGGB: 0.82896\n",
            "Accuracy test VGG*: 0.82469\n",
            "Accuracy test VGGSTAR: 0.64444\n",
            "Best accuracy test is: 0.66944\n"
          ]
        },
        {
          "metadata": {
            "tags": null
          },
          "name": "stderr",
          "output_type": "stream",
          "text": [
            " [Elapsed Time: 0:01:41] |###############| [Time:  0:01:41] [Train Acc:  0.836]\n"
          ]
        },
        {
          "metadata": {
            "tags": null
          },
          "name": "stdout",
          "output_type": "stream",
          "text": [
            "Epoch 89:\n",
            "\ttrain\tLoss: 1.1999\tVGG 1:0.99992\tVGG 2:0.7951\tVGG *:0.81979\n",
            "\tval\tLoss: 1.6233\tVGG 1:0.93763\tVGG 2:0.77016\tVGG *:0.83271\n",
            "\ttest\tLoss: 1.6629\tVGG 1:0.93319\tVGG 2:0.77127\tVGG *:0.82249\n",
            "Accuracy test VGGA: 0.6906\n",
            "Accuracy test VGGB: 0.82306\n",
            "Accuracy test VGG*: 0.82424\n",
            "Accuracy test VGGSTAR: 0.64112\n",
            "Best accuracy test is: 0.66944\n"
          ]
        },
        {
          "metadata": {
            "tags": null
          },
          "name": "stderr",
          "output_type": "stream",
          "text": [
            " [Elapsed Time: 0:01:41] |###############| [Time:  0:01:41] [Train Acc:  0.848]\n"
          ]
        },
        {
          "metadata": {
            "tags": null
          },
          "name": "stdout",
          "output_type": "stream",
          "text": [
            "Epoch 90:\n",
            "\ttrain\tLoss: 1.1961\tVGG 1:0.99995\tVGG 2:0.7966\tVGG *:0.8199\n",
            "\tval\tLoss: 1.6416\tVGG 1:0.93413\tVGG 2:0.76647\tVGG *:0.83488\n",
            "\ttest\tLoss: 1.6726\tVGG 1:0.93276\tVGG 2:0.76767\tVGG *:0.82385\n",
            "Accuracy test VGGA: 0.69032\n",
            "Accuracy test VGGB: 0.8248\n",
            "Accuracy test VGG*: 0.82427\n",
            "Accuracy test VGGSTAR: 0.63517\n",
            "Best accuracy test is: 0.66944\n"
          ]
        },
        {
          "metadata": {
            "tags": null
          },
          "name": "stderr",
          "output_type": "stream",
          "text": [
            " [Elapsed Time: 0:01:41] |###############| [Time:  0:01:41] [Train Acc:  0.828]\n"
          ]
        },
        {
          "metadata": {
            "tags": null
          },
          "name": "stdout",
          "output_type": "stream",
          "text": [
            "Epoch 91:\n",
            "\ttrain\tLoss: 1.1987\tVGG 1:0.99997\tVGG 2:0.79568\tVGG *:0.81961\n",
            "\tval\tLoss: 1.6231\tVGG 1:0.93588\tVGG 2:0.77076\tVGG *:0.83493\n",
            "\ttest\tLoss: 1.6389\tVGG 1:0.93284\tVGG 2:0.77468\tVGG *:0.824\n",
            "Accuracy test VGGA: 0.68751\n",
            "Accuracy test VGGB: 0.82989\n",
            "Accuracy test VGG*: 0.82449\n",
            "Accuracy test VGGSTAR: 0.65863\n",
            "Best accuracy test is: 0.66944\n"
          ]
        },
        {
          "metadata": {
            "tags": null
          },
          "name": "stderr",
          "output_type": "stream",
          "text": [
            " [Elapsed Time: 0:01:41] |###############| [Time:  0:01:41] [Train Acc:  0.852]\n"
          ]
        },
        {
          "metadata": {
            "tags": null
          },
          "name": "stdout",
          "output_type": "stream",
          "text": [
            "Epoch 92:\n",
            "\ttrain\tLoss: 1.1851\tVGG 1:0.99995\tVGG 2:0.7983\tVGG *:0.82208\n",
            "\tval\tLoss: 1.6569\tVGG 1:0.93588\tVGG 2:0.76406\tVGG *:0.83134\n",
            "\ttest\tLoss: 1.6574\tVGG 1:0.93329\tVGG 2:0.77889\tVGG *:0.82167\n",
            "Accuracy test VGGA: 0.68937\n",
            "Accuracy test VGGB: 0.83142\n",
            "Accuracy test VGG*: 0.82192\n",
            "Accuracy test VGGSTAR: 0.64798\n",
            "Best accuracy test is: 0.66944\n"
          ]
        },
        {
          "metadata": {
            "tags": null
          },
          "name": "stderr",
          "output_type": "stream",
          "text": [
            " [Elapsed Time: 0:01:41] |###############| [Time:  0:01:41] [Train Acc:  0.828]\n"
          ]
        },
        {
          "metadata": {
            "tags": null
          },
          "name": "stdout",
          "output_type": "stream",
          "text": [
            "Epoch 93:\n",
            "\ttrain\tLoss: 1.1869\tVGG 1:0.99995\tVGG 2:0.79827\tVGG *:0.8204\n",
            "\tval\tLoss: 1.64\tVGG 1:0.93588\tVGG 2:0.76305\tVGG *:0.83383\n",
            "\ttest\tLoss: 1.6581\tVGG 1:0.93273\tVGG 2:0.77327\tVGG *:0.82453\n",
            "Accuracy test VGGA: 0.69\n",
            "Accuracy test VGGB: 0.81866\n",
            "Accuracy test VGG*: 0.8226\n",
            "Accuracy test VGGSTAR: 0.65036\n",
            "Best accuracy test is: 0.66944\n"
          ]
        },
        {
          "metadata": {
            "tags": null
          },
          "name": "stderr",
          "output_type": "stream",
          "text": [
            " [Elapsed Time: 0:01:41] |###############| [Time:  0:01:41] [Train Acc:  0.824]\n"
          ]
        },
        {
          "metadata": {
            "tags": null
          },
          "name": "stdout",
          "output_type": "stream",
          "text": [
            "Epoch 94:\n",
            "\ttrain\tLoss: 1.1863\tVGG 1:0.99995\tVGG 2:0.7981\tVGG *:0.82128\n",
            "\tval\tLoss: 1.6245\tVGG 1:0.93777\tVGG 2:0.77046\tVGG *:0.83461\n",
            "\ttest\tLoss: 1.6329\tVGG 1:0.93382\tVGG 2:0.77248\tVGG *:0.82823\n",
            "Accuracy test VGGA: 0.69116\n",
            "Accuracy test VGGB: 0.82629\n",
            "Accuracy test VGG*: 0.82663\n",
            "Accuracy test VGGSTAR: 0.65519\n",
            "Best accuracy test is: 0.66944\n"
          ]
        },
        {
          "metadata": {
            "tags": null
          },
          "name": "stderr",
          "output_type": "stream",
          "text": [
            " [Elapsed Time: 0:01:41] |###############| [Time:  0:01:41] [Train Acc:  0.844]\n"
          ]
        },
        {
          "metadata": {
            "tags": null
          },
          "name": "stdout",
          "output_type": "stream",
          "text": [
            "Epoch 95:\n",
            "\ttrain\tLoss: 1.1868\tVGG 1:0.99997\tVGG 2:0.79678\tVGG *:0.82151\n",
            "\tval\tLoss: 1.6292\tVGG 1:0.93494\tVGG 2:0.77114\tVGG *:0.83293\n",
            "\ttest\tLoss: 1.6462\tVGG 1:0.93371\tVGG 2:0.77344\tVGG *:0.82328\n",
            "Accuracy test VGGA: 0.69105\n",
            "Accuracy test VGGB: 0.82561\n",
            "Accuracy test VGG*: 0.82219\n",
            "Accuracy test VGGSTAR: 0.69207\n",
            "Best accuracy test is: 0.69207\n"
          ]
        },
        {
          "metadata": {
            "tags": null
          },
          "name": "stderr",
          "output_type": "stream",
          "text": [
            " [Elapsed Time: 0:01:41] |###############| [Time:  0:01:41] [Train Acc:  0.832]\n"
          ]
        },
        {
          "metadata": {
            "tags": null
          },
          "name": "stdout",
          "output_type": "stream",
          "text": [
            "Epoch 96:\n",
            "\ttrain\tLoss: 1.1814\tVGG 1:0.99995\tVGG 2:0.79909\tVGG *:0.82134\n",
            "\tval\tLoss: 1.6335\tVGG 1:0.93575\tVGG 2:0.76804\tVGG *:0.83281\n",
            "\ttest\tLoss: 1.6293\tVGG 1:0.93414\tVGG 2:0.77811\tVGG *:0.82896\n",
            "Accuracy test VGGA: 0.69156\n",
            "Accuracy test VGGB: 0.82836\n",
            "Accuracy test VGG*: 0.82607\n",
            "Accuracy test VGGSTAR: 0.66392\n",
            "Best accuracy test is: 0.69207\n"
          ]
        },
        {
          "metadata": {
            "tags": null
          },
          "name": "stderr",
          "output_type": "stream",
          "text": [
            " [Elapsed Time: 0:01:41] |###############| [Time:  0:01:41] [Train Acc:  0.832]\n"
          ]
        },
        {
          "metadata": {
            "tags": null
          },
          "name": "stdout",
          "output_type": "stream",
          "text": [
            "Epoch 97:\n",
            "\ttrain\tLoss: 1.179\tVGG 1:0.99997\tVGG 2:0.79836\tVGG *:0.82191\n",
            "\tval\tLoss: 1.674\tVGG 1:0.93494\tVGG 2:0.75901\tVGG *:0.82781\n",
            "\ttest\tLoss: 1.6745\tVGG 1:0.93409\tVGG 2:0.76991\tVGG *:0.82375\n",
            "Accuracy test VGGA: 0.6941\n",
            "Accuracy test VGGB: 0.81882\n",
            "Accuracy test VGG*: 0.82507\n",
            "Accuracy test VGGSTAR: 0.63496\n",
            "Best accuracy test is: 0.69207\n"
          ]
        },
        {
          "metadata": {
            "tags": null
          },
          "name": "stderr",
          "output_type": "stream",
          "text": [
            " [Elapsed Time: 0:01:41] |###############| [Time:  0:01:41] [Train Acc:  0.824]\n"
          ]
        },
        {
          "metadata": {
            "tags": null
          },
          "name": "stdout",
          "output_type": "stream",
          "text": [
            "Epoch 98:\n",
            "\ttrain\tLoss: 1.1842\tVGG 1:0.99995\tVGG 2:0.7985\tVGG *:0.82044\n",
            "\tval\tLoss: 1.6348\tVGG 1:0.93737\tVGG 2:0.76771\tVGG *:0.82965\n",
            "\ttest\tLoss: 1.6401\tVGG 1:0.93372\tVGG 2:0.77655\tVGG *:0.8252\n",
            "Accuracy test VGGA: 0.68926\n",
            "Accuracy test VGGB: 0.82399\n",
            "Accuracy test VGG*: 0.82557\n",
            "Accuracy test VGGSTAR: 0.68179\n",
            "Best accuracy test is: 0.69207\n"
          ]
        },
        {
          "metadata": {
            "tags": null
          },
          "name": "stderr",
          "output_type": "stream",
          "text": [
            " [Elapsed Time: 0:01:41] |###############| [Time:  0:01:41] [Train Acc:  0.855]\n"
          ]
        },
        {
          "output_type": "stream",
          "name": "stdout",
          "text": [
            "Epoch 99:\n",
            "\ttrain\tLoss: 1.1726\tVGG 1:0.99998\tVGG 2:0.79885\tVGG *:0.82305\n",
            "\tval\tLoss: 1.6358\tVGG 1:0.93494\tVGG 2:0.76687\tVGG *:0.83451\n",
            "\ttest\tLoss: 1.6336\tVGG 1:0.93353\tVGG 2:0.77302\tVGG *:0.82749\n",
            "Accuracy test VGGA: 0.69012\n",
            "Accuracy test VGGB: 0.82148\n",
            "Accuracy test VGG*: 0.82492\n",
            "Accuracy test VGGSTAR: 0.66764\n",
            "Best accuracy test is: 0.69207\n"
          ]
        },
        {
          "output_type": "stream",
          "name": "stderr",
          "text": [
            " [Elapsed Time: 0:01:41] |###############| [Time:  0:01:41] [Train Acc:  0.887]\n"
          ]
        },
        {
          "output_type": "stream",
          "name": "stdout",
          "text": [
            "Epoch 100:\n",
            "\ttrain\tLoss: 1.1676\tVGG 1:0.99998\tVGG 2:0.80042\tVGG *:0.82316\n",
            "\tval\tLoss: 1.6514\tVGG 1:0.93588\tVGG 2:0.76348\tVGG *:0.83262\n",
            "\ttest\tLoss: 1.6708\tVGG 1:0.93403\tVGG 2:0.77102\tVGG *:0.82355\n",
            "Accuracy test VGGA: 0.69239\n",
            "Accuracy test VGGB: 0.82507\n",
            "Accuracy test VGG*: 0.82521\n",
            "Accuracy test VGGSTAR: 0.63931\n",
            "Best accuracy test is: 0.69207\n"
          ]
        },
        {
          "output_type": "display_data",
          "data": {
            "image/png": "[encoded data removed]",
            "text/plain": [
              "<Figure size 432x288 with 1 Axes>"
            ]
          },
          "metadata": {
            "needs_background": "light"
          }
        }
      ]
    },
    {
      "cell_type": "code",
      "metadata": {
        "id": "17iFosfxPVrL"
      },
      "source": [
        ""
      ],
      "execution_count": null,
      "outputs": []
    }
  ]
}
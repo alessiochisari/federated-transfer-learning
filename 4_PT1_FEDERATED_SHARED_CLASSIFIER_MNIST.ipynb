{
  "nbformat": 4,
  "nbformat_minor": 0,
  "metadata": {
    "accelerator": "GPU",
    "colab": {
      "name": "4 VALERIO PT1 FEDERATED SHARED CLASSIFIER MNIST.ipynb",
      "provenance": [],
      "collapsed_sections": []
    },
    "kernelspec": {
      "display_name": "Python 3",
      "language": "python",
      "name": "python3"
    },
    "language_info": {
      "codemirror_mode": {
        "name": "ipython",
        "version": 3
      },
      "file_extension": ".py",
      "mimetype": "text/x-python",
      "name": "python",
      "nbconvert_exporter": "python",
      "pygments_lexer": "ipython3",
      "version": "3.7.10"
    }
  },
  "cells": [
    {
      "cell_type": "code",
      "metadata": {
        "colab": {
          "base_uri": "https://localhost:8080/"
        },
        "id": "1CoZql1KasRX",
        "outputId": "a7f5ba10-7262-41fe-e546-86bc43e10799"
      },
      "source": [
        "!pip install --upgrade progressbar2"
      ],
      "execution_count": null,
      "outputs": [
        {
          "output_type": "stream",
          "text": [
            "Requirement already satisfied: progressbar2 in /usr/local/lib/python3.7/dist-packages (3.38.0)\n",
            "Collecting progressbar2\n",
            "  Downloading progressbar2-3.53.1-py2.py3-none-any.whl (25 kB)\n",
            "Requirement already satisfied: six in /usr/local/lib/python3.7/dist-packages (from progressbar2) (1.15.0)\n",
            "Requirement already satisfied: python-utils>=2.3.0 in /usr/local/lib/python3.7/dist-packages (from progressbar2) (2.5.6)\n",
            "Installing collected packages: progressbar2\n",
            "  Attempting uninstall: progressbar2\n",
            "    Found existing installation: progressbar2 3.38.0\n",
            "    Uninstalling progressbar2-3.38.0:\n",
            "      Successfully uninstalled progressbar2-3.38.0\n",
            "Successfully installed progressbar2-3.53.1\n"
          ],
          "name": "stdout"
        }
      ]
    },
    {
      "cell_type": "code",
      "metadata": {
        "id": "hEoGd6njkzcg"
      },
      "source": [
        "from torch import nn\n",
        "from collections import OrderedDict\n",
        "import torch.nn.functional as F\n",
        "import torch\n",
        "from torch.utils.data import DataLoader\n",
        "import torchvision\n",
        "import random\n",
        "from torch.utils.data import Subset\n",
        "from matplotlib import pyplot as plt\n",
        "from torchsummary import summary\n",
        "from torchvision import transforms\n",
        "import progressbar as pb\n",
        "import numpy as np"
      ],
      "execution_count": null,
      "outputs": []
    },
    {
      "cell_type": "code",
      "metadata": {
        "id": "ZyUBwFFIk10M"
      },
      "source": [
        "SUM = lambda x,y : x+y"
      ],
      "execution_count": null,
      "outputs": []
    },
    {
      "cell_type": "code",
      "metadata": {
        "id": "Gkj0t-MCk2Sv"
      },
      "source": [
        "def check_equity(property,a,b):\n",
        "    pa = getattr(a,property)\n",
        "    pb = getattr(b,property)\n",
        "    assert  pa==pb, \"Different {}: {}!={}\".format(property,pa,pb)\n",
        "\n",
        "    return pa"
      ],
      "execution_count": null,
      "outputs": []
    },
    {
      "cell_type": "code",
      "metadata": {
        "id": "pF6jtZUYk4Ad"
      },
      "source": [
        "def module_unwrap(mod:nn.Module,recursive=False):\n",
        "    children = OrderedDict()\n",
        "    try:\n",
        "        for name, module in mod.named_children():\n",
        "            if (recursive):\n",
        "                recursive_call = module_unwrap(module,recursive=True)\n",
        "                if (len(recursive_call)>0):\n",
        "                    for k,v in recursive_call.items():\n",
        "                        children[name+\"_\"+k] = v\n",
        "                else:\n",
        "                    children[name] = module\n",
        "            else:\n",
        "                children[name] = module\n",
        "    except AttributeError:\n",
        "        pass\n",
        "\n",
        "    return children"
      ],
      "execution_count": null,
      "outputs": []
    },
    {
      "cell_type": "code",
      "metadata": {
        "id": "FPbITRurk58g"
      },
      "source": [
        "class VGGBlock(nn.Module):\n",
        "    def __init__(self, in_channels, out_channels,batch_norm=False):\n",
        "\n",
        "        super().__init__()\n",
        "\n",
        "        conv2_params = {'kernel_size': (3, 3),\n",
        "                        'stride'     : (1, 1),\n",
        "                        'padding'   : 1\n",
        "                        }\n",
        "\n",
        "        noop = lambda x : x\n",
        "\n",
        "        self._batch_norm = batch_norm\n",
        "\n",
        "        self.conv1 = nn.Conv2d(in_channels=in_channels,out_channels=out_channels , **conv2_params)\n",
        "        #self.bn1 = nn.BatchNorm2d(out_channels) if batch_norm else noop\n",
        "        self.bn1 = nn.GroupNorm(32, out_channels) if batch_norm else noop\n",
        "\n",
        "        self.conv2 = nn.Conv2d(in_channels=out_channels,out_channels=out_channels, **conv2_params)\n",
        "        #self.bn2 = nn.BatchNorm2d(out_channels) if batch_norm else noop\n",
        "        self.bn2 = nn.GroupNorm(32, out_channels) if batch_norm else noop\n",
        "\n",
        "        self.max_pooling = nn.MaxPool2d(kernel_size=(2, 2), stride=(2, 2))\n",
        "\n",
        "    @property\n",
        "    def batch_norm(self):\n",
        "        return self._batch_norm\n",
        "\n",
        "    def forward(self,x):\n",
        "        x = self.conv1(x)\n",
        "        x = self.bn1(x)\n",
        "        x = F.relu(x)\n",
        "\n",
        "        x = self.conv2(x)\n",
        "        x = self.bn2(x)\n",
        "        x = F.relu(x)\n",
        "\n",
        "        x = self.max_pooling(x)\n",
        "\n",
        "        return x"
      ],
      "execution_count": null,
      "outputs": []
    },
    {
      "cell_type": "code",
      "metadata": {
        "id": "jvFpSo8Xk92G"
      },
      "source": [
        "class Classifier(nn.Module):\n",
        "\n",
        "    def __init__(self,num_classes=10):\n",
        "        super().__init__()\n",
        "\n",
        "        self.classifier = nn.Sequential(\n",
        "            nn.Linear(2048, 2048),\n",
        "            nn.ReLU(True),\n",
        "            nn.Dropout(p=0.5),\n",
        "            nn.Linear(2048, 512),\n",
        "            nn.ReLU(True),\n",
        "            nn.Dropout(p=0.5),\n",
        "            nn.Linear(512, num_classes)\n",
        "        )\n",
        "\n",
        "    def forward(self,x):\n",
        "\n",
        "        return self.classifier(x)"
      ],
      "execution_count": null,
      "outputs": []
    },
    {
      "cell_type": "code",
      "metadata": {
        "id": "rLLA5iDKlAAZ"
      },
      "source": [
        "class VGG16(nn.Module):\n",
        "\n",
        "  def __init__(self, input_size, batch_norm=False):\n",
        "    super(VGG16, self).__init__()\n",
        "\n",
        "    self.in_channels,self.in_width,self.in_height = input_size\n",
        "\n",
        "    self.block_1 = VGGBlock(self.in_channels,64,batch_norm=batch_norm)\n",
        "    self.block_2 = VGGBlock(64, 128,batch_norm=batch_norm)\n",
        "    self.block_3 = VGGBlock(128, 256,batch_norm=batch_norm)\n",
        "    self.block_4 = VGGBlock(256,512,batch_norm=batch_norm)\n",
        "\n",
        "\n",
        "  @property\n",
        "  def input_size(self):\n",
        "      return self.in_channels,self.in_width,self.in_height\n",
        "\n",
        "  def forward(self, x):\n",
        "\n",
        "    x = self.block_1(x)\n",
        "    x = self.block_2(x)\n",
        "    x = self.block_3(x)\n",
        "    x = self.block_4(x)\n",
        "    # x = self.avgpool(x)\n",
        "    x = torch.flatten(x,1)\n",
        "\n",
        "    return x"
      ],
      "execution_count": null,
      "outputs": []
    },
    {
      "cell_type": "code",
      "metadata": {
        "id": "enosCLnNlB9c"
      },
      "source": [
        "class CombinedLoss(nn.Module):\n",
        "    def __init__(self, loss_a, loss_b, loss_combo, _lambda=1.0):\n",
        "        super().__init__()\n",
        "        self.loss_a = loss_a\n",
        "        self.loss_b = loss_b\n",
        "        self.loss_combo = loss_combo\n",
        "\n",
        "        self.register_buffer('_lambda',torch.tensor(float(_lambda),dtype=torch.float32))\n",
        "\n",
        "\n",
        "    def forward(self,y_hat,y):\n",
        "\n",
        "        return self.loss_a(y_hat[0],y[0]) + self.loss_b(y_hat[1],y[1]) + self._lambda * self.loss_combo(y_hat[2],torch.cat(y,0))\n"
      ],
      "execution_count": null,
      "outputs": []
    },
    {
      "cell_type": "code",
      "metadata": {
        "id": "jHQNZbbvlDwQ"
      },
      "source": [
        "DO='TRAIN'\n",
        "\n",
        "random.seed(47)\n",
        "\n",
        "combo_fn = SUM\n",
        "\n",
        "lambda_reg = 1"
      ],
      "execution_count": null,
      "outputs": []
    },
    {
      "cell_type": "code",
      "metadata": {
        "id": "6GtogykqlF6h"
      },
      "source": [
        "def test(net,classifier, loader):\n",
        "\n",
        "      net.to(dev)\n",
        "      classifier.to(dev)\n",
        "\n",
        "      net.eval()\n",
        "\n",
        "      sum_accuracy = 0\n",
        "\n",
        "      # Process each batch\n",
        "      for j, (input, labels) in enumerate(loader):\n",
        "\n",
        "        input = input.to(dev)\n",
        "        labels = labels.float().to(dev)\n",
        "\n",
        "        features = net(input)\n",
        "\n",
        "        pred = torch.squeeze(classifier(features))\n",
        "\n",
        "        # https://discuss.pytorch.org/t/bcewithlogitsloss-and-model-accuracy-calculation/59293/ 2\n",
        "        #pred_labels = (pred >= 0.0).long()  # Binarize predictions to 0 and 1\n",
        "        _,pred_label = torch.max(pred, dim = 1)\n",
        "        pred_labels = (pred_label == labels).float()\n",
        "\n",
        "        batch_accuracy = pred_labels.sum().item() / len(labels)\n",
        "\n",
        "        # Update accuracy\n",
        "        sum_accuracy += batch_accuracy\n",
        "\n",
        "      epoch_accuracy = sum_accuracy / len(loader)\n",
        "      return epoch_accuracy\n",
        "      #print(f\"Accuracy test: {epoch_accuracy:0.5}\")"
      ],
      "execution_count": null,
      "outputs": []
    },
    {
      "cell_type": "code",
      "metadata": {
        "id": "EVoErzeylIio"
      },
      "source": [
        "def train(nets, loaders, optimizer, criterion, epochs=20, dev=None, save_param=False, model_name=\"federated_mnist\"):\n",
        "    # try:\n",
        "      nets = [n.to(dev) for n in nets]\n",
        "\n",
        "      model_a = module_unwrap(nets[0], True)\n",
        "      model_b = module_unwrap(nets[1], True)\n",
        "      model_c = module_unwrap(nets[2], True)\n",
        "\n",
        "      reg_loss = nn.MSELoss()\n",
        "\n",
        "      criterion.to(dev)\n",
        "      reg_loss.to(dev)\n",
        "\n",
        "      # Initialize history\n",
        "      history_loss = {\"train\": [], \"val\": [], \"test\": []}\n",
        "      history_accuracy = {\"train\": [], \"val\": [], \"test\": []}\n",
        "      history_test = []\n",
        "      # Store the best val accuracy\n",
        "      best_val_accuracy = 0\n",
        "      # Store best accuracy to save the model\n",
        "      best_accuracy = 0\n",
        "\n",
        "      # Process each epoch\n",
        "      for epoch in range(epochs):\n",
        "        # Initialize epoch variables\n",
        "        sum_loss = {\"train\": 0, \"val\": 0, \"test\": 0}\n",
        "        sum_accuracy = {\"train\": [0,0,0], \"val\": [0,0,0], \"test\": [0,0,0]}\n",
        "\n",
        "        progbar = None\n",
        "        # Process each split\n",
        "        for split in [\"train\", \"val\", \"test\"]:\n",
        "          if split == \"train\":\n",
        "            for n in nets:\n",
        "              n.train()\n",
        "            widgets = [\n",
        "              ' [', pb.Timer(), '] ',\n",
        "              pb.Bar(),\n",
        "              ' [', pb.ETA(), '] ', pb.Variable('ta','[Train Acc: {formatted_value}]')\n",
        "            ]\n",
        "\n",
        "            progbar = pb.ProgressBar(max_value=len(loaders[split][0]),widgets=widgets,redirect_stdout=True)\n",
        "\n",
        "          else:\n",
        "            for n in nets:\n",
        "              n.eval()\n",
        "          # Process each batch\n",
        "          for j,((input_a, labels_a),(input_b, labels_b)) in enumerate(zip(loaders[split][0],loaders[split][1])):\n",
        "\n",
        "            input_a = input_a.to(dev)\n",
        "            input_b = input_b.to(dev)\n",
        "\n",
        "            labels_a = labels_a.long().to(dev)\n",
        "            labels_b = labels_b.long().to(dev)\n",
        "\n",
        "            inputs = torch.cat([input_a,input_b],axis=0)\n",
        "            labels = torch.cat([labels_a, labels_b])\n",
        "\n",
        "\n",
        "            # Reset gradients\n",
        "            optimizer.zero_grad()\n",
        "            # Compute output\n",
        "            features_a = nets[0](input_a)\n",
        "            features_b = nets[1](input_b)\n",
        "            features_c = nets[2](inputs)\n",
        "\n",
        "            pred_a = torch.squeeze(nets[3](features_a))\n",
        "            pred_b = torch.squeeze(nets[3](features_b))\n",
        "            pred_c = torch.squeeze(nets[3](features_c))\n",
        "\n",
        "            loss = criterion(pred_a, labels_a) + criterion(pred_b, labels_b) + criterion(pred_c, labels)\n",
        "\n",
        "            for n in model_a:\n",
        "              layer_a = model_a[n]\n",
        "              layer_b = model_b[n]\n",
        "              layer_c = model_c[n]\n",
        "              if (isinstance(layer_a,nn.Conv2d)):\n",
        "                loss += lambda_reg * reg_loss(combo_fn(layer_a.weight,layer_b.weight),layer_c.weight)\n",
        "                if (layer_a.bias is not None):\n",
        "                  loss += lambda_reg * reg_loss(combo_fn(layer_a.bias, layer_b.bias), layer_c.bias)\n",
        "\n",
        "            # Update loss\n",
        "            sum_loss[split] += loss.item()\n",
        "            # Check parameter update\n",
        "            if split == \"train\":\n",
        "              # Compute gradients\n",
        "              loss.backward()\n",
        "              # Optimize\n",
        "              optimizer.step()\n",
        "\n",
        "            # Compute accuracy\n",
        "\n",
        "            #https://discuss.pytorch.org/t/bcewithlogitsloss-and-model-accuracy-calculation/59293/ 2\n",
        "            #pred_labels_a = (pred_a >= 0.0).long()  # Binarize predictions to 0 and 1\n",
        "            #pred_labels_b = (pred_b >= 0.0).long()  # Binarize predictions to 0 and 1\n",
        "            #pred_labels_c = (pred_c >= 0.0).long()  # Binarize predictions to 0 and 1\n",
        "\n",
        "            #print(pred_a.shape)\n",
        "\n",
        "            _,pred_label_a = torch.max(pred_a, dim = 1)\n",
        "            pred_labels_a = (pred_label_a == labels_a).float()\n",
        "\n",
        "            _,pred_label_b = torch.max(pred_b, dim = 1)\n",
        "            pred_labels_b = (pred_label_b == labels_b).float()\n",
        "\n",
        "            _,pred_label_c = torch.max(pred_c, dim = 1)\n",
        "            pred_labels_c = (pred_label_c == labels).float()\n",
        "\n",
        "            batch_accuracy_a = pred_labels_a.sum().item() / len(labels_a)\n",
        "            batch_accuracy_b = pred_labels_b.sum().item() / len(labels_b)\n",
        "            batch_accuracy_c = pred_labels_c.sum().item() / len(labels)\n",
        "\n",
        "            # Update accuracy\n",
        "            sum_accuracy[split][0] += batch_accuracy_a\n",
        "            sum_accuracy[split][1] += batch_accuracy_b\n",
        "            sum_accuracy[split][2] += batch_accuracy_c\n",
        "\n",
        "\n",
        "            if (split=='train'):\n",
        "              progbar.update(j, ta=batch_accuracy_c)\n",
        "\n",
        "        if (progbar is not None):\n",
        "          progbar.finish()\n",
        "        # Compute epoch loss/accuracy\n",
        "        epoch_loss = {split: sum_loss[split] / len(loaders[split][0]) for split in [\"train\", \"val\", \"test\"]}\n",
        "        epoch_accuracy = {split: [sum_accuracy[split][i] / len(loaders[split][0]) for i in range(len(sum_accuracy[split])) ] for split in [\"train\", \"val\", \"test\"]}\n",
        "\n",
        "\n",
        "        print(f\"Epoch {epoch + 1}:\")\n",
        "        # Update history\n",
        "        for split in [\"train\", \"val\", \"test\"]:\n",
        "          history_loss[split].append(epoch_loss[split])\n",
        "          history_accuracy[split].append(epoch_accuracy[split])\n",
        "          # Print info\n",
        "          print(f\"\\t{split}\\tLoss: {epoch_loss[split]:0.5}\\tVGG 1:{epoch_accuracy[split][0]:0.5}\"\n",
        "                f\"\\tVGG 2:{epoch_accuracy[split][1]:0.5}\\tVGG *:{epoch_accuracy[split][2]:0.5}\")\n",
        "\n",
        "        if save_param:\n",
        "          torch.save({'vgg_a':nets[0].state_dict(),'vgg_b':nets[1].state_dict(),'vgg_star':nets[2].state_dict(),'classifier':nets[3].state_dict()},f'{model_name}.pth')\n",
        "\n",
        "        \n",
        "        print(f\"Accuracy test VGGA: {test(nets[0], nets[3], test_loader_all):0.5}\")\n",
        "        print(f\"Accuracy test VGGB: {test(nets[1], nets[3], test_loader_all):0.5}\")\n",
        "        print(f\"Accuracy test VGG*: {test(nets[2], nets[3], test_loader_all):0.5}\")\n",
        " \n",
        "        summed_state_dict = OrderedDict()\n",
        " \n",
        "        for key in nets[2].state_dict():\n",
        "          if key.find('conv') >=0:\n",
        "            #print(key)\n",
        "            summed_state_dict[key] = combo_fn(nets[0].state_dict()[key],nets[1].state_dict()[key])\n",
        "          else:\n",
        "            summed_state_dict[key] = nets[2].state_dict()[key]\n",
        " \n",
        "        nets[2].load_state_dict(summed_state_dict)\n",
        "        accuracy_star = test(nets[2], nets[3], test_loader_all)\n",
        "        print(f\"Accuracy test VGGSTAR: {accuracy_star:0.5}\")\n",
        "        history_test.append(accuracy_star)\n",
        "\n",
        "\n",
        "        # Store params at the best validation accuracy\n",
        "        if save_param and accuracy_star > best_accuracy:\n",
        "        # torch.save(net.state_dict(), f\"{net.__class__.__name__}_best_val.pth\")\n",
        "          torch.save({'vgg_a':nets[0].state_dict(),'classifier':nets[3].state_dict()}, f\"{model_name}_best_test.pth\")\n",
        "          best_accuracy = accuracy_star\n",
        "        print(f\"Best accuracy test is: {best_accuracy:0.5}\")\n",
        "\n",
        "\n",
        "      # Plot accuracy\n",
        "      plt.title(\"Accuracy VGGSTAR over epochs\")\n",
        "      plt.plot(history_test)\n",
        "      #plt.legend()\n",
        "      plt.show()"
      ],
      "execution_count": null,
      "outputs": []
    },
    {
      "cell_type": "markdown",
      "metadata": {
        "id": "TzaX8ceY3itg"
      },
      "source": [
        "MNIST"
      ]
    },
    {
      "cell_type": "code",
      "metadata": {
        "id": "AfDTKfBhasRZ"
      },
      "source": [
        "root_dir = './'\n",
        "\n",
        "rescale_data = transforms.Lambda(lambda x : x/255)"
      ],
      "execution_count": null,
      "outputs": []
    },
    {
      "cell_type": "code",
      "metadata": {
        "colab": {
          "base_uri": "https://localhost:8080/"
        },
        "id": "eoqJWA7OlU3i",
        "outputId": "3bd26384-da10-4e5b-cf27-2a15067f973e"
      },
      "source": [
        "# Compose transformations\n",
        "data_transform = transforms.Compose([\n",
        "  transforms.Resize(32),\n",
        "  transforms.RandomHorizontalFlip(),\n",
        "  transforms.ToTensor(),\n",
        "  rescale_data,\n",
        "  #transforms.Normalize((-0.7376), (0.5795))\n",
        "])\n",
        "\n",
        "test_transform = transforms.Compose([\n",
        "  transforms.Resize(32),\n",
        "  transforms.ToTensor(),\n",
        "  rescale_data,\n",
        "  #transforms.Normalize((0.1327), (0.2919))\n",
        "])\n",
        "\n",
        "# Load MNIST dataset with transforms\n",
        "train_set = torchvision.datasets.MNIST(root=root_dir, train=True, download=True, transform=data_transform)\n",
        "test_set = torchvision.datasets.MNIST(root=root_dir, train=False, download=True, transform=test_transform)"
      ],
      "execution_count": null,
      "outputs": [
        {
          "output_type": "stream",
          "text": [
            "/usr/local/lib/python3.7/dist-packages/torchvision/datasets/mnist.py:498: UserWarning: The given NumPy array is not writeable, and PyTorch does not support non-writeable tensors. This means you can write to the underlying (supposedly non-writeable) NumPy array using the tensor. You may want to copy the array to protect its data or make it writeable before converting it to a tensor. This type of warning will be suppressed for the rest of this program. (Triggered internally at  /pytorch/torch/csrc/utils/tensor_numpy.cpp:180.)\n",
            "  return torch.from_numpy(parsed.astype(m[2], copy=False)).view(*s)\n"
          ],
          "name": "stderr"
        }
      ]
    },
    {
      "cell_type": "code",
      "metadata": {
        "colab": {
          "base_uri": "https://localhost:8080/"
        },
        "id": "ApJOQIQLlXTB",
        "outputId": "3b91e8b9-73f0-4b85-a3c7-5b9b203b1a3f"
      },
      "source": [
        "# Dataset len\n",
        "num_train = len(train_set)\n",
        "num_test = len(test_set)\n",
        "print(f\"Num. training samples: {num_train}\")\n",
        "print(f\"Num. test samples:     {num_test}\")\n",
        "\n",
        "train_idx = np.random.permutation(np.arange(len(train_set)))\n",
        "test_idx = np.arange(len(test_set))\n",
        "\n",
        "# Fraction of the original train set that we want to use as validation set\n",
        "val_frac = 0.1\n",
        "# Number of samples of the validation set\n",
        "num_val = int(num_train * val_frac) \n",
        "num_train = num_train - num_val\n",
        "\n",
        "# Split training set\n",
        "val_idx = train_idx[num_train:]\n",
        "train_idx = train_idx[:num_train]\n",
        "\n",
        "print(f\"{num_train} samples used as train set\")\n",
        "print(f\"{num_val}  samples used as val set\")\n",
        "print(f\"{len(test_set)} samples used as test set\")\n",
        "\n",
        "val_set_a = Subset(train_set, val_idx)\n",
        "train_set_a = Subset(train_set, train_idx)\n",
        "test_set_a = test_set"
      ],
      "execution_count": null,
      "outputs": [
        {
          "output_type": "stream",
          "text": [
            "Num. training samples: 60000\n",
            "Num. test samples:     10000\n",
            "54000 samples used as train set\n",
            "6000  samples used as val set\n",
            "10000 samples used as test set\n"
          ],
          "name": "stdout"
        }
      ]
    },
    {
      "cell_type": "markdown",
      "metadata": {
        "id": "xebqbJQ83l3e"
      },
      "source": [
        "MNIST PERTURBATO"
      ]
    },
    {
      "cell_type": "code",
      "metadata": {
        "id": "wlPn3ROl3k1d"
      },
      "source": [
        "root_dir = './'\n",
        "\n",
        "rescale_data = transforms.Lambda(lambda x : x/255)"
      ],
      "execution_count": null,
      "outputs": []
    },
    {
      "cell_type": "code",
      "metadata": {
        "id": "GO6pr5sk3rkq"
      },
      "source": [
        "class AddGaussianNoise(object):\n",
        "    def __init__(self, mean=0., std=1.):\n",
        "        self.std = std\n",
        "        self.mean = mean\n",
        "        \n",
        "    def __call__(self, tensor):\n",
        "        return tensor + torch.randn(tensor.size()) * self.std + self.mean\n",
        "    \n",
        "    def __repr__(self):\n",
        "        return self.__class__.__name__ + '(mean={0}, std={1})'.format(self.mean, self.std)"
      ],
      "execution_count": null,
      "outputs": []
    },
    {
      "cell_type": "code",
      "metadata": {
        "id": "-Hdboca_3k1e"
      },
      "source": [
        "# Compose transformations\n",
        "data_transform = transforms.Compose([\n",
        "  transforms.Resize(32),\n",
        "  transforms.RandomHorizontalFlip(),\n",
        "  transforms.ToTensor(),\n",
        "  AddGaussianNoise(0., 0.2),\n",
        "  rescale_data,\n",
        "])\n",
        "\n",
        "test_transform = transforms.Compose([\n",
        "  transforms.Resize(32),\n",
        "  transforms.ToTensor(),\n",
        "  AddGaussianNoise(0., 0.2),\n",
        "  rescale_data,\n",
        "])\n",
        "\n",
        "# Load MNIST dataset with transforms\n",
        "train_set = torchvision.datasets.MNIST(root=root_dir, train=True, download=True, transform=data_transform)\n",
        "test_set = torchvision.datasets.MNIST(root=root_dir, train=False, download=True, transform=test_transform)"
      ],
      "execution_count": null,
      "outputs": []
    },
    {
      "cell_type": "code",
      "metadata": {
        "colab": {
          "base_uri": "https://localhost:8080/"
        },
        "id": "Cm1rl65G3k1g",
        "outputId": "5d1cbb07-a3ca-4326-c36b-5ff16b79c41f"
      },
      "source": [
        "# Dataset len\n",
        "num_train = len(train_set)\n",
        "num_test = len(test_set)\n",
        "print(f\"Num. training samples: {num_train}\")\n",
        "print(f\"Num. test samples:     {num_test}\")\n",
        "\n",
        "train_idx = np.random.permutation(np.arange(len(train_set)))\n",
        "test_idx = np.arange(len(test_set))\n",
        "\n",
        "# Fraction of the original train set that we want to use as validation set\n",
        "val_frac = 0.1\n",
        "# Number of samples of the validation set\n",
        "num_val = int(num_train * val_frac) \n",
        "num_train = num_train - num_val\n",
        "\n",
        "# Split training set\n",
        "val_idx = train_idx[num_train:]\n",
        "train_idx = train_idx[:num_train]\n",
        "\n",
        "print(f\"{num_train} samples used as train set\")\n",
        "print(f\"{num_val}  samples used as val set\")\n",
        "print(f\"{len(test_set)} samples used as test set\")\n",
        "\n",
        "val_set_b = Subset(train_set, val_idx)\n",
        "train_set_b = Subset(train_set, train_idx)\n",
        "test_set_b = test_set"
      ],
      "execution_count": null,
      "outputs": [
        {
          "output_type": "stream",
          "text": [
            "Num. training samples: 60000\n",
            "Num. test samples:     10000\n",
            "54000 samples used as train set\n",
            "6000  samples used as val set\n",
            "10000 samples used as test set\n"
          ],
          "name": "stdout"
        }
      ]
    },
    {
      "cell_type": "code",
      "metadata": {
        "id": "KaG94xfK3TQq"
      },
      "source": [
        "test_set = torch.utils.data.ConcatDataset([test_set_a, test_set_b])\n",
        "\n",
        "# Define loaders\n",
        "\n",
        "train_loader_a = DataLoader(train_set_a, batch_size=128, num_workers=0, shuffle=True, drop_last=True)\n",
        "val_loader_a   = DataLoader(val_set_a,   batch_size=128, num_workers=0, shuffle=False, drop_last=False)\n",
        "test_loader_a  = DataLoader(test_set_a,  batch_size=128, num_workers=0, shuffle=False, drop_last=False)\n",
        "\n",
        "train_loader_b = DataLoader(train_set_b, batch_size=128, num_workers=0, shuffle=True, drop_last=True)\n",
        "val_loader_b   = DataLoader(val_set_b,   batch_size=128, num_workers=0, shuffle=False, drop_last=False)\n",
        "test_loader_b  = DataLoader(test_set_b,  batch_size=128, num_workers=0, shuffle=False, drop_last=False)\n",
        "\n",
        "test_loader_all = DataLoader(test_set,batch_size=128, num_workers=0,shuffle=False,drop_last=False)\n",
        "\n",
        "\n",
        "# Define dictionary of loaders\n",
        "loaders = {\"train\": [train_loader_a,train_loader_b],\n",
        "           \"val\":   [val_loader_a,val_loader_b],\n",
        "           \"test\":  [test_loader_a,test_loader_b]}"
      ],
      "execution_count": null,
      "outputs": []
    },
    {
      "cell_type": "code",
      "metadata": {
        "colab": {
          "base_uri": "https://localhost:8080/",
          "height": 283
        },
        "id": "gfkv1A7q9sAC",
        "outputId": "5d47d8fc-615c-46db-e846-6b6fdde1e652"
      },
      "source": [
        "image, label = train_set_a[1]\n",
        "plt.imshow(image.squeeze(), cmap='gray')\n",
        "print('Label:', label)"
      ],
      "execution_count": null,
      "outputs": [
        {
          "output_type": "stream",
          "text": [
            "Label: 5\n"
          ],
          "name": "stdout"
        },
        {
          "output_type": "display_data",
          "data": {
            "image/png": "[encoded data removed]",
            "text/plain": [
              "<Figure size 432x288 with 1 Axes>"
            ]
          },
          "metadata": {
            "needs_background": "light"
          }
        }
      ]
    },
    {
      "cell_type": "code",
      "metadata": {
        "colab": {
          "base_uri": "https://localhost:8080/",
          "height": 283
        },
        "id": "qxAhCKr7-m_s",
        "outputId": "7dc85f40-9908-4641-a0bf-55343caf370a"
      },
      "source": [
        "image, label = train_set_b[7]\n",
        "plt.imshow(image.squeeze(), cmap='gray')\n",
        "print('Label:', label)"
      ],
      "execution_count": null,
      "outputs": [
        {
          "output_type": "stream",
          "text": [
            "Label: 7\n"
          ],
          "name": "stdout"
        },
        {
          "output_type": "display_data",
          "data": {
            "image/png": "[encoded data removed]",
            "text/plain": [
              "<Figure size 432x288 with 1 Axes>"
            ]
          },
          "metadata": {
            "needs_background": "light"
          }
        }
      ]
    },
    {
      "cell_type": "code",
      "metadata": {
        "id": "yKP54b_aasRf"
      },
      "source": [
        "model1 = VGG16((1,32,32),batch_norm=True)\n",
        "model2 = VGG16((1,32,32),batch_norm=True)\n",
        "model3 = VGG16((1,32,32),batch_norm=True)\n",
        "classifier = Classifier(num_classes=10)"
      ],
      "execution_count": null,
      "outputs": []
    },
    {
      "cell_type": "code",
      "metadata": {
        "id": "9Af9i4WIasRh"
      },
      "source": [
        "nets = [model1,model2,model3,classifier]\n",
        "\n",
        "dev = torch.device('cuda')\n",
        "\n",
        "parameters = set()\n",
        "\n",
        "for n in nets:\n",
        "  parameters |= set(n.parameters())\n",
        "\n",
        "optimizer = torch.optim.SGD(parameters, lr = 0.01)\n",
        "# Define a loss\n",
        "#criterion = nn.BCEWithLogitsLoss()#,nn.BCEWithLogitsLoss(),nn.BCEWithLogitsLoss(),_lambda = 1)\n",
        "criterion = nn.CrossEntropyLoss()\n",
        "n_params = 0"
      ],
      "execution_count": null,
      "outputs": []
    },
    {
      "cell_type": "code",
      "metadata": {
        "colab": {
          "base_uri": "https://localhost:8080/",
          "height": 1000
        },
        "id": "iUIoyje9asRi",
        "outputId": "d3145f2c-5e11-47ff-c957-aeb87fcbd738"
      },
      "source": [
        "DO = 'TRAIN'\n",
        "if (DO=='TRAIN'):\n",
        "  train(nets, loaders, optimizer, criterion, epochs=50, dev=dev,save_param=True)\n",
        "else:\n",
        "  state_dicts = torch.load('model.pth')\n",
        "  model1.load_state_dict(state_dicts['vgg_a']) #questi state_dict vengono dalla funzione di training\n",
        "  model2.load_state_dict(state_dicts['vgg_b'])\n",
        "  model3.load_state_dict(state_dicts['vgg_star'])\n",
        "  classifier.load_state_dict(state_dicts['classifier'])\n",
        "\n",
        "  test(model1,classifier,test_loader_all)\n",
        "  test(model2, classifier, test_loader_all)\n",
        "  test(model3, classifier, test_loader_all)\n",
        "\n",
        "  summed_state_dict = OrderedDict()\n",
        "\n",
        "  for key in state_dicts['vgg_star']:\n",
        "    if key.find('conv') >=0:\n",
        "      print(key)\n",
        "      summed_state_dict[key] = combo_fn(state_dicts['vgg_a'][key],state_dicts['vgg_b'][key])\n",
        "    else:\n",
        "      summed_state_dict[key] = state_dicts['vgg_star'][key]\n",
        "\n",
        "  model3.load_state_dict(summed_state_dict)\n",
        "  test(model3, classifier, test_loader_all)"
      ],
      "execution_count": null,
      "outputs": [
        {
          "metadata": {
            "tags": null
          },
          "name": "stderr",
          "output_type": "stream",
          "text": [
            "/usr/local/lib/python3.7/dist-packages/torch/nn/functional.py:718: UserWarning: Named tensors and all their associated APIs are an experimental feature and subject to change. Please do not use them for anything important until they are released as stable. (Triggered internally at  /pytorch/c10/core/TensorImpl.h:1156.)\n",
            "  return torch.max_pool2d(input, kernel_size, stride, padding, dilation, ceil_mode)\n",
            " [Elapsed Time: 0:01:53] |###############| [Time:  0:01:53] [Train Acc:   0.18]\n"
          ]
        },
        {
          "metadata": {
            "tags": null
          },
          "name": "stdout",
          "output_type": "stream",
          "text": [
            "Epoch 1:\n",
            "\ttrain\tLoss: 6.9793\tVGG 1:0.14287\tVGG 2:0.16692\tVGG *:0.13386\n",
            "\tval\tLoss: 6.4735\tVGG 1:0.2685\tVGG 2:0.42299\tVGG *:0.11302\n",
            "\ttest\tLoss: 6.4552\tVGG 1:0.26335\tVGG 2:0.43938\tVGG *:0.11412\n",
            "Accuracy test VGGA: 0.26269\n",
            "Accuracy test VGGB: 0.44686\n",
            "Accuracy test VGG*: 0.114\n",
            "Accuracy test VGGSTAR: 0.2196\n",
            "Best accuracy test is: 0.2196\n"
          ]
        },
        {
          "metadata": {
            "tags": null
          },
          "name": "stderr",
          "output_type": "stream",
          "text": [
            " [Elapsed Time: 0:01:53] |###############| [Time:  0:01:53] [Train Acc:  0.309]\n"
          ]
        },
        {
          "metadata": {
            "tags": null
          },
          "name": "stdout",
          "output_type": "stream",
          "text": [
            "Epoch 2:\n",
            "\ttrain\tLoss: 5.7392\tVGG 1:0.2659\tVGG 2:0.43867\tVGG *:0.22778\n",
            "\tval\tLoss: 4.3738\tVGG 1:0.4191\tVGG 2:0.7292\tVGG *:0.34959\n",
            "\ttest\tLoss: 4.3149\tVGG 1:0.42939\tVGG 2:0.75257\tVGG *:0.34568\n",
            "Accuracy test VGGA: 0.42765\n",
            "Accuracy test VGGB: 0.75717\n",
            "Accuracy test VGG*: 0.34733\n",
            "Accuracy test VGGSTAR: 0.11679\n",
            "Best accuracy test is: 0.2196\n"
          ]
        },
        {
          "metadata": {
            "tags": null
          },
          "name": "stderr",
          "output_type": "stream",
          "text": [
            " [Elapsed Time: 0:01:53] |###############| [Time:  0:01:53] [Train Acc:  0.762]\n"
          ]
        },
        {
          "metadata": {
            "tags": null
          },
          "name": "stdout",
          "output_type": "stream",
          "text": [
            "Epoch 3:\n",
            "\ttrain\tLoss: 3.2282\tVGG 1:0.66312\tVGG 2:0.63862\tVGG *:0.57132\n",
            "\tval\tLoss: 1.53\tVGG 1:0.81889\tVGG 2:0.8522\tVGG *:0.8315\n",
            "\ttest\tLoss: 1.4731\tVGG 1:0.82575\tVGG 2:0.86135\tVGG *:0.83846\n",
            "Accuracy test VGGA: 0.81718\n",
            "Accuracy test VGGB: 0.8647\n",
            "Accuracy test VGG*: 0.83867\n",
            "Accuracy test VGGSTAR: 0.32713\n",
            "Best accuracy test is: 0.32713\n"
          ]
        },
        {
          "metadata": {
            "tags": null
          },
          "name": "stderr",
          "output_type": "stream",
          "text": [
            " [Elapsed Time: 0:01:53] |###############| [Time:  0:01:53] [Train Acc:  0.832]\n"
          ]
        },
        {
          "metadata": {
            "tags": null
          },
          "name": "stdout",
          "output_type": "stream",
          "text": [
            "Epoch 4:\n",
            "\ttrain\tLoss: 1.9837\tVGG 1:0.72909\tVGG 2:0.8658\tVGG *:0.74565\n",
            "\tval\tLoss: 1.1998\tVGG 1:0.80419\tVGG 2:0.91425\tVGG *:0.89327\n",
            "\ttest\tLoss: 1.1437\tVGG 1:0.81042\tVGG 2:0.91822\tVGG *:0.89453\n",
            "Accuracy test VGGA: 0.80474\n",
            "Accuracy test VGGB: 0.92377\n",
            "Accuracy test VGG*: 0.89515\n",
            "Accuracy test VGGSTAR: 0.72407\n",
            "Best accuracy test is: 0.72407\n"
          ]
        },
        {
          "metadata": {
            "tags": null
          },
          "name": "stderr",
          "output_type": "stream",
          "text": [
            " [Elapsed Time: 0:01:53] |###############| [Time:  0:01:53] [Train Acc:  0.934]\n"
          ]
        },
        {
          "metadata": {
            "tags": null
          },
          "name": "stdout",
          "output_type": "stream",
          "text": [
            "Epoch 5:\n",
            "\ttrain\tLoss: 1.1563\tVGG 1:0.86214\tVGG 2:0.9205\tVGG *:0.83908\n",
            "\tval\tLoss: 0.68213\tVGG 1:0.92152\tVGG 2:0.93987\tVGG *:0.91901\n",
            "\ttest\tLoss: 0.65082\tVGG 1:0.9283\tVGG 2:0.93958\tVGG *:0.92262\n",
            "Accuracy test VGGA: 0.92038\n",
            "Accuracy test VGGB: 0.93934\n",
            "Accuracy test VGG*: 0.92272\n",
            "Accuracy test VGGSTAR: 0.65137\n",
            "Best accuracy test is: 0.72407\n"
          ]
        },
        {
          "metadata": {
            "tags": null
          },
          "name": "stderr",
          "output_type": "stream",
          "text": [
            " [Elapsed Time: 0:01:52] |###############| [Time:  0:01:52] [Train Acc:  0.957]\n"
          ]
        },
        {
          "metadata": {
            "tags": null
          },
          "name": "stdout",
          "output_type": "stream",
          "text": [
            "Epoch 6:\n",
            "\ttrain\tLoss: 0.91372\tVGG 1:0.89816\tVGG 2:0.93581\tVGG *:0.87263\n",
            "\tval\tLoss: 0.53533\tVGG 1:0.9389\tVGG 2:0.9583\tVGG *:0.93524\n",
            "\ttest\tLoss: 0.49776\tVGG 1:0.94284\tVGG 2:0.96015\tVGG *:0.93646\n",
            "Accuracy test VGGA: 0.93655\n",
            "Accuracy test VGGB: 0.96427\n",
            "Accuracy test VGG*: 0.9381\n",
            "Accuracy test VGGSTAR: 0.73816\n",
            "Best accuracy test is: 0.73816\n"
          ]
        },
        {
          "metadata": {
            "tags": null
          },
          "name": "stderr",
          "output_type": "stream",
          "text": [
            " [Elapsed Time: 0:01:52] |###############| [Time:  0:01:52] [Train Acc:  0.957]\n"
          ]
        },
        {
          "metadata": {
            "tags": null
          },
          "name": "stdout",
          "output_type": "stream",
          "text": [
            "Epoch 7:\n",
            "\ttrain\tLoss: 0.62337\tVGG 1:0.93782\tVGG 2:0.95316\tVGG *:0.91009\n",
            "\tval\tLoss: 0.44308\tVGG 1:0.95612\tVGG 2:0.95381\tVGG *:0.95092\n",
            "\ttest\tLoss: 0.41057\tVGG 1:0.95767\tVGG 2:0.95688\tVGG *:0.95125\n",
            "Accuracy test VGGA: 0.9475\n",
            "Accuracy test VGGB: 0.95964\n",
            "Accuracy test VGG*: 0.95079\n",
            "Accuracy test VGGSTAR: 0.80459\n",
            "Best accuracy test is: 0.80459\n"
          ]
        },
        {
          "metadata": {
            "tags": null
          },
          "name": "stderr",
          "output_type": "stream",
          "text": [
            " [Elapsed Time: 0:01:52] |###############| [Time:  0:01:52] [Train Acc:  0.945]\n"
          ]
        },
        {
          "metadata": {
            "tags": null
          },
          "name": "stdout",
          "output_type": "stream",
          "text": [
            "Epoch 8:\n",
            "\ttrain\tLoss: 0.69289\tVGG 1:0.94914\tVGG 2:0.90703\tVGG *:0.92456\n",
            "\tval\tLoss: 0.44977\tVGG 1:0.95331\tVGG 2:0.95823\tVGG *:0.94794\n",
            "\ttest\tLoss: 0.40411\tVGG 1:0.95936\tVGG 2:0.96499\tVGG *:0.95194\n",
            "Accuracy test VGGA: 0.95004\n",
            "Accuracy test VGGB: 0.96686\n",
            "Accuracy test VGG*: 0.95228\n",
            "Accuracy test VGGSTAR: 0.66874\n",
            "Best accuracy test is: 0.80459\n"
          ]
        },
        {
          "metadata": {
            "tags": null
          },
          "name": "stderr",
          "output_type": "stream",
          "text": [
            " [Elapsed Time: 0:01:53] |###############| [Time:  0:01:53] [Train Acc:  0.941]\n"
          ]
        },
        {
          "metadata": {
            "tags": null
          },
          "name": "stdout",
          "output_type": "stream",
          "text": [
            "Epoch 9:\n",
            "\ttrain\tLoss: 0.50658\tVGG 1:0.95836\tVGG 2:0.95864\tVGG *:0.92169\n",
            "\tval\tLoss: 0.37367\tVGG 1:0.95664\tVGG 2:0.96578\tVGG *:0.95314\n",
            "\ttest\tLoss: 0.34571\tVGG 1:0.96074\tVGG 2:0.96915\tVGG *:0.95525\n",
            "Accuracy test VGGA: 0.95298\n",
            "Accuracy test VGGB: 0.97064\n",
            "Accuracy test VGG*: 0.95417\n",
            "Accuracy test VGGSTAR: 0.70317\n",
            "Best accuracy test is: 0.80459\n"
          ]
        },
        {
          "metadata": {
            "tags": null
          },
          "name": "stderr",
          "output_type": "stream",
          "text": [
            " [Elapsed Time: 0:01:53] |###############| [Time:  0:01:53] [Train Acc:  0.945]\n"
          ]
        },
        {
          "metadata": {
            "tags": null
          },
          "name": "stdout",
          "output_type": "stream",
          "text": [
            "Epoch 10:\n",
            "\ttrain\tLoss: 0.43937\tVGG 1:0.96478\tVGG 2:0.96636\tVGG *:0.93106\n",
            "\tval\tLoss: 0.31855\tVGG 1:0.96861\tVGG 2:0.97162\tVGG *:0.9583\n",
            "\ttest\tLoss: 0.30409\tVGG 1:0.97142\tVGG 2:0.97241\tVGG *:0.95713\n",
            "Accuracy test VGGA: 0.96432\n",
            "Accuracy test VGGB: 0.97457\n",
            "Accuracy test VGG*: 0.95755\n",
            "Accuracy test VGGSTAR: 0.71855\n",
            "Best accuracy test is: 0.80459\n"
          ]
        },
        {
          "metadata": {
            "tags": null
          },
          "name": "stderr",
          "output_type": "stream",
          "text": [
            " [Elapsed Time: 0:01:52] |###############| [Time:  0:01:52] [Train Acc:  0.965]\n"
          ]
        },
        {
          "metadata": {
            "tags": null
          },
          "name": "stdout",
          "output_type": "stream",
          "text": [
            "Epoch 11:\n",
            "\ttrain\tLoss: 0.42764\tVGG 1:0.9694\tVGG 2:0.97068\tVGG *:0.92531\n",
            "\tval\tLoss: 0.29304\tVGG 1:0.96884\tVGG 2:0.97801\tVGG *:0.96261\n",
            "\ttest\tLoss: 0.26021\tVGG 1:0.97419\tVGG 2:0.97696\tVGG *:0.96618\n",
            "Accuracy test VGGA: 0.96726\n",
            "Accuracy test VGGB: 0.97845\n",
            "Accuracy test VGG*: 0.96427\n",
            "Accuracy test VGGSTAR: 0.40336\n",
            "Best accuracy test is: 0.80459\n"
          ]
        },
        {
          "metadata": {
            "tags": null
          },
          "name": "stderr",
          "output_type": "stream",
          "text": [
            " [Elapsed Time: 0:01:53] |###############| [Time:  0:01:53] [Train Acc:  0.984]\n"
          ]
        },
        {
          "metadata": {
            "tags": null
          },
          "name": "stdout",
          "output_type": "stream",
          "text": [
            "Epoch 12:\n",
            "\ttrain\tLoss: 0.37063\tVGG 1:0.97192\tVGG 2:0.97439\tVGG *:0.93602\n",
            "\tval\tLoss: 0.28087\tVGG 1:0.9696\tVGG 2:0.97749\tVGG *:0.96557\n",
            "\ttest\tLoss: 0.24712\tVGG 1:0.97696\tVGG 2:0.97765\tVGG *:0.96563\n",
            "Accuracy test VGGA: 0.96661\n",
            "Accuracy test VGGB: 0.9797\n",
            "Accuracy test VGG*: 0.96497\n",
            "Accuracy test VGGSTAR: 0.77642\n",
            "Best accuracy test is: 0.80459\n"
          ]
        },
        {
          "metadata": {
            "tags": null
          },
          "name": "stderr",
          "output_type": "stream",
          "text": [
            " [Elapsed Time: 0:01:53] |###############| [Time:  0:01:53] [Train Acc:  0.965]\n"
          ]
        },
        {
          "metadata": {
            "tags": null
          },
          "name": "stdout",
          "output_type": "stream",
          "text": [
            "Epoch 13:\n",
            "\ttrain\tLoss: 0.4801\tVGG 1:0.97272\tVGG 2:0.97673\tVGG *:0.90927\n",
            "\tval\tLoss: 0.30373\tVGG 1:0.9693\tVGG 2:0.97818\tVGG *:0.96274\n",
            "\ttest\tLoss: 0.27395\tVGG 1:0.9733\tVGG 2:0.98121\tVGG *:0.96484\n",
            "Accuracy test VGGA: 0.96422\n",
            "Accuracy test VGGB: 0.98144\n",
            "Accuracy test VGG*: 0.96532\n",
            "Accuracy test VGGSTAR: 0.51279\n",
            "Best accuracy test is: 0.80459\n"
          ]
        },
        {
          "metadata": {
            "tags": null
          },
          "name": "stderr",
          "output_type": "stream",
          "text": [
            " [Elapsed Time: 0:01:52] |###############| [Time:  0:01:52] [Train Acc:  0.949]\n"
          ]
        },
        {
          "metadata": {
            "tags": null
          },
          "name": "stdout",
          "output_type": "stream",
          "text": [
            "Epoch 14:\n",
            "\ttrain\tLoss: 0.3433\tVGG 1:0.97489\tVGG 2:0.97942\tVGG *:0.93788\n",
            "\tval\tLoss: 0.26936\tVGG 1:0.96998\tVGG 2:0.98001\tVGG *:0.96716\n",
            "\ttest\tLoss: 0.25912\tVGG 1:0.96924\tVGG 2:0.98022\tVGG *:0.96494\n",
            "Accuracy test VGGA: 0.95815\n",
            "Accuracy test VGGB: 0.98109\n",
            "Accuracy test VGG*: 0.96542\n",
            "Accuracy test VGGSTAR: 0.59101\n",
            "Best accuracy test is: 0.80459\n"
          ]
        },
        {
          "metadata": {
            "tags": null
          },
          "name": "stderr",
          "output_type": "stream",
          "text": [
            " [Elapsed Time: 0:01:52] |###############| [Time:  0:01:52] [Train Acc:  0.949]\n"
          ]
        },
        {
          "metadata": {
            "tags": null
          },
          "name": "stdout",
          "output_type": "stream",
          "text": [
            "Epoch 15:\n",
            "\ttrain\tLoss: 0.88751\tVGG 1:0.97699\tVGG 2:0.91887\tVGG *:0.81301\n",
            "\tval\tLoss: 0.30999\tVGG 1:0.97215\tVGG 2:0.97336\tVGG *:0.96458\n",
            "\ttest\tLoss: 0.29405\tVGG 1:0.97903\tVGG 2:0.97004\tVGG *:0.9643\n",
            "Accuracy test VGGA: 0.97233\n",
            "Accuracy test VGGB: 0.97218\n",
            "Accuracy test VGG*: 0.96517\n",
            "Accuracy test VGGSTAR: 0.71193\n",
            "Best accuracy test is: 0.80459\n"
          ]
        },
        {
          "metadata": {
            "tags": null
          },
          "name": "stderr",
          "output_type": "stream",
          "text": [
            " [Elapsed Time: 0:01:52] |###############| [Time:  0:01:52] [Train Acc:  0.953]\n"
          ]
        },
        {
          "metadata": {
            "tags": null
          },
          "name": "stdout",
          "output_type": "stream",
          "text": [
            "Epoch 16:\n",
            "\ttrain\tLoss: 0.37577\tVGG 1:0.97853\tVGG 2:0.97293\tVGG *:0.92651\n",
            "\tval\tLoss: 0.25576\tVGG 1:0.97606\tVGG 2:0.97585\tVGG *:0.96769\n",
            "\ttest\tLoss: 0.22981\tVGG 1:0.97943\tVGG 2:0.97706\tVGG *:0.97048\n",
            "Accuracy test VGGA: 0.96979\n",
            "Accuracy test VGGB: 0.97781\n",
            "Accuracy test VGG*: 0.96905\n",
            "Accuracy test VGGSTAR: 0.69238\n",
            "Best accuracy test is: 0.80459\n"
          ]
        },
        {
          "metadata": {
            "tags": null
          },
          "name": "stderr",
          "output_type": "stream",
          "text": [
            " [Elapsed Time: 0:01:51] |###############| [Time:  0:01:51] [Train Acc:  0.969]\n"
          ]
        },
        {
          "metadata": {
            "tags": null
          },
          "name": "stdout",
          "output_type": "stream",
          "text": [
            "Epoch 17:\n",
            "\ttrain\tLoss: 0.32656\tVGG 1:0.98072\tVGG 2:0.97916\tVGG *:0.93593\n",
            "\tval\tLoss: 0.24468\tVGG 1:0.9739\tVGG 2:0.97863\tVGG *:0.97008\n",
            "\ttest\tLoss: 0.21277\tVGG 1:0.98032\tVGG 2:0.97923\tVGG *:0.97038\n",
            "Accuracy test VGGA: 0.97323\n",
            "Accuracy test VGGB: 0.98094\n",
            "Accuracy test VGG*: 0.97014\n",
            "Accuracy test VGGSTAR: 0.59768\n",
            "Best accuracy test is: 0.80459\n"
          ]
        },
        {
          "metadata": {
            "tags": null
          },
          "name": "stderr",
          "output_type": "stream",
          "text": [
            " [Elapsed Time: 0:01:51] |###############| [Time:  0:01:51] [Train Acc:  0.984]\n"
          ]
        },
        {
          "output_type": "stream",
          "text": [
            "Epoch 18:\n",
            "\ttrain\tLoss: 0.42784\tVGG 1:0.9818\tVGG 2:0.98154\tVGG *:0.907\n",
            "\tval\tLoss: 0.2553\tVGG 1:0.97642\tVGG 2:0.97799\tVGG *:0.97057\n",
            "\ttest\tLoss: 0.23411\tVGG 1:0.98131\tVGG 2:0.98022\tVGG *:0.96944\n",
            "Accuracy test VGGA: 0.97278\n",
            "Accuracy test VGGB: 0.98273\n",
            "Accuracy test VGG*: 0.9684\n",
            "Accuracy test VGGSTAR: 0.81663\n",
            "Best accuracy test is: 0.81663\n"
          ],
          "name": "stdout"
        },
        {
          "output_type": "stream",
          "text": [
            " [Elapsed Time: 0:01:52] |###############| [Time:  0:01:52] [Train Acc:  0.977]\n"
          ],
          "name": "stderr"
        },
        {
          "output_type": "stream",
          "text": [
            "Epoch 19:\n",
            "\ttrain\tLoss: 0.25121\tVGG 1:0.98178\tVGG 2:0.98369\tVGG *:0.95418\n",
            "\tval\tLoss: 0.20534\tVGG 1:0.98096\tVGG 2:0.98084\tVGG *:0.9739\n",
            "\ttest\tLoss: 0.18568\tVGG 1:0.98319\tVGG 2:0.9825\tVGG *:0.97434\n",
            "Accuracy test VGGA: 0.97631\n",
            "Accuracy test VGGB: 0.98298\n",
            "Accuracy test VGG*: 0.97363\n",
            "Accuracy test VGGSTAR: 0.7714\n",
            "Best accuracy test is: 0.81663\n"
          ],
          "name": "stdout"
        },
        {
          "output_type": "stream",
          "text": [
            " [Elapsed Time: 0:01:52] |###############| [Time:  0:01:52] [Train Acc:  0.973]\n"
          ],
          "name": "stderr"
        },
        {
          "output_type": "stream",
          "text": [
            "Epoch 20:\n",
            "\ttrain\tLoss: 0.23194\tVGG 1:0.98436\tVGG 2:0.98478\tVGG *:0.9576\n",
            "\tval\tLoss: 0.20175\tVGG 1:0.9786\tVGG 2:0.9835\tVGG *:0.97513\n",
            "\ttest\tLoss: 0.20315\tVGG 1:0.98072\tVGG 2:0.98279\tVGG *:0.97043\n",
            "Accuracy test VGGA: 0.9697\n",
            "Accuracy test VGGB: 0.98368\n",
            "Accuracy test VGG*: 0.97009\n",
            "Accuracy test VGGSTAR: 0.79857\n",
            "Best accuracy test is: 0.81663\n"
          ],
          "name": "stdout"
        },
        {
          "output_type": "stream",
          "text": [
            " [Elapsed Time: 0:01:52] |###############| [Time:  0:01:52] [Train Acc:   0.98]\n"
          ],
          "name": "stderr"
        },
        {
          "output_type": "stream",
          "text": [
            "Epoch 21:\n",
            "\ttrain\tLoss: 0.23055\tVGG 1:0.98595\tVGG 2:0.98523\tVGG *:0.95871\n",
            "\tval\tLoss: 0.19336\tVGG 1:0.98096\tVGG 2:0.9867\tVGG *:0.97592\n",
            "\ttest\tLoss: 0.17412\tVGG 1:0.98428\tVGG 2:0.98635\tVGG *:0.97587\n",
            "Accuracy test VGGA: 0.97676\n",
            "Accuracy test VGGB: 0.98557\n",
            "Accuracy test VGG*: 0.97522\n",
            "Accuracy test VGGSTAR: 0.80728\n",
            "Best accuracy test is: 0.81663\n"
          ],
          "name": "stdout"
        },
        {
          "output_type": "stream",
          "text": [
            " [Elapsed Time: 0:01:54] |###############| [Time:  0:01:54] [Train Acc:  0.961]\n"
          ],
          "name": "stderr"
        },
        {
          "output_type": "stream",
          "text": [
            "Epoch 22:\n",
            "\ttrain\tLoss: 0.25604\tVGG 1:0.98738\tVGG 2:0.98599\tVGG *:0.94566\n",
            "\tval\tLoss: 0.19023\tVGG 1:0.97993\tVGG 2:0.98635\tVGG *:0.97505\n",
            "\ttest\tLoss: 0.1833\tVGG 1:0.98358\tVGG 2:0.98447\tVGG *:0.97246\n",
            "Accuracy test VGGA: 0.97457\n",
            "Accuracy test VGGB: 0.98642\n",
            "Accuracy test VGG*: 0.97268\n",
            "Accuracy test VGGSTAR: 0.89281\n",
            "Best accuracy test is: 0.89281\n"
          ],
          "name": "stdout"
        },
        {
          "output_type": "stream",
          "text": [
            " [Elapsed Time: 0:01:53] |###############| [Time:  0:01:53] [Train Acc:  0.941]\n"
          ],
          "name": "stderr"
        },
        {
          "output_type": "stream",
          "text": [
            "Epoch 23:\n",
            "\ttrain\tLoss: 0.24001\tVGG 1:0.98697\tVGG 2:0.98632\tVGG *:0.9508\n",
            "\tval\tLoss: 0.19638\tVGG 1:0.98176\tVGG 2:0.98537\tVGG *:0.97206\n",
            "\ttest\tLoss: 0.19473\tVGG 1:0.9823\tVGG 2:0.98279\tVGG *:0.97142\n",
            "Accuracy test VGGA: 0.97368\n",
            "Accuracy test VGGB: 0.98408\n",
            "Accuracy test VGG*: 0.97119\n",
            "Accuracy test VGGSTAR: 0.86027\n",
            "Best accuracy test is: 0.89281\n"
          ],
          "name": "stdout"
        },
        {
          "output_type": "stream",
          "text": [
            " [Elapsed Time: 0:01:52] |###############| [Time:  0:01:52] [Train Acc:  0.984]\n"
          ],
          "name": "stderr"
        },
        {
          "output_type": "stream",
          "text": [
            "Epoch 24:\n",
            "\ttrain\tLoss: 0.23187\tVGG 1:0.9882\tVGG 2:0.98766\tVGG *:0.94995\n",
            "\tval\tLoss: 0.18274\tVGG 1:0.98245\tVGG 2:0.98352\tVGG *:0.97972\n",
            "\ttest\tLoss: 0.16492\tVGG 1:0.98358\tVGG 2:0.98576\tVGG *:0.97725\n",
            "Accuracy test VGGA: 0.97368\n",
            "Accuracy test VGGB: 0.98527\n",
            "Accuracy test VGG*: 0.97646\n",
            "Accuracy test VGGSTAR: 0.81519\n",
            "Best accuracy test is: 0.89281\n"
          ],
          "name": "stdout"
        },
        {
          "output_type": "stream",
          "text": [
            " [Elapsed Time: 0:01:52] |###############| [Time:  0:01:52] [Train Acc:  0.957]\n"
          ],
          "name": "stderr"
        },
        {
          "output_type": "stream",
          "text": [
            "Epoch 25:\n",
            "\ttrain\tLoss: 0.25188\tVGG 1:0.9889\tVGG 2:0.98786\tVGG *:0.94388\n",
            "\tval\tLoss: 0.20746\tVGG 1:0.98041\tVGG 2:0.98471\tVGG *:0.97147\n",
            "\ttest\tLoss: 0.18776\tVGG 1:0.98329\tVGG 2:0.98388\tVGG *:0.97325\n",
            "Accuracy test VGGA: 0.97656\n",
            "Accuracy test VGGB: 0.98537\n",
            "Accuracy test VGG*: 0.97348\n",
            "Accuracy test VGGSTAR: 0.87137\n",
            "Best accuracy test is: 0.89281\n"
          ],
          "name": "stdout"
        },
        {
          "output_type": "stream",
          "text": [
            " [Elapsed Time: 0:01:52] |###############| [Time:  0:01:52] [Train Acc:  0.961]\n"
          ],
          "name": "stderr"
        },
        {
          "output_type": "stream",
          "text": [
            "Epoch 26:\n",
            "\ttrain\tLoss: 0.19194\tVGG 1:0.98946\tVGG 2:0.98833\tVGG *:0.96081\n",
            "\tval\tLoss: 0.22057\tVGG 1:0.97832\tVGG 2:0.98787\tVGG *:0.96516\n",
            "\ttest\tLoss: 0.20523\tVGG 1:0.98111\tVGG 2:0.98625\tVGG *:0.96652\n",
            "Accuracy test VGGA: 0.97104\n",
            "Accuracy test VGGB: 0.98816\n",
            "Accuracy test VGG*: 0.96571\n",
            "Accuracy test VGGSTAR: 0.89361\n",
            "Best accuracy test is: 0.89361\n"
          ],
          "name": "stdout"
        },
        {
          "output_type": "stream",
          "text": [
            " [Elapsed Time: 0:01:52] |###############| [Time:  0:01:52] [Train Acc:  0.984]\n"
          ],
          "name": "stderr"
        },
        {
          "output_type": "stream",
          "text": [
            "Epoch 27:\n",
            "\ttrain\tLoss: 0.17439\tVGG 1:0.99102\tVGG 2:0.98851\tVGG *:0.96482\n",
            "\tval\tLoss: 0.17959\tVGG 1:0.98392\tVGG 2:0.98449\tVGG *:0.97857\n",
            "\ttest\tLoss: 0.16205\tVGG 1:0.98566\tVGG 2:0.9823\tVGG *:0.97859\n",
            "Accuracy test VGGA: 0.97811\n",
            "Accuracy test VGGB: 0.98512\n",
            "Accuracy test VGG*: 0.97716\n",
            "Accuracy test VGGSTAR: 0.88918\n",
            "Best accuracy test is: 0.89361\n"
          ],
          "name": "stdout"
        },
        {
          "output_type": "stream",
          "text": [
            " [Elapsed Time: 0:01:52] |###############| [Time:  0:01:52] [Train Acc:   0.98]\n"
          ],
          "name": "stderr"
        },
        {
          "output_type": "stream",
          "text": [
            "Epoch 28:\n",
            "\ttrain\tLoss: 0.17414\tVGG 1:0.9912\tVGG 2:0.9895\tVGG *:0.96427\n",
            "\tval\tLoss: 0.18196\tVGG 1:0.98378\tVGG 2:0.98637\tVGG *:0.97673\n",
            "\ttest\tLoss: 0.16487\tVGG 1:0.98635\tVGG 2:0.98665\tVGG *:0.97478\n",
            "Accuracy test VGGA: 0.9786\n",
            "Accuracy test VGGB: 0.98671\n",
            "Accuracy test VGG*: 0.97467\n",
            "Accuracy test VGGSTAR: 0.91789\n",
            "Best accuracy test is: 0.91789\n"
          ],
          "name": "stdout"
        },
        {
          "output_type": "stream",
          "text": [
            " [Elapsed Time: 0:01:52] |###############| [Time:  0:01:52] [Train Acc:  0.988]\n"
          ],
          "name": "stderr"
        },
        {
          "output_type": "stream",
          "text": [
            "Epoch 29:\n",
            "\ttrain\tLoss: 0.1764\tVGG 1:0.99165\tVGG 2:0.99\tVGG *:0.96206\n",
            "\tval\tLoss: 0.17225\tVGG 1:0.9835\tVGG 2:0.98549\tVGG *:0.97724\n",
            "\ttest\tLoss: 0.16781\tVGG 1:0.98428\tVGG 2:0.98408\tVGG *:0.97814\n",
            "Accuracy test VGGA: 0.97661\n",
            "Accuracy test VGGB: 0.98597\n",
            "Accuracy test VGG*: 0.97776\n",
            "Accuracy test VGGSTAR: 0.88545\n",
            "Best accuracy test is: 0.91789\n"
          ],
          "name": "stdout"
        },
        {
          "output_type": "stream",
          "text": [
            " [Elapsed Time: 0:01:52] |###############| [Time:  0:01:52] [Train Acc:   0.98]\n"
          ],
          "name": "stderr"
        },
        {
          "output_type": "stream",
          "text": [
            "Epoch 30:\n",
            "\ttrain\tLoss: 0.17056\tVGG 1:0.99198\tVGG 2:0.99013\tVGG *:0.96385\n",
            "\tval\tLoss: 0.17319\tVGG 1:0.984\tVGG 2:0.98551\tVGG *:0.97706\n",
            "\ttest\tLoss: 0.16836\tVGG 1:0.98517\tVGG 2:0.98497\tVGG *:0.97656\n",
            "Accuracy test VGGA: 0.97716\n",
            "Accuracy test VGGB: 0.98771\n",
            "Accuracy test VGG*: 0.97676\n",
            "Accuracy test VGGSTAR: 0.84574\n",
            "Best accuracy test is: 0.91789\n"
          ],
          "name": "stdout"
        },
        {
          "output_type": "stream",
          "text": [
            " [Elapsed Time: 0:01:52] |###############| [Time:  0:01:52] [Train Acc:  0.984]\n"
          ],
          "name": "stderr"
        },
        {
          "output_type": "stream",
          "text": [
            "Epoch 31:\n",
            "\ttrain\tLoss: 0.17194\tVGG 1:0.9928\tVGG 2:0.99057\tVGG *:0.96206\n",
            "\tval\tLoss: 0.17077\tVGG 1:0.98314\tVGG 2:0.9877\tVGG *:0.97707\n",
            "\ttest\tLoss: 0.15925\tVGG 1:0.98457\tVGG 2:0.98705\tVGG *:0.97721\n",
            "Accuracy test VGGA: 0.97592\n",
            "Accuracy test VGGB: 0.98716\n",
            "Accuracy test VGG*: 0.97776\n",
            "Accuracy test VGGSTAR: 0.76752\n",
            "Best accuracy test is: 0.91789\n"
          ],
          "name": "stdout"
        },
        {
          "output_type": "stream",
          "text": [
            " [Elapsed Time: 0:01:52] |###############| [Time:  0:01:52] [Train Acc:   0.98]\n"
          ],
          "name": "stderr"
        },
        {
          "output_type": "stream",
          "text": [
            "Epoch 32:\n",
            "\ttrain\tLoss: 0.15923\tVGG 1:0.99352\tVGG 2:0.99145\tVGG *:0.96479\n",
            "\tval\tLoss: 0.2046\tVGG 1:0.98134\tVGG 2:0.98485\tVGG *:0.97141\n",
            "\ttest\tLoss: 0.19733\tVGG 1:0.98339\tVGG 2:0.98586\tVGG *:0.96855\n",
            "Accuracy test VGGA: 0.97054\n",
            "Accuracy test VGGB: 0.98711\n",
            "Accuracy test VGG*: 0.96895\n",
            "Accuracy test VGGSTAR: 0.77125\n",
            "Best accuracy test is: 0.91789\n"
          ],
          "name": "stdout"
        },
        {
          "output_type": "stream",
          "text": [
            " [Elapsed Time: 0:01:52] |###############| [Time:  0:01:52] [Train Acc:  0.953]\n"
          ],
          "name": "stderr"
        },
        {
          "output_type": "stream",
          "text": [
            "Epoch 33:\n",
            "\ttrain\tLoss: 0.14755\tVGG 1:0.99362\tVGG 2:0.99171\tVGG *:0.96841\n",
            "\tval\tLoss: 0.17127\tVGG 1:0.98191\tVGG 2:0.98753\tVGG *:0.97992\n",
            "\ttest\tLoss: 0.17507\tVGG 1:0.98111\tVGG 2:0.98655\tVGG *:0.97765\n",
            "Accuracy test VGGA: 0.97129\n",
            "Accuracy test VGGB: 0.98756\n",
            "Accuracy test VGG*: 0.97741\n",
            "Accuracy test VGGSTAR: 0.7497\n",
            "Best accuracy test is: 0.91789\n"
          ],
          "name": "stdout"
        },
        {
          "output_type": "stream",
          "text": [
            " [Elapsed Time: 0:01:52] |###############| [Time:  0:01:52] [Train Acc:  0.965]\n"
          ],
          "name": "stderr"
        },
        {
          "output_type": "stream",
          "text": [
            "Epoch 34:\n",
            "\ttrain\tLoss: 0.20734\tVGG 1:0.99404\tVGG 2:0.9923\tVGG *:0.94966\n",
            "\tval\tLoss: 0.20451\tVGG 1:0.98193\tVGG 2:0.98654\tVGG *:0.97416\n",
            "\ttest\tLoss: 0.16849\tVGG 1:0.98714\tVGG 2:0.98507\tVGG *:0.97473\n",
            "Accuracy test VGGA: 0.98089\n",
            "Accuracy test VGGB: 0.98761\n",
            "Accuracy test VGG*: 0.97427\n",
            "Accuracy test VGGSTAR: 0.79289\n",
            "Best accuracy test is: 0.91789\n"
          ],
          "name": "stdout"
        },
        {
          "output_type": "stream",
          "text": [
            " [Elapsed Time: 0:01:52] |###############| [Time:  0:01:52] [Train Acc:  0.977]\n"
          ],
          "name": "stderr"
        },
        {
          "output_type": "stream",
          "text": [
            "Epoch 35:\n",
            "\ttrain\tLoss: 0.15311\tVGG 1:0.99428\tVGG 2:0.99241\tVGG *:0.9648\n",
            "\tval\tLoss: 0.17624\tVGG 1:0.98345\tVGG 2:0.98803\tVGG *:0.97681\n",
            "\ttest\tLoss: 0.16356\tVGG 1:0.98695\tVGG 2:0.98853\tVGG *:0.97276\n",
            "Accuracy test VGGA: 0.9784\n",
            "Accuracy test VGGB: 0.98855\n",
            "Accuracy test VGG*: 0.97338\n",
            "Accuracy test VGGSTAR: 0.73766\n",
            "Best accuracy test is: 0.91789\n"
          ],
          "name": "stdout"
        },
        {
          "output_type": "stream",
          "text": [
            " [Elapsed Time: 0:01:52] |###############| [Time:  0:01:52] [Train Acc:  0.973]\n"
          ],
          "name": "stderr"
        },
        {
          "output_type": "stream",
          "text": [
            "Epoch 36:\n",
            "\ttrain\tLoss: 0.13186\tVGG 1:0.99458\tVGG 2:0.99232\tVGG *:0.97115\n",
            "\tval\tLoss: 0.16949\tVGG 1:0.98328\tVGG 2:0.98632\tVGG *:0.98116\n",
            "\ttest\tLoss: 0.15006\tVGG 1:0.98546\tVGG 2:0.98705\tVGG *:0.98121\n",
            "Accuracy test VGGA: 0.98064\n",
            "Accuracy test VGGB: 0.98841\n",
            "Accuracy test VGG*: 0.98049\n",
            "Accuracy test VGGSTAR: 0.84315\n",
            "Best accuracy test is: 0.91789\n"
          ],
          "name": "stdout"
        },
        {
          "output_type": "stream",
          "text": [
            " [Elapsed Time: 0:01:52] |###############| [Time:  0:01:52] [Train Acc:   0.98]\n"
          ],
          "name": "stderr"
        },
        {
          "output_type": "stream",
          "text": [
            "Epoch 37:\n",
            "\ttrain\tLoss: 0.13106\tVGG 1:0.99484\tVGG 2:0.99295\tVGG *:0.97066\n",
            "\tval\tLoss: 0.153\tVGG 1:0.98544\tVGG 2:0.98801\tVGG *:0.98207\n",
            "\ttest\tLoss: 0.14575\tVGG 1:0.98705\tVGG 2:0.98833\tVGG *:0.98032\n",
            "Accuracy test VGGA: 0.98094\n",
            "Accuracy test VGGB: 0.98851\n",
            "Accuracy test VGG*: 0.97915\n",
            "Accuracy test VGGSTAR: 0.81673\n",
            "Best accuracy test is: 0.91789\n"
          ],
          "name": "stdout"
        },
        {
          "output_type": "stream",
          "text": [
            " [Elapsed Time: 0:01:52] |###############| [Time:  0:01:52] [Train Acc:   0.98]\n"
          ],
          "name": "stderr"
        },
        {
          "output_type": "stream",
          "text": [
            "Epoch 38:\n",
            "\ttrain\tLoss: 0.15681\tVGG 1:0.99536\tVGG 2:0.99345\tVGG *:0.96238\n",
            "\tval\tLoss: 0.17593\tVGG 1:0.98492\tVGG 2:0.98803\tVGG *:0.97615\n",
            "\ttest\tLoss: 0.16358\tVGG 1:0.98774\tVGG 2:0.98625\tVGG *:0.97701\n",
            "Accuracy test VGGA: 0.9795\n",
            "Accuracy test VGGB: 0.98786\n",
            "Accuracy test VGG*: 0.97606\n",
            "Accuracy test VGGSTAR: 0.83026\n",
            "Best accuracy test is: 0.91789\n"
          ],
          "name": "stdout"
        },
        {
          "output_type": "stream",
          "text": [
            " [Elapsed Time: 0:01:53] |###############| [Time:  0:01:53] [Train Acc:  0.984]\n"
          ],
          "name": "stderr"
        },
        {
          "output_type": "stream",
          "text": [
            "Epoch 39:\n",
            "\ttrain\tLoss: 0.11792\tVGG 1:0.99521\tVGG 2:0.99369\tVGG *:0.97319\n",
            "\tval\tLoss: 0.15467\tVGG 1:0.98663\tVGG 2:0.98834\tVGG *:0.98098\n",
            "\ttest\tLoss: 0.1539\tVGG 1:0.98655\tVGG 2:0.98764\tVGG *:0.9779\n",
            "Accuracy test VGGA: 0.98064\n",
            "Accuracy test VGGB: 0.98791\n",
            "Accuracy test VGG*: 0.9785\n",
            "Accuracy test VGGSTAR: 0.86365\n",
            "Best accuracy test is: 0.91789\n"
          ],
          "name": "stdout"
        },
        {
          "output_type": "stream",
          "text": [
            " [Elapsed Time: 0:01:52] |###############| [Time:  0:01:52] [Train Acc:  0.984]\n"
          ],
          "name": "stderr"
        },
        {
          "output_type": "stream",
          "text": [
            "Epoch 40:\n",
            "\ttrain\tLoss: 0.12356\tVGG 1:0.99625\tVGG 2:0.99447\tVGG *:0.96995\n",
            "\tval\tLoss: 0.15531\tVGG 1:0.98661\tVGG 2:0.9862\tVGG *:0.98073\n",
            "\ttest\tLoss: 0.14801\tVGG 1:0.98596\tVGG 2:0.98685\tVGG *:0.97973\n",
            "Accuracy test VGGA: 0.98064\n",
            "Accuracy test VGGB: 0.98895\n",
            "Accuracy test VGG*: 0.98024\n",
            "Accuracy test VGGSTAR: 0.85141\n",
            "Best accuracy test is: 0.91789\n"
          ],
          "name": "stdout"
        },
        {
          "output_type": "stream",
          "text": [
            " [Elapsed Time: 0:01:53] |###############| [Time:  0:01:53] [Train Acc:  0.984]\n"
          ],
          "name": "stderr"
        },
        {
          "output_type": "stream",
          "text": [
            "Epoch 41:\n",
            "\ttrain\tLoss: 0.11809\tVGG 1:0.99607\tVGG 2:0.9941\tVGG *:0.97251\n",
            "\tval\tLoss: 0.16735\tVGG 1:0.98475\tVGG 2:0.98834\tVGG *:0.98053\n",
            "\ttest\tLoss: 0.14113\tVGG 1:0.98942\tVGG 2:0.98794\tVGG *:0.9819\n",
            "Accuracy test VGGA: 0.98323\n",
            "Accuracy test VGGB: 0.98836\n",
            "Accuracy test VGG*: 0.98104\n",
            "Accuracy test VGGSTAR: 0.83972\n",
            "Best accuracy test is: 0.91789\n"
          ],
          "name": "stdout"
        },
        {
          "output_type": "stream",
          "text": [
            " [Elapsed Time: 0:01:53] |###############| [Time:  0:01:53] [Train Acc:  0.984]\n"
          ],
          "name": "stderr"
        },
        {
          "output_type": "stream",
          "text": [
            "Epoch 42:\n",
            "\ttrain\tLoss: 0.11756\tVGG 1:0.99629\tVGG 2:0.99326\tVGG *:0.97232\n",
            "\tval\tLoss: 0.15816\tVGG 1:0.9853\tVGG 2:0.98801\tVGG *:0.98026\n",
            "\ttest\tLoss: 0.15757\tVGG 1:0.98665\tVGG 2:0.98635\tVGG *:0.97948\n",
            "Accuracy test VGGA: 0.97855\n",
            "Accuracy test VGGB: 0.98656\n",
            "Accuracy test VGG*: 0.9783\n",
            "Accuracy test VGGSTAR: 0.75552\n",
            "Best accuracy test is: 0.91789\n"
          ],
          "name": "stdout"
        },
        {
          "output_type": "stream",
          "text": [
            " [Elapsed Time: 0:01:52] |###############| [Time:  0:01:52] [Train Acc:  0.965]\n"
          ],
          "name": "stderr"
        },
        {
          "output_type": "stream",
          "text": [
            "Epoch 43:\n",
            "\ttrain\tLoss: 0.11878\tVGG 1:0.99623\tVGG 2:0.99432\tVGG *:0.97104\n",
            "\tval\tLoss: 0.15753\tVGG 1:0.98544\tVGG 2:0.98969\tVGG *:0.98082\n",
            "\ttest\tLoss: 0.15515\tVGG 1:0.98645\tVGG 2:0.98902\tVGG *:0.97859\n",
            "Accuracy test VGGA: 0.98194\n",
            "Accuracy test VGGB: 0.9894\n",
            "Accuracy test VGG*: 0.97925\n",
            "Accuracy test VGGSTAR: 0.80011\n",
            "Best accuracy test is: 0.91789\n"
          ],
          "name": "stdout"
        },
        {
          "output_type": "stream",
          "text": [
            " [Elapsed Time: 0:01:52] |###############| [Time:  0:01:52] [Train Acc:  0.977]\n"
          ],
          "name": "stderr"
        },
        {
          "output_type": "stream",
          "text": [
            "Epoch 44:\n",
            "\ttrain\tLoss: 0.12529\tVGG 1:0.99646\tVGG 2:0.99354\tVGG *:0.9696\n",
            "\tval\tLoss: 0.17592\tVGG 1:0.9843\tVGG 2:0.98483\tVGG *:0.98009\n",
            "\ttest\tLoss: 0.15123\tVGG 1:0.98616\tVGG 2:0.98853\tVGG *:0.97973\n",
            "Accuracy test VGGA: 0.98049\n",
            "Accuracy test VGGB: 0.9899\n",
            "Accuracy test VGG*: 0.98024\n",
            "Accuracy test VGGSTAR: 0.80135\n",
            "Best accuracy test is: 0.91789\n"
          ],
          "name": "stdout"
        },
        {
          "output_type": "stream",
          "text": [
            " [Elapsed Time: 0:01:52] |###############| [Time:  0:01:52] [Train Acc:  0.969]\n"
          ],
          "name": "stderr"
        },
        {
          "output_type": "stream",
          "text": [
            "Epoch 45:\n",
            "\ttrain\tLoss: 0.13983\tVGG 1:0.99699\tVGG 2:0.99415\tVGG *:0.96543\n",
            "\tval\tLoss: 0.18075\tVGG 1:0.98513\tVGG 2:0.98654\tVGG *:0.97879\n",
            "\ttest\tLoss: 0.16229\tVGG 1:0.98714\tVGG 2:0.98447\tVGG *:0.97988\n",
            "Accuracy test VGGA: 0.97955\n",
            "Accuracy test VGGB: 0.98666\n",
            "Accuracy test VGG*: 0.97945\n",
            "Accuracy test VGGSTAR: 0.73293\n",
            "Best accuracy test is: 0.91789\n"
          ],
          "name": "stdout"
        },
        {
          "output_type": "stream",
          "text": [
            " [Elapsed Time: 0:01:53] |###############| [Time:  0:01:53] [Train Acc:  0.969]\n"
          ],
          "name": "stderr"
        },
        {
          "output_type": "stream",
          "text": [
            "Epoch 46:\n",
            "\ttrain\tLoss: 0.11337\tVGG 1:0.99731\tVGG 2:0.99456\tVGG *:0.97098\n",
            "\tval\tLoss: 0.16354\tVGG 1:0.98646\tVGG 2:0.98765\tVGG *:0.97933\n",
            "\ttest\tLoss: 0.16954\tVGG 1:0.98625\tVGG 2:0.98566\tVGG *:0.9776\n",
            "Accuracy test VGGA: 0.9788\n",
            "Accuracy test VGGB: 0.98726\n",
            "Accuracy test VGG*: 0.97641\n",
            "Accuracy test VGGSTAR: 0.76289\n",
            "Best accuracy test is: 0.91789\n"
          ],
          "name": "stdout"
        },
        {
          "output_type": "stream",
          "text": [
            " [Elapsed Time: 0:01:52] |###############| [Time:  0:01:52] [Train Acc:  0.984]\n"
          ],
          "name": "stderr"
        },
        {
          "output_type": "stream",
          "text": [
            "Epoch 47:\n",
            "\ttrain\tLoss: 0.10478\tVGG 1:0.99742\tVGG 2:0.99482\tVGG *:0.9738\n",
            "\tval\tLoss: 0.16262\tVGG 1:0.9853\tVGG 2:0.98801\tVGG *:0.98037\n",
            "\ttest\tLoss: 0.14987\tVGG 1:0.98734\tVGG 2:0.98774\tVGG *:0.97963\n",
            "Accuracy test VGGA: 0.9797\n",
            "Accuracy test VGGB: 0.9889\n",
            "Accuracy test VGG*: 0.9797\n",
            "Accuracy test VGGSTAR: 0.71382\n",
            "Best accuracy test is: 0.91789\n"
          ],
          "name": "stdout"
        },
        {
          "output_type": "stream",
          "text": [
            " [Elapsed Time: 0:01:53] |###############| [Time:  0:01:53] [Train Acc:  0.973]\n"
          ],
          "name": "stderr"
        },
        {
          "output_type": "stream",
          "text": [
            "Epoch 48:\n",
            "\ttrain\tLoss: 0.10901\tVGG 1:0.99722\tVGG 2:0.99469\tVGG *:0.97349\n",
            "\tval\tLoss: 0.16454\tVGG 1:0.9858\tVGG 2:0.98753\tVGG *:0.98026\n",
            "\ttest\tLoss: 0.16253\tVGG 1:0.98892\tVGG 2:0.98616\tVGG *:0.97671\n",
            "Accuracy test VGGA: 0.98109\n",
            "Accuracy test VGGB: 0.98731\n",
            "Accuracy test VGG*: 0.97691\n",
            "Accuracy test VGGSTAR: 0.7493\n",
            "Best accuracy test is: 0.91789\n"
          ],
          "name": "stdout"
        },
        {
          "output_type": "stream",
          "text": [
            " [Elapsed Time: 0:01:52] |###############| [Time:  0:01:52] [Train Acc:   0.98]\n"
          ],
          "name": "stderr"
        },
        {
          "output_type": "stream",
          "text": [
            "Epoch 49:\n",
            "\ttrain\tLoss: 0.10822\tVGG 1:0.99738\tVGG 2:0.99469\tVGG *:0.97269\n",
            "\tval\tLoss: 0.15358\tVGG 1:0.98528\tVGG 2:0.99034\tVGG *:0.98242\n",
            "\ttest\tLoss: 0.14778\tVGG 1:0.98675\tVGG 2:0.98883\tVGG *:0.98225\n",
            "Accuracy test VGGA: 0.9787\n",
            "Accuracy test VGGB: 0.9901\n",
            "Accuracy test VGG*: 0.98243\n",
            "Accuracy test VGGSTAR: 0.8431\n",
            "Best accuracy test is: 0.91789\n"
          ],
          "name": "stdout"
        },
        {
          "output_type": "stream",
          "text": [
            " [Elapsed Time: 0:01:52] |###############| [Time:  0:01:52] [Train Acc:  0.949]\n"
          ],
          "name": "stderr"
        },
        {
          "output_type": "stream",
          "text": [
            "Epoch 50:\n",
            "\ttrain\tLoss: 0.10393\tVGG 1:0.99762\tVGG 2:0.99532\tVGG *:0.97364\n",
            "\tval\tLoss: 0.15027\tVGG 1:0.9858\tVGG 2:0.98984\tVGG *:0.97979\n",
            "\ttest\tLoss: 0.1558\tVGG 1:0.98675\tVGG 2:0.98873\tVGG *:0.97859\n",
            "Accuracy test VGGA: 0.9792\n",
            "Accuracy test VGGB: 0.98935\n",
            "Accuracy test VGG*: 0.97781\n",
            "Accuracy test VGGSTAR: 0.85236\n",
            "Best accuracy test is: 0.91789\n"
          ],
          "name": "stdout"
        },
        {
          "output_type": "display_data",
          "data": {
            "image/png": "[encoded data removed]",
            "text/plain": [
              "<Figure size 432x288 with 1 Axes>"
            ]
          },
          "metadata": {
            "needs_background": "light"
          }
        }
      ]
    },
    {
      "cell_type": "markdown",
      "metadata": {
        "id": "15ZgK0Ox269b"
      },
      "source": [
        "Now you can download federated_mnist_best_test.pth"
      ]
    }
  ]
}
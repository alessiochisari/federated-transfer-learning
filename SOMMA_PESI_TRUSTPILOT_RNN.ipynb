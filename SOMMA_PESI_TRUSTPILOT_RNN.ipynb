{
  "nbformat": 4,
  "nbformat_minor": 0,
  "metadata": {
    "colab": {
      "name": "SOMMA PESI TRUSTPILOT RNN",
      "provenance": [],
      "collapsed_sections": []
    },
    "kernelspec": {
      "name": "python3",
      "display_name": "Python 3"
    },
    "language_info": {
      "name": "python"
    },
    "accelerator": "GPU"
  },
  "cells": [
    {
      "cell_type": "code",
      "metadata": {
        "colab": {
          "base_uri": "https://localhost:8080/"
        },
        "id": "xxvYWRneLNdc",
        "outputId": "ab7b016d-c300-4b62-b857-33e299868ed4"
      },
      "source": [
        "!pip install --upgrade progressbar2"
      ],
      "execution_count": null,
      "outputs": [
        {
          "output_type": "stream",
          "name": "stdout",
          "text": [
            "Requirement already satisfied: progressbar2 in /usr/local/lib/python3.7/dist-packages (3.38.0)\n",
            "Collecting progressbar2\n",
            "  Downloading progressbar2-3.53.3-py2.py3-none-any.whl (25 kB)\n",
            "Requirement already satisfied: six in /usr/local/lib/python3.7/dist-packages (from progressbar2) (1.15.0)\n",
            "Requirement already satisfied: python-utils>=2.3.0 in /usr/local/lib/python3.7/dist-packages (from progressbar2) (2.5.6)\n",
            "Installing collected packages: progressbar2\n",
            "  Attempting uninstall: progressbar2\n",
            "    Found existing installation: progressbar2 3.38.0\n",
            "    Uninstalling progressbar2-3.38.0:\n",
            "      Successfully uninstalled progressbar2-3.38.0\n",
            "Successfully installed progressbar2-3.53.3\n"
          ]
        }
      ]
    },
    {
      "cell_type": "code",
      "metadata": {
        "colab": {
          "base_uri": "https://localhost:8080/"
        },
        "id": "82ZSpeF1bCnT",
        "outputId": "544a72b7-06d1-4af4-8206-4107bcb7734d"
      },
      "source": [
        "# Define root directory from Google Drive\n",
        "from google.colab import drive\n",
        "import os\n",
        "drive.mount('/content/drive')\n",
        "drive.mount(\"/content/drive\", force_remount=True)\n",
        "os.chdir(\"/content/drive/My Drive/trustpilot\")\n",
        "os.listdir()"
      ],
      "execution_count": null,
      "outputs": [
        {
          "output_type": "stream",
          "name": "stdout",
          "text": [
            "Mounted at /content/drive\n",
            "Mounted at /content/drive\n"
          ]
        },
        {
          "output_type": "execute_result",
          "data": {
            "text/plain": [
              "['united_states.auto-adjusted_gender.geocoded.json',\n",
              " 'france.auto-adjusted_gender.NUTS-regions.json',\n",
              " 'france.json',\n",
              " 'trustpilot.pt',\n",
              " '.ipynb_checkpoints',\n",
              " 'united_states.json',\n",
              " 'trustpilot_france.pt',\n",
              " 'trustpilot_usa.pt',\n",
              " 'trustpilot_usa_bert.pt']"
            ]
          },
          "metadata": {},
          "execution_count": 2
        }
      ]
    },
    {
      "cell_type": "code",
      "metadata": {
        "colab": {
          "base_uri": "https://localhost:8080/"
        },
        "id": "dxh2x9abbD7m",
        "outputId": "0fd8ef8b-3263-4391-e607-38718cbc0efb"
      },
      "source": [
        "# Import Torch\n",
        "import torch\n",
        "# Setup device\n",
        "dev = torch.device(\"cuda\" if torch.cuda.is_available() else \"cpu\")\n",
        "print(dev)"
      ],
      "execution_count": null,
      "outputs": [
        {
          "output_type": "stream",
          "name": "stdout",
          "text": [
            "cuda\n"
          ]
        }
      ]
    },
    {
      "cell_type": "code",
      "metadata": {
        "id": "5KIG9i4VbFXg"
      },
      "source": [
        "import json\n",
        "  \n",
        "# Opening JSON file\n",
        "f = open('united_states.json',)\n",
        "  \n",
        "# returns JSON object as \n",
        "# a dictionary\n",
        "data = json.load(f)\n",
        "  \n",
        "# Closing file\n",
        "f.close()"
      ],
      "execution_count": null,
      "outputs": []
    },
    {
      "cell_type": "code",
      "metadata": {
        "id": "47JoMx-TbIcI"
      },
      "source": [
        "usa_reviews = []\n",
        "usa_targets = []"
      ],
      "execution_count": null,
      "outputs": []
    },
    {
      "cell_type": "code",
      "metadata": {
        "colab": {
          "base_uri": "https://localhost:8080/"
        },
        "id": "-iGRHe8cbJ1W",
        "outputId": "b76a3cbe-f74c-444c-93a5-e97185790571"
      },
      "source": [
        "from string import punctuation\n",
        "print(len(data))\n",
        "count = 0\n",
        "for i in range(0, len(data)):\n",
        "  if (data[i]['reviews'][0]['text'] != [] and (''.join([c for c in data[i]['reviews'][0]['text'][0] if c not in punctuation]))!= '' and count < 30000):\n",
        "    usa_reviews.append(data[i]['reviews'][0]['text'][0])\n",
        "    usa_targets.append(int(data[i]['reviews'][0]['rating']))\n",
        "    count = count + 1"
      ],
      "execution_count": null,
      "outputs": [
        {
          "output_type": "stream",
          "name": "stdout",
          "text": [
            "648784\n"
          ]
        }
      ]
    },
    {
      "cell_type": "code",
      "metadata": {
        "id": "XW__3V_xbNTS"
      },
      "source": [
        "# Remove punctuaction\n",
        "for i in range(0, len(usa_reviews)):\n",
        "  usa_reviews[i] = ''.join([c for c in usa_reviews[i] if c not in punctuation])"
      ],
      "execution_count": null,
      "outputs": []
    },
    {
      "cell_type": "code",
      "metadata": {
        "id": "OL6g05zUbQYt"
      },
      "source": [
        "# Split words\n",
        "usa_reviews = [[w for w in r.split(\" \") if len(w) > 0] for r in usa_reviews if len(r) > 0]"
      ],
      "execution_count": null,
      "outputs": []
    },
    {
      "cell_type": "code",
      "metadata": {
        "id": "mjvCpYeLNmSi",
        "colab": {
          "base_uri": "https://localhost:8080/"
        },
        "outputId": "b471524f-c61d-47a5-de70-6134cbe6df22"
      },
      "source": [
        "print(len(usa_reviews))\n",
        "print(len(usa_targets))\n",
        "print(usa_reviews[10])\n",
        "print(usa_targets[10])"
      ],
      "execution_count": null,
      "outputs": [
        {
          "output_type": "stream",
          "name": "stdout",
          "text": [
            "30000\n",
            "30000\n",
            "['Have', 'been', 'impressed', 'with', 'my', 'most', 'recent', 'order', 'as', 'usually', 'i', 'have', 'to', 'wait', 'a', 'couple', 'weeks', 'before', 'i', 'get', 'mine', 'as', 'its', 'quite', 'a', 'specific', 'prescription', 'Have', 'alway', 'supplied', 'a', 'top', 'quality', 'products', 'and', 'service', 'since', 'i', 'started', 'using', 'them', '2', 'years', 'ago', 'Would', 'recommend', 'to', 'all']\n",
            "5\n"
          ]
        }
      ]
    },
    {
      "cell_type": "code",
      "metadata": {
        "id": "hyKOpwyrKLfr",
        "colab": {
          "base_uri": "https://localhost:8080/"
        },
        "outputId": "b4cae556-c8cc-4439-ccad-0096354cbc54"
      },
      "source": [
        "# Print average review length\n",
        "review_lens_usa = [len(r) for r in usa_reviews]\n",
        "print(sum(review_lens_usa)/len(review_lens_usa))"
      ],
      "execution_count": null,
      "outputs": [
        {
          "output_type": "stream",
          "name": "stdout",
          "text": [
            "34.4464\n"
          ]
        }
      ]
    },
    {
      "cell_type": "code",
      "metadata": {
        "id": "jEfSQMF0KfQ0"
      },
      "source": [
        "# Build vocabulary\n",
        "# Start index = 1, we need 0 to pad sequences\n",
        "words_usa = list(set([w for r in usa_reviews for w in r]))\n",
        "vocab_usa = {words_usa[i]: i+1 for i in range(len(words_usa))}"
      ],
      "execution_count": null,
      "outputs": []
    },
    {
      "cell_type": "code",
      "metadata": {
        "colab": {
          "base_uri": "https://localhost:8080/"
        },
        "id": "y2QLWPOrKl-V",
        "outputId": "e00b6688-f1d6-46ef-8fac-db87f6c0ca25"
      },
      "source": [
        "len(vocab_usa)"
      ],
      "execution_count": null,
      "outputs": [
        {
          "output_type": "execute_result",
          "data": {
            "text/plain": [
              "40894"
            ]
          },
          "metadata": {},
          "execution_count": 12
        }
      ]
    },
    {
      "cell_type": "code",
      "metadata": {
        "id": "34l_3DZpKosP"
      },
      "source": [
        "# Convert reviews to word indexes\n",
        "usa_reviews = [[vocab_usa[w] for w in r] for r in usa_reviews]"
      ],
      "execution_count": null,
      "outputs": []
    },
    {
      "cell_type": "code",
      "metadata": {
        "id": "EuI1CmfrK3UG"
      },
      "source": [
        "# Imports\n",
        "import torch\n",
        "import torch.nn as nn\n",
        "import torch.nn.functional as F\n",
        "from torch.utils.data import TensorDataset, DataLoader\n",
        "import urllib\n",
        "\n",
        "# Parameters\n",
        "seq_len = 30\n",
        "frac_train = 0.8\n",
        "frac_val = 0.1\n",
        "batch_size = 64"
      ],
      "execution_count": null,
      "outputs": []
    },
    {
      "cell_type": "code",
      "metadata": {
        "id": "Fk9qfYODLBSO"
      },
      "source": [
        "# Clip reviews to max seq_len words\n",
        "usa_reviews = [r[:seq_len] for r in usa_reviews]"
      ],
      "execution_count": null,
      "outputs": []
    },
    {
      "cell_type": "code",
      "metadata": {
        "colab": {
          "base_uri": "https://localhost:8080/"
        },
        "id": "glwqTXQkLF4b",
        "outputId": "769520fb-83f8-43aa-e8a7-283a698f0ca4"
      },
      "source": [
        "# Print average review length now\n",
        "review_lens = [len(r) for r in usa_reviews]\n",
        "print(sum(review_lens)/len(review_lens))"
      ],
      "execution_count": null,
      "outputs": [
        {
          "output_type": "stream",
          "name": "stdout",
          "text": [
            "21.182033333333333\n"
          ]
        }
      ]
    },
    {
      "cell_type": "code",
      "metadata": {
        "id": "bDLycv5bLQW3"
      },
      "source": [
        "# Pad reviews shorter than seq_len\n",
        "usa_reviews = [[0]*(seq_len - len(r)) + r for r in usa_reviews]"
      ],
      "execution_count": null,
      "outputs": []
    },
    {
      "cell_type": "code",
      "metadata": {
        "colab": {
          "base_uri": "https://localhost:8080/"
        },
        "id": "dJFYBeLmLUx6",
        "outputId": "82b3e6f6-1d90-45c8-99f5-9b3ec7440e92"
      },
      "source": [
        "# Print average review length now\n",
        "review_lens = [len(r) for r in usa_reviews]\n",
        "print(sum(review_lens)/len(review_lens))"
      ],
      "execution_count": null,
      "outputs": [
        {
          "output_type": "stream",
          "name": "stdout",
          "text": [
            "30.0\n"
          ]
        }
      ]
    },
    {
      "cell_type": "code",
      "metadata": {
        "colab": {
          "base_uri": "https://localhost:8080/"
        },
        "id": "YP-cAWYELYWC",
        "outputId": "ab91e6a9-cd88-4dec-9717-ef7596c2c5ff"
      },
      "source": [
        "# Convert reviews to tensor\n",
        "data_usa = torch.LongTensor(usa_reviews)\n",
        "print(data_usa.size())"
      ],
      "execution_count": null,
      "outputs": [
        {
          "output_type": "stream",
          "name": "stdout",
          "text": [
            "torch.Size([30000, 30])\n"
          ]
        }
      ]
    },
    {
      "cell_type": "code",
      "metadata": {
        "colab": {
          "base_uri": "https://localhost:8080/"
        },
        "id": "8L69ZImvLnMi",
        "outputId": "108d1797-1ca0-4235-af30-e4ae4b2f5f2e"
      },
      "source": [
        "# Load sentiments: less than 3 stars is negative (0), 4 and 5 are positive (1)   \n",
        "sentiments_usa = [0 if f <= 3 else 1 for f in usa_targets]\n",
        "\n",
        "print(len(sentiments_usa))"
      ],
      "execution_count": null,
      "outputs": [
        {
          "output_type": "stream",
          "name": "stdout",
          "text": [
            "30000\n"
          ]
        }
      ]
    },
    {
      "cell_type": "code",
      "metadata": {
        "colab": {
          "base_uri": "https://localhost:8080/"
        },
        "id": "aEtdIHk_MfuI",
        "outputId": "79fa760c-f579-4cf3-fb8e-905e57635be0"
      },
      "source": [
        "# Convert sentiments to tensor\n",
        "labels_usa = torch.LongTensor(sentiments_usa)\n",
        "labels_usa.size()"
      ],
      "execution_count": null,
      "outputs": [
        {
          "output_type": "execute_result",
          "data": {
            "text/plain": [
              "torch.Size([30000])"
            ]
          },
          "metadata": {},
          "execution_count": 21
        }
      ]
    },
    {
      "cell_type": "code",
      "metadata": {
        "id": "hQtEn6puMrPo"
      },
      "source": [
        "# Shuffle dataset\n",
        "num_data = data_usa.size(0)\n",
        "shuffle_idx = torch.randperm(num_data)\n",
        "data_usa = data_usa[shuffle_idx,:]\n",
        "labels_usa = labels_usa[shuffle_idx]"
      ],
      "execution_count": null,
      "outputs": []
    },
    {
      "cell_type": "code",
      "metadata": {
        "id": "AoB78eOqMw8j"
      },
      "source": [
        "# Split training and test\n",
        "num_train = int(num_data*frac_train)\n",
        "num_val = int(num_data*frac_val)\n",
        "num_test = num_data - num_train - num_val\n",
        "train_data = data_usa[:num_train,:]\n",
        "train_labels = labels_usa[:num_train]\n",
        "val_data = data_usa[num_train:num_train+num_val,:]\n",
        "val_labels = labels_usa[num_train:num_train+num_val]\n",
        "test_data = data_usa[num_train+num_val:,:]\n",
        "test_labels = labels_usa[num_train+num_val:]"
      ],
      "execution_count": null,
      "outputs": []
    },
    {
      "cell_type": "code",
      "metadata": {
        "id": "HXQ2ZTNeMz2x"
      },
      "source": [
        "# Create datasets\n",
        "train_dataset_usa = TensorDataset(train_data, train_labels)\n",
        "val_dataset_usa = TensorDataset(val_data, val_labels)\n",
        "test_dataset_usa = TensorDataset(test_data, test_labels)"
      ],
      "execution_count": null,
      "outputs": []
    },
    {
      "cell_type": "code",
      "metadata": {
        "id": "J_9u386PM3Li"
      },
      "source": [
        "# Create loaders\n",
        "train_loader_usa = DataLoader(train_dataset_usa, batch_size=batch_size, shuffle=True,  drop_last=True)\n",
        "val_loader_usa = DataLoader(val_dataset_usa,   batch_size=batch_size, shuffle=False, drop_last=True)\n",
        "test_loader_usa = DataLoader(test_dataset_usa,  batch_size=batch_size, shuffle=False, drop_last=True)"
      ],
      "execution_count": null,
      "outputs": []
    },
    {
      "cell_type": "code",
      "metadata": {
        "id": "ZHHgZER3caBi"
      },
      "source": [
        ""
      ],
      "execution_count": null,
      "outputs": []
    },
    {
      "cell_type": "code",
      "metadata": {
        "id": "WvNg2d1TrHVM"
      },
      "source": [
        "import json\n",
        "  \n",
        "# Opening JSON file\n",
        "f = open('france.json',)\n",
        "  \n",
        "# returns JSON object as \n",
        "# a dictionary\n",
        "data = json.load(f)\n",
        "  \n",
        "# Closing file\n",
        "f.close()"
      ],
      "execution_count": null,
      "outputs": []
    },
    {
      "cell_type": "code",
      "metadata": {
        "id": "qfj2aVjTH7wZ"
      },
      "source": [
        "france_reviews = []\n",
        "france_targets = []"
      ],
      "execution_count": null,
      "outputs": []
    },
    {
      "cell_type": "code",
      "metadata": {
        "colab": {
          "base_uri": "https://localhost:8080/"
        },
        "id": "wiPoRvJTrZsn",
        "outputId": "a7c9e7b1-bcfa-429e-97d5-7ad8140b0645"
      },
      "source": [
        "from string import punctuation\n",
        "print(len(data))\n",
        "count = 0\n",
        "for i in range(0, len(data)):\n",
        "  if (data[i]['reviews'][0]['text'] != [] and (''.join([c for c in data[i]['reviews'][0]['text'][0] if c not in punctuation]))!= '' and count < 30000):\n",
        "    france_reviews.append(data[i]['reviews'][0]['text'][0])\n",
        "    france_targets.append(int(data[i]['reviews'][0]['rating']))\n",
        "    count = count + 1"
      ],
      "execution_count": null,
      "outputs": [
        {
          "output_type": "stream",
          "name": "stdout",
          "text": [
            "741237\n"
          ]
        }
      ]
    },
    {
      "cell_type": "code",
      "metadata": {
        "colab": {
          "base_uri": "https://localhost:8080/"
        },
        "id": "nqKeLLxx4Rmd",
        "outputId": "6e28d844-4d5c-461f-8bd9-43b471e7e4f3"
      },
      "source": [
        "print(len(france_reviews))\n",
        "print(len(france_targets))"
      ],
      "execution_count": null,
      "outputs": [
        {
          "output_type": "stream",
          "name": "stdout",
          "text": [
            "30000\n",
            "30000\n"
          ]
        }
      ]
    },
    {
      "cell_type": "code",
      "metadata": {
        "id": "ImlPVRif4ed1"
      },
      "source": [
        "# Remove punctuaction\n",
        "for i in range(0, len(france_reviews)):\n",
        "  france_reviews[i] = ''.join([c for c in france_reviews[i] if c not in punctuation])"
      ],
      "execution_count": null,
      "outputs": []
    },
    {
      "cell_type": "code",
      "metadata": {
        "colab": {
          "base_uri": "https://localhost:8080/"
        },
        "id": "XeZBQl2FSgAq",
        "outputId": "8124ddd0-a352-44f7-ee4a-72f4f0f489f0"
      },
      "source": [
        "count=0\n",
        "for r in range(0, len(france_reviews)):\n",
        "  if len(france_reviews[r])<= 0:\n",
        "    print(r)\n",
        "    count=count+1\n",
        "\n",
        "print(count)"
      ],
      "execution_count": null,
      "outputs": [
        {
          "output_type": "stream",
          "name": "stdout",
          "text": [
            "0\n"
          ]
        }
      ]
    },
    {
      "cell_type": "code",
      "metadata": {
        "id": "dbIUWv5pNZDM"
      },
      "source": [
        "# Split words\n",
        "france_reviews = [[w for w in r.split(\" \") if len(w) > 0] for r in france_reviews if len(r) > 0]"
      ],
      "execution_count": null,
      "outputs": []
    },
    {
      "cell_type": "code",
      "metadata": {
        "colab": {
          "base_uri": "https://localhost:8080/"
        },
        "id": "xQgFIvw7crLa",
        "outputId": "c8df451b-e5da-440d-a2c4-8eddba87229b"
      },
      "source": [
        "# Print average review length\n",
        "review_lens_france = [len(r) for r in france_reviews]\n",
        "print(sum(review_lens_france)/len(review_lens_france))"
      ],
      "execution_count": null,
      "outputs": [
        {
          "output_type": "stream",
          "name": "stdout",
          "text": [
            "19.232166666666668\n"
          ]
        }
      ]
    },
    {
      "cell_type": "code",
      "metadata": {
        "id": "lcSg0VIBcrLb"
      },
      "source": [
        "# Build vocabulary\n",
        "# Start index = 1, we need 0 to pad sequences\n",
        "words_france = list(set([w for r in france_reviews for w in r]))\n",
        "vocab_france = {words_france[i]: i+1 for i in range(len(words_france))}"
      ],
      "execution_count": null,
      "outputs": []
    },
    {
      "cell_type": "code",
      "metadata": {
        "id": "P7l7lYCicrLc"
      },
      "source": [
        "# Convert reviews to word indexes\n",
        "france_reviews = [[vocab_france[w] for w in r] for r in france_reviews]"
      ],
      "execution_count": null,
      "outputs": []
    },
    {
      "cell_type": "code",
      "metadata": {
        "id": "fp7LsDiIcrLc"
      },
      "source": [
        "# Imports\n",
        "import torch\n",
        "import torch.nn as nn\n",
        "import torch.nn.functional as F\n",
        "from torch.utils.data import TensorDataset, DataLoader\n",
        "import urllib\n",
        "\n",
        "# Parameters\n",
        "seq_len = 20\n",
        "frac_train = 0.8\n",
        "frac_val = 0.1\n",
        "batch_size = 64"
      ],
      "execution_count": null,
      "outputs": []
    },
    {
      "cell_type": "code",
      "metadata": {
        "id": "2aP8C8iEcrLc"
      },
      "source": [
        "# Clip reviews to max seq_len words\n",
        "france_reviews = [r[:seq_len] for r in france_reviews]"
      ],
      "execution_count": null,
      "outputs": []
    },
    {
      "cell_type": "code",
      "metadata": {
        "colab": {
          "base_uri": "https://localhost:8080/"
        },
        "id": "hlSsBOLPcrLd",
        "outputId": "fdbb84cc-551e-4a97-d028-c05eaf44fae3"
      },
      "source": [
        "# Print average review length now\n",
        "review_lens = [len(r) for r in france_reviews]\n",
        "print(sum(review_lens)/len(review_lens))"
      ],
      "execution_count": null,
      "outputs": [
        {
          "output_type": "stream",
          "name": "stdout",
          "text": [
            "12.9727\n"
          ]
        }
      ]
    },
    {
      "cell_type": "code",
      "metadata": {
        "id": "kcvYOT3WcrLd"
      },
      "source": [
        "# Pad reviews shorter than seq_len\n",
        "france_reviews = [[0]*(seq_len - len(r)) + r for r in france_reviews]"
      ],
      "execution_count": null,
      "outputs": []
    },
    {
      "cell_type": "code",
      "metadata": {
        "colab": {
          "base_uri": "https://localhost:8080/"
        },
        "id": "jDNdw1-ucrLe",
        "outputId": "9b53d00a-8157-4ce3-a825-85c9909bac61"
      },
      "source": [
        "# Print average review length now\n",
        "review_lens = [len(r) for r in france_reviews]\n",
        "print(sum(review_lens)/len(review_lens))"
      ],
      "execution_count": null,
      "outputs": [
        {
          "output_type": "stream",
          "name": "stdout",
          "text": [
            "20.0\n"
          ]
        }
      ]
    },
    {
      "cell_type": "code",
      "metadata": {
        "colab": {
          "base_uri": "https://localhost:8080/"
        },
        "id": "nObKSUrecrLe",
        "outputId": "51f81b5f-bd43-4288-e344-3964993fc311"
      },
      "source": [
        "# Convert reviews to tensor\n",
        "data_france = torch.LongTensor(france_reviews)\n",
        "print(data_france.size())"
      ],
      "execution_count": null,
      "outputs": [
        {
          "output_type": "stream",
          "name": "stdout",
          "text": [
            "torch.Size([30000, 20])\n"
          ]
        }
      ]
    },
    {
      "cell_type": "code",
      "metadata": {
        "colab": {
          "base_uri": "https://localhost:8080/"
        },
        "id": "xiKIWvcMcrLf",
        "outputId": "eb875cdf-e5aa-4b7e-8305-6368e6bade79"
      },
      "source": [
        "# Load sentiments: less than 3 stars is negative (0), 4 and 5 are positive (1)   \n",
        "sentiments_france = [0 if f <= 3 else 1 for f in france_targets]\n",
        "\n",
        "print(len(sentiments_france))"
      ],
      "execution_count": null,
      "outputs": [
        {
          "output_type": "stream",
          "name": "stdout",
          "text": [
            "30000\n"
          ]
        }
      ]
    },
    {
      "cell_type": "code",
      "metadata": {
        "colab": {
          "base_uri": "https://localhost:8080/"
        },
        "id": "VOmJPGvocrLf",
        "outputId": "ade06db2-aea9-4e55-bfa9-690748762b9b"
      },
      "source": [
        "print(sentiments_france[10])"
      ],
      "execution_count": null,
      "outputs": [
        {
          "output_type": "stream",
          "name": "stdout",
          "text": [
            "1\n"
          ]
        }
      ]
    },
    {
      "cell_type": "code",
      "metadata": {
        "colab": {
          "base_uri": "https://localhost:8080/"
        },
        "id": "lhDiAqv4crLg",
        "outputId": "1e15f81c-3374-442f-bb67-2272773cf867"
      },
      "source": [
        "# Convert sentiments to tensor\n",
        "labels_france = torch.LongTensor(sentiments_france)\n",
        "labels_france.size()"
      ],
      "execution_count": null,
      "outputs": [
        {
          "output_type": "execute_result",
          "data": {
            "text/plain": [
              "torch.Size([30000])"
            ]
          },
          "metadata": {},
          "execution_count": 44
        }
      ]
    },
    {
      "cell_type": "code",
      "metadata": {
        "id": "7fP-HKEscrLg"
      },
      "source": [
        "# Shuffle dataset\n",
        "num_data = data_france.size(0)\n",
        "shuffle_idx = torch.randperm(num_data)\n",
        "data = data_france[shuffle_idx,:]\n",
        "labels = labels_france[shuffle_idx]"
      ],
      "execution_count": null,
      "outputs": []
    },
    {
      "cell_type": "code",
      "metadata": {
        "id": "tQcbbh2kcrLh"
      },
      "source": [
        "# Split training and test\n",
        "num_train = int(num_data*frac_train)\n",
        "num_val = int(num_data*frac_val)\n",
        "num_test = num_data - num_train - num_val\n",
        "train_data = data_france[:num_train,:]\n",
        "train_labels = labels_france[:num_train]\n",
        "val_data = data_france[num_train:num_train+num_val,:]\n",
        "val_labels = labels_france[num_train:num_train+num_val]\n",
        "test_data = data_france[num_train+num_val:,:]\n",
        "test_labels = labels_france[num_train+num_val:]"
      ],
      "execution_count": null,
      "outputs": []
    },
    {
      "cell_type": "code",
      "metadata": {
        "id": "mCFWB4aFcrLi"
      },
      "source": [
        "# Create datasets\n",
        "train_dataset_france = TensorDataset(train_data, train_labels)\n",
        "val_dataset_france = TensorDataset(val_data, val_labels)\n",
        "test_dataset_france = TensorDataset(test_data, test_labels)"
      ],
      "execution_count": null,
      "outputs": []
    },
    {
      "cell_type": "code",
      "metadata": {
        "id": "vWZyo0egcrLj"
      },
      "source": [
        "# Create loaders\n",
        "train_loader_france = DataLoader(train_dataset_france, batch_size=batch_size, shuffle=True,  drop_last=True)\n",
        "val_loader_france = DataLoader(val_dataset_france,   batch_size=batch_size, shuffle=False, drop_last=True)\n",
        "test_loader_france = DataLoader(test_dataset_france,  batch_size=batch_size, shuffle=False, drop_last=True)"
      ],
      "execution_count": null,
      "outputs": []
    },
    {
      "cell_type": "code",
      "metadata": {
        "id": "tUOH9O61ojKB"
      },
      "source": [
        "def merge_two_dicts(x, y):\n",
        "    z = x.copy()   # start with keys and values of x\n",
        "    z.update(y)    # modifies z with keys and values of y\n",
        "    return z"
      ],
      "execution_count": null,
      "outputs": []
    },
    {
      "cell_type": "code",
      "metadata": {
        "id": "E-GKBA73hr3m"
      },
      "source": [
        "# Define model\n",
        "class Model(nn.Module):\n",
        "    \n",
        "    def __init__(self, embed_size, rnn_size, vocab):\n",
        "        # Call parent constructor\n",
        "        super().__init__()\n",
        "        # Store values\n",
        "        self.rnn_size = rnn_size\n",
        "        # Define modules\n",
        "        self.embedding = nn.Embedding(len(vocab)+1, embed_size)\n",
        "        self.rnn = nn.LSTMCell(embed_size, rnn_size)\n",
        "        self.output = nn.Linear(rnn_size, 2)\n",
        "        \n",
        "    def forward(self, x):\n",
        "        # Embed data\n",
        "        x = self.embedding(x)\n",
        "        # Initialize state\n",
        "        c = x.new_zeros(x.shape[0], self.rnn_size)\n",
        "        h = x.new_zeros(x.shape[0], self.rnn_size)\n",
        "        # Input is: BxTxF\n",
        "        # Process each time step\n",
        "        for t in range(x.shape[1]):\n",
        "            # Input at time t\n",
        "            x_t = x[:,t,:]\n",
        "            # Forward RNN and get new state\n",
        "            h,c = self.rnn(x_t, (h, c))\n",
        "        # Classify final state\n",
        "        x = self.output(h)\n",
        "        return x"
      ],
      "execution_count": null,
      "outputs": []
    },
    {
      "cell_type": "code",
      "metadata": {
        "id": "ixgv-v93o2pd"
      },
      "source": [
        "vocab = merge_two_dicts(vocab_usa, vocab_france)"
      ],
      "execution_count": null,
      "outputs": []
    },
    {
      "cell_type": "code",
      "metadata": {
        "id": "PLmQOe_2vYCB"
      },
      "source": [
        "from collections import OrderedDict\n",
        "SUM = lambda x,y : x+y\n",
        "combo_fn = SUM"
      ],
      "execution_count": null,
      "outputs": []
    },
    {
      "cell_type": "code",
      "metadata": {
        "id": "A_h8tHwbhsbd"
      },
      "source": [
        "# Define model\n",
        "class ModelSUM(nn.Module):\n",
        "    \n",
        "    def __init__(self, embed_size, rnn_size, vocab, model1, model2):\n",
        "        # Call parent constructor\n",
        "        super().__init__()\n",
        "        # Store values\n",
        "        self.rnn_size = rnn_size\n",
        "        # Define modules\n",
        "        self.embedding = nn.Embedding(len(vocab)+1, embed_size)\n",
        "        self.rnn = nn.LSTMCell(embed_size, rnn_size)\n",
        "        self.output = nn.Linear(rnn_size, 2)\n",
        "\n",
        "        summed_state_dict = OrderedDict()\n",
        "        for key in self.state_dict():\n",
        "          if key.find('rnn') >=0:\n",
        "            summed_state_dict[key] = combo_fn(model1.state_dict()[key],model2.state_dict()[key])\n",
        "          else:\n",
        "            summed_state_dict[key] = self.state_dict()[key]\n",
        "        self.load_state_dict(summed_state_dict)\n",
        "        \n",
        "    def forward(self, x):\n",
        "        # Embed data\n",
        "        x = self.embedding(x)\n",
        "        # Initialize state\n",
        "        c = x.new_zeros(x.shape[0], self.rnn_size)\n",
        "        h = x.new_zeros(x.shape[0], self.rnn_size)\n",
        "        # Input is: BxTxF\n",
        "        # Process each time step\n",
        "        for t in range(x.shape[1]):\n",
        "            # Input at time t\n",
        "            x_t = x[:,t,:]\n",
        "            # Forward RNN and get new state\n",
        "            h,c = self.rnn(x_t, (h, c))\n",
        "        # Classify final state\n",
        "        x = self.output(h)\n",
        "        return x"
      ],
      "execution_count": null,
      "outputs": []
    },
    {
      "cell_type": "code",
      "metadata": {
        "id": "HloUbLQR3bBt"
      },
      "source": [
        "# Model parameters\n",
        "embed_size = 1024\n",
        "rnn_size = 512"
      ],
      "execution_count": null,
      "outputs": []
    },
    {
      "cell_type": "code",
      "metadata": {
        "id": "jbaAqOtZ3bBu"
      },
      "source": [
        "# Create model\n",
        "model_usa = Model(embed_size, rnn_size, vocab_usa)\n",
        "model_usa = model_usa.to(dev)"
      ],
      "execution_count": null,
      "outputs": []
    },
    {
      "cell_type": "code",
      "metadata": {
        "colab": {
          "base_uri": "https://localhost:8080/"
        },
        "id": "nNW4SzTT31U2",
        "outputId": "d517ff45-7473-4cca-f0c2-ab4cdb9b4388"
      },
      "source": [
        "#load model\n",
        "model_name = 'trustpilot_usa.pt'\n",
        "path = F\"/content/drive/My Drive/trustpilot/{model_name}\" \n",
        "model_usa.load_state_dict(torch.load(path))\n"
      ],
      "execution_count": null,
      "outputs": [
        {
          "output_type": "execute_result",
          "data": {
            "text/plain": [
              "<All keys matched successfully>"
            ]
          },
          "metadata": {},
          "execution_count": 56
        }
      ]
    },
    {
      "cell_type": "code",
      "metadata": {
        "id": "3zXbgA0_icjH"
      },
      "source": [
        "# Create model\n",
        "model_france = Model(embed_size, rnn_size, vocab_france)\n",
        "model_france = model_france.to(dev)"
      ],
      "execution_count": null,
      "outputs": []
    },
    {
      "cell_type": "code",
      "metadata": {
        "colab": {
          "base_uri": "https://localhost:8080/"
        },
        "id": "myIt4Tb3icjI",
        "outputId": "0c1e6748-d7e0-4071-cd8f-81ef2baa499a"
      },
      "source": [
        "#load model\n",
        "model_name = 'trustpilot_france.pt'\n",
        "path = F\"/content/drive/My Drive/trustpilot/{model_name}\" \n",
        "model_france.load_state_dict(torch.load(path))\n"
      ],
      "execution_count": null,
      "outputs": [
        {
          "output_type": "execute_result",
          "data": {
            "text/plain": [
              "<All keys matched successfully>"
            ]
          },
          "metadata": {},
          "execution_count": 58
        }
      ]
    },
    {
      "cell_type": "code",
      "metadata": {
        "id": "S6Z3P-rKijmo"
      },
      "source": [
        "# Create model\n",
        "model_sum = ModelSUM(embed_size, rnn_size, vocab, model_usa, model_france)\n",
        "model_sum = model_sum.to(dev)"
      ],
      "execution_count": null,
      "outputs": []
    },
    {
      "cell_type": "code",
      "metadata": {
        "id": "CO2Y9qGDi5Vt"
      },
      "source": [
        "import numpy as np\n",
        "\n",
        "def eval_model(model, data_loader):\n",
        "    model.eval() # Set model to eval mode\n",
        "    true_preds, num_preds = 0., 0.\n",
        "\n",
        "    with torch.no_grad(): # Deactivate gradients for the following code\n",
        "        classes = {0, 1}\n",
        "        count_zero = 0\n",
        "        count_one = 0\n",
        "        true_zero = 0\n",
        "        true_one = 0\n",
        "        for data_inputs, data_labels in data_loader:\n",
        "\n",
        "            # Determine prediction of model on dev set\n",
        "            preds = model(data_inputs.cuda())\n",
        "            preds = preds.argmax(1)\n",
        "\n",
        "            # Keep records of predictions for the accuracy metric (true_preds=TP+TN, num_preds=TP+TN+FP+FN)\n",
        "            true_preds += (preds == data_labels.cuda()).sum()\n",
        "            num_preds += data_labels.shape[0]\n",
        "            \n",
        "            for i in range(0, len(data_labels)):\n",
        "              if data_labels[i] == 0:\n",
        "                count_zero = count_zero+1\n",
        "                if preds[i]==data_labels[i]:\n",
        "                  true_zero = true_zero +1\n",
        "\n",
        "              if data_labels[i] == 1:\n",
        "                count_one = count_one+1\n",
        "                if preds[i]==data_labels[i]:\n",
        "                  true_one = true_one +1\n",
        "\n",
        "    acc = true_preds / num_preds\n",
        "    \n",
        "    print(f'Class: {min(classes)}')\n",
        "    print(f'Accuracy:{true_zero}/{count_zero}\\n')\n",
        "    print(f'Class: {max(classes)}')\n",
        "    print(f'Accuracy:{true_one}/{count_one}\\n')\n",
        "    print(\"Accuracy of the model: %4.2f%%\" % (100.0*acc))"
      ],
      "execution_count": null,
      "outputs": []
    },
    {
      "cell_type": "code",
      "metadata": {
        "colab": {
          "base_uri": "https://localhost:8080/"
        },
        "id": "ZwcVq5HlrveO",
        "outputId": "8c83e0f8-7b11-4402-8d52-8ab8ac884c41"
      },
      "source": [
        "eval_model(model_sum, test_loader_usa)"
      ],
      "execution_count": null,
      "outputs": [
        {
          "output_type": "stream",
          "name": "stdout",
          "text": [
            "Class: 0\n",
            "Accuracy:53/263\n",
            "\n",
            "Class: 1\n",
            "Accuracy:2218/2681\n",
            "\n",
            "Accuracy of the model: 77.14%\n"
          ]
        }
      ]
    },
    {
      "cell_type": "code",
      "metadata": {
        "colab": {
          "base_uri": "https://localhost:8080/"
        },
        "id": "mVdk9MARsR3u",
        "outputId": "960d364a-a438-4116-abb0-63eef7bd6ebe"
      },
      "source": [
        "eval_model(model_sum, test_loader_france)"
      ],
      "execution_count": null,
      "outputs": [
        {
          "output_type": "stream",
          "name": "stdout",
          "text": [
            "Class: 0\n",
            "Accuracy:100/299\n",
            "\n",
            "Class: 1\n",
            "Accuracy:1844/2645\n",
            "\n",
            "Accuracy of the model: 66.03%\n"
          ]
        }
      ]
    }
  ]
}